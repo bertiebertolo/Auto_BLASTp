{
 "cells": [
  {
   "cell_type": "code",
   "execution_count": 1,
   "metadata": {},
   "outputs": [
    {
     "name": "stdout",
     "output_type": "stream",
     "text": [
      "Help on function qblast in module Bio.Blast.NCBIWWW:\n",
      "\n",
      "qblast(program, database, sequence, url_base='https://blast.ncbi.nlm.nih.gov/Blast.cgi', auto_format=None, composition_based_statistics=None, db_genetic_code=None, endpoints=None, entrez_query='(none)', expect=10.0, filter=None, gapcosts=None, genetic_code=None, hitlist_size=50, i_thresh=None, layout=None, lcase_mask=None, matrix_name=None, nucl_penalty=None, nucl_reward=None, other_advanced=None, perc_ident=None, phi_pattern=None, query_file=None, query_believe_defline=None, query_from=None, query_to=None, searchsp_eff=None, service=None, threshold=None, ungapped_alignment=None, word_size=None, short_query=None, alignments=500, alignment_view=None, descriptions=500, entrez_links_new_window=None, expect_low=None, expect_high=None, format_entrez_query=None, format_object=None, format_type='XML', ncbi_gi=None, results_file=None, show_overview=None, megablast=None, template_type=None, template_length=None, username='blast', password=None)\n",
      "    BLAST search using NCBI's QBLAST server or a cloud service provider.\n",
      "    \n",
      "    Supports all parameters of the old qblast API for Put and Get.\n",
      "    \n",
      "    Please note that NCBI uses the new Common URL API for BLAST searches\n",
      "    on the internet (http://ncbi.github.io/blast-cloud/dev/api.html). Thus,\n",
      "    some of the parameters used by this function are not (or are no longer)\n",
      "    officially supported by NCBI. Although they are still functioning, this\n",
      "    may change in the future.\n",
      "    \n",
      "    The Common URL API (http://ncbi.github.io/blast-cloud/dev/api.html) allows\n",
      "    doing BLAST searches on cloud servers. To use this feature, please set\n",
      "    ``url_base='http://host.my.cloud.service.provider.com/cgi-bin/blast.cgi'``\n",
      "    and ``format_object='Alignment'``. For more details, please see\n",
      "    https://blast.ncbi.nlm.nih.gov/Blast.cgi?PAGE_TYPE=BlastDocs&DOC_TYPE=CloudBlast\n",
      "    \n",
      "    Some useful parameters:\n",
      "    \n",
      "     - program        blastn, blastp, blastx, tblastn, or tblastx (lower case)\n",
      "     - database       Which database to search against (e.g. \"nr\").\n",
      "     - sequence       The sequence to search.\n",
      "     - ncbi_gi        TRUE/FALSE whether to give 'gi' identifier.\n",
      "     - descriptions   Number of descriptions to show.  Def 500.\n",
      "     - alignments     Number of alignments to show.  Def 500.\n",
      "     - expect         An expect value cutoff.  Def 10.0.\n",
      "     - matrix_name    Specify an alt. matrix (PAM30, PAM70, BLOSUM80, BLOSUM45).\n",
      "     - filter         \"none\" turns off filtering.  Default no filtering\n",
      "     - format_type    \"HTML\", \"Text\", \"ASN.1\", or \"XML\".  Def. \"XML\".\n",
      "     - entrez_query   Entrez query to limit Blast search\n",
      "     - hitlist_size   Number of hits to return. Default 50\n",
      "     - megablast      TRUE/FALSE whether to use MEga BLAST algorithm (blastn only)\n",
      "     - short_query    TRUE/FALSE whether to adjust the search parameters for a\n",
      "                      short query sequence. Note that this will override\n",
      "                      manually set parameters like word size and e value. Turns\n",
      "                      off when sequence length is > 30 residues. Default: None.\n",
      "     - service        plain, psi, phi, rpsblast, megablast (lower case)\n",
      "    \n",
      "    This function does no checking of the validity of the parameters\n",
      "    and passes the values to the server as is.  More help is available at:\n",
      "    https://ncbi.github.io/blast-cloud/dev/api.html\n",
      "\n"
     ]
    }
   ],
   "source": [
    "#just loadingblast and seeing if it is correctly installed  \n",
    "\n",
    "from Bio.Blast import NCBIWWW\n",
    "help(NCBIWWW.qblast)"
   ]
  },
  {
   "cell_type": "markdown",
   "metadata": {},
   "source": [
    "Check if Protein names are valid"
   ]
  },
  {
   "cell_type": "code",
   "execution_count": 7,
   "metadata": {},
   "outputs": [
    {
     "name": "stdout",
     "output_type": "stream",
     "text": [
      "Missing protein sequence for: {'Gene name': 'Test1234545', 'Gene ID': 'testtestest', 'Category': 'test test. Test', 'Species': 'Drosophila melanogaster'}\n"
     ]
    }
   ],
   "source": [
    "from Bio import Entrez\n",
    "import pandas as pd\n",
    "\n",
    "# Load Excel file and extract gene names and species\n",
    "df_path = \"Dros_gene_names_full.xlsx\"\n",
    "df = pd.read_excel(df_path, sheet_name='Dros_gene_names_full', header=0)\n",
    "\n",
    "# Drop rows with any NaN values\n",
    "df = df.dropna()\n",
    "\n",
    "# Set email for NCBI\n",
    "Entrez.email = \"albertothornton@outlook.com\"\n",
    "\n",
    "# Function to print details for genes with no protein sequences found\n",
    "def print_missing_protein_sequences(df):\n",
    "    for index, row in df.iterrows():\n",
    "        gene_ID = row['Gene ID']\n",
    "        species = row['Species']  # Assume 'Species' is the column name for species information\n",
    "\n",
    "        try:\n",
    "            # Search for the protein related to the gene in the specified species\n",
    "            query = f\"{gene_ID}[Gene] AND {species}[Organism]\"\n",
    "            search_handle = Entrez.esearch(db=\"protein\", term=query)\n",
    "            search_record = Entrez.read(search_handle)\n",
    "            search_handle.close()\n",
    "\n",
    "            # Print gene-species pairs where no protein sequences are found\n",
    "            if not search_record[\"IdList\"]:\n",
    "                # Print the full row details for missing protein sequences\n",
    "                print(f\"Missing protein sequence for: {row.to_dict()}\")\n",
    "        except Exception as e:\n",
    "            print(f\"Error processing {gene_ID} in {species}: {str(e)}\")\n",
    "\n",
    "# Run the function to print missing proteins\n",
    "print_missing_protein_sequences(df)\n"
   ]
  },
  {
   "cell_type": "markdown",
   "metadata": {},
   "source": [
    "Load and Download all genes from NCBI library "
   ]
  },
  {
   "cell_type": "code",
   "execution_count": null,
   "metadata": {},
   "outputs": [
    {
     "name": "stdout",
     "output_type": "stream",
     "text": [
      "Processing: Gene=Ank2_(Ankyrin_2), Species=Drosophila_ananassae\n",
      "Processing: Gene=Ank2_(Ankyrin_2), Species=Drosophila_erecta\n",
      "Processing: Gene=Ank2_(Ankyrin_2), Species=Drosophila_mauritiana\n",
      "Processing: Gene=Ank2_(Ankyrin_2), Species=Drosophila_melanogaster\n",
      "Processing: Gene=Ank2_(Ankyrin_2), Species=Drosophila_simulans\n",
      "Processing: Gene=Ank2_(Ankyrin_2), Species=Drosophila_teissieri\n",
      "Processing: Gene=Ank2_(Ankyrin_2), Species=Drosophila_yakuba\n",
      "Processing: Gene=Arr2_(Arrestin_2), Species=Drosophila_ananassae\n",
      "Processing: Gene=Arr2_(Arrestin_2), Species=Drosophila_erecta\n",
      "Processing: Gene=Arr2_(Arrestin_2), Species=Drosophila_mauritiana\n",
      "Processing: Gene=Arr2_(Arrestin_2), Species=Drosophila_melanogaster\n",
      "Processing: Gene=Arr2_(Arrestin_2), Species=Drosophila_simulans\n",
      "Processing: Gene=Arr2_(Arrestin_2), Species=Drosophila_teissieri\n",
      "Processing: Gene=Arr2_(Arrestin_2), Species=Drosophila_yakuba\n",
      "Processing: Gene=Bmcp, Species=Drosophila_ananassae\n",
      "Processing: Gene=Bmcp, Species=Drosophila_erecta\n",
      "Processing: Gene=Bmcp, Species=Drosophila_mauritiana\n",
      "Processing: Gene=Bmcp, Species=Drosophila_melanogaster\n",
      "Processing: Gene=Bmcp, Species=Drosophila_simulans\n",
      "Processing: Gene=Bmcp, Species=Drosophila_teissieri\n",
      "Processing: Gene=Bmcp, Species=Drosophila_yakuba\n",
      "Processing: Gene=CG14921, Species=Drosophila_ananassae\n",
      "Processing: Gene=CG14921, Species=Drosophila_erecta\n",
      "Processing: Gene=CG14921, Species=Drosophila_mauritiana\n",
      "Processing: Gene=CG14921, Species=Drosophila_melanogaster\n",
      "Processing: Gene=CG14921, Species=Drosophila_simulans\n",
      "Processing: Gene=CG14921, Species=Drosophila_teissieri\n",
      "Processing: Gene=CG14921, Species=Drosophila_yakuba\n",
      "Processing: Gene=CG8086, Species=Drosophila_ananassae\n",
      "Processing: Gene=CG8086, Species=Drosophila_erecta\n",
      "Processing: Gene=CG8086, Species=Drosophila_melanogaster\n",
      "Processing: Gene=CG8086, Species=Drosophila_simulans\n",
      "Processing: Gene=CG8086, Species=Drosophila_yakuba\n",
      "Processing: Gene=CG9313, Species=Drosophila_ananassae\n",
      "Processing: Gene=CG9313, Species=Drosophila_erecta\n",
      "Processing: Gene=CG9313, Species=Drosophila_mauritiana\n",
      "Processing: Gene=CG9313, Species=Drosophila_melanogaster\n",
      "Processing: Gene=CG9313, Species=Drosophila_simulans\n",
      "Processing: Gene=CG9313, Species=Drosophila_teissieri\n",
      "Processing: Gene=CG9313, Species=Drosophila_yakuba\n",
      "Processing: Gene=Cam_(Calmodulin), Species=Drosophila_ananassae\n",
      "Processing: Gene=Cam_(Calmodulin), Species=Drosophila_erecta\n",
      "Processing: Gene=Cam_(Calmodulin), Species=Drosophila_mauritiana\n",
      "Processing: Gene=Cam_(Calmodulin), Species=Drosophila_melanogaster\n",
      "Processing: Gene=Cam_(Calmodulin), Species=Drosophila_simulans\n",
      "Processing: Gene=Cam_(Calmodulin), Species=Drosophila_teissieri\n",
      "Processing: Gene=Cam_(Calmodulin), Species=Drosophila_yakuba\n",
      "Processing: Gene=DCX-EMAP_(Doublecortin-domain-containing_echinoderm-microtubule-associated_protein), Species=Drosophila_ananassae\n",
      "Processing: Gene=DCX-EMAP_(Doublecortin-domain-containing_echinoderm-microtubule-associated_protein), Species=Drosophila_erecta\n",
      "Processing: Gene=DCX-EMAP_(Doublecortin-domain-containing_echinoderm-microtubule-associated_protein), Species=Drosophila_mauritiana\n",
      "Processing: Gene=DCX-EMAP_(Doublecortin-domain-containing_echinoderm-microtubule-associated_protein), Species=Drosophila_melanogaster\n",
      "Processing: Gene=DCX-EMAP_(Doublecortin-domain-containing_echinoderm-microtubule-associated_protein), Species=Drosophila_simulans\n",
      "Processing: Gene=DCX-EMAP_(Doublecortin-domain-containing_echinoderm-microtubule-associated_protein), Species=Drosophila_teissieri\n",
      "Processing: Gene=DCX-EMAP_(Doublecortin-domain-containing_echinoderm-microtubule-associated_protein), Species=Drosophila_yakuba\n",
      "Processing: Gene=Dhc1_(Dynein_heavy_chain_1), Species=Drosophila_ananassae\n"
     ]
    }
   ],
   "source": [
    "import os  # For directories\n",
    "from Bio import Entrez  # For accessing the NCBI database\n",
    "import pandas as pd  # For handling the Excel file\n",
    "import time  # To add delays between requests\n",
    "\n",
    "# Load Excel file and extract gene names, species, and IDs\n",
    "df_path = \"Dros_gene_names_full.xlsx\"  # Update with the correct file name if needed\n",
    "sheet_name = 'Dros_gene_names_full'  # Specify the sheet name\n",
    "\n",
    "df = pd.read_excel(df_path, sheet_name=0)\n",
    "\n",
    "# Drop rows with any missing values\n",
    "df = df.dropna()\n",
    "\n",
    "# Set email for NCBI\n",
    "Entrez.email = \"albertothornton@outlook.com\"  # Please enter your email\n",
    "\n",
    "# Define output directory for the downloaded files\n",
    "output_dir = \"Protein_FASTA_Files\"  # You can change this name; this is just an example\n",
    "os.makedirs(output_dir, exist_ok=True)  # Creates the directory if it does not exist\n",
    "\n",
    "# Function to clear the console (works for most environments)\n",
    "def clear_console():\n",
    "    os.system('cls' if os.name == 'nt' else 'clear')\n",
    "\n",
    "# Function to download protein sequences grouped by Gene Name and save species-specific combined files\n",
    "def download_and_combine_species_files(df):\n",
    "    not_found_proteins = []  # List to track protein sequences that were not found\n",
    "\n",
    "    for gene_name, group in df.groupby('Gene name'):  # Define the column with the general gene names\n",
    "        # Replace spaces and special characters in gene names for directory names; this is so the names can be easily used later in the BLAST code\n",
    "        safe_gene_name = gene_name.replace(\" \", \"_\").replace(\"/\", \"_\")\n",
    "        \n",
    "        # Create a directory for the current Gene Name\n",
    "        gene_dir = os.path.join(output_dir, safe_gene_name)\n",
    "        os.makedirs(gene_dir, exist_ok=True)\n",
    "\n",
    "        for species, species_group in group.groupby('Species'):  # Specifies species orthologs to be downloaded based on Species column\n",
    "            # Replace spaces and special characters in species names for file names\n",
    "            safe_species_name = species.replace(\" \", \"_\").replace(\"/\", \"_\")  # Sanitize gene name\n",
    "            \n",
    "            # Path for the combined FASTA file for the current species\n",
    "            combined_fasta_path = os.path.join(gene_dir, f\"{safe_species_name}_combined.fasta\")  # Output file path\n",
    "            \n",
    "            try:\n",
    "                # Print a message for current processing\n",
    "                print(f\"Processing: Gene={safe_gene_name}, Species={safe_species_name}\")\n",
    "\n",
    "                with open(combined_fasta_path, \"w\") as combined_fasta_file:  # Open file to write the sequence\n",
    "                    for index, row in species_group.iterrows():\n",
    "                        gene_id = row['Gene ID']  # Change this with Gene ID column\n",
    "\n",
    "                        # Retry mechanism for NCBI requests since sometimes it times out\n",
    "                        retries = 3\n",
    "                        for attempt in range(retries):\n",
    "                            try:\n",
    "                                # Search for the protein related to the gene in the specified species\n",
    "                                search_term = f\"{gene_id}[Gene] AND {species}[Organism]\"\n",
    "                                search_handle = Entrez.esearch(db=\"protein\", term=search_term)\n",
    "                                search_record = Entrez.read(search_handle)\n",
    "                                search_handle.close()\n",
    "\n",
    "                                # Check if any protein sequences were found\n",
    "                                if search_record[\"IdList\"]:\n",
    "                                    for sequence_id in search_record[\"IdList\"]:\n",
    "                                        fetch_handle = Entrez.efetch(db=\"protein\", id=sequence_id, rettype=\"fasta\", retmode=\"text\")\n",
    "                                        sequence_data = fetch_handle.read()\n",
    "                                        fetch_handle.close()\n",
    "\n",
    "                                        # Write sequence data to the combined file\n",
    "                                        combined_fasta_file.write(sequence_data)\n",
    "                                    break  # Exit retry loop if successful\n",
    "                                else:\n",
    "                                    # Add to not-found list\n",
    "                                    not_found_proteins.append((gene_id, species))\n",
    "                                    print(f\"No protein sequences found for {gene_id} in {species}\")\n",
    "                                    break  # Exit retry loop if no sequences are found\n",
    "                            except Exception as e:\n",
    "                                if attempt < retries - 1:\n",
    "                                    print(f\"Retrying ({attempt + 1}/{retries}) for {gene_id} in {species}...\")\n",
    "                                    time.sleep(5)  # Wait 5 seconds before retrying to avoid timing out\n",
    "                                else:\n",
    "                                    print(f\"Failed after {retries} attempts for {gene_id} in {species}\")\n",
    "                                    raise e  # Raise the exception after all retries fail\n",
    "            except Exception as e:\n",
    "                print(f\"Error retrieving or combining data for {species} in gene {gene_name}: {e}\")  # In case sequences were not found\n",
    "\n",
    "    # Clear console before printing the summary\n",
    "    clear_console()\n",
    "\n",
    "    # Print all proteins not found\n",
    "    print(\"\\nSummary: Proteins Not Found\")\n",
    "    if not_found_proteins:\n",
    "        for gene_id, species in not_found_proteins:\n",
    "            print(f\"Gene ID: {gene_id}, Species: {species}\")\n",
    "    else:\n",
    "        print(\"All proteins were successfully retrieved!\")\n",
    "\n",
    "    print(\"All genes and species processed successfully!\")\n",
    "\n",
    "# Run the function to download and combine protein sequences into species-specific files for each gene group\n",
    "download_and_combine_species_files(df)\n"
   ]
  },
  {
   "cell_type": "markdown",
   "metadata": {},
   "source": [
    "Create a BLAST database"
   ]
  },
  {
   "cell_type": "code",
   "execution_count": null,
   "metadata": {},
   "outputs": [
    {
     "name": "stdout",
     "output_type": "stream",
     "text": [
      "\n",
      "\n",
      "Building a new DB, current time: 11/19/2024 11:46:21\n",
      "New DB name:   /Users/albertothornton/Desktop/Kamikouchi lab/Blast Code and data/blast_databases/sosie/Drosophila_melanogaster_combined\n",
      "New DB title:  Protein_FASTA_Files/sosie/Drosophila_melanogaster_combined.fasta\n",
      "Sequence type: Protein\n",
      "Keep MBits: T\n",
      "Maximum file size: 1000000000B\n",
      "Adding sequences from FASTA; added 14 sequences in 0.00563121 seconds.\n",
      "\n",
      "\n",
      "Building a new DB, current time: 11/19/2024 11:46:21\n",
      "New DB name:   /Users/albertothornton/Desktop/Kamikouchi lab/Blast Code and data/blast_databases/sosie/Drosophila_teissieri_combined\n",
      "New DB title:  Protein_FASTA_Files/sosie/Drosophila_teissieri_combined.fasta\n",
      "Sequence type: Protein\n",
      "Keep MBits: T\n",
      "Maximum file size: 1000000000B\n",
      "Adding sequences from FASTA; added 1 sequences in 0.000642061 seconds.\n",
      "\n",
      "\n",
      "Building a new DB, current time: 11/19/2024 11:46:21\n",
      "New DB name:   /Users/albertothornton/Desktop/Kamikouchi lab/Blast Code and data/blast_databases/sosie/Drosophila_yakuba_combined\n",
      "New DB title:  Protein_FASTA_Files/sosie/Drosophila_yakuba_combined.fasta\n",
      "Sequence type: Protein\n",
      "Keep MBits: T\n",
      "Maximum file size: 1000000000B\n",
      "Adding sequences from FASTA; added 1 sequences in 0.000396967 seconds.\n",
      "\n",
      "\n",
      "Building a new DB, current time: 11/19/2024 11:46:21\n",
      "New DB name:   /Users/albertothornton/Desktop/Kamikouchi lab/Blast Code and data/blast_databases/sosie/Drosophila_ananassae_combined\n",
      "New DB title:  Protein_FASTA_Files/sosie/Drosophila_ananassae_combined.fasta\n",
      "Sequence type: Protein\n",
      "Keep MBits: T\n",
      "Maximum file size: 1000000000B\n",
      "Adding sequences from FASTA; added 4 sequences in 0.000984907 seconds.\n",
      "\n",
      "\n",
      "Building a new DB, current time: 11/19/2024 11:46:21\n",
      "New DB name:   /Users/albertothornton/Desktop/Kamikouchi lab/Blast Code and data/blast_databases/sosie/Drosophila_erecta_combined\n",
      "New DB title:  Protein_FASTA_Files/sosie/Drosophila_erecta_combined.fasta\n",
      "Sequence type: Protein\n",
      "Keep MBits: T\n",
      "Maximum file size: 1000000000B\n",
      "Adding sequences from FASTA; added 2 sequences in 0.000895977 seconds.\n",
      "\n",
      "\n",
      "Building a new DB, current time: 11/19/2024 11:46:21\n",
      "New DB name:   /Users/albertothornton/Desktop/Kamikouchi lab/Blast Code and data/blast_databases/sosie/Drosophila_simulans_combined\n",
      "New DB title:  Protein_FASTA_Files/sosie/Drosophila_simulans_combined.fasta\n",
      "Sequence type: Protein\n",
      "Keep MBits: T\n",
      "Maximum file size: 1000000000B\n",
      "Adding sequences from FASTA; added 1 sequences in 0.000466824 seconds.\n",
      "\n",
      "\n",
      "Building a new DB, current time: 11/19/2024 11:46:21\n",
      "New DB name:   /Users/albertothornton/Desktop/Kamikouchi lab/Blast Code and data/blast_databases/sosie/Drosophila_mauritiana_combined\n",
      "New DB title:  Protein_FASTA_Files/sosie/Drosophila_mauritiana_combined.fasta\n",
      "Sequence type: Protein\n",
      "Keep MBits: T\n",
      "Maximum file size: 1000000000B\n",
      "Adding sequences from FASTA; added 1 sequences in 0.000440121 seconds.\n",
      "\n",
      "\n",
      "Building a new DB, current time: 11/19/2024 11:46:22\n",
      "New DB name:   /Users/albertothornton/Desktop/Kamikouchi lab/Blast Code and data/blast_databases/nompB_(no_mechanoreceptor_potential_B)/Drosophila_melanogaster_combined\n",
      "New DB title:  Protein_FASTA_Files/nompB_(no_mechanoreceptor_potential_B)/Drosophila_melanogaster_combined.fasta\n",
      "Sequence type: Protein\n",
      "Keep MBits: T\n",
      "Maximum file size: 1000000000B\n",
      "Adding sequences from FASTA; added 4 sequences in 0.00146389 seconds.\n",
      "\n",
      "\n",
      "Building a new DB, current time: 11/19/2024 11:46:22\n",
      "New DB name:   /Users/albertothornton/Desktop/Kamikouchi lab/Blast Code and data/blast_databases/nompB_(no_mechanoreceptor_potential_B)/Drosophila_teissieri_combined\n",
      "New DB title:  Protein_FASTA_Files/nompB_(no_mechanoreceptor_potential_B)/Drosophila_teissieri_combined.fasta\n",
      "Sequence type: Protein\n",
      "Keep MBits: T\n",
      "Maximum file size: 1000000000B\n",
      "Adding sequences from FASTA; added 4 sequences in 0.00109911 seconds.\n",
      "\n",
      "\n",
      "Building a new DB, current time: 11/19/2024 11:46:22\n",
      "New DB name:   /Users/albertothornton/Desktop/Kamikouchi lab/Blast Code and data/blast_databases/nompB_(no_mechanoreceptor_potential_B)/Drosophila_yakuba_combined\n",
      "New DB title:  Protein_FASTA_Files/nompB_(no_mechanoreceptor_potential_B)/Drosophila_yakuba_combined.fasta\n",
      "Sequence type: Protein\n",
      "Keep MBits: T\n",
      "Maximum file size: 1000000000B\n",
      "Adding sequences from FASTA; added 9 sequences in 0.00127101 seconds.\n",
      "\n",
      "\n",
      "Building a new DB, current time: 11/19/2024 11:46:22\n",
      "New DB name:   /Users/albertothornton/Desktop/Kamikouchi lab/Blast Code and data/blast_databases/nompB_(no_mechanoreceptor_potential_B)/Drosophila_ananassae_combined\n",
      "New DB title:  Protein_FASTA_Files/nompB_(no_mechanoreceptor_potential_B)/Drosophila_ananassae_combined.fasta\n",
      "Sequence type: Protein\n",
      "Keep MBits: T\n",
      "Maximum file size: 1000000000B\n",
      "Adding sequences from FASTA; added 1 sequences in 0.000398159 seconds.\n",
      "\n",
      "\n",
      "Building a new DB, current time: 11/19/2024 11:46:22\n",
      "New DB name:   /Users/albertothornton/Desktop/Kamikouchi lab/Blast Code and data/blast_databases/nompB_(no_mechanoreceptor_potential_B)/Drosophila_erecta_combined\n",
      "New DB title:  Protein_FASTA_Files/nompB_(no_mechanoreceptor_potential_B)/Drosophila_erecta_combined.fasta\n",
      "Sequence type: Protein\n",
      "Keep MBits: T\n",
      "Maximum file size: 1000000000B\n",
      "Adding sequences from FASTA; added 2 sequences in 0.000879049 seconds.\n",
      "\n",
      "\n",
      "Building a new DB, current time: 11/19/2024 11:46:22\n",
      "New DB name:   /Users/albertothornton/Desktop/Kamikouchi lab/Blast Code and data/blast_databases/nompB_(no_mechanoreceptor_potential_B)/Drosophila_simulans_combined\n",
      "New DB title:  Protein_FASTA_Files/nompB_(no_mechanoreceptor_potential_B)/Drosophila_simulans_combined.fasta\n",
      "Sequence type: Protein\n",
      "Keep MBits: T\n",
      "Maximum file size: 1000000000B\n",
      "Adding sequences from FASTA; added 7 sequences in 0.00117898 seconds.\n",
      "\n",
      "\n",
      "Building a new DB, current time: 11/19/2024 11:46:22\n",
      "New DB name:   /Users/albertothornton/Desktop/Kamikouchi lab/Blast Code and data/blast_databases/nompB_(no_mechanoreceptor_potential_B)/Drosophila_mauritiana_combined\n",
      "New DB title:  Protein_FASTA_Files/nompB_(no_mechanoreceptor_potential_B)/Drosophila_mauritiana_combined.fasta\n",
      "Sequence type: Protein\n",
      "Keep MBits: T\n",
      "Maximum file size: 1000000000B\n",
      "Adding sequences from FASTA; added 6 sequences in 0.00116897 seconds.\n",
      "\n",
      "\n",
      "Building a new DB, current time: 11/19/2024 11:46:22\n",
      "New DB name:   /Users/albertothornton/Desktop/Kamikouchi lab/Blast Code and data/blast_databases/bw_(brown)/Drosophila_melanogaster_combined\n",
      "New DB title:  Protein_FASTA_Files/bw_(brown)/Drosophila_melanogaster_combined.fasta\n",
      "Sequence type: Protein\n",
      "Keep MBits: T\n",
      "Maximum file size: 1000000000B\n",
      "Adding sequences from FASTA; added 7 sequences in 0.00200009 seconds.\n",
      "\n",
      "\n",
      "Building a new DB, current time: 11/19/2024 11:46:22\n",
      "New DB name:   /Users/albertothornton/Desktop/Kamikouchi lab/Blast Code and data/blast_databases/bw_(brown)/Drosophila_teissieri_combined\n",
      "New DB title:  Protein_FASTA_Files/bw_(brown)/Drosophila_teissieri_combined.fasta\n",
      "Sequence type: Protein\n",
      "Keep MBits: T\n",
      "Maximum file size: 1000000000B\n",
      "Adding sequences from FASTA; added 1 sequences in 0.000369787 seconds.\n",
      "\n",
      "\n",
      "Building a new DB, current time: 11/19/2024 11:46:22\n",
      "New DB name:   /Users/albertothornton/Desktop/Kamikouchi lab/Blast Code and data/blast_databases/bw_(brown)/Drosophila_yakuba_combined\n",
      "New DB title:  Protein_FASTA_Files/bw_(brown)/Drosophila_yakuba_combined.fasta\n",
      "Sequence type: Protein\n",
      "Keep MBits: T\n",
      "Maximum file size: 1000000000B\n",
      "Adding sequences from FASTA; added 1 sequences in 0.000388861 seconds.\n",
      "\n",
      "\n",
      "Building a new DB, current time: 11/19/2024 11:46:23\n",
      "New DB name:   /Users/albertothornton/Desktop/Kamikouchi lab/Blast Code and data/blast_databases/bw_(brown)/Drosophila_ananassae_combined\n",
      "New DB title:  Protein_FASTA_Files/bw_(brown)/Drosophila_ananassae_combined.fasta\n",
      "Sequence type: Protein\n",
      "Keep MBits: T\n",
      "Maximum file size: 1000000000B\n",
      "Adding sequences from FASTA; added 1 sequences in 0.000411987 seconds.\n",
      "\n",
      "\n",
      "Building a new DB, current time: 11/19/2024 11:46:23\n",
      "New DB name:   /Users/albertothornton/Desktop/Kamikouchi lab/Blast Code and data/blast_databases/bw_(brown)/Drosophila_erecta_combined\n",
      "New DB title:  Protein_FASTA_Files/bw_(brown)/Drosophila_erecta_combined.fasta\n",
      "Sequence type: Protein\n",
      "Keep MBits: T\n",
      "Maximum file size: 1000000000B\n",
      "Adding sequences from FASTA; added 1 sequences in 0.000422955 seconds.\n",
      "\n",
      "\n",
      "Building a new DB, current time: 11/19/2024 11:46:23\n",
      "New DB name:   /Users/albertothornton/Desktop/Kamikouchi lab/Blast Code and data/blast_databases/bw_(brown)/Drosophila_simulans_combined\n",
      "New DB title:  Protein_FASTA_Files/bw_(brown)/Drosophila_simulans_combined.fasta\n",
      "Sequence type: Protein\n",
      "Keep MBits: T\n",
      "Maximum file size: 1000000000B\n",
      "Adding sequences from FASTA; added 1 sequences in 0.000537872 seconds.\n",
      "\n",
      "\n",
      "Building a new DB, current time: 11/19/2024 11:46:23\n",
      "New DB name:   /Users/albertothornton/Desktop/Kamikouchi lab/Blast Code and data/blast_databases/bw_(brown)/Drosophila_mauritiana_combined\n",
      "New DB title:  Protein_FASTA_Files/bw_(brown)/Drosophila_mauritiana_combined.fasta\n",
      "Sequence type: Protein\n",
      "Keep MBits: T\n",
      "Maximum file size: 1000000000B\n",
      "Adding sequences from FASTA; added 1 sequences in 0.000383139 seconds.\n",
      "\n",
      "\n",
      "Building a new DB, current time: 11/19/2024 11:46:23\n",
      "New DB name:   /Users/albertothornton/Desktop/Kamikouchi lab/Blast Code and data/blast_databases/Rh6_(Rhodopsin_6)/Drosophila_melanogaster_combined\n",
      "New DB title:  Protein_FASTA_Files/Rh6_(Rhodopsin_6)/Drosophila_melanogaster_combined.fasta\n",
      "Sequence type: Protein\n",
      "Keep MBits: T\n",
      "Maximum file size: 1000000000B\n",
      "Adding sequences from FASTA; added 3 sequences in 0.000974894 seconds.\n",
      "\n",
      "\n",
      "Building a new DB, current time: 11/19/2024 11:46:23\n",
      "New DB name:   /Users/albertothornton/Desktop/Kamikouchi lab/Blast Code and data/blast_databases/Rh6_(Rhodopsin_6)/Drosophila_teissieri_combined\n",
      "New DB title:  Protein_FASTA_Files/Rh6_(Rhodopsin_6)/Drosophila_teissieri_combined.fasta\n",
      "Sequence type: Protein\n",
      "Keep MBits: T\n",
      "Maximum file size: 1000000000B\n",
      "Adding sequences from FASTA; added 1 sequences in 0.00037384 seconds.\n",
      "\n",
      "\n",
      "Building a new DB, current time: 11/19/2024 11:46:23\n",
      "New DB name:   /Users/albertothornton/Desktop/Kamikouchi lab/Blast Code and data/blast_databases/Rh6_(Rhodopsin_6)/Drosophila_yakuba_combined\n",
      "New DB title:  Protein_FASTA_Files/Rh6_(Rhodopsin_6)/Drosophila_yakuba_combined.fasta\n",
      "Sequence type: Protein\n",
      "Keep MBits: T\n",
      "Maximum file size: 1000000000B\n",
      "Adding sequences from FASTA; added 1 sequences in 0.000577927 seconds.\n",
      "\n",
      "\n",
      "Building a new DB, current time: 11/19/2024 11:46:23\n",
      "New DB name:   /Users/albertothornton/Desktop/Kamikouchi lab/Blast Code and data/blast_databases/Rh6_(Rhodopsin_6)/Drosophila_ananassae_combined\n",
      "New DB title:  Protein_FASTA_Files/Rh6_(Rhodopsin_6)/Drosophila_ananassae_combined.fasta\n",
      "Sequence type: Protein\n",
      "Keep MBits: T\n",
      "Maximum file size: 1000000000B\n",
      "Adding sequences from FASTA; added 1 sequences in 0.000374079 seconds.\n",
      "\n",
      "\n",
      "Building a new DB, current time: 11/19/2024 11:46:23\n",
      "New DB name:   /Users/albertothornton/Desktop/Kamikouchi lab/Blast Code and data/blast_databases/Rh6_(Rhodopsin_6)/Drosophila_erecta_combined\n",
      "New DB title:  Protein_FASTA_Files/Rh6_(Rhodopsin_6)/Drosophila_erecta_combined.fasta\n",
      "Sequence type: Protein\n",
      "Keep MBits: T\n",
      "Maximum file size: 1000000000B\n",
      "Adding sequences from FASTA; added 1 sequences in 0.000399828 seconds.\n",
      "\n",
      "\n",
      "Building a new DB, current time: 11/19/2024 11:46:23\n",
      "New DB name:   /Users/albertothornton/Desktop/Kamikouchi lab/Blast Code and data/blast_databases/Rh6_(Rhodopsin_6)/Drosophila_simulans_combined\n",
      "New DB title:  Protein_FASTA_Files/Rh6_(Rhodopsin_6)/Drosophila_simulans_combined.fasta\n",
      "Sequence type: Protein\n",
      "Keep MBits: T\n",
      "Maximum file size: 1000000000B\n",
      "Adding sequences from FASTA; added 1 sequences in 0.000527143 seconds.\n",
      "\n",
      "\n",
      "Building a new DB, current time: 11/19/2024 11:46:23\n",
      "New DB name:   /Users/albertothornton/Desktop/Kamikouchi lab/Blast Code and data/blast_databases/Rh6_(Rhodopsin_6)/Drosophila_mauritiana_combined\n",
      "New DB title:  Protein_FASTA_Files/Rh6_(Rhodopsin_6)/Drosophila_mauritiana_combined.fasta\n",
      "Sequence type: Protein\n",
      "Keep MBits: T\n",
      "Maximum file size: 1000000000B\n",
      "Adding sequences from FASTA; added 1 sequences in 0.000383854 seconds.\n",
      "\n",
      "\n",
      "Building a new DB, current time: 11/19/2024 11:46:24\n",
      "New DB name:   /Users/albertothornton/Desktop/Kamikouchi lab/Blast Code and data/blast_databases/Ir75a_(Ionotropic_receptor_75a)/Drosophila_melanogaster_combined\n",
      "New DB title:  Protein_FASTA_Files/Ir75a_(Ionotropic_receptor_75a)/Drosophila_melanogaster_combined.fasta\n",
      "Sequence type: Protein\n",
      "Keep MBits: T\n",
      "Maximum file size: 1000000000B\n",
      "Adding sequences from FASTA; added 5 sequences in 0.00120711 seconds.\n",
      "\n",
      "\n",
      "Building a new DB, current time: 11/19/2024 11:46:24\n",
      "New DB name:   /Users/albertothornton/Desktop/Kamikouchi lab/Blast Code and data/blast_databases/Ir75a_(Ionotropic_receptor_75a)/Drosophila_teissieri_combined\n",
      "New DB title:  Protein_FASTA_Files/Ir75a_(Ionotropic_receptor_75a)/Drosophila_teissieri_combined.fasta\n",
      "Sequence type: Protein\n",
      "Keep MBits: T\n",
      "Maximum file size: 1000000000B\n",
      "Adding sequences from FASTA; added 1 sequences in 0.000386 seconds.\n",
      "\n",
      "\n",
      "Building a new DB, current time: 11/19/2024 11:46:24\n",
      "New DB name:   /Users/albertothornton/Desktop/Kamikouchi lab/Blast Code and data/blast_databases/Ir75a_(Ionotropic_receptor_75a)/Drosophila_yakuba_combined\n",
      "New DB title:  Protein_FASTA_Files/Ir75a_(Ionotropic_receptor_75a)/Drosophila_yakuba_combined.fasta\n",
      "Sequence type: Protein\n",
      "Keep MBits: T\n",
      "Maximum file size: 1000000000B\n",
      "Adding sequences from FASTA; added 2 sequences in 0.000905037 seconds.\n",
      "\n",
      "\n",
      "Building a new DB, current time: 11/19/2024 11:46:24\n",
      "New DB name:   /Users/albertothornton/Desktop/Kamikouchi lab/Blast Code and data/blast_databases/Ir75a_(Ionotropic_receptor_75a)/Drosophila_erecta_combined\n",
      "New DB title:  Protein_FASTA_Files/Ir75a_(Ionotropic_receptor_75a)/Drosophila_erecta_combined.fasta\n",
      "Sequence type: Protein\n",
      "Keep MBits: T\n",
      "Maximum file size: 1000000000B\n",
      "Adding sequences from FASTA; added 3 sequences in 0.00125003 seconds.\n",
      "\n",
      "\n",
      "Building a new DB, current time: 11/19/2024 11:46:24\n",
      "New DB name:   /Users/albertothornton/Desktop/Kamikouchi lab/Blast Code and data/blast_databases/Ir75a_(Ionotropic_receptor_75a)/Drosophila_mauritiana_combined\n",
      "New DB title:  Protein_FASTA_Files/Ir75a_(Ionotropic_receptor_75a)/Drosophila_mauritiana_combined.fasta\n",
      "Sequence type: Protein\n",
      "Keep MBits: T\n",
      "Maximum file size: 1000000000B\n",
      "Adding sequences from FASTA; added 1 sequences in 0.000368118 seconds.\n",
      "\n",
      "\n",
      "Building a new DB, current time: 11/19/2024 11:46:24\n",
      "New DB name:   /Users/albertothornton/Desktop/Kamikouchi lab/Blast Code and data/blast_databases/stops_(slow_termination_of_phototransduction)/Drosophila_melanogaster_combined\n",
      "New DB title:  Protein_FASTA_Files/stops_(slow_termination_of_phototransduction)/Drosophila_melanogaster_combined.fasta\n",
      "Sequence type: Protein\n",
      "Keep MBits: T\n",
      "Maximum file size: 1000000000B\n",
      "Adding sequences from FASTA; added 6 sequences in 0.00183105 seconds.\n",
      "\n",
      "\n",
      "Building a new DB, current time: 11/19/2024 11:46:24\n",
      "New DB name:   /Users/albertothornton/Desktop/Kamikouchi lab/Blast Code and data/blast_databases/stops_(slow_termination_of_phototransduction)/Drosophila_teissieri_combined\n",
      "New DB title:  Protein_FASTA_Files/stops_(slow_termination_of_phototransduction)/Drosophila_teissieri_combined.fasta\n",
      "Sequence type: Protein\n",
      "Keep MBits: T\n",
      "Maximum file size: 1000000000B\n",
      "Adding sequences from FASTA; added 2 sequences in 0.00103188 seconds.\n",
      "\n",
      "\n",
      "Building a new DB, current time: 11/19/2024 11:46:24\n",
      "New DB name:   /Users/albertothornton/Desktop/Kamikouchi lab/Blast Code and data/blast_databases/stops_(slow_termination_of_phototransduction)/Drosophila_yakuba_combined\n",
      "New DB title:  Protein_FASTA_Files/stops_(slow_termination_of_phototransduction)/Drosophila_yakuba_combined.fasta\n",
      "Sequence type: Protein\n",
      "Keep MBits: T\n",
      "Maximum file size: 1000000000B\n",
      "Adding sequences from FASTA; added 2 sequences in 0.00099802 seconds.\n",
      "\n",
      "\n",
      "Building a new DB, current time: 11/19/2024 11:46:24\n",
      "New DB name:   /Users/albertothornton/Desktop/Kamikouchi lab/Blast Code and data/blast_databases/stops_(slow_termination_of_phototransduction)/Drosophila_ananassae_combined\n",
      "New DB title:  Protein_FASTA_Files/stops_(slow_termination_of_phototransduction)/Drosophila_ananassae_combined.fasta\n",
      "Sequence type: Protein\n",
      "Keep MBits: T\n",
      "Maximum file size: 1000000000B\n",
      "Adding sequences from FASTA; added 2 sequences in 0.00105691 seconds.\n",
      "\n",
      "\n",
      "Building a new DB, current time: 11/19/2024 11:46:24\n",
      "New DB name:   /Users/albertothornton/Desktop/Kamikouchi lab/Blast Code and data/blast_databases/stops_(slow_termination_of_phototransduction)/Drosophila_erecta_combined\n",
      "New DB title:  Protein_FASTA_Files/stops_(slow_termination_of_phototransduction)/Drosophila_erecta_combined.fasta\n",
      "Sequence type: Protein\n",
      "Keep MBits: T\n",
      "Maximum file size: 1000000000B\n",
      "Adding sequences from FASTA; added 2 sequences in 0.00097394 seconds.\n",
      "\n",
      "\n",
      "Building a new DB, current time: 11/19/2024 11:46:25\n",
      "New DB name:   /Users/albertothornton/Desktop/Kamikouchi lab/Blast Code and data/blast_databases/stops_(slow_termination_of_phototransduction)/Drosophila_simulans_combined\n",
      "New DB title:  Protein_FASTA_Files/stops_(slow_termination_of_phototransduction)/Drosophila_simulans_combined.fasta\n",
      "Sequence type: Protein\n",
      "Keep MBits: T\n",
      "Maximum file size: 1000000000B\n",
      "Adding sequences from FASTA; added 2 sequences in 0.00159907 seconds.\n",
      "\n",
      "\n",
      "Building a new DB, current time: 11/19/2024 11:46:25\n",
      "New DB name:   /Users/albertothornton/Desktop/Kamikouchi lab/Blast Code and data/blast_databases/stops_(slow_termination_of_phototransduction)/Drosophila_mauritiana_combined\n",
      "New DB title:  Protein_FASTA_Files/stops_(slow_termination_of_phototransduction)/Drosophila_mauritiana_combined.fasta\n",
      "Sequence type: Protein\n",
      "Keep MBits: T\n",
      "Maximum file size: 1000000000B\n",
      "Adding sequences from FASTA; added 2 sequences in 0.001297 seconds.\n",
      "\n",
      "\n",
      "Building a new DB, current time: 11/19/2024 11:46:25\n",
      "New DB name:   /Users/albertothornton/Desktop/Kamikouchi lab/Blast Code and data/blast_databases/tko_(technical_knockout)/Drosophila_melanogaster_combined\n",
      "New DB title:  Protein_FASTA_Files/tko_(technical_knockout)/Drosophila_melanogaster_combined.fasta\n",
      "Sequence type: Protein\n",
      "Keep MBits: T\n",
      "Maximum file size: 1000000000B\n",
      "Adding sequences from FASTA; added 6 sequences in 0.00104213 seconds.\n",
      "\n",
      "\n",
      "Building a new DB, current time: 11/19/2024 11:46:25\n",
      "New DB name:   /Users/albertothornton/Desktop/Kamikouchi lab/Blast Code and data/blast_databases/tko_(technical_knockout)/Drosophila_teissieri_combined\n",
      "New DB title:  Protein_FASTA_Files/tko_(technical_knockout)/Drosophila_teissieri_combined.fasta\n",
      "Sequence type: Protein\n",
      "Keep MBits: T\n",
      "Maximum file size: 1000000000B\n",
      "Adding sequences from FASTA; added 1 sequences in 0.000713825 seconds.\n",
      "\n",
      "\n",
      "Building a new DB, current time: 11/19/2024 11:46:25\n",
      "New DB name:   /Users/albertothornton/Desktop/Kamikouchi lab/Blast Code and data/blast_databases/tko_(technical_knockout)/Drosophila_yakuba_combined\n",
      "New DB title:  Protein_FASTA_Files/tko_(technical_knockout)/Drosophila_yakuba_combined.fasta\n",
      "Sequence type: Protein\n",
      "Keep MBits: T\n",
      "Maximum file size: 1000000000B\n",
      "Adding sequences from FASTA; added 1 sequences in 0.000369072 seconds.\n",
      "\n",
      "\n",
      "Building a new DB, current time: 11/19/2024 11:46:25\n",
      "New DB name:   /Users/albertothornton/Desktop/Kamikouchi lab/Blast Code and data/blast_databases/tko_(technical_knockout)/Drosophila_ananassae_combined\n",
      "New DB title:  Protein_FASTA_Files/tko_(technical_knockout)/Drosophila_ananassae_combined.fasta\n",
      "Sequence type: Protein\n",
      "Keep MBits: T\n",
      "Maximum file size: 1000000000B\n",
      "Adding sequences from FASTA; added 4 sequences in 0.000999928 seconds.\n",
      "\n",
      "\n",
      "Building a new DB, current time: 11/19/2024 11:46:25\n",
      "New DB name:   /Users/albertothornton/Desktop/Kamikouchi lab/Blast Code and data/blast_databases/tko_(technical_knockout)/Drosophila_erecta_combined\n",
      "New DB title:  Protein_FASTA_Files/tko_(technical_knockout)/Drosophila_erecta_combined.fasta\n",
      "Sequence type: Protein\n",
      "Keep MBits: T\n",
      "Maximum file size: 1000000000B\n",
      "Adding sequences from FASTA; added 1 sequences in 0.000399828 seconds.\n",
      "\n",
      "\n",
      "Building a new DB, current time: 11/19/2024 11:46:25\n",
      "New DB name:   /Users/albertothornton/Desktop/Kamikouchi lab/Blast Code and data/blast_databases/tko_(technical_knockout)/Drosophila_simulans_combined\n",
      "New DB title:  Protein_FASTA_Files/tko_(technical_knockout)/Drosophila_simulans_combined.fasta\n",
      "Sequence type: Protein\n",
      "Keep MBits: T\n",
      "Maximum file size: 1000000000B\n",
      "Adding sequences from FASTA; added 1 sequences in 0.000441074 seconds.\n",
      "\n",
      "\n",
      "Building a new DB, current time: 11/19/2024 11:46:25\n",
      "New DB name:   /Users/albertothornton/Desktop/Kamikouchi lab/Blast Code and data/blast_databases/tko_(technical_knockout)/Drosophila_mauritiana_combined\n",
      "New DB title:  Protein_FASTA_Files/tko_(technical_knockout)/Drosophila_mauritiana_combined.fasta\n",
      "Sequence type: Protein\n",
      "Keep MBits: T\n",
      "Maximum file size: 1000000000B\n",
      "Adding sequences from FASTA; added 1 sequences in 0.000388861 seconds.\n",
      "\n",
      "\n",
      "Building a new DB, current time: 11/19/2024 11:46:25\n",
      "New DB name:   /Users/albertothornton/Desktop/Kamikouchi lab/Blast Code and data/blast_databases/dia_(diaphanous)/Drosophila_melanogaster_combined\n",
      "New DB title:  Protein_FASTA_Files/dia_(diaphanous)/Drosophila_melanogaster_combined.fasta\n",
      "Sequence type: Protein\n",
      "Keep MBits: T\n",
      "Maximum file size: 1000000000B\n",
      "Adding sequences from FASTA; added 13 sequences in 0.00165391 seconds.\n",
      "\n",
      "\n",
      "Building a new DB, current time: 11/19/2024 11:46:25\n",
      "New DB name:   /Users/albertothornton/Desktop/Kamikouchi lab/Blast Code and data/blast_databases/dia_(diaphanous)/Drosophila_teissieri_combined\n",
      "New DB title:  Protein_FASTA_Files/dia_(diaphanous)/Drosophila_teissieri_combined.fasta\n",
      "Sequence type: Protein\n",
      "Keep MBits: T\n",
      "Maximum file size: 1000000000B\n",
      "Adding sequences from FASTA; added 2 sequences in 0.00103092 seconds.\n",
      "\n",
      "\n",
      "Building a new DB, current time: 11/19/2024 11:46:26\n",
      "New DB name:   /Users/albertothornton/Desktop/Kamikouchi lab/Blast Code and data/blast_databases/dia_(diaphanous)/Drosophila_yakuba_combined\n",
      "New DB title:  Protein_FASTA_Files/dia_(diaphanous)/Drosophila_yakuba_combined.fasta\n",
      "Sequence type: Protein\n",
      "Keep MBits: T\n",
      "Maximum file size: 1000000000B\n",
      "Adding sequences from FASTA; added 2 sequences in 0.00100589 seconds.\n",
      "\n",
      "\n",
      "Building a new DB, current time: 11/19/2024 11:46:26\n",
      "New DB name:   /Users/albertothornton/Desktop/Kamikouchi lab/Blast Code and data/blast_databases/dia_(diaphanous)/Drosophila_ananassae_combined\n",
      "New DB title:  Protein_FASTA_Files/dia_(diaphanous)/Drosophila_ananassae_combined.fasta\n",
      "Sequence type: Protein\n",
      "Keep MBits: T\n",
      "Maximum file size: 1000000000B\n",
      "Adding sequences from FASTA; added 3 sequences in 0.00106192 seconds.\n",
      "\n",
      "\n",
      "Building a new DB, current time: 11/19/2024 11:46:26\n",
      "New DB name:   /Users/albertothornton/Desktop/Kamikouchi lab/Blast Code and data/blast_databases/dia_(diaphanous)/Drosophila_erecta_combined\n",
      "New DB title:  Protein_FASTA_Files/dia_(diaphanous)/Drosophila_erecta_combined.fasta\n",
      "Sequence type: Protein\n",
      "Keep MBits: T\n",
      "Maximum file size: 1000000000B\n",
      "Adding sequences from FASTA; added 2 sequences in 0.00109506 seconds.\n",
      "\n",
      "\n",
      "Building a new DB, current time: 11/19/2024 11:46:26\n",
      "New DB name:   /Users/albertothornton/Desktop/Kamikouchi lab/Blast Code and data/blast_databases/dia_(diaphanous)/Drosophila_simulans_combined\n",
      "New DB title:  Protein_FASTA_Files/dia_(diaphanous)/Drosophila_simulans_combined.fasta\n",
      "Sequence type: Protein\n",
      "Keep MBits: T\n",
      "Maximum file size: 1000000000B\n",
      "Adding sequences from FASTA; added 3 sequences in 0.00142193 seconds.\n",
      "\n",
      "\n",
      "Building a new DB, current time: 11/19/2024 11:46:26\n",
      "New DB name:   /Users/albertothornton/Desktop/Kamikouchi lab/Blast Code and data/blast_databases/dia_(diaphanous)/Drosophila_mauritiana_combined\n",
      "New DB title:  Protein_FASTA_Files/dia_(diaphanous)/Drosophila_mauritiana_combined.fasta\n",
      "Sequence type: Protein\n",
      "Keep MBits: T\n",
      "Maximum file size: 1000000000B\n",
      "Adding sequences from FASTA; added 3 sequences in 0.0010159 seconds.\n",
      "\n",
      "\n",
      "Building a new DB, current time: 11/19/2024 11:46:26\n",
      "New DB name:   /Users/albertothornton/Desktop/Kamikouchi lab/Blast Code and data/blast_databases/Rh5_(Rhodopsin_5)/Drosophila_melanogaster_combined\n",
      "New DB title:  Protein_FASTA_Files/Rh5_(Rhodopsin_5)/Drosophila_melanogaster_combined.fasta\n",
      "Sequence type: Protein\n",
      "Keep MBits: T\n",
      "Maximum file size: 1000000000B\n",
      "Adding sequences from FASTA; added 8 sequences in 0.00165296 seconds.\n",
      "\n",
      "\n",
      "Building a new DB, current time: 11/19/2024 11:46:26\n",
      "New DB name:   /Users/albertothornton/Desktop/Kamikouchi lab/Blast Code and data/blast_databases/Rh5_(Rhodopsin_5)/Drosophila_teissieri_combined\n",
      "New DB title:  Protein_FASTA_Files/Rh5_(Rhodopsin_5)/Drosophila_teissieri_combined.fasta\n",
      "Sequence type: Protein\n",
      "Keep MBits: T\n",
      "Maximum file size: 1000000000B\n",
      "Adding sequences from FASTA; added 1 sequences in 0.000761032 seconds.\n",
      "\n",
      "\n",
      "Building a new DB, current time: 11/19/2024 11:46:26\n",
      "New DB name:   /Users/albertothornton/Desktop/Kamikouchi lab/Blast Code and data/blast_databases/Rh5_(Rhodopsin_5)/Drosophila_yakuba_combined\n",
      "New DB title:  Protein_FASTA_Files/Rh5_(Rhodopsin_5)/Drosophila_yakuba_combined.fasta\n",
      "Sequence type: Protein\n",
      "Keep MBits: T\n",
      "Maximum file size: 1000000000B\n",
      "Adding sequences from FASTA; added 1 sequences in 0.000445127 seconds.\n",
      "\n",
      "\n",
      "Building a new DB, current time: 11/19/2024 11:46:26\n",
      "New DB name:   /Users/albertothornton/Desktop/Kamikouchi lab/Blast Code and data/blast_databases/Rh5_(Rhodopsin_5)/Drosophila_ananassae_combined\n",
      "New DB title:  Protein_FASTA_Files/Rh5_(Rhodopsin_5)/Drosophila_ananassae_combined.fasta\n",
      "Sequence type: Protein\n",
      "Keep MBits: T\n",
      "Maximum file size: 1000000000B\n",
      "Adding sequences from FASTA; added 1 sequences in 0.000385046 seconds.\n",
      "\n",
      "\n",
      "Building a new DB, current time: 11/19/2024 11:46:27\n",
      "New DB name:   /Users/albertothornton/Desktop/Kamikouchi lab/Blast Code and data/blast_databases/Rh5_(Rhodopsin_5)/Drosophila_erecta_combined\n",
      "New DB title:  Protein_FASTA_Files/Rh5_(Rhodopsin_5)/Drosophila_erecta_combined.fasta\n",
      "Sequence type: Protein\n",
      "Keep MBits: T\n",
      "Maximum file size: 1000000000B\n",
      "Adding sequences from FASTA; added 1 sequences in 0.000663996 seconds.\n",
      "\n",
      "\n",
      "Building a new DB, current time: 11/19/2024 11:46:27\n",
      "New DB name:   /Users/albertothornton/Desktop/Kamikouchi lab/Blast Code and data/blast_databases/Rh5_(Rhodopsin_5)/Drosophila_simulans_combined\n",
      "New DB title:  Protein_FASTA_Files/Rh5_(Rhodopsin_5)/Drosophila_simulans_combined.fasta\n",
      "Sequence type: Protein\n",
      "Keep MBits: T\n",
      "Maximum file size: 1000000000B\n",
      "Adding sequences from FASTA; added 1 sequences in 0.000372887 seconds.\n",
      "\n",
      "\n",
      "Building a new DB, current time: 11/19/2024 11:46:27\n",
      "New DB name:   /Users/albertothornton/Desktop/Kamikouchi lab/Blast Code and data/blast_databases/Rh5_(Rhodopsin_5)/Drosophila_mauritiana_combined\n",
      "New DB title:  Protein_FASTA_Files/Rh5_(Rhodopsin_5)/Drosophila_mauritiana_combined.fasta\n",
      "Sequence type: Protein\n",
      "Keep MBits: T\n",
      "Maximum file size: 1000000000B\n",
      "Adding sequences from FASTA; added 1 sequences in 0.000383854 seconds.\n",
      "\n",
      "\n",
      "Building a new DB, current time: 11/19/2024 11:46:27\n",
      "New DB name:   /Users/albertothornton/Desktop/Kamikouchi lab/Blast Code and data/blast_databases/nompC_(no_mechanoreceptor_potential_C)/Drosophila_melanogaster_combined\n",
      "New DB title:  Protein_FASTA_Files/nompC_(no_mechanoreceptor_potential_C)/Drosophila_melanogaster_combined.fasta\n",
      "Sequence type: Protein\n",
      "Keep MBits: T\n",
      "Maximum file size: 1000000000B\n",
      "Adding sequences from FASTA; added 11 sequences in 0.00238991 seconds.\n",
      "\n",
      "\n",
      "Building a new DB, current time: 11/19/2024 11:46:27\n",
      "New DB name:   /Users/albertothornton/Desktop/Kamikouchi lab/Blast Code and data/blast_databases/nompC_(no_mechanoreceptor_potential_C)/Drosophila_teissieri_combined\n",
      "New DB title:  Protein_FASTA_Files/nompC_(no_mechanoreceptor_potential_C)/Drosophila_teissieri_combined.fasta\n",
      "Sequence type: Protein\n",
      "Keep MBits: T\n",
      "Maximum file size: 1000000000B\n",
      "Adding sequences from FASTA; added 6 sequences in 0.00124311 seconds.\n",
      "\n",
      "\n",
      "Building a new DB, current time: 11/19/2024 11:46:27\n",
      "New DB name:   /Users/albertothornton/Desktop/Kamikouchi lab/Blast Code and data/blast_databases/nompC_(no_mechanoreceptor_potential_C)/Drosophila_yakuba_combined\n",
      "New DB title:  Protein_FASTA_Files/nompC_(no_mechanoreceptor_potential_C)/Drosophila_yakuba_combined.fasta\n",
      "Sequence type: Protein\n",
      "Keep MBits: T\n",
      "Maximum file size: 1000000000B\n",
      "Adding sequences from FASTA; added 7 sequences in 0.00240803 seconds.\n",
      "\n",
      "\n",
      "Building a new DB, current time: 11/19/2024 11:46:27\n",
      "New DB name:   /Users/albertothornton/Desktop/Kamikouchi lab/Blast Code and data/blast_databases/nompC_(no_mechanoreceptor_potential_C)/Drosophila_ananassae_combined\n",
      "New DB title:  Protein_FASTA_Files/nompC_(no_mechanoreceptor_potential_C)/Drosophila_ananassae_combined.fasta\n",
      "Sequence type: Protein\n",
      "Keep MBits: T\n",
      "Maximum file size: 1000000000B\n",
      "Adding sequences from FASTA; added 5 sequences in 0.00135398 seconds.\n",
      "\n",
      "\n",
      "Building a new DB, current time: 11/19/2024 11:46:27\n",
      "New DB name:   /Users/albertothornton/Desktop/Kamikouchi lab/Blast Code and data/blast_databases/nompC_(no_mechanoreceptor_potential_C)/Drosophila_erecta_combined\n",
      "New DB title:  Protein_FASTA_Files/nompC_(no_mechanoreceptor_potential_C)/Drosophila_erecta_combined.fasta\n",
      "Sequence type: Protein\n",
      "Keep MBits: T\n",
      "Maximum file size: 1000000000B\n",
      "Adding sequences from FASTA; added 3 sequences in 0.00102496 seconds.\n",
      "\n",
      "\n",
      "Building a new DB, current time: 11/19/2024 11:46:27\n",
      "New DB name:   /Users/albertothornton/Desktop/Kamikouchi lab/Blast Code and data/blast_databases/nompC_(no_mechanoreceptor_potential_C)/Drosophila_simulans_combined\n",
      "New DB title:  Protein_FASTA_Files/nompC_(no_mechanoreceptor_potential_C)/Drosophila_simulans_combined.fasta\n",
      "Sequence type: Protein\n",
      "Keep MBits: T\n",
      "Maximum file size: 1000000000B\n",
      "Adding sequences from FASTA; added 5 sequences in 0.00144005 seconds.\n",
      "\n",
      "\n",
      "Building a new DB, current time: 11/19/2024 11:46:27\n",
      "New DB name:   /Users/albertothornton/Desktop/Kamikouchi lab/Blast Code and data/blast_databases/nompC_(no_mechanoreceptor_potential_C)/Drosophila_mauritiana_combined\n",
      "New DB title:  Protein_FASTA_Files/nompC_(no_mechanoreceptor_potential_C)/Drosophila_mauritiana_combined.fasta\n",
      "Sequence type: Protein\n",
      "Keep MBits: T\n",
      "Maximum file size: 1000000000B\n",
      "Adding sequences from FASTA; added 5 sequences in 0.00116205 seconds.\n",
      "\n",
      "\n",
      "Building a new DB, current time: 11/19/2024 11:46:28\n",
      "New DB name:   /Users/albertothornton/Desktop/Kamikouchi lab/Blast Code and data/blast_databases/Tmhs_(Tetraspan_membrane_protein_in_hair_cell_stereocilia)/Drosophila_melanogaster_combined\n",
      "New DB title:  Protein_FASTA_Files/Tmhs_(Tetraspan_membrane_protein_in_hair_cell_stereocilia)/Drosophila_melanogaster_combined.fasta\n",
      "Sequence type: Protein\n",
      "Keep MBits: T\n",
      "Maximum file size: 1000000000B\n",
      "Adding sequences from FASTA; added 4 sequences in 0.00105619 seconds.\n",
      "\n",
      "\n",
      "Building a new DB, current time: 11/19/2024 11:46:28\n",
      "New DB name:   /Users/albertothornton/Desktop/Kamikouchi lab/Blast Code and data/blast_databases/Tmhs_(Tetraspan_membrane_protein_in_hair_cell_stereocilia)/Drosophila_teissieri_combined\n",
      "New DB title:  Protein_FASTA_Files/Tmhs_(Tetraspan_membrane_protein_in_hair_cell_stereocilia)/Drosophila_teissieri_combined.fasta\n",
      "Sequence type: Protein\n",
      "Keep MBits: T\n",
      "Maximum file size: 1000000000B\n",
      "Adding sequences from FASTA; added 1 sequences in 0.000370979 seconds.\n",
      "\n",
      "\n",
      "Building a new DB, current time: 11/19/2024 11:46:28\n",
      "New DB name:   /Users/albertothornton/Desktop/Kamikouchi lab/Blast Code and data/blast_databases/Tmhs_(Tetraspan_membrane_protein_in_hair_cell_stereocilia)/Drosophila_yakuba_combined\n",
      "New DB title:  Protein_FASTA_Files/Tmhs_(Tetraspan_membrane_protein_in_hair_cell_stereocilia)/Drosophila_yakuba_combined.fasta\n",
      "Sequence type: Protein\n",
      "Keep MBits: T\n",
      "Maximum file size: 1000000000B\n",
      "Adding sequences from FASTA; added 1 sequences in 0.000384092 seconds.\n",
      "\n",
      "\n",
      "Building a new DB, current time: 11/19/2024 11:46:28\n",
      "New DB name:   /Users/albertothornton/Desktop/Kamikouchi lab/Blast Code and data/blast_databases/Tmhs_(Tetraspan_membrane_protein_in_hair_cell_stereocilia)/Drosophila_ananassae_combined\n",
      "New DB title:  Protein_FASTA_Files/Tmhs_(Tetraspan_membrane_protein_in_hair_cell_stereocilia)/Drosophila_ananassae_combined.fasta\n",
      "Sequence type: Protein\n",
      "Keep MBits: T\n",
      "Maximum file size: 1000000000B\n",
      "Adding sequences from FASTA; added 2 sequences in 0.000954151 seconds.\n",
      "\n",
      "\n",
      "Building a new DB, current time: 11/19/2024 11:46:28\n",
      "New DB name:   /Users/albertothornton/Desktop/Kamikouchi lab/Blast Code and data/blast_databases/Tmhs_(Tetraspan_membrane_protein_in_hair_cell_stereocilia)/Drosophila_erecta_combined\n",
      "New DB title:  Protein_FASTA_Files/Tmhs_(Tetraspan_membrane_protein_in_hair_cell_stereocilia)/Drosophila_erecta_combined.fasta\n",
      "Sequence type: Protein\n",
      "Keep MBits: T\n",
      "Maximum file size: 1000000000B\n",
      "Adding sequences from FASTA; added 1 sequences in 0.000356913 seconds.\n",
      "\n",
      "\n",
      "Building a new DB, current time: 11/19/2024 11:46:28\n",
      "New DB name:   /Users/albertothornton/Desktop/Kamikouchi lab/Blast Code and data/blast_databases/Tmhs_(Tetraspan_membrane_protein_in_hair_cell_stereocilia)/Drosophila_simulans_combined\n",
      "New DB title:  Protein_FASTA_Files/Tmhs_(Tetraspan_membrane_protein_in_hair_cell_stereocilia)/Drosophila_simulans_combined.fasta\n",
      "Sequence type: Protein\n",
      "Keep MBits: T\n",
      "Maximum file size: 1000000000B\n",
      "Adding sequences from FASTA; added 1 sequences in 0.000390053 seconds.\n",
      "\n",
      "\n",
      "Building a new DB, current time: 11/19/2024 11:46:28\n",
      "New DB name:   /Users/albertothornton/Desktop/Kamikouchi lab/Blast Code and data/blast_databases/Tmhs_(Tetraspan_membrane_protein_in_hair_cell_stereocilia)/Drosophila_mauritiana_combined\n",
      "New DB title:  Protein_FASTA_Files/Tmhs_(Tetraspan_membrane_protein_in_hair_cell_stereocilia)/Drosophila_mauritiana_combined.fasta\n",
      "Sequence type: Protein\n",
      "Keep MBits: T\n",
      "Maximum file size: 1000000000B\n",
      "Adding sequences from FASTA; added 1 sequences in 0.000546217 seconds.\n",
      "\n",
      "\n",
      "Building a new DB, current time: 11/19/2024 11:46:28\n",
      "New DB name:   /Users/albertothornton/Desktop/Kamikouchi lab/Blast Code and data/blast_databases/DCX-EMAP_(Doublecortin-domain-containing_echinoderm-microtubule-associated_protein)/Drosophila_melanogaster_combined\n",
      "New DB title:  Protein_FASTA_Files/DCX-EMAP_(Doublecortin-domain-containing_echinoderm-microtubule-associated_protein)/Drosophila_melanogaster_combined.fasta\n",
      "Sequence type: Protein\n",
      "Keep MBits: T\n",
      "Maximum file size: 1000000000B\n",
      "Adding sequences from FASTA; added 9 sequences in 0.00138092 seconds.\n",
      "\n",
      "\n",
      "Building a new DB, current time: 11/19/2024 11:46:28\n",
      "New DB name:   /Users/albertothornton/Desktop/Kamikouchi lab/Blast Code and data/blast_databases/DCX-EMAP_(Doublecortin-domain-containing_echinoderm-microtubule-associated_protein)/Drosophila_teissieri_combined\n",
      "New DB title:  Protein_FASTA_Files/DCX-EMAP_(Doublecortin-domain-containing_echinoderm-microtubule-associated_protein)/Drosophila_teissieri_combined.fasta\n",
      "Sequence type: Protein\n",
      "Keep MBits: T\n",
      "Maximum file size: 1000000000B\n",
      "Adding sequences from FASTA; added 2 sequences in 0.000916004 seconds.\n",
      "\n",
      "\n",
      "Building a new DB, current time: 11/19/2024 11:46:28\n",
      "New DB name:   /Users/albertothornton/Desktop/Kamikouchi lab/Blast Code and data/blast_databases/DCX-EMAP_(Doublecortin-domain-containing_echinoderm-microtubule-associated_protein)/Drosophila_yakuba_combined\n",
      "New DB title:  Protein_FASTA_Files/DCX-EMAP_(Doublecortin-domain-containing_echinoderm-microtubule-associated_protein)/Drosophila_yakuba_combined.fasta\n",
      "Sequence type: Protein\n",
      "Keep MBits: T\n",
      "Maximum file size: 1000000000B\n",
      "Adding sequences from FASTA; added 3 sequences in 0.0022819 seconds.\n",
      "\n",
      "\n",
      "Building a new DB, current time: 11/19/2024 11:46:29\n",
      "New DB name:   /Users/albertothornton/Desktop/Kamikouchi lab/Blast Code and data/blast_databases/DCX-EMAP_(Doublecortin-domain-containing_echinoderm-microtubule-associated_protein)/Drosophila_ananassae_combined\n",
      "New DB title:  Protein_FASTA_Files/DCX-EMAP_(Doublecortin-domain-containing_echinoderm-microtubule-associated_protein)/Drosophila_ananassae_combined.fasta\n",
      "Sequence type: Protein\n",
      "Keep MBits: T\n",
      "Maximum file size: 1000000000B\n",
      "Adding sequences from FASTA; added 2 sequences in 0.00163794 seconds.\n",
      "\n",
      "\n",
      "Building a new DB, current time: 11/19/2024 11:46:29\n",
      "New DB name:   /Users/albertothornton/Desktop/Kamikouchi lab/Blast Code and data/blast_databases/DCX-EMAP_(Doublecortin-domain-containing_echinoderm-microtubule-associated_protein)/Drosophila_erecta_combined\n",
      "New DB title:  Protein_FASTA_Files/DCX-EMAP_(Doublecortin-domain-containing_echinoderm-microtubule-associated_protein)/Drosophila_erecta_combined.fasta\n",
      "Sequence type: Protein\n",
      "Keep MBits: T\n",
      "Maximum file size: 1000000000B\n",
      "Adding sequences from FASTA; added 3 sequences in 0.00123596 seconds.\n",
      "\n",
      "\n",
      "Building a new DB, current time: 11/19/2024 11:46:29\n",
      "New DB name:   /Users/albertothornton/Desktop/Kamikouchi lab/Blast Code and data/blast_databases/DCX-EMAP_(Doublecortin-domain-containing_echinoderm-microtubule-associated_protein)/Drosophila_simulans_combined\n",
      "New DB title:  Protein_FASTA_Files/DCX-EMAP_(Doublecortin-domain-containing_echinoderm-microtubule-associated_protein)/Drosophila_simulans_combined.fasta\n",
      "Sequence type: Protein\n",
      "Keep MBits: T\n",
      "Maximum file size: 1000000000B\n",
      "Adding sequences from FASTA; added 2 sequences in 0.00145388 seconds.\n",
      "\n",
      "\n",
      "Building a new DB, current time: 11/19/2024 11:46:29\n",
      "New DB name:   /Users/albertothornton/Desktop/Kamikouchi lab/Blast Code and data/blast_databases/DCX-EMAP_(Doublecortin-domain-containing_echinoderm-microtubule-associated_protein)/Drosophila_mauritiana_combined\n",
      "New DB title:  Protein_FASTA_Files/DCX-EMAP_(Doublecortin-domain-containing_echinoderm-microtubule-associated_protein)/Drosophila_mauritiana_combined.fasta\n",
      "Sequence type: Protein\n",
      "Keep MBits: T\n",
      "Maximum file size: 1000000000B\n",
      "Adding sequences from FASTA; added 2 sequences in 0.000934124 seconds.\n",
      "\n",
      "\n",
      "Building a new DB, current time: 11/19/2024 11:46:29\n",
      "New DB name:   /Users/albertothornton/Desktop/Kamikouchi lab/Blast Code and data/blast_databases/CG8086/Drosophila_melanogaster_combined\n",
      "New DB title:  Protein_FASTA_Files/CG8086/Drosophila_melanogaster_combined.fasta\n",
      "Sequence type: Protein\n",
      "Keep MBits: T\n",
      "Maximum file size: 1000000000B\n",
      "Adding sequences from FASTA; added 20 sequences in 0.00204706 seconds.\n",
      "\n",
      "\n",
      "Building a new DB, current time: 11/19/2024 11:46:29\n",
      "New DB name:   /Users/albertothornton/Desktop/Kamikouchi lab/Blast Code and data/blast_databases/CG8086/Drosophila_yakuba_combined\n",
      "New DB title:  Protein_FASTA_Files/CG8086/Drosophila_yakuba_combined.fasta\n",
      "Sequence type: Protein\n",
      "Keep MBits: T\n",
      "Maximum file size: 1000000000B\n",
      "Adding sequences from FASTA; added 17 sequences in 0.00214386 seconds.\n",
      "\n",
      "\n",
      "Building a new DB, current time: 11/19/2024 11:46:29\n",
      "New DB name:   /Users/albertothornton/Desktop/Kamikouchi lab/Blast Code and data/blast_databases/CG8086/Drosophila_ananassae_combined\n",
      "New DB title:  Protein_FASTA_Files/CG8086/Drosophila_ananassae_combined.fasta\n",
      "Sequence type: Protein\n",
      "Keep MBits: T\n",
      "Maximum file size: 1000000000B\n",
      "Adding sequences from FASTA; added 9 sequences in 0.00201416 seconds.\n",
      "\n",
      "\n",
      "Building a new DB, current time: 11/19/2024 11:46:29\n",
      "New DB name:   /Users/albertothornton/Desktop/Kamikouchi lab/Blast Code and data/blast_databases/CG8086/Drosophila_erecta_combined\n",
      "New DB title:  Protein_FASTA_Files/CG8086/Drosophila_erecta_combined.fasta\n",
      "Sequence type: Protein\n",
      "Keep MBits: T\n",
      "Maximum file size: 1000000000B\n",
      "Adding sequences from FASTA; added 13 sequences in 0.00177908 seconds.\n",
      "\n",
      "\n",
      "Building a new DB, current time: 11/19/2024 11:46:30\n",
      "New DB name:   /Users/albertothornton/Desktop/Kamikouchi lab/Blast Code and data/blast_databases/CG8086/Drosophila_simulans_combined\n",
      "New DB title:  Protein_FASTA_Files/CG8086/Drosophila_simulans_combined.fasta\n",
      "Sequence type: Protein\n",
      "Keep MBits: T\n",
      "Maximum file size: 1000000000B\n",
      "Adding sequences from FASTA; added 20 sequences in 0.00229788 seconds.\n",
      "\n",
      "\n",
      "Building a new DB, current time: 11/19/2024 11:46:30\n",
      "New DB name:   /Users/albertothornton/Desktop/Kamikouchi lab/Blast Code and data/blast_databases/iav_(inactive)/Drosophila_melanogaster_combined\n",
      "New DB title:  Protein_FASTA_Files/iav_(inactive)/Drosophila_melanogaster_combined.fasta\n",
      "Sequence type: Protein\n",
      "Keep MBits: T\n",
      "Maximum file size: 1000000000B\n",
      "Adding sequences from FASTA; added 6 sequences in 0.00113606 seconds.\n",
      "\n",
      "\n",
      "Building a new DB, current time: 11/19/2024 11:46:30\n",
      "New DB name:   /Users/albertothornton/Desktop/Kamikouchi lab/Blast Code and data/blast_databases/iav_(inactive)/Drosophila_teissieri_combined\n",
      "New DB title:  Protein_FASTA_Files/iav_(inactive)/Drosophila_teissieri_combined.fasta\n",
      "Sequence type: Protein\n",
      "Keep MBits: T\n",
      "Maximum file size: 1000000000B\n",
      "Adding sequences from FASTA; added 3 sequences in 0.00100684 seconds.\n",
      "\n",
      "\n",
      "Building a new DB, current time: 11/19/2024 11:46:30\n",
      "New DB name:   /Users/albertothornton/Desktop/Kamikouchi lab/Blast Code and data/blast_databases/iav_(inactive)/Drosophila_yakuba_combined\n",
      "New DB title:  Protein_FASTA_Files/iav_(inactive)/Drosophila_yakuba_combined.fasta\n",
      "Sequence type: Protein\n",
      "Keep MBits: T\n",
      "Maximum file size: 1000000000B\n",
      "Adding sequences from FASTA; added 1 sequences in 0.000387907 seconds.\n",
      "\n",
      "\n",
      "Building a new DB, current time: 11/19/2024 11:46:30\n",
      "New DB name:   /Users/albertothornton/Desktop/Kamikouchi lab/Blast Code and data/blast_databases/iav_(inactive)/Drosophila_ananassae_combined\n",
      "New DB title:  Protein_FASTA_Files/iav_(inactive)/Drosophila_ananassae_combined.fasta\n",
      "Sequence type: Protein\n",
      "Keep MBits: T\n",
      "Maximum file size: 1000000000B\n",
      "Adding sequences from FASTA; added 2 sequences in 0.000905037 seconds.\n",
      "\n",
      "\n",
      "Building a new DB, current time: 11/19/2024 11:46:30\n",
      "New DB name:   /Users/albertothornton/Desktop/Kamikouchi lab/Blast Code and data/blast_databases/iav_(inactive)/Drosophila_erecta_combined\n",
      "New DB title:  Protein_FASTA_Files/iav_(inactive)/Drosophila_erecta_combined.fasta\n",
      "Sequence type: Protein\n",
      "Keep MBits: T\n",
      "Maximum file size: 1000000000B\n",
      "Adding sequences from FASTA; added 1 sequences in 0.000505924 seconds.\n",
      "\n",
      "\n",
      "Building a new DB, current time: 11/19/2024 11:46:30\n",
      "New DB name:   /Users/albertothornton/Desktop/Kamikouchi lab/Blast Code and data/blast_databases/iav_(inactive)/Drosophila_simulans_combined\n",
      "New DB title:  Protein_FASTA_Files/iav_(inactive)/Drosophila_simulans_combined.fasta\n",
      "Sequence type: Protein\n",
      "Keep MBits: T\n",
      "Maximum file size: 1000000000B\n",
      "Adding sequences from FASTA; added 2 sequences in 0.000926018 seconds.\n",
      "\n",
      "\n",
      "Building a new DB, current time: 11/19/2024 11:46:30\n",
      "New DB name:   /Users/albertothornton/Desktop/Kamikouchi lab/Blast Code and data/blast_databases/iav_(inactive)/Drosophila_mauritiana_combined\n",
      "New DB title:  Protein_FASTA_Files/iav_(inactive)/Drosophila_mauritiana_combined.fasta\n",
      "Sequence type: Protein\n",
      "Keep MBits: T\n",
      "Maximum file size: 1000000000B\n",
      "Adding sequences from FASTA; added 2 sequences in 0.00114799 seconds.\n",
      "\n",
      "\n",
      "Building a new DB, current time: 11/19/2024 11:46:30\n",
      "New DB name:   /Users/albertothornton/Desktop/Kamikouchi lab/Blast Code and data/blast_databases/f_(forked)/Drosophila_melanogaster_combined\n",
      "New DB title:  Protein_FASTA_Files/f_(forked)/Drosophila_melanogaster_combined.fasta\n",
      "Sequence type: Protein\n",
      "Keep MBits: T\n",
      "Maximum file size: 1000000000B\n",
      "Adding sequences from FASTA; added 20 sequences in 0.00226903 seconds.\n",
      "\n",
      "\n",
      "Building a new DB, current time: 11/19/2024 11:46:30\n",
      "New DB name:   /Users/albertothornton/Desktop/Kamikouchi lab/Blast Code and data/blast_databases/f_(forked)/Drosophila_teissieri_combined\n",
      "New DB title:  Protein_FASTA_Files/f_(forked)/Drosophila_teissieri_combined.fasta\n",
      "Sequence type: Protein\n",
      "Keep MBits: T\n",
      "Maximum file size: 1000000000B\n",
      "Adding sequences from FASTA; added 2 sequences in 0.000944138 seconds.\n",
      "\n",
      "\n",
      "Building a new DB, current time: 11/19/2024 11:46:31\n",
      "New DB name:   /Users/albertothornton/Desktop/Kamikouchi lab/Blast Code and data/blast_databases/f_(forked)/Drosophila_yakuba_combined\n",
      "New DB title:  Protein_FASTA_Files/f_(forked)/Drosophila_yakuba_combined.fasta\n",
      "Sequence type: Protein\n",
      "Keep MBits: T\n",
      "Maximum file size: 1000000000B\n",
      "Adding sequences from FASTA; added 8 sequences in 0.00193214 seconds.\n",
      "\n",
      "\n",
      "Building a new DB, current time: 11/19/2024 11:46:31\n",
      "New DB name:   /Users/albertothornton/Desktop/Kamikouchi lab/Blast Code and data/blast_databases/f_(forked)/Drosophila_ananassae_combined\n",
      "New DB title:  Protein_FASTA_Files/f_(forked)/Drosophila_ananassae_combined.fasta\n",
      "Sequence type: Protein\n",
      "Keep MBits: T\n",
      "Maximum file size: 1000000000B\n",
      "Adding sequences from FASTA; added 8 sequences in 0.00162911 seconds.\n",
      "\n",
      "\n",
      "Building a new DB, current time: 11/19/2024 11:46:31\n",
      "New DB name:   /Users/albertothornton/Desktop/Kamikouchi lab/Blast Code and data/blast_databases/f_(forked)/Drosophila_erecta_combined\n",
      "New DB title:  Protein_FASTA_Files/f_(forked)/Drosophila_erecta_combined.fasta\n",
      "Sequence type: Protein\n",
      "Keep MBits: T\n",
      "Maximum file size: 1000000000B\n",
      "Adding sequences from FASTA; added 10 sequences in 0.00148916 seconds.\n",
      "\n",
      "\n",
      "Building a new DB, current time: 11/19/2024 11:46:31\n",
      "New DB name:   /Users/albertothornton/Desktop/Kamikouchi lab/Blast Code and data/blast_databases/f_(forked)/Drosophila_simulans_combined\n",
      "New DB title:  Protein_FASTA_Files/f_(forked)/Drosophila_simulans_combined.fasta\n",
      "Sequence type: Protein\n",
      "Keep MBits: T\n",
      "Maximum file size: 1000000000B\n",
      "Adding sequences from FASTA; added 10 sequences in 0.00179911 seconds.\n",
      "\n",
      "\n",
      "Building a new DB, current time: 11/19/2024 11:46:31\n",
      "New DB name:   /Users/albertothornton/Desktop/Kamikouchi lab/Blast Code and data/blast_databases/f_(forked)/Drosophila_mauritiana_combined\n",
      "New DB title:  Protein_FASTA_Files/f_(forked)/Drosophila_mauritiana_combined.fasta\n",
      "Sequence type: Protein\n",
      "Keep MBits: T\n",
      "Maximum file size: 1000000000B\n",
      "Adding sequences from FASTA; added 12 sequences in 0.00153017 seconds.\n",
      "\n",
      "\n",
      "Building a new DB, current time: 11/19/2024 11:46:31\n",
      "New DB name:   /Users/albertothornton/Desktop/Kamikouchi lab/Blast Code and data/blast_databases/Ank2_(Ankyrin_2)/Drosophila_melanogaster_combined\n",
      "New DB title:  Protein_FASTA_Files/Ank2_(Ankyrin_2)/Drosophila_melanogaster_combined.fasta\n",
      "Sequence type: Protein\n",
      "Keep MBits: T\n",
      "Maximum file size: 1000000000B\n",
      "Adding sequences from FASTA; added 20 sequences in 0.00331807 seconds.\n",
      "\n",
      "\n",
      "Building a new DB, current time: 11/19/2024 11:46:31\n",
      "New DB name:   /Users/albertothornton/Desktop/Kamikouchi lab/Blast Code and data/blast_databases/Ank2_(Ankyrin_2)/Drosophila_teissieri_combined\n",
      "New DB title:  Protein_FASTA_Files/Ank2_(Ankyrin_2)/Drosophila_teissieri_combined.fasta\n",
      "Sequence type: Protein\n",
      "Keep MBits: T\n",
      "Maximum file size: 1000000000B\n",
      "Adding sequences from FASTA; added 1 sequences in 0.00187683 seconds.\n",
      "\n",
      "\n",
      "Building a new DB, current time: 11/19/2024 11:46:31\n",
      "New DB name:   /Users/albertothornton/Desktop/Kamikouchi lab/Blast Code and data/blast_databases/Ank2_(Ankyrin_2)/Drosophila_yakuba_combined\n",
      "New DB title:  Protein_FASTA_Files/Ank2_(Ankyrin_2)/Drosophila_yakuba_combined.fasta\n",
      "Sequence type: Protein\n",
      "Keep MBits: T\n",
      "Maximum file size: 1000000000B\n",
      "Adding sequences from FASTA; added 20 sequences in 0.00625706 seconds.\n",
      "\n",
      "\n",
      "Building a new DB, current time: 11/19/2024 11:46:32\n",
      "New DB name:   /Users/albertothornton/Desktop/Kamikouchi lab/Blast Code and data/blast_databases/Ank2_(Ankyrin_2)/Drosophila_ananassae_combined\n",
      "New DB title:  Protein_FASTA_Files/Ank2_(Ankyrin_2)/Drosophila_ananassae_combined.fasta\n",
      "Sequence type: Protein\n",
      "Keep MBits: T\n",
      "Maximum file size: 1000000000B\n",
      "Adding sequences from FASTA; added 20 sequences in 0.00958014 seconds.\n",
      "\n",
      "\n",
      "Building a new DB, current time: 11/19/2024 11:46:32\n",
      "New DB name:   /Users/albertothornton/Desktop/Kamikouchi lab/Blast Code and data/blast_databases/Ank2_(Ankyrin_2)/Drosophila_erecta_combined\n",
      "New DB title:  Protein_FASTA_Files/Ank2_(Ankyrin_2)/Drosophila_erecta_combined.fasta\n",
      "Sequence type: Protein\n",
      "Keep MBits: T\n",
      "Maximum file size: 1000000000B\n",
      "Adding sequences from FASTA; added 7 sequences in 0.00203896 seconds.\n",
      "\n",
      "\n",
      "Building a new DB, current time: 11/19/2024 11:46:32\n",
      "New DB name:   /Users/albertothornton/Desktop/Kamikouchi lab/Blast Code and data/blast_databases/Ank2_(Ankyrin_2)/Drosophila_simulans_combined\n",
      "New DB title:  Protein_FASTA_Files/Ank2_(Ankyrin_2)/Drosophila_simulans_combined.fasta\n",
      "Sequence type: Protein\n",
      "Keep MBits: T\n",
      "Maximum file size: 1000000000B\n",
      "Adding sequences from FASTA; added 1 sequences in 0.000632048 seconds.\n",
      "\n",
      "\n",
      "Building a new DB, current time: 11/19/2024 11:46:32\n",
      "New DB name:   /Users/albertothornton/Desktop/Kamikouchi lab/Blast Code and data/blast_databases/Ank2_(Ankyrin_2)/Drosophila_mauritiana_combined\n",
      "New DB title:  Protein_FASTA_Files/Ank2_(Ankyrin_2)/Drosophila_mauritiana_combined.fasta\n",
      "Sequence type: Protein\n",
      "Keep MBits: T\n",
      "Maximum file size: 1000000000B\n",
      "Adding sequences from FASTA; added 18 sequences in 0.0032661 seconds.\n",
      "\n",
      "\n",
      "Building a new DB, current time: 11/19/2024 11:46:32\n",
      "New DB name:   /Users/albertothornton/Desktop/Kamikouchi lab/Blast Code and data/blast_databases/ck_(crinkled)_/Drosophila_melanogaster_combined\n",
      "New DB title:  Protein_FASTA_Files/ck_(crinkled)_/Drosophila_melanogaster_combined.fasta\n",
      "Sequence type: Protein\n",
      "Keep MBits: T\n",
      "Maximum file size: 1000000000B\n",
      "Adding sequences from FASTA; added 9 sequences in 0.00173187 seconds.\n",
      "\n",
      "\n",
      "Building a new DB, current time: 11/19/2024 11:46:32\n",
      "New DB name:   /Users/albertothornton/Desktop/Kamikouchi lab/Blast Code and data/blast_databases/ck_(crinkled)_/Drosophila_teissieri_combined\n",
      "New DB title:  Protein_FASTA_Files/ck_(crinkled)_/Drosophila_teissieri_combined.fasta\n",
      "Sequence type: Protein\n",
      "Keep MBits: T\n",
      "Maximum file size: 1000000000B\n",
      "Adding sequences from FASTA; added 3 sequences in 0.00126815 seconds.\n",
      "\n",
      "\n",
      "Building a new DB, current time: 11/19/2024 11:46:32\n",
      "New DB name:   /Users/albertothornton/Desktop/Kamikouchi lab/Blast Code and data/blast_databases/ck_(crinkled)_/Drosophila_yakuba_combined\n",
      "New DB title:  Protein_FASTA_Files/ck_(crinkled)_/Drosophila_yakuba_combined.fasta\n",
      "Sequence type: Protein\n",
      "Keep MBits: T\n",
      "Maximum file size: 1000000000B\n",
      "Adding sequences from FASTA; added 1 sequences in 0.000405073 seconds.\n",
      "\n",
      "\n",
      "Building a new DB, current time: 11/19/2024 11:46:32\n",
      "New DB name:   /Users/albertothornton/Desktop/Kamikouchi lab/Blast Code and data/blast_databases/ck_(crinkled)_/Drosophila_ananassae_combined\n",
      "New DB title:  Protein_FASTA_Files/ck_(crinkled)_/Drosophila_ananassae_combined.fasta\n",
      "Sequence type: Protein\n",
      "Keep MBits: T\n",
      "Maximum file size: 1000000000B\n",
      "Adding sequences from FASTA; added 2 sequences in 0.001091 seconds.\n",
      "\n",
      "\n",
      "Building a new DB, current time: 11/19/2024 11:46:32\n",
      "New DB name:   /Users/albertothornton/Desktop/Kamikouchi lab/Blast Code and data/blast_databases/ck_(crinkled)_/Drosophila_erecta_combined\n",
      "New DB title:  Protein_FASTA_Files/ck_(crinkled)_/Drosophila_erecta_combined.fasta\n",
      "Sequence type: Protein\n",
      "Keep MBits: T\n",
      "Maximum file size: 1000000000B\n",
      "Adding sequences from FASTA; added 5 sequences in 0.0017302 seconds.\n",
      "\n",
      "\n",
      "Building a new DB, current time: 11/19/2024 11:46:33\n",
      "New DB name:   /Users/albertothornton/Desktop/Kamikouchi lab/Blast Code and data/blast_databases/ck_(crinkled)_/Drosophila_simulans_combined\n",
      "New DB title:  Protein_FASTA_Files/ck_(crinkled)_/Drosophila_simulans_combined.fasta\n",
      "Sequence type: Protein\n",
      "Keep MBits: T\n",
      "Maximum file size: 1000000000B\n",
      "Adding sequences from FASTA; added 4 sequences in 0.00117779 seconds.\n",
      "\n",
      "\n",
      "Building a new DB, current time: 11/19/2024 11:46:33\n",
      "New DB name:   /Users/albertothornton/Desktop/Kamikouchi lab/Blast Code and data/blast_databases/ck_(crinkled)_/Drosophila_mauritiana_combined\n",
      "New DB title:  Protein_FASTA_Files/ck_(crinkled)_/Drosophila_mauritiana_combined.fasta\n",
      "Sequence type: Protein\n",
      "Keep MBits: T\n",
      "Maximum file size: 1000000000B\n",
      "Adding sequences from FASTA; added 4 sequences in 0.00112891 seconds.\n",
      "\n",
      "\n",
      "Building a new DB, current time: 11/19/2024 11:46:33\n",
      "New DB name:   /Users/albertothornton/Desktop/Kamikouchi lab/Blast Code and data/blast_databases/Cam_(Calmodulin)/Drosophila_melanogaster_combined\n",
      "New DB title:  Protein_FASTA_Files/Cam_(Calmodulin)/Drosophila_melanogaster_combined.fasta\n",
      "Sequence type: Protein\n",
      "Keep MBits: T\n",
      "Maximum file size: 1000000000B\n",
      "Adding sequences from FASTA; added 20 sequences in 0.00207901 seconds.\n",
      "\n",
      "\n",
      "Building a new DB, current time: 11/19/2024 11:46:33\n",
      "New DB name:   /Users/albertothornton/Desktop/Kamikouchi lab/Blast Code and data/blast_databases/Cam_(Calmodulin)/Drosophila_teissieri_combined\n",
      "New DB title:  Protein_FASTA_Files/Cam_(Calmodulin)/Drosophila_teissieri_combined.fasta\n",
      "Sequence type: Protein\n",
      "Keep MBits: T\n",
      "Maximum file size: 1000000000B\n",
      "Adding sequences from FASTA; added 2 sequences in 0.000959873 seconds.\n",
      "\n",
      "\n",
      "Building a new DB, current time: 11/19/2024 11:46:33\n",
      "New DB name:   /Users/albertothornton/Desktop/Kamikouchi lab/Blast Code and data/blast_databases/Cam_(Calmodulin)/Drosophila_yakuba_combined\n",
      "New DB title:  Protein_FASTA_Files/Cam_(Calmodulin)/Drosophila_yakuba_combined.fasta\n",
      "Sequence type: Protein\n",
      "Keep MBits: T\n",
      "Maximum file size: 1000000000B\n",
      "Adding sequences from FASTA; added 2 sequences in 0.00102901 seconds.\n",
      "\n",
      "\n",
      "Building a new DB, current time: 11/19/2024 11:46:33\n",
      "New DB name:   /Users/albertothornton/Desktop/Kamikouchi lab/Blast Code and data/blast_databases/Cam_(Calmodulin)/Drosophila_ananassae_combined\n",
      "New DB title:  Protein_FASTA_Files/Cam_(Calmodulin)/Drosophila_ananassae_combined.fasta\n",
      "Sequence type: Protein\n",
      "Keep MBits: T\n",
      "Maximum file size: 1000000000B\n",
      "Adding sequences from FASTA; added 2 sequences in 0.00133801 seconds.\n",
      "\n",
      "\n",
      "Building a new DB, current time: 11/19/2024 11:46:33\n",
      "New DB name:   /Users/albertothornton/Desktop/Kamikouchi lab/Blast Code and data/blast_databases/Cam_(Calmodulin)/Drosophila_erecta_combined\n",
      "New DB title:  Protein_FASTA_Files/Cam_(Calmodulin)/Drosophila_erecta_combined.fasta\n",
      "Sequence type: Protein\n",
      "Keep MBits: T\n",
      "Maximum file size: 1000000000B\n",
      "Adding sequences from FASTA; added 2 sequences in 0.00223994 seconds.\n",
      "\n",
      "\n",
      "Building a new DB, current time: 11/19/2024 11:46:34\n",
      "New DB name:   /Users/albertothornton/Desktop/Kamikouchi lab/Blast Code and data/blast_databases/Cam_(Calmodulin)/Drosophila_simulans_combined\n",
      "New DB title:  Protein_FASTA_Files/Cam_(Calmodulin)/Drosophila_simulans_combined.fasta\n",
      "Sequence type: Protein\n",
      "Keep MBits: T\n",
      "Maximum file size: 1000000000B\n",
      "Adding sequences from FASTA; added 2 sequences in 0.000955105 seconds.\n",
      "\n",
      "\n",
      "Building a new DB, current time: 11/19/2024 11:46:34\n",
      "New DB name:   /Users/albertothornton/Desktop/Kamikouchi lab/Blast Code and data/blast_databases/Cam_(Calmodulin)/Drosophila_mauritiana_combined\n",
      "New DB title:  Protein_FASTA_Files/Cam_(Calmodulin)/Drosophila_mauritiana_combined.fasta\n",
      "Sequence type: Protein\n",
      "Keep MBits: T\n",
      "Maximum file size: 1000000000B\n",
      "Adding sequences from FASTA; added 1 sequences in 0.00258088 seconds.\n",
      "\n",
      "\n",
      "Building a new DB, current time: 11/19/2024 11:46:34\n",
      "New DB name:   /Users/albertothornton/Desktop/Kamikouchi lab/Blast Code and data/blast_databases/trp_(transient_receptor_potential)/Drosophila_melanogaster_combined\n",
      "New DB title:  Protein_FASTA_Files/trp_(transient_receptor_potential)/Drosophila_melanogaster_combined.fasta\n",
      "Sequence type: Protein\n",
      "Keep MBits: T\n",
      "Maximum file size: 1000000000B\n",
      "Adding sequences from FASTA; added 18 sequences in 0.00387406 seconds.\n",
      "\n",
      "\n",
      "Building a new DB, current time: 11/19/2024 11:46:34\n",
      "New DB name:   /Users/albertothornton/Desktop/Kamikouchi lab/Blast Code and data/blast_databases/trp_(transient_receptor_potential)/Drosophila_teissieri_combined\n",
      "New DB title:  Protein_FASTA_Files/trp_(transient_receptor_potential)/Drosophila_teissieri_combined.fasta\n",
      "Sequence type: Protein\n",
      "Keep MBits: T\n",
      "Maximum file size: 1000000000B\n",
      "Adding sequences from FASTA; added 1 sequences in 0.00039196 seconds.\n",
      "\n",
      "\n",
      "Building a new DB, current time: 11/19/2024 11:46:34\n",
      "New DB name:   /Users/albertothornton/Desktop/Kamikouchi lab/Blast Code and data/blast_databases/trp_(transient_receptor_potential)/Drosophila_yakuba_combined\n",
      "New DB title:  Protein_FASTA_Files/trp_(transient_receptor_potential)/Drosophila_yakuba_combined.fasta\n",
      "Sequence type: Protein\n",
      "Keep MBits: T\n",
      "Maximum file size: 1000000000B\n",
      "Adding sequences from FASTA; added 1 sequences in 0.00039196 seconds.\n",
      "\n",
      "\n",
      "Building a new DB, current time: 11/19/2024 11:46:34\n",
      "New DB name:   /Users/albertothornton/Desktop/Kamikouchi lab/Blast Code and data/blast_databases/trp_(transient_receptor_potential)/Drosophila_ananassae_combined\n",
      "New DB title:  Protein_FASTA_Files/trp_(transient_receptor_potential)/Drosophila_ananassae_combined.fasta\n",
      "Sequence type: Protein\n",
      "Keep MBits: T\n",
      "Maximum file size: 1000000000B\n",
      "Adding sequences from FASTA; added 1 sequences in 0.000551939 seconds.\n",
      "\n",
      "\n",
      "Building a new DB, current time: 11/19/2024 11:46:34\n",
      "New DB name:   /Users/albertothornton/Desktop/Kamikouchi lab/Blast Code and data/blast_databases/trp_(transient_receptor_potential)/Drosophila_erecta_combined\n",
      "New DB title:  Protein_FASTA_Files/trp_(transient_receptor_potential)/Drosophila_erecta_combined.fasta\n",
      "Sequence type: Protein\n",
      "Keep MBits: T\n",
      "Maximum file size: 1000000000B\n",
      "Adding sequences from FASTA; added 1 sequences in 0.00039196 seconds.\n",
      "\n",
      "\n",
      "Building a new DB, current time: 11/19/2024 11:46:35\n",
      "New DB name:   /Users/albertothornton/Desktop/Kamikouchi lab/Blast Code and data/blast_databases/trp_(transient_receptor_potential)/Drosophila_simulans_combined\n",
      "New DB title:  Protein_FASTA_Files/trp_(transient_receptor_potential)/Drosophila_simulans_combined.fasta\n",
      "Sequence type: Protein\n",
      "Keep MBits: T\n",
      "Maximum file size: 1000000000B\n",
      "Adding sequences from FASTA; added 1 sequences in 0.000386953 seconds.\n",
      "\n",
      "\n",
      "Building a new DB, current time: 11/19/2024 11:46:35\n",
      "New DB name:   /Users/albertothornton/Desktop/Kamikouchi lab/Blast Code and data/blast_databases/trp_(transient_receptor_potential)/Drosophila_mauritiana_combined\n",
      "New DB title:  Protein_FASTA_Files/trp_(transient_receptor_potential)/Drosophila_mauritiana_combined.fasta\n",
      "Sequence type: Protein\n",
      "Keep MBits: T\n",
      "Maximum file size: 1000000000B\n",
      "Adding sequences from FASTA; added 1 sequences in 0.000585079 seconds.\n",
      "\n",
      "\n",
      "Building a new DB, current time: 11/19/2024 11:46:35\n",
      "New DB name:   /Users/albertothornton/Desktop/Kamikouchi lab/Blast Code and data/blast_databases/nompA_(no_mechanoreceptor_potential_A)/Drosophila_melanogaster_combined\n",
      "New DB title:  Protein_FASTA_Files/nompA_(no_mechanoreceptor_potential_A)/Drosophila_melanogaster_combined.fasta\n",
      "Sequence type: Protein\n",
      "Keep MBits: T\n",
      "Maximum file size: 1000000000B\n",
      "Adding sequences from FASTA; added 14 sequences in 0.00197101 seconds.\n",
      "\n",
      "\n",
      "Building a new DB, current time: 11/19/2024 11:46:35\n",
      "New DB name:   /Users/albertothornton/Desktop/Kamikouchi lab/Blast Code and data/blast_databases/nompA_(no_mechanoreceptor_potential_A)/Drosophila_teissieri_combined\n",
      "New DB title:  Protein_FASTA_Files/nompA_(no_mechanoreceptor_potential_A)/Drosophila_teissieri_combined.fasta\n",
      "Sequence type: Protein\n",
      "Keep MBits: T\n",
      "Maximum file size: 1000000000B\n",
      "Adding sequences from FASTA; added 1 sequences in 0.000583887 seconds.\n",
      "\n",
      "\n",
      "Building a new DB, current time: 11/19/2024 11:46:35\n",
      "New DB name:   /Users/albertothornton/Desktop/Kamikouchi lab/Blast Code and data/blast_databases/nompA_(no_mechanoreceptor_potential_A)/Drosophila_yakuba_combined\n",
      "New DB title:  Protein_FASTA_Files/nompA_(no_mechanoreceptor_potential_A)/Drosophila_yakuba_combined.fasta\n",
      "Sequence type: Protein\n",
      "Keep MBits: T\n",
      "Maximum file size: 1000000000B\n",
      "Adding sequences from FASTA; added 1 sequences in 0.000887156 seconds.\n",
      "\n",
      "\n",
      "Building a new DB, current time: 11/19/2024 11:46:35\n",
      "New DB name:   /Users/albertothornton/Desktop/Kamikouchi lab/Blast Code and data/blast_databases/nompA_(no_mechanoreceptor_potential_A)/Drosophila_ananassae_combined\n",
      "New DB title:  Protein_FASTA_Files/nompA_(no_mechanoreceptor_potential_A)/Drosophila_ananassae_combined.fasta\n",
      "Sequence type: Protein\n",
      "Keep MBits: T\n",
      "Maximum file size: 1000000000B\n",
      "Adding sequences from FASTA; added 3 sequences in 0.00100207 seconds.\n",
      "\n",
      "\n",
      "Building a new DB, current time: 11/19/2024 11:46:35\n",
      "New DB name:   /Users/albertothornton/Desktop/Kamikouchi lab/Blast Code and data/blast_databases/nompA_(no_mechanoreceptor_potential_A)/Drosophila_erecta_combined\n",
      "New DB title:  Protein_FASTA_Files/nompA_(no_mechanoreceptor_potential_A)/Drosophila_erecta_combined.fasta\n",
      "Sequence type: Protein\n",
      "Keep MBits: T\n",
      "Maximum file size: 1000000000B\n",
      "Adding sequences from FASTA; added 4 sequences in 0.00217795 seconds.\n",
      "\n",
      "\n",
      "Building a new DB, current time: 11/19/2024 11:46:35\n",
      "New DB name:   /Users/albertothornton/Desktop/Kamikouchi lab/Blast Code and data/blast_databases/nompA_(no_mechanoreceptor_potential_A)/Drosophila_simulans_combined\n",
      "New DB title:  Protein_FASTA_Files/nompA_(no_mechanoreceptor_potential_A)/Drosophila_simulans_combined.fasta\n",
      "Sequence type: Protein\n",
      "Keep MBits: T\n",
      "Maximum file size: 1000000000B\n",
      "Adding sequences from FASTA; added 1 sequences in 0.00071907 seconds.\n",
      "\n",
      "\n",
      "Building a new DB, current time: 11/19/2024 11:46:35\n",
      "New DB name:   /Users/albertothornton/Desktop/Kamikouchi lab/Blast Code and data/blast_databases/nompA_(no_mechanoreceptor_potential_A)/Drosophila_mauritiana_combined\n",
      "New DB title:  Protein_FASTA_Files/nompA_(no_mechanoreceptor_potential_A)/Drosophila_mauritiana_combined.fasta\n",
      "Sequence type: Protein\n",
      "Keep MBits: T\n",
      "Maximum file size: 1000000000B\n",
      "Adding sequences from FASTA; added 1 sequences in 0.000406027 seconds.\n",
      "\n",
      "\n",
      "Building a new DB, current time: 11/19/2024 11:46:35\n",
      "New DB name:   /Users/albertothornton/Desktop/Kamikouchi lab/Blast Code and data/blast_databases/tilB_(touch_insensitive_larva_B)/Drosophila_melanogaster_combined\n",
      "New DB title:  Protein_FASTA_Files/tilB_(touch_insensitive_larva_B)/Drosophila_melanogaster_combined.fasta\n",
      "Sequence type: Protein\n",
      "Keep MBits: T\n",
      "Maximum file size: 1000000000B\n",
      "Adding sequences from FASTA; added 3 sequences in 0.00125599 seconds.\n",
      "\n",
      "\n",
      "Building a new DB, current time: 11/19/2024 11:46:36\n",
      "New DB name:   /Users/albertothornton/Desktop/Kamikouchi lab/Blast Code and data/blast_databases/tilB_(touch_insensitive_larva_B)/Drosophila_teissieri_combined\n",
      "New DB title:  Protein_FASTA_Files/tilB_(touch_insensitive_larva_B)/Drosophila_teissieri_combined.fasta\n",
      "Sequence type: Protein\n",
      "Keep MBits: T\n",
      "Maximum file size: 1000000000B\n",
      "Adding sequences from FASTA; added 1 sequences in 0.00036788 seconds.\n",
      "\n",
      "\n",
      "Building a new DB, current time: 11/19/2024 11:46:36\n",
      "New DB name:   /Users/albertothornton/Desktop/Kamikouchi lab/Blast Code and data/blast_databases/tilB_(touch_insensitive_larva_B)/Drosophila_yakuba_combined\n",
      "New DB title:  Protein_FASTA_Files/tilB_(touch_insensitive_larva_B)/Drosophila_yakuba_combined.fasta\n",
      "Sequence type: Protein\n",
      "Keep MBits: T\n",
      "Maximum file size: 1000000000B\n",
      "Adding sequences from FASTA; added 1 sequences in 0.000370026 seconds.\n",
      "\n",
      "\n",
      "Building a new DB, current time: 11/19/2024 11:46:36\n",
      "New DB name:   /Users/albertothornton/Desktop/Kamikouchi lab/Blast Code and data/blast_databases/tilB_(touch_insensitive_larva_B)/Drosophila_ananassae_combined\n",
      "New DB title:  Protein_FASTA_Files/tilB_(touch_insensitive_larva_B)/Drosophila_ananassae_combined.fasta\n",
      "Sequence type: Protein\n",
      "Keep MBits: T\n",
      "Maximum file size: 1000000000B\n",
      "Adding sequences from FASTA; added 1 sequences in 0.000369072 seconds.\n",
      "\n",
      "\n",
      "Building a new DB, current time: 11/19/2024 11:46:36\n",
      "New DB name:   /Users/albertothornton/Desktop/Kamikouchi lab/Blast Code and data/blast_databases/tilB_(touch_insensitive_larva_B)/Drosophila_erecta_combined\n",
      "New DB title:  Protein_FASTA_Files/tilB_(touch_insensitive_larva_B)/Drosophila_erecta_combined.fasta\n",
      "Sequence type: Protein\n",
      "Keep MBits: T\n",
      "Maximum file size: 1000000000B\n",
      "Adding sequences from FASTA; added 1 sequences in 0.000364065 seconds.\n",
      "\n",
      "\n",
      "Building a new DB, current time: 11/19/2024 11:46:36\n",
      "New DB name:   /Users/albertothornton/Desktop/Kamikouchi lab/Blast Code and data/blast_databases/tilB_(touch_insensitive_larva_B)/Drosophila_simulans_combined\n",
      "New DB title:  Protein_FASTA_Files/tilB_(touch_insensitive_larva_B)/Drosophila_simulans_combined.fasta\n",
      "Sequence type: Protein\n",
      "Keep MBits: T\n",
      "Maximum file size: 1000000000B\n",
      "Adding sequences from FASTA; added 1 sequences in 0.000440836 seconds.\n",
      "\n",
      "\n",
      "Building a new DB, current time: 11/19/2024 11:46:36\n",
      "New DB name:   /Users/albertothornton/Desktop/Kamikouchi lab/Blast Code and data/blast_databases/tilB_(touch_insensitive_larva_B)/Drosophila_mauritiana_combined\n",
      "New DB title:  Protein_FASTA_Files/tilB_(touch_insensitive_larva_B)/Drosophila_mauritiana_combined.fasta\n",
      "Sequence type: Protein\n",
      "Keep MBits: T\n",
      "Maximum file size: 1000000000B\n",
      "Adding sequences from FASTA; added 1 sequences in 0.000387192 seconds.\n",
      "\n",
      "\n",
      "Building a new DB, current time: 11/19/2024 11:46:36\n",
      "New DB name:   /Users/albertothornton/Desktop/Kamikouchi lab/Blast Code and data/blast_databases/plp_(pericentrin-like_protein)/Drosophila_melanogaster_combined\n",
      "New DB title:  Protein_FASTA_Files/plp_(pericentrin-like_protein)/Drosophila_melanogaster_combined.fasta\n",
      "Sequence type: Protein\n",
      "Keep MBits: T\n",
      "Maximum file size: 1000000000B\n",
      "Adding sequences from FASTA; added 20 sequences in 0.00320792 seconds.\n",
      "\n",
      "\n",
      "Building a new DB, current time: 11/19/2024 11:46:36\n",
      "New DB name:   /Users/albertothornton/Desktop/Kamikouchi lab/Blast Code and data/blast_databases/plp_(pericentrin-like_protein)/Drosophila_teissieri_combined\n",
      "New DB title:  Protein_FASTA_Files/plp_(pericentrin-like_protein)/Drosophila_teissieri_combined.fasta\n",
      "Sequence type: Protein\n",
      "Keep MBits: T\n",
      "Maximum file size: 1000000000B\n",
      "Adding sequences from FASTA; added 7 sequences in 0.00188613 seconds.\n",
      "\n",
      "\n",
      "Building a new DB, current time: 11/19/2024 11:46:36\n",
      "New DB name:   /Users/albertothornton/Desktop/Kamikouchi lab/Blast Code and data/blast_databases/plp_(pericentrin-like_protein)/Drosophila_yakuba_combined\n",
      "New DB title:  Protein_FASTA_Files/plp_(pericentrin-like_protein)/Drosophila_yakuba_combined.fasta\n",
      "Sequence type: Protein\n",
      "Keep MBits: T\n",
      "Maximum file size: 1000000000B\n",
      "Adding sequences from FASTA; added 12 sequences in 0.00409007 seconds.\n",
      "\n",
      "\n",
      "Building a new DB, current time: 11/19/2024 11:46:36\n",
      "New DB name:   /Users/albertothornton/Desktop/Kamikouchi lab/Blast Code and data/blast_databases/plp_(pericentrin-like_protein)/Drosophila_ananassae_combined\n",
      "New DB title:  Protein_FASTA_Files/plp_(pericentrin-like_protein)/Drosophila_ananassae_combined.fasta\n",
      "Sequence type: Protein\n",
      "Keep MBits: T\n",
      "Maximum file size: 1000000000B\n",
      "Adding sequences from FASTA; added 12 sequences in 0.00187802 seconds.\n",
      "\n",
      "\n",
      "Building a new DB, current time: 11/19/2024 11:46:37\n",
      "New DB name:   /Users/albertothornton/Desktop/Kamikouchi lab/Blast Code and data/blast_databases/plp_(pericentrin-like_protein)/Drosophila_erecta_combined\n",
      "New DB title:  Protein_FASTA_Files/plp_(pericentrin-like_protein)/Drosophila_erecta_combined.fasta\n",
      "Sequence type: Protein\n",
      "Keep MBits: T\n",
      "Maximum file size: 1000000000B\n",
      "Adding sequences from FASTA; added 12 sequences in 0.00289202 seconds.\n",
      "\n",
      "\n",
      "Building a new DB, current time: 11/19/2024 11:46:37\n",
      "New DB name:   /Users/albertothornton/Desktop/Kamikouchi lab/Blast Code and data/blast_databases/plp_(pericentrin-like_protein)/Drosophila_simulans_combined\n",
      "New DB title:  Protein_FASTA_Files/plp_(pericentrin-like_protein)/Drosophila_simulans_combined.fasta\n",
      "Sequence type: Protein\n",
      "Keep MBits: T\n",
      "Maximum file size: 1000000000B\n",
      "Adding sequences from FASTA; added 15 sequences in 0.00297284 seconds.\n",
      "\n",
      "\n",
      "Building a new DB, current time: 11/19/2024 11:46:37\n",
      "New DB name:   /Users/albertothornton/Desktop/Kamikouchi lab/Blast Code and data/blast_databases/plp_(pericentrin-like_protein)/Drosophila_mauritiana_combined\n",
      "New DB title:  Protein_FASTA_Files/plp_(pericentrin-like_protein)/Drosophila_mauritiana_combined.fasta\n",
      "Sequence type: Protein\n",
      "Keep MBits: T\n",
      "Maximum file size: 1000000000B\n",
      "Adding sequences from FASTA; added 9 sequences in 0.00198889 seconds.\n",
      "\n",
      "\n",
      "Building a new DB, current time: 11/19/2024 11:46:37\n",
      "New DB name:   /Users/albertothornton/Desktop/Kamikouchi lab/Blast Code and data/blast_databases/wtrw_(water_witch)/Drosophila_melanogaster_combined\n",
      "New DB title:  Protein_FASTA_Files/wtrw_(water_witch)/Drosophila_melanogaster_combined.fasta\n",
      "Sequence type: Protein\n",
      "Keep MBits: T\n",
      "Maximum file size: 1000000000B\n",
      "Adding sequences from FASTA; added 8 sequences in 0.00245094 seconds.\n",
      "\n",
      "\n",
      "Building a new DB, current time: 11/19/2024 11:46:37\n",
      "New DB name:   /Users/albertothornton/Desktop/Kamikouchi lab/Blast Code and data/blast_databases/wtrw_(water_witch)/Drosophila_teissieri_combined\n",
      "New DB title:  Protein_FASTA_Files/wtrw_(water_witch)/Drosophila_teissieri_combined.fasta\n",
      "Sequence type: Protein\n",
      "Keep MBits: T\n",
      "Maximum file size: 1000000000B\n",
      "Adding sequences from FASTA; added 3 sequences in 0.00102115 seconds.\n",
      "\n",
      "\n",
      "Building a new DB, current time: 11/19/2024 11:46:37\n",
      "New DB name:   /Users/albertothornton/Desktop/Kamikouchi lab/Blast Code and data/blast_databases/wtrw_(water_witch)/Drosophila_yakuba_combined\n",
      "New DB title:  Protein_FASTA_Files/wtrw_(water_witch)/Drosophila_yakuba_combined.fasta\n",
      "Sequence type: Protein\n",
      "Keep MBits: T\n",
      "Maximum file size: 1000000000B\n",
      "Adding sequences from FASTA; added 4 sequences in 0.0010941 seconds.\n",
      "\n",
      "\n",
      "Building a new DB, current time: 11/19/2024 11:46:37\n",
      "New DB name:   /Users/albertothornton/Desktop/Kamikouchi lab/Blast Code and data/blast_databases/wtrw_(water_witch)/Drosophila_ananassae_combined\n",
      "New DB title:  Protein_FASTA_Files/wtrw_(water_witch)/Drosophila_ananassae_combined.fasta\n",
      "Sequence type: Protein\n",
      "Keep MBits: T\n",
      "Maximum file size: 1000000000B\n",
      "Adding sequences from FASTA; added 4 sequences in 0.00138402 seconds.\n",
      "\n",
      "\n",
      "Building a new DB, current time: 11/19/2024 11:46:37\n",
      "New DB name:   /Users/albertothornton/Desktop/Kamikouchi lab/Blast Code and data/blast_databases/wtrw_(water_witch)/Drosophila_erecta_combined\n",
      "New DB title:  Protein_FASTA_Files/wtrw_(water_witch)/Drosophila_erecta_combined.fasta\n",
      "Sequence type: Protein\n",
      "Keep MBits: T\n",
      "Maximum file size: 1000000000B\n",
      "Adding sequences from FASTA; added 5 sequences in 0.00152802 seconds.\n",
      "\n",
      "\n",
      "Building a new DB, current time: 11/19/2024 11:46:37\n",
      "New DB name:   /Users/albertothornton/Desktop/Kamikouchi lab/Blast Code and data/blast_databases/wtrw_(water_witch)/Drosophila_simulans_combined\n",
      "New DB title:  Protein_FASTA_Files/wtrw_(water_witch)/Drosophila_simulans_combined.fasta\n",
      "Sequence type: Protein\n",
      "Keep MBits: T\n",
      "Maximum file size: 1000000000B\n",
      "Adding sequences from FASTA; added 5 sequences in 0.0011301 seconds.\n",
      "\n",
      "\n",
      "Building a new DB, current time: 11/19/2024 11:46:37\n",
      "New DB name:   /Users/albertothornton/Desktop/Kamikouchi lab/Blast Code and data/blast_databases/wtrw_(water_witch)/Drosophila_mauritiana_combined\n",
      "New DB title:  Protein_FASTA_Files/wtrw_(water_witch)/Drosophila_mauritiana_combined.fasta\n",
      "Sequence type: Protein\n",
      "Keep MBits: T\n",
      "Maximum file size: 1000000000B\n",
      "Adding sequences from FASTA; added 2 sequences in 0.000961065 seconds.\n",
      "\n",
      "\n",
      "Building a new DB, current time: 11/19/2024 11:46:38\n",
      "New DB name:   /Users/albertothornton/Desktop/Kamikouchi lab/Blast Code and data/blast_databases/Eb1/Drosophila_melanogaster_combined\n",
      "New DB title:  Protein_FASTA_Files/Eb1/Drosophila_melanogaster_combined.fasta\n",
      "Sequence type: Protein\n",
      "Keep MBits: T\n",
      "Maximum file size: 1000000000B\n",
      "Adding sequences from FASTA; added 17 sequences in 0.00170302 seconds.\n",
      "\n",
      "\n",
      "Building a new DB, current time: 11/19/2024 11:46:38\n",
      "New DB name:   /Users/albertothornton/Desktop/Kamikouchi lab/Blast Code and data/blast_databases/Eb1/Drosophila_teissieri_combined\n",
      "New DB title:  Protein_FASTA_Files/Eb1/Drosophila_teissieri_combined.fasta\n",
      "Sequence type: Protein\n",
      "Keep MBits: T\n",
      "Maximum file size: 1000000000B\n",
      "Adding sequences from FASTA; added 5 sequences in 0.00100994 seconds.\n",
      "\n",
      "\n",
      "Building a new DB, current time: 11/19/2024 11:46:38\n",
      "New DB name:   /Users/albertothornton/Desktop/Kamikouchi lab/Blast Code and data/blast_databases/Eb1/Drosophila_yakuba_combined\n",
      "New DB title:  Protein_FASTA_Files/Eb1/Drosophila_yakuba_combined.fasta\n",
      "Sequence type: Protein\n",
      "Keep MBits: T\n",
      "Maximum file size: 1000000000B\n",
      "\n",
      "\n",
      "Building a new DB, current time: 11/19/2024 11:46:38\n",
      "New DB name:   /Users/albertothornton/Desktop/Kamikouchi lab/Blast Code and data/blast_databases/Eb1/Drosophila_ananassae_combined\n",
      "New DB title:  Protein_FASTA_Files/Eb1/Drosophila_ananassae_combined.fasta\n",
      "Sequence type: Protein\n",
      "Keep MBits: T\n",
      "Maximum file size: 1000000000B\n",
      "Adding sequences from FASTA; added 5 sequences in 0.0010829 seconds.\n"
     ]
    },
    {
     "name": "stderr",
     "output_type": "stream",
     "text": [
      "BLAST options error: File Protein_FASTA_Files/Eb1/Drosophila_yakuba_combined.fasta is empty\n"
     ]
    },
    {
     "name": "stdout",
     "output_type": "stream",
     "text": [
      "\n",
      "\n",
      "Building a new DB, current time: 11/19/2024 11:46:38\n",
      "New DB name:   /Users/albertothornton/Desktop/Kamikouchi lab/Blast Code and data/blast_databases/Eb1/Drosophila_erecta_combined\n",
      "New DB title:  Protein_FASTA_Files/Eb1/Drosophila_erecta_combined.fasta\n",
      "Sequence type: Protein\n",
      "Keep MBits: T\n",
      "Maximum file size: 1000000000B\n",
      "Adding sequences from FASTA; added 5 sequences in 0.00119996 seconds.\n",
      "\n",
      "\n",
      "Building a new DB, current time: 11/19/2024 11:46:38\n",
      "New DB name:   /Users/albertothornton/Desktop/Kamikouchi lab/Blast Code and data/blast_databases/Eb1/Drosophila_simulans_combined\n",
      "New DB title:  Protein_FASTA_Files/Eb1/Drosophila_simulans_combined.fasta\n",
      "Sequence type: Protein\n",
      "Keep MBits: T\n",
      "Maximum file size: 1000000000B\n",
      "Adding sequences from FASTA; added 9 sequences in 0.00116301 seconds.\n",
      "\n",
      "\n",
      "Building a new DB, current time: 11/19/2024 11:46:38\n",
      "New DB name:   /Users/albertothornton/Desktop/Kamikouchi lab/Blast Code and data/blast_databases/Eb1/Drosophila_mauritiana_combined\n",
      "New DB title:  Protein_FASTA_Files/Eb1/Drosophila_mauritiana_combined.fasta\n",
      "Sequence type: Protein\n",
      "Keep MBits: T\n",
      "Maximum file size: 1000000000B\n",
      "Adding sequences from FASTA; added 8 sequences in 0.00114012 seconds.\n",
      "\n",
      "\n",
      "Building a new DB, current time: 11/19/2024 11:46:38\n",
      "New DB name:   /Users/albertothornton/Desktop/Kamikouchi lab/Blast Code and data/blast_databases/rempA_(reduced_mechanoreceptor_potential_A)/Drosophila_melanogaster_combined\n",
      "New DB title:  Protein_FASTA_Files/rempA_(reduced_mechanoreceptor_potential_A)/Drosophila_melanogaster_combined.fasta\n",
      "Sequence type: Protein\n",
      "Keep MBits: T\n",
      "Maximum file size: 1000000000B\n",
      "Adding sequences from FASTA; added 4 sequences in 0.00128603 seconds.\n",
      "\n",
      "\n",
      "Building a new DB, current time: 11/19/2024 11:46:38\n",
      "New DB name:   /Users/albertothornton/Desktop/Kamikouchi lab/Blast Code and data/blast_databases/rempA_(reduced_mechanoreceptor_potential_A)/Drosophila_teissieri_combined\n",
      "New DB title:  Protein_FASTA_Files/rempA_(reduced_mechanoreceptor_potential_A)/Drosophila_teissieri_combined.fasta\n",
      "Sequence type: Protein\n",
      "Keep MBits: T\n",
      "Maximum file size: 1000000000B\n",
      "Adding sequences from FASTA; added 3 sequences in 0.00124598 seconds.\n",
      "\n",
      "\n",
      "Building a new DB, current time: 11/19/2024 11:46:38\n",
      "New DB name:   /Users/albertothornton/Desktop/Kamikouchi lab/Blast Code and data/blast_databases/rempA_(reduced_mechanoreceptor_potential_A)/Drosophila_yakuba_combined\n",
      "New DB title:  Protein_FASTA_Files/rempA_(reduced_mechanoreceptor_potential_A)/Drosophila_yakuba_combined.fasta\n",
      "Sequence type: Protein\n",
      "Keep MBits: T\n",
      "Maximum file size: 1000000000B\n",
      "Adding sequences from FASTA; added 6 sequences in 0.00141788 seconds.\n",
      "\n",
      "\n",
      "Building a new DB, current time: 11/19/2024 11:46:39\n",
      "New DB name:   /Users/albertothornton/Desktop/Kamikouchi lab/Blast Code and data/blast_databases/rempA_(reduced_mechanoreceptor_potential_A)/Drosophila_ananassae_combined\n",
      "New DB title:  Protein_FASTA_Files/rempA_(reduced_mechanoreceptor_potential_A)/Drosophila_ananassae_combined.fasta\n",
      "Sequence type: Protein\n",
      "Keep MBits: T\n",
      "Maximum file size: 1000000000B\n",
      "Adding sequences from FASTA; added 1 sequences in 0.000415087 seconds.\n",
      "\n",
      "\n",
      "Building a new DB, current time: 11/19/2024 11:46:39\n",
      "New DB name:   /Users/albertothornton/Desktop/Kamikouchi lab/Blast Code and data/blast_databases/rempA_(reduced_mechanoreceptor_potential_A)/Drosophila_erecta_combined\n",
      "New DB title:  Protein_FASTA_Files/rempA_(reduced_mechanoreceptor_potential_A)/Drosophila_erecta_combined.fasta\n",
      "Sequence type: Protein\n",
      "Keep MBits: T\n",
      "Maximum file size: 1000000000B\n",
      "Adding sequences from FASTA; added 1 sequences in 0.00040102 seconds.\n",
      "\n",
      "\n",
      "Building a new DB, current time: 11/19/2024 11:46:39\n",
      "New DB name:   /Users/albertothornton/Desktop/Kamikouchi lab/Blast Code and data/blast_databases/rempA_(reduced_mechanoreceptor_potential_A)/Drosophila_simulans_combined\n",
      "New DB title:  Protein_FASTA_Files/rempA_(reduced_mechanoreceptor_potential_A)/Drosophila_simulans_combined.fasta\n",
      "Sequence type: Protein\n",
      "Keep MBits: T\n",
      "Maximum file size: 1000000000B\n",
      "Adding sequences from FASTA; added 2 sequences in 0.00090909 seconds.\n",
      "\n",
      "\n",
      "Building a new DB, current time: 11/19/2024 11:46:39\n",
      "New DB name:   /Users/albertothornton/Desktop/Kamikouchi lab/Blast Code and data/blast_databases/rempA_(reduced_mechanoreceptor_potential_A)/Drosophila_mauritiana_combined\n",
      "New DB title:  Protein_FASTA_Files/rempA_(reduced_mechanoreceptor_potential_A)/Drosophila_mauritiana_combined.fasta\n",
      "Sequence type: Protein\n",
      "Keep MBits: T\n",
      "Maximum file size: 1000000000B\n",
      "Adding sequences from FASTA; added 3 sequences in 0.0014689 seconds.\n",
      "\n",
      "\n",
      "Building a new DB, current time: 11/19/2024 11:46:39\n",
      "New DB name:   /Users/albertothornton/Desktop/Kamikouchi lab/Blast Code and data/blast_databases/Zmynd10_(Zinc_finger_MYND-type_containing_10)/Drosophila_melanogaster_combined\n",
      "New DB title:  Protein_FASTA_Files/Zmynd10_(Zinc_finger_MYND-type_containing_10)/Drosophila_melanogaster_combined.fasta\n",
      "Sequence type: Protein\n",
      "Keep MBits: T\n",
      "Maximum file size: 1000000000B\n",
      "Adding sequences from FASTA; added 3 sequences in 0.00145102 seconds.\n",
      "\n",
      "\n",
      "Building a new DB, current time: 11/19/2024 11:46:39\n",
      "New DB name:   /Users/albertothornton/Desktop/Kamikouchi lab/Blast Code and data/blast_databases/Zmynd10_(Zinc_finger_MYND-type_containing_10)/Drosophila_teissieri_combined\n",
      "New DB title:  Protein_FASTA_Files/Zmynd10_(Zinc_finger_MYND-type_containing_10)/Drosophila_teissieri_combined.fasta\n",
      "Sequence type: Protein\n",
      "Keep MBits: T\n",
      "Maximum file size: 1000000000B\n",
      "Adding sequences from FASTA; added 1 sequences in 0.00040102 seconds.\n",
      "\n",
      "\n",
      "Building a new DB, current time: 11/19/2024 11:46:39\n",
      "New DB name:   /Users/albertothornton/Desktop/Kamikouchi lab/Blast Code and data/blast_databases/Zmynd10_(Zinc_finger_MYND-type_containing_10)/Drosophila_yakuba_combined\n",
      "New DB title:  Protein_FASTA_Files/Zmynd10_(Zinc_finger_MYND-type_containing_10)/Drosophila_yakuba_combined.fasta\n",
      "Sequence type: Protein\n",
      "Keep MBits: T\n",
      "Maximum file size: 1000000000B\n",
      "Adding sequences from FASTA; added 1 sequences in 0.000384808 seconds.\n",
      "\n",
      "\n",
      "Building a new DB, current time: 11/19/2024 11:46:39\n",
      "New DB name:   /Users/albertothornton/Desktop/Kamikouchi lab/Blast Code and data/blast_databases/Zmynd10_(Zinc_finger_MYND-type_containing_10)/Drosophila_ananassae_combined\n",
      "New DB title:  Protein_FASTA_Files/Zmynd10_(Zinc_finger_MYND-type_containing_10)/Drosophila_ananassae_combined.fasta\n",
      "Sequence type: Protein\n",
      "Keep MBits: T\n",
      "Maximum file size: 1000000000B\n",
      "Adding sequences from FASTA; added 1 sequences in 0.000359058 seconds.\n",
      "\n",
      "\n",
      "Building a new DB, current time: 11/19/2024 11:46:39\n",
      "New DB name:   /Users/albertothornton/Desktop/Kamikouchi lab/Blast Code and data/blast_databases/Zmynd10_(Zinc_finger_MYND-type_containing_10)/Drosophila_erecta_combined\n",
      "New DB title:  Protein_FASTA_Files/Zmynd10_(Zinc_finger_MYND-type_containing_10)/Drosophila_erecta_combined.fasta\n",
      "Sequence type: Protein\n",
      "Keep MBits: T\n",
      "Maximum file size: 1000000000B\n",
      "Adding sequences from FASTA; added 1 sequences in 0.000427961 seconds.\n",
      "\n",
      "\n",
      "Building a new DB, current time: 11/19/2024 11:46:40\n",
      "New DB name:   /Users/albertothornton/Desktop/Kamikouchi lab/Blast Code and data/blast_databases/Zmynd10_(Zinc_finger_MYND-type_containing_10)/Drosophila_simulans_combined\n",
      "New DB title:  Protein_FASTA_Files/Zmynd10_(Zinc_finger_MYND-type_containing_10)/Drosophila_simulans_combined.fasta\n",
      "Sequence type: Protein\n",
      "Keep MBits: T\n",
      "Maximum file size: 1000000000B\n",
      "Adding sequences from FASTA; added 1 sequences in 0.000370979 seconds.\n",
      "\n",
      "\n",
      "Building a new DB, current time: 11/19/2024 11:46:40\n",
      "New DB name:   /Users/albertothornton/Desktop/Kamikouchi lab/Blast Code and data/blast_databases/Zmynd10_(Zinc_finger_MYND-type_containing_10)/Drosophila_mauritiana_combined\n",
      "New DB title:  Protein_FASTA_Files/Zmynd10_(Zinc_finger_MYND-type_containing_10)/Drosophila_mauritiana_combined.fasta\n",
      "Sequence type: Protein\n",
      "Keep MBits: T\n",
      "Maximum file size: 1000000000B\n",
      "Adding sequences from FASTA; added 1 sequences in 0.000375032 seconds.\n",
      "\n",
      "\n",
      "Building a new DB, current time: 11/19/2024 11:46:40\n",
      "New DB name:   /Users/albertothornton/Desktop/Kamikouchi lab/Blast Code and data/blast_databases/Kap3_(Kinesin_associated_protein_3)/Drosophila_melanogaster_combined\n",
      "New DB title:  Protein_FASTA_Files/Kap3_(Kinesin_associated_protein_3)/Drosophila_melanogaster_combined.fasta\n",
      "Sequence type: Protein\n",
      "Keep MBits: T\n",
      "Maximum file size: 1000000000B\n",
      "Adding sequences from FASTA; added 10 sequences in 0.00134492 seconds.\n",
      "\n",
      "\n",
      "Building a new DB, current time: 11/19/2024 11:46:40\n",
      "New DB name:   /Users/albertothornton/Desktop/Kamikouchi lab/Blast Code and data/blast_databases/Kap3_(Kinesin_associated_protein_3)/Drosophila_teissieri_combined\n",
      "New DB title:  Protein_FASTA_Files/Kap3_(Kinesin_associated_protein_3)/Drosophila_teissieri_combined.fasta\n",
      "Sequence type: Protein\n",
      "Keep MBits: T\n",
      "Maximum file size: 1000000000B\n",
      "Adding sequences from FASTA; added 2 sequences in 0.000976086 seconds.\n",
      "\n",
      "\n",
      "Building a new DB, current time: 11/19/2024 11:46:40\n",
      "New DB name:   /Users/albertothornton/Desktop/Kamikouchi lab/Blast Code and data/blast_databases/Kap3_(Kinesin_associated_protein_3)/Drosophila_yakuba_combined\n",
      "New DB title:  Protein_FASTA_Files/Kap3_(Kinesin_associated_protein_3)/Drosophila_yakuba_combined.fasta\n",
      "Sequence type: Protein\n",
      "Keep MBits: T\n",
      "Maximum file size: 1000000000B\n",
      "Adding sequences from FASTA; added 2 sequences in 0.0014329 seconds.\n",
      "\n",
      "\n",
      "Building a new DB, current time: 11/19/2024 11:46:40\n",
      "New DB name:   /Users/albertothornton/Desktop/Kamikouchi lab/Blast Code and data/blast_databases/Kap3_(Kinesin_associated_protein_3)/Drosophila_ananassae_combined\n",
      "New DB title:  Protein_FASTA_Files/Kap3_(Kinesin_associated_protein_3)/Drosophila_ananassae_combined.fasta\n",
      "Sequence type: Protein\n",
      "Keep MBits: T\n",
      "Maximum file size: 1000000000B\n",
      "Adding sequences from FASTA; added 5 sequences in 0.00172019 seconds.\n",
      "\n",
      "\n",
      "Building a new DB, current time: 11/19/2024 11:46:40\n",
      "New DB name:   /Users/albertothornton/Desktop/Kamikouchi lab/Blast Code and data/blast_databases/Kap3_(Kinesin_associated_protein_3)/Drosophila_erecta_combined\n",
      "New DB title:  Protein_FASTA_Files/Kap3_(Kinesin_associated_protein_3)/Drosophila_erecta_combined.fasta\n",
      "Sequence type: Protein\n",
      "Keep MBits: T\n",
      "Maximum file size: 1000000000B\n",
      "Adding sequences from FASTA; added 1 sequences in 0.000370026 seconds.\n",
      "\n",
      "\n",
      "Building a new DB, current time: 11/19/2024 11:46:40\n",
      "New DB name:   /Users/albertothornton/Desktop/Kamikouchi lab/Blast Code and data/blast_databases/Kap3_(Kinesin_associated_protein_3)/Drosophila_simulans_combined\n",
      "New DB title:  Protein_FASTA_Files/Kap3_(Kinesin_associated_protein_3)/Drosophila_simulans_combined.fasta\n",
      "Sequence type: Protein\n",
      "Keep MBits: T\n",
      "Maximum file size: 1000000000B\n",
      "Adding sequences from FASTA; added 1 sequences in 0.00048995 seconds.\n",
      "\n",
      "\n",
      "Building a new DB, current time: 11/19/2024 11:46:40\n",
      "New DB name:   /Users/albertothornton/Desktop/Kamikouchi lab/Blast Code and data/blast_databases/Kap3_(Kinesin_associated_protein_3)/Drosophila_mauritiana_combined\n",
      "New DB title:  Protein_FASTA_Files/Kap3_(Kinesin_associated_protein_3)/Drosophila_mauritiana_combined.fasta\n",
      "Sequence type: Protein\n",
      "Keep MBits: T\n",
      "Maximum file size: 1000000000B\n",
      "Adding sequences from FASTA; added 1 sequences in 0.000429153 seconds.\n"
     ]
    },
    {
     "ename": "KeyboardInterrupt",
     "evalue": "",
     "output_type": "error",
     "traceback": [
      "\u001b[0;31m---------------------------------------------------------------------------\u001b[0m",
      "\u001b[0;31mKeyboardInterrupt\u001b[0m                         Traceback (most recent call last)",
      "Cell \u001b[0;32mIn[3], line 53\u001b[0m\n\u001b[1;32m     51\u001b[0m db_name \u001b[38;5;241m=\u001b[39m os\u001b[38;5;241m.\u001b[39mpath\u001b[38;5;241m.\u001b[39mjoin(gene_db_folder, os\u001b[38;5;241m.\u001b[39mpath\u001b[38;5;241m.\u001b[39msplitext(fasta_file)[\u001b[38;5;241m0\u001b[39m])\n\u001b[1;32m     52\u001b[0m \u001b[38;5;28;01mtry\u001b[39;00m:\n\u001b[0;32m---> 53\u001b[0m     \u001b[43msubprocess\u001b[49m\u001b[38;5;241;43m.\u001b[39;49m\u001b[43mrun\u001b[49m\u001b[43m(\u001b[49m\n\u001b[1;32m     54\u001b[0m \u001b[43m        \u001b[49m\u001b[43m[\u001b[49m\u001b[38;5;124;43m\"\u001b[39;49m\u001b[38;5;124;43mmakeblastdb\u001b[39;49m\u001b[38;5;124;43m\"\u001b[39;49m\u001b[43m,\u001b[49m\u001b[43m \u001b[49m\u001b[38;5;124;43m\"\u001b[39;49m\u001b[38;5;124;43m-in\u001b[39;49m\u001b[38;5;124;43m\"\u001b[39;49m\u001b[43m,\u001b[49m\u001b[43m \u001b[49m\u001b[43mfasta_path\u001b[49m\u001b[43m,\u001b[49m\u001b[43m \u001b[49m\u001b[38;5;124;43m\"\u001b[39;49m\u001b[38;5;124;43m-dbtype\u001b[39;49m\u001b[38;5;124;43m\"\u001b[39;49m\u001b[43m,\u001b[49m\u001b[43m \u001b[49m\u001b[38;5;124;43m\"\u001b[39;49m\u001b[38;5;124;43mprot\u001b[39;49m\u001b[38;5;124;43m\"\u001b[39;49m\u001b[43m,\u001b[49m\u001b[43m \u001b[49m\u001b[38;5;124;43m\"\u001b[39;49m\u001b[38;5;124;43m-out\u001b[39;49m\u001b[38;5;124;43m\"\u001b[39;49m\u001b[43m,\u001b[49m\u001b[43m \u001b[49m\u001b[43mdb_name\u001b[49m\u001b[43m]\u001b[49m\u001b[43m,\u001b[49m\n\u001b[1;32m     55\u001b[0m \u001b[43m        \u001b[49m\u001b[43mcheck\u001b[49m\u001b[38;5;241;43m=\u001b[39;49m\u001b[38;5;28;43;01mTrue\u001b[39;49;00m\u001b[43m,\u001b[49m\n\u001b[1;32m     56\u001b[0m \u001b[43m    \u001b[49m\u001b[43m)\u001b[49m\n\u001b[1;32m     57\u001b[0m \u001b[38;5;28;01mexcept\u001b[39;00m subprocess\u001b[38;5;241m.\u001b[39mCalledProcessError \u001b[38;5;28;01mas\u001b[39;00m e:\n\u001b[1;32m     58\u001b[0m     failed_dbs\u001b[38;5;241m.\u001b[39mappend((fasta_file, \u001b[38;5;28mstr\u001b[39m(e)))\n",
      "File \u001b[0;32m~/anaconda3/envs/P_env/lib/python3.10/subprocess.py:505\u001b[0m, in \u001b[0;36mrun\u001b[0;34m(input, capture_output, timeout, check, *popenargs, **kwargs)\u001b[0m\n\u001b[1;32m    503\u001b[0m \u001b[38;5;28;01mwith\u001b[39;00m Popen(\u001b[38;5;241m*\u001b[39mpopenargs, \u001b[38;5;241m*\u001b[39m\u001b[38;5;241m*\u001b[39mkwargs) \u001b[38;5;28;01mas\u001b[39;00m process:\n\u001b[1;32m    504\u001b[0m     \u001b[38;5;28;01mtry\u001b[39;00m:\n\u001b[0;32m--> 505\u001b[0m         stdout, stderr \u001b[38;5;241m=\u001b[39m \u001b[43mprocess\u001b[49m\u001b[38;5;241;43m.\u001b[39;49m\u001b[43mcommunicate\u001b[49m\u001b[43m(\u001b[49m\u001b[38;5;28;43minput\u001b[39;49m\u001b[43m,\u001b[49m\u001b[43m \u001b[49m\u001b[43mtimeout\u001b[49m\u001b[38;5;241;43m=\u001b[39;49m\u001b[43mtimeout\u001b[49m\u001b[43m)\u001b[49m\n\u001b[1;32m    506\u001b[0m     \u001b[38;5;28;01mexcept\u001b[39;00m TimeoutExpired \u001b[38;5;28;01mas\u001b[39;00m exc:\n\u001b[1;32m    507\u001b[0m         process\u001b[38;5;241m.\u001b[39mkill()\n",
      "File \u001b[0;32m~/anaconda3/envs/P_env/lib/python3.10/subprocess.py:1146\u001b[0m, in \u001b[0;36mPopen.communicate\u001b[0;34m(self, input, timeout)\u001b[0m\n\u001b[1;32m   1144\u001b[0m         stderr \u001b[38;5;241m=\u001b[39m \u001b[38;5;28mself\u001b[39m\u001b[38;5;241m.\u001b[39mstderr\u001b[38;5;241m.\u001b[39mread()\n\u001b[1;32m   1145\u001b[0m         \u001b[38;5;28mself\u001b[39m\u001b[38;5;241m.\u001b[39mstderr\u001b[38;5;241m.\u001b[39mclose()\n\u001b[0;32m-> 1146\u001b[0m     \u001b[38;5;28;43mself\u001b[39;49m\u001b[38;5;241;43m.\u001b[39;49m\u001b[43mwait\u001b[49m\u001b[43m(\u001b[49m\u001b[43m)\u001b[49m\n\u001b[1;32m   1147\u001b[0m \u001b[38;5;28;01melse\u001b[39;00m:\n\u001b[1;32m   1148\u001b[0m     \u001b[38;5;28;01mif\u001b[39;00m timeout \u001b[38;5;129;01mis\u001b[39;00m \u001b[38;5;129;01mnot\u001b[39;00m \u001b[38;5;28;01mNone\u001b[39;00m:\n",
      "File \u001b[0;32m~/anaconda3/envs/P_env/lib/python3.10/subprocess.py:1209\u001b[0m, in \u001b[0;36mPopen.wait\u001b[0;34m(self, timeout)\u001b[0m\n\u001b[1;32m   1207\u001b[0m     endtime \u001b[38;5;241m=\u001b[39m _time() \u001b[38;5;241m+\u001b[39m timeout\n\u001b[1;32m   1208\u001b[0m \u001b[38;5;28;01mtry\u001b[39;00m:\n\u001b[0;32m-> 1209\u001b[0m     \u001b[38;5;28;01mreturn\u001b[39;00m \u001b[38;5;28;43mself\u001b[39;49m\u001b[38;5;241;43m.\u001b[39;49m\u001b[43m_wait\u001b[49m\u001b[43m(\u001b[49m\u001b[43mtimeout\u001b[49m\u001b[38;5;241;43m=\u001b[39;49m\u001b[43mtimeout\u001b[49m\u001b[43m)\u001b[49m\n\u001b[1;32m   1210\u001b[0m \u001b[38;5;28;01mexcept\u001b[39;00m \u001b[38;5;167;01mKeyboardInterrupt\u001b[39;00m:\n\u001b[1;32m   1211\u001b[0m     \u001b[38;5;66;03m# https://bugs.python.org/issue25942\u001b[39;00m\n\u001b[1;32m   1212\u001b[0m     \u001b[38;5;66;03m# The first keyboard interrupt waits briefly for the child to\u001b[39;00m\n\u001b[1;32m   1213\u001b[0m     \u001b[38;5;66;03m# exit under the common assumption that it also received the ^C\u001b[39;00m\n\u001b[1;32m   1214\u001b[0m     \u001b[38;5;66;03m# generated SIGINT and will exit rapidly.\u001b[39;00m\n\u001b[1;32m   1215\u001b[0m     \u001b[38;5;28;01mif\u001b[39;00m timeout \u001b[38;5;129;01mis\u001b[39;00m \u001b[38;5;129;01mnot\u001b[39;00m \u001b[38;5;28;01mNone\u001b[39;00m:\n",
      "File \u001b[0;32m~/anaconda3/envs/P_env/lib/python3.10/subprocess.py:1959\u001b[0m, in \u001b[0;36mPopen._wait\u001b[0;34m(self, timeout)\u001b[0m\n\u001b[1;32m   1957\u001b[0m \u001b[38;5;28;01mif\u001b[39;00m \u001b[38;5;28mself\u001b[39m\u001b[38;5;241m.\u001b[39mreturncode \u001b[38;5;129;01mis\u001b[39;00m \u001b[38;5;129;01mnot\u001b[39;00m \u001b[38;5;28;01mNone\u001b[39;00m:\n\u001b[1;32m   1958\u001b[0m     \u001b[38;5;28;01mbreak\u001b[39;00m  \u001b[38;5;66;03m# Another thread waited.\u001b[39;00m\n\u001b[0;32m-> 1959\u001b[0m (pid, sts) \u001b[38;5;241m=\u001b[39m \u001b[38;5;28;43mself\u001b[39;49m\u001b[38;5;241;43m.\u001b[39;49m\u001b[43m_try_wait\u001b[49m\u001b[43m(\u001b[49m\u001b[38;5;241;43m0\u001b[39;49m\u001b[43m)\u001b[49m\n\u001b[1;32m   1960\u001b[0m \u001b[38;5;66;03m# Check the pid and loop as waitpid has been known to\u001b[39;00m\n\u001b[1;32m   1961\u001b[0m \u001b[38;5;66;03m# return 0 even without WNOHANG in odd situations.\u001b[39;00m\n\u001b[1;32m   1962\u001b[0m \u001b[38;5;66;03m# http://bugs.python.org/issue14396.\u001b[39;00m\n\u001b[1;32m   1963\u001b[0m \u001b[38;5;28;01mif\u001b[39;00m pid \u001b[38;5;241m==\u001b[39m \u001b[38;5;28mself\u001b[39m\u001b[38;5;241m.\u001b[39mpid:\n",
      "File \u001b[0;32m~/anaconda3/envs/P_env/lib/python3.10/subprocess.py:1917\u001b[0m, in \u001b[0;36mPopen._try_wait\u001b[0;34m(self, wait_flags)\u001b[0m\n\u001b[1;32m   1915\u001b[0m \u001b[38;5;250m\u001b[39m\u001b[38;5;124;03m\"\"\"All callers to this function MUST hold self._waitpid_lock.\"\"\"\u001b[39;00m\n\u001b[1;32m   1916\u001b[0m \u001b[38;5;28;01mtry\u001b[39;00m:\n\u001b[0;32m-> 1917\u001b[0m     (pid, sts) \u001b[38;5;241m=\u001b[39m \u001b[43mos\u001b[49m\u001b[38;5;241;43m.\u001b[39;49m\u001b[43mwaitpid\u001b[49m\u001b[43m(\u001b[49m\u001b[38;5;28;43mself\u001b[39;49m\u001b[38;5;241;43m.\u001b[39;49m\u001b[43mpid\u001b[49m\u001b[43m,\u001b[49m\u001b[43m \u001b[49m\u001b[43mwait_flags\u001b[49m\u001b[43m)\u001b[49m\n\u001b[1;32m   1918\u001b[0m \u001b[38;5;28;01mexcept\u001b[39;00m \u001b[38;5;167;01mChildProcessError\u001b[39;00m:\n\u001b[1;32m   1919\u001b[0m     \u001b[38;5;66;03m# This happens if SIGCLD is set to be ignored or waiting\u001b[39;00m\n\u001b[1;32m   1920\u001b[0m     \u001b[38;5;66;03m# for child processes has otherwise been disabled for our\u001b[39;00m\n\u001b[1;32m   1921\u001b[0m     \u001b[38;5;66;03m# process.  This child is dead, we can't get the status.\u001b[39;00m\n\u001b[1;32m   1922\u001b[0m     pid \u001b[38;5;241m=\u001b[39m \u001b[38;5;28mself\u001b[39m\u001b[38;5;241m.\u001b[39mpid\n",
      "\u001b[0;31mKeyboardInterrupt\u001b[0m: "
     ]
    }
   ],
   "source": [
    "import os  # For directory management\n",
    "import subprocess  # For running external commands\n",
    "\n",
    "# Define the base folder\n",
    "base_dir = \"Protein_FASTA_Files\"  # Folder containing gene subfolders\n",
    "db_dir = \"blast_databases\"  # Root folder to store BLAST databases\n",
    "\n",
    "# Create the root database folder if it doesn't exist\n",
    "os.makedirs(db_dir, exist_ok=True)\n",
    "\n",
    "# Function to clean and validate FASTA files\n",
    "def clean_fasta(input_file):\n",
    "    \"\"\"Cleans and validates a FASTA file by simplifying the header and removing invalid characters.\"\"\"\n",
    "    with open(input_file, \"r\") as infile:\n",
    "        lines = infile.readlines()\n",
    "\n",
    "    with open(input_file, \"w\") as outfile:  # Overwrite the original file\n",
    "        for line in lines:\n",
    "            if line.startswith(\">\"):\n",
    "                # Retain only the sequence ID from the header\n",
    "                sequence_id = line.split()[0]  # Keep everything before the first space\n",
    "                outfile.write(sequence_id + \"\\n\")  # Write the cleaned header\n",
    "            else:\n",
    "                # Remove spaces and write the cleaned sequence\n",
    "                outfile.write(line.strip() + \"\\n\")\n",
    "\n",
    "# Function to clear the console (works for most environments)\n",
    "def clear_console():\n",
    "    os.system('cls' if os.name == 'nt' else 'clear')\n",
    "\n",
    "# List to track failed database creations\n",
    "failed_dbs = []\n",
    "\n",
    "# Loop through the gene folders to create BLAST databases\n",
    "for gene_folder in os.listdir(base_dir):\n",
    "    gene_path = os.path.join(base_dir, gene_folder)  # Path to each gene folder\n",
    "    if os.path.isdir(gene_path):  # Only process folders\n",
    "        # Create a separate subfolder in `blast_databases` for each gene\n",
    "        gene_db_folder = os.path.join(db_dir, gene_folder)\n",
    "        os.makedirs(gene_db_folder, exist_ok=True)\n",
    "\n",
    "        # Process each FASTA file within the gene folder\n",
    "        for fasta_file in os.listdir(gene_path):\n",
    "            if fasta_file.endswith(\".fasta\"):\n",
    "                fasta_path = os.path.join(gene_path, fasta_file)  # Path to the FASTA file\n",
    "\n",
    "                # Clean the FASTA file (overwrite the original file)\n",
    "                clean_fasta(fasta_path)\n",
    "\n",
    "                # Create a BLAST database in the gene-specific folder\n",
    "                db_name = os.path.join(gene_db_folder, os.path.splitext(fasta_file)[0])\n",
    "                try:\n",
    "                    subprocess.run(\n",
    "                        [\"makeblastdb\", \"-in\", fasta_path, \"-dbtype\", \"prot\", \"-out\", db_name],\n",
    "                        check=True,\n",
    "                    )\n",
    "                except subprocess.CalledProcessError as e:\n",
    "                    failed_dbs.append((fasta_file, str(e)))\n",
    "\n",
    "# Clear console before displaying results\n",
    "clear_console()\n",
    "\n",
    "# Final message with failed databases\n",
    "if failed_dbs:\n",
    "    print(\"\\nFailed Database Creations:\")\n",
    "    for fasta_file, error in failed_dbs:\n",
    "        print(f\"File: {fasta_file}, Error: {error}\")\n",
    "else:\n",
    "    print(\"All gene folders processed successfully without errors!\")\n"
   ]
  },
  {
   "cell_type": "markdown",
   "metadata": {},
   "source": [
    "Loop for all genes"
   ]
  },
  {
   "cell_type": "code",
   "execution_count": null,
   "metadata": {},
   "outputs": [
    {
     "name": "stdout",
     "output_type": "stream",
     "text": [
      "Processing gene: sosie\n",
      "Running BLASTp: Drosophila_melanogaster vs Drosophila_teissieri using blast_databases/sosie/Drosophila_teissieri_combined\n"
     ]
    },
    {
     "name": "stderr",
     "output_type": "stream",
     "text": [
      "/var/folders/mj/yrtz1pp53zs_hqrl2_mcw9m80000gn/T/ipykernel_11450/4042733987.py:94: FutureWarning: The behavior of DataFrame concatenation with empty or all-NA entries is deprecated. In a future version, this will no longer exclude empty or all-NA columns when determining the result dtypes. To retain the old behavior, exclude the relevant entries before the concat operation.\n",
      "  query_results_df = pd.concat([query_results_df, result_df], ignore_index=True)\n"
     ]
    },
    {
     "name": "stdout",
     "output_type": "stream",
     "text": [
      "Running BLASTp: Drosophila_melanogaster vs Drosophila_yakuba using blast_databases/sosie/Drosophila_yakuba_combined\n",
      "Running BLASTp: Drosophila_melanogaster vs Drosophila_ananassae using blast_databases/sosie/Drosophila_ananassae_combined\n",
      "Running BLASTp: Drosophila_melanogaster vs Drosophila_erecta using blast_databases/sosie/Drosophila_erecta_combined\n",
      "Running BLASTp: Drosophila_melanogaster vs Drosophila_simulans using blast_databases/sosie/Drosophila_simulans_combined\n",
      "Running BLASTp: Drosophila_melanogaster vs Drosophila_mauritiana using blast_databases/sosie/Drosophila_mauritiana_combined\n",
      "Results for Drosophila_melanogaster vs all saved to: cross_species_blast_results/sosie/Drosophila_melanogaster_vs_all.csv\n",
      "Running BLASTp: Drosophila_teissieri vs Drosophila_melanogaster using blast_databases/sosie/Drosophila_melanogaster_combined\n",
      "Running BLASTp: Drosophila_teissieri vs Drosophila_yakuba using blast_databases/sosie/Drosophila_yakuba_combined\n",
      "Running BLASTp: Drosophila_teissieri vs Drosophila_ananassae using blast_databases/sosie/Drosophila_ananassae_combined\n"
     ]
    },
    {
     "name": "stderr",
     "output_type": "stream",
     "text": [
      "/var/folders/mj/yrtz1pp53zs_hqrl2_mcw9m80000gn/T/ipykernel_11450/4042733987.py:107: FutureWarning: The behavior of DataFrame concatenation with empty or all-NA entries is deprecated. In a future version, this will no longer exclude empty or all-NA columns when determining the result dtypes. To retain the old behavior, exclude the relevant entries before the concat operation.\n",
      "  master_df = pd.concat([master_df, query_results_df], ignore_index=True)\n",
      "/var/folders/mj/yrtz1pp53zs_hqrl2_mcw9m80000gn/T/ipykernel_11450/4042733987.py:94: FutureWarning: The behavior of DataFrame concatenation with empty or all-NA entries is deprecated. In a future version, this will no longer exclude empty or all-NA columns when determining the result dtypes. To retain the old behavior, exclude the relevant entries before the concat operation.\n",
      "  query_results_df = pd.concat([query_results_df, result_df], ignore_index=True)\n"
     ]
    },
    {
     "name": "stdout",
     "output_type": "stream",
     "text": [
      "Running BLASTp: Drosophila_teissieri vs Drosophila_erecta using blast_databases/sosie/Drosophila_erecta_combined\n",
      "Running BLASTp: Drosophila_teissieri vs Drosophila_simulans using blast_databases/sosie/Drosophila_simulans_combined\n",
      "Running BLASTp: Drosophila_teissieri vs Drosophila_mauritiana using blast_databases/sosie/Drosophila_mauritiana_combined\n",
      "Results for Drosophila_teissieri vs all saved to: cross_species_blast_results/sosie/Drosophila_teissieri_vs_all.csv\n",
      "Running BLASTp: Drosophila_yakuba vs Drosophila_melanogaster using blast_databases/sosie/Drosophila_melanogaster_combined\n",
      "Running BLASTp: Drosophila_yakuba vs Drosophila_teissieri using blast_databases/sosie/Drosophila_teissieri_combined\n",
      "Running BLASTp: Drosophila_yakuba vs Drosophila_ananassae using blast_databases/sosie/Drosophila_ananassae_combined\n"
     ]
    },
    {
     "name": "stderr",
     "output_type": "stream",
     "text": [
      "/var/folders/mj/yrtz1pp53zs_hqrl2_mcw9m80000gn/T/ipykernel_11450/4042733987.py:94: FutureWarning: The behavior of DataFrame concatenation with empty or all-NA entries is deprecated. In a future version, this will no longer exclude empty or all-NA columns when determining the result dtypes. To retain the old behavior, exclude the relevant entries before the concat operation.\n",
      "  query_results_df = pd.concat([query_results_df, result_df], ignore_index=True)\n"
     ]
    },
    {
     "name": "stdout",
     "output_type": "stream",
     "text": [
      "Running BLASTp: Drosophila_yakuba vs Drosophila_erecta using blast_databases/sosie/Drosophila_erecta_combined\n",
      "Running BLASTp: Drosophila_yakuba vs Drosophila_simulans using blast_databases/sosie/Drosophila_simulans_combined\n",
      "Running BLASTp: Drosophila_yakuba vs Drosophila_mauritiana using blast_databases/sosie/Drosophila_mauritiana_combined\n",
      "Results for Drosophila_yakuba vs all saved to: cross_species_blast_results/sosie/Drosophila_yakuba_vs_all.csv\n",
      "Running BLASTp: Drosophila_ananassae vs Drosophila_melanogaster using blast_databases/sosie/Drosophila_melanogaster_combined\n",
      "Running BLASTp: Drosophila_ananassae vs Drosophila_teissieri using blast_databases/sosie/Drosophila_teissieri_combined\n",
      "Running BLASTp: Drosophila_ananassae vs Drosophila_yakuba using blast_databases/sosie/Drosophila_yakuba_combined\n"
     ]
    },
    {
     "name": "stderr",
     "output_type": "stream",
     "text": [
      "/var/folders/mj/yrtz1pp53zs_hqrl2_mcw9m80000gn/T/ipykernel_11450/4042733987.py:94: FutureWarning: The behavior of DataFrame concatenation with empty or all-NA entries is deprecated. In a future version, this will no longer exclude empty or all-NA columns when determining the result dtypes. To retain the old behavior, exclude the relevant entries before the concat operation.\n",
      "  query_results_df = pd.concat([query_results_df, result_df], ignore_index=True)\n"
     ]
    },
    {
     "name": "stdout",
     "output_type": "stream",
     "text": [
      "Running BLASTp: Drosophila_ananassae vs Drosophila_erecta using blast_databases/sosie/Drosophila_erecta_combined\n",
      "Running BLASTp: Drosophila_ananassae vs Drosophila_simulans using blast_databases/sosie/Drosophila_simulans_combined\n",
      "Running BLASTp: Drosophila_ananassae vs Drosophila_mauritiana using blast_databases/sosie/Drosophila_mauritiana_combined\n",
      "Results for Drosophila_ananassae vs all saved to: cross_species_blast_results/sosie/Drosophila_ananassae_vs_all.csv\n",
      "Running BLASTp: Drosophila_erecta vs Drosophila_melanogaster using blast_databases/sosie/Drosophila_melanogaster_combined\n",
      "Running BLASTp: Drosophila_erecta vs Drosophila_teissieri using blast_databases/sosie/Drosophila_teissieri_combined\n"
     ]
    },
    {
     "name": "stderr",
     "output_type": "stream",
     "text": [
      "/var/folders/mj/yrtz1pp53zs_hqrl2_mcw9m80000gn/T/ipykernel_11450/4042733987.py:94: FutureWarning: The behavior of DataFrame concatenation with empty or all-NA entries is deprecated. In a future version, this will no longer exclude empty or all-NA columns when determining the result dtypes. To retain the old behavior, exclude the relevant entries before the concat operation.\n",
      "  query_results_df = pd.concat([query_results_df, result_df], ignore_index=True)\n"
     ]
    },
    {
     "name": "stdout",
     "output_type": "stream",
     "text": [
      "Running BLASTp: Drosophila_erecta vs Drosophila_yakuba using blast_databases/sosie/Drosophila_yakuba_combined\n",
      "Running BLASTp: Drosophila_erecta vs Drosophila_ananassae using blast_databases/sosie/Drosophila_ananassae_combined\n",
      "Running BLASTp: Drosophila_erecta vs Drosophila_simulans using blast_databases/sosie/Drosophila_simulans_combined\n",
      "Running BLASTp: Drosophila_erecta vs Drosophila_mauritiana using blast_databases/sosie/Drosophila_mauritiana_combined\n",
      "Results for Drosophila_erecta vs all saved to: cross_species_blast_results/sosie/Drosophila_erecta_vs_all.csv\n",
      "Running BLASTp: Drosophila_simulans vs Drosophila_melanogaster using blast_databases/sosie/Drosophila_melanogaster_combined\n",
      "Running BLASTp: Drosophila_simulans vs Drosophila_teissieri using blast_databases/sosie/Drosophila_teissieri_combined\n"
     ]
    },
    {
     "name": "stderr",
     "output_type": "stream",
     "text": [
      "/var/folders/mj/yrtz1pp53zs_hqrl2_mcw9m80000gn/T/ipykernel_11450/4042733987.py:94: FutureWarning: The behavior of DataFrame concatenation with empty or all-NA entries is deprecated. In a future version, this will no longer exclude empty or all-NA columns when determining the result dtypes. To retain the old behavior, exclude the relevant entries before the concat operation.\n",
      "  query_results_df = pd.concat([query_results_df, result_df], ignore_index=True)\n"
     ]
    },
    {
     "name": "stdout",
     "output_type": "stream",
     "text": [
      "Running BLASTp: Drosophila_simulans vs Drosophila_yakuba using blast_databases/sosie/Drosophila_yakuba_combined\n",
      "Running BLASTp: Drosophila_simulans vs Drosophila_ananassae using blast_databases/sosie/Drosophila_ananassae_combined\n",
      "Running BLASTp: Drosophila_simulans vs Drosophila_erecta using blast_databases/sosie/Drosophila_erecta_combined\n",
      "Running BLASTp: Drosophila_simulans vs Drosophila_mauritiana using blast_databases/sosie/Drosophila_mauritiana_combined\n",
      "Results for Drosophila_simulans vs all saved to: cross_species_blast_results/sosie/Drosophila_simulans_vs_all.csv\n",
      "Running BLASTp: Drosophila_mauritiana vs Drosophila_melanogaster using blast_databases/sosie/Drosophila_melanogaster_combined\n",
      "Running BLASTp: Drosophila_mauritiana vs Drosophila_teissieri using blast_databases/sosie/Drosophila_teissieri_combined\n"
     ]
    },
    {
     "name": "stderr",
     "output_type": "stream",
     "text": [
      "/var/folders/mj/yrtz1pp53zs_hqrl2_mcw9m80000gn/T/ipykernel_11450/4042733987.py:94: FutureWarning: The behavior of DataFrame concatenation with empty or all-NA entries is deprecated. In a future version, this will no longer exclude empty or all-NA columns when determining the result dtypes. To retain the old behavior, exclude the relevant entries before the concat operation.\n",
      "  query_results_df = pd.concat([query_results_df, result_df], ignore_index=True)\n"
     ]
    },
    {
     "name": "stdout",
     "output_type": "stream",
     "text": [
      "Running BLASTp: Drosophila_mauritiana vs Drosophila_yakuba using blast_databases/sosie/Drosophila_yakuba_combined\n",
      "Running BLASTp: Drosophila_mauritiana vs Drosophila_ananassae using blast_databases/sosie/Drosophila_ananassae_combined\n",
      "Running BLASTp: Drosophila_mauritiana vs Drosophila_erecta using blast_databases/sosie/Drosophila_erecta_combined\n",
      "Running BLASTp: Drosophila_mauritiana vs Drosophila_simulans using blast_databases/sosie/Drosophila_simulans_combined\n",
      "Results for Drosophila_mauritiana vs all saved to: cross_species_blast_results/sosie/Drosophila_mauritiana_vs_all.csv\n",
      "Processing gene: nompB_(no_mechanoreceptor_potential_B)\n",
      "Running BLASTp: Drosophila_melanogaster vs Drosophila_teissieri using blast_databases/nompB_(no_mechanoreceptor_potential_B)/Drosophila_teissieri_combined\n",
      "Running BLASTp: Drosophila_melanogaster vs Drosophila_yakuba using blast_databases/nompB_(no_mechanoreceptor_potential_B)/Drosophila_yakuba_combined\n"
     ]
    },
    {
     "name": "stderr",
     "output_type": "stream",
     "text": [
      "/var/folders/mj/yrtz1pp53zs_hqrl2_mcw9m80000gn/T/ipykernel_11450/4042733987.py:94: FutureWarning: The behavior of DataFrame concatenation with empty or all-NA entries is deprecated. In a future version, this will no longer exclude empty or all-NA columns when determining the result dtypes. To retain the old behavior, exclude the relevant entries before the concat operation.\n",
      "  query_results_df = pd.concat([query_results_df, result_df], ignore_index=True)\n"
     ]
    },
    {
     "name": "stdout",
     "output_type": "stream",
     "text": [
      "Running BLASTp: Drosophila_melanogaster vs Drosophila_ananassae using blast_databases/nompB_(no_mechanoreceptor_potential_B)/Drosophila_ananassae_combined\n",
      "Running BLASTp: Drosophila_melanogaster vs Drosophila_erecta using blast_databases/nompB_(no_mechanoreceptor_potential_B)/Drosophila_erecta_combined\n",
      "Running BLASTp: Drosophila_melanogaster vs Drosophila_simulans using blast_databases/nompB_(no_mechanoreceptor_potential_B)/Drosophila_simulans_combined\n",
      "Running BLASTp: Drosophila_melanogaster vs Drosophila_mauritiana using blast_databases/nompB_(no_mechanoreceptor_potential_B)/Drosophila_mauritiana_combined\n",
      "Results for Drosophila_melanogaster vs all saved to: cross_species_blast_results/nompB_(no_mechanoreceptor_potential_B)/Drosophila_melanogaster_vs_all.csv\n",
      "Running BLASTp: Drosophila_teissieri vs Drosophila_melanogaster using blast_databases/nompB_(no_mechanoreceptor_potential_B)/Drosophila_melanogaster_combined\n"
     ]
    },
    {
     "name": "stderr",
     "output_type": "stream",
     "text": [
      "/var/folders/mj/yrtz1pp53zs_hqrl2_mcw9m80000gn/T/ipykernel_11450/4042733987.py:94: FutureWarning: The behavior of DataFrame concatenation with empty or all-NA entries is deprecated. In a future version, this will no longer exclude empty or all-NA columns when determining the result dtypes. To retain the old behavior, exclude the relevant entries before the concat operation.\n",
      "  query_results_df = pd.concat([query_results_df, result_df], ignore_index=True)\n"
     ]
    },
    {
     "name": "stdout",
     "output_type": "stream",
     "text": [
      "Running BLASTp: Drosophila_teissieri vs Drosophila_yakuba using blast_databases/nompB_(no_mechanoreceptor_potential_B)/Drosophila_yakuba_combined\n",
      "Running BLASTp: Drosophila_teissieri vs Drosophila_ananassae using blast_databases/nompB_(no_mechanoreceptor_potential_B)/Drosophila_ananassae_combined\n",
      "Running BLASTp: Drosophila_teissieri vs Drosophila_erecta using blast_databases/nompB_(no_mechanoreceptor_potential_B)/Drosophila_erecta_combined\n",
      "Running BLASTp: Drosophila_teissieri vs Drosophila_simulans using blast_databases/nompB_(no_mechanoreceptor_potential_B)/Drosophila_simulans_combined\n",
      "Running BLASTp: Drosophila_teissieri vs Drosophila_mauritiana using blast_databases/nompB_(no_mechanoreceptor_potential_B)/Drosophila_mauritiana_combined\n",
      "Results for Drosophila_teissieri vs all saved to: cross_species_blast_results/nompB_(no_mechanoreceptor_potential_B)/Drosophila_teissieri_vs_all.csv\n",
      "Running BLASTp: Drosophila_yakuba vs Drosophila_melanogaster using blast_databases/nompB_(no_mechanoreceptor_potential_B)/Drosophila_melanogaster_combined\n"
     ]
    },
    {
     "name": "stderr",
     "output_type": "stream",
     "text": [
      "/var/folders/mj/yrtz1pp53zs_hqrl2_mcw9m80000gn/T/ipykernel_11450/4042733987.py:94: FutureWarning: The behavior of DataFrame concatenation with empty or all-NA entries is deprecated. In a future version, this will no longer exclude empty or all-NA columns when determining the result dtypes. To retain the old behavior, exclude the relevant entries before the concat operation.\n",
      "  query_results_df = pd.concat([query_results_df, result_df], ignore_index=True)\n"
     ]
    },
    {
     "name": "stdout",
     "output_type": "stream",
     "text": [
      "Running BLASTp: Drosophila_yakuba vs Drosophila_teissieri using blast_databases/nompB_(no_mechanoreceptor_potential_B)/Drosophila_teissieri_combined\n",
      "Running BLASTp: Drosophila_yakuba vs Drosophila_ananassae using blast_databases/nompB_(no_mechanoreceptor_potential_B)/Drosophila_ananassae_combined\n",
      "Running BLASTp: Drosophila_yakuba vs Drosophila_erecta using blast_databases/nompB_(no_mechanoreceptor_potential_B)/Drosophila_erecta_combined\n",
      "Running BLASTp: Drosophila_yakuba vs Drosophila_simulans using blast_databases/nompB_(no_mechanoreceptor_potential_B)/Drosophila_simulans_combined\n",
      "Running BLASTp: Drosophila_yakuba vs Drosophila_mauritiana using blast_databases/nompB_(no_mechanoreceptor_potential_B)/Drosophila_mauritiana_combined\n",
      "Results for Drosophila_yakuba vs all saved to: cross_species_blast_results/nompB_(no_mechanoreceptor_potential_B)/Drosophila_yakuba_vs_all.csv\n",
      "Running BLASTp: Drosophila_ananassae vs Drosophila_melanogaster using blast_databases/nompB_(no_mechanoreceptor_potential_B)/Drosophila_melanogaster_combined\n"
     ]
    },
    {
     "name": "stderr",
     "output_type": "stream",
     "text": [
      "/var/folders/mj/yrtz1pp53zs_hqrl2_mcw9m80000gn/T/ipykernel_11450/4042733987.py:94: FutureWarning: The behavior of DataFrame concatenation with empty or all-NA entries is deprecated. In a future version, this will no longer exclude empty or all-NA columns when determining the result dtypes. To retain the old behavior, exclude the relevant entries before the concat operation.\n",
      "  query_results_df = pd.concat([query_results_df, result_df], ignore_index=True)\n"
     ]
    },
    {
     "name": "stdout",
     "output_type": "stream",
     "text": [
      "Running BLASTp: Drosophila_ananassae vs Drosophila_teissieri using blast_databases/nompB_(no_mechanoreceptor_potential_B)/Drosophila_teissieri_combined\n",
      "Running BLASTp: Drosophila_ananassae vs Drosophila_yakuba using blast_databases/nompB_(no_mechanoreceptor_potential_B)/Drosophila_yakuba_combined\n",
      "Running BLASTp: Drosophila_ananassae vs Drosophila_erecta using blast_databases/nompB_(no_mechanoreceptor_potential_B)/Drosophila_erecta_combined\n",
      "Running BLASTp: Drosophila_ananassae vs Drosophila_simulans using blast_databases/nompB_(no_mechanoreceptor_potential_B)/Drosophila_simulans_combined\n",
      "Running BLASTp: Drosophila_ananassae vs Drosophila_mauritiana using blast_databases/nompB_(no_mechanoreceptor_potential_B)/Drosophila_mauritiana_combined\n",
      "Results for Drosophila_ananassae vs all saved to: cross_species_blast_results/nompB_(no_mechanoreceptor_potential_B)/Drosophila_ananassae_vs_all.csv\n",
      "Running BLASTp: Drosophila_erecta vs Drosophila_melanogaster using blast_databases/nompB_(no_mechanoreceptor_potential_B)/Drosophila_melanogaster_combined\n",
      "Running BLASTp: Drosophila_erecta vs Drosophila_teissieri using blast_databases/nompB_(no_mechanoreceptor_potential_B)/Drosophila_teissieri_combined\n",
      "Running BLASTp: Drosophila_erecta vs Drosophila_yakuba using blast_databases/nompB_(no_mechanoreceptor_potential_B)/Drosophila_yakuba_combined\n"
     ]
    },
    {
     "name": "stderr",
     "output_type": "stream",
     "text": [
      "/var/folders/mj/yrtz1pp53zs_hqrl2_mcw9m80000gn/T/ipykernel_11450/4042733987.py:94: FutureWarning: The behavior of DataFrame concatenation with empty or all-NA entries is deprecated. In a future version, this will no longer exclude empty or all-NA columns when determining the result dtypes. To retain the old behavior, exclude the relevant entries before the concat operation.\n",
      "  query_results_df = pd.concat([query_results_df, result_df], ignore_index=True)\n"
     ]
    },
    {
     "name": "stdout",
     "output_type": "stream",
     "text": [
      "Running BLASTp: Drosophila_erecta vs Drosophila_ananassae using blast_databases/nompB_(no_mechanoreceptor_potential_B)/Drosophila_ananassae_combined\n",
      "Running BLASTp: Drosophila_erecta vs Drosophila_simulans using blast_databases/nompB_(no_mechanoreceptor_potential_B)/Drosophila_simulans_combined\n",
      "Running BLASTp: Drosophila_erecta vs Drosophila_mauritiana using blast_databases/nompB_(no_mechanoreceptor_potential_B)/Drosophila_mauritiana_combined\n",
      "Results for Drosophila_erecta vs all saved to: cross_species_blast_results/nompB_(no_mechanoreceptor_potential_B)/Drosophila_erecta_vs_all.csv\n",
      "Running BLASTp: Drosophila_simulans vs Drosophila_melanogaster using blast_databases/nompB_(no_mechanoreceptor_potential_B)/Drosophila_melanogaster_combined\n",
      "Running BLASTp: Drosophila_simulans vs Drosophila_teissieri using blast_databases/nompB_(no_mechanoreceptor_potential_B)/Drosophila_teissieri_combined\n"
     ]
    },
    {
     "name": "stderr",
     "output_type": "stream",
     "text": [
      "/var/folders/mj/yrtz1pp53zs_hqrl2_mcw9m80000gn/T/ipykernel_11450/4042733987.py:94: FutureWarning: The behavior of DataFrame concatenation with empty or all-NA entries is deprecated. In a future version, this will no longer exclude empty or all-NA columns when determining the result dtypes. To retain the old behavior, exclude the relevant entries before the concat operation.\n",
      "  query_results_df = pd.concat([query_results_df, result_df], ignore_index=True)\n"
     ]
    },
    {
     "name": "stdout",
     "output_type": "stream",
     "text": [
      "Running BLASTp: Drosophila_simulans vs Drosophila_yakuba using blast_databases/nompB_(no_mechanoreceptor_potential_B)/Drosophila_yakuba_combined\n",
      "Running BLASTp: Drosophila_simulans vs Drosophila_ananassae using blast_databases/nompB_(no_mechanoreceptor_potential_B)/Drosophila_ananassae_combined\n",
      "Running BLASTp: Drosophila_simulans vs Drosophila_erecta using blast_databases/nompB_(no_mechanoreceptor_potential_B)/Drosophila_erecta_combined\n",
      "Running BLASTp: Drosophila_simulans vs Drosophila_mauritiana using blast_databases/nompB_(no_mechanoreceptor_potential_B)/Drosophila_mauritiana_combined\n",
      "Results for Drosophila_simulans vs all saved to: cross_species_blast_results/nompB_(no_mechanoreceptor_potential_B)/Drosophila_simulans_vs_all.csv\n",
      "Running BLASTp: Drosophila_mauritiana vs Drosophila_melanogaster using blast_databases/nompB_(no_mechanoreceptor_potential_B)/Drosophila_melanogaster_combined\n",
      "Running BLASTp: Drosophila_mauritiana vs Drosophila_teissieri using blast_databases/nompB_(no_mechanoreceptor_potential_B)/Drosophila_teissieri_combined\n"
     ]
    },
    {
     "name": "stderr",
     "output_type": "stream",
     "text": [
      "/var/folders/mj/yrtz1pp53zs_hqrl2_mcw9m80000gn/T/ipykernel_11450/4042733987.py:94: FutureWarning: The behavior of DataFrame concatenation with empty or all-NA entries is deprecated. In a future version, this will no longer exclude empty or all-NA columns when determining the result dtypes. To retain the old behavior, exclude the relevant entries before the concat operation.\n",
      "  query_results_df = pd.concat([query_results_df, result_df], ignore_index=True)\n"
     ]
    },
    {
     "name": "stdout",
     "output_type": "stream",
     "text": [
      "Running BLASTp: Drosophila_mauritiana vs Drosophila_yakuba using blast_databases/nompB_(no_mechanoreceptor_potential_B)/Drosophila_yakuba_combined\n",
      "Running BLASTp: Drosophila_mauritiana vs Drosophila_ananassae using blast_databases/nompB_(no_mechanoreceptor_potential_B)/Drosophila_ananassae_combined\n",
      "Running BLASTp: Drosophila_mauritiana vs Drosophila_erecta using blast_databases/nompB_(no_mechanoreceptor_potential_B)/Drosophila_erecta_combined\n",
      "Running BLASTp: Drosophila_mauritiana vs Drosophila_simulans using blast_databases/nompB_(no_mechanoreceptor_potential_B)/Drosophila_simulans_combined\n",
      "Results for Drosophila_mauritiana vs all saved to: cross_species_blast_results/nompB_(no_mechanoreceptor_potential_B)/Drosophila_mauritiana_vs_all.csv\n",
      "Processing gene: bw_(brown)\n",
      "Running BLASTp: Drosophila_melanogaster vs Drosophila_teissieri using blast_databases/bw_(brown)/Drosophila_teissieri_combined\n"
     ]
    },
    {
     "name": "stderr",
     "output_type": "stream",
     "text": [
      "/var/folders/mj/yrtz1pp53zs_hqrl2_mcw9m80000gn/T/ipykernel_11450/4042733987.py:94: FutureWarning: The behavior of DataFrame concatenation with empty or all-NA entries is deprecated. In a future version, this will no longer exclude empty or all-NA columns when determining the result dtypes. To retain the old behavior, exclude the relevant entries before the concat operation.\n",
      "  query_results_df = pd.concat([query_results_df, result_df], ignore_index=True)\n"
     ]
    },
    {
     "name": "stdout",
     "output_type": "stream",
     "text": [
      "Running BLASTp: Drosophila_melanogaster vs Drosophila_yakuba using blast_databases/bw_(brown)/Drosophila_yakuba_combined\n",
      "Running BLASTp: Drosophila_melanogaster vs Drosophila_ananassae using blast_databases/bw_(brown)/Drosophila_ananassae_combined\n",
      "Running BLASTp: Drosophila_melanogaster vs Drosophila_erecta using blast_databases/bw_(brown)/Drosophila_erecta_combined\n",
      "Running BLASTp: Drosophila_melanogaster vs Drosophila_simulans using blast_databases/bw_(brown)/Drosophila_simulans_combined\n",
      "Running BLASTp: Drosophila_melanogaster vs Drosophila_mauritiana using blast_databases/bw_(brown)/Drosophila_mauritiana_combined\n",
      "Results for Drosophila_melanogaster vs all saved to: cross_species_blast_results/bw_(brown)/Drosophila_melanogaster_vs_all.csv\n",
      "Running BLASTp: Drosophila_teissieri vs Drosophila_melanogaster using blast_databases/bw_(brown)/Drosophila_melanogaster_combined\n",
      "Running BLASTp: Drosophila_teissieri vs Drosophila_yakuba using blast_databases/bw_(brown)/Drosophila_yakuba_combined\n",
      "Running BLASTp: Drosophila_teissieri vs Drosophila_ananassae using blast_databases/bw_(brown)/Drosophila_ananassae_combined\n"
     ]
    },
    {
     "name": "stderr",
     "output_type": "stream",
     "text": [
      "/var/folders/mj/yrtz1pp53zs_hqrl2_mcw9m80000gn/T/ipykernel_11450/4042733987.py:94: FutureWarning: The behavior of DataFrame concatenation with empty or all-NA entries is deprecated. In a future version, this will no longer exclude empty or all-NA columns when determining the result dtypes. To retain the old behavior, exclude the relevant entries before the concat operation.\n",
      "  query_results_df = pd.concat([query_results_df, result_df], ignore_index=True)\n"
     ]
    },
    {
     "name": "stdout",
     "output_type": "stream",
     "text": [
      "Running BLASTp: Drosophila_teissieri vs Drosophila_erecta using blast_databases/bw_(brown)/Drosophila_erecta_combined\n",
      "Running BLASTp: Drosophila_teissieri vs Drosophila_simulans using blast_databases/bw_(brown)/Drosophila_simulans_combined\n",
      "Running BLASTp: Drosophila_teissieri vs Drosophila_mauritiana using blast_databases/bw_(brown)/Drosophila_mauritiana_combined\n",
      "Results for Drosophila_teissieri vs all saved to: cross_species_blast_results/bw_(brown)/Drosophila_teissieri_vs_all.csv\n",
      "Running BLASTp: Drosophila_yakuba vs Drosophila_melanogaster using blast_databases/bw_(brown)/Drosophila_melanogaster_combined\n",
      "Running BLASTp: Drosophila_yakuba vs Drosophila_teissieri using blast_databases/bw_(brown)/Drosophila_teissieri_combined\n",
      "Running BLASTp: Drosophila_yakuba vs Drosophila_ananassae using blast_databases/bw_(brown)/Drosophila_ananassae_combined\n"
     ]
    },
    {
     "name": "stderr",
     "output_type": "stream",
     "text": [
      "/var/folders/mj/yrtz1pp53zs_hqrl2_mcw9m80000gn/T/ipykernel_11450/4042733987.py:94: FutureWarning: The behavior of DataFrame concatenation with empty or all-NA entries is deprecated. In a future version, this will no longer exclude empty or all-NA columns when determining the result dtypes. To retain the old behavior, exclude the relevant entries before the concat operation.\n",
      "  query_results_df = pd.concat([query_results_df, result_df], ignore_index=True)\n"
     ]
    },
    {
     "name": "stdout",
     "output_type": "stream",
     "text": [
      "Running BLASTp: Drosophila_yakuba vs Drosophila_erecta using blast_databases/bw_(brown)/Drosophila_erecta_combined\n",
      "Running BLASTp: Drosophila_yakuba vs Drosophila_simulans using blast_databases/bw_(brown)/Drosophila_simulans_combined\n",
      "Running BLASTp: Drosophila_yakuba vs Drosophila_mauritiana using blast_databases/bw_(brown)/Drosophila_mauritiana_combined\n",
      "Results for Drosophila_yakuba vs all saved to: cross_species_blast_results/bw_(brown)/Drosophila_yakuba_vs_all.csv\n",
      "Running BLASTp: Drosophila_ananassae vs Drosophila_melanogaster using blast_databases/bw_(brown)/Drosophila_melanogaster_combined\n",
      "Running BLASTp: Drosophila_ananassae vs Drosophila_teissieri using blast_databases/bw_(brown)/Drosophila_teissieri_combined\n",
      "Running BLASTp: Drosophila_ananassae vs Drosophila_yakuba using blast_databases/bw_(brown)/Drosophila_yakuba_combined\n"
     ]
    },
    {
     "name": "stderr",
     "output_type": "stream",
     "text": [
      "/var/folders/mj/yrtz1pp53zs_hqrl2_mcw9m80000gn/T/ipykernel_11450/4042733987.py:94: FutureWarning: The behavior of DataFrame concatenation with empty or all-NA entries is deprecated. In a future version, this will no longer exclude empty or all-NA columns when determining the result dtypes. To retain the old behavior, exclude the relevant entries before the concat operation.\n",
      "  query_results_df = pd.concat([query_results_df, result_df], ignore_index=True)\n"
     ]
    },
    {
     "name": "stdout",
     "output_type": "stream",
     "text": [
      "Running BLASTp: Drosophila_ananassae vs Drosophila_erecta using blast_databases/bw_(brown)/Drosophila_erecta_combined\n",
      "Running BLASTp: Drosophila_ananassae vs Drosophila_simulans using blast_databases/bw_(brown)/Drosophila_simulans_combined\n",
      "Running BLASTp: Drosophila_ananassae vs Drosophila_mauritiana using blast_databases/bw_(brown)/Drosophila_mauritiana_combined\n",
      "Results for Drosophila_ananassae vs all saved to: cross_species_blast_results/bw_(brown)/Drosophila_ananassae_vs_all.csv\n",
      "Running BLASTp: Drosophila_erecta vs Drosophila_melanogaster using blast_databases/bw_(brown)/Drosophila_melanogaster_combined\n",
      "Running BLASTp: Drosophila_erecta vs Drosophila_teissieri using blast_databases/bw_(brown)/Drosophila_teissieri_combined\n"
     ]
    },
    {
     "name": "stderr",
     "output_type": "stream",
     "text": [
      "/var/folders/mj/yrtz1pp53zs_hqrl2_mcw9m80000gn/T/ipykernel_11450/4042733987.py:94: FutureWarning: The behavior of DataFrame concatenation with empty or all-NA entries is deprecated. In a future version, this will no longer exclude empty or all-NA columns when determining the result dtypes. To retain the old behavior, exclude the relevant entries before the concat operation.\n",
      "  query_results_df = pd.concat([query_results_df, result_df], ignore_index=True)\n"
     ]
    },
    {
     "name": "stdout",
     "output_type": "stream",
     "text": [
      "Running BLASTp: Drosophila_erecta vs Drosophila_yakuba using blast_databases/bw_(brown)/Drosophila_yakuba_combined\n",
      "Running BLASTp: Drosophila_erecta vs Drosophila_ananassae using blast_databases/bw_(brown)/Drosophila_ananassae_combined\n",
      "Running BLASTp: Drosophila_erecta vs Drosophila_simulans using blast_databases/bw_(brown)/Drosophila_simulans_combined\n",
      "Running BLASTp: Drosophila_erecta vs Drosophila_mauritiana using blast_databases/bw_(brown)/Drosophila_mauritiana_combined\n",
      "Results for Drosophila_erecta vs all saved to: cross_species_blast_results/bw_(brown)/Drosophila_erecta_vs_all.csv\n",
      "Running BLASTp: Drosophila_simulans vs Drosophila_melanogaster using blast_databases/bw_(brown)/Drosophila_melanogaster_combined\n",
      "Running BLASTp: Drosophila_simulans vs Drosophila_teissieri using blast_databases/bw_(brown)/Drosophila_teissieri_combined\n"
     ]
    },
    {
     "name": "stderr",
     "output_type": "stream",
     "text": [
      "/var/folders/mj/yrtz1pp53zs_hqrl2_mcw9m80000gn/T/ipykernel_11450/4042733987.py:94: FutureWarning: The behavior of DataFrame concatenation with empty or all-NA entries is deprecated. In a future version, this will no longer exclude empty or all-NA columns when determining the result dtypes. To retain the old behavior, exclude the relevant entries before the concat operation.\n",
      "  query_results_df = pd.concat([query_results_df, result_df], ignore_index=True)\n"
     ]
    },
    {
     "name": "stdout",
     "output_type": "stream",
     "text": [
      "Running BLASTp: Drosophila_simulans vs Drosophila_yakuba using blast_databases/bw_(brown)/Drosophila_yakuba_combined\n",
      "Running BLASTp: Drosophila_simulans vs Drosophila_ananassae using blast_databases/bw_(brown)/Drosophila_ananassae_combined\n",
      "Running BLASTp: Drosophila_simulans vs Drosophila_erecta using blast_databases/bw_(brown)/Drosophila_erecta_combined\n",
      "Running BLASTp: Drosophila_simulans vs Drosophila_mauritiana using blast_databases/bw_(brown)/Drosophila_mauritiana_combined\n",
      "Results for Drosophila_simulans vs all saved to: cross_species_blast_results/bw_(brown)/Drosophila_simulans_vs_all.csv\n",
      "Running BLASTp: Drosophila_mauritiana vs Drosophila_melanogaster using blast_databases/bw_(brown)/Drosophila_melanogaster_combined\n",
      "Running BLASTp: Drosophila_mauritiana vs Drosophila_teissieri using blast_databases/bw_(brown)/Drosophila_teissieri_combined\n"
     ]
    },
    {
     "name": "stderr",
     "output_type": "stream",
     "text": [
      "/var/folders/mj/yrtz1pp53zs_hqrl2_mcw9m80000gn/T/ipykernel_11450/4042733987.py:94: FutureWarning: The behavior of DataFrame concatenation with empty or all-NA entries is deprecated. In a future version, this will no longer exclude empty or all-NA columns when determining the result dtypes. To retain the old behavior, exclude the relevant entries before the concat operation.\n",
      "  query_results_df = pd.concat([query_results_df, result_df], ignore_index=True)\n"
     ]
    },
    {
     "name": "stdout",
     "output_type": "stream",
     "text": [
      "Running BLASTp: Drosophila_mauritiana vs Drosophila_yakuba using blast_databases/bw_(brown)/Drosophila_yakuba_combined\n",
      "Running BLASTp: Drosophila_mauritiana vs Drosophila_ananassae using blast_databases/bw_(brown)/Drosophila_ananassae_combined\n",
      "Running BLASTp: Drosophila_mauritiana vs Drosophila_erecta using blast_databases/bw_(brown)/Drosophila_erecta_combined\n",
      "Running BLASTp: Drosophila_mauritiana vs Drosophila_simulans using blast_databases/bw_(brown)/Drosophila_simulans_combined\n",
      "Results for Drosophila_mauritiana vs all saved to: cross_species_blast_results/bw_(brown)/Drosophila_mauritiana_vs_all.csv\n",
      "Processing gene: Rh6_(Rhodopsin_6)\n",
      "Running BLASTp: Drosophila_melanogaster vs Drosophila_teissieri using blast_databases/Rh6_(Rhodopsin_6)/Drosophila_teissieri_combined\n"
     ]
    },
    {
     "name": "stderr",
     "output_type": "stream",
     "text": [
      "/var/folders/mj/yrtz1pp53zs_hqrl2_mcw9m80000gn/T/ipykernel_11450/4042733987.py:94: FutureWarning: The behavior of DataFrame concatenation with empty or all-NA entries is deprecated. In a future version, this will no longer exclude empty or all-NA columns when determining the result dtypes. To retain the old behavior, exclude the relevant entries before the concat operation.\n",
      "  query_results_df = pd.concat([query_results_df, result_df], ignore_index=True)\n"
     ]
    },
    {
     "name": "stdout",
     "output_type": "stream",
     "text": [
      "Running BLASTp: Drosophila_melanogaster vs Drosophila_yakuba using blast_databases/Rh6_(Rhodopsin_6)/Drosophila_yakuba_combined\n",
      "Running BLASTp: Drosophila_melanogaster vs Drosophila_ananassae using blast_databases/Rh6_(Rhodopsin_6)/Drosophila_ananassae_combined\n",
      "Running BLASTp: Drosophila_melanogaster vs Drosophila_erecta using blast_databases/Rh6_(Rhodopsin_6)/Drosophila_erecta_combined\n",
      "Running BLASTp: Drosophila_melanogaster vs Drosophila_simulans using blast_databases/Rh6_(Rhodopsin_6)/Drosophila_simulans_combined\n",
      "Running BLASTp: Drosophila_melanogaster vs Drosophila_mauritiana using blast_databases/Rh6_(Rhodopsin_6)/Drosophila_mauritiana_combined\n",
      "Results for Drosophila_melanogaster vs all saved to: cross_species_blast_results/Rh6_(Rhodopsin_6)/Drosophila_melanogaster_vs_all.csv\n",
      "Running BLASTp: Drosophila_teissieri vs Drosophila_melanogaster using blast_databases/Rh6_(Rhodopsin_6)/Drosophila_melanogaster_combined\n"
     ]
    },
    {
     "name": "stderr",
     "output_type": "stream",
     "text": [
      "/var/folders/mj/yrtz1pp53zs_hqrl2_mcw9m80000gn/T/ipykernel_11450/4042733987.py:94: FutureWarning: The behavior of DataFrame concatenation with empty or all-NA entries is deprecated. In a future version, this will no longer exclude empty or all-NA columns when determining the result dtypes. To retain the old behavior, exclude the relevant entries before the concat operation.\n",
      "  query_results_df = pd.concat([query_results_df, result_df], ignore_index=True)\n"
     ]
    },
    {
     "name": "stdout",
     "output_type": "stream",
     "text": [
      "Running BLASTp: Drosophila_teissieri vs Drosophila_yakuba using blast_databases/Rh6_(Rhodopsin_6)/Drosophila_yakuba_combined\n",
      "Running BLASTp: Drosophila_teissieri vs Drosophila_ananassae using blast_databases/Rh6_(Rhodopsin_6)/Drosophila_ananassae_combined\n",
      "Running BLASTp: Drosophila_teissieri vs Drosophila_erecta using blast_databases/Rh6_(Rhodopsin_6)/Drosophila_erecta_combined\n",
      "Running BLASTp: Drosophila_teissieri vs Drosophila_simulans using blast_databases/Rh6_(Rhodopsin_6)/Drosophila_simulans_combined\n",
      "Running BLASTp: Drosophila_teissieri vs Drosophila_mauritiana using blast_databases/Rh6_(Rhodopsin_6)/Drosophila_mauritiana_combined\n",
      "Results for Drosophila_teissieri vs all saved to: cross_species_blast_results/Rh6_(Rhodopsin_6)/Drosophila_teissieri_vs_all.csv\n",
      "Running BLASTp: Drosophila_yakuba vs Drosophila_melanogaster using blast_databases/Rh6_(Rhodopsin_6)/Drosophila_melanogaster_combined\n",
      "Running BLASTp: Drosophila_yakuba vs Drosophila_teissieri using blast_databases/Rh6_(Rhodopsin_6)/Drosophila_teissieri_combined\n",
      "Running BLASTp: Drosophila_yakuba vs Drosophila_ananassae using blast_databases/Rh6_(Rhodopsin_6)/Drosophila_ananassae_combined\n"
     ]
    },
    {
     "name": "stderr",
     "output_type": "stream",
     "text": [
      "/var/folders/mj/yrtz1pp53zs_hqrl2_mcw9m80000gn/T/ipykernel_11450/4042733987.py:94: FutureWarning: The behavior of DataFrame concatenation with empty or all-NA entries is deprecated. In a future version, this will no longer exclude empty or all-NA columns when determining the result dtypes. To retain the old behavior, exclude the relevant entries before the concat operation.\n",
      "  query_results_df = pd.concat([query_results_df, result_df], ignore_index=True)\n"
     ]
    },
    {
     "name": "stdout",
     "output_type": "stream",
     "text": [
      "Running BLASTp: Drosophila_yakuba vs Drosophila_erecta using blast_databases/Rh6_(Rhodopsin_6)/Drosophila_erecta_combined\n",
      "Running BLASTp: Drosophila_yakuba vs Drosophila_simulans using blast_databases/Rh6_(Rhodopsin_6)/Drosophila_simulans_combined\n",
      "Running BLASTp: Drosophila_yakuba vs Drosophila_mauritiana using blast_databases/Rh6_(Rhodopsin_6)/Drosophila_mauritiana_combined\n",
      "Results for Drosophila_yakuba vs all saved to: cross_species_blast_results/Rh6_(Rhodopsin_6)/Drosophila_yakuba_vs_all.csv\n",
      "Running BLASTp: Drosophila_ananassae vs Drosophila_melanogaster using blast_databases/Rh6_(Rhodopsin_6)/Drosophila_melanogaster_combined\n",
      "Running BLASTp: Drosophila_ananassae vs Drosophila_teissieri using blast_databases/Rh6_(Rhodopsin_6)/Drosophila_teissieri_combined\n",
      "Running BLASTp: Drosophila_ananassae vs Drosophila_yakuba using blast_databases/Rh6_(Rhodopsin_6)/Drosophila_yakuba_combined\n"
     ]
    },
    {
     "name": "stderr",
     "output_type": "stream",
     "text": [
      "/var/folders/mj/yrtz1pp53zs_hqrl2_mcw9m80000gn/T/ipykernel_11450/4042733987.py:94: FutureWarning: The behavior of DataFrame concatenation with empty or all-NA entries is deprecated. In a future version, this will no longer exclude empty or all-NA columns when determining the result dtypes. To retain the old behavior, exclude the relevant entries before the concat operation.\n",
      "  query_results_df = pd.concat([query_results_df, result_df], ignore_index=True)\n"
     ]
    },
    {
     "name": "stdout",
     "output_type": "stream",
     "text": [
      "Running BLASTp: Drosophila_ananassae vs Drosophila_erecta using blast_databases/Rh6_(Rhodopsin_6)/Drosophila_erecta_combined\n",
      "Running BLASTp: Drosophila_ananassae vs Drosophila_simulans using blast_databases/Rh6_(Rhodopsin_6)/Drosophila_simulans_combined\n",
      "Running BLASTp: Drosophila_ananassae vs Drosophila_mauritiana using blast_databases/Rh6_(Rhodopsin_6)/Drosophila_mauritiana_combined\n",
      "Results for Drosophila_ananassae vs all saved to: cross_species_blast_results/Rh6_(Rhodopsin_6)/Drosophila_ananassae_vs_all.csv\n",
      "Running BLASTp: Drosophila_erecta vs Drosophila_melanogaster using blast_databases/Rh6_(Rhodopsin_6)/Drosophila_melanogaster_combined\n",
      "Running BLASTp: Drosophila_erecta vs Drosophila_teissieri using blast_databases/Rh6_(Rhodopsin_6)/Drosophila_teissieri_combined\n",
      "Running BLASTp: Drosophila_erecta vs Drosophila_yakuba using blast_databases/Rh6_(Rhodopsin_6)/Drosophila_yakuba_combined\n"
     ]
    },
    {
     "name": "stderr",
     "output_type": "stream",
     "text": [
      "/var/folders/mj/yrtz1pp53zs_hqrl2_mcw9m80000gn/T/ipykernel_11450/4042733987.py:94: FutureWarning: The behavior of DataFrame concatenation with empty or all-NA entries is deprecated. In a future version, this will no longer exclude empty or all-NA columns when determining the result dtypes. To retain the old behavior, exclude the relevant entries before the concat operation.\n",
      "  query_results_df = pd.concat([query_results_df, result_df], ignore_index=True)\n"
     ]
    },
    {
     "name": "stdout",
     "output_type": "stream",
     "text": [
      "Running BLASTp: Drosophila_erecta vs Drosophila_ananassae using blast_databases/Rh6_(Rhodopsin_6)/Drosophila_ananassae_combined\n",
      "Running BLASTp: Drosophila_erecta vs Drosophila_simulans using blast_databases/Rh6_(Rhodopsin_6)/Drosophila_simulans_combined\n",
      "Running BLASTp: Drosophila_erecta vs Drosophila_mauritiana using blast_databases/Rh6_(Rhodopsin_6)/Drosophila_mauritiana_combined\n",
      "Results for Drosophila_erecta vs all saved to: cross_species_blast_results/Rh6_(Rhodopsin_6)/Drosophila_erecta_vs_all.csv\n",
      "Running BLASTp: Drosophila_simulans vs Drosophila_melanogaster using blast_databases/Rh6_(Rhodopsin_6)/Drosophila_melanogaster_combined\n",
      "Running BLASTp: Drosophila_simulans vs Drosophila_teissieri using blast_databases/Rh6_(Rhodopsin_6)/Drosophila_teissieri_combined\n",
      "Running BLASTp: Drosophila_simulans vs Drosophila_yakuba using blast_databases/Rh6_(Rhodopsin_6)/Drosophila_yakuba_combined\n"
     ]
    },
    {
     "name": "stderr",
     "output_type": "stream",
     "text": [
      "/var/folders/mj/yrtz1pp53zs_hqrl2_mcw9m80000gn/T/ipykernel_11450/4042733987.py:94: FutureWarning: The behavior of DataFrame concatenation with empty or all-NA entries is deprecated. In a future version, this will no longer exclude empty or all-NA columns when determining the result dtypes. To retain the old behavior, exclude the relevant entries before the concat operation.\n",
      "  query_results_df = pd.concat([query_results_df, result_df], ignore_index=True)\n"
     ]
    },
    {
     "name": "stdout",
     "output_type": "stream",
     "text": [
      "Running BLASTp: Drosophila_simulans vs Drosophila_ananassae using blast_databases/Rh6_(Rhodopsin_6)/Drosophila_ananassae_combined\n",
      "Running BLASTp: Drosophila_simulans vs Drosophila_erecta using blast_databases/Rh6_(Rhodopsin_6)/Drosophila_erecta_combined\n",
      "Running BLASTp: Drosophila_simulans vs Drosophila_mauritiana using blast_databases/Rh6_(Rhodopsin_6)/Drosophila_mauritiana_combined\n",
      "Results for Drosophila_simulans vs all saved to: cross_species_blast_results/Rh6_(Rhodopsin_6)/Drosophila_simulans_vs_all.csv\n",
      "Running BLASTp: Drosophila_mauritiana vs Drosophila_melanogaster using blast_databases/Rh6_(Rhodopsin_6)/Drosophila_melanogaster_combined\n",
      "Running BLASTp: Drosophila_mauritiana vs Drosophila_teissieri using blast_databases/Rh6_(Rhodopsin_6)/Drosophila_teissieri_combined\n",
      "Running BLASTp: Drosophila_mauritiana vs Drosophila_yakuba using blast_databases/Rh6_(Rhodopsin_6)/Drosophila_yakuba_combined\n"
     ]
    },
    {
     "name": "stderr",
     "output_type": "stream",
     "text": [
      "/var/folders/mj/yrtz1pp53zs_hqrl2_mcw9m80000gn/T/ipykernel_11450/4042733987.py:94: FutureWarning: The behavior of DataFrame concatenation with empty or all-NA entries is deprecated. In a future version, this will no longer exclude empty or all-NA columns when determining the result dtypes. To retain the old behavior, exclude the relevant entries before the concat operation.\n",
      "  query_results_df = pd.concat([query_results_df, result_df], ignore_index=True)\n"
     ]
    },
    {
     "name": "stdout",
     "output_type": "stream",
     "text": [
      "Running BLASTp: Drosophila_mauritiana vs Drosophila_ananassae using blast_databases/Rh6_(Rhodopsin_6)/Drosophila_ananassae_combined\n",
      "Running BLASTp: Drosophila_mauritiana vs Drosophila_erecta using blast_databases/Rh6_(Rhodopsin_6)/Drosophila_erecta_combined\n",
      "Running BLASTp: Drosophila_mauritiana vs Drosophila_simulans using blast_databases/Rh6_(Rhodopsin_6)/Drosophila_simulans_combined\n",
      "Results for Drosophila_mauritiana vs all saved to: cross_species_blast_results/Rh6_(Rhodopsin_6)/Drosophila_mauritiana_vs_all.csv\n",
      "Processing gene: Ir75a_(Ionotropic_receptor_75a)\n",
      "Running BLASTp: Drosophila_melanogaster vs Drosophila_teissieri using blast_databases/Ir75a_(Ionotropic_receptor_75a)/Drosophila_teissieri_combined\n",
      "Running BLASTp: Drosophila_melanogaster vs Drosophila_yakuba using blast_databases/Ir75a_(Ionotropic_receptor_75a)/Drosophila_yakuba_combined\n"
     ]
    },
    {
     "name": "stderr",
     "output_type": "stream",
     "text": [
      "/var/folders/mj/yrtz1pp53zs_hqrl2_mcw9m80000gn/T/ipykernel_11450/4042733987.py:94: FutureWarning: The behavior of DataFrame concatenation with empty or all-NA entries is deprecated. In a future version, this will no longer exclude empty or all-NA columns when determining the result dtypes. To retain the old behavior, exclude the relevant entries before the concat operation.\n",
      "  query_results_df = pd.concat([query_results_df, result_df], ignore_index=True)\n"
     ]
    },
    {
     "name": "stdout",
     "output_type": "stream",
     "text": [
      "Running BLASTp: Drosophila_melanogaster vs Drosophila_erecta using blast_databases/Ir75a_(Ionotropic_receptor_75a)/Drosophila_erecta_combined\n",
      "Running BLASTp: Drosophila_melanogaster vs Drosophila_mauritiana using blast_databases/Ir75a_(Ionotropic_receptor_75a)/Drosophila_mauritiana_combined\n",
      "Results for Drosophila_melanogaster vs all saved to: cross_species_blast_results/Ir75a_(Ionotropic_receptor_75a)/Drosophila_melanogaster_vs_all.csv\n",
      "Running BLASTp: Drosophila_teissieri vs Drosophila_melanogaster using blast_databases/Ir75a_(Ionotropic_receptor_75a)/Drosophila_melanogaster_combined\n"
     ]
    },
    {
     "name": "stderr",
     "output_type": "stream",
     "text": [
      "/var/folders/mj/yrtz1pp53zs_hqrl2_mcw9m80000gn/T/ipykernel_11450/4042733987.py:94: FutureWarning: The behavior of DataFrame concatenation with empty or all-NA entries is deprecated. In a future version, this will no longer exclude empty or all-NA columns when determining the result dtypes. To retain the old behavior, exclude the relevant entries before the concat operation.\n",
      "  query_results_df = pd.concat([query_results_df, result_df], ignore_index=True)\n"
     ]
    },
    {
     "name": "stdout",
     "output_type": "stream",
     "text": [
      "Running BLASTp: Drosophila_teissieri vs Drosophila_yakuba using blast_databases/Ir75a_(Ionotropic_receptor_75a)/Drosophila_yakuba_combined\n",
      "Running BLASTp: Drosophila_teissieri vs Drosophila_erecta using blast_databases/Ir75a_(Ionotropic_receptor_75a)/Drosophila_erecta_combined\n",
      "Running BLASTp: Drosophila_teissieri vs Drosophila_mauritiana using blast_databases/Ir75a_(Ionotropic_receptor_75a)/Drosophila_mauritiana_combined\n",
      "Results for Drosophila_teissieri vs all saved to: cross_species_blast_results/Ir75a_(Ionotropic_receptor_75a)/Drosophila_teissieri_vs_all.csv\n",
      "Running BLASTp: Drosophila_yakuba vs Drosophila_melanogaster using blast_databases/Ir75a_(Ionotropic_receptor_75a)/Drosophila_melanogaster_combined\n",
      "Running BLASTp: Drosophila_yakuba vs Drosophila_teissieri using blast_databases/Ir75a_(Ionotropic_receptor_75a)/Drosophila_teissieri_combined\n"
     ]
    },
    {
     "name": "stderr",
     "output_type": "stream",
     "text": [
      "/var/folders/mj/yrtz1pp53zs_hqrl2_mcw9m80000gn/T/ipykernel_11450/4042733987.py:94: FutureWarning: The behavior of DataFrame concatenation with empty or all-NA entries is deprecated. In a future version, this will no longer exclude empty or all-NA columns when determining the result dtypes. To retain the old behavior, exclude the relevant entries before the concat operation.\n",
      "  query_results_df = pd.concat([query_results_df, result_df], ignore_index=True)\n"
     ]
    },
    {
     "name": "stdout",
     "output_type": "stream",
     "text": [
      "Running BLASTp: Drosophila_yakuba vs Drosophila_erecta using blast_databases/Ir75a_(Ionotropic_receptor_75a)/Drosophila_erecta_combined\n",
      "Running BLASTp: Drosophila_yakuba vs Drosophila_mauritiana using blast_databases/Ir75a_(Ionotropic_receptor_75a)/Drosophila_mauritiana_combined\n",
      "Results for Drosophila_yakuba vs all saved to: cross_species_blast_results/Ir75a_(Ionotropic_receptor_75a)/Drosophila_yakuba_vs_all.csv\n",
      "Running BLASTp: Drosophila_erecta vs Drosophila_melanogaster using blast_databases/Ir75a_(Ionotropic_receptor_75a)/Drosophila_melanogaster_combined\n",
      "Running BLASTp: Drosophila_erecta vs Drosophila_teissieri using blast_databases/Ir75a_(Ionotropic_receptor_75a)/Drosophila_teissieri_combined\n"
     ]
    },
    {
     "name": "stderr",
     "output_type": "stream",
     "text": [
      "/var/folders/mj/yrtz1pp53zs_hqrl2_mcw9m80000gn/T/ipykernel_11450/4042733987.py:94: FutureWarning: The behavior of DataFrame concatenation with empty or all-NA entries is deprecated. In a future version, this will no longer exclude empty or all-NA columns when determining the result dtypes. To retain the old behavior, exclude the relevant entries before the concat operation.\n",
      "  query_results_df = pd.concat([query_results_df, result_df], ignore_index=True)\n"
     ]
    },
    {
     "name": "stdout",
     "output_type": "stream",
     "text": [
      "Running BLASTp: Drosophila_erecta vs Drosophila_yakuba using blast_databases/Ir75a_(Ionotropic_receptor_75a)/Drosophila_yakuba_combined\n",
      "Running BLASTp: Drosophila_erecta vs Drosophila_mauritiana using blast_databases/Ir75a_(Ionotropic_receptor_75a)/Drosophila_mauritiana_combined\n",
      "Results for Drosophila_erecta vs all saved to: cross_species_blast_results/Ir75a_(Ionotropic_receptor_75a)/Drosophila_erecta_vs_all.csv\n",
      "Running BLASTp: Drosophila_mauritiana vs Drosophila_melanogaster using blast_databases/Ir75a_(Ionotropic_receptor_75a)/Drosophila_melanogaster_combined\n"
     ]
    },
    {
     "name": "stderr",
     "output_type": "stream",
     "text": [
      "/var/folders/mj/yrtz1pp53zs_hqrl2_mcw9m80000gn/T/ipykernel_11450/4042733987.py:94: FutureWarning: The behavior of DataFrame concatenation with empty or all-NA entries is deprecated. In a future version, this will no longer exclude empty or all-NA columns when determining the result dtypes. To retain the old behavior, exclude the relevant entries before the concat operation.\n",
      "  query_results_df = pd.concat([query_results_df, result_df], ignore_index=True)\n"
     ]
    },
    {
     "name": "stdout",
     "output_type": "stream",
     "text": [
      "Running BLASTp: Drosophila_mauritiana vs Drosophila_teissieri using blast_databases/Ir75a_(Ionotropic_receptor_75a)/Drosophila_teissieri_combined\n",
      "Running BLASTp: Drosophila_mauritiana vs Drosophila_yakuba using blast_databases/Ir75a_(Ionotropic_receptor_75a)/Drosophila_yakuba_combined\n",
      "Running BLASTp: Drosophila_mauritiana vs Drosophila_erecta using blast_databases/Ir75a_(Ionotropic_receptor_75a)/Drosophila_erecta_combined\n",
      "Results for Drosophila_mauritiana vs all saved to: cross_species_blast_results/Ir75a_(Ionotropic_receptor_75a)/Drosophila_mauritiana_vs_all.csv\n",
      "Processing gene: stops_(slow_termination_of_phototransduction)\n",
      "Running BLASTp: Drosophila_melanogaster vs Drosophila_teissieri using blast_databases/stops_(slow_termination_of_phototransduction)/Drosophila_teissieri_combined\n",
      "Running BLASTp: Drosophila_melanogaster vs Drosophila_yakuba using blast_databases/stops_(slow_termination_of_phototransduction)/Drosophila_yakuba_combined\n",
      "Running BLASTp: Drosophila_melanogaster vs Drosophila_ananassae using blast_databases/stops_(slow_termination_of_phototransduction)/Drosophila_ananassae_combined\n"
     ]
    },
    {
     "name": "stderr",
     "output_type": "stream",
     "text": [
      "/var/folders/mj/yrtz1pp53zs_hqrl2_mcw9m80000gn/T/ipykernel_11450/4042733987.py:94: FutureWarning: The behavior of DataFrame concatenation with empty or all-NA entries is deprecated. In a future version, this will no longer exclude empty or all-NA columns when determining the result dtypes. To retain the old behavior, exclude the relevant entries before the concat operation.\n",
      "  query_results_df = pd.concat([query_results_df, result_df], ignore_index=True)\n"
     ]
    },
    {
     "name": "stdout",
     "output_type": "stream",
     "text": [
      "Running BLASTp: Drosophila_melanogaster vs Drosophila_erecta using blast_databases/stops_(slow_termination_of_phototransduction)/Drosophila_erecta_combined\n",
      "Running BLASTp: Drosophila_melanogaster vs Drosophila_simulans using blast_databases/stops_(slow_termination_of_phototransduction)/Drosophila_simulans_combined\n",
      "Running BLASTp: Drosophila_melanogaster vs Drosophila_mauritiana using blast_databases/stops_(slow_termination_of_phototransduction)/Drosophila_mauritiana_combined\n",
      "Results for Drosophila_melanogaster vs all saved to: cross_species_blast_results/stops_(slow_termination_of_phototransduction)/Drosophila_melanogaster_vs_all.csv\n",
      "Running BLASTp: Drosophila_teissieri vs Drosophila_melanogaster using blast_databases/stops_(slow_termination_of_phototransduction)/Drosophila_melanogaster_combined\n",
      "Running BLASTp: Drosophila_teissieri vs Drosophila_yakuba using blast_databases/stops_(slow_termination_of_phototransduction)/Drosophila_yakuba_combined\n",
      "Running BLASTp: Drosophila_teissieri vs Drosophila_ananassae using blast_databases/stops_(slow_termination_of_phototransduction)/Drosophila_ananassae_combined\n"
     ]
    },
    {
     "name": "stderr",
     "output_type": "stream",
     "text": [
      "/var/folders/mj/yrtz1pp53zs_hqrl2_mcw9m80000gn/T/ipykernel_11450/4042733987.py:94: FutureWarning: The behavior of DataFrame concatenation with empty or all-NA entries is deprecated. In a future version, this will no longer exclude empty or all-NA columns when determining the result dtypes. To retain the old behavior, exclude the relevant entries before the concat operation.\n",
      "  query_results_df = pd.concat([query_results_df, result_df], ignore_index=True)\n"
     ]
    },
    {
     "name": "stdout",
     "output_type": "stream",
     "text": [
      "Running BLASTp: Drosophila_teissieri vs Drosophila_erecta using blast_databases/stops_(slow_termination_of_phototransduction)/Drosophila_erecta_combined\n",
      "Running BLASTp: Drosophila_teissieri vs Drosophila_simulans using blast_databases/stops_(slow_termination_of_phototransduction)/Drosophila_simulans_combined\n",
      "Running BLASTp: Drosophila_teissieri vs Drosophila_mauritiana using blast_databases/stops_(slow_termination_of_phototransduction)/Drosophila_mauritiana_combined\n",
      "Results for Drosophila_teissieri vs all saved to: cross_species_blast_results/stops_(slow_termination_of_phototransduction)/Drosophila_teissieri_vs_all.csv\n",
      "Running BLASTp: Drosophila_yakuba vs Drosophila_melanogaster using blast_databases/stops_(slow_termination_of_phototransduction)/Drosophila_melanogaster_combined\n",
      "Running BLASTp: Drosophila_yakuba vs Drosophila_teissieri using blast_databases/stops_(slow_termination_of_phototransduction)/Drosophila_teissieri_combined\n",
      "Running BLASTp: Drosophila_yakuba vs Drosophila_ananassae using blast_databases/stops_(slow_termination_of_phototransduction)/Drosophila_ananassae_combined\n"
     ]
    },
    {
     "name": "stderr",
     "output_type": "stream",
     "text": [
      "/var/folders/mj/yrtz1pp53zs_hqrl2_mcw9m80000gn/T/ipykernel_11450/4042733987.py:94: FutureWarning: The behavior of DataFrame concatenation with empty or all-NA entries is deprecated. In a future version, this will no longer exclude empty or all-NA columns when determining the result dtypes. To retain the old behavior, exclude the relevant entries before the concat operation.\n",
      "  query_results_df = pd.concat([query_results_df, result_df], ignore_index=True)\n"
     ]
    },
    {
     "name": "stdout",
     "output_type": "stream",
     "text": [
      "Running BLASTp: Drosophila_yakuba vs Drosophila_erecta using blast_databases/stops_(slow_termination_of_phototransduction)/Drosophila_erecta_combined\n",
      "Running BLASTp: Drosophila_yakuba vs Drosophila_simulans using blast_databases/stops_(slow_termination_of_phototransduction)/Drosophila_simulans_combined\n",
      "Running BLASTp: Drosophila_yakuba vs Drosophila_mauritiana using blast_databases/stops_(slow_termination_of_phototransduction)/Drosophila_mauritiana_combined\n",
      "Results for Drosophila_yakuba vs all saved to: cross_species_blast_results/stops_(slow_termination_of_phototransduction)/Drosophila_yakuba_vs_all.csv\n",
      "Running BLASTp: Drosophila_ananassae vs Drosophila_melanogaster using blast_databases/stops_(slow_termination_of_phototransduction)/Drosophila_melanogaster_combined\n",
      "Running BLASTp: Drosophila_ananassae vs Drosophila_teissieri using blast_databases/stops_(slow_termination_of_phototransduction)/Drosophila_teissieri_combined\n"
     ]
    },
    {
     "name": "stderr",
     "output_type": "stream",
     "text": [
      "/var/folders/mj/yrtz1pp53zs_hqrl2_mcw9m80000gn/T/ipykernel_11450/4042733987.py:94: FutureWarning: The behavior of DataFrame concatenation with empty or all-NA entries is deprecated. In a future version, this will no longer exclude empty or all-NA columns when determining the result dtypes. To retain the old behavior, exclude the relevant entries before the concat operation.\n",
      "  query_results_df = pd.concat([query_results_df, result_df], ignore_index=True)\n"
     ]
    },
    {
     "name": "stdout",
     "output_type": "stream",
     "text": [
      "Running BLASTp: Drosophila_ananassae vs Drosophila_yakuba using blast_databases/stops_(slow_termination_of_phototransduction)/Drosophila_yakuba_combined\n",
      "Running BLASTp: Drosophila_ananassae vs Drosophila_erecta using blast_databases/stops_(slow_termination_of_phototransduction)/Drosophila_erecta_combined\n",
      "Running BLASTp: Drosophila_ananassae vs Drosophila_simulans using blast_databases/stops_(slow_termination_of_phototransduction)/Drosophila_simulans_combined\n",
      "Running BLASTp: Drosophila_ananassae vs Drosophila_mauritiana using blast_databases/stops_(slow_termination_of_phototransduction)/Drosophila_mauritiana_combined\n",
      "Results for Drosophila_ananassae vs all saved to: cross_species_blast_results/stops_(slow_termination_of_phototransduction)/Drosophila_ananassae_vs_all.csv\n",
      "Running BLASTp: Drosophila_erecta vs Drosophila_melanogaster using blast_databases/stops_(slow_termination_of_phototransduction)/Drosophila_melanogaster_combined\n",
      "Running BLASTp: Drosophila_erecta vs Drosophila_teissieri using blast_databases/stops_(slow_termination_of_phototransduction)/Drosophila_teissieri_combined\n"
     ]
    },
    {
     "name": "stderr",
     "output_type": "stream",
     "text": [
      "/var/folders/mj/yrtz1pp53zs_hqrl2_mcw9m80000gn/T/ipykernel_11450/4042733987.py:94: FutureWarning: The behavior of DataFrame concatenation with empty or all-NA entries is deprecated. In a future version, this will no longer exclude empty or all-NA columns when determining the result dtypes. To retain the old behavior, exclude the relevant entries before the concat operation.\n",
      "  query_results_df = pd.concat([query_results_df, result_df], ignore_index=True)\n"
     ]
    },
    {
     "name": "stdout",
     "output_type": "stream",
     "text": [
      "Running BLASTp: Drosophila_erecta vs Drosophila_yakuba using blast_databases/stops_(slow_termination_of_phototransduction)/Drosophila_yakuba_combined\n",
      "Running BLASTp: Drosophila_erecta vs Drosophila_ananassae using blast_databases/stops_(slow_termination_of_phototransduction)/Drosophila_ananassae_combined\n",
      "Running BLASTp: Drosophila_erecta vs Drosophila_simulans using blast_databases/stops_(slow_termination_of_phototransduction)/Drosophila_simulans_combined\n",
      "Running BLASTp: Drosophila_erecta vs Drosophila_mauritiana using blast_databases/stops_(slow_termination_of_phototransduction)/Drosophila_mauritiana_combined\n",
      "Results for Drosophila_erecta vs all saved to: cross_species_blast_results/stops_(slow_termination_of_phototransduction)/Drosophila_erecta_vs_all.csv\n",
      "Running BLASTp: Drosophila_simulans vs Drosophila_melanogaster using blast_databases/stops_(slow_termination_of_phototransduction)/Drosophila_melanogaster_combined\n",
      "Running BLASTp: Drosophila_simulans vs Drosophila_teissieri using blast_databases/stops_(slow_termination_of_phototransduction)/Drosophila_teissieri_combined\n"
     ]
    },
    {
     "name": "stderr",
     "output_type": "stream",
     "text": [
      "/var/folders/mj/yrtz1pp53zs_hqrl2_mcw9m80000gn/T/ipykernel_11450/4042733987.py:94: FutureWarning: The behavior of DataFrame concatenation with empty or all-NA entries is deprecated. In a future version, this will no longer exclude empty or all-NA columns when determining the result dtypes. To retain the old behavior, exclude the relevant entries before the concat operation.\n",
      "  query_results_df = pd.concat([query_results_df, result_df], ignore_index=True)\n"
     ]
    },
    {
     "name": "stdout",
     "output_type": "stream",
     "text": [
      "Running BLASTp: Drosophila_simulans vs Drosophila_yakuba using blast_databases/stops_(slow_termination_of_phototransduction)/Drosophila_yakuba_combined\n",
      "Running BLASTp: Drosophila_simulans vs Drosophila_ananassae using blast_databases/stops_(slow_termination_of_phototransduction)/Drosophila_ananassae_combined\n",
      "Running BLASTp: Drosophila_simulans vs Drosophila_erecta using blast_databases/stops_(slow_termination_of_phototransduction)/Drosophila_erecta_combined\n",
      "Running BLASTp: Drosophila_simulans vs Drosophila_mauritiana using blast_databases/stops_(slow_termination_of_phototransduction)/Drosophila_mauritiana_combined\n",
      "Results for Drosophila_simulans vs all saved to: cross_species_blast_results/stops_(slow_termination_of_phototransduction)/Drosophila_simulans_vs_all.csv\n",
      "Running BLASTp: Drosophila_mauritiana vs Drosophila_melanogaster using blast_databases/stops_(slow_termination_of_phototransduction)/Drosophila_melanogaster_combined\n",
      "Running BLASTp: Drosophila_mauritiana vs Drosophila_teissieri using blast_databases/stops_(slow_termination_of_phototransduction)/Drosophila_teissieri_combined\n",
      "Running BLASTp: Drosophila_mauritiana vs Drosophila_yakuba using blast_databases/stops_(slow_termination_of_phototransduction)/Drosophila_yakuba_combined\n"
     ]
    },
    {
     "name": "stderr",
     "output_type": "stream",
     "text": [
      "/var/folders/mj/yrtz1pp53zs_hqrl2_mcw9m80000gn/T/ipykernel_11450/4042733987.py:94: FutureWarning: The behavior of DataFrame concatenation with empty or all-NA entries is deprecated. In a future version, this will no longer exclude empty or all-NA columns when determining the result dtypes. To retain the old behavior, exclude the relevant entries before the concat operation.\n",
      "  query_results_df = pd.concat([query_results_df, result_df], ignore_index=True)\n"
     ]
    },
    {
     "name": "stdout",
     "output_type": "stream",
     "text": [
      "Running BLASTp: Drosophila_mauritiana vs Drosophila_ananassae using blast_databases/stops_(slow_termination_of_phototransduction)/Drosophila_ananassae_combined\n",
      "Running BLASTp: Drosophila_mauritiana vs Drosophila_erecta using blast_databases/stops_(slow_termination_of_phototransduction)/Drosophila_erecta_combined\n",
      "Running BLASTp: Drosophila_mauritiana vs Drosophila_simulans using blast_databases/stops_(slow_termination_of_phototransduction)/Drosophila_simulans_combined\n",
      "Results for Drosophila_mauritiana vs all saved to: cross_species_blast_results/stops_(slow_termination_of_phototransduction)/Drosophila_mauritiana_vs_all.csv\n",
      "Processing gene: tko_(technical_knockout)\n",
      "Running BLASTp: Drosophila_melanogaster vs Drosophila_teissieri using blast_databases/tko_(technical_knockout)/Drosophila_teissieri_combined\n",
      "Running BLASTp: Drosophila_melanogaster vs Drosophila_yakuba using blast_databases/tko_(technical_knockout)/Drosophila_yakuba_combined\n",
      "Running BLASTp: Drosophila_melanogaster vs Drosophila_ananassae using blast_databases/tko_(technical_knockout)/Drosophila_ananassae_combined\n"
     ]
    },
    {
     "name": "stderr",
     "output_type": "stream",
     "text": [
      "/var/folders/mj/yrtz1pp53zs_hqrl2_mcw9m80000gn/T/ipykernel_11450/4042733987.py:94: FutureWarning: The behavior of DataFrame concatenation with empty or all-NA entries is deprecated. In a future version, this will no longer exclude empty or all-NA columns when determining the result dtypes. To retain the old behavior, exclude the relevant entries before the concat operation.\n",
      "  query_results_df = pd.concat([query_results_df, result_df], ignore_index=True)\n",
      "/var/folders/mj/yrtz1pp53zs_hqrl2_mcw9m80000gn/T/ipykernel_11450/4042733987.py:94: FutureWarning: The behavior of DataFrame concatenation with empty or all-NA entries is deprecated. In a future version, this will no longer exclude empty or all-NA columns when determining the result dtypes. To retain the old behavior, exclude the relevant entries before the concat operation.\n",
      "  query_results_df = pd.concat([query_results_df, result_df], ignore_index=True)\n"
     ]
    },
    {
     "name": "stdout",
     "output_type": "stream",
     "text": [
      "Running BLASTp: Drosophila_melanogaster vs Drosophila_erecta using blast_databases/tko_(technical_knockout)/Drosophila_erecta_combined\n",
      "Running BLASTp: Drosophila_melanogaster vs Drosophila_simulans using blast_databases/tko_(technical_knockout)/Drosophila_simulans_combined\n",
      "Running BLASTp: Drosophila_melanogaster vs Drosophila_mauritiana using blast_databases/tko_(technical_knockout)/Drosophila_mauritiana_combined\n",
      "Results for Drosophila_melanogaster vs all saved to: cross_species_blast_results/tko_(technical_knockout)/Drosophila_melanogaster_vs_all.csv\n",
      "Running BLASTp: Drosophila_teissieri vs Drosophila_melanogaster using blast_databases/tko_(technical_knockout)/Drosophila_melanogaster_combined\n",
      "Running BLASTp: Drosophila_teissieri vs Drosophila_yakuba using blast_databases/tko_(technical_knockout)/Drosophila_yakuba_combined\n",
      "Running BLASTp: Drosophila_teissieri vs Drosophila_ananassae using blast_databases/tko_(technical_knockout)/Drosophila_ananassae_combined\n"
     ]
    },
    {
     "name": "stderr",
     "output_type": "stream",
     "text": [
      "/var/folders/mj/yrtz1pp53zs_hqrl2_mcw9m80000gn/T/ipykernel_11450/4042733987.py:94: FutureWarning: The behavior of DataFrame concatenation with empty or all-NA entries is deprecated. In a future version, this will no longer exclude empty or all-NA columns when determining the result dtypes. To retain the old behavior, exclude the relevant entries before the concat operation.\n",
      "  query_results_df = pd.concat([query_results_df, result_df], ignore_index=True)\n",
      "/var/folders/mj/yrtz1pp53zs_hqrl2_mcw9m80000gn/T/ipykernel_11450/4042733987.py:94: FutureWarning: The behavior of DataFrame concatenation with empty or all-NA entries is deprecated. In a future version, this will no longer exclude empty or all-NA columns when determining the result dtypes. To retain the old behavior, exclude the relevant entries before the concat operation.\n",
      "  query_results_df = pd.concat([query_results_df, result_df], ignore_index=True)\n"
     ]
    },
    {
     "name": "stdout",
     "output_type": "stream",
     "text": [
      "Running BLASTp: Drosophila_teissieri vs Drosophila_erecta using blast_databases/tko_(technical_knockout)/Drosophila_erecta_combined\n",
      "Running BLASTp: Drosophila_teissieri vs Drosophila_simulans using blast_databases/tko_(technical_knockout)/Drosophila_simulans_combined\n",
      "Running BLASTp: Drosophila_teissieri vs Drosophila_mauritiana using blast_databases/tko_(technical_knockout)/Drosophila_mauritiana_combined\n",
      "Results for Drosophila_teissieri vs all saved to: cross_species_blast_results/tko_(technical_knockout)/Drosophila_teissieri_vs_all.csv\n",
      "Running BLASTp: Drosophila_yakuba vs Drosophila_melanogaster using blast_databases/tko_(technical_knockout)/Drosophila_melanogaster_combined\n",
      "Running BLASTp: Drosophila_yakuba vs Drosophila_teissieri using blast_databases/tko_(technical_knockout)/Drosophila_teissieri_combined\n",
      "Running BLASTp: Drosophila_yakuba vs Drosophila_ananassae using blast_databases/tko_(technical_knockout)/Drosophila_ananassae_combined\n"
     ]
    },
    {
     "name": "stderr",
     "output_type": "stream",
     "text": [
      "/var/folders/mj/yrtz1pp53zs_hqrl2_mcw9m80000gn/T/ipykernel_11450/4042733987.py:94: FutureWarning: The behavior of DataFrame concatenation with empty or all-NA entries is deprecated. In a future version, this will no longer exclude empty or all-NA columns when determining the result dtypes. To retain the old behavior, exclude the relevant entries before the concat operation.\n",
      "  query_results_df = pd.concat([query_results_df, result_df], ignore_index=True)\n",
      "/var/folders/mj/yrtz1pp53zs_hqrl2_mcw9m80000gn/T/ipykernel_11450/4042733987.py:94: FutureWarning: The behavior of DataFrame concatenation with empty or all-NA entries is deprecated. In a future version, this will no longer exclude empty or all-NA columns when determining the result dtypes. To retain the old behavior, exclude the relevant entries before the concat operation.\n",
      "  query_results_df = pd.concat([query_results_df, result_df], ignore_index=True)\n"
     ]
    },
    {
     "name": "stdout",
     "output_type": "stream",
     "text": [
      "Running BLASTp: Drosophila_yakuba vs Drosophila_erecta using blast_databases/tko_(technical_knockout)/Drosophila_erecta_combined\n",
      "Running BLASTp: Drosophila_yakuba vs Drosophila_simulans using blast_databases/tko_(technical_knockout)/Drosophila_simulans_combined\n",
      "Running BLASTp: Drosophila_yakuba vs Drosophila_mauritiana using blast_databases/tko_(technical_knockout)/Drosophila_mauritiana_combined\n",
      "Results for Drosophila_yakuba vs all saved to: cross_species_blast_results/tko_(technical_knockout)/Drosophila_yakuba_vs_all.csv\n",
      "Running BLASTp: Drosophila_ananassae vs Drosophila_melanogaster using blast_databases/tko_(technical_knockout)/Drosophila_melanogaster_combined\n",
      "Running BLASTp: Drosophila_ananassae vs Drosophila_teissieri using blast_databases/tko_(technical_knockout)/Drosophila_teissieri_combined\n",
      "Running BLASTp: Drosophila_ananassae vs Drosophila_yakuba using blast_databases/tko_(technical_knockout)/Drosophila_yakuba_combined\n",
      "Running BLASTp: Drosophila_ananassae vs Drosophila_erecta using blast_databases/tko_(technical_knockout)/Drosophila_erecta_combined\n",
      "Running BLASTp: Drosophila_ananassae vs Drosophila_simulans using blast_databases/tko_(technical_knockout)/Drosophila_simulans_combined\n",
      "Running BLASTp: Drosophila_ananassae vs Drosophila_mauritiana using blast_databases/tko_(technical_knockout)/Drosophila_mauritiana_combined\n",
      "Results for Drosophila_ananassae vs all saved to: cross_species_blast_results/tko_(technical_knockout)/Drosophila_ananassae_vs_all.csv\n",
      "Running BLASTp: Drosophila_erecta vs Drosophila_melanogaster using blast_databases/tko_(technical_knockout)/Drosophila_melanogaster_combined\n",
      "Running BLASTp: Drosophila_erecta vs Drosophila_teissieri using blast_databases/tko_(technical_knockout)/Drosophila_teissieri_combined\n",
      "Running BLASTp: Drosophila_erecta vs Drosophila_yakuba using blast_databases/tko_(technical_knockout)/Drosophila_yakuba_combined\n"
     ]
    },
    {
     "name": "stderr",
     "output_type": "stream",
     "text": [
      "/var/folders/mj/yrtz1pp53zs_hqrl2_mcw9m80000gn/T/ipykernel_11450/4042733987.py:107: FutureWarning: The behavior of DataFrame concatenation with empty or all-NA entries is deprecated. In a future version, this will no longer exclude empty or all-NA columns when determining the result dtypes. To retain the old behavior, exclude the relevant entries before the concat operation.\n",
      "  master_df = pd.concat([master_df, query_results_df], ignore_index=True)\n",
      "/var/folders/mj/yrtz1pp53zs_hqrl2_mcw9m80000gn/T/ipykernel_11450/4042733987.py:94: FutureWarning: The behavior of DataFrame concatenation with empty or all-NA entries is deprecated. In a future version, this will no longer exclude empty or all-NA columns when determining the result dtypes. To retain the old behavior, exclude the relevant entries before the concat operation.\n",
      "  query_results_df = pd.concat([query_results_df, result_df], ignore_index=True)\n"
     ]
    },
    {
     "name": "stdout",
     "output_type": "stream",
     "text": [
      "Running BLASTp: Drosophila_erecta vs Drosophila_ananassae using blast_databases/tko_(technical_knockout)/Drosophila_ananassae_combined\n",
      "Running BLASTp: Drosophila_erecta vs Drosophila_simulans using blast_databases/tko_(technical_knockout)/Drosophila_simulans_combined\n",
      "Running BLASTp: Drosophila_erecta vs Drosophila_mauritiana using blast_databases/tko_(technical_knockout)/Drosophila_mauritiana_combined\n"
     ]
    },
    {
     "name": "stderr",
     "output_type": "stream",
     "text": [
      "/var/folders/mj/yrtz1pp53zs_hqrl2_mcw9m80000gn/T/ipykernel_11450/4042733987.py:94: FutureWarning: The behavior of DataFrame concatenation with empty or all-NA entries is deprecated. In a future version, this will no longer exclude empty or all-NA columns when determining the result dtypes. To retain the old behavior, exclude the relevant entries before the concat operation.\n",
      "  query_results_df = pd.concat([query_results_df, result_df], ignore_index=True)\n"
     ]
    },
    {
     "name": "stdout",
     "output_type": "stream",
     "text": [
      "Results for Drosophila_erecta vs all saved to: cross_species_blast_results/tko_(technical_knockout)/Drosophila_erecta_vs_all.csv\n",
      "Running BLASTp: Drosophila_simulans vs Drosophila_melanogaster using blast_databases/tko_(technical_knockout)/Drosophila_melanogaster_combined\n",
      "Running BLASTp: Drosophila_simulans vs Drosophila_teissieri using blast_databases/tko_(technical_knockout)/Drosophila_teissieri_combined\n",
      "Running BLASTp: Drosophila_simulans vs Drosophila_yakuba using blast_databases/tko_(technical_knockout)/Drosophila_yakuba_combined\n"
     ]
    },
    {
     "name": "stderr",
     "output_type": "stream",
     "text": [
      "/var/folders/mj/yrtz1pp53zs_hqrl2_mcw9m80000gn/T/ipykernel_11450/4042733987.py:94: FutureWarning: The behavior of DataFrame concatenation with empty or all-NA entries is deprecated. In a future version, this will no longer exclude empty or all-NA columns when determining the result dtypes. To retain the old behavior, exclude the relevant entries before the concat operation.\n",
      "  query_results_df = pd.concat([query_results_df, result_df], ignore_index=True)\n"
     ]
    },
    {
     "name": "stdout",
     "output_type": "stream",
     "text": [
      "Running BLASTp: Drosophila_simulans vs Drosophila_ananassae using blast_databases/tko_(technical_knockout)/Drosophila_ananassae_combined\n",
      "Running BLASTp: Drosophila_simulans vs Drosophila_erecta using blast_databases/tko_(technical_knockout)/Drosophila_erecta_combined\n",
      "Running BLASTp: Drosophila_simulans vs Drosophila_mauritiana using blast_databases/tko_(technical_knockout)/Drosophila_mauritiana_combined\n"
     ]
    },
    {
     "name": "stderr",
     "output_type": "stream",
     "text": [
      "/var/folders/mj/yrtz1pp53zs_hqrl2_mcw9m80000gn/T/ipykernel_11450/4042733987.py:94: FutureWarning: The behavior of DataFrame concatenation with empty or all-NA entries is deprecated. In a future version, this will no longer exclude empty or all-NA columns when determining the result dtypes. To retain the old behavior, exclude the relevant entries before the concat operation.\n",
      "  query_results_df = pd.concat([query_results_df, result_df], ignore_index=True)\n"
     ]
    },
    {
     "name": "stdout",
     "output_type": "stream",
     "text": [
      "Results for Drosophila_simulans vs all saved to: cross_species_blast_results/tko_(technical_knockout)/Drosophila_simulans_vs_all.csv\n",
      "Running BLASTp: Drosophila_mauritiana vs Drosophila_melanogaster using blast_databases/tko_(technical_knockout)/Drosophila_melanogaster_combined\n",
      "Running BLASTp: Drosophila_mauritiana vs Drosophila_teissieri using blast_databases/tko_(technical_knockout)/Drosophila_teissieri_combined\n"
     ]
    },
    {
     "name": "stderr",
     "output_type": "stream",
     "text": [
      "/var/folders/mj/yrtz1pp53zs_hqrl2_mcw9m80000gn/T/ipykernel_11450/4042733987.py:94: FutureWarning: The behavior of DataFrame concatenation with empty or all-NA entries is deprecated. In a future version, this will no longer exclude empty or all-NA columns when determining the result dtypes. To retain the old behavior, exclude the relevant entries before the concat operation.\n",
      "  query_results_df = pd.concat([query_results_df, result_df], ignore_index=True)\n"
     ]
    },
    {
     "name": "stdout",
     "output_type": "stream",
     "text": [
      "Running BLASTp: Drosophila_mauritiana vs Drosophila_yakuba using blast_databases/tko_(technical_knockout)/Drosophila_yakuba_combined\n",
      "Running BLASTp: Drosophila_mauritiana vs Drosophila_ananassae using blast_databases/tko_(technical_knockout)/Drosophila_ananassae_combined\n",
      "Running BLASTp: Drosophila_mauritiana vs Drosophila_erecta using blast_databases/tko_(technical_knockout)/Drosophila_erecta_combined\n"
     ]
    },
    {
     "name": "stderr",
     "output_type": "stream",
     "text": [
      "/var/folders/mj/yrtz1pp53zs_hqrl2_mcw9m80000gn/T/ipykernel_11450/4042733987.py:94: FutureWarning: The behavior of DataFrame concatenation with empty or all-NA entries is deprecated. In a future version, this will no longer exclude empty or all-NA columns when determining the result dtypes. To retain the old behavior, exclude the relevant entries before the concat operation.\n",
      "  query_results_df = pd.concat([query_results_df, result_df], ignore_index=True)\n"
     ]
    },
    {
     "name": "stdout",
     "output_type": "stream",
     "text": [
      "Running BLASTp: Drosophila_mauritiana vs Drosophila_simulans using blast_databases/tko_(technical_knockout)/Drosophila_simulans_combined\n",
      "Results for Drosophila_mauritiana vs all saved to: cross_species_blast_results/tko_(technical_knockout)/Drosophila_mauritiana_vs_all.csv\n",
      "Processing gene: dia_(diaphanous)\n",
      "Running BLASTp: Drosophila_melanogaster vs Drosophila_teissieri using blast_databases/dia_(diaphanous)/Drosophila_teissieri_combined\n"
     ]
    },
    {
     "name": "stderr",
     "output_type": "stream",
     "text": [
      "/var/folders/mj/yrtz1pp53zs_hqrl2_mcw9m80000gn/T/ipykernel_11450/4042733987.py:94: FutureWarning: The behavior of DataFrame concatenation with empty or all-NA entries is deprecated. In a future version, this will no longer exclude empty or all-NA columns when determining the result dtypes. To retain the old behavior, exclude the relevant entries before the concat operation.\n",
      "  query_results_df = pd.concat([query_results_df, result_df], ignore_index=True)\n"
     ]
    },
    {
     "name": "stdout",
     "output_type": "stream",
     "text": [
      "Running BLASTp: Drosophila_melanogaster vs Drosophila_yakuba using blast_databases/dia_(diaphanous)/Drosophila_yakuba_combined\n",
      "Running BLASTp: Drosophila_melanogaster vs Drosophila_ananassae using blast_databases/dia_(diaphanous)/Drosophila_ananassae_combined\n",
      "Running BLASTp: Drosophila_melanogaster vs Drosophila_erecta using blast_databases/dia_(diaphanous)/Drosophila_erecta_combined\n",
      "Running BLASTp: Drosophila_melanogaster vs Drosophila_simulans using blast_databases/dia_(diaphanous)/Drosophila_simulans_combined\n",
      "Running BLASTp: Drosophila_melanogaster vs Drosophila_mauritiana using blast_databases/dia_(diaphanous)/Drosophila_mauritiana_combined\n",
      "Results for Drosophila_melanogaster vs all saved to: cross_species_blast_results/dia_(diaphanous)/Drosophila_melanogaster_vs_all.csv\n",
      "Running BLASTp: Drosophila_teissieri vs Drosophila_melanogaster using blast_databases/dia_(diaphanous)/Drosophila_melanogaster_combined\n"
     ]
    },
    {
     "name": "stderr",
     "output_type": "stream",
     "text": [
      "/var/folders/mj/yrtz1pp53zs_hqrl2_mcw9m80000gn/T/ipykernel_11450/4042733987.py:94: FutureWarning: The behavior of DataFrame concatenation with empty or all-NA entries is deprecated. In a future version, this will no longer exclude empty or all-NA columns when determining the result dtypes. To retain the old behavior, exclude the relevant entries before the concat operation.\n",
      "  query_results_df = pd.concat([query_results_df, result_df], ignore_index=True)\n"
     ]
    },
    {
     "name": "stdout",
     "output_type": "stream",
     "text": [
      "Running BLASTp: Drosophila_teissieri vs Drosophila_yakuba using blast_databases/dia_(diaphanous)/Drosophila_yakuba_combined\n",
      "Running BLASTp: Drosophila_teissieri vs Drosophila_ananassae using blast_databases/dia_(diaphanous)/Drosophila_ananassae_combined\n",
      "Running BLASTp: Drosophila_teissieri vs Drosophila_erecta using blast_databases/dia_(diaphanous)/Drosophila_erecta_combined\n",
      "Running BLASTp: Drosophila_teissieri vs Drosophila_simulans using blast_databases/dia_(diaphanous)/Drosophila_simulans_combined\n",
      "Running BLASTp: Drosophila_teissieri vs Drosophila_mauritiana using blast_databases/dia_(diaphanous)/Drosophila_mauritiana_combined\n",
      "Results for Drosophila_teissieri vs all saved to: cross_species_blast_results/dia_(diaphanous)/Drosophila_teissieri_vs_all.csv\n",
      "Running BLASTp: Drosophila_yakuba vs Drosophila_melanogaster using blast_databases/dia_(diaphanous)/Drosophila_melanogaster_combined\n"
     ]
    },
    {
     "name": "stderr",
     "output_type": "stream",
     "text": [
      "/var/folders/mj/yrtz1pp53zs_hqrl2_mcw9m80000gn/T/ipykernel_11450/4042733987.py:94: FutureWarning: The behavior of DataFrame concatenation with empty or all-NA entries is deprecated. In a future version, this will no longer exclude empty or all-NA columns when determining the result dtypes. To retain the old behavior, exclude the relevant entries before the concat operation.\n",
      "  query_results_df = pd.concat([query_results_df, result_df], ignore_index=True)\n"
     ]
    },
    {
     "name": "stdout",
     "output_type": "stream",
     "text": [
      "Running BLASTp: Drosophila_yakuba vs Drosophila_teissieri using blast_databases/dia_(diaphanous)/Drosophila_teissieri_combined\n",
      "Running BLASTp: Drosophila_yakuba vs Drosophila_ananassae using blast_databases/dia_(diaphanous)/Drosophila_ananassae_combined\n",
      "Running BLASTp: Drosophila_yakuba vs Drosophila_erecta using blast_databases/dia_(diaphanous)/Drosophila_erecta_combined\n",
      "Running BLASTp: Drosophila_yakuba vs Drosophila_simulans using blast_databases/dia_(diaphanous)/Drosophila_simulans_combined\n",
      "Running BLASTp: Drosophila_yakuba vs Drosophila_mauritiana using blast_databases/dia_(diaphanous)/Drosophila_mauritiana_combined\n",
      "Results for Drosophila_yakuba vs all saved to: cross_species_blast_results/dia_(diaphanous)/Drosophila_yakuba_vs_all.csv\n",
      "Running BLASTp: Drosophila_ananassae vs Drosophila_melanogaster using blast_databases/dia_(diaphanous)/Drosophila_melanogaster_combined\n"
     ]
    },
    {
     "name": "stderr",
     "output_type": "stream",
     "text": [
      "/var/folders/mj/yrtz1pp53zs_hqrl2_mcw9m80000gn/T/ipykernel_11450/4042733987.py:94: FutureWarning: The behavior of DataFrame concatenation with empty or all-NA entries is deprecated. In a future version, this will no longer exclude empty or all-NA columns when determining the result dtypes. To retain the old behavior, exclude the relevant entries before the concat operation.\n",
      "  query_results_df = pd.concat([query_results_df, result_df], ignore_index=True)\n"
     ]
    },
    {
     "name": "stdout",
     "output_type": "stream",
     "text": [
      "Running BLASTp: Drosophila_ananassae vs Drosophila_teissieri using blast_databases/dia_(diaphanous)/Drosophila_teissieri_combined\n",
      "Running BLASTp: Drosophila_ananassae vs Drosophila_yakuba using blast_databases/dia_(diaphanous)/Drosophila_yakuba_combined\n",
      "Running BLASTp: Drosophila_ananassae vs Drosophila_erecta using blast_databases/dia_(diaphanous)/Drosophila_erecta_combined\n",
      "Running BLASTp: Drosophila_ananassae vs Drosophila_simulans using blast_databases/dia_(diaphanous)/Drosophila_simulans_combined\n",
      "Running BLASTp: Drosophila_ananassae vs Drosophila_mauritiana using blast_databases/dia_(diaphanous)/Drosophila_mauritiana_combined\n",
      "Results for Drosophila_ananassae vs all saved to: cross_species_blast_results/dia_(diaphanous)/Drosophila_ananassae_vs_all.csv\n",
      "Running BLASTp: Drosophila_erecta vs Drosophila_melanogaster using blast_databases/dia_(diaphanous)/Drosophila_melanogaster_combined\n"
     ]
    },
    {
     "name": "stderr",
     "output_type": "stream",
     "text": [
      "/var/folders/mj/yrtz1pp53zs_hqrl2_mcw9m80000gn/T/ipykernel_11450/4042733987.py:94: FutureWarning: The behavior of DataFrame concatenation with empty or all-NA entries is deprecated. In a future version, this will no longer exclude empty or all-NA columns when determining the result dtypes. To retain the old behavior, exclude the relevant entries before the concat operation.\n",
      "  query_results_df = pd.concat([query_results_df, result_df], ignore_index=True)\n"
     ]
    },
    {
     "name": "stdout",
     "output_type": "stream",
     "text": [
      "Running BLASTp: Drosophila_erecta vs Drosophila_teissieri using blast_databases/dia_(diaphanous)/Drosophila_teissieri_combined\n",
      "Running BLASTp: Drosophila_erecta vs Drosophila_yakuba using blast_databases/dia_(diaphanous)/Drosophila_yakuba_combined\n",
      "Running BLASTp: Drosophila_erecta vs Drosophila_ananassae using blast_databases/dia_(diaphanous)/Drosophila_ananassae_combined\n",
      "Running BLASTp: Drosophila_erecta vs Drosophila_simulans using blast_databases/dia_(diaphanous)/Drosophila_simulans_combined\n",
      "Running BLASTp: Drosophila_erecta vs Drosophila_mauritiana using blast_databases/dia_(diaphanous)/Drosophila_mauritiana_combined\n",
      "Results for Drosophila_erecta vs all saved to: cross_species_blast_results/dia_(diaphanous)/Drosophila_erecta_vs_all.csv\n",
      "Running BLASTp: Drosophila_simulans vs Drosophila_melanogaster using blast_databases/dia_(diaphanous)/Drosophila_melanogaster_combined\n"
     ]
    },
    {
     "name": "stderr",
     "output_type": "stream",
     "text": [
      "/var/folders/mj/yrtz1pp53zs_hqrl2_mcw9m80000gn/T/ipykernel_11450/4042733987.py:94: FutureWarning: The behavior of DataFrame concatenation with empty or all-NA entries is deprecated. In a future version, this will no longer exclude empty or all-NA columns when determining the result dtypes. To retain the old behavior, exclude the relevant entries before the concat operation.\n",
      "  query_results_df = pd.concat([query_results_df, result_df], ignore_index=True)\n"
     ]
    },
    {
     "name": "stdout",
     "output_type": "stream",
     "text": [
      "Running BLASTp: Drosophila_simulans vs Drosophila_teissieri using blast_databases/dia_(diaphanous)/Drosophila_teissieri_combined\n",
      "Running BLASTp: Drosophila_simulans vs Drosophila_yakuba using blast_databases/dia_(diaphanous)/Drosophila_yakuba_combined\n",
      "Running BLASTp: Drosophila_simulans vs Drosophila_ananassae using blast_databases/dia_(diaphanous)/Drosophila_ananassae_combined\n",
      "Running BLASTp: Drosophila_simulans vs Drosophila_erecta using blast_databases/dia_(diaphanous)/Drosophila_erecta_combined\n",
      "Running BLASTp: Drosophila_simulans vs Drosophila_mauritiana using blast_databases/dia_(diaphanous)/Drosophila_mauritiana_combined\n",
      "Results for Drosophila_simulans vs all saved to: cross_species_blast_results/dia_(diaphanous)/Drosophila_simulans_vs_all.csv\n",
      "Running BLASTp: Drosophila_mauritiana vs Drosophila_melanogaster using blast_databases/dia_(diaphanous)/Drosophila_melanogaster_combined\n"
     ]
    },
    {
     "name": "stderr",
     "output_type": "stream",
     "text": [
      "/var/folders/mj/yrtz1pp53zs_hqrl2_mcw9m80000gn/T/ipykernel_11450/4042733987.py:94: FutureWarning: The behavior of DataFrame concatenation with empty or all-NA entries is deprecated. In a future version, this will no longer exclude empty or all-NA columns when determining the result dtypes. To retain the old behavior, exclude the relevant entries before the concat operation.\n",
      "  query_results_df = pd.concat([query_results_df, result_df], ignore_index=True)\n"
     ]
    },
    {
     "name": "stdout",
     "output_type": "stream",
     "text": [
      "Running BLASTp: Drosophila_mauritiana vs Drosophila_teissieri using blast_databases/dia_(diaphanous)/Drosophila_teissieri_combined\n",
      "Running BLASTp: Drosophila_mauritiana vs Drosophila_yakuba using blast_databases/dia_(diaphanous)/Drosophila_yakuba_combined\n",
      "Running BLASTp: Drosophila_mauritiana vs Drosophila_ananassae using blast_databases/dia_(diaphanous)/Drosophila_ananassae_combined\n",
      "Running BLASTp: Drosophila_mauritiana vs Drosophila_erecta using blast_databases/dia_(diaphanous)/Drosophila_erecta_combined\n",
      "Running BLASTp: Drosophila_mauritiana vs Drosophila_simulans using blast_databases/dia_(diaphanous)/Drosophila_simulans_combined\n",
      "Results for Drosophila_mauritiana vs all saved to: cross_species_blast_results/dia_(diaphanous)/Drosophila_mauritiana_vs_all.csv\n",
      "Processing gene: Rh5_(Rhodopsin_5)\n",
      "Running BLASTp: Drosophila_melanogaster vs Drosophila_teissieri using blast_databases/Rh5_(Rhodopsin_5)/Drosophila_teissieri_combined\n"
     ]
    },
    {
     "name": "stderr",
     "output_type": "stream",
     "text": [
      "/var/folders/mj/yrtz1pp53zs_hqrl2_mcw9m80000gn/T/ipykernel_11450/4042733987.py:94: FutureWarning: The behavior of DataFrame concatenation with empty or all-NA entries is deprecated. In a future version, this will no longer exclude empty or all-NA columns when determining the result dtypes. To retain the old behavior, exclude the relevant entries before the concat operation.\n",
      "  query_results_df = pd.concat([query_results_df, result_df], ignore_index=True)\n"
     ]
    },
    {
     "name": "stdout",
     "output_type": "stream",
     "text": [
      "Running BLASTp: Drosophila_melanogaster vs Drosophila_yakuba using blast_databases/Rh5_(Rhodopsin_5)/Drosophila_yakuba_combined\n",
      "Running BLASTp: Drosophila_melanogaster vs Drosophila_ananassae using blast_databases/Rh5_(Rhodopsin_5)/Drosophila_ananassae_combined\n",
      "Running BLASTp: Drosophila_melanogaster vs Drosophila_erecta using blast_databases/Rh5_(Rhodopsin_5)/Drosophila_erecta_combined\n",
      "Running BLASTp: Drosophila_melanogaster vs Drosophila_simulans using blast_databases/Rh5_(Rhodopsin_5)/Drosophila_simulans_combined\n",
      "Running BLASTp: Drosophila_melanogaster vs Drosophila_mauritiana using blast_databases/Rh5_(Rhodopsin_5)/Drosophila_mauritiana_combined\n",
      "Results for Drosophila_melanogaster vs all saved to: cross_species_blast_results/Rh5_(Rhodopsin_5)/Drosophila_melanogaster_vs_all.csv\n",
      "Running BLASTp: Drosophila_teissieri vs Drosophila_melanogaster using blast_databases/Rh5_(Rhodopsin_5)/Drosophila_melanogaster_combined\n"
     ]
    },
    {
     "name": "stderr",
     "output_type": "stream",
     "text": [
      "/var/folders/mj/yrtz1pp53zs_hqrl2_mcw9m80000gn/T/ipykernel_11450/4042733987.py:94: FutureWarning: The behavior of DataFrame concatenation with empty or all-NA entries is deprecated. In a future version, this will no longer exclude empty or all-NA columns when determining the result dtypes. To retain the old behavior, exclude the relevant entries before the concat operation.\n",
      "  query_results_df = pd.concat([query_results_df, result_df], ignore_index=True)\n"
     ]
    },
    {
     "name": "stdout",
     "output_type": "stream",
     "text": [
      "Running BLASTp: Drosophila_teissieri vs Drosophila_yakuba using blast_databases/Rh5_(Rhodopsin_5)/Drosophila_yakuba_combined\n",
      "Running BLASTp: Drosophila_teissieri vs Drosophila_ananassae using blast_databases/Rh5_(Rhodopsin_5)/Drosophila_ananassae_combined\n",
      "Running BLASTp: Drosophila_teissieri vs Drosophila_erecta using blast_databases/Rh5_(Rhodopsin_5)/Drosophila_erecta_combined\n",
      "Running BLASTp: Drosophila_teissieri vs Drosophila_simulans using blast_databases/Rh5_(Rhodopsin_5)/Drosophila_simulans_combined\n",
      "Running BLASTp: Drosophila_teissieri vs Drosophila_mauritiana using blast_databases/Rh5_(Rhodopsin_5)/Drosophila_mauritiana_combined\n",
      "Results for Drosophila_teissieri vs all saved to: cross_species_blast_results/Rh5_(Rhodopsin_5)/Drosophila_teissieri_vs_all.csv\n",
      "Running BLASTp: Drosophila_yakuba vs Drosophila_melanogaster using blast_databases/Rh5_(Rhodopsin_5)/Drosophila_melanogaster_combined\n"
     ]
    },
    {
     "name": "stderr",
     "output_type": "stream",
     "text": [
      "/var/folders/mj/yrtz1pp53zs_hqrl2_mcw9m80000gn/T/ipykernel_11450/4042733987.py:94: FutureWarning: The behavior of DataFrame concatenation with empty or all-NA entries is deprecated. In a future version, this will no longer exclude empty or all-NA columns when determining the result dtypes. To retain the old behavior, exclude the relevant entries before the concat operation.\n",
      "  query_results_df = pd.concat([query_results_df, result_df], ignore_index=True)\n"
     ]
    },
    {
     "name": "stdout",
     "output_type": "stream",
     "text": [
      "Running BLASTp: Drosophila_yakuba vs Drosophila_teissieri using blast_databases/Rh5_(Rhodopsin_5)/Drosophila_teissieri_combined\n",
      "Running BLASTp: Drosophila_yakuba vs Drosophila_ananassae using blast_databases/Rh5_(Rhodopsin_5)/Drosophila_ananassae_combined\n",
      "Running BLASTp: Drosophila_yakuba vs Drosophila_erecta using blast_databases/Rh5_(Rhodopsin_5)/Drosophila_erecta_combined\n",
      "Running BLASTp: Drosophila_yakuba vs Drosophila_simulans using blast_databases/Rh5_(Rhodopsin_5)/Drosophila_simulans_combined\n",
      "Running BLASTp: Drosophila_yakuba vs Drosophila_mauritiana using blast_databases/Rh5_(Rhodopsin_5)/Drosophila_mauritiana_combined\n",
      "Results for Drosophila_yakuba vs all saved to: cross_species_blast_results/Rh5_(Rhodopsin_5)/Drosophila_yakuba_vs_all.csv\n",
      "Running BLASTp: Drosophila_ananassae vs Drosophila_melanogaster using blast_databases/Rh5_(Rhodopsin_5)/Drosophila_melanogaster_combined\n"
     ]
    },
    {
     "name": "stderr",
     "output_type": "stream",
     "text": [
      "/var/folders/mj/yrtz1pp53zs_hqrl2_mcw9m80000gn/T/ipykernel_11450/4042733987.py:94: FutureWarning: The behavior of DataFrame concatenation with empty or all-NA entries is deprecated. In a future version, this will no longer exclude empty or all-NA columns when determining the result dtypes. To retain the old behavior, exclude the relevant entries before the concat operation.\n",
      "  query_results_df = pd.concat([query_results_df, result_df], ignore_index=True)\n"
     ]
    },
    {
     "name": "stdout",
     "output_type": "stream",
     "text": [
      "Running BLASTp: Drosophila_ananassae vs Drosophila_teissieri using blast_databases/Rh5_(Rhodopsin_5)/Drosophila_teissieri_combined\n",
      "Running BLASTp: Drosophila_ananassae vs Drosophila_yakuba using blast_databases/Rh5_(Rhodopsin_5)/Drosophila_yakuba_combined\n",
      "Running BLASTp: Drosophila_ananassae vs Drosophila_erecta using blast_databases/Rh5_(Rhodopsin_5)/Drosophila_erecta_combined\n",
      "Running BLASTp: Drosophila_ananassae vs Drosophila_simulans using blast_databases/Rh5_(Rhodopsin_5)/Drosophila_simulans_combined\n",
      "Running BLASTp: Drosophila_ananassae vs Drosophila_mauritiana using blast_databases/Rh5_(Rhodopsin_5)/Drosophila_mauritiana_combined\n",
      "Results for Drosophila_ananassae vs all saved to: cross_species_blast_results/Rh5_(Rhodopsin_5)/Drosophila_ananassae_vs_all.csv\n",
      "Running BLASTp: Drosophila_erecta vs Drosophila_melanogaster using blast_databases/Rh5_(Rhodopsin_5)/Drosophila_melanogaster_combined\n"
     ]
    },
    {
     "name": "stderr",
     "output_type": "stream",
     "text": [
      "/var/folders/mj/yrtz1pp53zs_hqrl2_mcw9m80000gn/T/ipykernel_11450/4042733987.py:94: FutureWarning: The behavior of DataFrame concatenation with empty or all-NA entries is deprecated. In a future version, this will no longer exclude empty or all-NA columns when determining the result dtypes. To retain the old behavior, exclude the relevant entries before the concat operation.\n",
      "  query_results_df = pd.concat([query_results_df, result_df], ignore_index=True)\n"
     ]
    },
    {
     "name": "stdout",
     "output_type": "stream",
     "text": [
      "Running BLASTp: Drosophila_erecta vs Drosophila_teissieri using blast_databases/Rh5_(Rhodopsin_5)/Drosophila_teissieri_combined\n",
      "Running BLASTp: Drosophila_erecta vs Drosophila_yakuba using blast_databases/Rh5_(Rhodopsin_5)/Drosophila_yakuba_combined\n",
      "Running BLASTp: Drosophila_erecta vs Drosophila_ananassae using blast_databases/Rh5_(Rhodopsin_5)/Drosophila_ananassae_combined\n",
      "Running BLASTp: Drosophila_erecta vs Drosophila_simulans using blast_databases/Rh5_(Rhodopsin_5)/Drosophila_simulans_combined\n",
      "Running BLASTp: Drosophila_erecta vs Drosophila_mauritiana using blast_databases/Rh5_(Rhodopsin_5)/Drosophila_mauritiana_combined\n",
      "Results for Drosophila_erecta vs all saved to: cross_species_blast_results/Rh5_(Rhodopsin_5)/Drosophila_erecta_vs_all.csv\n",
      "Running BLASTp: Drosophila_simulans vs Drosophila_melanogaster using blast_databases/Rh5_(Rhodopsin_5)/Drosophila_melanogaster_combined\n"
     ]
    },
    {
     "name": "stderr",
     "output_type": "stream",
     "text": [
      "/var/folders/mj/yrtz1pp53zs_hqrl2_mcw9m80000gn/T/ipykernel_11450/4042733987.py:94: FutureWarning: The behavior of DataFrame concatenation with empty or all-NA entries is deprecated. In a future version, this will no longer exclude empty or all-NA columns when determining the result dtypes. To retain the old behavior, exclude the relevant entries before the concat operation.\n",
      "  query_results_df = pd.concat([query_results_df, result_df], ignore_index=True)\n"
     ]
    },
    {
     "name": "stdout",
     "output_type": "stream",
     "text": [
      "Running BLASTp: Drosophila_simulans vs Drosophila_teissieri using blast_databases/Rh5_(Rhodopsin_5)/Drosophila_teissieri_combined\n",
      "Running BLASTp: Drosophila_simulans vs Drosophila_yakuba using blast_databases/Rh5_(Rhodopsin_5)/Drosophila_yakuba_combined\n",
      "Running BLASTp: Drosophila_simulans vs Drosophila_ananassae using blast_databases/Rh5_(Rhodopsin_5)/Drosophila_ananassae_combined\n",
      "Running BLASTp: Drosophila_simulans vs Drosophila_erecta using blast_databases/Rh5_(Rhodopsin_5)/Drosophila_erecta_combined\n",
      "Running BLASTp: Drosophila_simulans vs Drosophila_mauritiana using blast_databases/Rh5_(Rhodopsin_5)/Drosophila_mauritiana_combined\n",
      "Results for Drosophila_simulans vs all saved to: cross_species_blast_results/Rh5_(Rhodopsin_5)/Drosophila_simulans_vs_all.csv\n",
      "Running BLASTp: Drosophila_mauritiana vs Drosophila_melanogaster using blast_databases/Rh5_(Rhodopsin_5)/Drosophila_melanogaster_combined\n"
     ]
    },
    {
     "name": "stderr",
     "output_type": "stream",
     "text": [
      "/var/folders/mj/yrtz1pp53zs_hqrl2_mcw9m80000gn/T/ipykernel_11450/4042733987.py:94: FutureWarning: The behavior of DataFrame concatenation with empty or all-NA entries is deprecated. In a future version, this will no longer exclude empty or all-NA columns when determining the result dtypes. To retain the old behavior, exclude the relevant entries before the concat operation.\n",
      "  query_results_df = pd.concat([query_results_df, result_df], ignore_index=True)\n"
     ]
    },
    {
     "name": "stdout",
     "output_type": "stream",
     "text": [
      "Running BLASTp: Drosophila_mauritiana vs Drosophila_teissieri using blast_databases/Rh5_(Rhodopsin_5)/Drosophila_teissieri_combined\n",
      "Running BLASTp: Drosophila_mauritiana vs Drosophila_yakuba using blast_databases/Rh5_(Rhodopsin_5)/Drosophila_yakuba_combined\n",
      "Running BLASTp: Drosophila_mauritiana vs Drosophila_ananassae using blast_databases/Rh5_(Rhodopsin_5)/Drosophila_ananassae_combined\n",
      "Running BLASTp: Drosophila_mauritiana vs Drosophila_erecta using blast_databases/Rh5_(Rhodopsin_5)/Drosophila_erecta_combined\n",
      "Running BLASTp: Drosophila_mauritiana vs Drosophila_simulans using blast_databases/Rh5_(Rhodopsin_5)/Drosophila_simulans_combined\n",
      "Results for Drosophila_mauritiana vs all saved to: cross_species_blast_results/Rh5_(Rhodopsin_5)/Drosophila_mauritiana_vs_all.csv\n",
      "Processing gene: nompC_(no_mechanoreceptor_potential_C)\n",
      "Running BLASTp: Drosophila_melanogaster vs Drosophila_teissieri using blast_databases/nompC_(no_mechanoreceptor_potential_C)/Drosophila_teissieri_combined\n"
     ]
    },
    {
     "name": "stderr",
     "output_type": "stream",
     "text": [
      "/var/folders/mj/yrtz1pp53zs_hqrl2_mcw9m80000gn/T/ipykernel_11450/4042733987.py:94: FutureWarning: The behavior of DataFrame concatenation with empty or all-NA entries is deprecated. In a future version, this will no longer exclude empty or all-NA columns when determining the result dtypes. To retain the old behavior, exclude the relevant entries before the concat operation.\n",
      "  query_results_df = pd.concat([query_results_df, result_df], ignore_index=True)\n"
     ]
    },
    {
     "name": "stdout",
     "output_type": "stream",
     "text": [
      "Running BLASTp: Drosophila_melanogaster vs Drosophila_yakuba using blast_databases/nompC_(no_mechanoreceptor_potential_C)/Drosophila_yakuba_combined\n",
      "Running BLASTp: Drosophila_melanogaster vs Drosophila_ananassae using blast_databases/nompC_(no_mechanoreceptor_potential_C)/Drosophila_ananassae_combined\n",
      "Running BLASTp: Drosophila_melanogaster vs Drosophila_erecta using blast_databases/nompC_(no_mechanoreceptor_potential_C)/Drosophila_erecta_combined\n",
      "Running BLASTp: Drosophila_melanogaster vs Drosophila_simulans using blast_databases/nompC_(no_mechanoreceptor_potential_C)/Drosophila_simulans_combined\n",
      "Running BLASTp: Drosophila_melanogaster vs Drosophila_mauritiana using blast_databases/nompC_(no_mechanoreceptor_potential_C)/Drosophila_mauritiana_combined\n",
      "Results for Drosophila_melanogaster vs all saved to: cross_species_blast_results/nompC_(no_mechanoreceptor_potential_C)/Drosophila_melanogaster_vs_all.csv\n",
      "Running BLASTp: Drosophila_teissieri vs Drosophila_melanogaster using blast_databases/nompC_(no_mechanoreceptor_potential_C)/Drosophila_melanogaster_combined\n"
     ]
    },
    {
     "name": "stderr",
     "output_type": "stream",
     "text": [
      "/var/folders/mj/yrtz1pp53zs_hqrl2_mcw9m80000gn/T/ipykernel_11450/4042733987.py:94: FutureWarning: The behavior of DataFrame concatenation with empty or all-NA entries is deprecated. In a future version, this will no longer exclude empty or all-NA columns when determining the result dtypes. To retain the old behavior, exclude the relevant entries before the concat operation.\n",
      "  query_results_df = pd.concat([query_results_df, result_df], ignore_index=True)\n"
     ]
    },
    {
     "name": "stdout",
     "output_type": "stream",
     "text": [
      "Running BLASTp: Drosophila_teissieri vs Drosophila_yakuba using blast_databases/nompC_(no_mechanoreceptor_potential_C)/Drosophila_yakuba_combined\n",
      "Running BLASTp: Drosophila_teissieri vs Drosophila_ananassae using blast_databases/nompC_(no_mechanoreceptor_potential_C)/Drosophila_ananassae_combined\n",
      "Running BLASTp: Drosophila_teissieri vs Drosophila_erecta using blast_databases/nompC_(no_mechanoreceptor_potential_C)/Drosophila_erecta_combined\n",
      "Running BLASTp: Drosophila_teissieri vs Drosophila_simulans using blast_databases/nompC_(no_mechanoreceptor_potential_C)/Drosophila_simulans_combined\n",
      "Running BLASTp: Drosophila_teissieri vs Drosophila_mauritiana using blast_databases/nompC_(no_mechanoreceptor_potential_C)/Drosophila_mauritiana_combined\n",
      "Results for Drosophila_teissieri vs all saved to: cross_species_blast_results/nompC_(no_mechanoreceptor_potential_C)/Drosophila_teissieri_vs_all.csv\n",
      "Running BLASTp: Drosophila_yakuba vs Drosophila_melanogaster using blast_databases/nompC_(no_mechanoreceptor_potential_C)/Drosophila_melanogaster_combined\n"
     ]
    },
    {
     "name": "stderr",
     "output_type": "stream",
     "text": [
      "/var/folders/mj/yrtz1pp53zs_hqrl2_mcw9m80000gn/T/ipykernel_11450/4042733987.py:94: FutureWarning: The behavior of DataFrame concatenation with empty or all-NA entries is deprecated. In a future version, this will no longer exclude empty or all-NA columns when determining the result dtypes. To retain the old behavior, exclude the relevant entries before the concat operation.\n",
      "  query_results_df = pd.concat([query_results_df, result_df], ignore_index=True)\n"
     ]
    },
    {
     "name": "stdout",
     "output_type": "stream",
     "text": [
      "Running BLASTp: Drosophila_yakuba vs Drosophila_teissieri using blast_databases/nompC_(no_mechanoreceptor_potential_C)/Drosophila_teissieri_combined\n",
      "Running BLASTp: Drosophila_yakuba vs Drosophila_ananassae using blast_databases/nompC_(no_mechanoreceptor_potential_C)/Drosophila_ananassae_combined\n",
      "Running BLASTp: Drosophila_yakuba vs Drosophila_erecta using blast_databases/nompC_(no_mechanoreceptor_potential_C)/Drosophila_erecta_combined\n",
      "Running BLASTp: Drosophila_yakuba vs Drosophila_simulans using blast_databases/nompC_(no_mechanoreceptor_potential_C)/Drosophila_simulans_combined\n",
      "Running BLASTp: Drosophila_yakuba vs Drosophila_mauritiana using blast_databases/nompC_(no_mechanoreceptor_potential_C)/Drosophila_mauritiana_combined\n",
      "Results for Drosophila_yakuba vs all saved to: cross_species_blast_results/nompC_(no_mechanoreceptor_potential_C)/Drosophila_yakuba_vs_all.csv\n",
      "Running BLASTp: Drosophila_ananassae vs Drosophila_melanogaster using blast_databases/nompC_(no_mechanoreceptor_potential_C)/Drosophila_melanogaster_combined\n"
     ]
    },
    {
     "name": "stderr",
     "output_type": "stream",
     "text": [
      "/var/folders/mj/yrtz1pp53zs_hqrl2_mcw9m80000gn/T/ipykernel_11450/4042733987.py:94: FutureWarning: The behavior of DataFrame concatenation with empty or all-NA entries is deprecated. In a future version, this will no longer exclude empty or all-NA columns when determining the result dtypes. To retain the old behavior, exclude the relevant entries before the concat operation.\n",
      "  query_results_df = pd.concat([query_results_df, result_df], ignore_index=True)\n"
     ]
    },
    {
     "name": "stdout",
     "output_type": "stream",
     "text": [
      "Running BLASTp: Drosophila_ananassae vs Drosophila_teissieri using blast_databases/nompC_(no_mechanoreceptor_potential_C)/Drosophila_teissieri_combined\n",
      "Running BLASTp: Drosophila_ananassae vs Drosophila_yakuba using blast_databases/nompC_(no_mechanoreceptor_potential_C)/Drosophila_yakuba_combined\n",
      "Running BLASTp: Drosophila_ananassae vs Drosophila_erecta using blast_databases/nompC_(no_mechanoreceptor_potential_C)/Drosophila_erecta_combined\n",
      "Running BLASTp: Drosophila_ananassae vs Drosophila_simulans using blast_databases/nompC_(no_mechanoreceptor_potential_C)/Drosophila_simulans_combined\n",
      "Running BLASTp: Drosophila_ananassae vs Drosophila_mauritiana using blast_databases/nompC_(no_mechanoreceptor_potential_C)/Drosophila_mauritiana_combined\n",
      "Results for Drosophila_ananassae vs all saved to: cross_species_blast_results/nompC_(no_mechanoreceptor_potential_C)/Drosophila_ananassae_vs_all.csv\n",
      "Running BLASTp: Drosophila_erecta vs Drosophila_melanogaster using blast_databases/nompC_(no_mechanoreceptor_potential_C)/Drosophila_melanogaster_combined\n"
     ]
    },
    {
     "name": "stderr",
     "output_type": "stream",
     "text": [
      "/var/folders/mj/yrtz1pp53zs_hqrl2_mcw9m80000gn/T/ipykernel_11450/4042733987.py:94: FutureWarning: The behavior of DataFrame concatenation with empty or all-NA entries is deprecated. In a future version, this will no longer exclude empty or all-NA columns when determining the result dtypes. To retain the old behavior, exclude the relevant entries before the concat operation.\n",
      "  query_results_df = pd.concat([query_results_df, result_df], ignore_index=True)\n"
     ]
    },
    {
     "name": "stdout",
     "output_type": "stream",
     "text": [
      "Running BLASTp: Drosophila_erecta vs Drosophila_teissieri using blast_databases/nompC_(no_mechanoreceptor_potential_C)/Drosophila_teissieri_combined\n",
      "Running BLASTp: Drosophila_erecta vs Drosophila_yakuba using blast_databases/nompC_(no_mechanoreceptor_potential_C)/Drosophila_yakuba_combined\n",
      "Running BLASTp: Drosophila_erecta vs Drosophila_ananassae using blast_databases/nompC_(no_mechanoreceptor_potential_C)/Drosophila_ananassae_combined\n",
      "Running BLASTp: Drosophila_erecta vs Drosophila_simulans using blast_databases/nompC_(no_mechanoreceptor_potential_C)/Drosophila_simulans_combined\n",
      "Running BLASTp: Drosophila_erecta vs Drosophila_mauritiana using blast_databases/nompC_(no_mechanoreceptor_potential_C)/Drosophila_mauritiana_combined\n",
      "Results for Drosophila_erecta vs all saved to: cross_species_blast_results/nompC_(no_mechanoreceptor_potential_C)/Drosophila_erecta_vs_all.csv\n",
      "Running BLASTp: Drosophila_simulans vs Drosophila_melanogaster using blast_databases/nompC_(no_mechanoreceptor_potential_C)/Drosophila_melanogaster_combined\n",
      "Running BLASTp: Drosophila_simulans vs Drosophila_teissieri using blast_databases/nompC_(no_mechanoreceptor_potential_C)/Drosophila_teissieri_combined\n"
     ]
    },
    {
     "name": "stderr",
     "output_type": "stream",
     "text": [
      "/var/folders/mj/yrtz1pp53zs_hqrl2_mcw9m80000gn/T/ipykernel_11450/4042733987.py:94: FutureWarning: The behavior of DataFrame concatenation with empty or all-NA entries is deprecated. In a future version, this will no longer exclude empty or all-NA columns when determining the result dtypes. To retain the old behavior, exclude the relevant entries before the concat operation.\n",
      "  query_results_df = pd.concat([query_results_df, result_df], ignore_index=True)\n"
     ]
    },
    {
     "name": "stdout",
     "output_type": "stream",
     "text": [
      "Running BLASTp: Drosophila_simulans vs Drosophila_yakuba using blast_databases/nompC_(no_mechanoreceptor_potential_C)/Drosophila_yakuba_combined\n",
      "Running BLASTp: Drosophila_simulans vs Drosophila_ananassae using blast_databases/nompC_(no_mechanoreceptor_potential_C)/Drosophila_ananassae_combined\n",
      "Running BLASTp: Drosophila_simulans vs Drosophila_erecta using blast_databases/nompC_(no_mechanoreceptor_potential_C)/Drosophila_erecta_combined\n",
      "Running BLASTp: Drosophila_simulans vs Drosophila_mauritiana using blast_databases/nompC_(no_mechanoreceptor_potential_C)/Drosophila_mauritiana_combined\n",
      "Results for Drosophila_simulans vs all saved to: cross_species_blast_results/nompC_(no_mechanoreceptor_potential_C)/Drosophila_simulans_vs_all.csv\n",
      "Running BLASTp: Drosophila_mauritiana vs Drosophila_melanogaster using blast_databases/nompC_(no_mechanoreceptor_potential_C)/Drosophila_melanogaster_combined\n",
      "Running BLASTp: Drosophila_mauritiana vs Drosophila_teissieri using blast_databases/nompC_(no_mechanoreceptor_potential_C)/Drosophila_teissieri_combined\n"
     ]
    },
    {
     "name": "stderr",
     "output_type": "stream",
     "text": [
      "/var/folders/mj/yrtz1pp53zs_hqrl2_mcw9m80000gn/T/ipykernel_11450/4042733987.py:94: FutureWarning: The behavior of DataFrame concatenation with empty or all-NA entries is deprecated. In a future version, this will no longer exclude empty or all-NA columns when determining the result dtypes. To retain the old behavior, exclude the relevant entries before the concat operation.\n",
      "  query_results_df = pd.concat([query_results_df, result_df], ignore_index=True)\n"
     ]
    },
    {
     "name": "stdout",
     "output_type": "stream",
     "text": [
      "Running BLASTp: Drosophila_mauritiana vs Drosophila_yakuba using blast_databases/nompC_(no_mechanoreceptor_potential_C)/Drosophila_yakuba_combined\n",
      "Running BLASTp: Drosophila_mauritiana vs Drosophila_ananassae using blast_databases/nompC_(no_mechanoreceptor_potential_C)/Drosophila_ananassae_combined\n",
      "Running BLASTp: Drosophila_mauritiana vs Drosophila_erecta using blast_databases/nompC_(no_mechanoreceptor_potential_C)/Drosophila_erecta_combined\n",
      "Running BLASTp: Drosophila_mauritiana vs Drosophila_simulans using blast_databases/nompC_(no_mechanoreceptor_potential_C)/Drosophila_simulans_combined\n",
      "Results for Drosophila_mauritiana vs all saved to: cross_species_blast_results/nompC_(no_mechanoreceptor_potential_C)/Drosophila_mauritiana_vs_all.csv\n",
      "Processing gene: Tmhs_(Tetraspan_membrane_protein_in_hair_cell_stereocilia)\n",
      "Running BLASTp: Drosophila_melanogaster vs Drosophila_teissieri using blast_databases/Tmhs_(Tetraspan_membrane_protein_in_hair_cell_stereocilia)/Drosophila_teissieri_combined\n",
      "Running BLASTp: Drosophila_melanogaster vs Drosophila_yakuba using blast_databases/Tmhs_(Tetraspan_membrane_protein_in_hair_cell_stereocilia)/Drosophila_yakuba_combined\n",
      "Running BLASTp: Drosophila_melanogaster vs Drosophila_ananassae using blast_databases/Tmhs_(Tetraspan_membrane_protein_in_hair_cell_stereocilia)/Drosophila_ananassae_combined\n"
     ]
    },
    {
     "name": "stderr",
     "output_type": "stream",
     "text": [
      "/var/folders/mj/yrtz1pp53zs_hqrl2_mcw9m80000gn/T/ipykernel_11450/4042733987.py:94: FutureWarning: The behavior of DataFrame concatenation with empty or all-NA entries is deprecated. In a future version, this will no longer exclude empty or all-NA columns when determining the result dtypes. To retain the old behavior, exclude the relevant entries before the concat operation.\n",
      "  query_results_df = pd.concat([query_results_df, result_df], ignore_index=True)\n"
     ]
    },
    {
     "name": "stdout",
     "output_type": "stream",
     "text": [
      "Running BLASTp: Drosophila_melanogaster vs Drosophila_erecta using blast_databases/Tmhs_(Tetraspan_membrane_protein_in_hair_cell_stereocilia)/Drosophila_erecta_combined\n",
      "Running BLASTp: Drosophila_melanogaster vs Drosophila_simulans using blast_databases/Tmhs_(Tetraspan_membrane_protein_in_hair_cell_stereocilia)/Drosophila_simulans_combined\n",
      "Running BLASTp: Drosophila_melanogaster vs Drosophila_mauritiana using blast_databases/Tmhs_(Tetraspan_membrane_protein_in_hair_cell_stereocilia)/Drosophila_mauritiana_combined\n",
      "Results for Drosophila_melanogaster vs all saved to: cross_species_blast_results/Tmhs_(Tetraspan_membrane_protein_in_hair_cell_stereocilia)/Drosophila_melanogaster_vs_all.csv\n",
      "Running BLASTp: Drosophila_teissieri vs Drosophila_melanogaster using blast_databases/Tmhs_(Tetraspan_membrane_protein_in_hair_cell_stereocilia)/Drosophila_melanogaster_combined\n",
      "Running BLASTp: Drosophila_teissieri vs Drosophila_yakuba using blast_databases/Tmhs_(Tetraspan_membrane_protein_in_hair_cell_stereocilia)/Drosophila_yakuba_combined\n",
      "Running BLASTp: Drosophila_teissieri vs Drosophila_ananassae using blast_databases/Tmhs_(Tetraspan_membrane_protein_in_hair_cell_stereocilia)/Drosophila_ananassae_combined\n"
     ]
    },
    {
     "name": "stderr",
     "output_type": "stream",
     "text": [
      "/var/folders/mj/yrtz1pp53zs_hqrl2_mcw9m80000gn/T/ipykernel_11450/4042733987.py:94: FutureWarning: The behavior of DataFrame concatenation with empty or all-NA entries is deprecated. In a future version, this will no longer exclude empty or all-NA columns when determining the result dtypes. To retain the old behavior, exclude the relevant entries before the concat operation.\n",
      "  query_results_df = pd.concat([query_results_df, result_df], ignore_index=True)\n"
     ]
    },
    {
     "name": "stdout",
     "output_type": "stream",
     "text": [
      "Running BLASTp: Drosophila_teissieri vs Drosophila_erecta using blast_databases/Tmhs_(Tetraspan_membrane_protein_in_hair_cell_stereocilia)/Drosophila_erecta_combined\n",
      "Running BLASTp: Drosophila_teissieri vs Drosophila_simulans using blast_databases/Tmhs_(Tetraspan_membrane_protein_in_hair_cell_stereocilia)/Drosophila_simulans_combined\n",
      "Running BLASTp: Drosophila_teissieri vs Drosophila_mauritiana using blast_databases/Tmhs_(Tetraspan_membrane_protein_in_hair_cell_stereocilia)/Drosophila_mauritiana_combined\n",
      "Results for Drosophila_teissieri vs all saved to: cross_species_blast_results/Tmhs_(Tetraspan_membrane_protein_in_hair_cell_stereocilia)/Drosophila_teissieri_vs_all.csv\n",
      "Running BLASTp: Drosophila_yakuba vs Drosophila_melanogaster using blast_databases/Tmhs_(Tetraspan_membrane_protein_in_hair_cell_stereocilia)/Drosophila_melanogaster_combined\n",
      "Running BLASTp: Drosophila_yakuba vs Drosophila_teissieri using blast_databases/Tmhs_(Tetraspan_membrane_protein_in_hair_cell_stereocilia)/Drosophila_teissieri_combined\n",
      "Running BLASTp: Drosophila_yakuba vs Drosophila_ananassae using blast_databases/Tmhs_(Tetraspan_membrane_protein_in_hair_cell_stereocilia)/Drosophila_ananassae_combined\n"
     ]
    },
    {
     "name": "stderr",
     "output_type": "stream",
     "text": [
      "/var/folders/mj/yrtz1pp53zs_hqrl2_mcw9m80000gn/T/ipykernel_11450/4042733987.py:94: FutureWarning: The behavior of DataFrame concatenation with empty or all-NA entries is deprecated. In a future version, this will no longer exclude empty or all-NA columns when determining the result dtypes. To retain the old behavior, exclude the relevant entries before the concat operation.\n",
      "  query_results_df = pd.concat([query_results_df, result_df], ignore_index=True)\n"
     ]
    },
    {
     "name": "stdout",
     "output_type": "stream",
     "text": [
      "Running BLASTp: Drosophila_yakuba vs Drosophila_erecta using blast_databases/Tmhs_(Tetraspan_membrane_protein_in_hair_cell_stereocilia)/Drosophila_erecta_combined\n",
      "Running BLASTp: Drosophila_yakuba vs Drosophila_simulans using blast_databases/Tmhs_(Tetraspan_membrane_protein_in_hair_cell_stereocilia)/Drosophila_simulans_combined\n",
      "Running BLASTp: Drosophila_yakuba vs Drosophila_mauritiana using blast_databases/Tmhs_(Tetraspan_membrane_protein_in_hair_cell_stereocilia)/Drosophila_mauritiana_combined\n",
      "Results for Drosophila_yakuba vs all saved to: cross_species_blast_results/Tmhs_(Tetraspan_membrane_protein_in_hair_cell_stereocilia)/Drosophila_yakuba_vs_all.csv\n",
      "Running BLASTp: Drosophila_ananassae vs Drosophila_melanogaster using blast_databases/Tmhs_(Tetraspan_membrane_protein_in_hair_cell_stereocilia)/Drosophila_melanogaster_combined\n",
      "Running BLASTp: Drosophila_ananassae vs Drosophila_teissieri using blast_databases/Tmhs_(Tetraspan_membrane_protein_in_hair_cell_stereocilia)/Drosophila_teissieri_combined\n",
      "Running BLASTp: Drosophila_ananassae vs Drosophila_yakuba using blast_databases/Tmhs_(Tetraspan_membrane_protein_in_hair_cell_stereocilia)/Drosophila_yakuba_combined\n"
     ]
    },
    {
     "name": "stderr",
     "output_type": "stream",
     "text": [
      "/var/folders/mj/yrtz1pp53zs_hqrl2_mcw9m80000gn/T/ipykernel_11450/4042733987.py:94: FutureWarning: The behavior of DataFrame concatenation with empty or all-NA entries is deprecated. In a future version, this will no longer exclude empty or all-NA columns when determining the result dtypes. To retain the old behavior, exclude the relevant entries before the concat operation.\n",
      "  query_results_df = pd.concat([query_results_df, result_df], ignore_index=True)\n"
     ]
    },
    {
     "name": "stdout",
     "output_type": "stream",
     "text": [
      "Running BLASTp: Drosophila_ananassae vs Drosophila_erecta using blast_databases/Tmhs_(Tetraspan_membrane_protein_in_hair_cell_stereocilia)/Drosophila_erecta_combined\n",
      "Running BLASTp: Drosophila_ananassae vs Drosophila_simulans using blast_databases/Tmhs_(Tetraspan_membrane_protein_in_hair_cell_stereocilia)/Drosophila_simulans_combined\n",
      "Running BLASTp: Drosophila_ananassae vs Drosophila_mauritiana using blast_databases/Tmhs_(Tetraspan_membrane_protein_in_hair_cell_stereocilia)/Drosophila_mauritiana_combined\n",
      "Results for Drosophila_ananassae vs all saved to: cross_species_blast_results/Tmhs_(Tetraspan_membrane_protein_in_hair_cell_stereocilia)/Drosophila_ananassae_vs_all.csv\n",
      "Running BLASTp: Drosophila_erecta vs Drosophila_melanogaster using blast_databases/Tmhs_(Tetraspan_membrane_protein_in_hair_cell_stereocilia)/Drosophila_melanogaster_combined\n",
      "Running BLASTp: Drosophila_erecta vs Drosophila_teissieri using blast_databases/Tmhs_(Tetraspan_membrane_protein_in_hair_cell_stereocilia)/Drosophila_teissieri_combined\n",
      "Running BLASTp: Drosophila_erecta vs Drosophila_yakuba using blast_databases/Tmhs_(Tetraspan_membrane_protein_in_hair_cell_stereocilia)/Drosophila_yakuba_combined\n"
     ]
    },
    {
     "name": "stderr",
     "output_type": "stream",
     "text": [
      "/var/folders/mj/yrtz1pp53zs_hqrl2_mcw9m80000gn/T/ipykernel_11450/4042733987.py:94: FutureWarning: The behavior of DataFrame concatenation with empty or all-NA entries is deprecated. In a future version, this will no longer exclude empty or all-NA columns when determining the result dtypes. To retain the old behavior, exclude the relevant entries before the concat operation.\n",
      "  query_results_df = pd.concat([query_results_df, result_df], ignore_index=True)\n"
     ]
    },
    {
     "name": "stdout",
     "output_type": "stream",
     "text": [
      "Running BLASTp: Drosophila_erecta vs Drosophila_ananassae using blast_databases/Tmhs_(Tetraspan_membrane_protein_in_hair_cell_stereocilia)/Drosophila_ananassae_combined\n",
      "Running BLASTp: Drosophila_erecta vs Drosophila_simulans using blast_databases/Tmhs_(Tetraspan_membrane_protein_in_hair_cell_stereocilia)/Drosophila_simulans_combined\n",
      "Running BLASTp: Drosophila_erecta vs Drosophila_mauritiana using blast_databases/Tmhs_(Tetraspan_membrane_protein_in_hair_cell_stereocilia)/Drosophila_mauritiana_combined\n",
      "Results for Drosophila_erecta vs all saved to: cross_species_blast_results/Tmhs_(Tetraspan_membrane_protein_in_hair_cell_stereocilia)/Drosophila_erecta_vs_all.csv\n",
      "Running BLASTp: Drosophila_simulans vs Drosophila_melanogaster using blast_databases/Tmhs_(Tetraspan_membrane_protein_in_hair_cell_stereocilia)/Drosophila_melanogaster_combined\n",
      "Running BLASTp: Drosophila_simulans vs Drosophila_teissieri using blast_databases/Tmhs_(Tetraspan_membrane_protein_in_hair_cell_stereocilia)/Drosophila_teissieri_combined\n",
      "Running BLASTp: Drosophila_simulans vs Drosophila_yakuba using blast_databases/Tmhs_(Tetraspan_membrane_protein_in_hair_cell_stereocilia)/Drosophila_yakuba_combined\n"
     ]
    },
    {
     "name": "stderr",
     "output_type": "stream",
     "text": [
      "/var/folders/mj/yrtz1pp53zs_hqrl2_mcw9m80000gn/T/ipykernel_11450/4042733987.py:94: FutureWarning: The behavior of DataFrame concatenation with empty or all-NA entries is deprecated. In a future version, this will no longer exclude empty or all-NA columns when determining the result dtypes. To retain the old behavior, exclude the relevant entries before the concat operation.\n",
      "  query_results_df = pd.concat([query_results_df, result_df], ignore_index=True)\n"
     ]
    },
    {
     "name": "stdout",
     "output_type": "stream",
     "text": [
      "Running BLASTp: Drosophila_simulans vs Drosophila_ananassae using blast_databases/Tmhs_(Tetraspan_membrane_protein_in_hair_cell_stereocilia)/Drosophila_ananassae_combined\n",
      "Running BLASTp: Drosophila_simulans vs Drosophila_erecta using blast_databases/Tmhs_(Tetraspan_membrane_protein_in_hair_cell_stereocilia)/Drosophila_erecta_combined\n",
      "Running BLASTp: Drosophila_simulans vs Drosophila_mauritiana using blast_databases/Tmhs_(Tetraspan_membrane_protein_in_hair_cell_stereocilia)/Drosophila_mauritiana_combined\n",
      "Results for Drosophila_simulans vs all saved to: cross_species_blast_results/Tmhs_(Tetraspan_membrane_protein_in_hair_cell_stereocilia)/Drosophila_simulans_vs_all.csv\n",
      "Running BLASTp: Drosophila_mauritiana vs Drosophila_melanogaster using blast_databases/Tmhs_(Tetraspan_membrane_protein_in_hair_cell_stereocilia)/Drosophila_melanogaster_combined\n",
      "Running BLASTp: Drosophila_mauritiana vs Drosophila_teissieri using blast_databases/Tmhs_(Tetraspan_membrane_protein_in_hair_cell_stereocilia)/Drosophila_teissieri_combined\n",
      "Running BLASTp: Drosophila_mauritiana vs Drosophila_yakuba using blast_databases/Tmhs_(Tetraspan_membrane_protein_in_hair_cell_stereocilia)/Drosophila_yakuba_combined\n"
     ]
    },
    {
     "name": "stderr",
     "output_type": "stream",
     "text": [
      "/var/folders/mj/yrtz1pp53zs_hqrl2_mcw9m80000gn/T/ipykernel_11450/4042733987.py:94: FutureWarning: The behavior of DataFrame concatenation with empty or all-NA entries is deprecated. In a future version, this will no longer exclude empty or all-NA columns when determining the result dtypes. To retain the old behavior, exclude the relevant entries before the concat operation.\n",
      "  query_results_df = pd.concat([query_results_df, result_df], ignore_index=True)\n"
     ]
    },
    {
     "name": "stdout",
     "output_type": "stream",
     "text": [
      "Running BLASTp: Drosophila_mauritiana vs Drosophila_ananassae using blast_databases/Tmhs_(Tetraspan_membrane_protein_in_hair_cell_stereocilia)/Drosophila_ananassae_combined\n",
      "Running BLASTp: Drosophila_mauritiana vs Drosophila_erecta using blast_databases/Tmhs_(Tetraspan_membrane_protein_in_hair_cell_stereocilia)/Drosophila_erecta_combined\n",
      "Running BLASTp: Drosophila_mauritiana vs Drosophila_simulans using blast_databases/Tmhs_(Tetraspan_membrane_protein_in_hair_cell_stereocilia)/Drosophila_simulans_combined\n",
      "Results for Drosophila_mauritiana vs all saved to: cross_species_blast_results/Tmhs_(Tetraspan_membrane_protein_in_hair_cell_stereocilia)/Drosophila_mauritiana_vs_all.csv\n",
      "Processing gene: DCX-EMAP_(Doublecortin-domain-containing_echinoderm-microtubule-associated_protein)\n",
      "Running BLASTp: Drosophila_melanogaster vs Drosophila_teissieri using blast_databases/DCX-EMAP_(Doublecortin-domain-containing_echinoderm-microtubule-associated_protein)/Drosophila_teissieri_combined\n",
      "Running BLASTp: Drosophila_melanogaster vs Drosophila_yakuba using blast_databases/DCX-EMAP_(Doublecortin-domain-containing_echinoderm-microtubule-associated_protein)/Drosophila_yakuba_combined\n"
     ]
    },
    {
     "name": "stderr",
     "output_type": "stream",
     "text": [
      "/var/folders/mj/yrtz1pp53zs_hqrl2_mcw9m80000gn/T/ipykernel_11450/4042733987.py:94: FutureWarning: The behavior of DataFrame concatenation with empty or all-NA entries is deprecated. In a future version, this will no longer exclude empty or all-NA columns when determining the result dtypes. To retain the old behavior, exclude the relevant entries before the concat operation.\n",
      "  query_results_df = pd.concat([query_results_df, result_df], ignore_index=True)\n"
     ]
    },
    {
     "name": "stdout",
     "output_type": "stream",
     "text": [
      "Running BLASTp: Drosophila_melanogaster vs Drosophila_ananassae using blast_databases/DCX-EMAP_(Doublecortin-domain-containing_echinoderm-microtubule-associated_protein)/Drosophila_ananassae_combined\n",
      "Running BLASTp: Drosophila_melanogaster vs Drosophila_erecta using blast_databases/DCX-EMAP_(Doublecortin-domain-containing_echinoderm-microtubule-associated_protein)/Drosophila_erecta_combined\n",
      "Running BLASTp: Drosophila_melanogaster vs Drosophila_simulans using blast_databases/DCX-EMAP_(Doublecortin-domain-containing_echinoderm-microtubule-associated_protein)/Drosophila_simulans_combined\n",
      "Running BLASTp: Drosophila_melanogaster vs Drosophila_mauritiana using blast_databases/DCX-EMAP_(Doublecortin-domain-containing_echinoderm-microtubule-associated_protein)/Drosophila_mauritiana_combined\n",
      "Results for Drosophila_melanogaster vs all saved to: cross_species_blast_results/DCX-EMAP_(Doublecortin-domain-containing_echinoderm-microtubule-associated_protein)/Drosophila_melanogaster_vs_all.csv\n",
      "Running BLASTp: Drosophila_teissieri vs Drosophila_melanogaster using blast_databases/DCX-EMAP_(Doublecortin-domain-containing_echinoderm-microtubule-associated_protein)/Drosophila_melanogaster_combined\n",
      "Running BLASTp: Drosophila_teissieri vs Drosophila_yakuba using blast_databases/DCX-EMAP_(Doublecortin-domain-containing_echinoderm-microtubule-associated_protein)/Drosophila_yakuba_combined\n",
      "Running BLASTp: Drosophila_teissieri vs Drosophila_ananassae using blast_databases/DCX-EMAP_(Doublecortin-domain-containing_echinoderm-microtubule-associated_protein)/Drosophila_ananassae_combined\n"
     ]
    },
    {
     "name": "stderr",
     "output_type": "stream",
     "text": [
      "/var/folders/mj/yrtz1pp53zs_hqrl2_mcw9m80000gn/T/ipykernel_11450/4042733987.py:94: FutureWarning: The behavior of DataFrame concatenation with empty or all-NA entries is deprecated. In a future version, this will no longer exclude empty or all-NA columns when determining the result dtypes. To retain the old behavior, exclude the relevant entries before the concat operation.\n",
      "  query_results_df = pd.concat([query_results_df, result_df], ignore_index=True)\n"
     ]
    },
    {
     "name": "stdout",
     "output_type": "stream",
     "text": [
      "Running BLASTp: Drosophila_teissieri vs Drosophila_erecta using blast_databases/DCX-EMAP_(Doublecortin-domain-containing_echinoderm-microtubule-associated_protein)/Drosophila_erecta_combined\n",
      "Running BLASTp: Drosophila_teissieri vs Drosophila_simulans using blast_databases/DCX-EMAP_(Doublecortin-domain-containing_echinoderm-microtubule-associated_protein)/Drosophila_simulans_combined\n",
      "Running BLASTp: Drosophila_teissieri vs Drosophila_mauritiana using blast_databases/DCX-EMAP_(Doublecortin-domain-containing_echinoderm-microtubule-associated_protein)/Drosophila_mauritiana_combined\n",
      "Results for Drosophila_teissieri vs all saved to: cross_species_blast_results/DCX-EMAP_(Doublecortin-domain-containing_echinoderm-microtubule-associated_protein)/Drosophila_teissieri_vs_all.csv\n",
      "Running BLASTp: Drosophila_yakuba vs Drosophila_melanogaster using blast_databases/DCX-EMAP_(Doublecortin-domain-containing_echinoderm-microtubule-associated_protein)/Drosophila_melanogaster_combined\n",
      "Running BLASTp: Drosophila_yakuba vs Drosophila_teissieri using blast_databases/DCX-EMAP_(Doublecortin-domain-containing_echinoderm-microtubule-associated_protein)/Drosophila_teissieri_combined\n",
      "Running BLASTp: Drosophila_yakuba vs Drosophila_ananassae using blast_databases/DCX-EMAP_(Doublecortin-domain-containing_echinoderm-microtubule-associated_protein)/Drosophila_ananassae_combined\n"
     ]
    },
    {
     "name": "stderr",
     "output_type": "stream",
     "text": [
      "/var/folders/mj/yrtz1pp53zs_hqrl2_mcw9m80000gn/T/ipykernel_11450/4042733987.py:94: FutureWarning: The behavior of DataFrame concatenation with empty or all-NA entries is deprecated. In a future version, this will no longer exclude empty or all-NA columns when determining the result dtypes. To retain the old behavior, exclude the relevant entries before the concat operation.\n",
      "  query_results_df = pd.concat([query_results_df, result_df], ignore_index=True)\n"
     ]
    },
    {
     "name": "stdout",
     "output_type": "stream",
     "text": [
      "Running BLASTp: Drosophila_yakuba vs Drosophila_erecta using blast_databases/DCX-EMAP_(Doublecortin-domain-containing_echinoderm-microtubule-associated_protein)/Drosophila_erecta_combined\n",
      "Running BLASTp: Drosophila_yakuba vs Drosophila_simulans using blast_databases/DCX-EMAP_(Doublecortin-domain-containing_echinoderm-microtubule-associated_protein)/Drosophila_simulans_combined\n",
      "Running BLASTp: Drosophila_yakuba vs Drosophila_mauritiana using blast_databases/DCX-EMAP_(Doublecortin-domain-containing_echinoderm-microtubule-associated_protein)/Drosophila_mauritiana_combined\n",
      "Results for Drosophila_yakuba vs all saved to: cross_species_blast_results/DCX-EMAP_(Doublecortin-domain-containing_echinoderm-microtubule-associated_protein)/Drosophila_yakuba_vs_all.csv\n",
      "Running BLASTp: Drosophila_ananassae vs Drosophila_melanogaster using blast_databases/DCX-EMAP_(Doublecortin-domain-containing_echinoderm-microtubule-associated_protein)/Drosophila_melanogaster_combined\n",
      "Running BLASTp: Drosophila_ananassae vs Drosophila_teissieri using blast_databases/DCX-EMAP_(Doublecortin-domain-containing_echinoderm-microtubule-associated_protein)/Drosophila_teissieri_combined\n",
      "Running BLASTp: Drosophila_ananassae vs Drosophila_yakuba using blast_databases/DCX-EMAP_(Doublecortin-domain-containing_echinoderm-microtubule-associated_protein)/Drosophila_yakuba_combined\n"
     ]
    },
    {
     "name": "stderr",
     "output_type": "stream",
     "text": [
      "/var/folders/mj/yrtz1pp53zs_hqrl2_mcw9m80000gn/T/ipykernel_11450/4042733987.py:94: FutureWarning: The behavior of DataFrame concatenation with empty or all-NA entries is deprecated. In a future version, this will no longer exclude empty or all-NA columns when determining the result dtypes. To retain the old behavior, exclude the relevant entries before the concat operation.\n",
      "  query_results_df = pd.concat([query_results_df, result_df], ignore_index=True)\n"
     ]
    },
    {
     "name": "stdout",
     "output_type": "stream",
     "text": [
      "Running BLASTp: Drosophila_ananassae vs Drosophila_erecta using blast_databases/DCX-EMAP_(Doublecortin-domain-containing_echinoderm-microtubule-associated_protein)/Drosophila_erecta_combined\n",
      "Running BLASTp: Drosophila_ananassae vs Drosophila_simulans using blast_databases/DCX-EMAP_(Doublecortin-domain-containing_echinoderm-microtubule-associated_protein)/Drosophila_simulans_combined\n",
      "Running BLASTp: Drosophila_ananassae vs Drosophila_mauritiana using blast_databases/DCX-EMAP_(Doublecortin-domain-containing_echinoderm-microtubule-associated_protein)/Drosophila_mauritiana_combined\n",
      "Results for Drosophila_ananassae vs all saved to: cross_species_blast_results/DCX-EMAP_(Doublecortin-domain-containing_echinoderm-microtubule-associated_protein)/Drosophila_ananassae_vs_all.csv\n",
      "Running BLASTp: Drosophila_erecta vs Drosophila_melanogaster using blast_databases/DCX-EMAP_(Doublecortin-domain-containing_echinoderm-microtubule-associated_protein)/Drosophila_melanogaster_combined\n",
      "Running BLASTp: Drosophila_erecta vs Drosophila_teissieri using blast_databases/DCX-EMAP_(Doublecortin-domain-containing_echinoderm-microtubule-associated_protein)/Drosophila_teissieri_combined\n",
      "Running BLASTp: Drosophila_erecta vs Drosophila_yakuba using blast_databases/DCX-EMAP_(Doublecortin-domain-containing_echinoderm-microtubule-associated_protein)/Drosophila_yakuba_combined\n"
     ]
    },
    {
     "name": "stderr",
     "output_type": "stream",
     "text": [
      "/var/folders/mj/yrtz1pp53zs_hqrl2_mcw9m80000gn/T/ipykernel_11450/4042733987.py:94: FutureWarning: The behavior of DataFrame concatenation with empty or all-NA entries is deprecated. In a future version, this will no longer exclude empty or all-NA columns when determining the result dtypes. To retain the old behavior, exclude the relevant entries before the concat operation.\n",
      "  query_results_df = pd.concat([query_results_df, result_df], ignore_index=True)\n"
     ]
    },
    {
     "name": "stdout",
     "output_type": "stream",
     "text": [
      "Running BLASTp: Drosophila_erecta vs Drosophila_ananassae using blast_databases/DCX-EMAP_(Doublecortin-domain-containing_echinoderm-microtubule-associated_protein)/Drosophila_ananassae_combined\n",
      "Running BLASTp: Drosophila_erecta vs Drosophila_simulans using blast_databases/DCX-EMAP_(Doublecortin-domain-containing_echinoderm-microtubule-associated_protein)/Drosophila_simulans_combined\n",
      "Running BLASTp: Drosophila_erecta vs Drosophila_mauritiana using blast_databases/DCX-EMAP_(Doublecortin-domain-containing_echinoderm-microtubule-associated_protein)/Drosophila_mauritiana_combined\n",
      "Results for Drosophila_erecta vs all saved to: cross_species_blast_results/DCX-EMAP_(Doublecortin-domain-containing_echinoderm-microtubule-associated_protein)/Drosophila_erecta_vs_all.csv\n",
      "Running BLASTp: Drosophila_simulans vs Drosophila_melanogaster using blast_databases/DCX-EMAP_(Doublecortin-domain-containing_echinoderm-microtubule-associated_protein)/Drosophila_melanogaster_combined\n",
      "Running BLASTp: Drosophila_simulans vs Drosophila_teissieri using blast_databases/DCX-EMAP_(Doublecortin-domain-containing_echinoderm-microtubule-associated_protein)/Drosophila_teissieri_combined\n",
      "Running BLASTp: Drosophila_simulans vs Drosophila_yakuba using blast_databases/DCX-EMAP_(Doublecortin-domain-containing_echinoderm-microtubule-associated_protein)/Drosophila_yakuba_combined\n"
     ]
    },
    {
     "name": "stderr",
     "output_type": "stream",
     "text": [
      "/var/folders/mj/yrtz1pp53zs_hqrl2_mcw9m80000gn/T/ipykernel_11450/4042733987.py:94: FutureWarning: The behavior of DataFrame concatenation with empty or all-NA entries is deprecated. In a future version, this will no longer exclude empty or all-NA columns when determining the result dtypes. To retain the old behavior, exclude the relevant entries before the concat operation.\n",
      "  query_results_df = pd.concat([query_results_df, result_df], ignore_index=True)\n"
     ]
    },
    {
     "name": "stdout",
     "output_type": "stream",
     "text": [
      "Running BLASTp: Drosophila_simulans vs Drosophila_ananassae using blast_databases/DCX-EMAP_(Doublecortin-domain-containing_echinoderm-microtubule-associated_protein)/Drosophila_ananassae_combined\n",
      "Running BLASTp: Drosophila_simulans vs Drosophila_erecta using blast_databases/DCX-EMAP_(Doublecortin-domain-containing_echinoderm-microtubule-associated_protein)/Drosophila_erecta_combined\n",
      "Running BLASTp: Drosophila_simulans vs Drosophila_mauritiana using blast_databases/DCX-EMAP_(Doublecortin-domain-containing_echinoderm-microtubule-associated_protein)/Drosophila_mauritiana_combined\n",
      "Results for Drosophila_simulans vs all saved to: cross_species_blast_results/DCX-EMAP_(Doublecortin-domain-containing_echinoderm-microtubule-associated_protein)/Drosophila_simulans_vs_all.csv\n",
      "Running BLASTp: Drosophila_mauritiana vs Drosophila_melanogaster using blast_databases/DCX-EMAP_(Doublecortin-domain-containing_echinoderm-microtubule-associated_protein)/Drosophila_melanogaster_combined\n",
      "Running BLASTp: Drosophila_mauritiana vs Drosophila_teissieri using blast_databases/DCX-EMAP_(Doublecortin-domain-containing_echinoderm-microtubule-associated_protein)/Drosophila_teissieri_combined\n",
      "Running BLASTp: Drosophila_mauritiana vs Drosophila_yakuba using blast_databases/DCX-EMAP_(Doublecortin-domain-containing_echinoderm-microtubule-associated_protein)/Drosophila_yakuba_combined\n"
     ]
    },
    {
     "name": "stderr",
     "output_type": "stream",
     "text": [
      "/var/folders/mj/yrtz1pp53zs_hqrl2_mcw9m80000gn/T/ipykernel_11450/4042733987.py:94: FutureWarning: The behavior of DataFrame concatenation with empty or all-NA entries is deprecated. In a future version, this will no longer exclude empty or all-NA columns when determining the result dtypes. To retain the old behavior, exclude the relevant entries before the concat operation.\n",
      "  query_results_df = pd.concat([query_results_df, result_df], ignore_index=True)\n"
     ]
    },
    {
     "name": "stdout",
     "output_type": "stream",
     "text": [
      "Running BLASTp: Drosophila_mauritiana vs Drosophila_ananassae using blast_databases/DCX-EMAP_(Doublecortin-domain-containing_echinoderm-microtubule-associated_protein)/Drosophila_ananassae_combined\n",
      "Running BLASTp: Drosophila_mauritiana vs Drosophila_erecta using blast_databases/DCX-EMAP_(Doublecortin-domain-containing_echinoderm-microtubule-associated_protein)/Drosophila_erecta_combined\n",
      "Running BLASTp: Drosophila_mauritiana vs Drosophila_simulans using blast_databases/DCX-EMAP_(Doublecortin-domain-containing_echinoderm-microtubule-associated_protein)/Drosophila_simulans_combined\n",
      "Results for Drosophila_mauritiana vs all saved to: cross_species_blast_results/DCX-EMAP_(Doublecortin-domain-containing_echinoderm-microtubule-associated_protein)/Drosophila_mauritiana_vs_all.csv\n",
      "Processing gene: CG8086\n",
      "Running BLASTp: Drosophila_melanogaster vs Drosophila_yakuba using blast_databases/CG8086/Drosophila_yakuba_combined\n"
     ]
    },
    {
     "name": "stderr",
     "output_type": "stream",
     "text": [
      "/var/folders/mj/yrtz1pp53zs_hqrl2_mcw9m80000gn/T/ipykernel_11450/4042733987.py:94: FutureWarning: The behavior of DataFrame concatenation with empty or all-NA entries is deprecated. In a future version, this will no longer exclude empty or all-NA columns when determining the result dtypes. To retain the old behavior, exclude the relevant entries before the concat operation.\n",
      "  query_results_df = pd.concat([query_results_df, result_df], ignore_index=True)\n"
     ]
    },
    {
     "name": "stdout",
     "output_type": "stream",
     "text": [
      "Running BLASTp: Drosophila_melanogaster vs Drosophila_ananassae using blast_databases/CG8086/Drosophila_ananassae_combined\n",
      "Running BLASTp: Drosophila_melanogaster vs Drosophila_erecta using blast_databases/CG8086/Drosophila_erecta_combined\n",
      "Running BLASTp: Drosophila_melanogaster vs Drosophila_simulans using blast_databases/CG8086/Drosophila_simulans_combined\n",
      "Results for Drosophila_melanogaster vs all saved to: cross_species_blast_results/CG8086/Drosophila_melanogaster_vs_all.csv\n",
      "Running BLASTp: Drosophila_yakuba vs Drosophila_melanogaster using blast_databases/CG8086/Drosophila_melanogaster_combined\n"
     ]
    },
    {
     "name": "stderr",
     "output_type": "stream",
     "text": [
      "/var/folders/mj/yrtz1pp53zs_hqrl2_mcw9m80000gn/T/ipykernel_11450/4042733987.py:94: FutureWarning: The behavior of DataFrame concatenation with empty or all-NA entries is deprecated. In a future version, this will no longer exclude empty or all-NA columns when determining the result dtypes. To retain the old behavior, exclude the relevant entries before the concat operation.\n",
      "  query_results_df = pd.concat([query_results_df, result_df], ignore_index=True)\n"
     ]
    },
    {
     "name": "stdout",
     "output_type": "stream",
     "text": [
      "Running BLASTp: Drosophila_yakuba vs Drosophila_ananassae using blast_databases/CG8086/Drosophila_ananassae_combined\n",
      "Running BLASTp: Drosophila_yakuba vs Drosophila_erecta using blast_databases/CG8086/Drosophila_erecta_combined\n",
      "Running BLASTp: Drosophila_yakuba vs Drosophila_simulans using blast_databases/CG8086/Drosophila_simulans_combined\n",
      "Results for Drosophila_yakuba vs all saved to: cross_species_blast_results/CG8086/Drosophila_yakuba_vs_all.csv\n",
      "Running BLASTp: Drosophila_ananassae vs Drosophila_melanogaster using blast_databases/CG8086/Drosophila_melanogaster_combined\n"
     ]
    },
    {
     "name": "stderr",
     "output_type": "stream",
     "text": [
      "/var/folders/mj/yrtz1pp53zs_hqrl2_mcw9m80000gn/T/ipykernel_11450/4042733987.py:94: FutureWarning: The behavior of DataFrame concatenation with empty or all-NA entries is deprecated. In a future version, this will no longer exclude empty or all-NA columns when determining the result dtypes. To retain the old behavior, exclude the relevant entries before the concat operation.\n",
      "  query_results_df = pd.concat([query_results_df, result_df], ignore_index=True)\n"
     ]
    },
    {
     "name": "stdout",
     "output_type": "stream",
     "text": [
      "Running BLASTp: Drosophila_ananassae vs Drosophila_yakuba using blast_databases/CG8086/Drosophila_yakuba_combined\n",
      "Running BLASTp: Drosophila_ananassae vs Drosophila_erecta using blast_databases/CG8086/Drosophila_erecta_combined\n",
      "Running BLASTp: Drosophila_ananassae vs Drosophila_simulans using blast_databases/CG8086/Drosophila_simulans_combined\n",
      "Results for Drosophila_ananassae vs all saved to: cross_species_blast_results/CG8086/Drosophila_ananassae_vs_all.csv\n",
      "Running BLASTp: Drosophila_erecta vs Drosophila_melanogaster using blast_databases/CG8086/Drosophila_melanogaster_combined\n"
     ]
    },
    {
     "name": "stderr",
     "output_type": "stream",
     "text": [
      "/var/folders/mj/yrtz1pp53zs_hqrl2_mcw9m80000gn/T/ipykernel_11450/4042733987.py:94: FutureWarning: The behavior of DataFrame concatenation with empty or all-NA entries is deprecated. In a future version, this will no longer exclude empty or all-NA columns when determining the result dtypes. To retain the old behavior, exclude the relevant entries before the concat operation.\n",
      "  query_results_df = pd.concat([query_results_df, result_df], ignore_index=True)\n"
     ]
    },
    {
     "name": "stdout",
     "output_type": "stream",
     "text": [
      "Running BLASTp: Drosophila_erecta vs Drosophila_yakuba using blast_databases/CG8086/Drosophila_yakuba_combined\n",
      "Running BLASTp: Drosophila_erecta vs Drosophila_ananassae using blast_databases/CG8086/Drosophila_ananassae_combined\n",
      "Running BLASTp: Drosophila_erecta vs Drosophila_simulans using blast_databases/CG8086/Drosophila_simulans_combined\n",
      "Results for Drosophila_erecta vs all saved to: cross_species_blast_results/CG8086/Drosophila_erecta_vs_all.csv\n",
      "Running BLASTp: Drosophila_simulans vs Drosophila_melanogaster using blast_databases/CG8086/Drosophila_melanogaster_combined\n"
     ]
    },
    {
     "name": "stderr",
     "output_type": "stream",
     "text": [
      "/var/folders/mj/yrtz1pp53zs_hqrl2_mcw9m80000gn/T/ipykernel_11450/4042733987.py:94: FutureWarning: The behavior of DataFrame concatenation with empty or all-NA entries is deprecated. In a future version, this will no longer exclude empty or all-NA columns when determining the result dtypes. To retain the old behavior, exclude the relevant entries before the concat operation.\n",
      "  query_results_df = pd.concat([query_results_df, result_df], ignore_index=True)\n"
     ]
    },
    {
     "name": "stdout",
     "output_type": "stream",
     "text": [
      "Running BLASTp: Drosophila_simulans vs Drosophila_yakuba using blast_databases/CG8086/Drosophila_yakuba_combined\n",
      "Running BLASTp: Drosophila_simulans vs Drosophila_ananassae using blast_databases/CG8086/Drosophila_ananassae_combined\n",
      "Running BLASTp: Drosophila_simulans vs Drosophila_erecta using blast_databases/CG8086/Drosophila_erecta_combined\n",
      "Results for Drosophila_simulans vs all saved to: cross_species_blast_results/CG8086/Drosophila_simulans_vs_all.csv\n",
      "Processing gene: iav_(inactive)\n",
      "Running BLASTp: Drosophila_melanogaster vs Drosophila_teissieri using blast_databases/iav_(inactive)/Drosophila_teissieri_combined\n",
      "Running BLASTp: Drosophila_melanogaster vs Drosophila_yakuba using blast_databases/iav_(inactive)/Drosophila_yakuba_combined\n"
     ]
    },
    {
     "name": "stderr",
     "output_type": "stream",
     "text": [
      "/var/folders/mj/yrtz1pp53zs_hqrl2_mcw9m80000gn/T/ipykernel_11450/4042733987.py:94: FutureWarning: The behavior of DataFrame concatenation with empty or all-NA entries is deprecated. In a future version, this will no longer exclude empty or all-NA columns when determining the result dtypes. To retain the old behavior, exclude the relevant entries before the concat operation.\n",
      "  query_results_df = pd.concat([query_results_df, result_df], ignore_index=True)\n"
     ]
    },
    {
     "name": "stdout",
     "output_type": "stream",
     "text": [
      "Running BLASTp: Drosophila_melanogaster vs Drosophila_ananassae using blast_databases/iav_(inactive)/Drosophila_ananassae_combined\n",
      "Running BLASTp: Drosophila_melanogaster vs Drosophila_erecta using blast_databases/iav_(inactive)/Drosophila_erecta_combined\n",
      "Running BLASTp: Drosophila_melanogaster vs Drosophila_simulans using blast_databases/iav_(inactive)/Drosophila_simulans_combined\n",
      "Running BLASTp: Drosophila_melanogaster vs Drosophila_mauritiana using blast_databases/iav_(inactive)/Drosophila_mauritiana_combined\n",
      "Results for Drosophila_melanogaster vs all saved to: cross_species_blast_results/iav_(inactive)/Drosophila_melanogaster_vs_all.csv\n",
      "Running BLASTp: Drosophila_teissieri vs Drosophila_melanogaster using blast_databases/iav_(inactive)/Drosophila_melanogaster_combined\n"
     ]
    },
    {
     "name": "stderr",
     "output_type": "stream",
     "text": [
      "/var/folders/mj/yrtz1pp53zs_hqrl2_mcw9m80000gn/T/ipykernel_11450/4042733987.py:94: FutureWarning: The behavior of DataFrame concatenation with empty or all-NA entries is deprecated. In a future version, this will no longer exclude empty or all-NA columns when determining the result dtypes. To retain the old behavior, exclude the relevant entries before the concat operation.\n",
      "  query_results_df = pd.concat([query_results_df, result_df], ignore_index=True)\n"
     ]
    },
    {
     "name": "stdout",
     "output_type": "stream",
     "text": [
      "Running BLASTp: Drosophila_teissieri vs Drosophila_yakuba using blast_databases/iav_(inactive)/Drosophila_yakuba_combined\n",
      "Running BLASTp: Drosophila_teissieri vs Drosophila_ananassae using blast_databases/iav_(inactive)/Drosophila_ananassae_combined\n",
      "Running BLASTp: Drosophila_teissieri vs Drosophila_erecta using blast_databases/iav_(inactive)/Drosophila_erecta_combined\n",
      "Running BLASTp: Drosophila_teissieri vs Drosophila_simulans using blast_databases/iav_(inactive)/Drosophila_simulans_combined\n",
      "Running BLASTp: Drosophila_teissieri vs Drosophila_mauritiana using blast_databases/iav_(inactive)/Drosophila_mauritiana_combined\n",
      "Results for Drosophila_teissieri vs all saved to: cross_species_blast_results/iav_(inactive)/Drosophila_teissieri_vs_all.csv\n",
      "Running BLASTp: Drosophila_yakuba vs Drosophila_melanogaster using blast_databases/iav_(inactive)/Drosophila_melanogaster_combined\n"
     ]
    },
    {
     "name": "stderr",
     "output_type": "stream",
     "text": [
      "/var/folders/mj/yrtz1pp53zs_hqrl2_mcw9m80000gn/T/ipykernel_11450/4042733987.py:94: FutureWarning: The behavior of DataFrame concatenation with empty or all-NA entries is deprecated. In a future version, this will no longer exclude empty or all-NA columns when determining the result dtypes. To retain the old behavior, exclude the relevant entries before the concat operation.\n",
      "  query_results_df = pd.concat([query_results_df, result_df], ignore_index=True)\n"
     ]
    },
    {
     "name": "stdout",
     "output_type": "stream",
     "text": [
      "Running BLASTp: Drosophila_yakuba vs Drosophila_teissieri using blast_databases/iav_(inactive)/Drosophila_teissieri_combined\n",
      "Running BLASTp: Drosophila_yakuba vs Drosophila_ananassae using blast_databases/iav_(inactive)/Drosophila_ananassae_combined\n",
      "Running BLASTp: Drosophila_yakuba vs Drosophila_erecta using blast_databases/iav_(inactive)/Drosophila_erecta_combined\n",
      "Running BLASTp: Drosophila_yakuba vs Drosophila_simulans using blast_databases/iav_(inactive)/Drosophila_simulans_combined\n",
      "Running BLASTp: Drosophila_yakuba vs Drosophila_mauritiana using blast_databases/iav_(inactive)/Drosophila_mauritiana_combined\n",
      "Results for Drosophila_yakuba vs all saved to: cross_species_blast_results/iav_(inactive)/Drosophila_yakuba_vs_all.csv\n",
      "Running BLASTp: Drosophila_ananassae vs Drosophila_melanogaster using blast_databases/iav_(inactive)/Drosophila_melanogaster_combined\n"
     ]
    },
    {
     "name": "stderr",
     "output_type": "stream",
     "text": [
      "/var/folders/mj/yrtz1pp53zs_hqrl2_mcw9m80000gn/T/ipykernel_11450/4042733987.py:94: FutureWarning: The behavior of DataFrame concatenation with empty or all-NA entries is deprecated. In a future version, this will no longer exclude empty or all-NA columns when determining the result dtypes. To retain the old behavior, exclude the relevant entries before the concat operation.\n",
      "  query_results_df = pd.concat([query_results_df, result_df], ignore_index=True)\n"
     ]
    },
    {
     "name": "stdout",
     "output_type": "stream",
     "text": [
      "Running BLASTp: Drosophila_ananassae vs Drosophila_teissieri using blast_databases/iav_(inactive)/Drosophila_teissieri_combined\n",
      "Running BLASTp: Drosophila_ananassae vs Drosophila_yakuba using blast_databases/iav_(inactive)/Drosophila_yakuba_combined\n",
      "Running BLASTp: Drosophila_ananassae vs Drosophila_erecta using blast_databases/iav_(inactive)/Drosophila_erecta_combined\n",
      "Running BLASTp: Drosophila_ananassae vs Drosophila_simulans using blast_databases/iav_(inactive)/Drosophila_simulans_combined\n",
      "Running BLASTp: Drosophila_ananassae vs Drosophila_mauritiana using blast_databases/iav_(inactive)/Drosophila_mauritiana_combined\n",
      "Results for Drosophila_ananassae vs all saved to: cross_species_blast_results/iav_(inactive)/Drosophila_ananassae_vs_all.csv\n",
      "Running BLASTp: Drosophila_erecta vs Drosophila_melanogaster using blast_databases/iav_(inactive)/Drosophila_melanogaster_combined\n"
     ]
    },
    {
     "name": "stderr",
     "output_type": "stream",
     "text": [
      "/var/folders/mj/yrtz1pp53zs_hqrl2_mcw9m80000gn/T/ipykernel_11450/4042733987.py:94: FutureWarning: The behavior of DataFrame concatenation with empty or all-NA entries is deprecated. In a future version, this will no longer exclude empty or all-NA columns when determining the result dtypes. To retain the old behavior, exclude the relevant entries before the concat operation.\n",
      "  query_results_df = pd.concat([query_results_df, result_df], ignore_index=True)\n"
     ]
    },
    {
     "name": "stdout",
     "output_type": "stream",
     "text": [
      "Running BLASTp: Drosophila_erecta vs Drosophila_teissieri using blast_databases/iav_(inactive)/Drosophila_teissieri_combined\n",
      "Running BLASTp: Drosophila_erecta vs Drosophila_yakuba using blast_databases/iav_(inactive)/Drosophila_yakuba_combined\n",
      "Running BLASTp: Drosophila_erecta vs Drosophila_ananassae using blast_databases/iav_(inactive)/Drosophila_ananassae_combined\n",
      "Running BLASTp: Drosophila_erecta vs Drosophila_simulans using blast_databases/iav_(inactive)/Drosophila_simulans_combined\n",
      "Running BLASTp: Drosophila_erecta vs Drosophila_mauritiana using blast_databases/iav_(inactive)/Drosophila_mauritiana_combined\n",
      "Results for Drosophila_erecta vs all saved to: cross_species_blast_results/iav_(inactive)/Drosophila_erecta_vs_all.csv\n",
      "Running BLASTp: Drosophila_simulans vs Drosophila_melanogaster using blast_databases/iav_(inactive)/Drosophila_melanogaster_combined\n"
     ]
    },
    {
     "name": "stderr",
     "output_type": "stream",
     "text": [
      "/var/folders/mj/yrtz1pp53zs_hqrl2_mcw9m80000gn/T/ipykernel_11450/4042733987.py:94: FutureWarning: The behavior of DataFrame concatenation with empty or all-NA entries is deprecated. In a future version, this will no longer exclude empty or all-NA columns when determining the result dtypes. To retain the old behavior, exclude the relevant entries before the concat operation.\n",
      "  query_results_df = pd.concat([query_results_df, result_df], ignore_index=True)\n"
     ]
    },
    {
     "name": "stdout",
     "output_type": "stream",
     "text": [
      "Running BLASTp: Drosophila_simulans vs Drosophila_teissieri using blast_databases/iav_(inactive)/Drosophila_teissieri_combined\n",
      "Running BLASTp: Drosophila_simulans vs Drosophila_yakuba using blast_databases/iav_(inactive)/Drosophila_yakuba_combined\n",
      "Running BLASTp: Drosophila_simulans vs Drosophila_ananassae using blast_databases/iav_(inactive)/Drosophila_ananassae_combined\n",
      "Running BLASTp: Drosophila_simulans vs Drosophila_erecta using blast_databases/iav_(inactive)/Drosophila_erecta_combined\n",
      "Running BLASTp: Drosophila_simulans vs Drosophila_mauritiana using blast_databases/iav_(inactive)/Drosophila_mauritiana_combined\n",
      "Results for Drosophila_simulans vs all saved to: cross_species_blast_results/iav_(inactive)/Drosophila_simulans_vs_all.csv\n",
      "Running BLASTp: Drosophila_mauritiana vs Drosophila_melanogaster using blast_databases/iav_(inactive)/Drosophila_melanogaster_combined\n"
     ]
    },
    {
     "name": "stderr",
     "output_type": "stream",
     "text": [
      "/var/folders/mj/yrtz1pp53zs_hqrl2_mcw9m80000gn/T/ipykernel_11450/4042733987.py:94: FutureWarning: The behavior of DataFrame concatenation with empty or all-NA entries is deprecated. In a future version, this will no longer exclude empty or all-NA columns when determining the result dtypes. To retain the old behavior, exclude the relevant entries before the concat operation.\n",
      "  query_results_df = pd.concat([query_results_df, result_df], ignore_index=True)\n"
     ]
    },
    {
     "name": "stdout",
     "output_type": "stream",
     "text": [
      "Running BLASTp: Drosophila_mauritiana vs Drosophila_teissieri using blast_databases/iav_(inactive)/Drosophila_teissieri_combined\n",
      "Running BLASTp: Drosophila_mauritiana vs Drosophila_yakuba using blast_databases/iav_(inactive)/Drosophila_yakuba_combined\n",
      "Running BLASTp: Drosophila_mauritiana vs Drosophila_ananassae using blast_databases/iav_(inactive)/Drosophila_ananassae_combined\n",
      "Running BLASTp: Drosophila_mauritiana vs Drosophila_erecta using blast_databases/iav_(inactive)/Drosophila_erecta_combined\n",
      "Running BLASTp: Drosophila_mauritiana vs Drosophila_simulans using blast_databases/iav_(inactive)/Drosophila_simulans_combined\n",
      "Results for Drosophila_mauritiana vs all saved to: cross_species_blast_results/iav_(inactive)/Drosophila_mauritiana_vs_all.csv\n",
      "Processing gene: f_(forked)\n",
      "Running BLASTp: Drosophila_melanogaster vs Drosophila_teissieri using blast_databases/f_(forked)/Drosophila_teissieri_combined\n"
     ]
    },
    {
     "name": "stderr",
     "output_type": "stream",
     "text": [
      "/var/folders/mj/yrtz1pp53zs_hqrl2_mcw9m80000gn/T/ipykernel_11450/4042733987.py:94: FutureWarning: The behavior of DataFrame concatenation with empty or all-NA entries is deprecated. In a future version, this will no longer exclude empty or all-NA columns when determining the result dtypes. To retain the old behavior, exclude the relevant entries before the concat operation.\n",
      "  query_results_df = pd.concat([query_results_df, result_df], ignore_index=True)\n"
     ]
    },
    {
     "name": "stdout",
     "output_type": "stream",
     "text": [
      "Running BLASTp: Drosophila_melanogaster vs Drosophila_yakuba using blast_databases/f_(forked)/Drosophila_yakuba_combined\n",
      "Running BLASTp: Drosophila_melanogaster vs Drosophila_ananassae using blast_databases/f_(forked)/Drosophila_ananassae_combined\n",
      "Running BLASTp: Drosophila_melanogaster vs Drosophila_erecta using blast_databases/f_(forked)/Drosophila_erecta_combined\n",
      "Running BLASTp: Drosophila_melanogaster vs Drosophila_simulans using blast_databases/f_(forked)/Drosophila_simulans_combined\n",
      "Running BLASTp: Drosophila_melanogaster vs Drosophila_mauritiana using blast_databases/f_(forked)/Drosophila_mauritiana_combined\n",
      "Results for Drosophila_melanogaster vs all saved to: cross_species_blast_results/f_(forked)/Drosophila_melanogaster_vs_all.csv\n",
      "Running BLASTp: Drosophila_teissieri vs Drosophila_melanogaster using blast_databases/f_(forked)/Drosophila_melanogaster_combined\n",
      "Running BLASTp: Drosophila_teissieri vs Drosophila_yakuba using blast_databases/f_(forked)/Drosophila_yakuba_combined\n"
     ]
    },
    {
     "name": "stderr",
     "output_type": "stream",
     "text": [
      "/var/folders/mj/yrtz1pp53zs_hqrl2_mcw9m80000gn/T/ipykernel_11450/4042733987.py:94: FutureWarning: The behavior of DataFrame concatenation with empty or all-NA entries is deprecated. In a future version, this will no longer exclude empty or all-NA columns when determining the result dtypes. To retain the old behavior, exclude the relevant entries before the concat operation.\n",
      "  query_results_df = pd.concat([query_results_df, result_df], ignore_index=True)\n"
     ]
    },
    {
     "name": "stdout",
     "output_type": "stream",
     "text": [
      "Running BLASTp: Drosophila_teissieri vs Drosophila_ananassae using blast_databases/f_(forked)/Drosophila_ananassae_combined\n",
      "Running BLASTp: Drosophila_teissieri vs Drosophila_erecta using blast_databases/f_(forked)/Drosophila_erecta_combined\n",
      "Running BLASTp: Drosophila_teissieri vs Drosophila_simulans using blast_databases/f_(forked)/Drosophila_simulans_combined\n",
      "Running BLASTp: Drosophila_teissieri vs Drosophila_mauritiana using blast_databases/f_(forked)/Drosophila_mauritiana_combined\n",
      "Results for Drosophila_teissieri vs all saved to: cross_species_blast_results/f_(forked)/Drosophila_teissieri_vs_all.csv\n",
      "Running BLASTp: Drosophila_yakuba vs Drosophila_melanogaster using blast_databases/f_(forked)/Drosophila_melanogaster_combined\n"
     ]
    },
    {
     "name": "stderr",
     "output_type": "stream",
     "text": [
      "/var/folders/mj/yrtz1pp53zs_hqrl2_mcw9m80000gn/T/ipykernel_11450/4042733987.py:94: FutureWarning: The behavior of DataFrame concatenation with empty or all-NA entries is deprecated. In a future version, this will no longer exclude empty or all-NA columns when determining the result dtypes. To retain the old behavior, exclude the relevant entries before the concat operation.\n",
      "  query_results_df = pd.concat([query_results_df, result_df], ignore_index=True)\n"
     ]
    },
    {
     "name": "stdout",
     "output_type": "stream",
     "text": [
      "Running BLASTp: Drosophila_yakuba vs Drosophila_teissieri using blast_databases/f_(forked)/Drosophila_teissieri_combined\n",
      "Running BLASTp: Drosophila_yakuba vs Drosophila_ananassae using blast_databases/f_(forked)/Drosophila_ananassae_combined\n",
      "Running BLASTp: Drosophila_yakuba vs Drosophila_erecta using blast_databases/f_(forked)/Drosophila_erecta_combined\n",
      "Running BLASTp: Drosophila_yakuba vs Drosophila_simulans using blast_databases/f_(forked)/Drosophila_simulans_combined\n",
      "Running BLASTp: Drosophila_yakuba vs Drosophila_mauritiana using blast_databases/f_(forked)/Drosophila_mauritiana_combined\n",
      "Results for Drosophila_yakuba vs all saved to: cross_species_blast_results/f_(forked)/Drosophila_yakuba_vs_all.csv\n",
      "Running BLASTp: Drosophila_ananassae vs Drosophila_melanogaster using blast_databases/f_(forked)/Drosophila_melanogaster_combined\n"
     ]
    },
    {
     "name": "stderr",
     "output_type": "stream",
     "text": [
      "/var/folders/mj/yrtz1pp53zs_hqrl2_mcw9m80000gn/T/ipykernel_11450/4042733987.py:94: FutureWarning: The behavior of DataFrame concatenation with empty or all-NA entries is deprecated. In a future version, this will no longer exclude empty or all-NA columns when determining the result dtypes. To retain the old behavior, exclude the relevant entries before the concat operation.\n",
      "  query_results_df = pd.concat([query_results_df, result_df], ignore_index=True)\n"
     ]
    },
    {
     "name": "stdout",
     "output_type": "stream",
     "text": [
      "Running BLASTp: Drosophila_ananassae vs Drosophila_teissieri using blast_databases/f_(forked)/Drosophila_teissieri_combined\n",
      "Running BLASTp: Drosophila_ananassae vs Drosophila_yakuba using blast_databases/f_(forked)/Drosophila_yakuba_combined\n",
      "Running BLASTp: Drosophila_ananassae vs Drosophila_erecta using blast_databases/f_(forked)/Drosophila_erecta_combined\n",
      "Running BLASTp: Drosophila_ananassae vs Drosophila_simulans using blast_databases/f_(forked)/Drosophila_simulans_combined\n",
      "Running BLASTp: Drosophila_ananassae vs Drosophila_mauritiana using blast_databases/f_(forked)/Drosophila_mauritiana_combined\n",
      "Results for Drosophila_ananassae vs all saved to: cross_species_blast_results/f_(forked)/Drosophila_ananassae_vs_all.csv\n",
      "Running BLASTp: Drosophila_erecta vs Drosophila_melanogaster using blast_databases/f_(forked)/Drosophila_melanogaster_combined\n"
     ]
    },
    {
     "name": "stderr",
     "output_type": "stream",
     "text": [
      "/var/folders/mj/yrtz1pp53zs_hqrl2_mcw9m80000gn/T/ipykernel_11450/4042733987.py:94: FutureWarning: The behavior of DataFrame concatenation with empty or all-NA entries is deprecated. In a future version, this will no longer exclude empty or all-NA columns when determining the result dtypes. To retain the old behavior, exclude the relevant entries before the concat operation.\n",
      "  query_results_df = pd.concat([query_results_df, result_df], ignore_index=True)\n"
     ]
    },
    {
     "name": "stdout",
     "output_type": "stream",
     "text": [
      "Running BLASTp: Drosophila_erecta vs Drosophila_teissieri using blast_databases/f_(forked)/Drosophila_teissieri_combined\n",
      "Running BLASTp: Drosophila_erecta vs Drosophila_yakuba using blast_databases/f_(forked)/Drosophila_yakuba_combined\n",
      "Running BLASTp: Drosophila_erecta vs Drosophila_ananassae using blast_databases/f_(forked)/Drosophila_ananassae_combined\n",
      "Running BLASTp: Drosophila_erecta vs Drosophila_simulans using blast_databases/f_(forked)/Drosophila_simulans_combined\n",
      "Running BLASTp: Drosophila_erecta vs Drosophila_mauritiana using blast_databases/f_(forked)/Drosophila_mauritiana_combined\n",
      "Results for Drosophila_erecta vs all saved to: cross_species_blast_results/f_(forked)/Drosophila_erecta_vs_all.csv\n",
      "Running BLASTp: Drosophila_simulans vs Drosophila_melanogaster using blast_databases/f_(forked)/Drosophila_melanogaster_combined\n"
     ]
    },
    {
     "name": "stderr",
     "output_type": "stream",
     "text": [
      "/var/folders/mj/yrtz1pp53zs_hqrl2_mcw9m80000gn/T/ipykernel_11450/4042733987.py:94: FutureWarning: The behavior of DataFrame concatenation with empty or all-NA entries is deprecated. In a future version, this will no longer exclude empty or all-NA columns when determining the result dtypes. To retain the old behavior, exclude the relevant entries before the concat operation.\n",
      "  query_results_df = pd.concat([query_results_df, result_df], ignore_index=True)\n"
     ]
    },
    {
     "name": "stdout",
     "output_type": "stream",
     "text": [
      "Running BLASTp: Drosophila_simulans vs Drosophila_teissieri using blast_databases/f_(forked)/Drosophila_teissieri_combined\n",
      "Running BLASTp: Drosophila_simulans vs Drosophila_yakuba using blast_databases/f_(forked)/Drosophila_yakuba_combined\n",
      "Running BLASTp: Drosophila_simulans vs Drosophila_ananassae using blast_databases/f_(forked)/Drosophila_ananassae_combined\n",
      "Running BLASTp: Drosophila_simulans vs Drosophila_erecta using blast_databases/f_(forked)/Drosophila_erecta_combined\n",
      "Running BLASTp: Drosophila_simulans vs Drosophila_mauritiana using blast_databases/f_(forked)/Drosophila_mauritiana_combined\n",
      "Results for Drosophila_simulans vs all saved to: cross_species_blast_results/f_(forked)/Drosophila_simulans_vs_all.csv\n",
      "Running BLASTp: Drosophila_mauritiana vs Drosophila_melanogaster using blast_databases/f_(forked)/Drosophila_melanogaster_combined\n"
     ]
    },
    {
     "name": "stderr",
     "output_type": "stream",
     "text": [
      "/var/folders/mj/yrtz1pp53zs_hqrl2_mcw9m80000gn/T/ipykernel_11450/4042733987.py:94: FutureWarning: The behavior of DataFrame concatenation with empty or all-NA entries is deprecated. In a future version, this will no longer exclude empty or all-NA columns when determining the result dtypes. To retain the old behavior, exclude the relevant entries before the concat operation.\n",
      "  query_results_df = pd.concat([query_results_df, result_df], ignore_index=True)\n"
     ]
    },
    {
     "name": "stdout",
     "output_type": "stream",
     "text": [
      "Running BLASTp: Drosophila_mauritiana vs Drosophila_teissieri using blast_databases/f_(forked)/Drosophila_teissieri_combined\n",
      "Running BLASTp: Drosophila_mauritiana vs Drosophila_yakuba using blast_databases/f_(forked)/Drosophila_yakuba_combined\n",
      "Running BLASTp: Drosophila_mauritiana vs Drosophila_ananassae using blast_databases/f_(forked)/Drosophila_ananassae_combined\n",
      "Running BLASTp: Drosophila_mauritiana vs Drosophila_erecta using blast_databases/f_(forked)/Drosophila_erecta_combined\n",
      "Running BLASTp: Drosophila_mauritiana vs Drosophila_simulans using blast_databases/f_(forked)/Drosophila_simulans_combined\n",
      "Results for Drosophila_mauritiana vs all saved to: cross_species_blast_results/f_(forked)/Drosophila_mauritiana_vs_all.csv\n",
      "Processing gene: Ank2_(Ankyrin_2)\n",
      "Running BLASTp: Drosophila_melanogaster vs Drosophila_teissieri using blast_databases/Ank2_(Ankyrin_2)/Drosophila_teissieri_combined\n"
     ]
    },
    {
     "name": "stderr",
     "output_type": "stream",
     "text": [
      "/var/folders/mj/yrtz1pp53zs_hqrl2_mcw9m80000gn/T/ipykernel_11450/4042733987.py:94: FutureWarning: The behavior of DataFrame concatenation with empty or all-NA entries is deprecated. In a future version, this will no longer exclude empty or all-NA columns when determining the result dtypes. To retain the old behavior, exclude the relevant entries before the concat operation.\n",
      "  query_results_df = pd.concat([query_results_df, result_df], ignore_index=True)\n"
     ]
    },
    {
     "name": "stdout",
     "output_type": "stream",
     "text": [
      "Running BLASTp: Drosophila_melanogaster vs Drosophila_yakuba using blast_databases/Ank2_(Ankyrin_2)/Drosophila_yakuba_combined\n",
      "Running BLASTp: Drosophila_melanogaster vs Drosophila_ananassae using blast_databases/Ank2_(Ankyrin_2)/Drosophila_ananassae_combined\n",
      "Running BLASTp: Drosophila_melanogaster vs Drosophila_erecta using blast_databases/Ank2_(Ankyrin_2)/Drosophila_erecta_combined\n",
      "Running BLASTp: Drosophila_melanogaster vs Drosophila_simulans using blast_databases/Ank2_(Ankyrin_2)/Drosophila_simulans_combined\n",
      "Running BLASTp: Drosophila_melanogaster vs Drosophila_mauritiana using blast_databases/Ank2_(Ankyrin_2)/Drosophila_mauritiana_combined\n",
      "Results for Drosophila_melanogaster vs all saved to: cross_species_blast_results/Ank2_(Ankyrin_2)/Drosophila_melanogaster_vs_all.csv\n",
      "Running BLASTp: Drosophila_teissieri vs Drosophila_melanogaster using blast_databases/Ank2_(Ankyrin_2)/Drosophila_melanogaster_combined\n"
     ]
    },
    {
     "name": "stderr",
     "output_type": "stream",
     "text": [
      "/var/folders/mj/yrtz1pp53zs_hqrl2_mcw9m80000gn/T/ipykernel_11450/4042733987.py:94: FutureWarning: The behavior of DataFrame concatenation with empty or all-NA entries is deprecated. In a future version, this will no longer exclude empty or all-NA columns when determining the result dtypes. To retain the old behavior, exclude the relevant entries before the concat operation.\n",
      "  query_results_df = pd.concat([query_results_df, result_df], ignore_index=True)\n"
     ]
    },
    {
     "name": "stdout",
     "output_type": "stream",
     "text": [
      "Running BLASTp: Drosophila_teissieri vs Drosophila_yakuba using blast_databases/Ank2_(Ankyrin_2)/Drosophila_yakuba_combined\n",
      "Running BLASTp: Drosophila_teissieri vs Drosophila_ananassae using blast_databases/Ank2_(Ankyrin_2)/Drosophila_ananassae_combined\n",
      "Running BLASTp: Drosophila_teissieri vs Drosophila_erecta using blast_databases/Ank2_(Ankyrin_2)/Drosophila_erecta_combined\n",
      "Running BLASTp: Drosophila_teissieri vs Drosophila_simulans using blast_databases/Ank2_(Ankyrin_2)/Drosophila_simulans_combined\n",
      "Running BLASTp: Drosophila_teissieri vs Drosophila_mauritiana using blast_databases/Ank2_(Ankyrin_2)/Drosophila_mauritiana_combined\n",
      "Results for Drosophila_teissieri vs all saved to: cross_species_blast_results/Ank2_(Ankyrin_2)/Drosophila_teissieri_vs_all.csv\n",
      "Running BLASTp: Drosophila_yakuba vs Drosophila_melanogaster using blast_databases/Ank2_(Ankyrin_2)/Drosophila_melanogaster_combined\n"
     ]
    },
    {
     "name": "stderr",
     "output_type": "stream",
     "text": [
      "/var/folders/mj/yrtz1pp53zs_hqrl2_mcw9m80000gn/T/ipykernel_11450/4042733987.py:94: FutureWarning: The behavior of DataFrame concatenation with empty or all-NA entries is deprecated. In a future version, this will no longer exclude empty or all-NA columns when determining the result dtypes. To retain the old behavior, exclude the relevant entries before the concat operation.\n",
      "  query_results_df = pd.concat([query_results_df, result_df], ignore_index=True)\n"
     ]
    },
    {
     "name": "stdout",
     "output_type": "stream",
     "text": [
      "Running BLASTp: Drosophila_yakuba vs Drosophila_teissieri using blast_databases/Ank2_(Ankyrin_2)/Drosophila_teissieri_combined\n",
      "Running BLASTp: Drosophila_yakuba vs Drosophila_ananassae using blast_databases/Ank2_(Ankyrin_2)/Drosophila_ananassae_combined\n",
      "Running BLASTp: Drosophila_yakuba vs Drosophila_erecta using blast_databases/Ank2_(Ankyrin_2)/Drosophila_erecta_combined\n",
      "Running BLASTp: Drosophila_yakuba vs Drosophila_simulans using blast_databases/Ank2_(Ankyrin_2)/Drosophila_simulans_combined\n",
      "Running BLASTp: Drosophila_yakuba vs Drosophila_mauritiana using blast_databases/Ank2_(Ankyrin_2)/Drosophila_mauritiana_combined\n",
      "Results for Drosophila_yakuba vs all saved to: cross_species_blast_results/Ank2_(Ankyrin_2)/Drosophila_yakuba_vs_all.csv\n",
      "Running BLASTp: Drosophila_ananassae vs Drosophila_melanogaster using blast_databases/Ank2_(Ankyrin_2)/Drosophila_melanogaster_combined\n"
     ]
    },
    {
     "name": "stderr",
     "output_type": "stream",
     "text": [
      "/var/folders/mj/yrtz1pp53zs_hqrl2_mcw9m80000gn/T/ipykernel_11450/4042733987.py:94: FutureWarning: The behavior of DataFrame concatenation with empty or all-NA entries is deprecated. In a future version, this will no longer exclude empty or all-NA columns when determining the result dtypes. To retain the old behavior, exclude the relevant entries before the concat operation.\n",
      "  query_results_df = pd.concat([query_results_df, result_df], ignore_index=True)\n"
     ]
    },
    {
     "name": "stdout",
     "output_type": "stream",
     "text": [
      "Running BLASTp: Drosophila_ananassae vs Drosophila_teissieri using blast_databases/Ank2_(Ankyrin_2)/Drosophila_teissieri_combined\n",
      "Running BLASTp: Drosophila_ananassae vs Drosophila_yakuba using blast_databases/Ank2_(Ankyrin_2)/Drosophila_yakuba_combined\n",
      "Running BLASTp: Drosophila_ananassae vs Drosophila_erecta using blast_databases/Ank2_(Ankyrin_2)/Drosophila_erecta_combined\n",
      "Running BLASTp: Drosophila_ananassae vs Drosophila_simulans using blast_databases/Ank2_(Ankyrin_2)/Drosophila_simulans_combined\n",
      "Running BLASTp: Drosophila_ananassae vs Drosophila_mauritiana using blast_databases/Ank2_(Ankyrin_2)/Drosophila_mauritiana_combined\n",
      "Results for Drosophila_ananassae vs all saved to: cross_species_blast_results/Ank2_(Ankyrin_2)/Drosophila_ananassae_vs_all.csv\n",
      "Running BLASTp: Drosophila_erecta vs Drosophila_melanogaster using blast_databases/Ank2_(Ankyrin_2)/Drosophila_melanogaster_combined\n"
     ]
    },
    {
     "name": "stderr",
     "output_type": "stream",
     "text": [
      "/var/folders/mj/yrtz1pp53zs_hqrl2_mcw9m80000gn/T/ipykernel_11450/4042733987.py:94: FutureWarning: The behavior of DataFrame concatenation with empty or all-NA entries is deprecated. In a future version, this will no longer exclude empty or all-NA columns when determining the result dtypes. To retain the old behavior, exclude the relevant entries before the concat operation.\n",
      "  query_results_df = pd.concat([query_results_df, result_df], ignore_index=True)\n"
     ]
    },
    {
     "name": "stdout",
     "output_type": "stream",
     "text": [
      "Running BLASTp: Drosophila_erecta vs Drosophila_teissieri using blast_databases/Ank2_(Ankyrin_2)/Drosophila_teissieri_combined\n",
      "Running BLASTp: Drosophila_erecta vs Drosophila_yakuba using blast_databases/Ank2_(Ankyrin_2)/Drosophila_yakuba_combined\n",
      "Running BLASTp: Drosophila_erecta vs Drosophila_ananassae using blast_databases/Ank2_(Ankyrin_2)/Drosophila_ananassae_combined\n",
      "Running BLASTp: Drosophila_erecta vs Drosophila_simulans using blast_databases/Ank2_(Ankyrin_2)/Drosophila_simulans_combined\n",
      "Running BLASTp: Drosophila_erecta vs Drosophila_mauritiana using blast_databases/Ank2_(Ankyrin_2)/Drosophila_mauritiana_combined\n",
      "Results for Drosophila_erecta vs all saved to: cross_species_blast_results/Ank2_(Ankyrin_2)/Drosophila_erecta_vs_all.csv\n",
      "Running BLASTp: Drosophila_simulans vs Drosophila_melanogaster using blast_databases/Ank2_(Ankyrin_2)/Drosophila_melanogaster_combined\n"
     ]
    },
    {
     "name": "stderr",
     "output_type": "stream",
     "text": [
      "/var/folders/mj/yrtz1pp53zs_hqrl2_mcw9m80000gn/T/ipykernel_11450/4042733987.py:94: FutureWarning: The behavior of DataFrame concatenation with empty or all-NA entries is deprecated. In a future version, this will no longer exclude empty or all-NA columns when determining the result dtypes. To retain the old behavior, exclude the relevant entries before the concat operation.\n",
      "  query_results_df = pd.concat([query_results_df, result_df], ignore_index=True)\n"
     ]
    },
    {
     "name": "stdout",
     "output_type": "stream",
     "text": [
      "Running BLASTp: Drosophila_simulans vs Drosophila_teissieri using blast_databases/Ank2_(Ankyrin_2)/Drosophila_teissieri_combined\n",
      "Running BLASTp: Drosophila_simulans vs Drosophila_yakuba using blast_databases/Ank2_(Ankyrin_2)/Drosophila_yakuba_combined\n",
      "Running BLASTp: Drosophila_simulans vs Drosophila_ananassae using blast_databases/Ank2_(Ankyrin_2)/Drosophila_ananassae_combined\n",
      "Running BLASTp: Drosophila_simulans vs Drosophila_erecta using blast_databases/Ank2_(Ankyrin_2)/Drosophila_erecta_combined\n",
      "Running BLASTp: Drosophila_simulans vs Drosophila_mauritiana using blast_databases/Ank2_(Ankyrin_2)/Drosophila_mauritiana_combined\n",
      "Results for Drosophila_simulans vs all saved to: cross_species_blast_results/Ank2_(Ankyrin_2)/Drosophila_simulans_vs_all.csv\n",
      "Running BLASTp: Drosophila_mauritiana vs Drosophila_melanogaster using blast_databases/Ank2_(Ankyrin_2)/Drosophila_melanogaster_combined\n"
     ]
    },
    {
     "name": "stderr",
     "output_type": "stream",
     "text": [
      "/var/folders/mj/yrtz1pp53zs_hqrl2_mcw9m80000gn/T/ipykernel_11450/4042733987.py:94: FutureWarning: The behavior of DataFrame concatenation with empty or all-NA entries is deprecated. In a future version, this will no longer exclude empty or all-NA columns when determining the result dtypes. To retain the old behavior, exclude the relevant entries before the concat operation.\n",
      "  query_results_df = pd.concat([query_results_df, result_df], ignore_index=True)\n"
     ]
    },
    {
     "name": "stdout",
     "output_type": "stream",
     "text": [
      "Running BLASTp: Drosophila_mauritiana vs Drosophila_teissieri using blast_databases/Ank2_(Ankyrin_2)/Drosophila_teissieri_combined\n",
      "Running BLASTp: Drosophila_mauritiana vs Drosophila_yakuba using blast_databases/Ank2_(Ankyrin_2)/Drosophila_yakuba_combined\n",
      "Running BLASTp: Drosophila_mauritiana vs Drosophila_ananassae using blast_databases/Ank2_(Ankyrin_2)/Drosophila_ananassae_combined\n",
      "Running BLASTp: Drosophila_mauritiana vs Drosophila_erecta using blast_databases/Ank2_(Ankyrin_2)/Drosophila_erecta_combined\n",
      "Running BLASTp: Drosophila_mauritiana vs Drosophila_simulans using blast_databases/Ank2_(Ankyrin_2)/Drosophila_simulans_combined\n",
      "Results for Drosophila_mauritiana vs all saved to: cross_species_blast_results/Ank2_(Ankyrin_2)/Drosophila_mauritiana_vs_all.csv\n",
      "Processing gene: ck_(crinkled)_\n",
      "Running BLASTp: Drosophila_melanogaster vs Drosophila_teissieri using blast_databases/ck_(crinkled)_/Drosophila_teissieri_combined\n",
      "Running BLASTp: Drosophila_melanogaster vs Drosophila_yakuba using blast_databases/ck_(crinkled)_/Drosophila_yakuba_combined\n"
     ]
    },
    {
     "name": "stderr",
     "output_type": "stream",
     "text": [
      "/var/folders/mj/yrtz1pp53zs_hqrl2_mcw9m80000gn/T/ipykernel_11450/4042733987.py:94: FutureWarning: The behavior of DataFrame concatenation with empty or all-NA entries is deprecated. In a future version, this will no longer exclude empty or all-NA columns when determining the result dtypes. To retain the old behavior, exclude the relevant entries before the concat operation.\n",
      "  query_results_df = pd.concat([query_results_df, result_df], ignore_index=True)\n"
     ]
    },
    {
     "name": "stdout",
     "output_type": "stream",
     "text": [
      "Running BLASTp: Drosophila_melanogaster vs Drosophila_ananassae using blast_databases/ck_(crinkled)_/Drosophila_ananassae_combined\n",
      "Running BLASTp: Drosophila_melanogaster vs Drosophila_erecta using blast_databases/ck_(crinkled)_/Drosophila_erecta_combined\n",
      "Running BLASTp: Drosophila_melanogaster vs Drosophila_simulans using blast_databases/ck_(crinkled)_/Drosophila_simulans_combined\n",
      "Running BLASTp: Drosophila_melanogaster vs Drosophila_mauritiana using blast_databases/ck_(crinkled)_/Drosophila_mauritiana_combined\n",
      "Results for Drosophila_melanogaster vs all saved to: cross_species_blast_results/ck_(crinkled)_/Drosophila_melanogaster_vs_all.csv\n",
      "Running BLASTp: Drosophila_teissieri vs Drosophila_melanogaster using blast_databases/ck_(crinkled)_/Drosophila_melanogaster_combined\n",
      "Running BLASTp: Drosophila_teissieri vs Drosophila_yakuba using blast_databases/ck_(crinkled)_/Drosophila_yakuba_combined\n"
     ]
    },
    {
     "name": "stderr",
     "output_type": "stream",
     "text": [
      "/var/folders/mj/yrtz1pp53zs_hqrl2_mcw9m80000gn/T/ipykernel_11450/4042733987.py:94: FutureWarning: The behavior of DataFrame concatenation with empty or all-NA entries is deprecated. In a future version, this will no longer exclude empty or all-NA columns when determining the result dtypes. To retain the old behavior, exclude the relevant entries before the concat operation.\n",
      "  query_results_df = pd.concat([query_results_df, result_df], ignore_index=True)\n"
     ]
    },
    {
     "name": "stdout",
     "output_type": "stream",
     "text": [
      "Running BLASTp: Drosophila_teissieri vs Drosophila_ananassae using blast_databases/ck_(crinkled)_/Drosophila_ananassae_combined\n",
      "Running BLASTp: Drosophila_teissieri vs Drosophila_erecta using blast_databases/ck_(crinkled)_/Drosophila_erecta_combined\n",
      "Running BLASTp: Drosophila_teissieri vs Drosophila_simulans using blast_databases/ck_(crinkled)_/Drosophila_simulans_combined\n",
      "Running BLASTp: Drosophila_teissieri vs Drosophila_mauritiana using blast_databases/ck_(crinkled)_/Drosophila_mauritiana_combined\n",
      "Results for Drosophila_teissieri vs all saved to: cross_species_blast_results/ck_(crinkled)_/Drosophila_teissieri_vs_all.csv\n",
      "Running BLASTp: Drosophila_yakuba vs Drosophila_melanogaster using blast_databases/ck_(crinkled)_/Drosophila_melanogaster_combined\n",
      "Running BLASTp: Drosophila_yakuba vs Drosophila_teissieri using blast_databases/ck_(crinkled)_/Drosophila_teissieri_combined\n",
      "Running BLASTp: Drosophila_yakuba vs Drosophila_ananassae using blast_databases/ck_(crinkled)_/Drosophila_ananassae_combined\n"
     ]
    },
    {
     "name": "stderr",
     "output_type": "stream",
     "text": [
      "/var/folders/mj/yrtz1pp53zs_hqrl2_mcw9m80000gn/T/ipykernel_11450/4042733987.py:94: FutureWarning: The behavior of DataFrame concatenation with empty or all-NA entries is deprecated. In a future version, this will no longer exclude empty or all-NA columns when determining the result dtypes. To retain the old behavior, exclude the relevant entries before the concat operation.\n",
      "  query_results_df = pd.concat([query_results_df, result_df], ignore_index=True)\n"
     ]
    },
    {
     "name": "stdout",
     "output_type": "stream",
     "text": [
      "Running BLASTp: Drosophila_yakuba vs Drosophila_erecta using blast_databases/ck_(crinkled)_/Drosophila_erecta_combined\n",
      "Running BLASTp: Drosophila_yakuba vs Drosophila_simulans using blast_databases/ck_(crinkled)_/Drosophila_simulans_combined\n",
      "Running BLASTp: Drosophila_yakuba vs Drosophila_mauritiana using blast_databases/ck_(crinkled)_/Drosophila_mauritiana_combined\n",
      "Results for Drosophila_yakuba vs all saved to: cross_species_blast_results/ck_(crinkled)_/Drosophila_yakuba_vs_all.csv\n",
      "Running BLASTp: Drosophila_ananassae vs Drosophila_melanogaster using blast_databases/ck_(crinkled)_/Drosophila_melanogaster_combined\n",
      "Running BLASTp: Drosophila_ananassae vs Drosophila_teissieri using blast_databases/ck_(crinkled)_/Drosophila_teissieri_combined\n"
     ]
    },
    {
     "name": "stderr",
     "output_type": "stream",
     "text": [
      "/var/folders/mj/yrtz1pp53zs_hqrl2_mcw9m80000gn/T/ipykernel_11450/4042733987.py:94: FutureWarning: The behavior of DataFrame concatenation with empty or all-NA entries is deprecated. In a future version, this will no longer exclude empty or all-NA columns when determining the result dtypes. To retain the old behavior, exclude the relevant entries before the concat operation.\n",
      "  query_results_df = pd.concat([query_results_df, result_df], ignore_index=True)\n"
     ]
    },
    {
     "name": "stdout",
     "output_type": "stream",
     "text": [
      "Running BLASTp: Drosophila_ananassae vs Drosophila_yakuba using blast_databases/ck_(crinkled)_/Drosophila_yakuba_combined\n",
      "Running BLASTp: Drosophila_ananassae vs Drosophila_erecta using blast_databases/ck_(crinkled)_/Drosophila_erecta_combined\n",
      "Running BLASTp: Drosophila_ananassae vs Drosophila_simulans using blast_databases/ck_(crinkled)_/Drosophila_simulans_combined\n",
      "Running BLASTp: Drosophila_ananassae vs Drosophila_mauritiana using blast_databases/ck_(crinkled)_/Drosophila_mauritiana_combined\n",
      "Results for Drosophila_ananassae vs all saved to: cross_species_blast_results/ck_(crinkled)_/Drosophila_ananassae_vs_all.csv\n",
      "Running BLASTp: Drosophila_erecta vs Drosophila_melanogaster using blast_databases/ck_(crinkled)_/Drosophila_melanogaster_combined\n",
      "Running BLASTp: Drosophila_erecta vs Drosophila_teissieri using blast_databases/ck_(crinkled)_/Drosophila_teissieri_combined\n"
     ]
    },
    {
     "name": "stderr",
     "output_type": "stream",
     "text": [
      "/var/folders/mj/yrtz1pp53zs_hqrl2_mcw9m80000gn/T/ipykernel_11450/4042733987.py:94: FutureWarning: The behavior of DataFrame concatenation with empty or all-NA entries is deprecated. In a future version, this will no longer exclude empty or all-NA columns when determining the result dtypes. To retain the old behavior, exclude the relevant entries before the concat operation.\n",
      "  query_results_df = pd.concat([query_results_df, result_df], ignore_index=True)\n"
     ]
    },
    {
     "name": "stdout",
     "output_type": "stream",
     "text": [
      "Running BLASTp: Drosophila_erecta vs Drosophila_yakuba using blast_databases/ck_(crinkled)_/Drosophila_yakuba_combined\n",
      "Running BLASTp: Drosophila_erecta vs Drosophila_ananassae using blast_databases/ck_(crinkled)_/Drosophila_ananassae_combined\n",
      "Running BLASTp: Drosophila_erecta vs Drosophila_simulans using blast_databases/ck_(crinkled)_/Drosophila_simulans_combined\n",
      "Running BLASTp: Drosophila_erecta vs Drosophila_mauritiana using blast_databases/ck_(crinkled)_/Drosophila_mauritiana_combined\n",
      "Results for Drosophila_erecta vs all saved to: cross_species_blast_results/ck_(crinkled)_/Drosophila_erecta_vs_all.csv\n",
      "Running BLASTp: Drosophila_simulans vs Drosophila_melanogaster using blast_databases/ck_(crinkled)_/Drosophila_melanogaster_combined\n",
      "Running BLASTp: Drosophila_simulans vs Drosophila_teissieri using blast_databases/ck_(crinkled)_/Drosophila_teissieri_combined\n"
     ]
    },
    {
     "name": "stderr",
     "output_type": "stream",
     "text": [
      "/var/folders/mj/yrtz1pp53zs_hqrl2_mcw9m80000gn/T/ipykernel_11450/4042733987.py:94: FutureWarning: The behavior of DataFrame concatenation with empty or all-NA entries is deprecated. In a future version, this will no longer exclude empty or all-NA columns when determining the result dtypes. To retain the old behavior, exclude the relevant entries before the concat operation.\n",
      "  query_results_df = pd.concat([query_results_df, result_df], ignore_index=True)\n"
     ]
    },
    {
     "name": "stdout",
     "output_type": "stream",
     "text": [
      "Running BLASTp: Drosophila_simulans vs Drosophila_yakuba using blast_databases/ck_(crinkled)_/Drosophila_yakuba_combined\n",
      "Running BLASTp: Drosophila_simulans vs Drosophila_ananassae using blast_databases/ck_(crinkled)_/Drosophila_ananassae_combined\n",
      "Running BLASTp: Drosophila_simulans vs Drosophila_erecta using blast_databases/ck_(crinkled)_/Drosophila_erecta_combined\n",
      "Running BLASTp: Drosophila_simulans vs Drosophila_mauritiana using blast_databases/ck_(crinkled)_/Drosophila_mauritiana_combined\n",
      "Results for Drosophila_simulans vs all saved to: cross_species_blast_results/ck_(crinkled)_/Drosophila_simulans_vs_all.csv\n",
      "Running BLASTp: Drosophila_mauritiana vs Drosophila_melanogaster using blast_databases/ck_(crinkled)_/Drosophila_melanogaster_combined\n",
      "Running BLASTp: Drosophila_mauritiana vs Drosophila_teissieri using blast_databases/ck_(crinkled)_/Drosophila_teissieri_combined\n"
     ]
    },
    {
     "name": "stderr",
     "output_type": "stream",
     "text": [
      "/var/folders/mj/yrtz1pp53zs_hqrl2_mcw9m80000gn/T/ipykernel_11450/4042733987.py:94: FutureWarning: The behavior of DataFrame concatenation with empty or all-NA entries is deprecated. In a future version, this will no longer exclude empty or all-NA columns when determining the result dtypes. To retain the old behavior, exclude the relevant entries before the concat operation.\n",
      "  query_results_df = pd.concat([query_results_df, result_df], ignore_index=True)\n"
     ]
    },
    {
     "name": "stdout",
     "output_type": "stream",
     "text": [
      "Running BLASTp: Drosophila_mauritiana vs Drosophila_yakuba using blast_databases/ck_(crinkled)_/Drosophila_yakuba_combined\n",
      "Running BLASTp: Drosophila_mauritiana vs Drosophila_ananassae using blast_databases/ck_(crinkled)_/Drosophila_ananassae_combined\n",
      "Running BLASTp: Drosophila_mauritiana vs Drosophila_erecta using blast_databases/ck_(crinkled)_/Drosophila_erecta_combined\n",
      "Running BLASTp: Drosophila_mauritiana vs Drosophila_simulans using blast_databases/ck_(crinkled)_/Drosophila_simulans_combined\n",
      "Results for Drosophila_mauritiana vs all saved to: cross_species_blast_results/ck_(crinkled)_/Drosophila_mauritiana_vs_all.csv\n",
      "Processing gene: Cam_(Calmodulin)\n",
      "Running BLASTp: Drosophila_melanogaster vs Drosophila_teissieri using blast_databases/Cam_(Calmodulin)/Drosophila_teissieri_combined\n",
      "Running BLASTp: Drosophila_melanogaster vs Drosophila_yakuba using blast_databases/Cam_(Calmodulin)/Drosophila_yakuba_combined\n"
     ]
    },
    {
     "name": "stderr",
     "output_type": "stream",
     "text": [
      "/var/folders/mj/yrtz1pp53zs_hqrl2_mcw9m80000gn/T/ipykernel_11450/4042733987.py:94: FutureWarning: The behavior of DataFrame concatenation with empty or all-NA entries is deprecated. In a future version, this will no longer exclude empty or all-NA columns when determining the result dtypes. To retain the old behavior, exclude the relevant entries before the concat operation.\n",
      "  query_results_df = pd.concat([query_results_df, result_df], ignore_index=True)\n"
     ]
    },
    {
     "name": "stdout",
     "output_type": "stream",
     "text": [
      "Running BLASTp: Drosophila_melanogaster vs Drosophila_ananassae using blast_databases/Cam_(Calmodulin)/Drosophila_ananassae_combined\n",
      "Running BLASTp: Drosophila_melanogaster vs Drosophila_erecta using blast_databases/Cam_(Calmodulin)/Drosophila_erecta_combined\n",
      "Running BLASTp: Drosophila_melanogaster vs Drosophila_simulans using blast_databases/Cam_(Calmodulin)/Drosophila_simulans_combined\n",
      "Running BLASTp: Drosophila_melanogaster vs Drosophila_mauritiana using blast_databases/Cam_(Calmodulin)/Drosophila_mauritiana_combined\n",
      "Results for Drosophila_melanogaster vs all saved to: cross_species_blast_results/Cam_(Calmodulin)/Drosophila_melanogaster_vs_all.csv\n",
      "Running BLASTp: Drosophila_teissieri vs Drosophila_melanogaster using blast_databases/Cam_(Calmodulin)/Drosophila_melanogaster_combined\n",
      "Running BLASTp: Drosophila_teissieri vs Drosophila_yakuba using blast_databases/Cam_(Calmodulin)/Drosophila_yakuba_combined\n",
      "Running BLASTp: Drosophila_teissieri vs Drosophila_ananassae using blast_databases/Cam_(Calmodulin)/Drosophila_ananassae_combined\n"
     ]
    },
    {
     "name": "stderr",
     "output_type": "stream",
     "text": [
      "/var/folders/mj/yrtz1pp53zs_hqrl2_mcw9m80000gn/T/ipykernel_11450/4042733987.py:94: FutureWarning: The behavior of DataFrame concatenation with empty or all-NA entries is deprecated. In a future version, this will no longer exclude empty or all-NA columns when determining the result dtypes. To retain the old behavior, exclude the relevant entries before the concat operation.\n",
      "  query_results_df = pd.concat([query_results_df, result_df], ignore_index=True)\n"
     ]
    },
    {
     "name": "stdout",
     "output_type": "stream",
     "text": [
      "Running BLASTp: Drosophila_teissieri vs Drosophila_erecta using blast_databases/Cam_(Calmodulin)/Drosophila_erecta_combined\n",
      "Running BLASTp: Drosophila_teissieri vs Drosophila_simulans using blast_databases/Cam_(Calmodulin)/Drosophila_simulans_combined\n",
      "Running BLASTp: Drosophila_teissieri vs Drosophila_mauritiana using blast_databases/Cam_(Calmodulin)/Drosophila_mauritiana_combined\n",
      "Results for Drosophila_teissieri vs all saved to: cross_species_blast_results/Cam_(Calmodulin)/Drosophila_teissieri_vs_all.csv\n",
      "Running BLASTp: Drosophila_yakuba vs Drosophila_melanogaster using blast_databases/Cam_(Calmodulin)/Drosophila_melanogaster_combined\n",
      "Running BLASTp: Drosophila_yakuba vs Drosophila_teissieri using blast_databases/Cam_(Calmodulin)/Drosophila_teissieri_combined\n",
      "Running BLASTp: Drosophila_yakuba vs Drosophila_ananassae using blast_databases/Cam_(Calmodulin)/Drosophila_ananassae_combined\n"
     ]
    },
    {
     "name": "stderr",
     "output_type": "stream",
     "text": [
      "/var/folders/mj/yrtz1pp53zs_hqrl2_mcw9m80000gn/T/ipykernel_11450/4042733987.py:94: FutureWarning: The behavior of DataFrame concatenation with empty or all-NA entries is deprecated. In a future version, this will no longer exclude empty or all-NA columns when determining the result dtypes. To retain the old behavior, exclude the relevant entries before the concat operation.\n",
      "  query_results_df = pd.concat([query_results_df, result_df], ignore_index=True)\n"
     ]
    },
    {
     "name": "stdout",
     "output_type": "stream",
     "text": [
      "Running BLASTp: Drosophila_yakuba vs Drosophila_erecta using blast_databases/Cam_(Calmodulin)/Drosophila_erecta_combined\n",
      "Running BLASTp: Drosophila_yakuba vs Drosophila_simulans using blast_databases/Cam_(Calmodulin)/Drosophila_simulans_combined\n",
      "Running BLASTp: Drosophila_yakuba vs Drosophila_mauritiana using blast_databases/Cam_(Calmodulin)/Drosophila_mauritiana_combined\n",
      "Results for Drosophila_yakuba vs all saved to: cross_species_blast_results/Cam_(Calmodulin)/Drosophila_yakuba_vs_all.csv\n",
      "Running BLASTp: Drosophila_ananassae vs Drosophila_melanogaster using blast_databases/Cam_(Calmodulin)/Drosophila_melanogaster_combined\n",
      "Running BLASTp: Drosophila_ananassae vs Drosophila_teissieri using blast_databases/Cam_(Calmodulin)/Drosophila_teissieri_combined\n",
      "Running BLASTp: Drosophila_ananassae vs Drosophila_yakuba using blast_databases/Cam_(Calmodulin)/Drosophila_yakuba_combined\n"
     ]
    },
    {
     "name": "stderr",
     "output_type": "stream",
     "text": [
      "/var/folders/mj/yrtz1pp53zs_hqrl2_mcw9m80000gn/T/ipykernel_11450/4042733987.py:94: FutureWarning: The behavior of DataFrame concatenation with empty or all-NA entries is deprecated. In a future version, this will no longer exclude empty or all-NA columns when determining the result dtypes. To retain the old behavior, exclude the relevant entries before the concat operation.\n",
      "  query_results_df = pd.concat([query_results_df, result_df], ignore_index=True)\n"
     ]
    },
    {
     "name": "stdout",
     "output_type": "stream",
     "text": [
      "Running BLASTp: Drosophila_ananassae vs Drosophila_erecta using blast_databases/Cam_(Calmodulin)/Drosophila_erecta_combined\n",
      "Running BLASTp: Drosophila_ananassae vs Drosophila_simulans using blast_databases/Cam_(Calmodulin)/Drosophila_simulans_combined\n",
      "Running BLASTp: Drosophila_ananassae vs Drosophila_mauritiana using blast_databases/Cam_(Calmodulin)/Drosophila_mauritiana_combined\n",
      "Results for Drosophila_ananassae vs all saved to: cross_species_blast_results/Cam_(Calmodulin)/Drosophila_ananassae_vs_all.csv\n",
      "Running BLASTp: Drosophila_erecta vs Drosophila_melanogaster using blast_databases/Cam_(Calmodulin)/Drosophila_melanogaster_combined\n",
      "Running BLASTp: Drosophila_erecta vs Drosophila_teissieri using blast_databases/Cam_(Calmodulin)/Drosophila_teissieri_combined\n",
      "Running BLASTp: Drosophila_erecta vs Drosophila_yakuba using blast_databases/Cam_(Calmodulin)/Drosophila_yakuba_combined\n"
     ]
    },
    {
     "name": "stderr",
     "output_type": "stream",
     "text": [
      "/var/folders/mj/yrtz1pp53zs_hqrl2_mcw9m80000gn/T/ipykernel_11450/4042733987.py:94: FutureWarning: The behavior of DataFrame concatenation with empty or all-NA entries is deprecated. In a future version, this will no longer exclude empty or all-NA columns when determining the result dtypes. To retain the old behavior, exclude the relevant entries before the concat operation.\n",
      "  query_results_df = pd.concat([query_results_df, result_df], ignore_index=True)\n"
     ]
    },
    {
     "name": "stdout",
     "output_type": "stream",
     "text": [
      "Running BLASTp: Drosophila_erecta vs Drosophila_ananassae using blast_databases/Cam_(Calmodulin)/Drosophila_ananassae_combined\n",
      "Running BLASTp: Drosophila_erecta vs Drosophila_simulans using blast_databases/Cam_(Calmodulin)/Drosophila_simulans_combined\n",
      "Running BLASTp: Drosophila_erecta vs Drosophila_mauritiana using blast_databases/Cam_(Calmodulin)/Drosophila_mauritiana_combined\n",
      "Results for Drosophila_erecta vs all saved to: cross_species_blast_results/Cam_(Calmodulin)/Drosophila_erecta_vs_all.csv\n",
      "Running BLASTp: Drosophila_simulans vs Drosophila_melanogaster using blast_databases/Cam_(Calmodulin)/Drosophila_melanogaster_combined\n",
      "Running BLASTp: Drosophila_simulans vs Drosophila_teissieri using blast_databases/Cam_(Calmodulin)/Drosophila_teissieri_combined\n",
      "Running BLASTp: Drosophila_simulans vs Drosophila_yakuba using blast_databases/Cam_(Calmodulin)/Drosophila_yakuba_combined\n"
     ]
    },
    {
     "name": "stderr",
     "output_type": "stream",
     "text": [
      "/var/folders/mj/yrtz1pp53zs_hqrl2_mcw9m80000gn/T/ipykernel_11450/4042733987.py:94: FutureWarning: The behavior of DataFrame concatenation with empty or all-NA entries is deprecated. In a future version, this will no longer exclude empty or all-NA columns when determining the result dtypes. To retain the old behavior, exclude the relevant entries before the concat operation.\n",
      "  query_results_df = pd.concat([query_results_df, result_df], ignore_index=True)\n"
     ]
    },
    {
     "name": "stdout",
     "output_type": "stream",
     "text": [
      "Running BLASTp: Drosophila_simulans vs Drosophila_ananassae using blast_databases/Cam_(Calmodulin)/Drosophila_ananassae_combined\n",
      "Running BLASTp: Drosophila_simulans vs Drosophila_erecta using blast_databases/Cam_(Calmodulin)/Drosophila_erecta_combined\n",
      "Running BLASTp: Drosophila_simulans vs Drosophila_mauritiana using blast_databases/Cam_(Calmodulin)/Drosophila_mauritiana_combined\n",
      "Results for Drosophila_simulans vs all saved to: cross_species_blast_results/Cam_(Calmodulin)/Drosophila_simulans_vs_all.csv\n",
      "Running BLASTp: Drosophila_mauritiana vs Drosophila_melanogaster using blast_databases/Cam_(Calmodulin)/Drosophila_melanogaster_combined\n",
      "Running BLASTp: Drosophila_mauritiana vs Drosophila_teissieri using blast_databases/Cam_(Calmodulin)/Drosophila_teissieri_combined\n",
      "Running BLASTp: Drosophila_mauritiana vs Drosophila_yakuba using blast_databases/Cam_(Calmodulin)/Drosophila_yakuba_combined\n"
     ]
    },
    {
     "name": "stderr",
     "output_type": "stream",
     "text": [
      "/var/folders/mj/yrtz1pp53zs_hqrl2_mcw9m80000gn/T/ipykernel_11450/4042733987.py:94: FutureWarning: The behavior of DataFrame concatenation with empty or all-NA entries is deprecated. In a future version, this will no longer exclude empty or all-NA columns when determining the result dtypes. To retain the old behavior, exclude the relevant entries before the concat operation.\n",
      "  query_results_df = pd.concat([query_results_df, result_df], ignore_index=True)\n"
     ]
    },
    {
     "name": "stdout",
     "output_type": "stream",
     "text": [
      "Running BLASTp: Drosophila_mauritiana vs Drosophila_ananassae using blast_databases/Cam_(Calmodulin)/Drosophila_ananassae_combined\n",
      "Running BLASTp: Drosophila_mauritiana vs Drosophila_erecta using blast_databases/Cam_(Calmodulin)/Drosophila_erecta_combined\n",
      "Running BLASTp: Drosophila_mauritiana vs Drosophila_simulans using blast_databases/Cam_(Calmodulin)/Drosophila_simulans_combined\n",
      "Results for Drosophila_mauritiana vs all saved to: cross_species_blast_results/Cam_(Calmodulin)/Drosophila_mauritiana_vs_all.csv\n",
      "Processing gene: trp_(transient_receptor_potential)\n",
      "Running BLASTp: Drosophila_melanogaster vs Drosophila_teissieri using blast_databases/trp_(transient_receptor_potential)/Drosophila_teissieri_combined\n",
      "Running BLASTp: Drosophila_melanogaster vs Drosophila_yakuba using blast_databases/trp_(transient_receptor_potential)/Drosophila_yakuba_combined\n"
     ]
    },
    {
     "name": "stderr",
     "output_type": "stream",
     "text": [
      "/var/folders/mj/yrtz1pp53zs_hqrl2_mcw9m80000gn/T/ipykernel_11450/4042733987.py:94: FutureWarning: The behavior of DataFrame concatenation with empty or all-NA entries is deprecated. In a future version, this will no longer exclude empty or all-NA columns when determining the result dtypes. To retain the old behavior, exclude the relevant entries before the concat operation.\n",
      "  query_results_df = pd.concat([query_results_df, result_df], ignore_index=True)\n"
     ]
    },
    {
     "name": "stdout",
     "output_type": "stream",
     "text": [
      "Running BLASTp: Drosophila_melanogaster vs Drosophila_ananassae using blast_databases/trp_(transient_receptor_potential)/Drosophila_ananassae_combined\n",
      "Running BLASTp: Drosophila_melanogaster vs Drosophila_erecta using blast_databases/trp_(transient_receptor_potential)/Drosophila_erecta_combined\n",
      "Running BLASTp: Drosophila_melanogaster vs Drosophila_simulans using blast_databases/trp_(transient_receptor_potential)/Drosophila_simulans_combined\n",
      "Running BLASTp: Drosophila_melanogaster vs Drosophila_mauritiana using blast_databases/trp_(transient_receptor_potential)/Drosophila_mauritiana_combined\n",
      "Results for Drosophila_melanogaster vs all saved to: cross_species_blast_results/trp_(transient_receptor_potential)/Drosophila_melanogaster_vs_all.csv\n",
      "Running BLASTp: Drosophila_teissieri vs Drosophila_melanogaster using blast_databases/trp_(transient_receptor_potential)/Drosophila_melanogaster_combined\n",
      "Running BLASTp: Drosophila_teissieri vs Drosophila_yakuba using blast_databases/trp_(transient_receptor_potential)/Drosophila_yakuba_combined\n",
      "Running BLASTp: Drosophila_teissieri vs Drosophila_ananassae using blast_databases/trp_(transient_receptor_potential)/Drosophila_ananassae_combined\n"
     ]
    },
    {
     "name": "stderr",
     "output_type": "stream",
     "text": [
      "/var/folders/mj/yrtz1pp53zs_hqrl2_mcw9m80000gn/T/ipykernel_11450/4042733987.py:94: FutureWarning: The behavior of DataFrame concatenation with empty or all-NA entries is deprecated. In a future version, this will no longer exclude empty or all-NA columns when determining the result dtypes. To retain the old behavior, exclude the relevant entries before the concat operation.\n",
      "  query_results_df = pd.concat([query_results_df, result_df], ignore_index=True)\n"
     ]
    },
    {
     "name": "stdout",
     "output_type": "stream",
     "text": [
      "Running BLASTp: Drosophila_teissieri vs Drosophila_erecta using blast_databases/trp_(transient_receptor_potential)/Drosophila_erecta_combined\n",
      "Running BLASTp: Drosophila_teissieri vs Drosophila_simulans using blast_databases/trp_(transient_receptor_potential)/Drosophila_simulans_combined\n",
      "Running BLASTp: Drosophila_teissieri vs Drosophila_mauritiana using blast_databases/trp_(transient_receptor_potential)/Drosophila_mauritiana_combined\n",
      "Results for Drosophila_teissieri vs all saved to: cross_species_blast_results/trp_(transient_receptor_potential)/Drosophila_teissieri_vs_all.csv\n",
      "Running BLASTp: Drosophila_yakuba vs Drosophila_melanogaster using blast_databases/trp_(transient_receptor_potential)/Drosophila_melanogaster_combined\n",
      "Running BLASTp: Drosophila_yakuba vs Drosophila_teissieri using blast_databases/trp_(transient_receptor_potential)/Drosophila_teissieri_combined\n",
      "Running BLASTp: Drosophila_yakuba vs Drosophila_ananassae using blast_databases/trp_(transient_receptor_potential)/Drosophila_ananassae_combined\n"
     ]
    },
    {
     "name": "stderr",
     "output_type": "stream",
     "text": [
      "/var/folders/mj/yrtz1pp53zs_hqrl2_mcw9m80000gn/T/ipykernel_11450/4042733987.py:94: FutureWarning: The behavior of DataFrame concatenation with empty or all-NA entries is deprecated. In a future version, this will no longer exclude empty or all-NA columns when determining the result dtypes. To retain the old behavior, exclude the relevant entries before the concat operation.\n",
      "  query_results_df = pd.concat([query_results_df, result_df], ignore_index=True)\n"
     ]
    },
    {
     "name": "stdout",
     "output_type": "stream",
     "text": [
      "Running BLASTp: Drosophila_yakuba vs Drosophila_erecta using blast_databases/trp_(transient_receptor_potential)/Drosophila_erecta_combined\n",
      "Running BLASTp: Drosophila_yakuba vs Drosophila_simulans using blast_databases/trp_(transient_receptor_potential)/Drosophila_simulans_combined\n",
      "Running BLASTp: Drosophila_yakuba vs Drosophila_mauritiana using blast_databases/trp_(transient_receptor_potential)/Drosophila_mauritiana_combined\n",
      "Results for Drosophila_yakuba vs all saved to: cross_species_blast_results/trp_(transient_receptor_potential)/Drosophila_yakuba_vs_all.csv\n",
      "Running BLASTp: Drosophila_ananassae vs Drosophila_melanogaster using blast_databases/trp_(transient_receptor_potential)/Drosophila_melanogaster_combined\n",
      "Running BLASTp: Drosophila_ananassae vs Drosophila_teissieri using blast_databases/trp_(transient_receptor_potential)/Drosophila_teissieri_combined\n",
      "Running BLASTp: Drosophila_ananassae vs Drosophila_yakuba using blast_databases/trp_(transient_receptor_potential)/Drosophila_yakuba_combined\n"
     ]
    },
    {
     "name": "stderr",
     "output_type": "stream",
     "text": [
      "/var/folders/mj/yrtz1pp53zs_hqrl2_mcw9m80000gn/T/ipykernel_11450/4042733987.py:94: FutureWarning: The behavior of DataFrame concatenation with empty or all-NA entries is deprecated. In a future version, this will no longer exclude empty or all-NA columns when determining the result dtypes. To retain the old behavior, exclude the relevant entries before the concat operation.\n",
      "  query_results_df = pd.concat([query_results_df, result_df], ignore_index=True)\n"
     ]
    },
    {
     "name": "stdout",
     "output_type": "stream",
     "text": [
      "Running BLASTp: Drosophila_ananassae vs Drosophila_erecta using blast_databases/trp_(transient_receptor_potential)/Drosophila_erecta_combined\n",
      "Running BLASTp: Drosophila_ananassae vs Drosophila_simulans using blast_databases/trp_(transient_receptor_potential)/Drosophila_simulans_combined\n",
      "Running BLASTp: Drosophila_ananassae vs Drosophila_mauritiana using blast_databases/trp_(transient_receptor_potential)/Drosophila_mauritiana_combined\n",
      "Results for Drosophila_ananassae vs all saved to: cross_species_blast_results/trp_(transient_receptor_potential)/Drosophila_ananassae_vs_all.csv\n",
      "Running BLASTp: Drosophila_erecta vs Drosophila_melanogaster using blast_databases/trp_(transient_receptor_potential)/Drosophila_melanogaster_combined\n",
      "Running BLASTp: Drosophila_erecta vs Drosophila_teissieri using blast_databases/trp_(transient_receptor_potential)/Drosophila_teissieri_combined\n"
     ]
    },
    {
     "name": "stderr",
     "output_type": "stream",
     "text": [
      "/var/folders/mj/yrtz1pp53zs_hqrl2_mcw9m80000gn/T/ipykernel_11450/4042733987.py:94: FutureWarning: The behavior of DataFrame concatenation with empty or all-NA entries is deprecated. In a future version, this will no longer exclude empty or all-NA columns when determining the result dtypes. To retain the old behavior, exclude the relevant entries before the concat operation.\n",
      "  query_results_df = pd.concat([query_results_df, result_df], ignore_index=True)\n"
     ]
    },
    {
     "name": "stdout",
     "output_type": "stream",
     "text": [
      "Running BLASTp: Drosophila_erecta vs Drosophila_yakuba using blast_databases/trp_(transient_receptor_potential)/Drosophila_yakuba_combined\n",
      "Running BLASTp: Drosophila_erecta vs Drosophila_ananassae using blast_databases/trp_(transient_receptor_potential)/Drosophila_ananassae_combined\n",
      "Running BLASTp: Drosophila_erecta vs Drosophila_simulans using blast_databases/trp_(transient_receptor_potential)/Drosophila_simulans_combined\n",
      "Running BLASTp: Drosophila_erecta vs Drosophila_mauritiana using blast_databases/trp_(transient_receptor_potential)/Drosophila_mauritiana_combined\n",
      "Results for Drosophila_erecta vs all saved to: cross_species_blast_results/trp_(transient_receptor_potential)/Drosophila_erecta_vs_all.csv\n",
      "Running BLASTp: Drosophila_simulans vs Drosophila_melanogaster using blast_databases/trp_(transient_receptor_potential)/Drosophila_melanogaster_combined\n",
      "Running BLASTp: Drosophila_simulans vs Drosophila_teissieri using blast_databases/trp_(transient_receptor_potential)/Drosophila_teissieri_combined\n"
     ]
    },
    {
     "name": "stderr",
     "output_type": "stream",
     "text": [
      "/var/folders/mj/yrtz1pp53zs_hqrl2_mcw9m80000gn/T/ipykernel_11450/4042733987.py:94: FutureWarning: The behavior of DataFrame concatenation with empty or all-NA entries is deprecated. In a future version, this will no longer exclude empty or all-NA columns when determining the result dtypes. To retain the old behavior, exclude the relevant entries before the concat operation.\n",
      "  query_results_df = pd.concat([query_results_df, result_df], ignore_index=True)\n"
     ]
    },
    {
     "name": "stdout",
     "output_type": "stream",
     "text": [
      "Running BLASTp: Drosophila_simulans vs Drosophila_yakuba using blast_databases/trp_(transient_receptor_potential)/Drosophila_yakuba_combined\n",
      "Running BLASTp: Drosophila_simulans vs Drosophila_ananassae using blast_databases/trp_(transient_receptor_potential)/Drosophila_ananassae_combined\n",
      "Running BLASTp: Drosophila_simulans vs Drosophila_erecta using blast_databases/trp_(transient_receptor_potential)/Drosophila_erecta_combined\n",
      "Running BLASTp: Drosophila_simulans vs Drosophila_mauritiana using blast_databases/trp_(transient_receptor_potential)/Drosophila_mauritiana_combined\n",
      "Results for Drosophila_simulans vs all saved to: cross_species_blast_results/trp_(transient_receptor_potential)/Drosophila_simulans_vs_all.csv\n",
      "Running BLASTp: Drosophila_mauritiana vs Drosophila_melanogaster using blast_databases/trp_(transient_receptor_potential)/Drosophila_melanogaster_combined\n",
      "Running BLASTp: Drosophila_mauritiana vs Drosophila_teissieri using blast_databases/trp_(transient_receptor_potential)/Drosophila_teissieri_combined\n"
     ]
    },
    {
     "name": "stderr",
     "output_type": "stream",
     "text": [
      "/var/folders/mj/yrtz1pp53zs_hqrl2_mcw9m80000gn/T/ipykernel_11450/4042733987.py:94: FutureWarning: The behavior of DataFrame concatenation with empty or all-NA entries is deprecated. In a future version, this will no longer exclude empty or all-NA columns when determining the result dtypes. To retain the old behavior, exclude the relevant entries before the concat operation.\n",
      "  query_results_df = pd.concat([query_results_df, result_df], ignore_index=True)\n"
     ]
    },
    {
     "name": "stdout",
     "output_type": "stream",
     "text": [
      "Running BLASTp: Drosophila_mauritiana vs Drosophila_yakuba using blast_databases/trp_(transient_receptor_potential)/Drosophila_yakuba_combined\n",
      "Running BLASTp: Drosophila_mauritiana vs Drosophila_ananassae using blast_databases/trp_(transient_receptor_potential)/Drosophila_ananassae_combined\n",
      "Running BLASTp: Drosophila_mauritiana vs Drosophila_erecta using blast_databases/trp_(transient_receptor_potential)/Drosophila_erecta_combined\n",
      "Running BLASTp: Drosophila_mauritiana vs Drosophila_simulans using blast_databases/trp_(transient_receptor_potential)/Drosophila_simulans_combined\n",
      "Results for Drosophila_mauritiana vs all saved to: cross_species_blast_results/trp_(transient_receptor_potential)/Drosophila_mauritiana_vs_all.csv\n",
      "Processing gene: nompA_(no_mechanoreceptor_potential_A)\n",
      "Running BLASTp: Drosophila_melanogaster vs Drosophila_teissieri using blast_databases/nompA_(no_mechanoreceptor_potential_A)/Drosophila_teissieri_combined\n"
     ]
    },
    {
     "name": "stderr",
     "output_type": "stream",
     "text": [
      "/var/folders/mj/yrtz1pp53zs_hqrl2_mcw9m80000gn/T/ipykernel_11450/4042733987.py:94: FutureWarning: The behavior of DataFrame concatenation with empty or all-NA entries is deprecated. In a future version, this will no longer exclude empty or all-NA columns when determining the result dtypes. To retain the old behavior, exclude the relevant entries before the concat operation.\n",
      "  query_results_df = pd.concat([query_results_df, result_df], ignore_index=True)\n"
     ]
    },
    {
     "name": "stdout",
     "output_type": "stream",
     "text": [
      "Running BLASTp: Drosophila_melanogaster vs Drosophila_yakuba using blast_databases/nompA_(no_mechanoreceptor_potential_A)/Drosophila_yakuba_combined\n",
      "Running BLASTp: Drosophila_melanogaster vs Drosophila_ananassae using blast_databases/nompA_(no_mechanoreceptor_potential_A)/Drosophila_ananassae_combined\n",
      "Running BLASTp: Drosophila_melanogaster vs Drosophila_erecta using blast_databases/nompA_(no_mechanoreceptor_potential_A)/Drosophila_erecta_combined\n",
      "Running BLASTp: Drosophila_melanogaster vs Drosophila_simulans using blast_databases/nompA_(no_mechanoreceptor_potential_A)/Drosophila_simulans_combined\n",
      "Running BLASTp: Drosophila_melanogaster vs Drosophila_mauritiana using blast_databases/nompA_(no_mechanoreceptor_potential_A)/Drosophila_mauritiana_combined\n",
      "Results for Drosophila_melanogaster vs all saved to: cross_species_blast_results/nompA_(no_mechanoreceptor_potential_A)/Drosophila_melanogaster_vs_all.csv\n",
      "Running BLASTp: Drosophila_teissieri vs Drosophila_melanogaster using blast_databases/nompA_(no_mechanoreceptor_potential_A)/Drosophila_melanogaster_combined\n",
      "Running BLASTp: Drosophila_teissieri vs Drosophila_yakuba using blast_databases/nompA_(no_mechanoreceptor_potential_A)/Drosophila_yakuba_combined\n"
     ]
    },
    {
     "name": "stderr",
     "output_type": "stream",
     "text": [
      "/var/folders/mj/yrtz1pp53zs_hqrl2_mcw9m80000gn/T/ipykernel_11450/4042733987.py:94: FutureWarning: The behavior of DataFrame concatenation with empty or all-NA entries is deprecated. In a future version, this will no longer exclude empty or all-NA columns when determining the result dtypes. To retain the old behavior, exclude the relevant entries before the concat operation.\n",
      "  query_results_df = pd.concat([query_results_df, result_df], ignore_index=True)\n"
     ]
    },
    {
     "name": "stdout",
     "output_type": "stream",
     "text": [
      "Running BLASTp: Drosophila_teissieri vs Drosophila_ananassae using blast_databases/nompA_(no_mechanoreceptor_potential_A)/Drosophila_ananassae_combined\n",
      "Running BLASTp: Drosophila_teissieri vs Drosophila_erecta using blast_databases/nompA_(no_mechanoreceptor_potential_A)/Drosophila_erecta_combined\n",
      "Running BLASTp: Drosophila_teissieri vs Drosophila_simulans using blast_databases/nompA_(no_mechanoreceptor_potential_A)/Drosophila_simulans_combined\n",
      "Running BLASTp: Drosophila_teissieri vs Drosophila_mauritiana using blast_databases/nompA_(no_mechanoreceptor_potential_A)/Drosophila_mauritiana_combined\n",
      "Results for Drosophila_teissieri vs all saved to: cross_species_blast_results/nompA_(no_mechanoreceptor_potential_A)/Drosophila_teissieri_vs_all.csv\n",
      "Running BLASTp: Drosophila_yakuba vs Drosophila_melanogaster using blast_databases/nompA_(no_mechanoreceptor_potential_A)/Drosophila_melanogaster_combined\n"
     ]
    },
    {
     "name": "stderr",
     "output_type": "stream",
     "text": [
      "/var/folders/mj/yrtz1pp53zs_hqrl2_mcw9m80000gn/T/ipykernel_11450/4042733987.py:94: FutureWarning: The behavior of DataFrame concatenation with empty or all-NA entries is deprecated. In a future version, this will no longer exclude empty or all-NA columns when determining the result dtypes. To retain the old behavior, exclude the relevant entries before the concat operation.\n",
      "  query_results_df = pd.concat([query_results_df, result_df], ignore_index=True)\n"
     ]
    },
    {
     "name": "stdout",
     "output_type": "stream",
     "text": [
      "Running BLASTp: Drosophila_yakuba vs Drosophila_teissieri using blast_databases/nompA_(no_mechanoreceptor_potential_A)/Drosophila_teissieri_combined\n",
      "Running BLASTp: Drosophila_yakuba vs Drosophila_ananassae using blast_databases/nompA_(no_mechanoreceptor_potential_A)/Drosophila_ananassae_combined\n",
      "Running BLASTp: Drosophila_yakuba vs Drosophila_erecta using blast_databases/nompA_(no_mechanoreceptor_potential_A)/Drosophila_erecta_combined\n",
      "Running BLASTp: Drosophila_yakuba vs Drosophila_simulans using blast_databases/nompA_(no_mechanoreceptor_potential_A)/Drosophila_simulans_combined\n",
      "Running BLASTp: Drosophila_yakuba vs Drosophila_mauritiana using blast_databases/nompA_(no_mechanoreceptor_potential_A)/Drosophila_mauritiana_combined\n",
      "Results for Drosophila_yakuba vs all saved to: cross_species_blast_results/nompA_(no_mechanoreceptor_potential_A)/Drosophila_yakuba_vs_all.csv\n",
      "Running BLASTp: Drosophila_ananassae vs Drosophila_melanogaster using blast_databases/nompA_(no_mechanoreceptor_potential_A)/Drosophila_melanogaster_combined\n"
     ]
    },
    {
     "name": "stderr",
     "output_type": "stream",
     "text": [
      "/var/folders/mj/yrtz1pp53zs_hqrl2_mcw9m80000gn/T/ipykernel_11450/4042733987.py:94: FutureWarning: The behavior of DataFrame concatenation with empty or all-NA entries is deprecated. In a future version, this will no longer exclude empty or all-NA columns when determining the result dtypes. To retain the old behavior, exclude the relevant entries before the concat operation.\n",
      "  query_results_df = pd.concat([query_results_df, result_df], ignore_index=True)\n"
     ]
    },
    {
     "name": "stdout",
     "output_type": "stream",
     "text": [
      "Running BLASTp: Drosophila_ananassae vs Drosophila_teissieri using blast_databases/nompA_(no_mechanoreceptor_potential_A)/Drosophila_teissieri_combined\n",
      "Running BLASTp: Drosophila_ananassae vs Drosophila_yakuba using blast_databases/nompA_(no_mechanoreceptor_potential_A)/Drosophila_yakuba_combined\n",
      "Running BLASTp: Drosophila_ananassae vs Drosophila_erecta using blast_databases/nompA_(no_mechanoreceptor_potential_A)/Drosophila_erecta_combined\n",
      "Running BLASTp: Drosophila_ananassae vs Drosophila_simulans using blast_databases/nompA_(no_mechanoreceptor_potential_A)/Drosophila_simulans_combined\n",
      "Running BLASTp: Drosophila_ananassae vs Drosophila_mauritiana using blast_databases/nompA_(no_mechanoreceptor_potential_A)/Drosophila_mauritiana_combined\n",
      "Results for Drosophila_ananassae vs all saved to: cross_species_blast_results/nompA_(no_mechanoreceptor_potential_A)/Drosophila_ananassae_vs_all.csv\n",
      "Running BLASTp: Drosophila_erecta vs Drosophila_melanogaster using blast_databases/nompA_(no_mechanoreceptor_potential_A)/Drosophila_melanogaster_combined\n"
     ]
    },
    {
     "name": "stderr",
     "output_type": "stream",
     "text": [
      "/var/folders/mj/yrtz1pp53zs_hqrl2_mcw9m80000gn/T/ipykernel_11450/4042733987.py:94: FutureWarning: The behavior of DataFrame concatenation with empty or all-NA entries is deprecated. In a future version, this will no longer exclude empty or all-NA columns when determining the result dtypes. To retain the old behavior, exclude the relevant entries before the concat operation.\n",
      "  query_results_df = pd.concat([query_results_df, result_df], ignore_index=True)\n"
     ]
    },
    {
     "name": "stdout",
     "output_type": "stream",
     "text": [
      "Running BLASTp: Drosophila_erecta vs Drosophila_teissieri using blast_databases/nompA_(no_mechanoreceptor_potential_A)/Drosophila_teissieri_combined\n",
      "Running BLASTp: Drosophila_erecta vs Drosophila_yakuba using blast_databases/nompA_(no_mechanoreceptor_potential_A)/Drosophila_yakuba_combined\n",
      "Running BLASTp: Drosophila_erecta vs Drosophila_ananassae using blast_databases/nompA_(no_mechanoreceptor_potential_A)/Drosophila_ananassae_combined\n",
      "Running BLASTp: Drosophila_erecta vs Drosophila_simulans using blast_databases/nompA_(no_mechanoreceptor_potential_A)/Drosophila_simulans_combined\n",
      "Running BLASTp: Drosophila_erecta vs Drosophila_mauritiana using blast_databases/nompA_(no_mechanoreceptor_potential_A)/Drosophila_mauritiana_combined\n",
      "Results for Drosophila_erecta vs all saved to: cross_species_blast_results/nompA_(no_mechanoreceptor_potential_A)/Drosophila_erecta_vs_all.csv\n",
      "Running BLASTp: Drosophila_simulans vs Drosophila_melanogaster using blast_databases/nompA_(no_mechanoreceptor_potential_A)/Drosophila_melanogaster_combined\n",
      "Running BLASTp: Drosophila_simulans vs Drosophila_teissieri using blast_databases/nompA_(no_mechanoreceptor_potential_A)/Drosophila_teissieri_combined\n",
      "Running BLASTp: Drosophila_simulans vs Drosophila_yakuba using blast_databases/nompA_(no_mechanoreceptor_potential_A)/Drosophila_yakuba_combined\n"
     ]
    },
    {
     "name": "stderr",
     "output_type": "stream",
     "text": [
      "/var/folders/mj/yrtz1pp53zs_hqrl2_mcw9m80000gn/T/ipykernel_11450/4042733987.py:94: FutureWarning: The behavior of DataFrame concatenation with empty or all-NA entries is deprecated. In a future version, this will no longer exclude empty or all-NA columns when determining the result dtypes. To retain the old behavior, exclude the relevant entries before the concat operation.\n",
      "  query_results_df = pd.concat([query_results_df, result_df], ignore_index=True)\n"
     ]
    },
    {
     "name": "stdout",
     "output_type": "stream",
     "text": [
      "Running BLASTp: Drosophila_simulans vs Drosophila_ananassae using blast_databases/nompA_(no_mechanoreceptor_potential_A)/Drosophila_ananassae_combined\n",
      "Running BLASTp: Drosophila_simulans vs Drosophila_erecta using blast_databases/nompA_(no_mechanoreceptor_potential_A)/Drosophila_erecta_combined\n",
      "Running BLASTp: Drosophila_simulans vs Drosophila_mauritiana using blast_databases/nompA_(no_mechanoreceptor_potential_A)/Drosophila_mauritiana_combined\n",
      "Results for Drosophila_simulans vs all saved to: cross_species_blast_results/nompA_(no_mechanoreceptor_potential_A)/Drosophila_simulans_vs_all.csv\n",
      "Running BLASTp: Drosophila_mauritiana vs Drosophila_melanogaster using blast_databases/nompA_(no_mechanoreceptor_potential_A)/Drosophila_melanogaster_combined\n",
      "Running BLASTp: Drosophila_mauritiana vs Drosophila_teissieri using blast_databases/nompA_(no_mechanoreceptor_potential_A)/Drosophila_teissieri_combined\n"
     ]
    },
    {
     "name": "stderr",
     "output_type": "stream",
     "text": [
      "/var/folders/mj/yrtz1pp53zs_hqrl2_mcw9m80000gn/T/ipykernel_11450/4042733987.py:94: FutureWarning: The behavior of DataFrame concatenation with empty or all-NA entries is deprecated. In a future version, this will no longer exclude empty or all-NA columns when determining the result dtypes. To retain the old behavior, exclude the relevant entries before the concat operation.\n",
      "  query_results_df = pd.concat([query_results_df, result_df], ignore_index=True)\n"
     ]
    },
    {
     "name": "stdout",
     "output_type": "stream",
     "text": [
      "Running BLASTp: Drosophila_mauritiana vs Drosophila_yakuba using blast_databases/nompA_(no_mechanoreceptor_potential_A)/Drosophila_yakuba_combined\n",
      "Running BLASTp: Drosophila_mauritiana vs Drosophila_ananassae using blast_databases/nompA_(no_mechanoreceptor_potential_A)/Drosophila_ananassae_combined\n",
      "Running BLASTp: Drosophila_mauritiana vs Drosophila_erecta using blast_databases/nompA_(no_mechanoreceptor_potential_A)/Drosophila_erecta_combined\n",
      "Running BLASTp: Drosophila_mauritiana vs Drosophila_simulans using blast_databases/nompA_(no_mechanoreceptor_potential_A)/Drosophila_simulans_combined\n",
      "Results for Drosophila_mauritiana vs all saved to: cross_species_blast_results/nompA_(no_mechanoreceptor_potential_A)/Drosophila_mauritiana_vs_all.csv\n",
      "Processing gene: tilB_(touch_insensitive_larva_B)\n",
      "Running BLASTp: Drosophila_melanogaster vs Drosophila_teissieri using blast_databases/tilB_(touch_insensitive_larva_B)/Drosophila_teissieri_combined\n",
      "Running BLASTp: Drosophila_melanogaster vs Drosophila_yakuba using blast_databases/tilB_(touch_insensitive_larva_B)/Drosophila_yakuba_combined\n"
     ]
    },
    {
     "name": "stderr",
     "output_type": "stream",
     "text": [
      "/var/folders/mj/yrtz1pp53zs_hqrl2_mcw9m80000gn/T/ipykernel_11450/4042733987.py:94: FutureWarning: The behavior of DataFrame concatenation with empty or all-NA entries is deprecated. In a future version, this will no longer exclude empty or all-NA columns when determining the result dtypes. To retain the old behavior, exclude the relevant entries before the concat operation.\n",
      "  query_results_df = pd.concat([query_results_df, result_df], ignore_index=True)\n"
     ]
    },
    {
     "name": "stdout",
     "output_type": "stream",
     "text": [
      "Running BLASTp: Drosophila_melanogaster vs Drosophila_ananassae using blast_databases/tilB_(touch_insensitive_larva_B)/Drosophila_ananassae_combined\n",
      "Running BLASTp: Drosophila_melanogaster vs Drosophila_erecta using blast_databases/tilB_(touch_insensitive_larva_B)/Drosophila_erecta_combined\n",
      "Running BLASTp: Drosophila_melanogaster vs Drosophila_simulans using blast_databases/tilB_(touch_insensitive_larva_B)/Drosophila_simulans_combined\n",
      "Running BLASTp: Drosophila_melanogaster vs Drosophila_mauritiana using blast_databases/tilB_(touch_insensitive_larva_B)/Drosophila_mauritiana_combined\n",
      "Results for Drosophila_melanogaster vs all saved to: cross_species_blast_results/tilB_(touch_insensitive_larva_B)/Drosophila_melanogaster_vs_all.csv\n",
      "Running BLASTp: Drosophila_teissieri vs Drosophila_melanogaster using blast_databases/tilB_(touch_insensitive_larva_B)/Drosophila_melanogaster_combined\n",
      "Running BLASTp: Drosophila_teissieri vs Drosophila_yakuba using blast_databases/tilB_(touch_insensitive_larva_B)/Drosophila_yakuba_combined\n"
     ]
    },
    {
     "name": "stderr",
     "output_type": "stream",
     "text": [
      "/var/folders/mj/yrtz1pp53zs_hqrl2_mcw9m80000gn/T/ipykernel_11450/4042733987.py:94: FutureWarning: The behavior of DataFrame concatenation with empty or all-NA entries is deprecated. In a future version, this will no longer exclude empty or all-NA columns when determining the result dtypes. To retain the old behavior, exclude the relevant entries before the concat operation.\n",
      "  query_results_df = pd.concat([query_results_df, result_df], ignore_index=True)\n"
     ]
    },
    {
     "name": "stdout",
     "output_type": "stream",
     "text": [
      "Running BLASTp: Drosophila_teissieri vs Drosophila_ananassae using blast_databases/tilB_(touch_insensitive_larva_B)/Drosophila_ananassae_combined\n",
      "Running BLASTp: Drosophila_teissieri vs Drosophila_erecta using blast_databases/tilB_(touch_insensitive_larva_B)/Drosophila_erecta_combined\n",
      "Running BLASTp: Drosophila_teissieri vs Drosophila_simulans using blast_databases/tilB_(touch_insensitive_larva_B)/Drosophila_simulans_combined\n",
      "Running BLASTp: Drosophila_teissieri vs Drosophila_mauritiana using blast_databases/tilB_(touch_insensitive_larva_B)/Drosophila_mauritiana_combined\n",
      "Results for Drosophila_teissieri vs all saved to: cross_species_blast_results/tilB_(touch_insensitive_larva_B)/Drosophila_teissieri_vs_all.csv\n",
      "Running BLASTp: Drosophila_yakuba vs Drosophila_melanogaster using blast_databases/tilB_(touch_insensitive_larva_B)/Drosophila_melanogaster_combined\n",
      "Running BLASTp: Drosophila_yakuba vs Drosophila_teissieri using blast_databases/tilB_(touch_insensitive_larva_B)/Drosophila_teissieri_combined\n"
     ]
    },
    {
     "name": "stderr",
     "output_type": "stream",
     "text": [
      "/var/folders/mj/yrtz1pp53zs_hqrl2_mcw9m80000gn/T/ipykernel_11450/4042733987.py:94: FutureWarning: The behavior of DataFrame concatenation with empty or all-NA entries is deprecated. In a future version, this will no longer exclude empty or all-NA columns when determining the result dtypes. To retain the old behavior, exclude the relevant entries before the concat operation.\n",
      "  query_results_df = pd.concat([query_results_df, result_df], ignore_index=True)\n"
     ]
    },
    {
     "name": "stdout",
     "output_type": "stream",
     "text": [
      "Running BLASTp: Drosophila_yakuba vs Drosophila_ananassae using blast_databases/tilB_(touch_insensitive_larva_B)/Drosophila_ananassae_combined\n",
      "Running BLASTp: Drosophila_yakuba vs Drosophila_erecta using blast_databases/tilB_(touch_insensitive_larva_B)/Drosophila_erecta_combined\n",
      "Running BLASTp: Drosophila_yakuba vs Drosophila_simulans using blast_databases/tilB_(touch_insensitive_larva_B)/Drosophila_simulans_combined\n",
      "Running BLASTp: Drosophila_yakuba vs Drosophila_mauritiana using blast_databases/tilB_(touch_insensitive_larva_B)/Drosophila_mauritiana_combined\n",
      "Results for Drosophila_yakuba vs all saved to: cross_species_blast_results/tilB_(touch_insensitive_larva_B)/Drosophila_yakuba_vs_all.csv\n",
      "Running BLASTp: Drosophila_ananassae vs Drosophila_melanogaster using blast_databases/tilB_(touch_insensitive_larva_B)/Drosophila_melanogaster_combined\n",
      "Running BLASTp: Drosophila_ananassae vs Drosophila_teissieri using blast_databases/tilB_(touch_insensitive_larva_B)/Drosophila_teissieri_combined\n"
     ]
    },
    {
     "name": "stderr",
     "output_type": "stream",
     "text": [
      "/var/folders/mj/yrtz1pp53zs_hqrl2_mcw9m80000gn/T/ipykernel_11450/4042733987.py:94: FutureWarning: The behavior of DataFrame concatenation with empty or all-NA entries is deprecated. In a future version, this will no longer exclude empty or all-NA columns when determining the result dtypes. To retain the old behavior, exclude the relevant entries before the concat operation.\n",
      "  query_results_df = pd.concat([query_results_df, result_df], ignore_index=True)\n"
     ]
    },
    {
     "name": "stdout",
     "output_type": "stream",
     "text": [
      "Running BLASTp: Drosophila_ananassae vs Drosophila_yakuba using blast_databases/tilB_(touch_insensitive_larva_B)/Drosophila_yakuba_combined\n",
      "Running BLASTp: Drosophila_ananassae vs Drosophila_erecta using blast_databases/tilB_(touch_insensitive_larva_B)/Drosophila_erecta_combined\n",
      "Running BLASTp: Drosophila_ananassae vs Drosophila_simulans using blast_databases/tilB_(touch_insensitive_larva_B)/Drosophila_simulans_combined\n",
      "Running BLASTp: Drosophila_ananassae vs Drosophila_mauritiana using blast_databases/tilB_(touch_insensitive_larva_B)/Drosophila_mauritiana_combined\n",
      "Results for Drosophila_ananassae vs all saved to: cross_species_blast_results/tilB_(touch_insensitive_larva_B)/Drosophila_ananassae_vs_all.csv\n",
      "Running BLASTp: Drosophila_erecta vs Drosophila_melanogaster using blast_databases/tilB_(touch_insensitive_larva_B)/Drosophila_melanogaster_combined\n",
      "Running BLASTp: Drosophila_erecta vs Drosophila_teissieri using blast_databases/tilB_(touch_insensitive_larva_B)/Drosophila_teissieri_combined\n"
     ]
    },
    {
     "name": "stderr",
     "output_type": "stream",
     "text": [
      "/var/folders/mj/yrtz1pp53zs_hqrl2_mcw9m80000gn/T/ipykernel_11450/4042733987.py:94: FutureWarning: The behavior of DataFrame concatenation with empty or all-NA entries is deprecated. In a future version, this will no longer exclude empty or all-NA columns when determining the result dtypes. To retain the old behavior, exclude the relevant entries before the concat operation.\n",
      "  query_results_df = pd.concat([query_results_df, result_df], ignore_index=True)\n"
     ]
    },
    {
     "name": "stdout",
     "output_type": "stream",
     "text": [
      "Running BLASTp: Drosophila_erecta vs Drosophila_yakuba using blast_databases/tilB_(touch_insensitive_larva_B)/Drosophila_yakuba_combined\n",
      "Running BLASTp: Drosophila_erecta vs Drosophila_ananassae using blast_databases/tilB_(touch_insensitive_larva_B)/Drosophila_ananassae_combined\n",
      "Running BLASTp: Drosophila_erecta vs Drosophila_simulans using blast_databases/tilB_(touch_insensitive_larva_B)/Drosophila_simulans_combined\n",
      "Running BLASTp: Drosophila_erecta vs Drosophila_mauritiana using blast_databases/tilB_(touch_insensitive_larva_B)/Drosophila_mauritiana_combined\n",
      "Results for Drosophila_erecta vs all saved to: cross_species_blast_results/tilB_(touch_insensitive_larva_B)/Drosophila_erecta_vs_all.csv\n",
      "Running BLASTp: Drosophila_simulans vs Drosophila_melanogaster using blast_databases/tilB_(touch_insensitive_larva_B)/Drosophila_melanogaster_combined\n",
      "Running BLASTp: Drosophila_simulans vs Drosophila_teissieri using blast_databases/tilB_(touch_insensitive_larva_B)/Drosophila_teissieri_combined\n"
     ]
    },
    {
     "name": "stderr",
     "output_type": "stream",
     "text": [
      "/var/folders/mj/yrtz1pp53zs_hqrl2_mcw9m80000gn/T/ipykernel_11450/4042733987.py:94: FutureWarning: The behavior of DataFrame concatenation with empty or all-NA entries is deprecated. In a future version, this will no longer exclude empty or all-NA columns when determining the result dtypes. To retain the old behavior, exclude the relevant entries before the concat operation.\n",
      "  query_results_df = pd.concat([query_results_df, result_df], ignore_index=True)\n"
     ]
    },
    {
     "name": "stdout",
     "output_type": "stream",
     "text": [
      "Running BLASTp: Drosophila_simulans vs Drosophila_yakuba using blast_databases/tilB_(touch_insensitive_larva_B)/Drosophila_yakuba_combined\n",
      "Running BLASTp: Drosophila_simulans vs Drosophila_ananassae using blast_databases/tilB_(touch_insensitive_larva_B)/Drosophila_ananassae_combined\n",
      "Running BLASTp: Drosophila_simulans vs Drosophila_erecta using blast_databases/tilB_(touch_insensitive_larva_B)/Drosophila_erecta_combined\n",
      "Running BLASTp: Drosophila_simulans vs Drosophila_mauritiana using blast_databases/tilB_(touch_insensitive_larva_B)/Drosophila_mauritiana_combined\n",
      "Results for Drosophila_simulans vs all saved to: cross_species_blast_results/tilB_(touch_insensitive_larva_B)/Drosophila_simulans_vs_all.csv\n",
      "Running BLASTp: Drosophila_mauritiana vs Drosophila_melanogaster using blast_databases/tilB_(touch_insensitive_larva_B)/Drosophila_melanogaster_combined\n",
      "Running BLASTp: Drosophila_mauritiana vs Drosophila_teissieri using blast_databases/tilB_(touch_insensitive_larva_B)/Drosophila_teissieri_combined\n"
     ]
    },
    {
     "name": "stderr",
     "output_type": "stream",
     "text": [
      "/var/folders/mj/yrtz1pp53zs_hqrl2_mcw9m80000gn/T/ipykernel_11450/4042733987.py:94: FutureWarning: The behavior of DataFrame concatenation with empty or all-NA entries is deprecated. In a future version, this will no longer exclude empty or all-NA columns when determining the result dtypes. To retain the old behavior, exclude the relevant entries before the concat operation.\n",
      "  query_results_df = pd.concat([query_results_df, result_df], ignore_index=True)\n"
     ]
    },
    {
     "name": "stdout",
     "output_type": "stream",
     "text": [
      "Running BLASTp: Drosophila_mauritiana vs Drosophila_yakuba using blast_databases/tilB_(touch_insensitive_larva_B)/Drosophila_yakuba_combined\n",
      "Running BLASTp: Drosophila_mauritiana vs Drosophila_ananassae using blast_databases/tilB_(touch_insensitive_larva_B)/Drosophila_ananassae_combined\n",
      "Running BLASTp: Drosophila_mauritiana vs Drosophila_erecta using blast_databases/tilB_(touch_insensitive_larva_B)/Drosophila_erecta_combined\n",
      "Running BLASTp: Drosophila_mauritiana vs Drosophila_simulans using blast_databases/tilB_(touch_insensitive_larva_B)/Drosophila_simulans_combined\n",
      "Results for Drosophila_mauritiana vs all saved to: cross_species_blast_results/tilB_(touch_insensitive_larva_B)/Drosophila_mauritiana_vs_all.csv\n",
      "Processing gene: plp_(pericentrin-like_protein)\n",
      "Running BLASTp: Drosophila_melanogaster vs Drosophila_teissieri using blast_databases/plp_(pericentrin-like_protein)/Drosophila_teissieri_combined\n"
     ]
    },
    {
     "name": "stderr",
     "output_type": "stream",
     "text": [
      "/var/folders/mj/yrtz1pp53zs_hqrl2_mcw9m80000gn/T/ipykernel_11450/4042733987.py:94: FutureWarning: The behavior of DataFrame concatenation with empty or all-NA entries is deprecated. In a future version, this will no longer exclude empty or all-NA columns when determining the result dtypes. To retain the old behavior, exclude the relevant entries before the concat operation.\n",
      "  query_results_df = pd.concat([query_results_df, result_df], ignore_index=True)\n"
     ]
    },
    {
     "name": "stdout",
     "output_type": "stream",
     "text": [
      "Running BLASTp: Drosophila_melanogaster vs Drosophila_yakuba using blast_databases/plp_(pericentrin-like_protein)/Drosophila_yakuba_combined\n",
      "Running BLASTp: Drosophila_melanogaster vs Drosophila_ananassae using blast_databases/plp_(pericentrin-like_protein)/Drosophila_ananassae_combined\n",
      "Running BLASTp: Drosophila_melanogaster vs Drosophila_erecta using blast_databases/plp_(pericentrin-like_protein)/Drosophila_erecta_combined\n",
      "Running BLASTp: Drosophila_melanogaster vs Drosophila_simulans using blast_databases/plp_(pericentrin-like_protein)/Drosophila_simulans_combined\n",
      "Running BLASTp: Drosophila_melanogaster vs Drosophila_mauritiana using blast_databases/plp_(pericentrin-like_protein)/Drosophila_mauritiana_combined\n",
      "Results for Drosophila_melanogaster vs all saved to: cross_species_blast_results/plp_(pericentrin-like_protein)/Drosophila_melanogaster_vs_all.csv\n",
      "Running BLASTp: Drosophila_teissieri vs Drosophila_melanogaster using blast_databases/plp_(pericentrin-like_protein)/Drosophila_melanogaster_combined\n"
     ]
    },
    {
     "name": "stderr",
     "output_type": "stream",
     "text": [
      "/var/folders/mj/yrtz1pp53zs_hqrl2_mcw9m80000gn/T/ipykernel_11450/4042733987.py:94: FutureWarning: The behavior of DataFrame concatenation with empty or all-NA entries is deprecated. In a future version, this will no longer exclude empty or all-NA columns when determining the result dtypes. To retain the old behavior, exclude the relevant entries before the concat operation.\n",
      "  query_results_df = pd.concat([query_results_df, result_df], ignore_index=True)\n"
     ]
    },
    {
     "name": "stdout",
     "output_type": "stream",
     "text": [
      "Running BLASTp: Drosophila_teissieri vs Drosophila_yakuba using blast_databases/plp_(pericentrin-like_protein)/Drosophila_yakuba_combined\n",
      "Running BLASTp: Drosophila_teissieri vs Drosophila_ananassae using blast_databases/plp_(pericentrin-like_protein)/Drosophila_ananassae_combined\n",
      "Running BLASTp: Drosophila_teissieri vs Drosophila_erecta using blast_databases/plp_(pericentrin-like_protein)/Drosophila_erecta_combined\n",
      "Running BLASTp: Drosophila_teissieri vs Drosophila_simulans using blast_databases/plp_(pericentrin-like_protein)/Drosophila_simulans_combined\n",
      "Running BLASTp: Drosophila_teissieri vs Drosophila_mauritiana using blast_databases/plp_(pericentrin-like_protein)/Drosophila_mauritiana_combined\n",
      "Results for Drosophila_teissieri vs all saved to: cross_species_blast_results/plp_(pericentrin-like_protein)/Drosophila_teissieri_vs_all.csv\n",
      "Running BLASTp: Drosophila_yakuba vs Drosophila_melanogaster using blast_databases/plp_(pericentrin-like_protein)/Drosophila_melanogaster_combined\n"
     ]
    },
    {
     "name": "stderr",
     "output_type": "stream",
     "text": [
      "/var/folders/mj/yrtz1pp53zs_hqrl2_mcw9m80000gn/T/ipykernel_11450/4042733987.py:94: FutureWarning: The behavior of DataFrame concatenation with empty or all-NA entries is deprecated. In a future version, this will no longer exclude empty or all-NA columns when determining the result dtypes. To retain the old behavior, exclude the relevant entries before the concat operation.\n",
      "  query_results_df = pd.concat([query_results_df, result_df], ignore_index=True)\n"
     ]
    },
    {
     "name": "stdout",
     "output_type": "stream",
     "text": [
      "Running BLASTp: Drosophila_yakuba vs Drosophila_teissieri using blast_databases/plp_(pericentrin-like_protein)/Drosophila_teissieri_combined\n",
      "Running BLASTp: Drosophila_yakuba vs Drosophila_ananassae using blast_databases/plp_(pericentrin-like_protein)/Drosophila_ananassae_combined\n",
      "Running BLASTp: Drosophila_yakuba vs Drosophila_erecta using blast_databases/plp_(pericentrin-like_protein)/Drosophila_erecta_combined\n",
      "Running BLASTp: Drosophila_yakuba vs Drosophila_simulans using blast_databases/plp_(pericentrin-like_protein)/Drosophila_simulans_combined\n",
      "Running BLASTp: Drosophila_yakuba vs Drosophila_mauritiana using blast_databases/plp_(pericentrin-like_protein)/Drosophila_mauritiana_combined\n",
      "Results for Drosophila_yakuba vs all saved to: cross_species_blast_results/plp_(pericentrin-like_protein)/Drosophila_yakuba_vs_all.csv\n",
      "Running BLASTp: Drosophila_ananassae vs Drosophila_melanogaster using blast_databases/plp_(pericentrin-like_protein)/Drosophila_melanogaster_combined\n"
     ]
    },
    {
     "name": "stderr",
     "output_type": "stream",
     "text": [
      "/var/folders/mj/yrtz1pp53zs_hqrl2_mcw9m80000gn/T/ipykernel_11450/4042733987.py:94: FutureWarning: The behavior of DataFrame concatenation with empty or all-NA entries is deprecated. In a future version, this will no longer exclude empty or all-NA columns when determining the result dtypes. To retain the old behavior, exclude the relevant entries before the concat operation.\n",
      "  query_results_df = pd.concat([query_results_df, result_df], ignore_index=True)\n"
     ]
    },
    {
     "name": "stdout",
     "output_type": "stream",
     "text": [
      "Running BLASTp: Drosophila_ananassae vs Drosophila_teissieri using blast_databases/plp_(pericentrin-like_protein)/Drosophila_teissieri_combined\n",
      "Running BLASTp: Drosophila_ananassae vs Drosophila_yakuba using blast_databases/plp_(pericentrin-like_protein)/Drosophila_yakuba_combined\n",
      "Running BLASTp: Drosophila_ananassae vs Drosophila_erecta using blast_databases/plp_(pericentrin-like_protein)/Drosophila_erecta_combined\n",
      "Running BLASTp: Drosophila_ananassae vs Drosophila_simulans using blast_databases/plp_(pericentrin-like_protein)/Drosophila_simulans_combined\n",
      "Running BLASTp: Drosophila_ananassae vs Drosophila_mauritiana using blast_databases/plp_(pericentrin-like_protein)/Drosophila_mauritiana_combined\n",
      "Results for Drosophila_ananassae vs all saved to: cross_species_blast_results/plp_(pericentrin-like_protein)/Drosophila_ananassae_vs_all.csv\n",
      "Running BLASTp: Drosophila_erecta vs Drosophila_melanogaster using blast_databases/plp_(pericentrin-like_protein)/Drosophila_melanogaster_combined\n"
     ]
    },
    {
     "name": "stderr",
     "output_type": "stream",
     "text": [
      "/var/folders/mj/yrtz1pp53zs_hqrl2_mcw9m80000gn/T/ipykernel_11450/4042733987.py:94: FutureWarning: The behavior of DataFrame concatenation with empty or all-NA entries is deprecated. In a future version, this will no longer exclude empty or all-NA columns when determining the result dtypes. To retain the old behavior, exclude the relevant entries before the concat operation.\n",
      "  query_results_df = pd.concat([query_results_df, result_df], ignore_index=True)\n"
     ]
    },
    {
     "name": "stdout",
     "output_type": "stream",
     "text": [
      "Running BLASTp: Drosophila_erecta vs Drosophila_teissieri using blast_databases/plp_(pericentrin-like_protein)/Drosophila_teissieri_combined\n",
      "Running BLASTp: Drosophila_erecta vs Drosophila_yakuba using blast_databases/plp_(pericentrin-like_protein)/Drosophila_yakuba_combined\n",
      "Running BLASTp: Drosophila_erecta vs Drosophila_ananassae using blast_databases/plp_(pericentrin-like_protein)/Drosophila_ananassae_combined\n",
      "Running BLASTp: Drosophila_erecta vs Drosophila_simulans using blast_databases/plp_(pericentrin-like_protein)/Drosophila_simulans_combined\n",
      "Running BLASTp: Drosophila_erecta vs Drosophila_mauritiana using blast_databases/plp_(pericentrin-like_protein)/Drosophila_mauritiana_combined\n",
      "Results for Drosophila_erecta vs all saved to: cross_species_blast_results/plp_(pericentrin-like_protein)/Drosophila_erecta_vs_all.csv\n",
      "Running BLASTp: Drosophila_simulans vs Drosophila_melanogaster using blast_databases/plp_(pericentrin-like_protein)/Drosophila_melanogaster_combined\n"
     ]
    },
    {
     "name": "stderr",
     "output_type": "stream",
     "text": [
      "/var/folders/mj/yrtz1pp53zs_hqrl2_mcw9m80000gn/T/ipykernel_11450/4042733987.py:94: FutureWarning: The behavior of DataFrame concatenation with empty or all-NA entries is deprecated. In a future version, this will no longer exclude empty or all-NA columns when determining the result dtypes. To retain the old behavior, exclude the relevant entries before the concat operation.\n",
      "  query_results_df = pd.concat([query_results_df, result_df], ignore_index=True)\n"
     ]
    },
    {
     "name": "stdout",
     "output_type": "stream",
     "text": [
      "Running BLASTp: Drosophila_simulans vs Drosophila_teissieri using blast_databases/plp_(pericentrin-like_protein)/Drosophila_teissieri_combined\n",
      "Running BLASTp: Drosophila_simulans vs Drosophila_yakuba using blast_databases/plp_(pericentrin-like_protein)/Drosophila_yakuba_combined\n",
      "Running BLASTp: Drosophila_simulans vs Drosophila_ananassae using blast_databases/plp_(pericentrin-like_protein)/Drosophila_ananassae_combined\n",
      "Running BLASTp: Drosophila_simulans vs Drosophila_erecta using blast_databases/plp_(pericentrin-like_protein)/Drosophila_erecta_combined\n",
      "Running BLASTp: Drosophila_simulans vs Drosophila_mauritiana using blast_databases/plp_(pericentrin-like_protein)/Drosophila_mauritiana_combined\n",
      "Results for Drosophila_simulans vs all saved to: cross_species_blast_results/plp_(pericentrin-like_protein)/Drosophila_simulans_vs_all.csv\n",
      "Running BLASTp: Drosophila_mauritiana vs Drosophila_melanogaster using blast_databases/plp_(pericentrin-like_protein)/Drosophila_melanogaster_combined\n"
     ]
    },
    {
     "name": "stderr",
     "output_type": "stream",
     "text": [
      "/var/folders/mj/yrtz1pp53zs_hqrl2_mcw9m80000gn/T/ipykernel_11450/4042733987.py:94: FutureWarning: The behavior of DataFrame concatenation with empty or all-NA entries is deprecated. In a future version, this will no longer exclude empty or all-NA columns when determining the result dtypes. To retain the old behavior, exclude the relevant entries before the concat operation.\n",
      "  query_results_df = pd.concat([query_results_df, result_df], ignore_index=True)\n"
     ]
    },
    {
     "name": "stdout",
     "output_type": "stream",
     "text": [
      "Running BLASTp: Drosophila_mauritiana vs Drosophila_teissieri using blast_databases/plp_(pericentrin-like_protein)/Drosophila_teissieri_combined\n",
      "Running BLASTp: Drosophila_mauritiana vs Drosophila_yakuba using blast_databases/plp_(pericentrin-like_protein)/Drosophila_yakuba_combined\n",
      "Running BLASTp: Drosophila_mauritiana vs Drosophila_ananassae using blast_databases/plp_(pericentrin-like_protein)/Drosophila_ananassae_combined\n",
      "Running BLASTp: Drosophila_mauritiana vs Drosophila_erecta using blast_databases/plp_(pericentrin-like_protein)/Drosophila_erecta_combined\n",
      "Running BLASTp: Drosophila_mauritiana vs Drosophila_simulans using blast_databases/plp_(pericentrin-like_protein)/Drosophila_simulans_combined\n",
      "Results for Drosophila_mauritiana vs all saved to: cross_species_blast_results/plp_(pericentrin-like_protein)/Drosophila_mauritiana_vs_all.csv\n",
      "Processing gene: wtrw_(water_witch)\n",
      "Running BLASTp: Drosophila_melanogaster vs Drosophila_teissieri using blast_databases/wtrw_(water_witch)/Drosophila_teissieri_combined\n",
      "Running BLASTp: Drosophila_melanogaster vs Drosophila_yakuba using blast_databases/wtrw_(water_witch)/Drosophila_yakuba_combined\n"
     ]
    },
    {
     "name": "stderr",
     "output_type": "stream",
     "text": [
      "/var/folders/mj/yrtz1pp53zs_hqrl2_mcw9m80000gn/T/ipykernel_11450/4042733987.py:94: FutureWarning: The behavior of DataFrame concatenation with empty or all-NA entries is deprecated. In a future version, this will no longer exclude empty or all-NA columns when determining the result dtypes. To retain the old behavior, exclude the relevant entries before the concat operation.\n",
      "  query_results_df = pd.concat([query_results_df, result_df], ignore_index=True)\n"
     ]
    },
    {
     "name": "stdout",
     "output_type": "stream",
     "text": [
      "Running BLASTp: Drosophila_melanogaster vs Drosophila_ananassae using blast_databases/wtrw_(water_witch)/Drosophila_ananassae_combined\n",
      "Running BLASTp: Drosophila_melanogaster vs Drosophila_erecta using blast_databases/wtrw_(water_witch)/Drosophila_erecta_combined\n",
      "Running BLASTp: Drosophila_melanogaster vs Drosophila_simulans using blast_databases/wtrw_(water_witch)/Drosophila_simulans_combined\n",
      "Running BLASTp: Drosophila_melanogaster vs Drosophila_mauritiana using blast_databases/wtrw_(water_witch)/Drosophila_mauritiana_combined\n",
      "Results for Drosophila_melanogaster vs all saved to: cross_species_blast_results/wtrw_(water_witch)/Drosophila_melanogaster_vs_all.csv\n",
      "Running BLASTp: Drosophila_teissieri vs Drosophila_melanogaster using blast_databases/wtrw_(water_witch)/Drosophila_melanogaster_combined\n",
      "Running BLASTp: Drosophila_teissieri vs Drosophila_yakuba using blast_databases/wtrw_(water_witch)/Drosophila_yakuba_combined\n"
     ]
    },
    {
     "name": "stderr",
     "output_type": "stream",
     "text": [
      "/var/folders/mj/yrtz1pp53zs_hqrl2_mcw9m80000gn/T/ipykernel_11450/4042733987.py:94: FutureWarning: The behavior of DataFrame concatenation with empty or all-NA entries is deprecated. In a future version, this will no longer exclude empty or all-NA columns when determining the result dtypes. To retain the old behavior, exclude the relevant entries before the concat operation.\n",
      "  query_results_df = pd.concat([query_results_df, result_df], ignore_index=True)\n"
     ]
    },
    {
     "name": "stdout",
     "output_type": "stream",
     "text": [
      "Running BLASTp: Drosophila_teissieri vs Drosophila_ananassae using blast_databases/wtrw_(water_witch)/Drosophila_ananassae_combined\n",
      "Running BLASTp: Drosophila_teissieri vs Drosophila_erecta using blast_databases/wtrw_(water_witch)/Drosophila_erecta_combined\n",
      "Running BLASTp: Drosophila_teissieri vs Drosophila_simulans using blast_databases/wtrw_(water_witch)/Drosophila_simulans_combined\n",
      "Running BLASTp: Drosophila_teissieri vs Drosophila_mauritiana using blast_databases/wtrw_(water_witch)/Drosophila_mauritiana_combined\n",
      "Results for Drosophila_teissieri vs all saved to: cross_species_blast_results/wtrw_(water_witch)/Drosophila_teissieri_vs_all.csv\n",
      "Running BLASTp: Drosophila_yakuba vs Drosophila_melanogaster using blast_databases/wtrw_(water_witch)/Drosophila_melanogaster_combined\n"
     ]
    },
    {
     "name": "stderr",
     "output_type": "stream",
     "text": [
      "/var/folders/mj/yrtz1pp53zs_hqrl2_mcw9m80000gn/T/ipykernel_11450/4042733987.py:94: FutureWarning: The behavior of DataFrame concatenation with empty or all-NA entries is deprecated. In a future version, this will no longer exclude empty or all-NA columns when determining the result dtypes. To retain the old behavior, exclude the relevant entries before the concat operation.\n",
      "  query_results_df = pd.concat([query_results_df, result_df], ignore_index=True)\n"
     ]
    },
    {
     "name": "stdout",
     "output_type": "stream",
     "text": [
      "Running BLASTp: Drosophila_yakuba vs Drosophila_teissieri using blast_databases/wtrw_(water_witch)/Drosophila_teissieri_combined\n",
      "Running BLASTp: Drosophila_yakuba vs Drosophila_ananassae using blast_databases/wtrw_(water_witch)/Drosophila_ananassae_combined\n",
      "Running BLASTp: Drosophila_yakuba vs Drosophila_erecta using blast_databases/wtrw_(water_witch)/Drosophila_erecta_combined\n",
      "Running BLASTp: Drosophila_yakuba vs Drosophila_simulans using blast_databases/wtrw_(water_witch)/Drosophila_simulans_combined\n",
      "Running BLASTp: Drosophila_yakuba vs Drosophila_mauritiana using blast_databases/wtrw_(water_witch)/Drosophila_mauritiana_combined\n",
      "Results for Drosophila_yakuba vs all saved to: cross_species_blast_results/wtrw_(water_witch)/Drosophila_yakuba_vs_all.csv\n",
      "Running BLASTp: Drosophila_ananassae vs Drosophila_melanogaster using blast_databases/wtrw_(water_witch)/Drosophila_melanogaster_combined\n"
     ]
    },
    {
     "name": "stderr",
     "output_type": "stream",
     "text": [
      "/var/folders/mj/yrtz1pp53zs_hqrl2_mcw9m80000gn/T/ipykernel_11450/4042733987.py:94: FutureWarning: The behavior of DataFrame concatenation with empty or all-NA entries is deprecated. In a future version, this will no longer exclude empty or all-NA columns when determining the result dtypes. To retain the old behavior, exclude the relevant entries before the concat operation.\n",
      "  query_results_df = pd.concat([query_results_df, result_df], ignore_index=True)\n"
     ]
    },
    {
     "name": "stdout",
     "output_type": "stream",
     "text": [
      "Running BLASTp: Drosophila_ananassae vs Drosophila_teissieri using blast_databases/wtrw_(water_witch)/Drosophila_teissieri_combined\n",
      "Running BLASTp: Drosophila_ananassae vs Drosophila_yakuba using blast_databases/wtrw_(water_witch)/Drosophila_yakuba_combined\n",
      "Running BLASTp: Drosophila_ananassae vs Drosophila_erecta using blast_databases/wtrw_(water_witch)/Drosophila_erecta_combined\n",
      "Running BLASTp: Drosophila_ananassae vs Drosophila_simulans using blast_databases/wtrw_(water_witch)/Drosophila_simulans_combined\n",
      "Running BLASTp: Drosophila_ananassae vs Drosophila_mauritiana using blast_databases/wtrw_(water_witch)/Drosophila_mauritiana_combined\n",
      "Results for Drosophila_ananassae vs all saved to: cross_species_blast_results/wtrw_(water_witch)/Drosophila_ananassae_vs_all.csv\n",
      "Running BLASTp: Drosophila_erecta vs Drosophila_melanogaster using blast_databases/wtrw_(water_witch)/Drosophila_melanogaster_combined\n",
      "Running BLASTp: Drosophila_erecta vs Drosophila_teissieri using blast_databases/wtrw_(water_witch)/Drosophila_teissieri_combined\n"
     ]
    },
    {
     "name": "stderr",
     "output_type": "stream",
     "text": [
      "/var/folders/mj/yrtz1pp53zs_hqrl2_mcw9m80000gn/T/ipykernel_11450/4042733987.py:94: FutureWarning: The behavior of DataFrame concatenation with empty or all-NA entries is deprecated. In a future version, this will no longer exclude empty or all-NA columns when determining the result dtypes. To retain the old behavior, exclude the relevant entries before the concat operation.\n",
      "  query_results_df = pd.concat([query_results_df, result_df], ignore_index=True)\n"
     ]
    },
    {
     "name": "stdout",
     "output_type": "stream",
     "text": [
      "Running BLASTp: Drosophila_erecta vs Drosophila_yakuba using blast_databases/wtrw_(water_witch)/Drosophila_yakuba_combined\n",
      "Running BLASTp: Drosophila_erecta vs Drosophila_ananassae using blast_databases/wtrw_(water_witch)/Drosophila_ananassae_combined\n",
      "Running BLASTp: Drosophila_erecta vs Drosophila_simulans using blast_databases/wtrw_(water_witch)/Drosophila_simulans_combined\n",
      "Running BLASTp: Drosophila_erecta vs Drosophila_mauritiana using blast_databases/wtrw_(water_witch)/Drosophila_mauritiana_combined\n",
      "Results for Drosophila_erecta vs all saved to: cross_species_blast_results/wtrw_(water_witch)/Drosophila_erecta_vs_all.csv\n",
      "Running BLASTp: Drosophila_simulans vs Drosophila_melanogaster using blast_databases/wtrw_(water_witch)/Drosophila_melanogaster_combined\n",
      "Running BLASTp: Drosophila_simulans vs Drosophila_teissieri using blast_databases/wtrw_(water_witch)/Drosophila_teissieri_combined\n"
     ]
    },
    {
     "name": "stderr",
     "output_type": "stream",
     "text": [
      "/var/folders/mj/yrtz1pp53zs_hqrl2_mcw9m80000gn/T/ipykernel_11450/4042733987.py:94: FutureWarning: The behavior of DataFrame concatenation with empty or all-NA entries is deprecated. In a future version, this will no longer exclude empty or all-NA columns when determining the result dtypes. To retain the old behavior, exclude the relevant entries before the concat operation.\n",
      "  query_results_df = pd.concat([query_results_df, result_df], ignore_index=True)\n"
     ]
    },
    {
     "name": "stdout",
     "output_type": "stream",
     "text": [
      "Running BLASTp: Drosophila_simulans vs Drosophila_yakuba using blast_databases/wtrw_(water_witch)/Drosophila_yakuba_combined\n",
      "Running BLASTp: Drosophila_simulans vs Drosophila_ananassae using blast_databases/wtrw_(water_witch)/Drosophila_ananassae_combined\n",
      "Running BLASTp: Drosophila_simulans vs Drosophila_erecta using blast_databases/wtrw_(water_witch)/Drosophila_erecta_combined\n",
      "Running BLASTp: Drosophila_simulans vs Drosophila_mauritiana using blast_databases/wtrw_(water_witch)/Drosophila_mauritiana_combined\n",
      "Results for Drosophila_simulans vs all saved to: cross_species_blast_results/wtrw_(water_witch)/Drosophila_simulans_vs_all.csv\n",
      "Running BLASTp: Drosophila_mauritiana vs Drosophila_melanogaster using blast_databases/wtrw_(water_witch)/Drosophila_melanogaster_combined\n",
      "Running BLASTp: Drosophila_mauritiana vs Drosophila_teissieri using blast_databases/wtrw_(water_witch)/Drosophila_teissieri_combined\n"
     ]
    },
    {
     "name": "stderr",
     "output_type": "stream",
     "text": [
      "/var/folders/mj/yrtz1pp53zs_hqrl2_mcw9m80000gn/T/ipykernel_11450/4042733987.py:94: FutureWarning: The behavior of DataFrame concatenation with empty or all-NA entries is deprecated. In a future version, this will no longer exclude empty or all-NA columns when determining the result dtypes. To retain the old behavior, exclude the relevant entries before the concat operation.\n",
      "  query_results_df = pd.concat([query_results_df, result_df], ignore_index=True)\n"
     ]
    },
    {
     "name": "stdout",
     "output_type": "stream",
     "text": [
      "Running BLASTp: Drosophila_mauritiana vs Drosophila_yakuba using blast_databases/wtrw_(water_witch)/Drosophila_yakuba_combined\n",
      "Running BLASTp: Drosophila_mauritiana vs Drosophila_ananassae using blast_databases/wtrw_(water_witch)/Drosophila_ananassae_combined\n",
      "Running BLASTp: Drosophila_mauritiana vs Drosophila_erecta using blast_databases/wtrw_(water_witch)/Drosophila_erecta_combined\n",
      "Running BLASTp: Drosophila_mauritiana vs Drosophila_simulans using blast_databases/wtrw_(water_witch)/Drosophila_simulans_combined\n",
      "Results for Drosophila_mauritiana vs all saved to: cross_species_blast_results/wtrw_(water_witch)/Drosophila_mauritiana_vs_all.csv\n",
      "Processing gene: Eb1\n",
      "Running BLASTp: Drosophila_melanogaster vs Drosophila_teissieri using blast_databases/Eb1/Drosophila_teissieri_combined\n"
     ]
    },
    {
     "name": "stderr",
     "output_type": "stream",
     "text": [
      "/var/folders/mj/yrtz1pp53zs_hqrl2_mcw9m80000gn/T/ipykernel_11450/4042733987.py:94: FutureWarning: The behavior of DataFrame concatenation with empty or all-NA entries is deprecated. In a future version, this will no longer exclude empty or all-NA columns when determining the result dtypes. To retain the old behavior, exclude the relevant entries before the concat operation.\n",
      "  query_results_df = pd.concat([query_results_df, result_df], ignore_index=True)\n"
     ]
    },
    {
     "name": "stdout",
     "output_type": "stream",
     "text": [
      "Running BLASTp: Drosophila_melanogaster vs Drosophila_yakuba using blast_databases/Eb1/Drosophila_yakuba_combined\n",
      "Running BLASTp: Drosophila_melanogaster vs Drosophila_ananassae using blast_databases/Eb1/Drosophila_ananassae_combined\n",
      "Running BLASTp: Drosophila_melanogaster vs Drosophila_erecta using blast_databases/Eb1/Drosophila_erecta_combined\n",
      "Running BLASTp: Drosophila_melanogaster vs Drosophila_simulans using blast_databases/Eb1/Drosophila_simulans_combined\n",
      "Running BLASTp: Drosophila_melanogaster vs Drosophila_mauritiana using blast_databases/Eb1/Drosophila_mauritiana_combined\n",
      "Results for Drosophila_melanogaster vs all saved to: cross_species_blast_results/Eb1/Drosophila_melanogaster_vs_all.csv\n",
      "Running BLASTp: Drosophila_teissieri vs Drosophila_melanogaster using blast_databases/Eb1/Drosophila_melanogaster_combined\n"
     ]
    },
    {
     "name": "stderr",
     "output_type": "stream",
     "text": [
      "/var/folders/mj/yrtz1pp53zs_hqrl2_mcw9m80000gn/T/ipykernel_11450/4042733987.py:94: FutureWarning: The behavior of DataFrame concatenation with empty or all-NA entries is deprecated. In a future version, this will no longer exclude empty or all-NA columns when determining the result dtypes. To retain the old behavior, exclude the relevant entries before the concat operation.\n",
      "  query_results_df = pd.concat([query_results_df, result_df], ignore_index=True)\n"
     ]
    },
    {
     "name": "stdout",
     "output_type": "stream",
     "text": [
      "Running BLASTp: Drosophila_teissieri vs Drosophila_yakuba using blast_databases/Eb1/Drosophila_yakuba_combined\n",
      "Running BLASTp: Drosophila_teissieri vs Drosophila_ananassae using blast_databases/Eb1/Drosophila_ananassae_combined\n",
      "Running BLASTp: Drosophila_teissieri vs Drosophila_erecta using blast_databases/Eb1/Drosophila_erecta_combined\n",
      "Running BLASTp: Drosophila_teissieri vs Drosophila_simulans using blast_databases/Eb1/Drosophila_simulans_combined\n",
      "Running BLASTp: Drosophila_teissieri vs Drosophila_mauritiana using blast_databases/Eb1/Drosophila_mauritiana_combined\n",
      "Results for Drosophila_teissieri vs all saved to: cross_species_blast_results/Eb1/Drosophila_teissieri_vs_all.csv\n",
      "Running BLASTp: Drosophila_yakuba vs Drosophila_melanogaster using blast_databases/Eb1/Drosophila_melanogaster_combined\n",
      "Running BLASTp: Drosophila_yakuba vs Drosophila_teissieri using blast_databases/Eb1/Drosophila_teissieri_combined\n"
     ]
    },
    {
     "name": "stderr",
     "output_type": "stream",
     "text": [
      "/var/folders/mj/yrtz1pp53zs_hqrl2_mcw9m80000gn/T/ipykernel_11450/4042733987.py:94: FutureWarning: The behavior of DataFrame concatenation with empty or all-NA entries is deprecated. In a future version, this will no longer exclude empty or all-NA columns when determining the result dtypes. To retain the old behavior, exclude the relevant entries before the concat operation.\n",
      "  query_results_df = pd.concat([query_results_df, result_df], ignore_index=True)\n"
     ]
    },
    {
     "name": "stdout",
     "output_type": "stream",
     "text": [
      "Running BLASTp: Drosophila_yakuba vs Drosophila_ananassae using blast_databases/Eb1/Drosophila_ananassae_combined\n",
      "Running BLASTp: Drosophila_yakuba vs Drosophila_erecta using blast_databases/Eb1/Drosophila_erecta_combined\n",
      "Running BLASTp: Drosophila_yakuba vs Drosophila_simulans using blast_databases/Eb1/Drosophila_simulans_combined\n",
      "Running BLASTp: Drosophila_yakuba vs Drosophila_mauritiana using blast_databases/Eb1/Drosophila_mauritiana_combined\n",
      "Results for Drosophila_yakuba vs all saved to: cross_species_blast_results/Eb1/Drosophila_yakuba_vs_all.csv\n",
      "Running BLASTp: Drosophila_ananassae vs Drosophila_melanogaster using blast_databases/Eb1/Drosophila_melanogaster_combined\n",
      "Running BLASTp: Drosophila_ananassae vs Drosophila_teissieri using blast_databases/Eb1/Drosophila_teissieri_combined\n"
     ]
    },
    {
     "name": "stderr",
     "output_type": "stream",
     "text": [
      "/var/folders/mj/yrtz1pp53zs_hqrl2_mcw9m80000gn/T/ipykernel_11450/4042733987.py:94: FutureWarning: The behavior of DataFrame concatenation with empty or all-NA entries is deprecated. In a future version, this will no longer exclude empty or all-NA columns when determining the result dtypes. To retain the old behavior, exclude the relevant entries before the concat operation.\n",
      "  query_results_df = pd.concat([query_results_df, result_df], ignore_index=True)\n"
     ]
    },
    {
     "name": "stdout",
     "output_type": "stream",
     "text": [
      "Running BLASTp: Drosophila_ananassae vs Drosophila_yakuba using blast_databases/Eb1/Drosophila_yakuba_combined\n",
      "Running BLASTp: Drosophila_ananassae vs Drosophila_erecta using blast_databases/Eb1/Drosophila_erecta_combined\n",
      "Running BLASTp: Drosophila_ananassae vs Drosophila_simulans using blast_databases/Eb1/Drosophila_simulans_combined\n",
      "Running BLASTp: Drosophila_ananassae vs Drosophila_mauritiana using blast_databases/Eb1/Drosophila_mauritiana_combined\n",
      "Results for Drosophila_ananassae vs all saved to: cross_species_blast_results/Eb1/Drosophila_ananassae_vs_all.csv\n",
      "Running BLASTp: Drosophila_erecta vs Drosophila_melanogaster using blast_databases/Eb1/Drosophila_melanogaster_combined\n",
      "Running BLASTp: Drosophila_erecta vs Drosophila_teissieri using blast_databases/Eb1/Drosophila_teissieri_combined\n"
     ]
    },
    {
     "name": "stderr",
     "output_type": "stream",
     "text": [
      "/var/folders/mj/yrtz1pp53zs_hqrl2_mcw9m80000gn/T/ipykernel_11450/4042733987.py:94: FutureWarning: The behavior of DataFrame concatenation with empty or all-NA entries is deprecated. In a future version, this will no longer exclude empty or all-NA columns when determining the result dtypes. To retain the old behavior, exclude the relevant entries before the concat operation.\n",
      "  query_results_df = pd.concat([query_results_df, result_df], ignore_index=True)\n"
     ]
    },
    {
     "name": "stdout",
     "output_type": "stream",
     "text": [
      "Running BLASTp: Drosophila_erecta vs Drosophila_yakuba using blast_databases/Eb1/Drosophila_yakuba_combined\n",
      "Running BLASTp: Drosophila_erecta vs Drosophila_ananassae using blast_databases/Eb1/Drosophila_ananassae_combined\n",
      "Running BLASTp: Drosophila_erecta vs Drosophila_simulans using blast_databases/Eb1/Drosophila_simulans_combined\n",
      "Running BLASTp: Drosophila_erecta vs Drosophila_mauritiana using blast_databases/Eb1/Drosophila_mauritiana_combined\n",
      "Results for Drosophila_erecta vs all saved to: cross_species_blast_results/Eb1/Drosophila_erecta_vs_all.csv\n",
      "Running BLASTp: Drosophila_simulans vs Drosophila_melanogaster using blast_databases/Eb1/Drosophila_melanogaster_combined\n",
      "Running BLASTp: Drosophila_simulans vs Drosophila_teissieri using blast_databases/Eb1/Drosophila_teissieri_combined\n"
     ]
    },
    {
     "name": "stderr",
     "output_type": "stream",
     "text": [
      "/var/folders/mj/yrtz1pp53zs_hqrl2_mcw9m80000gn/T/ipykernel_11450/4042733987.py:94: FutureWarning: The behavior of DataFrame concatenation with empty or all-NA entries is deprecated. In a future version, this will no longer exclude empty or all-NA columns when determining the result dtypes. To retain the old behavior, exclude the relevant entries before the concat operation.\n",
      "  query_results_df = pd.concat([query_results_df, result_df], ignore_index=True)\n"
     ]
    },
    {
     "name": "stdout",
     "output_type": "stream",
     "text": [
      "Running BLASTp: Drosophila_simulans vs Drosophila_yakuba using blast_databases/Eb1/Drosophila_yakuba_combined\n",
      "Running BLASTp: Drosophila_simulans vs Drosophila_ananassae using blast_databases/Eb1/Drosophila_ananassae_combined\n",
      "Running BLASTp: Drosophila_simulans vs Drosophila_erecta using blast_databases/Eb1/Drosophila_erecta_combined\n",
      "Running BLASTp: Drosophila_simulans vs Drosophila_mauritiana using blast_databases/Eb1/Drosophila_mauritiana_combined\n",
      "Results for Drosophila_simulans vs all saved to: cross_species_blast_results/Eb1/Drosophila_simulans_vs_all.csv\n",
      "Running BLASTp: Drosophila_mauritiana vs Drosophila_melanogaster using blast_databases/Eb1/Drosophila_melanogaster_combined\n",
      "Running BLASTp: Drosophila_mauritiana vs Drosophila_teissieri using blast_databases/Eb1/Drosophila_teissieri_combined\n"
     ]
    },
    {
     "name": "stderr",
     "output_type": "stream",
     "text": [
      "/var/folders/mj/yrtz1pp53zs_hqrl2_mcw9m80000gn/T/ipykernel_11450/4042733987.py:94: FutureWarning: The behavior of DataFrame concatenation with empty or all-NA entries is deprecated. In a future version, this will no longer exclude empty or all-NA columns when determining the result dtypes. To retain the old behavior, exclude the relevant entries before the concat operation.\n",
      "  query_results_df = pd.concat([query_results_df, result_df], ignore_index=True)\n"
     ]
    },
    {
     "name": "stdout",
     "output_type": "stream",
     "text": [
      "Running BLASTp: Drosophila_mauritiana vs Drosophila_yakuba using blast_databases/Eb1/Drosophila_yakuba_combined\n",
      "Running BLASTp: Drosophila_mauritiana vs Drosophila_ananassae using blast_databases/Eb1/Drosophila_ananassae_combined\n",
      "Running BLASTp: Drosophila_mauritiana vs Drosophila_erecta using blast_databases/Eb1/Drosophila_erecta_combined\n",
      "Running BLASTp: Drosophila_mauritiana vs Drosophila_simulans using blast_databases/Eb1/Drosophila_simulans_combined\n",
      "Results for Drosophila_mauritiana vs all saved to: cross_species_blast_results/Eb1/Drosophila_mauritiana_vs_all.csv\n",
      "Processing gene: rempA_(reduced_mechanoreceptor_potential_A)\n",
      "Running BLASTp: Drosophila_melanogaster vs Drosophila_teissieri using blast_databases/rempA_(reduced_mechanoreceptor_potential_A)/Drosophila_teissieri_combined\n",
      "Running BLASTp: Drosophila_melanogaster vs Drosophila_yakuba using blast_databases/rempA_(reduced_mechanoreceptor_potential_A)/Drosophila_yakuba_combined\n"
     ]
    },
    {
     "name": "stderr",
     "output_type": "stream",
     "text": [
      "/var/folders/mj/yrtz1pp53zs_hqrl2_mcw9m80000gn/T/ipykernel_11450/4042733987.py:94: FutureWarning: The behavior of DataFrame concatenation with empty or all-NA entries is deprecated. In a future version, this will no longer exclude empty or all-NA columns when determining the result dtypes. To retain the old behavior, exclude the relevant entries before the concat operation.\n",
      "  query_results_df = pd.concat([query_results_df, result_df], ignore_index=True)\n"
     ]
    },
    {
     "name": "stdout",
     "output_type": "stream",
     "text": [
      "Running BLASTp: Drosophila_melanogaster vs Drosophila_ananassae using blast_databases/rempA_(reduced_mechanoreceptor_potential_A)/Drosophila_ananassae_combined\n",
      "Running BLASTp: Drosophila_melanogaster vs Drosophila_erecta using blast_databases/rempA_(reduced_mechanoreceptor_potential_A)/Drosophila_erecta_combined\n",
      "Running BLASTp: Drosophila_melanogaster vs Drosophila_simulans using blast_databases/rempA_(reduced_mechanoreceptor_potential_A)/Drosophila_simulans_combined\n",
      "Running BLASTp: Drosophila_melanogaster vs Drosophila_mauritiana using blast_databases/rempA_(reduced_mechanoreceptor_potential_A)/Drosophila_mauritiana_combined\n",
      "Results for Drosophila_melanogaster vs all saved to: cross_species_blast_results/rempA_(reduced_mechanoreceptor_potential_A)/Drosophila_melanogaster_vs_all.csv\n",
      "Running BLASTp: Drosophila_teissieri vs Drosophila_melanogaster using blast_databases/rempA_(reduced_mechanoreceptor_potential_A)/Drosophila_melanogaster_combined\n",
      "Running BLASTp: Drosophila_teissieri vs Drosophila_yakuba using blast_databases/rempA_(reduced_mechanoreceptor_potential_A)/Drosophila_yakuba_combined\n"
     ]
    },
    {
     "name": "stderr",
     "output_type": "stream",
     "text": [
      "/var/folders/mj/yrtz1pp53zs_hqrl2_mcw9m80000gn/T/ipykernel_11450/4042733987.py:94: FutureWarning: The behavior of DataFrame concatenation with empty or all-NA entries is deprecated. In a future version, this will no longer exclude empty or all-NA columns when determining the result dtypes. To retain the old behavior, exclude the relevant entries before the concat operation.\n",
      "  query_results_df = pd.concat([query_results_df, result_df], ignore_index=True)\n"
     ]
    },
    {
     "name": "stdout",
     "output_type": "stream",
     "text": [
      "Running BLASTp: Drosophila_teissieri vs Drosophila_ananassae using blast_databases/rempA_(reduced_mechanoreceptor_potential_A)/Drosophila_ananassae_combined\n",
      "Running BLASTp: Drosophila_teissieri vs Drosophila_erecta using blast_databases/rempA_(reduced_mechanoreceptor_potential_A)/Drosophila_erecta_combined\n",
      "Running BLASTp: Drosophila_teissieri vs Drosophila_simulans using blast_databases/rempA_(reduced_mechanoreceptor_potential_A)/Drosophila_simulans_combined\n",
      "Running BLASTp: Drosophila_teissieri vs Drosophila_mauritiana using blast_databases/rempA_(reduced_mechanoreceptor_potential_A)/Drosophila_mauritiana_combined\n",
      "Results for Drosophila_teissieri vs all saved to: cross_species_blast_results/rempA_(reduced_mechanoreceptor_potential_A)/Drosophila_teissieri_vs_all.csv\n",
      "Running BLASTp: Drosophila_yakuba vs Drosophila_melanogaster using blast_databases/rempA_(reduced_mechanoreceptor_potential_A)/Drosophila_melanogaster_combined\n"
     ]
    },
    {
     "name": "stderr",
     "output_type": "stream",
     "text": [
      "/var/folders/mj/yrtz1pp53zs_hqrl2_mcw9m80000gn/T/ipykernel_11450/4042733987.py:94: FutureWarning: The behavior of DataFrame concatenation with empty or all-NA entries is deprecated. In a future version, this will no longer exclude empty or all-NA columns when determining the result dtypes. To retain the old behavior, exclude the relevant entries before the concat operation.\n",
      "  query_results_df = pd.concat([query_results_df, result_df], ignore_index=True)\n"
     ]
    },
    {
     "name": "stdout",
     "output_type": "stream",
     "text": [
      "Running BLASTp: Drosophila_yakuba vs Drosophila_teissieri using blast_databases/rempA_(reduced_mechanoreceptor_potential_A)/Drosophila_teissieri_combined\n",
      "Running BLASTp: Drosophila_yakuba vs Drosophila_ananassae using blast_databases/rempA_(reduced_mechanoreceptor_potential_A)/Drosophila_ananassae_combined\n",
      "Running BLASTp: Drosophila_yakuba vs Drosophila_erecta using blast_databases/rempA_(reduced_mechanoreceptor_potential_A)/Drosophila_erecta_combined\n",
      "Running BLASTp: Drosophila_yakuba vs Drosophila_simulans using blast_databases/rempA_(reduced_mechanoreceptor_potential_A)/Drosophila_simulans_combined\n",
      "Running BLASTp: Drosophila_yakuba vs Drosophila_mauritiana using blast_databases/rempA_(reduced_mechanoreceptor_potential_A)/Drosophila_mauritiana_combined\n",
      "Results for Drosophila_yakuba vs all saved to: cross_species_blast_results/rempA_(reduced_mechanoreceptor_potential_A)/Drosophila_yakuba_vs_all.csv\n",
      "Running BLASTp: Drosophila_ananassae vs Drosophila_melanogaster using blast_databases/rempA_(reduced_mechanoreceptor_potential_A)/Drosophila_melanogaster_combined\n"
     ]
    },
    {
     "name": "stderr",
     "output_type": "stream",
     "text": [
      "/var/folders/mj/yrtz1pp53zs_hqrl2_mcw9m80000gn/T/ipykernel_11450/4042733987.py:94: FutureWarning: The behavior of DataFrame concatenation with empty or all-NA entries is deprecated. In a future version, this will no longer exclude empty or all-NA columns when determining the result dtypes. To retain the old behavior, exclude the relevant entries before the concat operation.\n",
      "  query_results_df = pd.concat([query_results_df, result_df], ignore_index=True)\n"
     ]
    },
    {
     "name": "stdout",
     "output_type": "stream",
     "text": [
      "Running BLASTp: Drosophila_ananassae vs Drosophila_teissieri using blast_databases/rempA_(reduced_mechanoreceptor_potential_A)/Drosophila_teissieri_combined\n",
      "Running BLASTp: Drosophila_ananassae vs Drosophila_yakuba using blast_databases/rempA_(reduced_mechanoreceptor_potential_A)/Drosophila_yakuba_combined\n",
      "Running BLASTp: Drosophila_ananassae vs Drosophila_erecta using blast_databases/rempA_(reduced_mechanoreceptor_potential_A)/Drosophila_erecta_combined\n",
      "Running BLASTp: Drosophila_ananassae vs Drosophila_simulans using blast_databases/rempA_(reduced_mechanoreceptor_potential_A)/Drosophila_simulans_combined\n",
      "Running BLASTp: Drosophila_ananassae vs Drosophila_mauritiana using blast_databases/rempA_(reduced_mechanoreceptor_potential_A)/Drosophila_mauritiana_combined\n",
      "Results for Drosophila_ananassae vs all saved to: cross_species_blast_results/rempA_(reduced_mechanoreceptor_potential_A)/Drosophila_ananassae_vs_all.csv\n",
      "Running BLASTp: Drosophila_erecta vs Drosophila_melanogaster using blast_databases/rempA_(reduced_mechanoreceptor_potential_A)/Drosophila_melanogaster_combined\n"
     ]
    },
    {
     "name": "stderr",
     "output_type": "stream",
     "text": [
      "/var/folders/mj/yrtz1pp53zs_hqrl2_mcw9m80000gn/T/ipykernel_11450/4042733987.py:94: FutureWarning: The behavior of DataFrame concatenation with empty or all-NA entries is deprecated. In a future version, this will no longer exclude empty or all-NA columns when determining the result dtypes. To retain the old behavior, exclude the relevant entries before the concat operation.\n",
      "  query_results_df = pd.concat([query_results_df, result_df], ignore_index=True)\n"
     ]
    },
    {
     "name": "stdout",
     "output_type": "stream",
     "text": [
      "Running BLASTp: Drosophila_erecta vs Drosophila_teissieri using blast_databases/rempA_(reduced_mechanoreceptor_potential_A)/Drosophila_teissieri_combined\n",
      "Running BLASTp: Drosophila_erecta vs Drosophila_yakuba using blast_databases/rempA_(reduced_mechanoreceptor_potential_A)/Drosophila_yakuba_combined\n",
      "Running BLASTp: Drosophila_erecta vs Drosophila_ananassae using blast_databases/rempA_(reduced_mechanoreceptor_potential_A)/Drosophila_ananassae_combined\n",
      "Running BLASTp: Drosophila_erecta vs Drosophila_simulans using blast_databases/rempA_(reduced_mechanoreceptor_potential_A)/Drosophila_simulans_combined\n",
      "Running BLASTp: Drosophila_erecta vs Drosophila_mauritiana using blast_databases/rempA_(reduced_mechanoreceptor_potential_A)/Drosophila_mauritiana_combined\n",
      "Results for Drosophila_erecta vs all saved to: cross_species_blast_results/rempA_(reduced_mechanoreceptor_potential_A)/Drosophila_erecta_vs_all.csv\n",
      "Running BLASTp: Drosophila_simulans vs Drosophila_melanogaster using blast_databases/rempA_(reduced_mechanoreceptor_potential_A)/Drosophila_melanogaster_combined\n"
     ]
    },
    {
     "name": "stderr",
     "output_type": "stream",
     "text": [
      "/var/folders/mj/yrtz1pp53zs_hqrl2_mcw9m80000gn/T/ipykernel_11450/4042733987.py:94: FutureWarning: The behavior of DataFrame concatenation with empty or all-NA entries is deprecated. In a future version, this will no longer exclude empty or all-NA columns when determining the result dtypes. To retain the old behavior, exclude the relevant entries before the concat operation.\n",
      "  query_results_df = pd.concat([query_results_df, result_df], ignore_index=True)\n"
     ]
    },
    {
     "name": "stdout",
     "output_type": "stream",
     "text": [
      "Running BLASTp: Drosophila_simulans vs Drosophila_teissieri using blast_databases/rempA_(reduced_mechanoreceptor_potential_A)/Drosophila_teissieri_combined\n",
      "Running BLASTp: Drosophila_simulans vs Drosophila_yakuba using blast_databases/rempA_(reduced_mechanoreceptor_potential_A)/Drosophila_yakuba_combined\n",
      "Running BLASTp: Drosophila_simulans vs Drosophila_ananassae using blast_databases/rempA_(reduced_mechanoreceptor_potential_A)/Drosophila_ananassae_combined\n",
      "Running BLASTp: Drosophila_simulans vs Drosophila_erecta using blast_databases/rempA_(reduced_mechanoreceptor_potential_A)/Drosophila_erecta_combined\n",
      "Running BLASTp: Drosophila_simulans vs Drosophila_mauritiana using blast_databases/rempA_(reduced_mechanoreceptor_potential_A)/Drosophila_mauritiana_combined\n",
      "Results for Drosophila_simulans vs all saved to: cross_species_blast_results/rempA_(reduced_mechanoreceptor_potential_A)/Drosophila_simulans_vs_all.csv\n",
      "Running BLASTp: Drosophila_mauritiana vs Drosophila_melanogaster using blast_databases/rempA_(reduced_mechanoreceptor_potential_A)/Drosophila_melanogaster_combined\n"
     ]
    },
    {
     "name": "stderr",
     "output_type": "stream",
     "text": [
      "/var/folders/mj/yrtz1pp53zs_hqrl2_mcw9m80000gn/T/ipykernel_11450/4042733987.py:94: FutureWarning: The behavior of DataFrame concatenation with empty or all-NA entries is deprecated. In a future version, this will no longer exclude empty or all-NA columns when determining the result dtypes. To retain the old behavior, exclude the relevant entries before the concat operation.\n",
      "  query_results_df = pd.concat([query_results_df, result_df], ignore_index=True)\n"
     ]
    },
    {
     "name": "stdout",
     "output_type": "stream",
     "text": [
      "Running BLASTp: Drosophila_mauritiana vs Drosophila_teissieri using blast_databases/rempA_(reduced_mechanoreceptor_potential_A)/Drosophila_teissieri_combined\n",
      "Running BLASTp: Drosophila_mauritiana vs Drosophila_yakuba using blast_databases/rempA_(reduced_mechanoreceptor_potential_A)/Drosophila_yakuba_combined\n",
      "Running BLASTp: Drosophila_mauritiana vs Drosophila_ananassae using blast_databases/rempA_(reduced_mechanoreceptor_potential_A)/Drosophila_ananassae_combined\n",
      "Running BLASTp: Drosophila_mauritiana vs Drosophila_erecta using blast_databases/rempA_(reduced_mechanoreceptor_potential_A)/Drosophila_erecta_combined\n",
      "Running BLASTp: Drosophila_mauritiana vs Drosophila_simulans using blast_databases/rempA_(reduced_mechanoreceptor_potential_A)/Drosophila_simulans_combined\n",
      "Results for Drosophila_mauritiana vs all saved to: cross_species_blast_results/rempA_(reduced_mechanoreceptor_potential_A)/Drosophila_mauritiana_vs_all.csv\n",
      "Processing gene: Zmynd10_(Zinc_finger_MYND-type_containing_10)\n",
      "Running BLASTp: Drosophila_melanogaster vs Drosophila_teissieri using blast_databases/Zmynd10_(Zinc_finger_MYND-type_containing_10)/Drosophila_teissieri_combined\n"
     ]
    },
    {
     "name": "stderr",
     "output_type": "stream",
     "text": [
      "/var/folders/mj/yrtz1pp53zs_hqrl2_mcw9m80000gn/T/ipykernel_11450/4042733987.py:94: FutureWarning: The behavior of DataFrame concatenation with empty or all-NA entries is deprecated. In a future version, this will no longer exclude empty or all-NA columns when determining the result dtypes. To retain the old behavior, exclude the relevant entries before the concat operation.\n",
      "  query_results_df = pd.concat([query_results_df, result_df], ignore_index=True)\n"
     ]
    },
    {
     "name": "stdout",
     "output_type": "stream",
     "text": [
      "Running BLASTp: Drosophila_melanogaster vs Drosophila_yakuba using blast_databases/Zmynd10_(Zinc_finger_MYND-type_containing_10)/Drosophila_yakuba_combined\n",
      "Running BLASTp: Drosophila_melanogaster vs Drosophila_ananassae using blast_databases/Zmynd10_(Zinc_finger_MYND-type_containing_10)/Drosophila_ananassae_combined\n",
      "Running BLASTp: Drosophila_melanogaster vs Drosophila_erecta using blast_databases/Zmynd10_(Zinc_finger_MYND-type_containing_10)/Drosophila_erecta_combined\n",
      "Running BLASTp: Drosophila_melanogaster vs Drosophila_simulans using blast_databases/Zmynd10_(Zinc_finger_MYND-type_containing_10)/Drosophila_simulans_combined\n",
      "Running BLASTp: Drosophila_melanogaster vs Drosophila_mauritiana using blast_databases/Zmynd10_(Zinc_finger_MYND-type_containing_10)/Drosophila_mauritiana_combined\n",
      "Results for Drosophila_melanogaster vs all saved to: cross_species_blast_results/Zmynd10_(Zinc_finger_MYND-type_containing_10)/Drosophila_melanogaster_vs_all.csv\n",
      "Running BLASTp: Drosophila_teissieri vs Drosophila_melanogaster using blast_databases/Zmynd10_(Zinc_finger_MYND-type_containing_10)/Drosophila_melanogaster_combined\n"
     ]
    },
    {
     "name": "stderr",
     "output_type": "stream",
     "text": [
      "/var/folders/mj/yrtz1pp53zs_hqrl2_mcw9m80000gn/T/ipykernel_11450/4042733987.py:94: FutureWarning: The behavior of DataFrame concatenation with empty or all-NA entries is deprecated. In a future version, this will no longer exclude empty or all-NA columns when determining the result dtypes. To retain the old behavior, exclude the relevant entries before the concat operation.\n",
      "  query_results_df = pd.concat([query_results_df, result_df], ignore_index=True)\n"
     ]
    },
    {
     "name": "stdout",
     "output_type": "stream",
     "text": [
      "Running BLASTp: Drosophila_teissieri vs Drosophila_yakuba using blast_databases/Zmynd10_(Zinc_finger_MYND-type_containing_10)/Drosophila_yakuba_combined\n",
      "Running BLASTp: Drosophila_teissieri vs Drosophila_ananassae using blast_databases/Zmynd10_(Zinc_finger_MYND-type_containing_10)/Drosophila_ananassae_combined\n",
      "Running BLASTp: Drosophila_teissieri vs Drosophila_erecta using blast_databases/Zmynd10_(Zinc_finger_MYND-type_containing_10)/Drosophila_erecta_combined\n",
      "Running BLASTp: Drosophila_teissieri vs Drosophila_simulans using blast_databases/Zmynd10_(Zinc_finger_MYND-type_containing_10)/Drosophila_simulans_combined\n",
      "Running BLASTp: Drosophila_teissieri vs Drosophila_mauritiana using blast_databases/Zmynd10_(Zinc_finger_MYND-type_containing_10)/Drosophila_mauritiana_combined\n",
      "Results for Drosophila_teissieri vs all saved to: cross_species_blast_results/Zmynd10_(Zinc_finger_MYND-type_containing_10)/Drosophila_teissieri_vs_all.csv\n",
      "Running BLASTp: Drosophila_yakuba vs Drosophila_melanogaster using blast_databases/Zmynd10_(Zinc_finger_MYND-type_containing_10)/Drosophila_melanogaster_combined\n"
     ]
    },
    {
     "name": "stderr",
     "output_type": "stream",
     "text": [
      "/var/folders/mj/yrtz1pp53zs_hqrl2_mcw9m80000gn/T/ipykernel_11450/4042733987.py:94: FutureWarning: The behavior of DataFrame concatenation with empty or all-NA entries is deprecated. In a future version, this will no longer exclude empty or all-NA columns when determining the result dtypes. To retain the old behavior, exclude the relevant entries before the concat operation.\n",
      "  query_results_df = pd.concat([query_results_df, result_df], ignore_index=True)\n"
     ]
    },
    {
     "name": "stdout",
     "output_type": "stream",
     "text": [
      "Running BLASTp: Drosophila_yakuba vs Drosophila_teissieri using blast_databases/Zmynd10_(Zinc_finger_MYND-type_containing_10)/Drosophila_teissieri_combined\n",
      "Running BLASTp: Drosophila_yakuba vs Drosophila_ananassae using blast_databases/Zmynd10_(Zinc_finger_MYND-type_containing_10)/Drosophila_ananassae_combined\n",
      "Running BLASTp: Drosophila_yakuba vs Drosophila_erecta using blast_databases/Zmynd10_(Zinc_finger_MYND-type_containing_10)/Drosophila_erecta_combined\n",
      "Running BLASTp: Drosophila_yakuba vs Drosophila_simulans using blast_databases/Zmynd10_(Zinc_finger_MYND-type_containing_10)/Drosophila_simulans_combined\n",
      "Running BLASTp: Drosophila_yakuba vs Drosophila_mauritiana using blast_databases/Zmynd10_(Zinc_finger_MYND-type_containing_10)/Drosophila_mauritiana_combined\n",
      "Results for Drosophila_yakuba vs all saved to: cross_species_blast_results/Zmynd10_(Zinc_finger_MYND-type_containing_10)/Drosophila_yakuba_vs_all.csv\n",
      "Running BLASTp: Drosophila_ananassae vs Drosophila_melanogaster using blast_databases/Zmynd10_(Zinc_finger_MYND-type_containing_10)/Drosophila_melanogaster_combined\n"
     ]
    },
    {
     "name": "stderr",
     "output_type": "stream",
     "text": [
      "/var/folders/mj/yrtz1pp53zs_hqrl2_mcw9m80000gn/T/ipykernel_11450/4042733987.py:94: FutureWarning: The behavior of DataFrame concatenation with empty or all-NA entries is deprecated. In a future version, this will no longer exclude empty or all-NA columns when determining the result dtypes. To retain the old behavior, exclude the relevant entries before the concat operation.\n",
      "  query_results_df = pd.concat([query_results_df, result_df], ignore_index=True)\n"
     ]
    },
    {
     "name": "stdout",
     "output_type": "stream",
     "text": [
      "Running BLASTp: Drosophila_ananassae vs Drosophila_teissieri using blast_databases/Zmynd10_(Zinc_finger_MYND-type_containing_10)/Drosophila_teissieri_combined\n",
      "Running BLASTp: Drosophila_ananassae vs Drosophila_yakuba using blast_databases/Zmynd10_(Zinc_finger_MYND-type_containing_10)/Drosophila_yakuba_combined\n",
      "Running BLASTp: Drosophila_ananassae vs Drosophila_erecta using blast_databases/Zmynd10_(Zinc_finger_MYND-type_containing_10)/Drosophila_erecta_combined\n",
      "Running BLASTp: Drosophila_ananassae vs Drosophila_simulans using blast_databases/Zmynd10_(Zinc_finger_MYND-type_containing_10)/Drosophila_simulans_combined\n",
      "Running BLASTp: Drosophila_ananassae vs Drosophila_mauritiana using blast_databases/Zmynd10_(Zinc_finger_MYND-type_containing_10)/Drosophila_mauritiana_combined\n",
      "Results for Drosophila_ananassae vs all saved to: cross_species_blast_results/Zmynd10_(Zinc_finger_MYND-type_containing_10)/Drosophila_ananassae_vs_all.csv\n",
      "Running BLASTp: Drosophila_erecta vs Drosophila_melanogaster using blast_databases/Zmynd10_(Zinc_finger_MYND-type_containing_10)/Drosophila_melanogaster_combined\n"
     ]
    },
    {
     "name": "stderr",
     "output_type": "stream",
     "text": [
      "/var/folders/mj/yrtz1pp53zs_hqrl2_mcw9m80000gn/T/ipykernel_11450/4042733987.py:94: FutureWarning: The behavior of DataFrame concatenation with empty or all-NA entries is deprecated. In a future version, this will no longer exclude empty or all-NA columns when determining the result dtypes. To retain the old behavior, exclude the relevant entries before the concat operation.\n",
      "  query_results_df = pd.concat([query_results_df, result_df], ignore_index=True)\n"
     ]
    },
    {
     "name": "stdout",
     "output_type": "stream",
     "text": [
      "Running BLASTp: Drosophila_erecta vs Drosophila_teissieri using blast_databases/Zmynd10_(Zinc_finger_MYND-type_containing_10)/Drosophila_teissieri_combined\n",
      "Running BLASTp: Drosophila_erecta vs Drosophila_yakuba using blast_databases/Zmynd10_(Zinc_finger_MYND-type_containing_10)/Drosophila_yakuba_combined\n",
      "Running BLASTp: Drosophila_erecta vs Drosophila_ananassae using blast_databases/Zmynd10_(Zinc_finger_MYND-type_containing_10)/Drosophila_ananassae_combined\n",
      "Running BLASTp: Drosophila_erecta vs Drosophila_simulans using blast_databases/Zmynd10_(Zinc_finger_MYND-type_containing_10)/Drosophila_simulans_combined\n",
      "Running BLASTp: Drosophila_erecta vs Drosophila_mauritiana using blast_databases/Zmynd10_(Zinc_finger_MYND-type_containing_10)/Drosophila_mauritiana_combined\n",
      "Results for Drosophila_erecta vs all saved to: cross_species_blast_results/Zmynd10_(Zinc_finger_MYND-type_containing_10)/Drosophila_erecta_vs_all.csv\n",
      "Running BLASTp: Drosophila_simulans vs Drosophila_melanogaster using blast_databases/Zmynd10_(Zinc_finger_MYND-type_containing_10)/Drosophila_melanogaster_combined\n"
     ]
    },
    {
     "name": "stderr",
     "output_type": "stream",
     "text": [
      "/var/folders/mj/yrtz1pp53zs_hqrl2_mcw9m80000gn/T/ipykernel_11450/4042733987.py:94: FutureWarning: The behavior of DataFrame concatenation with empty or all-NA entries is deprecated. In a future version, this will no longer exclude empty or all-NA columns when determining the result dtypes. To retain the old behavior, exclude the relevant entries before the concat operation.\n",
      "  query_results_df = pd.concat([query_results_df, result_df], ignore_index=True)\n"
     ]
    },
    {
     "name": "stdout",
     "output_type": "stream",
     "text": [
      "Running BLASTp: Drosophila_simulans vs Drosophila_teissieri using blast_databases/Zmynd10_(Zinc_finger_MYND-type_containing_10)/Drosophila_teissieri_combined\n",
      "Running BLASTp: Drosophila_simulans vs Drosophila_yakuba using blast_databases/Zmynd10_(Zinc_finger_MYND-type_containing_10)/Drosophila_yakuba_combined\n",
      "Running BLASTp: Drosophila_simulans vs Drosophila_ananassae using blast_databases/Zmynd10_(Zinc_finger_MYND-type_containing_10)/Drosophila_ananassae_combined\n",
      "Running BLASTp: Drosophila_simulans vs Drosophila_erecta using blast_databases/Zmynd10_(Zinc_finger_MYND-type_containing_10)/Drosophila_erecta_combined\n",
      "Running BLASTp: Drosophila_simulans vs Drosophila_mauritiana using blast_databases/Zmynd10_(Zinc_finger_MYND-type_containing_10)/Drosophila_mauritiana_combined\n",
      "Results for Drosophila_simulans vs all saved to: cross_species_blast_results/Zmynd10_(Zinc_finger_MYND-type_containing_10)/Drosophila_simulans_vs_all.csv\n",
      "Running BLASTp: Drosophila_mauritiana vs Drosophila_melanogaster using blast_databases/Zmynd10_(Zinc_finger_MYND-type_containing_10)/Drosophila_melanogaster_combined\n"
     ]
    },
    {
     "name": "stderr",
     "output_type": "stream",
     "text": [
      "/var/folders/mj/yrtz1pp53zs_hqrl2_mcw9m80000gn/T/ipykernel_11450/4042733987.py:94: FutureWarning: The behavior of DataFrame concatenation with empty or all-NA entries is deprecated. In a future version, this will no longer exclude empty or all-NA columns when determining the result dtypes. To retain the old behavior, exclude the relevant entries before the concat operation.\n",
      "  query_results_df = pd.concat([query_results_df, result_df], ignore_index=True)\n"
     ]
    },
    {
     "name": "stdout",
     "output_type": "stream",
     "text": [
      "Running BLASTp: Drosophila_mauritiana vs Drosophila_teissieri using blast_databases/Zmynd10_(Zinc_finger_MYND-type_containing_10)/Drosophila_teissieri_combined\n",
      "Running BLASTp: Drosophila_mauritiana vs Drosophila_yakuba using blast_databases/Zmynd10_(Zinc_finger_MYND-type_containing_10)/Drosophila_yakuba_combined\n",
      "Running BLASTp: Drosophila_mauritiana vs Drosophila_ananassae using blast_databases/Zmynd10_(Zinc_finger_MYND-type_containing_10)/Drosophila_ananassae_combined\n",
      "Running BLASTp: Drosophila_mauritiana vs Drosophila_erecta using blast_databases/Zmynd10_(Zinc_finger_MYND-type_containing_10)/Drosophila_erecta_combined\n",
      "Running BLASTp: Drosophila_mauritiana vs Drosophila_simulans using blast_databases/Zmynd10_(Zinc_finger_MYND-type_containing_10)/Drosophila_simulans_combined\n",
      "Results for Drosophila_mauritiana vs all saved to: cross_species_blast_results/Zmynd10_(Zinc_finger_MYND-type_containing_10)/Drosophila_mauritiana_vs_all.csv\n",
      "Processing gene: Kap3_(Kinesin_associated_protein_3)\n",
      "Running BLASTp: Drosophila_melanogaster vs Drosophila_teissieri using blast_databases/Kap3_(Kinesin_associated_protein_3)/Drosophila_teissieri_combined\n"
     ]
    },
    {
     "name": "stderr",
     "output_type": "stream",
     "text": [
      "/var/folders/mj/yrtz1pp53zs_hqrl2_mcw9m80000gn/T/ipykernel_11450/4042733987.py:94: FutureWarning: The behavior of DataFrame concatenation with empty or all-NA entries is deprecated. In a future version, this will no longer exclude empty or all-NA columns when determining the result dtypes. To retain the old behavior, exclude the relevant entries before the concat operation.\n",
      "  query_results_df = pd.concat([query_results_df, result_df], ignore_index=True)\n"
     ]
    },
    {
     "name": "stdout",
     "output_type": "stream",
     "text": [
      "Running BLASTp: Drosophila_melanogaster vs Drosophila_yakuba using blast_databases/Kap3_(Kinesin_associated_protein_3)/Drosophila_yakuba_combined\n",
      "Running BLASTp: Drosophila_melanogaster vs Drosophila_ananassae using blast_databases/Kap3_(Kinesin_associated_protein_3)/Drosophila_ananassae_combined\n",
      "Running BLASTp: Drosophila_melanogaster vs Drosophila_erecta using blast_databases/Kap3_(Kinesin_associated_protein_3)/Drosophila_erecta_combined\n",
      "Running BLASTp: Drosophila_melanogaster vs Drosophila_simulans using blast_databases/Kap3_(Kinesin_associated_protein_3)/Drosophila_simulans_combined\n",
      "Running BLASTp: Drosophila_melanogaster vs Drosophila_mauritiana using blast_databases/Kap3_(Kinesin_associated_protein_3)/Drosophila_mauritiana_combined\n",
      "Results for Drosophila_melanogaster vs all saved to: cross_species_blast_results/Kap3_(Kinesin_associated_protein_3)/Drosophila_melanogaster_vs_all.csv\n",
      "Running BLASTp: Drosophila_teissieri vs Drosophila_melanogaster using blast_databases/Kap3_(Kinesin_associated_protein_3)/Drosophila_melanogaster_combined\n"
     ]
    },
    {
     "name": "stderr",
     "output_type": "stream",
     "text": [
      "/var/folders/mj/yrtz1pp53zs_hqrl2_mcw9m80000gn/T/ipykernel_11450/4042733987.py:94: FutureWarning: The behavior of DataFrame concatenation with empty or all-NA entries is deprecated. In a future version, this will no longer exclude empty or all-NA columns when determining the result dtypes. To retain the old behavior, exclude the relevant entries before the concat operation.\n",
      "  query_results_df = pd.concat([query_results_df, result_df], ignore_index=True)\n"
     ]
    },
    {
     "name": "stdout",
     "output_type": "stream",
     "text": [
      "Running BLASTp: Drosophila_teissieri vs Drosophila_yakuba using blast_databases/Kap3_(Kinesin_associated_protein_3)/Drosophila_yakuba_combined\n",
      "Running BLASTp: Drosophila_teissieri vs Drosophila_ananassae using blast_databases/Kap3_(Kinesin_associated_protein_3)/Drosophila_ananassae_combined\n",
      "Running BLASTp: Drosophila_teissieri vs Drosophila_erecta using blast_databases/Kap3_(Kinesin_associated_protein_3)/Drosophila_erecta_combined\n",
      "Running BLASTp: Drosophila_teissieri vs Drosophila_simulans using blast_databases/Kap3_(Kinesin_associated_protein_3)/Drosophila_simulans_combined\n",
      "Running BLASTp: Drosophila_teissieri vs Drosophila_mauritiana using blast_databases/Kap3_(Kinesin_associated_protein_3)/Drosophila_mauritiana_combined\n",
      "Results for Drosophila_teissieri vs all saved to: cross_species_blast_results/Kap3_(Kinesin_associated_protein_3)/Drosophila_teissieri_vs_all.csv\n",
      "Running BLASTp: Drosophila_yakuba vs Drosophila_melanogaster using blast_databases/Kap3_(Kinesin_associated_protein_3)/Drosophila_melanogaster_combined\n"
     ]
    },
    {
     "name": "stderr",
     "output_type": "stream",
     "text": [
      "/var/folders/mj/yrtz1pp53zs_hqrl2_mcw9m80000gn/T/ipykernel_11450/4042733987.py:94: FutureWarning: The behavior of DataFrame concatenation with empty or all-NA entries is deprecated. In a future version, this will no longer exclude empty or all-NA columns when determining the result dtypes. To retain the old behavior, exclude the relevant entries before the concat operation.\n",
      "  query_results_df = pd.concat([query_results_df, result_df], ignore_index=True)\n"
     ]
    },
    {
     "name": "stdout",
     "output_type": "stream",
     "text": [
      "Running BLASTp: Drosophila_yakuba vs Drosophila_teissieri using blast_databases/Kap3_(Kinesin_associated_protein_3)/Drosophila_teissieri_combined\n",
      "Running BLASTp: Drosophila_yakuba vs Drosophila_ananassae using blast_databases/Kap3_(Kinesin_associated_protein_3)/Drosophila_ananassae_combined\n",
      "Running BLASTp: Drosophila_yakuba vs Drosophila_erecta using blast_databases/Kap3_(Kinesin_associated_protein_3)/Drosophila_erecta_combined\n",
      "Running BLASTp: Drosophila_yakuba vs Drosophila_simulans using blast_databases/Kap3_(Kinesin_associated_protein_3)/Drosophila_simulans_combined\n",
      "Running BLASTp: Drosophila_yakuba vs Drosophila_mauritiana using blast_databases/Kap3_(Kinesin_associated_protein_3)/Drosophila_mauritiana_combined\n",
      "Results for Drosophila_yakuba vs all saved to: cross_species_blast_results/Kap3_(Kinesin_associated_protein_3)/Drosophila_yakuba_vs_all.csv\n",
      "Running BLASTp: Drosophila_ananassae vs Drosophila_melanogaster using blast_databases/Kap3_(Kinesin_associated_protein_3)/Drosophila_melanogaster_combined\n"
     ]
    },
    {
     "name": "stderr",
     "output_type": "stream",
     "text": [
      "/var/folders/mj/yrtz1pp53zs_hqrl2_mcw9m80000gn/T/ipykernel_11450/4042733987.py:94: FutureWarning: The behavior of DataFrame concatenation with empty or all-NA entries is deprecated. In a future version, this will no longer exclude empty or all-NA columns when determining the result dtypes. To retain the old behavior, exclude the relevant entries before the concat operation.\n",
      "  query_results_df = pd.concat([query_results_df, result_df], ignore_index=True)\n"
     ]
    },
    {
     "name": "stdout",
     "output_type": "stream",
     "text": [
      "Running BLASTp: Drosophila_ananassae vs Drosophila_teissieri using blast_databases/Kap3_(Kinesin_associated_protein_3)/Drosophila_teissieri_combined\n",
      "Running BLASTp: Drosophila_ananassae vs Drosophila_yakuba using blast_databases/Kap3_(Kinesin_associated_protein_3)/Drosophila_yakuba_combined\n",
      "Running BLASTp: Drosophila_ananassae vs Drosophila_erecta using blast_databases/Kap3_(Kinesin_associated_protein_3)/Drosophila_erecta_combined\n",
      "Running BLASTp: Drosophila_ananassae vs Drosophila_simulans using blast_databases/Kap3_(Kinesin_associated_protein_3)/Drosophila_simulans_combined\n",
      "Running BLASTp: Drosophila_ananassae vs Drosophila_mauritiana using blast_databases/Kap3_(Kinesin_associated_protein_3)/Drosophila_mauritiana_combined\n",
      "Results for Drosophila_ananassae vs all saved to: cross_species_blast_results/Kap3_(Kinesin_associated_protein_3)/Drosophila_ananassae_vs_all.csv\n",
      "Running BLASTp: Drosophila_erecta vs Drosophila_melanogaster using blast_databases/Kap3_(Kinesin_associated_protein_3)/Drosophila_melanogaster_combined\n"
     ]
    },
    {
     "name": "stderr",
     "output_type": "stream",
     "text": [
      "/var/folders/mj/yrtz1pp53zs_hqrl2_mcw9m80000gn/T/ipykernel_11450/4042733987.py:94: FutureWarning: The behavior of DataFrame concatenation with empty or all-NA entries is deprecated. In a future version, this will no longer exclude empty or all-NA columns when determining the result dtypes. To retain the old behavior, exclude the relevant entries before the concat operation.\n",
      "  query_results_df = pd.concat([query_results_df, result_df], ignore_index=True)\n"
     ]
    },
    {
     "name": "stdout",
     "output_type": "stream",
     "text": [
      "Running BLASTp: Drosophila_erecta vs Drosophila_teissieri using blast_databases/Kap3_(Kinesin_associated_protein_3)/Drosophila_teissieri_combined\n",
      "Running BLASTp: Drosophila_erecta vs Drosophila_yakuba using blast_databases/Kap3_(Kinesin_associated_protein_3)/Drosophila_yakuba_combined\n",
      "Running BLASTp: Drosophila_erecta vs Drosophila_ananassae using blast_databases/Kap3_(Kinesin_associated_protein_3)/Drosophila_ananassae_combined\n",
      "Running BLASTp: Drosophila_erecta vs Drosophila_simulans using blast_databases/Kap3_(Kinesin_associated_protein_3)/Drosophila_simulans_combined\n",
      "Running BLASTp: Drosophila_erecta vs Drosophila_mauritiana using blast_databases/Kap3_(Kinesin_associated_protein_3)/Drosophila_mauritiana_combined\n",
      "Results for Drosophila_erecta vs all saved to: cross_species_blast_results/Kap3_(Kinesin_associated_protein_3)/Drosophila_erecta_vs_all.csv\n",
      "Running BLASTp: Drosophila_simulans vs Drosophila_melanogaster using blast_databases/Kap3_(Kinesin_associated_protein_3)/Drosophila_melanogaster_combined\n"
     ]
    },
    {
     "name": "stderr",
     "output_type": "stream",
     "text": [
      "/var/folders/mj/yrtz1pp53zs_hqrl2_mcw9m80000gn/T/ipykernel_11450/4042733987.py:94: FutureWarning: The behavior of DataFrame concatenation with empty or all-NA entries is deprecated. In a future version, this will no longer exclude empty or all-NA columns when determining the result dtypes. To retain the old behavior, exclude the relevant entries before the concat operation.\n",
      "  query_results_df = pd.concat([query_results_df, result_df], ignore_index=True)\n"
     ]
    },
    {
     "name": "stdout",
     "output_type": "stream",
     "text": [
      "Running BLASTp: Drosophila_simulans vs Drosophila_teissieri using blast_databases/Kap3_(Kinesin_associated_protein_3)/Drosophila_teissieri_combined\n",
      "Running BLASTp: Drosophila_simulans vs Drosophila_yakuba using blast_databases/Kap3_(Kinesin_associated_protein_3)/Drosophila_yakuba_combined\n",
      "Running BLASTp: Drosophila_simulans vs Drosophila_ananassae using blast_databases/Kap3_(Kinesin_associated_protein_3)/Drosophila_ananassae_combined\n",
      "Running BLASTp: Drosophila_simulans vs Drosophila_erecta using blast_databases/Kap3_(Kinesin_associated_protein_3)/Drosophila_erecta_combined\n",
      "Running BLASTp: Drosophila_simulans vs Drosophila_mauritiana using blast_databases/Kap3_(Kinesin_associated_protein_3)/Drosophila_mauritiana_combined\n",
      "Results for Drosophila_simulans vs all saved to: cross_species_blast_results/Kap3_(Kinesin_associated_protein_3)/Drosophila_simulans_vs_all.csv\n",
      "Running BLASTp: Drosophila_mauritiana vs Drosophila_melanogaster using blast_databases/Kap3_(Kinesin_associated_protein_3)/Drosophila_melanogaster_combined\n"
     ]
    },
    {
     "name": "stderr",
     "output_type": "stream",
     "text": [
      "/var/folders/mj/yrtz1pp53zs_hqrl2_mcw9m80000gn/T/ipykernel_11450/4042733987.py:94: FutureWarning: The behavior of DataFrame concatenation with empty or all-NA entries is deprecated. In a future version, this will no longer exclude empty or all-NA columns when determining the result dtypes. To retain the old behavior, exclude the relevant entries before the concat operation.\n",
      "  query_results_df = pd.concat([query_results_df, result_df], ignore_index=True)\n"
     ]
    },
    {
     "name": "stdout",
     "output_type": "stream",
     "text": [
      "Running BLASTp: Drosophila_mauritiana vs Drosophila_teissieri using blast_databases/Kap3_(Kinesin_associated_protein_3)/Drosophila_teissieri_combined\n",
      "Running BLASTp: Drosophila_mauritiana vs Drosophila_yakuba using blast_databases/Kap3_(Kinesin_associated_protein_3)/Drosophila_yakuba_combined\n",
      "Running BLASTp: Drosophila_mauritiana vs Drosophila_ananassae using blast_databases/Kap3_(Kinesin_associated_protein_3)/Drosophila_ananassae_combined\n",
      "Running BLASTp: Drosophila_mauritiana vs Drosophila_erecta using blast_databases/Kap3_(Kinesin_associated_protein_3)/Drosophila_erecta_combined\n",
      "Running BLASTp: Drosophila_mauritiana vs Drosophila_simulans using blast_databases/Kap3_(Kinesin_associated_protein_3)/Drosophila_simulans_combined\n",
      "Results for Drosophila_mauritiana vs all saved to: cross_species_blast_results/Kap3_(Kinesin_associated_protein_3)/Drosophila_mauritiana_vs_all.csv\n",
      "Processing gene: ct_(cut)\n",
      "Running BLASTp: Drosophila_melanogaster vs Drosophila_teissieri using blast_databases/ct_(cut)/Drosophila_teissieri_combined\n"
     ]
    },
    {
     "name": "stderr",
     "output_type": "stream",
     "text": [
      "/var/folders/mj/yrtz1pp53zs_hqrl2_mcw9m80000gn/T/ipykernel_11450/4042733987.py:94: FutureWarning: The behavior of DataFrame concatenation with empty or all-NA entries is deprecated. In a future version, this will no longer exclude empty or all-NA columns when determining the result dtypes. To retain the old behavior, exclude the relevant entries before the concat operation.\n",
      "  query_results_df = pd.concat([query_results_df, result_df], ignore_index=True)\n"
     ]
    },
    {
     "name": "stdout",
     "output_type": "stream",
     "text": [
      "Running BLASTp: Drosophila_melanogaster vs Drosophila_yakuba using blast_databases/ct_(cut)/Drosophila_yakuba_combined\n",
      "Running BLASTp: Drosophila_melanogaster vs Drosophila_ananassae using blast_databases/ct_(cut)/Drosophila_ananassae_combined\n",
      "Running BLASTp: Drosophila_melanogaster vs Drosophila_erecta using blast_databases/ct_(cut)/Drosophila_erecta_combined\n",
      "Running BLASTp: Drosophila_melanogaster vs Drosophila_simulans using blast_databases/ct_(cut)/Drosophila_simulans_combined\n",
      "Running BLASTp: Drosophila_melanogaster vs Drosophila_mauritiana using blast_databases/ct_(cut)/Drosophila_mauritiana_combined\n",
      "Results for Drosophila_melanogaster vs all saved to: cross_species_blast_results/ct_(cut)/Drosophila_melanogaster_vs_all.csv\n",
      "Running BLASTp: Drosophila_teissieri vs Drosophila_melanogaster using blast_databases/ct_(cut)/Drosophila_melanogaster_combined\n"
     ]
    },
    {
     "name": "stderr",
     "output_type": "stream",
     "text": [
      "/var/folders/mj/yrtz1pp53zs_hqrl2_mcw9m80000gn/T/ipykernel_11450/4042733987.py:94: FutureWarning: The behavior of DataFrame concatenation with empty or all-NA entries is deprecated. In a future version, this will no longer exclude empty or all-NA columns when determining the result dtypes. To retain the old behavior, exclude the relevant entries before the concat operation.\n",
      "  query_results_df = pd.concat([query_results_df, result_df], ignore_index=True)\n"
     ]
    },
    {
     "name": "stdout",
     "output_type": "stream",
     "text": [
      "Running BLASTp: Drosophila_teissieri vs Drosophila_yakuba using blast_databases/ct_(cut)/Drosophila_yakuba_combined\n",
      "Running BLASTp: Drosophila_teissieri vs Drosophila_ananassae using blast_databases/ct_(cut)/Drosophila_ananassae_combined\n",
      "Running BLASTp: Drosophila_teissieri vs Drosophila_erecta using blast_databases/ct_(cut)/Drosophila_erecta_combined\n",
      "Running BLASTp: Drosophila_teissieri vs Drosophila_simulans using blast_databases/ct_(cut)/Drosophila_simulans_combined\n",
      "Running BLASTp: Drosophila_teissieri vs Drosophila_mauritiana using blast_databases/ct_(cut)/Drosophila_mauritiana_combined\n",
      "Results for Drosophila_teissieri vs all saved to: cross_species_blast_results/ct_(cut)/Drosophila_teissieri_vs_all.csv\n",
      "Running BLASTp: Drosophila_yakuba vs Drosophila_melanogaster using blast_databases/ct_(cut)/Drosophila_melanogaster_combined\n"
     ]
    },
    {
     "name": "stderr",
     "output_type": "stream",
     "text": [
      "/var/folders/mj/yrtz1pp53zs_hqrl2_mcw9m80000gn/T/ipykernel_11450/4042733987.py:94: FutureWarning: The behavior of DataFrame concatenation with empty or all-NA entries is deprecated. In a future version, this will no longer exclude empty or all-NA columns when determining the result dtypes. To retain the old behavior, exclude the relevant entries before the concat operation.\n",
      "  query_results_df = pd.concat([query_results_df, result_df], ignore_index=True)\n"
     ]
    },
    {
     "name": "stdout",
     "output_type": "stream",
     "text": [
      "Running BLASTp: Drosophila_yakuba vs Drosophila_teissieri using blast_databases/ct_(cut)/Drosophila_teissieri_combined\n",
      "Running BLASTp: Drosophila_yakuba vs Drosophila_ananassae using blast_databases/ct_(cut)/Drosophila_ananassae_combined\n",
      "Running BLASTp: Drosophila_yakuba vs Drosophila_erecta using blast_databases/ct_(cut)/Drosophila_erecta_combined\n",
      "Running BLASTp: Drosophila_yakuba vs Drosophila_simulans using blast_databases/ct_(cut)/Drosophila_simulans_combined\n",
      "Running BLASTp: Drosophila_yakuba vs Drosophila_mauritiana using blast_databases/ct_(cut)/Drosophila_mauritiana_combined\n",
      "Results for Drosophila_yakuba vs all saved to: cross_species_blast_results/ct_(cut)/Drosophila_yakuba_vs_all.csv\n",
      "Running BLASTp: Drosophila_ananassae vs Drosophila_melanogaster using blast_databases/ct_(cut)/Drosophila_melanogaster_combined\n"
     ]
    },
    {
     "name": "stderr",
     "output_type": "stream",
     "text": [
      "/var/folders/mj/yrtz1pp53zs_hqrl2_mcw9m80000gn/T/ipykernel_11450/4042733987.py:94: FutureWarning: The behavior of DataFrame concatenation with empty or all-NA entries is deprecated. In a future version, this will no longer exclude empty or all-NA columns when determining the result dtypes. To retain the old behavior, exclude the relevant entries before the concat operation.\n",
      "  query_results_df = pd.concat([query_results_df, result_df], ignore_index=True)\n"
     ]
    },
    {
     "name": "stdout",
     "output_type": "stream",
     "text": [
      "Running BLASTp: Drosophila_ananassae vs Drosophila_teissieri using blast_databases/ct_(cut)/Drosophila_teissieri_combined\n",
      "Running BLASTp: Drosophila_ananassae vs Drosophila_yakuba using blast_databases/ct_(cut)/Drosophila_yakuba_combined\n",
      "Running BLASTp: Drosophila_ananassae vs Drosophila_erecta using blast_databases/ct_(cut)/Drosophila_erecta_combined\n",
      "Running BLASTp: Drosophila_ananassae vs Drosophila_simulans using blast_databases/ct_(cut)/Drosophila_simulans_combined\n",
      "Running BLASTp: Drosophila_ananassae vs Drosophila_mauritiana using blast_databases/ct_(cut)/Drosophila_mauritiana_combined\n",
      "Results for Drosophila_ananassae vs all saved to: cross_species_blast_results/ct_(cut)/Drosophila_ananassae_vs_all.csv\n",
      "Running BLASTp: Drosophila_erecta vs Drosophila_melanogaster using blast_databases/ct_(cut)/Drosophila_melanogaster_combined\n"
     ]
    },
    {
     "name": "stderr",
     "output_type": "stream",
     "text": [
      "/var/folders/mj/yrtz1pp53zs_hqrl2_mcw9m80000gn/T/ipykernel_11450/4042733987.py:94: FutureWarning: The behavior of DataFrame concatenation with empty or all-NA entries is deprecated. In a future version, this will no longer exclude empty or all-NA columns when determining the result dtypes. To retain the old behavior, exclude the relevant entries before the concat operation.\n",
      "  query_results_df = pd.concat([query_results_df, result_df], ignore_index=True)\n"
     ]
    },
    {
     "name": "stdout",
     "output_type": "stream",
     "text": [
      "Running BLASTp: Drosophila_erecta vs Drosophila_teissieri using blast_databases/ct_(cut)/Drosophila_teissieri_combined\n",
      "Running BLASTp: Drosophila_erecta vs Drosophila_yakuba using blast_databases/ct_(cut)/Drosophila_yakuba_combined\n",
      "Running BLASTp: Drosophila_erecta vs Drosophila_ananassae using blast_databases/ct_(cut)/Drosophila_ananassae_combined\n",
      "Running BLASTp: Drosophila_erecta vs Drosophila_simulans using blast_databases/ct_(cut)/Drosophila_simulans_combined\n",
      "Running BLASTp: Drosophila_erecta vs Drosophila_mauritiana using blast_databases/ct_(cut)/Drosophila_mauritiana_combined\n",
      "Results for Drosophila_erecta vs all saved to: cross_species_blast_results/ct_(cut)/Drosophila_erecta_vs_all.csv\n",
      "Running BLASTp: Drosophila_simulans vs Drosophila_melanogaster using blast_databases/ct_(cut)/Drosophila_melanogaster_combined\n"
     ]
    },
    {
     "name": "stderr",
     "output_type": "stream",
     "text": [
      "/var/folders/mj/yrtz1pp53zs_hqrl2_mcw9m80000gn/T/ipykernel_11450/4042733987.py:94: FutureWarning: The behavior of DataFrame concatenation with empty or all-NA entries is deprecated. In a future version, this will no longer exclude empty or all-NA columns when determining the result dtypes. To retain the old behavior, exclude the relevant entries before the concat operation.\n",
      "  query_results_df = pd.concat([query_results_df, result_df], ignore_index=True)\n"
     ]
    },
    {
     "name": "stdout",
     "output_type": "stream",
     "text": [
      "Running BLASTp: Drosophila_simulans vs Drosophila_teissieri using blast_databases/ct_(cut)/Drosophila_teissieri_combined\n",
      "Running BLASTp: Drosophila_simulans vs Drosophila_yakuba using blast_databases/ct_(cut)/Drosophila_yakuba_combined\n",
      "Running BLASTp: Drosophila_simulans vs Drosophila_ananassae using blast_databases/ct_(cut)/Drosophila_ananassae_combined\n",
      "Running BLASTp: Drosophila_simulans vs Drosophila_erecta using blast_databases/ct_(cut)/Drosophila_erecta_combined\n",
      "Running BLASTp: Drosophila_simulans vs Drosophila_mauritiana using blast_databases/ct_(cut)/Drosophila_mauritiana_combined\n",
      "Results for Drosophila_simulans vs all saved to: cross_species_blast_results/ct_(cut)/Drosophila_simulans_vs_all.csv\n",
      "Running BLASTp: Drosophila_mauritiana vs Drosophila_melanogaster using blast_databases/ct_(cut)/Drosophila_melanogaster_combined\n"
     ]
    },
    {
     "name": "stderr",
     "output_type": "stream",
     "text": [
      "/var/folders/mj/yrtz1pp53zs_hqrl2_mcw9m80000gn/T/ipykernel_11450/4042733987.py:94: FutureWarning: The behavior of DataFrame concatenation with empty or all-NA entries is deprecated. In a future version, this will no longer exclude empty or all-NA columns when determining the result dtypes. To retain the old behavior, exclude the relevant entries before the concat operation.\n",
      "  query_results_df = pd.concat([query_results_df, result_df], ignore_index=True)\n"
     ]
    },
    {
     "name": "stdout",
     "output_type": "stream",
     "text": [
      "Running BLASTp: Drosophila_mauritiana vs Drosophila_teissieri using blast_databases/ct_(cut)/Drosophila_teissieri_combined\n",
      "Running BLASTp: Drosophila_mauritiana vs Drosophila_yakuba using blast_databases/ct_(cut)/Drosophila_yakuba_combined\n",
      "Running BLASTp: Drosophila_mauritiana vs Drosophila_ananassae using blast_databases/ct_(cut)/Drosophila_ananassae_combined\n",
      "Running BLASTp: Drosophila_mauritiana vs Drosophila_erecta using blast_databases/ct_(cut)/Drosophila_erecta_combined\n",
      "Running BLASTp: Drosophila_mauritiana vs Drosophila_simulans using blast_databases/ct_(cut)/Drosophila_simulans_combined\n",
      "Results for Drosophila_mauritiana vs all saved to: cross_species_blast_results/ct_(cut)/Drosophila_mauritiana_vs_all.csv\n",
      "Processing gene: Rfx\n",
      "Running BLASTp: Drosophila_melanogaster vs Drosophila_teissieri using blast_databases/Rfx/Drosophila_teissieri_combined\n"
     ]
    },
    {
     "name": "stderr",
     "output_type": "stream",
     "text": [
      "/var/folders/mj/yrtz1pp53zs_hqrl2_mcw9m80000gn/T/ipykernel_11450/4042733987.py:94: FutureWarning: The behavior of DataFrame concatenation with empty or all-NA entries is deprecated. In a future version, this will no longer exclude empty or all-NA columns when determining the result dtypes. To retain the old behavior, exclude the relevant entries before the concat operation.\n",
      "  query_results_df = pd.concat([query_results_df, result_df], ignore_index=True)\n"
     ]
    },
    {
     "name": "stdout",
     "output_type": "stream",
     "text": [
      "Running BLASTp: Drosophila_melanogaster vs Drosophila_yakuba using blast_databases/Rfx/Drosophila_yakuba_combined\n",
      "Running BLASTp: Drosophila_melanogaster vs Drosophila_ananassae using blast_databases/Rfx/Drosophila_ananassae_combined\n",
      "Running BLASTp: Drosophila_melanogaster vs Drosophila_erecta using blast_databases/Rfx/Drosophila_erecta_combined\n",
      "Running BLASTp: Drosophila_melanogaster vs Drosophila_simulans using blast_databases/Rfx/Drosophila_simulans_combined\n",
      "Running BLASTp: Drosophila_melanogaster vs Drosophila_mauritiana using blast_databases/Rfx/Drosophila_mauritiana_combined\n",
      "Results for Drosophila_melanogaster vs all saved to: cross_species_blast_results/Rfx/Drosophila_melanogaster_vs_all.csv\n",
      "Running BLASTp: Drosophila_teissieri vs Drosophila_melanogaster using blast_databases/Rfx/Drosophila_melanogaster_combined\n"
     ]
    },
    {
     "name": "stderr",
     "output_type": "stream",
     "text": [
      "/var/folders/mj/yrtz1pp53zs_hqrl2_mcw9m80000gn/T/ipykernel_11450/4042733987.py:94: FutureWarning: The behavior of DataFrame concatenation with empty or all-NA entries is deprecated. In a future version, this will no longer exclude empty or all-NA columns when determining the result dtypes. To retain the old behavior, exclude the relevant entries before the concat operation.\n",
      "  query_results_df = pd.concat([query_results_df, result_df], ignore_index=True)\n"
     ]
    },
    {
     "name": "stdout",
     "output_type": "stream",
     "text": [
      "Running BLASTp: Drosophila_teissieri vs Drosophila_yakuba using blast_databases/Rfx/Drosophila_yakuba_combined\n",
      "Running BLASTp: Drosophila_teissieri vs Drosophila_ananassae using blast_databases/Rfx/Drosophila_ananassae_combined\n",
      "Running BLASTp: Drosophila_teissieri vs Drosophila_erecta using blast_databases/Rfx/Drosophila_erecta_combined\n",
      "Running BLASTp: Drosophila_teissieri vs Drosophila_simulans using blast_databases/Rfx/Drosophila_simulans_combined\n",
      "Running BLASTp: Drosophila_teissieri vs Drosophila_mauritiana using blast_databases/Rfx/Drosophila_mauritiana_combined\n",
      "Results for Drosophila_teissieri vs all saved to: cross_species_blast_results/Rfx/Drosophila_teissieri_vs_all.csv\n",
      "Running BLASTp: Drosophila_yakuba vs Drosophila_melanogaster using blast_databases/Rfx/Drosophila_melanogaster_combined\n",
      "Running BLASTp: Drosophila_yakuba vs Drosophila_teissieri using blast_databases/Rfx/Drosophila_teissieri_combined\n"
     ]
    },
    {
     "name": "stderr",
     "output_type": "stream",
     "text": [
      "/var/folders/mj/yrtz1pp53zs_hqrl2_mcw9m80000gn/T/ipykernel_11450/4042733987.py:94: FutureWarning: The behavior of DataFrame concatenation with empty or all-NA entries is deprecated. In a future version, this will no longer exclude empty or all-NA columns when determining the result dtypes. To retain the old behavior, exclude the relevant entries before the concat operation.\n",
      "  query_results_df = pd.concat([query_results_df, result_df], ignore_index=True)\n"
     ]
    },
    {
     "name": "stdout",
     "output_type": "stream",
     "text": [
      "Running BLASTp: Drosophila_yakuba vs Drosophila_ananassae using blast_databases/Rfx/Drosophila_ananassae_combined\n",
      "Running BLASTp: Drosophila_yakuba vs Drosophila_erecta using blast_databases/Rfx/Drosophila_erecta_combined\n",
      "Running BLASTp: Drosophila_yakuba vs Drosophila_simulans using blast_databases/Rfx/Drosophila_simulans_combined\n",
      "Running BLASTp: Drosophila_yakuba vs Drosophila_mauritiana using blast_databases/Rfx/Drosophila_mauritiana_combined\n",
      "Results for Drosophila_yakuba vs all saved to: cross_species_blast_results/Rfx/Drosophila_yakuba_vs_all.csv\n",
      "Running BLASTp: Drosophila_ananassae vs Drosophila_melanogaster using blast_databases/Rfx/Drosophila_melanogaster_combined\n",
      "Running BLASTp: Drosophila_ananassae vs Drosophila_teissieri using blast_databases/Rfx/Drosophila_teissieri_combined\n"
     ]
    },
    {
     "name": "stderr",
     "output_type": "stream",
     "text": [
      "/var/folders/mj/yrtz1pp53zs_hqrl2_mcw9m80000gn/T/ipykernel_11450/4042733987.py:94: FutureWarning: The behavior of DataFrame concatenation with empty or all-NA entries is deprecated. In a future version, this will no longer exclude empty or all-NA columns when determining the result dtypes. To retain the old behavior, exclude the relevant entries before the concat operation.\n",
      "  query_results_df = pd.concat([query_results_df, result_df], ignore_index=True)\n"
     ]
    },
    {
     "name": "stdout",
     "output_type": "stream",
     "text": [
      "Running BLASTp: Drosophila_ananassae vs Drosophila_yakuba using blast_databases/Rfx/Drosophila_yakuba_combined\n",
      "Running BLASTp: Drosophila_ananassae vs Drosophila_erecta using blast_databases/Rfx/Drosophila_erecta_combined\n",
      "Running BLASTp: Drosophila_ananassae vs Drosophila_simulans using blast_databases/Rfx/Drosophila_simulans_combined\n",
      "Running BLASTp: Drosophila_ananassae vs Drosophila_mauritiana using blast_databases/Rfx/Drosophila_mauritiana_combined\n",
      "Results for Drosophila_ananassae vs all saved to: cross_species_blast_results/Rfx/Drosophila_ananassae_vs_all.csv\n",
      "Running BLASTp: Drosophila_erecta vs Drosophila_melanogaster using blast_databases/Rfx/Drosophila_melanogaster_combined\n",
      "Running BLASTp: Drosophila_erecta vs Drosophila_teissieri using blast_databases/Rfx/Drosophila_teissieri_combined\n"
     ]
    },
    {
     "name": "stderr",
     "output_type": "stream",
     "text": [
      "/var/folders/mj/yrtz1pp53zs_hqrl2_mcw9m80000gn/T/ipykernel_11450/4042733987.py:94: FutureWarning: The behavior of DataFrame concatenation with empty or all-NA entries is deprecated. In a future version, this will no longer exclude empty or all-NA columns when determining the result dtypes. To retain the old behavior, exclude the relevant entries before the concat operation.\n",
      "  query_results_df = pd.concat([query_results_df, result_df], ignore_index=True)\n"
     ]
    },
    {
     "name": "stdout",
     "output_type": "stream",
     "text": [
      "Running BLASTp: Drosophila_erecta vs Drosophila_yakuba using blast_databases/Rfx/Drosophila_yakuba_combined\n",
      "Running BLASTp: Drosophila_erecta vs Drosophila_ananassae using blast_databases/Rfx/Drosophila_ananassae_combined\n",
      "Running BLASTp: Drosophila_erecta vs Drosophila_simulans using blast_databases/Rfx/Drosophila_simulans_combined\n",
      "Running BLASTp: Drosophila_erecta vs Drosophila_mauritiana using blast_databases/Rfx/Drosophila_mauritiana_combined\n",
      "Results for Drosophila_erecta vs all saved to: cross_species_blast_results/Rfx/Drosophila_erecta_vs_all.csv\n",
      "Running BLASTp: Drosophila_simulans vs Drosophila_melanogaster using blast_databases/Rfx/Drosophila_melanogaster_combined\n",
      "Running BLASTp: Drosophila_simulans vs Drosophila_teissieri using blast_databases/Rfx/Drosophila_teissieri_combined\n"
     ]
    },
    {
     "name": "stderr",
     "output_type": "stream",
     "text": [
      "/var/folders/mj/yrtz1pp53zs_hqrl2_mcw9m80000gn/T/ipykernel_11450/4042733987.py:94: FutureWarning: The behavior of DataFrame concatenation with empty or all-NA entries is deprecated. In a future version, this will no longer exclude empty or all-NA columns when determining the result dtypes. To retain the old behavior, exclude the relevant entries before the concat operation.\n",
      "  query_results_df = pd.concat([query_results_df, result_df], ignore_index=True)\n"
     ]
    },
    {
     "name": "stdout",
     "output_type": "stream",
     "text": [
      "Running BLASTp: Drosophila_simulans vs Drosophila_yakuba using blast_databases/Rfx/Drosophila_yakuba_combined\n",
      "Running BLASTp: Drosophila_simulans vs Drosophila_ananassae using blast_databases/Rfx/Drosophila_ananassae_combined\n",
      "Running BLASTp: Drosophila_simulans vs Drosophila_erecta using blast_databases/Rfx/Drosophila_erecta_combined\n",
      "Running BLASTp: Drosophila_simulans vs Drosophila_mauritiana using blast_databases/Rfx/Drosophila_mauritiana_combined\n",
      "Results for Drosophila_simulans vs all saved to: cross_species_blast_results/Rfx/Drosophila_simulans_vs_all.csv\n",
      "Running BLASTp: Drosophila_mauritiana vs Drosophila_melanogaster using blast_databases/Rfx/Drosophila_melanogaster_combined\n",
      "Running BLASTp: Drosophila_mauritiana vs Drosophila_teissieri using blast_databases/Rfx/Drosophila_teissieri_combined\n"
     ]
    },
    {
     "name": "stderr",
     "output_type": "stream",
     "text": [
      "/var/folders/mj/yrtz1pp53zs_hqrl2_mcw9m80000gn/T/ipykernel_11450/4042733987.py:94: FutureWarning: The behavior of DataFrame concatenation with empty or all-NA entries is deprecated. In a future version, this will no longer exclude empty or all-NA columns when determining the result dtypes. To retain the old behavior, exclude the relevant entries before the concat operation.\n",
      "  query_results_df = pd.concat([query_results_df, result_df], ignore_index=True)\n"
     ]
    },
    {
     "name": "stdout",
     "output_type": "stream",
     "text": [
      "Running BLASTp: Drosophila_mauritiana vs Drosophila_yakuba using blast_databases/Rfx/Drosophila_yakuba_combined\n",
      "Running BLASTp: Drosophila_mauritiana vs Drosophila_ananassae using blast_databases/Rfx/Drosophila_ananassae_combined\n",
      "Running BLASTp: Drosophila_mauritiana vs Drosophila_erecta using blast_databases/Rfx/Drosophila_erecta_combined\n",
      "Running BLASTp: Drosophila_mauritiana vs Drosophila_simulans using blast_databases/Rfx/Drosophila_simulans_combined\n",
      "Results for Drosophila_mauritiana vs all saved to: cross_species_blast_results/Rfx/Drosophila_mauritiana_vs_all.csv\n",
      "Processing gene: CG14921\n",
      "Running BLASTp: Drosophila_melanogaster vs Drosophila_teissieri using blast_databases/CG14921/Drosophila_teissieri_combined\n",
      "Running BLASTp: Drosophila_melanogaster vs Drosophila_yakuba using blast_databases/CG14921/Drosophila_yakuba_combined\n",
      "Running BLASTp: Drosophila_melanogaster vs Drosophila_ananassae using blast_databases/CG14921/Drosophila_ananassae_combined\n"
     ]
    },
    {
     "name": "stderr",
     "output_type": "stream",
     "text": [
      "/var/folders/mj/yrtz1pp53zs_hqrl2_mcw9m80000gn/T/ipykernel_11450/4042733987.py:94: FutureWarning: The behavior of DataFrame concatenation with empty or all-NA entries is deprecated. In a future version, this will no longer exclude empty or all-NA columns when determining the result dtypes. To retain the old behavior, exclude the relevant entries before the concat operation.\n",
      "  query_results_df = pd.concat([query_results_df, result_df], ignore_index=True)\n"
     ]
    },
    {
     "name": "stdout",
     "output_type": "stream",
     "text": [
      "Running BLASTp: Drosophila_melanogaster vs Drosophila_erecta using blast_databases/CG14921/Drosophila_erecta_combined\n",
      "Running BLASTp: Drosophila_melanogaster vs Drosophila_simulans using blast_databases/CG14921/Drosophila_simulans_combined\n",
      "Running BLASTp: Drosophila_melanogaster vs Drosophila_mauritiana using blast_databases/CG14921/Drosophila_mauritiana_combined\n",
      "Results for Drosophila_melanogaster vs all saved to: cross_species_blast_results/CG14921/Drosophila_melanogaster_vs_all.csv\n",
      "Running BLASTp: Drosophila_teissieri vs Drosophila_melanogaster using blast_databases/CG14921/Drosophila_melanogaster_combined\n",
      "Running BLASTp: Drosophila_teissieri vs Drosophila_yakuba using blast_databases/CG14921/Drosophila_yakuba_combined\n",
      "Running BLASTp: Drosophila_teissieri vs Drosophila_ananassae using blast_databases/CG14921/Drosophila_ananassae_combined\n"
     ]
    },
    {
     "name": "stderr",
     "output_type": "stream",
     "text": [
      "/var/folders/mj/yrtz1pp53zs_hqrl2_mcw9m80000gn/T/ipykernel_11450/4042733987.py:94: FutureWarning: The behavior of DataFrame concatenation with empty or all-NA entries is deprecated. In a future version, this will no longer exclude empty or all-NA columns when determining the result dtypes. To retain the old behavior, exclude the relevant entries before the concat operation.\n",
      "  query_results_df = pd.concat([query_results_df, result_df], ignore_index=True)\n"
     ]
    },
    {
     "name": "stdout",
     "output_type": "stream",
     "text": [
      "Running BLASTp: Drosophila_teissieri vs Drosophila_erecta using blast_databases/CG14921/Drosophila_erecta_combined\n",
      "Running BLASTp: Drosophila_teissieri vs Drosophila_simulans using blast_databases/CG14921/Drosophila_simulans_combined\n",
      "Running BLASTp: Drosophila_teissieri vs Drosophila_mauritiana using blast_databases/CG14921/Drosophila_mauritiana_combined\n",
      "Results for Drosophila_teissieri vs all saved to: cross_species_blast_results/CG14921/Drosophila_teissieri_vs_all.csv\n",
      "Running BLASTp: Drosophila_yakuba vs Drosophila_melanogaster using blast_databases/CG14921/Drosophila_melanogaster_combined\n",
      "Running BLASTp: Drosophila_yakuba vs Drosophila_teissieri using blast_databases/CG14921/Drosophila_teissieri_combined\n",
      "Running BLASTp: Drosophila_yakuba vs Drosophila_ananassae using blast_databases/CG14921/Drosophila_ananassae_combined\n"
     ]
    },
    {
     "name": "stderr",
     "output_type": "stream",
     "text": [
      "/var/folders/mj/yrtz1pp53zs_hqrl2_mcw9m80000gn/T/ipykernel_11450/4042733987.py:94: FutureWarning: The behavior of DataFrame concatenation with empty or all-NA entries is deprecated. In a future version, this will no longer exclude empty or all-NA columns when determining the result dtypes. To retain the old behavior, exclude the relevant entries before the concat operation.\n",
      "  query_results_df = pd.concat([query_results_df, result_df], ignore_index=True)\n"
     ]
    },
    {
     "name": "stdout",
     "output_type": "stream",
     "text": [
      "Running BLASTp: Drosophila_yakuba vs Drosophila_erecta using blast_databases/CG14921/Drosophila_erecta_combined\n",
      "Running BLASTp: Drosophila_yakuba vs Drosophila_simulans using blast_databases/CG14921/Drosophila_simulans_combined\n",
      "Running BLASTp: Drosophila_yakuba vs Drosophila_mauritiana using blast_databases/CG14921/Drosophila_mauritiana_combined\n",
      "Results for Drosophila_yakuba vs all saved to: cross_species_blast_results/CG14921/Drosophila_yakuba_vs_all.csv\n",
      "Running BLASTp: Drosophila_ananassae vs Drosophila_melanogaster using blast_databases/CG14921/Drosophila_melanogaster_combined\n",
      "Running BLASTp: Drosophila_ananassae vs Drosophila_teissieri using blast_databases/CG14921/Drosophila_teissieri_combined\n",
      "Running BLASTp: Drosophila_ananassae vs Drosophila_yakuba using blast_databases/CG14921/Drosophila_yakuba_combined\n"
     ]
    },
    {
     "name": "stderr",
     "output_type": "stream",
     "text": [
      "/var/folders/mj/yrtz1pp53zs_hqrl2_mcw9m80000gn/T/ipykernel_11450/4042733987.py:94: FutureWarning: The behavior of DataFrame concatenation with empty or all-NA entries is deprecated. In a future version, this will no longer exclude empty or all-NA columns when determining the result dtypes. To retain the old behavior, exclude the relevant entries before the concat operation.\n",
      "  query_results_df = pd.concat([query_results_df, result_df], ignore_index=True)\n"
     ]
    },
    {
     "name": "stdout",
     "output_type": "stream",
     "text": [
      "Running BLASTp: Drosophila_ananassae vs Drosophila_erecta using blast_databases/CG14921/Drosophila_erecta_combined\n",
      "Running BLASTp: Drosophila_ananassae vs Drosophila_simulans using blast_databases/CG14921/Drosophila_simulans_combined\n",
      "Running BLASTp: Drosophila_ananassae vs Drosophila_mauritiana using blast_databases/CG14921/Drosophila_mauritiana_combined\n",
      "Results for Drosophila_ananassae vs all saved to: cross_species_blast_results/CG14921/Drosophila_ananassae_vs_all.csv\n",
      "Running BLASTp: Drosophila_erecta vs Drosophila_melanogaster using blast_databases/CG14921/Drosophila_melanogaster_combined\n",
      "Running BLASTp: Drosophila_erecta vs Drosophila_teissieri using blast_databases/CG14921/Drosophila_teissieri_combined\n",
      "Running BLASTp: Drosophila_erecta vs Drosophila_yakuba using blast_databases/CG14921/Drosophila_yakuba_combined\n"
     ]
    },
    {
     "name": "stderr",
     "output_type": "stream",
     "text": [
      "/var/folders/mj/yrtz1pp53zs_hqrl2_mcw9m80000gn/T/ipykernel_11450/4042733987.py:94: FutureWarning: The behavior of DataFrame concatenation with empty or all-NA entries is deprecated. In a future version, this will no longer exclude empty or all-NA columns when determining the result dtypes. To retain the old behavior, exclude the relevant entries before the concat operation.\n",
      "  query_results_df = pd.concat([query_results_df, result_df], ignore_index=True)\n"
     ]
    },
    {
     "name": "stdout",
     "output_type": "stream",
     "text": [
      "Running BLASTp: Drosophila_erecta vs Drosophila_ananassae using blast_databases/CG14921/Drosophila_ananassae_combined\n",
      "Running BLASTp: Drosophila_erecta vs Drosophila_simulans using blast_databases/CG14921/Drosophila_simulans_combined\n",
      "Running BLASTp: Drosophila_erecta vs Drosophila_mauritiana using blast_databases/CG14921/Drosophila_mauritiana_combined\n",
      "Results for Drosophila_erecta vs all saved to: cross_species_blast_results/CG14921/Drosophila_erecta_vs_all.csv\n",
      "Running BLASTp: Drosophila_simulans vs Drosophila_melanogaster using blast_databases/CG14921/Drosophila_melanogaster_combined\n",
      "Running BLASTp: Drosophila_simulans vs Drosophila_teissieri using blast_databases/CG14921/Drosophila_teissieri_combined\n",
      "Running BLASTp: Drosophila_simulans vs Drosophila_yakuba using blast_databases/CG14921/Drosophila_yakuba_combined\n"
     ]
    },
    {
     "name": "stderr",
     "output_type": "stream",
     "text": [
      "/var/folders/mj/yrtz1pp53zs_hqrl2_mcw9m80000gn/T/ipykernel_11450/4042733987.py:94: FutureWarning: The behavior of DataFrame concatenation with empty or all-NA entries is deprecated. In a future version, this will no longer exclude empty or all-NA columns when determining the result dtypes. To retain the old behavior, exclude the relevant entries before the concat operation.\n",
      "  query_results_df = pd.concat([query_results_df, result_df], ignore_index=True)\n"
     ]
    },
    {
     "name": "stdout",
     "output_type": "stream",
     "text": [
      "Running BLASTp: Drosophila_simulans vs Drosophila_ananassae using blast_databases/CG14921/Drosophila_ananassae_combined\n",
      "Running BLASTp: Drosophila_simulans vs Drosophila_erecta using blast_databases/CG14921/Drosophila_erecta_combined\n",
      "Running BLASTp: Drosophila_simulans vs Drosophila_mauritiana using blast_databases/CG14921/Drosophila_mauritiana_combined\n",
      "Results for Drosophila_simulans vs all saved to: cross_species_blast_results/CG14921/Drosophila_simulans_vs_all.csv\n",
      "Running BLASTp: Drosophila_mauritiana vs Drosophila_melanogaster using blast_databases/CG14921/Drosophila_melanogaster_combined\n",
      "Running BLASTp: Drosophila_mauritiana vs Drosophila_teissieri using blast_databases/CG14921/Drosophila_teissieri_combined\n",
      "Running BLASTp: Drosophila_mauritiana vs Drosophila_yakuba using blast_databases/CG14921/Drosophila_yakuba_combined\n"
     ]
    },
    {
     "name": "stderr",
     "output_type": "stream",
     "text": [
      "/var/folders/mj/yrtz1pp53zs_hqrl2_mcw9m80000gn/T/ipykernel_11450/4042733987.py:94: FutureWarning: The behavior of DataFrame concatenation with empty or all-NA entries is deprecated. In a future version, this will no longer exclude empty or all-NA columns when determining the result dtypes. To retain the old behavior, exclude the relevant entries before the concat operation.\n",
      "  query_results_df = pd.concat([query_results_df, result_df], ignore_index=True)\n"
     ]
    },
    {
     "name": "stdout",
     "output_type": "stream",
     "text": [
      "Running BLASTp: Drosophila_mauritiana vs Drosophila_ananassae using blast_databases/CG14921/Drosophila_ananassae_combined\n",
      "Running BLASTp: Drosophila_mauritiana vs Drosophila_erecta using blast_databases/CG14921/Drosophila_erecta_combined\n",
      "Running BLASTp: Drosophila_mauritiana vs Drosophila_simulans using blast_databases/CG14921/Drosophila_simulans_combined\n",
      "Results for Drosophila_mauritiana vs all saved to: cross_species_blast_results/CG14921/Drosophila_mauritiana_vs_all.csv\n",
      "Processing gene: CG9313\n",
      "Running BLASTp: Drosophila_melanogaster vs Drosophila_teissieri using blast_databases/CG9313/Drosophila_teissieri_combined\n",
      "Running BLASTp: Drosophila_melanogaster vs Drosophila_yakuba using blast_databases/CG9313/Drosophila_yakuba_combined\n"
     ]
    },
    {
     "name": "stderr",
     "output_type": "stream",
     "text": [
      "/var/folders/mj/yrtz1pp53zs_hqrl2_mcw9m80000gn/T/ipykernel_11450/4042733987.py:94: FutureWarning: The behavior of DataFrame concatenation with empty or all-NA entries is deprecated. In a future version, this will no longer exclude empty or all-NA columns when determining the result dtypes. To retain the old behavior, exclude the relevant entries before the concat operation.\n",
      "  query_results_df = pd.concat([query_results_df, result_df], ignore_index=True)\n"
     ]
    },
    {
     "name": "stdout",
     "output_type": "stream",
     "text": [
      "Running BLASTp: Drosophila_melanogaster vs Drosophila_ananassae using blast_databases/CG9313/Drosophila_ananassae_combined\n",
      "Running BLASTp: Drosophila_melanogaster vs Drosophila_erecta using blast_databases/CG9313/Drosophila_erecta_combined\n",
      "Running BLASTp: Drosophila_melanogaster vs Drosophila_simulans using blast_databases/CG9313/Drosophila_simulans_combined\n",
      "Running BLASTp: Drosophila_melanogaster vs Drosophila_mauritiana using blast_databases/CG9313/Drosophila_mauritiana_combined\n",
      "Results for Drosophila_melanogaster vs all saved to: cross_species_blast_results/CG9313/Drosophila_melanogaster_vs_all.csv\n",
      "Running BLASTp: Drosophila_teissieri vs Drosophila_melanogaster using blast_databases/CG9313/Drosophila_melanogaster_combined\n"
     ]
    },
    {
     "name": "stderr",
     "output_type": "stream",
     "text": [
      "/var/folders/mj/yrtz1pp53zs_hqrl2_mcw9m80000gn/T/ipykernel_11450/4042733987.py:94: FutureWarning: The behavior of DataFrame concatenation with empty or all-NA entries is deprecated. In a future version, this will no longer exclude empty or all-NA columns when determining the result dtypes. To retain the old behavior, exclude the relevant entries before the concat operation.\n",
      "  query_results_df = pd.concat([query_results_df, result_df], ignore_index=True)\n"
     ]
    },
    {
     "name": "stdout",
     "output_type": "stream",
     "text": [
      "Running BLASTp: Drosophila_teissieri vs Drosophila_yakuba using blast_databases/CG9313/Drosophila_yakuba_combined\n",
      "Running BLASTp: Drosophila_teissieri vs Drosophila_ananassae using blast_databases/CG9313/Drosophila_ananassae_combined\n",
      "Running BLASTp: Drosophila_teissieri vs Drosophila_erecta using blast_databases/CG9313/Drosophila_erecta_combined\n",
      "Running BLASTp: Drosophila_teissieri vs Drosophila_simulans using blast_databases/CG9313/Drosophila_simulans_combined\n",
      "Running BLASTp: Drosophila_teissieri vs Drosophila_mauritiana using blast_databases/CG9313/Drosophila_mauritiana_combined\n",
      "Results for Drosophila_teissieri vs all saved to: cross_species_blast_results/CG9313/Drosophila_teissieri_vs_all.csv\n",
      "Running BLASTp: Drosophila_yakuba vs Drosophila_melanogaster using blast_databases/CG9313/Drosophila_melanogaster_combined\n"
     ]
    },
    {
     "name": "stderr",
     "output_type": "stream",
     "text": [
      "/var/folders/mj/yrtz1pp53zs_hqrl2_mcw9m80000gn/T/ipykernel_11450/4042733987.py:94: FutureWarning: The behavior of DataFrame concatenation with empty or all-NA entries is deprecated. In a future version, this will no longer exclude empty or all-NA columns when determining the result dtypes. To retain the old behavior, exclude the relevant entries before the concat operation.\n",
      "  query_results_df = pd.concat([query_results_df, result_df], ignore_index=True)\n"
     ]
    },
    {
     "name": "stdout",
     "output_type": "stream",
     "text": [
      "Running BLASTp: Drosophila_yakuba vs Drosophila_teissieri using blast_databases/CG9313/Drosophila_teissieri_combined\n",
      "Running BLASTp: Drosophila_yakuba vs Drosophila_ananassae using blast_databases/CG9313/Drosophila_ananassae_combined\n",
      "Running BLASTp: Drosophila_yakuba vs Drosophila_erecta using blast_databases/CG9313/Drosophila_erecta_combined\n",
      "Running BLASTp: Drosophila_yakuba vs Drosophila_simulans using blast_databases/CG9313/Drosophila_simulans_combined\n",
      "Running BLASTp: Drosophila_yakuba vs Drosophila_mauritiana using blast_databases/CG9313/Drosophila_mauritiana_combined\n",
      "Results for Drosophila_yakuba vs all saved to: cross_species_blast_results/CG9313/Drosophila_yakuba_vs_all.csv\n",
      "Running BLASTp: Drosophila_ananassae vs Drosophila_melanogaster using blast_databases/CG9313/Drosophila_melanogaster_combined\n"
     ]
    },
    {
     "name": "stderr",
     "output_type": "stream",
     "text": [
      "/var/folders/mj/yrtz1pp53zs_hqrl2_mcw9m80000gn/T/ipykernel_11450/4042733987.py:94: FutureWarning: The behavior of DataFrame concatenation with empty or all-NA entries is deprecated. In a future version, this will no longer exclude empty or all-NA columns when determining the result dtypes. To retain the old behavior, exclude the relevant entries before the concat operation.\n",
      "  query_results_df = pd.concat([query_results_df, result_df], ignore_index=True)\n"
     ]
    },
    {
     "name": "stdout",
     "output_type": "stream",
     "text": [
      "Running BLASTp: Drosophila_ananassae vs Drosophila_teissieri using blast_databases/CG9313/Drosophila_teissieri_combined\n",
      "Running BLASTp: Drosophila_ananassae vs Drosophila_yakuba using blast_databases/CG9313/Drosophila_yakuba_combined\n",
      "Running BLASTp: Drosophila_ananassae vs Drosophila_erecta using blast_databases/CG9313/Drosophila_erecta_combined\n",
      "Running BLASTp: Drosophila_ananassae vs Drosophila_simulans using blast_databases/CG9313/Drosophila_simulans_combined\n",
      "Running BLASTp: Drosophila_ananassae vs Drosophila_mauritiana using blast_databases/CG9313/Drosophila_mauritiana_combined\n",
      "Results for Drosophila_ananassae vs all saved to: cross_species_blast_results/CG9313/Drosophila_ananassae_vs_all.csv\n",
      "Running BLASTp: Drosophila_erecta vs Drosophila_melanogaster using blast_databases/CG9313/Drosophila_melanogaster_combined\n"
     ]
    },
    {
     "name": "stderr",
     "output_type": "stream",
     "text": [
      "/var/folders/mj/yrtz1pp53zs_hqrl2_mcw9m80000gn/T/ipykernel_11450/4042733987.py:94: FutureWarning: The behavior of DataFrame concatenation with empty or all-NA entries is deprecated. In a future version, this will no longer exclude empty or all-NA columns when determining the result dtypes. To retain the old behavior, exclude the relevant entries before the concat operation.\n",
      "  query_results_df = pd.concat([query_results_df, result_df], ignore_index=True)\n"
     ]
    },
    {
     "name": "stdout",
     "output_type": "stream",
     "text": [
      "Running BLASTp: Drosophila_erecta vs Drosophila_teissieri using blast_databases/CG9313/Drosophila_teissieri_combined\n",
      "Running BLASTp: Drosophila_erecta vs Drosophila_yakuba using blast_databases/CG9313/Drosophila_yakuba_combined\n",
      "Running BLASTp: Drosophila_erecta vs Drosophila_ananassae using blast_databases/CG9313/Drosophila_ananassae_combined\n",
      "Running BLASTp: Drosophila_erecta vs Drosophila_simulans using blast_databases/CG9313/Drosophila_simulans_combined\n",
      "Running BLASTp: Drosophila_erecta vs Drosophila_mauritiana using blast_databases/CG9313/Drosophila_mauritiana_combined\n",
      "Results for Drosophila_erecta vs all saved to: cross_species_blast_results/CG9313/Drosophila_erecta_vs_all.csv\n",
      "Running BLASTp: Drosophila_simulans vs Drosophila_melanogaster using blast_databases/CG9313/Drosophila_melanogaster_combined\n"
     ]
    },
    {
     "name": "stderr",
     "output_type": "stream",
     "text": [
      "/var/folders/mj/yrtz1pp53zs_hqrl2_mcw9m80000gn/T/ipykernel_11450/4042733987.py:94: FutureWarning: The behavior of DataFrame concatenation with empty or all-NA entries is deprecated. In a future version, this will no longer exclude empty or all-NA columns when determining the result dtypes. To retain the old behavior, exclude the relevant entries before the concat operation.\n",
      "  query_results_df = pd.concat([query_results_df, result_df], ignore_index=True)\n"
     ]
    },
    {
     "name": "stdout",
     "output_type": "stream",
     "text": [
      "Running BLASTp: Drosophila_simulans vs Drosophila_teissieri using blast_databases/CG9313/Drosophila_teissieri_combined\n",
      "Running BLASTp: Drosophila_simulans vs Drosophila_yakuba using blast_databases/CG9313/Drosophila_yakuba_combined\n",
      "Running BLASTp: Drosophila_simulans vs Drosophila_ananassae using blast_databases/CG9313/Drosophila_ananassae_combined\n",
      "Running BLASTp: Drosophila_simulans vs Drosophila_erecta using blast_databases/CG9313/Drosophila_erecta_combined\n",
      "Running BLASTp: Drosophila_simulans vs Drosophila_mauritiana using blast_databases/CG9313/Drosophila_mauritiana_combined\n",
      "Results for Drosophila_simulans vs all saved to: cross_species_blast_results/CG9313/Drosophila_simulans_vs_all.csv\n",
      "Running BLASTp: Drosophila_mauritiana vs Drosophila_melanogaster using blast_databases/CG9313/Drosophila_melanogaster_combined\n"
     ]
    },
    {
     "name": "stderr",
     "output_type": "stream",
     "text": [
      "/var/folders/mj/yrtz1pp53zs_hqrl2_mcw9m80000gn/T/ipykernel_11450/4042733987.py:94: FutureWarning: The behavior of DataFrame concatenation with empty or all-NA entries is deprecated. In a future version, this will no longer exclude empty or all-NA columns when determining the result dtypes. To retain the old behavior, exclude the relevant entries before the concat operation.\n",
      "  query_results_df = pd.concat([query_results_df, result_df], ignore_index=True)\n"
     ]
    },
    {
     "name": "stdout",
     "output_type": "stream",
     "text": [
      "Running BLASTp: Drosophila_mauritiana vs Drosophila_teissieri using blast_databases/CG9313/Drosophila_teissieri_combined\n",
      "Running BLASTp: Drosophila_mauritiana vs Drosophila_yakuba using blast_databases/CG9313/Drosophila_yakuba_combined\n",
      "Running BLASTp: Drosophila_mauritiana vs Drosophila_ananassae using blast_databases/CG9313/Drosophila_ananassae_combined\n",
      "Running BLASTp: Drosophila_mauritiana vs Drosophila_erecta using blast_databases/CG9313/Drosophila_erecta_combined\n",
      "Running BLASTp: Drosophila_mauritiana vs Drosophila_simulans using blast_databases/CG9313/Drosophila_simulans_combined\n",
      "Results for Drosophila_mauritiana vs all saved to: cross_species_blast_results/CG9313/Drosophila_mauritiana_vs_all.csv\n",
      "Processing gene: Dhc36C_(Dynein_heavy_chain_at_36C)\n",
      "Running BLASTp: Drosophila_melanogaster vs Drosophila_teissieri using blast_databases/Dhc36C_(Dynein_heavy_chain_at_36C)/Drosophila_teissieri_combined\n"
     ]
    },
    {
     "name": "stderr",
     "output_type": "stream",
     "text": [
      "/var/folders/mj/yrtz1pp53zs_hqrl2_mcw9m80000gn/T/ipykernel_11450/4042733987.py:94: FutureWarning: The behavior of DataFrame concatenation with empty or all-NA entries is deprecated. In a future version, this will no longer exclude empty or all-NA columns when determining the result dtypes. To retain the old behavior, exclude the relevant entries before the concat operation.\n",
      "  query_results_df = pd.concat([query_results_df, result_df], ignore_index=True)\n"
     ]
    },
    {
     "name": "stdout",
     "output_type": "stream",
     "text": [
      "Running BLASTp: Drosophila_melanogaster vs Drosophila_yakuba using blast_databases/Dhc36C_(Dynein_heavy_chain_at_36C)/Drosophila_yakuba_combined\n",
      "Running BLASTp: Drosophila_melanogaster vs Drosophila_ananassae using blast_databases/Dhc36C_(Dynein_heavy_chain_at_36C)/Drosophila_ananassae_combined\n",
      "Running BLASTp: Drosophila_melanogaster vs Drosophila_erecta using blast_databases/Dhc36C_(Dynein_heavy_chain_at_36C)/Drosophila_erecta_combined\n",
      "Running BLASTp: Drosophila_melanogaster vs Drosophila_simulans using blast_databases/Dhc36C_(Dynein_heavy_chain_at_36C)/Drosophila_simulans_combined\n",
      "Running BLASTp: Drosophila_melanogaster vs Drosophila_mauritiana using blast_databases/Dhc36C_(Dynein_heavy_chain_at_36C)/Drosophila_mauritiana_combined\n",
      "Results for Drosophila_melanogaster vs all saved to: cross_species_blast_results/Dhc36C_(Dynein_heavy_chain_at_36C)/Drosophila_melanogaster_vs_all.csv\n",
      "Running BLASTp: Drosophila_teissieri vs Drosophila_melanogaster using blast_databases/Dhc36C_(Dynein_heavy_chain_at_36C)/Drosophila_melanogaster_combined\n",
      "Running BLASTp: Drosophila_teissieri vs Drosophila_yakuba using blast_databases/Dhc36C_(Dynein_heavy_chain_at_36C)/Drosophila_yakuba_combined\n"
     ]
    },
    {
     "name": "stderr",
     "output_type": "stream",
     "text": [
      "/var/folders/mj/yrtz1pp53zs_hqrl2_mcw9m80000gn/T/ipykernel_11450/4042733987.py:94: FutureWarning: The behavior of DataFrame concatenation with empty or all-NA entries is deprecated. In a future version, this will no longer exclude empty or all-NA columns when determining the result dtypes. To retain the old behavior, exclude the relevant entries before the concat operation.\n",
      "  query_results_df = pd.concat([query_results_df, result_df], ignore_index=True)\n"
     ]
    },
    {
     "name": "stdout",
     "output_type": "stream",
     "text": [
      "Running BLASTp: Drosophila_teissieri vs Drosophila_ananassae using blast_databases/Dhc36C_(Dynein_heavy_chain_at_36C)/Drosophila_ananassae_combined\n",
      "Running BLASTp: Drosophila_teissieri vs Drosophila_erecta using blast_databases/Dhc36C_(Dynein_heavy_chain_at_36C)/Drosophila_erecta_combined\n",
      "Running BLASTp: Drosophila_teissieri vs Drosophila_simulans using blast_databases/Dhc36C_(Dynein_heavy_chain_at_36C)/Drosophila_simulans_combined\n",
      "Running BLASTp: Drosophila_teissieri vs Drosophila_mauritiana using blast_databases/Dhc36C_(Dynein_heavy_chain_at_36C)/Drosophila_mauritiana_combined\n",
      "Results for Drosophila_teissieri vs all saved to: cross_species_blast_results/Dhc36C_(Dynein_heavy_chain_at_36C)/Drosophila_teissieri_vs_all.csv\n",
      "Running BLASTp: Drosophila_yakuba vs Drosophila_melanogaster using blast_databases/Dhc36C_(Dynein_heavy_chain_at_36C)/Drosophila_melanogaster_combined\n",
      "Running BLASTp: Drosophila_yakuba vs Drosophila_teissieri using blast_databases/Dhc36C_(Dynein_heavy_chain_at_36C)/Drosophila_teissieri_combined\n"
     ]
    },
    {
     "name": "stderr",
     "output_type": "stream",
     "text": [
      "/var/folders/mj/yrtz1pp53zs_hqrl2_mcw9m80000gn/T/ipykernel_11450/4042733987.py:94: FutureWarning: The behavior of DataFrame concatenation with empty or all-NA entries is deprecated. In a future version, this will no longer exclude empty or all-NA columns when determining the result dtypes. To retain the old behavior, exclude the relevant entries before the concat operation.\n",
      "  query_results_df = pd.concat([query_results_df, result_df], ignore_index=True)\n"
     ]
    },
    {
     "name": "stdout",
     "output_type": "stream",
     "text": [
      "Running BLASTp: Drosophila_yakuba vs Drosophila_ananassae using blast_databases/Dhc36C_(Dynein_heavy_chain_at_36C)/Drosophila_ananassae_combined\n",
      "Running BLASTp: Drosophila_yakuba vs Drosophila_erecta using blast_databases/Dhc36C_(Dynein_heavy_chain_at_36C)/Drosophila_erecta_combined\n",
      "Running BLASTp: Drosophila_yakuba vs Drosophila_simulans using blast_databases/Dhc36C_(Dynein_heavy_chain_at_36C)/Drosophila_simulans_combined\n",
      "Running BLASTp: Drosophila_yakuba vs Drosophila_mauritiana using blast_databases/Dhc36C_(Dynein_heavy_chain_at_36C)/Drosophila_mauritiana_combined\n",
      "Results for Drosophila_yakuba vs all saved to: cross_species_blast_results/Dhc36C_(Dynein_heavy_chain_at_36C)/Drosophila_yakuba_vs_all.csv\n",
      "Running BLASTp: Drosophila_ananassae vs Drosophila_melanogaster using blast_databases/Dhc36C_(Dynein_heavy_chain_at_36C)/Drosophila_melanogaster_combined\n",
      "Running BLASTp: Drosophila_ananassae vs Drosophila_teissieri using blast_databases/Dhc36C_(Dynein_heavy_chain_at_36C)/Drosophila_teissieri_combined\n"
     ]
    },
    {
     "name": "stderr",
     "output_type": "stream",
     "text": [
      "/var/folders/mj/yrtz1pp53zs_hqrl2_mcw9m80000gn/T/ipykernel_11450/4042733987.py:94: FutureWarning: The behavior of DataFrame concatenation with empty or all-NA entries is deprecated. In a future version, this will no longer exclude empty or all-NA columns when determining the result dtypes. To retain the old behavior, exclude the relevant entries before the concat operation.\n",
      "  query_results_df = pd.concat([query_results_df, result_df], ignore_index=True)\n"
     ]
    },
    {
     "name": "stdout",
     "output_type": "stream",
     "text": [
      "Running BLASTp: Drosophila_ananassae vs Drosophila_yakuba using blast_databases/Dhc36C_(Dynein_heavy_chain_at_36C)/Drosophila_yakuba_combined\n",
      "Running BLASTp: Drosophila_ananassae vs Drosophila_erecta using blast_databases/Dhc36C_(Dynein_heavy_chain_at_36C)/Drosophila_erecta_combined\n",
      "Running BLASTp: Drosophila_ananassae vs Drosophila_simulans using blast_databases/Dhc36C_(Dynein_heavy_chain_at_36C)/Drosophila_simulans_combined\n",
      "Running BLASTp: Drosophila_ananassae vs Drosophila_mauritiana using blast_databases/Dhc36C_(Dynein_heavy_chain_at_36C)/Drosophila_mauritiana_combined\n",
      "Results for Drosophila_ananassae vs all saved to: cross_species_blast_results/Dhc36C_(Dynein_heavy_chain_at_36C)/Drosophila_ananassae_vs_all.csv\n",
      "Running BLASTp: Drosophila_erecta vs Drosophila_melanogaster using blast_databases/Dhc36C_(Dynein_heavy_chain_at_36C)/Drosophila_melanogaster_combined\n",
      "Running BLASTp: Drosophila_erecta vs Drosophila_teissieri using blast_databases/Dhc36C_(Dynein_heavy_chain_at_36C)/Drosophila_teissieri_combined\n"
     ]
    },
    {
     "name": "stderr",
     "output_type": "stream",
     "text": [
      "/var/folders/mj/yrtz1pp53zs_hqrl2_mcw9m80000gn/T/ipykernel_11450/4042733987.py:94: FutureWarning: The behavior of DataFrame concatenation with empty or all-NA entries is deprecated. In a future version, this will no longer exclude empty or all-NA columns when determining the result dtypes. To retain the old behavior, exclude the relevant entries before the concat operation.\n",
      "  query_results_df = pd.concat([query_results_df, result_df], ignore_index=True)\n"
     ]
    },
    {
     "name": "stdout",
     "output_type": "stream",
     "text": [
      "Running BLASTp: Drosophila_erecta vs Drosophila_yakuba using blast_databases/Dhc36C_(Dynein_heavy_chain_at_36C)/Drosophila_yakuba_combined\n",
      "Running BLASTp: Drosophila_erecta vs Drosophila_ananassae using blast_databases/Dhc36C_(Dynein_heavy_chain_at_36C)/Drosophila_ananassae_combined\n",
      "Running BLASTp: Drosophila_erecta vs Drosophila_simulans using blast_databases/Dhc36C_(Dynein_heavy_chain_at_36C)/Drosophila_simulans_combined\n",
      "Running BLASTp: Drosophila_erecta vs Drosophila_mauritiana using blast_databases/Dhc36C_(Dynein_heavy_chain_at_36C)/Drosophila_mauritiana_combined\n",
      "Results for Drosophila_erecta vs all saved to: cross_species_blast_results/Dhc36C_(Dynein_heavy_chain_at_36C)/Drosophila_erecta_vs_all.csv\n",
      "Running BLASTp: Drosophila_simulans vs Drosophila_melanogaster using blast_databases/Dhc36C_(Dynein_heavy_chain_at_36C)/Drosophila_melanogaster_combined\n",
      "Running BLASTp: Drosophila_simulans vs Drosophila_teissieri using blast_databases/Dhc36C_(Dynein_heavy_chain_at_36C)/Drosophila_teissieri_combined\n"
     ]
    },
    {
     "name": "stderr",
     "output_type": "stream",
     "text": [
      "/var/folders/mj/yrtz1pp53zs_hqrl2_mcw9m80000gn/T/ipykernel_11450/4042733987.py:94: FutureWarning: The behavior of DataFrame concatenation with empty or all-NA entries is deprecated. In a future version, this will no longer exclude empty or all-NA columns when determining the result dtypes. To retain the old behavior, exclude the relevant entries before the concat operation.\n",
      "  query_results_df = pd.concat([query_results_df, result_df], ignore_index=True)\n"
     ]
    },
    {
     "name": "stdout",
     "output_type": "stream",
     "text": [
      "Running BLASTp: Drosophila_simulans vs Drosophila_yakuba using blast_databases/Dhc36C_(Dynein_heavy_chain_at_36C)/Drosophila_yakuba_combined\n",
      "Running BLASTp: Drosophila_simulans vs Drosophila_ananassae using blast_databases/Dhc36C_(Dynein_heavy_chain_at_36C)/Drosophila_ananassae_combined\n",
      "Running BLASTp: Drosophila_simulans vs Drosophila_erecta using blast_databases/Dhc36C_(Dynein_heavy_chain_at_36C)/Drosophila_erecta_combined\n",
      "Running BLASTp: Drosophila_simulans vs Drosophila_mauritiana using blast_databases/Dhc36C_(Dynein_heavy_chain_at_36C)/Drosophila_mauritiana_combined\n",
      "Results for Drosophila_simulans vs all saved to: cross_species_blast_results/Dhc36C_(Dynein_heavy_chain_at_36C)/Drosophila_simulans_vs_all.csv\n",
      "Running BLASTp: Drosophila_mauritiana vs Drosophila_melanogaster using blast_databases/Dhc36C_(Dynein_heavy_chain_at_36C)/Drosophila_melanogaster_combined\n",
      "Running BLASTp: Drosophila_mauritiana vs Drosophila_teissieri using blast_databases/Dhc36C_(Dynein_heavy_chain_at_36C)/Drosophila_teissieri_combined\n"
     ]
    },
    {
     "name": "stderr",
     "output_type": "stream",
     "text": [
      "/var/folders/mj/yrtz1pp53zs_hqrl2_mcw9m80000gn/T/ipykernel_11450/4042733987.py:94: FutureWarning: The behavior of DataFrame concatenation with empty or all-NA entries is deprecated. In a future version, this will no longer exclude empty or all-NA columns when determining the result dtypes. To retain the old behavior, exclude the relevant entries before the concat operation.\n",
      "  query_results_df = pd.concat([query_results_df, result_df], ignore_index=True)\n"
     ]
    },
    {
     "name": "stdout",
     "output_type": "stream",
     "text": [
      "Running BLASTp: Drosophila_mauritiana vs Drosophila_yakuba using blast_databases/Dhc36C_(Dynein_heavy_chain_at_36C)/Drosophila_yakuba_combined\n",
      "Running BLASTp: Drosophila_mauritiana vs Drosophila_ananassae using blast_databases/Dhc36C_(Dynein_heavy_chain_at_36C)/Drosophila_ananassae_combined\n",
      "Running BLASTp: Drosophila_mauritiana vs Drosophila_erecta using blast_databases/Dhc36C_(Dynein_heavy_chain_at_36C)/Drosophila_erecta_combined\n",
      "Running BLASTp: Drosophila_mauritiana vs Drosophila_simulans using blast_databases/Dhc36C_(Dynein_heavy_chain_at_36C)/Drosophila_simulans_combined\n",
      "Results for Drosophila_mauritiana vs all saved to: cross_species_blast_results/Dhc36C_(Dynein_heavy_chain_at_36C)/Drosophila_mauritiana_vs_all.csv\n",
      "Processing gene: Bmcp\n",
      "Running BLASTp: Drosophila_melanogaster vs Drosophila_teissieri using blast_databases/Bmcp/Drosophila_teissieri_combined\n",
      "Running BLASTp: Drosophila_melanogaster vs Drosophila_yakuba using blast_databases/Bmcp/Drosophila_yakuba_combined\n"
     ]
    },
    {
     "name": "stderr",
     "output_type": "stream",
     "text": [
      "/var/folders/mj/yrtz1pp53zs_hqrl2_mcw9m80000gn/T/ipykernel_11450/4042733987.py:94: FutureWarning: The behavior of DataFrame concatenation with empty or all-NA entries is deprecated. In a future version, this will no longer exclude empty or all-NA columns when determining the result dtypes. To retain the old behavior, exclude the relevant entries before the concat operation.\n",
      "  query_results_df = pd.concat([query_results_df, result_df], ignore_index=True)\n"
     ]
    },
    {
     "name": "stdout",
     "output_type": "stream",
     "text": [
      "Running BLASTp: Drosophila_melanogaster vs Drosophila_ananassae using blast_databases/Bmcp/Drosophila_ananassae_combined\n",
      "Running BLASTp: Drosophila_melanogaster vs Drosophila_erecta using blast_databases/Bmcp/Drosophila_erecta_combined\n",
      "Running BLASTp: Drosophila_melanogaster vs Drosophila_simulans using blast_databases/Bmcp/Drosophila_simulans_combined\n",
      "Running BLASTp: Drosophila_melanogaster vs Drosophila_mauritiana using blast_databases/Bmcp/Drosophila_mauritiana_combined\n",
      "Results for Drosophila_melanogaster vs all saved to: cross_species_blast_results/Bmcp/Drosophila_melanogaster_vs_all.csv\n",
      "Running BLASTp: Drosophila_teissieri vs Drosophila_melanogaster using blast_databases/Bmcp/Drosophila_melanogaster_combined\n",
      "Running BLASTp: Drosophila_teissieri vs Drosophila_yakuba using blast_databases/Bmcp/Drosophila_yakuba_combined\n"
     ]
    },
    {
     "name": "stderr",
     "output_type": "stream",
     "text": [
      "/var/folders/mj/yrtz1pp53zs_hqrl2_mcw9m80000gn/T/ipykernel_11450/4042733987.py:94: FutureWarning: The behavior of DataFrame concatenation with empty or all-NA entries is deprecated. In a future version, this will no longer exclude empty or all-NA columns when determining the result dtypes. To retain the old behavior, exclude the relevant entries before the concat operation.\n",
      "  query_results_df = pd.concat([query_results_df, result_df], ignore_index=True)\n"
     ]
    },
    {
     "name": "stdout",
     "output_type": "stream",
     "text": [
      "Running BLASTp: Drosophila_teissieri vs Drosophila_ananassae using blast_databases/Bmcp/Drosophila_ananassae_combined\n",
      "Running BLASTp: Drosophila_teissieri vs Drosophila_erecta using blast_databases/Bmcp/Drosophila_erecta_combined\n",
      "Running BLASTp: Drosophila_teissieri vs Drosophila_simulans using blast_databases/Bmcp/Drosophila_simulans_combined\n",
      "Running BLASTp: Drosophila_teissieri vs Drosophila_mauritiana using blast_databases/Bmcp/Drosophila_mauritiana_combined\n",
      "Results for Drosophila_teissieri vs all saved to: cross_species_blast_results/Bmcp/Drosophila_teissieri_vs_all.csv\n",
      "Running BLASTp: Drosophila_yakuba vs Drosophila_melanogaster using blast_databases/Bmcp/Drosophila_melanogaster_combined\n"
     ]
    },
    {
     "name": "stderr",
     "output_type": "stream",
     "text": [
      "/var/folders/mj/yrtz1pp53zs_hqrl2_mcw9m80000gn/T/ipykernel_11450/4042733987.py:94: FutureWarning: The behavior of DataFrame concatenation with empty or all-NA entries is deprecated. In a future version, this will no longer exclude empty or all-NA columns when determining the result dtypes. To retain the old behavior, exclude the relevant entries before the concat operation.\n",
      "  query_results_df = pd.concat([query_results_df, result_df], ignore_index=True)\n"
     ]
    },
    {
     "name": "stdout",
     "output_type": "stream",
     "text": [
      "Running BLASTp: Drosophila_yakuba vs Drosophila_teissieri using blast_databases/Bmcp/Drosophila_teissieri_combined\n",
      "Running BLASTp: Drosophila_yakuba vs Drosophila_ananassae using blast_databases/Bmcp/Drosophila_ananassae_combined\n",
      "Running BLASTp: Drosophila_yakuba vs Drosophila_erecta using blast_databases/Bmcp/Drosophila_erecta_combined\n",
      "Running BLASTp: Drosophila_yakuba vs Drosophila_simulans using blast_databases/Bmcp/Drosophila_simulans_combined\n",
      "Running BLASTp: Drosophila_yakuba vs Drosophila_mauritiana using blast_databases/Bmcp/Drosophila_mauritiana_combined\n",
      "Results for Drosophila_yakuba vs all saved to: cross_species_blast_results/Bmcp/Drosophila_yakuba_vs_all.csv\n",
      "Running BLASTp: Drosophila_ananassae vs Drosophila_melanogaster using blast_databases/Bmcp/Drosophila_melanogaster_combined\n"
     ]
    },
    {
     "name": "stderr",
     "output_type": "stream",
     "text": [
      "/var/folders/mj/yrtz1pp53zs_hqrl2_mcw9m80000gn/T/ipykernel_11450/4042733987.py:94: FutureWarning: The behavior of DataFrame concatenation with empty or all-NA entries is deprecated. In a future version, this will no longer exclude empty or all-NA columns when determining the result dtypes. To retain the old behavior, exclude the relevant entries before the concat operation.\n",
      "  query_results_df = pd.concat([query_results_df, result_df], ignore_index=True)\n"
     ]
    },
    {
     "name": "stdout",
     "output_type": "stream",
     "text": [
      "Running BLASTp: Drosophila_ananassae vs Drosophila_teissieri using blast_databases/Bmcp/Drosophila_teissieri_combined\n",
      "Running BLASTp: Drosophila_ananassae vs Drosophila_yakuba using blast_databases/Bmcp/Drosophila_yakuba_combined\n",
      "Running BLASTp: Drosophila_ananassae vs Drosophila_erecta using blast_databases/Bmcp/Drosophila_erecta_combined\n",
      "Running BLASTp: Drosophila_ananassae vs Drosophila_simulans using blast_databases/Bmcp/Drosophila_simulans_combined\n",
      "Running BLASTp: Drosophila_ananassae vs Drosophila_mauritiana using blast_databases/Bmcp/Drosophila_mauritiana_combined\n",
      "Results for Drosophila_ananassae vs all saved to: cross_species_blast_results/Bmcp/Drosophila_ananassae_vs_all.csv\n",
      "Running BLASTp: Drosophila_erecta vs Drosophila_melanogaster using blast_databases/Bmcp/Drosophila_melanogaster_combined\n"
     ]
    },
    {
     "name": "stderr",
     "output_type": "stream",
     "text": [
      "/var/folders/mj/yrtz1pp53zs_hqrl2_mcw9m80000gn/T/ipykernel_11450/4042733987.py:94: FutureWarning: The behavior of DataFrame concatenation with empty or all-NA entries is deprecated. In a future version, this will no longer exclude empty or all-NA columns when determining the result dtypes. To retain the old behavior, exclude the relevant entries before the concat operation.\n",
      "  query_results_df = pd.concat([query_results_df, result_df], ignore_index=True)\n"
     ]
    },
    {
     "name": "stdout",
     "output_type": "stream",
     "text": [
      "Running BLASTp: Drosophila_erecta vs Drosophila_teissieri using blast_databases/Bmcp/Drosophila_teissieri_combined\n",
      "Running BLASTp: Drosophila_erecta vs Drosophila_yakuba using blast_databases/Bmcp/Drosophila_yakuba_combined\n",
      "Running BLASTp: Drosophila_erecta vs Drosophila_ananassae using blast_databases/Bmcp/Drosophila_ananassae_combined\n",
      "Running BLASTp: Drosophila_erecta vs Drosophila_simulans using blast_databases/Bmcp/Drosophila_simulans_combined\n",
      "Running BLASTp: Drosophila_erecta vs Drosophila_mauritiana using blast_databases/Bmcp/Drosophila_mauritiana_combined\n",
      "Results for Drosophila_erecta vs all saved to: cross_species_blast_results/Bmcp/Drosophila_erecta_vs_all.csv\n",
      "Running BLASTp: Drosophila_simulans vs Drosophila_melanogaster using blast_databases/Bmcp/Drosophila_melanogaster_combined\n"
     ]
    },
    {
     "name": "stderr",
     "output_type": "stream",
     "text": [
      "/var/folders/mj/yrtz1pp53zs_hqrl2_mcw9m80000gn/T/ipykernel_11450/4042733987.py:94: FutureWarning: The behavior of DataFrame concatenation with empty or all-NA entries is deprecated. In a future version, this will no longer exclude empty or all-NA columns when determining the result dtypes. To retain the old behavior, exclude the relevant entries before the concat operation.\n",
      "  query_results_df = pd.concat([query_results_df, result_df], ignore_index=True)\n"
     ]
    },
    {
     "name": "stdout",
     "output_type": "stream",
     "text": [
      "Running BLASTp: Drosophila_simulans vs Drosophila_teissieri using blast_databases/Bmcp/Drosophila_teissieri_combined\n",
      "Running BLASTp: Drosophila_simulans vs Drosophila_yakuba using blast_databases/Bmcp/Drosophila_yakuba_combined\n",
      "Running BLASTp: Drosophila_simulans vs Drosophila_ananassae using blast_databases/Bmcp/Drosophila_ananassae_combined\n",
      "Running BLASTp: Drosophila_simulans vs Drosophila_erecta using blast_databases/Bmcp/Drosophila_erecta_combined\n",
      "Running BLASTp: Drosophila_simulans vs Drosophila_mauritiana using blast_databases/Bmcp/Drosophila_mauritiana_combined\n",
      "Results for Drosophila_simulans vs all saved to: cross_species_blast_results/Bmcp/Drosophila_simulans_vs_all.csv\n",
      "Running BLASTp: Drosophila_mauritiana vs Drosophila_melanogaster using blast_databases/Bmcp/Drosophila_melanogaster_combined\n"
     ]
    },
    {
     "name": "stderr",
     "output_type": "stream",
     "text": [
      "/var/folders/mj/yrtz1pp53zs_hqrl2_mcw9m80000gn/T/ipykernel_11450/4042733987.py:94: FutureWarning: The behavior of DataFrame concatenation with empty or all-NA entries is deprecated. In a future version, this will no longer exclude empty or all-NA columns when determining the result dtypes. To retain the old behavior, exclude the relevant entries before the concat operation.\n",
      "  query_results_df = pd.concat([query_results_df, result_df], ignore_index=True)\n"
     ]
    },
    {
     "name": "stdout",
     "output_type": "stream",
     "text": [
      "Running BLASTp: Drosophila_mauritiana vs Drosophila_teissieri using blast_databases/Bmcp/Drosophila_teissieri_combined\n",
      "Running BLASTp: Drosophila_mauritiana vs Drosophila_yakuba using blast_databases/Bmcp/Drosophila_yakuba_combined\n",
      "Running BLASTp: Drosophila_mauritiana vs Drosophila_ananassae using blast_databases/Bmcp/Drosophila_ananassae_combined\n",
      "Running BLASTp: Drosophila_mauritiana vs Drosophila_erecta using blast_databases/Bmcp/Drosophila_erecta_combined\n",
      "Running BLASTp: Drosophila_mauritiana vs Drosophila_simulans using blast_databases/Bmcp/Drosophila_simulans_combined\n",
      "Results for Drosophila_mauritiana vs all saved to: cross_species_blast_results/Bmcp/Drosophila_mauritiana_vs_all.csv\n",
      "Processing gene: ato_(atonal)\n",
      "Running BLASTp: Drosophila_melanogaster vs Drosophila_teissieri using blast_databases/ato_(atonal)/Drosophila_teissieri_combined\n"
     ]
    },
    {
     "name": "stderr",
     "output_type": "stream",
     "text": [
      "/var/folders/mj/yrtz1pp53zs_hqrl2_mcw9m80000gn/T/ipykernel_11450/4042733987.py:94: FutureWarning: The behavior of DataFrame concatenation with empty or all-NA entries is deprecated. In a future version, this will no longer exclude empty or all-NA columns when determining the result dtypes. To retain the old behavior, exclude the relevant entries before the concat operation.\n",
      "  query_results_df = pd.concat([query_results_df, result_df], ignore_index=True)\n"
     ]
    },
    {
     "name": "stdout",
     "output_type": "stream",
     "text": [
      "Running BLASTp: Drosophila_melanogaster vs Drosophila_yakuba using blast_databases/ato_(atonal)/Drosophila_yakuba_combined\n",
      "Running BLASTp: Drosophila_melanogaster vs Drosophila_ananassae using blast_databases/ato_(atonal)/Drosophila_ananassae_combined\n",
      "Running BLASTp: Drosophila_melanogaster vs Drosophila_erecta using blast_databases/ato_(atonal)/Drosophila_erecta_combined\n",
      "Running BLASTp: Drosophila_melanogaster vs Drosophila_simulans using blast_databases/ato_(atonal)/Drosophila_simulans_combined\n",
      "Running BLASTp: Drosophila_melanogaster vs Drosophila_mauritiana using blast_databases/ato_(atonal)/Drosophila_mauritiana_combined\n",
      "Results for Drosophila_melanogaster vs all saved to: cross_species_blast_results/ato_(atonal)/Drosophila_melanogaster_vs_all.csv\n",
      "Running BLASTp: Drosophila_teissieri vs Drosophila_melanogaster using blast_databases/ato_(atonal)/Drosophila_melanogaster_combined\n"
     ]
    },
    {
     "name": "stderr",
     "output_type": "stream",
     "text": [
      "/var/folders/mj/yrtz1pp53zs_hqrl2_mcw9m80000gn/T/ipykernel_11450/4042733987.py:94: FutureWarning: The behavior of DataFrame concatenation with empty or all-NA entries is deprecated. In a future version, this will no longer exclude empty or all-NA columns when determining the result dtypes. To retain the old behavior, exclude the relevant entries before the concat operation.\n",
      "  query_results_df = pd.concat([query_results_df, result_df], ignore_index=True)\n"
     ]
    },
    {
     "name": "stdout",
     "output_type": "stream",
     "text": [
      "Running BLASTp: Drosophila_teissieri vs Drosophila_yakuba using blast_databases/ato_(atonal)/Drosophila_yakuba_combined\n",
      "Running BLASTp: Drosophila_teissieri vs Drosophila_ananassae using blast_databases/ato_(atonal)/Drosophila_ananassae_combined\n",
      "Running BLASTp: Drosophila_teissieri vs Drosophila_erecta using blast_databases/ato_(atonal)/Drosophila_erecta_combined\n",
      "Running BLASTp: Drosophila_teissieri vs Drosophila_simulans using blast_databases/ato_(atonal)/Drosophila_simulans_combined\n",
      "Running BLASTp: Drosophila_teissieri vs Drosophila_mauritiana using blast_databases/ato_(atonal)/Drosophila_mauritiana_combined\n",
      "Results for Drosophila_teissieri vs all saved to: cross_species_blast_results/ato_(atonal)/Drosophila_teissieri_vs_all.csv\n",
      "Running BLASTp: Drosophila_yakuba vs Drosophila_melanogaster using blast_databases/ato_(atonal)/Drosophila_melanogaster_combined\n"
     ]
    },
    {
     "name": "stderr",
     "output_type": "stream",
     "text": [
      "/var/folders/mj/yrtz1pp53zs_hqrl2_mcw9m80000gn/T/ipykernel_11450/4042733987.py:94: FutureWarning: The behavior of DataFrame concatenation with empty or all-NA entries is deprecated. In a future version, this will no longer exclude empty or all-NA columns when determining the result dtypes. To retain the old behavior, exclude the relevant entries before the concat operation.\n",
      "  query_results_df = pd.concat([query_results_df, result_df], ignore_index=True)\n"
     ]
    },
    {
     "name": "stdout",
     "output_type": "stream",
     "text": [
      "Running BLASTp: Drosophila_yakuba vs Drosophila_teissieri using blast_databases/ato_(atonal)/Drosophila_teissieri_combined\n",
      "Running BLASTp: Drosophila_yakuba vs Drosophila_ananassae using blast_databases/ato_(atonal)/Drosophila_ananassae_combined\n",
      "Running BLASTp: Drosophila_yakuba vs Drosophila_erecta using blast_databases/ato_(atonal)/Drosophila_erecta_combined\n",
      "Running BLASTp: Drosophila_yakuba vs Drosophila_simulans using blast_databases/ato_(atonal)/Drosophila_simulans_combined\n",
      "Running BLASTp: Drosophila_yakuba vs Drosophila_mauritiana using blast_databases/ato_(atonal)/Drosophila_mauritiana_combined\n",
      "Results for Drosophila_yakuba vs all saved to: cross_species_blast_results/ato_(atonal)/Drosophila_yakuba_vs_all.csv\n",
      "Running BLASTp: Drosophila_ananassae vs Drosophila_melanogaster using blast_databases/ato_(atonal)/Drosophila_melanogaster_combined\n"
     ]
    },
    {
     "name": "stderr",
     "output_type": "stream",
     "text": [
      "/var/folders/mj/yrtz1pp53zs_hqrl2_mcw9m80000gn/T/ipykernel_11450/4042733987.py:94: FutureWarning: The behavior of DataFrame concatenation with empty or all-NA entries is deprecated. In a future version, this will no longer exclude empty or all-NA columns when determining the result dtypes. To retain the old behavior, exclude the relevant entries before the concat operation.\n",
      "  query_results_df = pd.concat([query_results_df, result_df], ignore_index=True)\n"
     ]
    },
    {
     "name": "stdout",
     "output_type": "stream",
     "text": [
      "Running BLASTp: Drosophila_ananassae vs Drosophila_teissieri using blast_databases/ato_(atonal)/Drosophila_teissieri_combined\n",
      "Running BLASTp: Drosophila_ananassae vs Drosophila_yakuba using blast_databases/ato_(atonal)/Drosophila_yakuba_combined\n",
      "Running BLASTp: Drosophila_ananassae vs Drosophila_erecta using blast_databases/ato_(atonal)/Drosophila_erecta_combined\n",
      "Running BLASTp: Drosophila_ananassae vs Drosophila_simulans using blast_databases/ato_(atonal)/Drosophila_simulans_combined\n",
      "Running BLASTp: Drosophila_ananassae vs Drosophila_mauritiana using blast_databases/ato_(atonal)/Drosophila_mauritiana_combined\n",
      "Results for Drosophila_ananassae vs all saved to: cross_species_blast_results/ato_(atonal)/Drosophila_ananassae_vs_all.csv\n",
      "Running BLASTp: Drosophila_erecta vs Drosophila_melanogaster using blast_databases/ato_(atonal)/Drosophila_melanogaster_combined\n"
     ]
    },
    {
     "name": "stderr",
     "output_type": "stream",
     "text": [
      "/var/folders/mj/yrtz1pp53zs_hqrl2_mcw9m80000gn/T/ipykernel_11450/4042733987.py:94: FutureWarning: The behavior of DataFrame concatenation with empty or all-NA entries is deprecated. In a future version, this will no longer exclude empty or all-NA columns when determining the result dtypes. To retain the old behavior, exclude the relevant entries before the concat operation.\n",
      "  query_results_df = pd.concat([query_results_df, result_df], ignore_index=True)\n"
     ]
    },
    {
     "name": "stdout",
     "output_type": "stream",
     "text": [
      "Running BLASTp: Drosophila_erecta vs Drosophila_teissieri using blast_databases/ato_(atonal)/Drosophila_teissieri_combined\n",
      "Running BLASTp: Drosophila_erecta vs Drosophila_yakuba using blast_databases/ato_(atonal)/Drosophila_yakuba_combined\n",
      "Running BLASTp: Drosophila_erecta vs Drosophila_ananassae using blast_databases/ato_(atonal)/Drosophila_ananassae_combined\n",
      "Running BLASTp: Drosophila_erecta vs Drosophila_simulans using blast_databases/ato_(atonal)/Drosophila_simulans_combined\n",
      "Running BLASTp: Drosophila_erecta vs Drosophila_mauritiana using blast_databases/ato_(atonal)/Drosophila_mauritiana_combined\n",
      "Results for Drosophila_erecta vs all saved to: cross_species_blast_results/ato_(atonal)/Drosophila_erecta_vs_all.csv\n",
      "Running BLASTp: Drosophila_simulans vs Drosophila_melanogaster using blast_databases/ato_(atonal)/Drosophila_melanogaster_combined\n"
     ]
    },
    {
     "name": "stderr",
     "output_type": "stream",
     "text": [
      "/var/folders/mj/yrtz1pp53zs_hqrl2_mcw9m80000gn/T/ipykernel_11450/4042733987.py:94: FutureWarning: The behavior of DataFrame concatenation with empty or all-NA entries is deprecated. In a future version, this will no longer exclude empty or all-NA columns when determining the result dtypes. To retain the old behavior, exclude the relevant entries before the concat operation.\n",
      "  query_results_df = pd.concat([query_results_df, result_df], ignore_index=True)\n"
     ]
    },
    {
     "name": "stdout",
     "output_type": "stream",
     "text": [
      "Running BLASTp: Drosophila_simulans vs Drosophila_teissieri using blast_databases/ato_(atonal)/Drosophila_teissieri_combined\n",
      "Running BLASTp: Drosophila_simulans vs Drosophila_yakuba using blast_databases/ato_(atonal)/Drosophila_yakuba_combined\n",
      "Running BLASTp: Drosophila_simulans vs Drosophila_ananassae using blast_databases/ato_(atonal)/Drosophila_ananassae_combined\n",
      "Running BLASTp: Drosophila_simulans vs Drosophila_erecta using blast_databases/ato_(atonal)/Drosophila_erecta_combined\n",
      "Running BLASTp: Drosophila_simulans vs Drosophila_mauritiana using blast_databases/ato_(atonal)/Drosophila_mauritiana_combined\n",
      "Results for Drosophila_simulans vs all saved to: cross_species_blast_results/ato_(atonal)/Drosophila_simulans_vs_all.csv\n",
      "Running BLASTp: Drosophila_mauritiana vs Drosophila_melanogaster using blast_databases/ato_(atonal)/Drosophila_melanogaster_combined\n"
     ]
    },
    {
     "name": "stderr",
     "output_type": "stream",
     "text": [
      "/var/folders/mj/yrtz1pp53zs_hqrl2_mcw9m80000gn/T/ipykernel_11450/4042733987.py:94: FutureWarning: The behavior of DataFrame concatenation with empty or all-NA entries is deprecated. In a future version, this will no longer exclude empty or all-NA columns when determining the result dtypes. To retain the old behavior, exclude the relevant entries before the concat operation.\n",
      "  query_results_df = pd.concat([query_results_df, result_df], ignore_index=True)\n"
     ]
    },
    {
     "name": "stdout",
     "output_type": "stream",
     "text": [
      "Running BLASTp: Drosophila_mauritiana vs Drosophila_teissieri using blast_databases/ato_(atonal)/Drosophila_teissieri_combined\n",
      "Running BLASTp: Drosophila_mauritiana vs Drosophila_yakuba using blast_databases/ato_(atonal)/Drosophila_yakuba_combined\n",
      "Running BLASTp: Drosophila_mauritiana vs Drosophila_ananassae using blast_databases/ato_(atonal)/Drosophila_ananassae_combined\n",
      "Running BLASTp: Drosophila_mauritiana vs Drosophila_erecta using blast_databases/ato_(atonal)/Drosophila_erecta_combined\n",
      "Running BLASTp: Drosophila_mauritiana vs Drosophila_simulans using blast_databases/ato_(atonal)/Drosophila_simulans_combined\n",
      "Results for Drosophila_mauritiana vs all saved to: cross_species_blast_results/ato_(atonal)/Drosophila_mauritiana_vs_all.csv\n",
      "Processing gene: tous_(testes_of_unsual_size)\n",
      "Running BLASTp: Drosophila_melanogaster vs Drosophila_teissieri using blast_databases/tous_(testes_of_unsual_size)/Drosophila_teissieri_combined\n"
     ]
    },
    {
     "name": "stderr",
     "output_type": "stream",
     "text": [
      "/var/folders/mj/yrtz1pp53zs_hqrl2_mcw9m80000gn/T/ipykernel_11450/4042733987.py:94: FutureWarning: The behavior of DataFrame concatenation with empty or all-NA entries is deprecated. In a future version, this will no longer exclude empty or all-NA columns when determining the result dtypes. To retain the old behavior, exclude the relevant entries before the concat operation.\n",
      "  query_results_df = pd.concat([query_results_df, result_df], ignore_index=True)\n"
     ]
    },
    {
     "name": "stdout",
     "output_type": "stream",
     "text": [
      "Running BLASTp: Drosophila_melanogaster vs Drosophila_yakuba using blast_databases/tous_(testes_of_unsual_size)/Drosophila_yakuba_combined\n",
      "Running BLASTp: Drosophila_melanogaster vs Drosophila_ananassae using blast_databases/tous_(testes_of_unsual_size)/Drosophila_ananassae_combined\n",
      "Running BLASTp: Drosophila_melanogaster vs Drosophila_erecta using blast_databases/tous_(testes_of_unsual_size)/Drosophila_erecta_combined\n",
      "Running BLASTp: Drosophila_melanogaster vs Drosophila_simulans using blast_databases/tous_(testes_of_unsual_size)/Drosophila_simulans_combined\n",
      "Running BLASTp: Drosophila_melanogaster vs Drosophila_mauritiana using blast_databases/tous_(testes_of_unsual_size)/Drosophila_mauritiana_combined\n",
      "Results for Drosophila_melanogaster vs all saved to: cross_species_blast_results/tous_(testes_of_unsual_size)/Drosophila_melanogaster_vs_all.csv\n",
      "Running BLASTp: Drosophila_teissieri vs Drosophila_melanogaster using blast_databases/tous_(testes_of_unsual_size)/Drosophila_melanogaster_combined\n"
     ]
    },
    {
     "name": "stderr",
     "output_type": "stream",
     "text": [
      "/var/folders/mj/yrtz1pp53zs_hqrl2_mcw9m80000gn/T/ipykernel_11450/4042733987.py:94: FutureWarning: The behavior of DataFrame concatenation with empty or all-NA entries is deprecated. In a future version, this will no longer exclude empty or all-NA columns when determining the result dtypes. To retain the old behavior, exclude the relevant entries before the concat operation.\n",
      "  query_results_df = pd.concat([query_results_df, result_df], ignore_index=True)\n"
     ]
    },
    {
     "name": "stdout",
     "output_type": "stream",
     "text": [
      "Running BLASTp: Drosophila_teissieri vs Drosophila_yakuba using blast_databases/tous_(testes_of_unsual_size)/Drosophila_yakuba_combined\n",
      "Running BLASTp: Drosophila_teissieri vs Drosophila_ananassae using blast_databases/tous_(testes_of_unsual_size)/Drosophila_ananassae_combined\n",
      "Running BLASTp: Drosophila_teissieri vs Drosophila_erecta using blast_databases/tous_(testes_of_unsual_size)/Drosophila_erecta_combined\n",
      "Running BLASTp: Drosophila_teissieri vs Drosophila_simulans using blast_databases/tous_(testes_of_unsual_size)/Drosophila_simulans_combined\n",
      "Running BLASTp: Drosophila_teissieri vs Drosophila_mauritiana using blast_databases/tous_(testes_of_unsual_size)/Drosophila_mauritiana_combined\n",
      "Results for Drosophila_teissieri vs all saved to: cross_species_blast_results/tous_(testes_of_unsual_size)/Drosophila_teissieri_vs_all.csv\n",
      "Running BLASTp: Drosophila_yakuba vs Drosophila_melanogaster using blast_databases/tous_(testes_of_unsual_size)/Drosophila_melanogaster_combined\n"
     ]
    },
    {
     "name": "stderr",
     "output_type": "stream",
     "text": [
      "/var/folders/mj/yrtz1pp53zs_hqrl2_mcw9m80000gn/T/ipykernel_11450/4042733987.py:94: FutureWarning: The behavior of DataFrame concatenation with empty or all-NA entries is deprecated. In a future version, this will no longer exclude empty or all-NA columns when determining the result dtypes. To retain the old behavior, exclude the relevant entries before the concat operation.\n",
      "  query_results_df = pd.concat([query_results_df, result_df], ignore_index=True)\n"
     ]
    },
    {
     "name": "stdout",
     "output_type": "stream",
     "text": [
      "Running BLASTp: Drosophila_yakuba vs Drosophila_teissieri using blast_databases/tous_(testes_of_unsual_size)/Drosophila_teissieri_combined\n",
      "Running BLASTp: Drosophila_yakuba vs Drosophila_ananassae using blast_databases/tous_(testes_of_unsual_size)/Drosophila_ananassae_combined\n",
      "Running BLASTp: Drosophila_yakuba vs Drosophila_erecta using blast_databases/tous_(testes_of_unsual_size)/Drosophila_erecta_combined\n",
      "Running BLASTp: Drosophila_yakuba vs Drosophila_simulans using blast_databases/tous_(testes_of_unsual_size)/Drosophila_simulans_combined\n",
      "Running BLASTp: Drosophila_yakuba vs Drosophila_mauritiana using blast_databases/tous_(testes_of_unsual_size)/Drosophila_mauritiana_combined\n",
      "Results for Drosophila_yakuba vs all saved to: cross_species_blast_results/tous_(testes_of_unsual_size)/Drosophila_yakuba_vs_all.csv\n",
      "Running BLASTp: Drosophila_ananassae vs Drosophila_melanogaster using blast_databases/tous_(testes_of_unsual_size)/Drosophila_melanogaster_combined\n"
     ]
    },
    {
     "name": "stderr",
     "output_type": "stream",
     "text": [
      "/var/folders/mj/yrtz1pp53zs_hqrl2_mcw9m80000gn/T/ipykernel_11450/4042733987.py:94: FutureWarning: The behavior of DataFrame concatenation with empty or all-NA entries is deprecated. In a future version, this will no longer exclude empty or all-NA columns when determining the result dtypes. To retain the old behavior, exclude the relevant entries before the concat operation.\n",
      "  query_results_df = pd.concat([query_results_df, result_df], ignore_index=True)\n"
     ]
    },
    {
     "name": "stdout",
     "output_type": "stream",
     "text": [
      "Running BLASTp: Drosophila_ananassae vs Drosophila_teissieri using blast_databases/tous_(testes_of_unsual_size)/Drosophila_teissieri_combined\n",
      "Running BLASTp: Drosophila_ananassae vs Drosophila_yakuba using blast_databases/tous_(testes_of_unsual_size)/Drosophila_yakuba_combined\n",
      "Running BLASTp: Drosophila_ananassae vs Drosophila_erecta using blast_databases/tous_(testes_of_unsual_size)/Drosophila_erecta_combined\n",
      "Running BLASTp: Drosophila_ananassae vs Drosophila_simulans using blast_databases/tous_(testes_of_unsual_size)/Drosophila_simulans_combined\n",
      "Running BLASTp: Drosophila_ananassae vs Drosophila_mauritiana using blast_databases/tous_(testes_of_unsual_size)/Drosophila_mauritiana_combined\n",
      "Results for Drosophila_ananassae vs all saved to: cross_species_blast_results/tous_(testes_of_unsual_size)/Drosophila_ananassae_vs_all.csv\n",
      "Running BLASTp: Drosophila_erecta vs Drosophila_melanogaster using blast_databases/tous_(testes_of_unsual_size)/Drosophila_melanogaster_combined\n"
     ]
    },
    {
     "name": "stderr",
     "output_type": "stream",
     "text": [
      "/var/folders/mj/yrtz1pp53zs_hqrl2_mcw9m80000gn/T/ipykernel_11450/4042733987.py:94: FutureWarning: The behavior of DataFrame concatenation with empty or all-NA entries is deprecated. In a future version, this will no longer exclude empty or all-NA columns when determining the result dtypes. To retain the old behavior, exclude the relevant entries before the concat operation.\n",
      "  query_results_df = pd.concat([query_results_df, result_df], ignore_index=True)\n"
     ]
    },
    {
     "name": "stdout",
     "output_type": "stream",
     "text": [
      "Running BLASTp: Drosophila_erecta vs Drosophila_teissieri using blast_databases/tous_(testes_of_unsual_size)/Drosophila_teissieri_combined\n",
      "Running BLASTp: Drosophila_erecta vs Drosophila_yakuba using blast_databases/tous_(testes_of_unsual_size)/Drosophila_yakuba_combined\n",
      "Running BLASTp: Drosophila_erecta vs Drosophila_ananassae using blast_databases/tous_(testes_of_unsual_size)/Drosophila_ananassae_combined\n",
      "Running BLASTp: Drosophila_erecta vs Drosophila_simulans using blast_databases/tous_(testes_of_unsual_size)/Drosophila_simulans_combined\n",
      "Running BLASTp: Drosophila_erecta vs Drosophila_mauritiana using blast_databases/tous_(testes_of_unsual_size)/Drosophila_mauritiana_combined\n",
      "Results for Drosophila_erecta vs all saved to: cross_species_blast_results/tous_(testes_of_unsual_size)/Drosophila_erecta_vs_all.csv\n",
      "Running BLASTp: Drosophila_simulans vs Drosophila_melanogaster using blast_databases/tous_(testes_of_unsual_size)/Drosophila_melanogaster_combined\n"
     ]
    },
    {
     "name": "stderr",
     "output_type": "stream",
     "text": [
      "/var/folders/mj/yrtz1pp53zs_hqrl2_mcw9m80000gn/T/ipykernel_11450/4042733987.py:94: FutureWarning: The behavior of DataFrame concatenation with empty or all-NA entries is deprecated. In a future version, this will no longer exclude empty or all-NA columns when determining the result dtypes. To retain the old behavior, exclude the relevant entries before the concat operation.\n",
      "  query_results_df = pd.concat([query_results_df, result_df], ignore_index=True)\n"
     ]
    },
    {
     "name": "stdout",
     "output_type": "stream",
     "text": [
      "Running BLASTp: Drosophila_simulans vs Drosophila_teissieri using blast_databases/tous_(testes_of_unsual_size)/Drosophila_teissieri_combined\n",
      "Running BLASTp: Drosophila_simulans vs Drosophila_yakuba using blast_databases/tous_(testes_of_unsual_size)/Drosophila_yakuba_combined\n",
      "Running BLASTp: Drosophila_simulans vs Drosophila_ananassae using blast_databases/tous_(testes_of_unsual_size)/Drosophila_ananassae_combined\n",
      "Running BLASTp: Drosophila_simulans vs Drosophila_erecta using blast_databases/tous_(testes_of_unsual_size)/Drosophila_erecta_combined\n",
      "Running BLASTp: Drosophila_simulans vs Drosophila_mauritiana using blast_databases/tous_(testes_of_unsual_size)/Drosophila_mauritiana_combined\n",
      "Results for Drosophila_simulans vs all saved to: cross_species_blast_results/tous_(testes_of_unsual_size)/Drosophila_simulans_vs_all.csv\n",
      "Running BLASTp: Drosophila_mauritiana vs Drosophila_melanogaster using blast_databases/tous_(testes_of_unsual_size)/Drosophila_melanogaster_combined\n"
     ]
    },
    {
     "name": "stderr",
     "output_type": "stream",
     "text": [
      "/var/folders/mj/yrtz1pp53zs_hqrl2_mcw9m80000gn/T/ipykernel_11450/4042733987.py:94: FutureWarning: The behavior of DataFrame concatenation with empty or all-NA entries is deprecated. In a future version, this will no longer exclude empty or all-NA columns when determining the result dtypes. To retain the old behavior, exclude the relevant entries before the concat operation.\n",
      "  query_results_df = pd.concat([query_results_df, result_df], ignore_index=True)\n"
     ]
    },
    {
     "name": "stdout",
     "output_type": "stream",
     "text": [
      "Running BLASTp: Drosophila_mauritiana vs Drosophila_teissieri using blast_databases/tous_(testes_of_unsual_size)/Drosophila_teissieri_combined\n",
      "Running BLASTp: Drosophila_mauritiana vs Drosophila_yakuba using blast_databases/tous_(testes_of_unsual_size)/Drosophila_yakuba_combined\n",
      "Running BLASTp: Drosophila_mauritiana vs Drosophila_ananassae using blast_databases/tous_(testes_of_unsual_size)/Drosophila_ananassae_combined\n",
      "Running BLASTp: Drosophila_mauritiana vs Drosophila_erecta using blast_databases/tous_(testes_of_unsual_size)/Drosophila_erecta_combined\n",
      "Running BLASTp: Drosophila_mauritiana vs Drosophila_simulans using blast_databases/tous_(testes_of_unsual_size)/Drosophila_simulans_combined\n",
      "Results for Drosophila_mauritiana vs all saved to: cross_species_blast_results/tous_(testes_of_unsual_size)/Drosophila_mauritiana_vs_all.csv\n",
      "Processing gene: Dnai2_(dynein,_axonemal,_intermediate_chain_2)\n",
      "Running BLASTp: Drosophila_melanogaster vs Drosophila_teissieri using blast_databases/Dnai2_(dynein,_axonemal,_intermediate_chain_2)/Drosophila_teissieri_combined\n"
     ]
    },
    {
     "name": "stderr",
     "output_type": "stream",
     "text": [
      "/var/folders/mj/yrtz1pp53zs_hqrl2_mcw9m80000gn/T/ipykernel_11450/4042733987.py:94: FutureWarning: The behavior of DataFrame concatenation with empty or all-NA entries is deprecated. In a future version, this will no longer exclude empty or all-NA columns when determining the result dtypes. To retain the old behavior, exclude the relevant entries before the concat operation.\n",
      "  query_results_df = pd.concat([query_results_df, result_df], ignore_index=True)\n"
     ]
    },
    {
     "name": "stdout",
     "output_type": "stream",
     "text": [
      "Running BLASTp: Drosophila_melanogaster vs Drosophila_yakuba using blast_databases/Dnai2_(dynein,_axonemal,_intermediate_chain_2)/Drosophila_yakuba_combined\n",
      "Running BLASTp: Drosophila_melanogaster vs Drosophila_ananassae using blast_databases/Dnai2_(dynein,_axonemal,_intermediate_chain_2)/Drosophila_ananassae_combined\n",
      "Running BLASTp: Drosophila_melanogaster vs Drosophila_erecta using blast_databases/Dnai2_(dynein,_axonemal,_intermediate_chain_2)/Drosophila_erecta_combined\n",
      "Running BLASTp: Drosophila_melanogaster vs Drosophila_simulans using blast_databases/Dnai2_(dynein,_axonemal,_intermediate_chain_2)/Drosophila_simulans_combined\n",
      "Running BLASTp: Drosophila_melanogaster vs Drosophila_mauritiana using blast_databases/Dnai2_(dynein,_axonemal,_intermediate_chain_2)/Drosophila_mauritiana_combined\n",
      "Results for Drosophila_melanogaster vs all saved to: cross_species_blast_results/Dnai2_(dynein,_axonemal,_intermediate_chain_2)/Drosophila_melanogaster_vs_all.csv\n",
      "Running BLASTp: Drosophila_teissieri vs Drosophila_melanogaster using blast_databases/Dnai2_(dynein,_axonemal,_intermediate_chain_2)/Drosophila_melanogaster_combined\n"
     ]
    },
    {
     "name": "stderr",
     "output_type": "stream",
     "text": [
      "/var/folders/mj/yrtz1pp53zs_hqrl2_mcw9m80000gn/T/ipykernel_11450/4042733987.py:94: FutureWarning: The behavior of DataFrame concatenation with empty or all-NA entries is deprecated. In a future version, this will no longer exclude empty or all-NA columns when determining the result dtypes. To retain the old behavior, exclude the relevant entries before the concat operation.\n",
      "  query_results_df = pd.concat([query_results_df, result_df], ignore_index=True)\n"
     ]
    },
    {
     "name": "stdout",
     "output_type": "stream",
     "text": [
      "Running BLASTp: Drosophila_teissieri vs Drosophila_yakuba using blast_databases/Dnai2_(dynein,_axonemal,_intermediate_chain_2)/Drosophila_yakuba_combined\n",
      "Running BLASTp: Drosophila_teissieri vs Drosophila_ananassae using blast_databases/Dnai2_(dynein,_axonemal,_intermediate_chain_2)/Drosophila_ananassae_combined\n",
      "Running BLASTp: Drosophila_teissieri vs Drosophila_erecta using blast_databases/Dnai2_(dynein,_axonemal,_intermediate_chain_2)/Drosophila_erecta_combined\n",
      "Running BLASTp: Drosophila_teissieri vs Drosophila_simulans using blast_databases/Dnai2_(dynein,_axonemal,_intermediate_chain_2)/Drosophila_simulans_combined\n",
      "Running BLASTp: Drosophila_teissieri vs Drosophila_mauritiana using blast_databases/Dnai2_(dynein,_axonemal,_intermediate_chain_2)/Drosophila_mauritiana_combined\n",
      "Results for Drosophila_teissieri vs all saved to: cross_species_blast_results/Dnai2_(dynein,_axonemal,_intermediate_chain_2)/Drosophila_teissieri_vs_all.csv\n",
      "Running BLASTp: Drosophila_yakuba vs Drosophila_melanogaster using blast_databases/Dnai2_(dynein,_axonemal,_intermediate_chain_2)/Drosophila_melanogaster_combined\n"
     ]
    },
    {
     "name": "stderr",
     "output_type": "stream",
     "text": [
      "/var/folders/mj/yrtz1pp53zs_hqrl2_mcw9m80000gn/T/ipykernel_11450/4042733987.py:94: FutureWarning: The behavior of DataFrame concatenation with empty or all-NA entries is deprecated. In a future version, this will no longer exclude empty or all-NA columns when determining the result dtypes. To retain the old behavior, exclude the relevant entries before the concat operation.\n",
      "  query_results_df = pd.concat([query_results_df, result_df], ignore_index=True)\n"
     ]
    },
    {
     "name": "stdout",
     "output_type": "stream",
     "text": [
      "Running BLASTp: Drosophila_yakuba vs Drosophila_teissieri using blast_databases/Dnai2_(dynein,_axonemal,_intermediate_chain_2)/Drosophila_teissieri_combined\n",
      "Running BLASTp: Drosophila_yakuba vs Drosophila_ananassae using blast_databases/Dnai2_(dynein,_axonemal,_intermediate_chain_2)/Drosophila_ananassae_combined\n",
      "Running BLASTp: Drosophila_yakuba vs Drosophila_erecta using blast_databases/Dnai2_(dynein,_axonemal,_intermediate_chain_2)/Drosophila_erecta_combined\n",
      "Running BLASTp: Drosophila_yakuba vs Drosophila_simulans using blast_databases/Dnai2_(dynein,_axonemal,_intermediate_chain_2)/Drosophila_simulans_combined\n",
      "Running BLASTp: Drosophila_yakuba vs Drosophila_mauritiana using blast_databases/Dnai2_(dynein,_axonemal,_intermediate_chain_2)/Drosophila_mauritiana_combined\n",
      "Results for Drosophila_yakuba vs all saved to: cross_species_blast_results/Dnai2_(dynein,_axonemal,_intermediate_chain_2)/Drosophila_yakuba_vs_all.csv\n",
      "Running BLASTp: Drosophila_ananassae vs Drosophila_melanogaster using blast_databases/Dnai2_(dynein,_axonemal,_intermediate_chain_2)/Drosophila_melanogaster_combined\n"
     ]
    },
    {
     "name": "stderr",
     "output_type": "stream",
     "text": [
      "/var/folders/mj/yrtz1pp53zs_hqrl2_mcw9m80000gn/T/ipykernel_11450/4042733987.py:94: FutureWarning: The behavior of DataFrame concatenation with empty or all-NA entries is deprecated. In a future version, this will no longer exclude empty or all-NA columns when determining the result dtypes. To retain the old behavior, exclude the relevant entries before the concat operation.\n",
      "  query_results_df = pd.concat([query_results_df, result_df], ignore_index=True)\n"
     ]
    },
    {
     "name": "stdout",
     "output_type": "stream",
     "text": [
      "Running BLASTp: Drosophila_ananassae vs Drosophila_teissieri using blast_databases/Dnai2_(dynein,_axonemal,_intermediate_chain_2)/Drosophila_teissieri_combined\n",
      "Running BLASTp: Drosophila_ananassae vs Drosophila_yakuba using blast_databases/Dnai2_(dynein,_axonemal,_intermediate_chain_2)/Drosophila_yakuba_combined\n",
      "Running BLASTp: Drosophila_ananassae vs Drosophila_erecta using blast_databases/Dnai2_(dynein,_axonemal,_intermediate_chain_2)/Drosophila_erecta_combined\n",
      "Running BLASTp: Drosophila_ananassae vs Drosophila_simulans using blast_databases/Dnai2_(dynein,_axonemal,_intermediate_chain_2)/Drosophila_simulans_combined\n",
      "Running BLASTp: Drosophila_ananassae vs Drosophila_mauritiana using blast_databases/Dnai2_(dynein,_axonemal,_intermediate_chain_2)/Drosophila_mauritiana_combined\n",
      "Results for Drosophila_ananassae vs all saved to: cross_species_blast_results/Dnai2_(dynein,_axonemal,_intermediate_chain_2)/Drosophila_ananassae_vs_all.csv\n",
      "Running BLASTp: Drosophila_erecta vs Drosophila_melanogaster using blast_databases/Dnai2_(dynein,_axonemal,_intermediate_chain_2)/Drosophila_melanogaster_combined\n"
     ]
    },
    {
     "name": "stderr",
     "output_type": "stream",
     "text": [
      "/var/folders/mj/yrtz1pp53zs_hqrl2_mcw9m80000gn/T/ipykernel_11450/4042733987.py:94: FutureWarning: The behavior of DataFrame concatenation with empty or all-NA entries is deprecated. In a future version, this will no longer exclude empty or all-NA columns when determining the result dtypes. To retain the old behavior, exclude the relevant entries before the concat operation.\n",
      "  query_results_df = pd.concat([query_results_df, result_df], ignore_index=True)\n"
     ]
    },
    {
     "name": "stdout",
     "output_type": "stream",
     "text": [
      "Running BLASTp: Drosophila_erecta vs Drosophila_teissieri using blast_databases/Dnai2_(dynein,_axonemal,_intermediate_chain_2)/Drosophila_teissieri_combined\n",
      "Running BLASTp: Drosophila_erecta vs Drosophila_yakuba using blast_databases/Dnai2_(dynein,_axonemal,_intermediate_chain_2)/Drosophila_yakuba_combined\n",
      "Running BLASTp: Drosophila_erecta vs Drosophila_ananassae using blast_databases/Dnai2_(dynein,_axonemal,_intermediate_chain_2)/Drosophila_ananassae_combined\n",
      "Running BLASTp: Drosophila_erecta vs Drosophila_simulans using blast_databases/Dnai2_(dynein,_axonemal,_intermediate_chain_2)/Drosophila_simulans_combined\n",
      "Running BLASTp: Drosophila_erecta vs Drosophila_mauritiana using blast_databases/Dnai2_(dynein,_axonemal,_intermediate_chain_2)/Drosophila_mauritiana_combined\n",
      "Results for Drosophila_erecta vs all saved to: cross_species_blast_results/Dnai2_(dynein,_axonemal,_intermediate_chain_2)/Drosophila_erecta_vs_all.csv\n",
      "Running BLASTp: Drosophila_simulans vs Drosophila_melanogaster using blast_databases/Dnai2_(dynein,_axonemal,_intermediate_chain_2)/Drosophila_melanogaster_combined\n"
     ]
    },
    {
     "name": "stderr",
     "output_type": "stream",
     "text": [
      "/var/folders/mj/yrtz1pp53zs_hqrl2_mcw9m80000gn/T/ipykernel_11450/4042733987.py:94: FutureWarning: The behavior of DataFrame concatenation with empty or all-NA entries is deprecated. In a future version, this will no longer exclude empty or all-NA columns when determining the result dtypes. To retain the old behavior, exclude the relevant entries before the concat operation.\n",
      "  query_results_df = pd.concat([query_results_df, result_df], ignore_index=True)\n"
     ]
    },
    {
     "name": "stdout",
     "output_type": "stream",
     "text": [
      "Running BLASTp: Drosophila_simulans vs Drosophila_teissieri using blast_databases/Dnai2_(dynein,_axonemal,_intermediate_chain_2)/Drosophila_teissieri_combined\n",
      "Running BLASTp: Drosophila_simulans vs Drosophila_yakuba using blast_databases/Dnai2_(dynein,_axonemal,_intermediate_chain_2)/Drosophila_yakuba_combined\n",
      "Running BLASTp: Drosophila_simulans vs Drosophila_ananassae using blast_databases/Dnai2_(dynein,_axonemal,_intermediate_chain_2)/Drosophila_ananassae_combined\n",
      "Running BLASTp: Drosophila_simulans vs Drosophila_erecta using blast_databases/Dnai2_(dynein,_axonemal,_intermediate_chain_2)/Drosophila_erecta_combined\n",
      "Running BLASTp: Drosophila_simulans vs Drosophila_mauritiana using blast_databases/Dnai2_(dynein,_axonemal,_intermediate_chain_2)/Drosophila_mauritiana_combined\n",
      "Results for Drosophila_simulans vs all saved to: cross_species_blast_results/Dnai2_(dynein,_axonemal,_intermediate_chain_2)/Drosophila_simulans_vs_all.csv\n",
      "Running BLASTp: Drosophila_mauritiana vs Drosophila_melanogaster using blast_databases/Dnai2_(dynein,_axonemal,_intermediate_chain_2)/Drosophila_melanogaster_combined\n"
     ]
    },
    {
     "name": "stderr",
     "output_type": "stream",
     "text": [
      "/var/folders/mj/yrtz1pp53zs_hqrl2_mcw9m80000gn/T/ipykernel_11450/4042733987.py:94: FutureWarning: The behavior of DataFrame concatenation with empty or all-NA entries is deprecated. In a future version, this will no longer exclude empty or all-NA columns when determining the result dtypes. To retain the old behavior, exclude the relevant entries before the concat operation.\n",
      "  query_results_df = pd.concat([query_results_df, result_df], ignore_index=True)\n"
     ]
    },
    {
     "name": "stdout",
     "output_type": "stream",
     "text": [
      "Running BLASTp: Drosophila_mauritiana vs Drosophila_teissieri using blast_databases/Dnai2_(dynein,_axonemal,_intermediate_chain_2)/Drosophila_teissieri_combined\n",
      "Running BLASTp: Drosophila_mauritiana vs Drosophila_yakuba using blast_databases/Dnai2_(dynein,_axonemal,_intermediate_chain_2)/Drosophila_yakuba_combined\n",
      "Running BLASTp: Drosophila_mauritiana vs Drosophila_ananassae using blast_databases/Dnai2_(dynein,_axonemal,_intermediate_chain_2)/Drosophila_ananassae_combined\n",
      "Running BLASTp: Drosophila_mauritiana vs Drosophila_erecta using blast_databases/Dnai2_(dynein,_axonemal,_intermediate_chain_2)/Drosophila_erecta_combined\n",
      "Running BLASTp: Drosophila_mauritiana vs Drosophila_simulans using blast_databases/Dnai2_(dynein,_axonemal,_intermediate_chain_2)/Drosophila_simulans_combined\n",
      "Results for Drosophila_mauritiana vs all saved to: cross_species_blast_results/Dnai2_(dynein,_axonemal,_intermediate_chain_2)/Drosophila_mauritiana_vs_all.csv\n",
      "Processing gene: eys_(eyes_shut)\n",
      "Running BLASTp: Drosophila_melanogaster vs Drosophila_teissieri using blast_databases/eys_(eyes_shut)/Drosophila_teissieri_combined\n"
     ]
    },
    {
     "name": "stderr",
     "output_type": "stream",
     "text": [
      "/var/folders/mj/yrtz1pp53zs_hqrl2_mcw9m80000gn/T/ipykernel_11450/4042733987.py:94: FutureWarning: The behavior of DataFrame concatenation with empty or all-NA entries is deprecated. In a future version, this will no longer exclude empty or all-NA columns when determining the result dtypes. To retain the old behavior, exclude the relevant entries before the concat operation.\n",
      "  query_results_df = pd.concat([query_results_df, result_df], ignore_index=True)\n"
     ]
    },
    {
     "name": "stdout",
     "output_type": "stream",
     "text": [
      "Running BLASTp: Drosophila_melanogaster vs Drosophila_yakuba using blast_databases/eys_(eyes_shut)/Drosophila_yakuba_combined\n",
      "Running BLASTp: Drosophila_melanogaster vs Drosophila_ananassae using blast_databases/eys_(eyes_shut)/Drosophila_ananassae_combined\n",
      "Running BLASTp: Drosophila_melanogaster vs Drosophila_erecta using blast_databases/eys_(eyes_shut)/Drosophila_erecta_combined\n",
      "Running BLASTp: Drosophila_melanogaster vs Drosophila_simulans using blast_databases/eys_(eyes_shut)/Drosophila_simulans_combined\n",
      "Running BLASTp: Drosophila_melanogaster vs Drosophila_mauritiana using blast_databases/eys_(eyes_shut)/Drosophila_mauritiana_combined\n",
      "Results for Drosophila_melanogaster vs all saved to: cross_species_blast_results/eys_(eyes_shut)/Drosophila_melanogaster_vs_all.csv\n",
      "Running BLASTp: Drosophila_teissieri vs Drosophila_melanogaster using blast_databases/eys_(eyes_shut)/Drosophila_melanogaster_combined\n"
     ]
    },
    {
     "name": "stderr",
     "output_type": "stream",
     "text": [
      "/var/folders/mj/yrtz1pp53zs_hqrl2_mcw9m80000gn/T/ipykernel_11450/4042733987.py:94: FutureWarning: The behavior of DataFrame concatenation with empty or all-NA entries is deprecated. In a future version, this will no longer exclude empty or all-NA columns when determining the result dtypes. To retain the old behavior, exclude the relevant entries before the concat operation.\n",
      "  query_results_df = pd.concat([query_results_df, result_df], ignore_index=True)\n"
     ]
    },
    {
     "name": "stdout",
     "output_type": "stream",
     "text": [
      "Running BLASTp: Drosophila_teissieri vs Drosophila_yakuba using blast_databases/eys_(eyes_shut)/Drosophila_yakuba_combined\n",
      "Running BLASTp: Drosophila_teissieri vs Drosophila_ananassae using blast_databases/eys_(eyes_shut)/Drosophila_ananassae_combined\n",
      "Running BLASTp: Drosophila_teissieri vs Drosophila_erecta using blast_databases/eys_(eyes_shut)/Drosophila_erecta_combined\n",
      "Running BLASTp: Drosophila_teissieri vs Drosophila_simulans using blast_databases/eys_(eyes_shut)/Drosophila_simulans_combined\n",
      "Running BLASTp: Drosophila_teissieri vs Drosophila_mauritiana using blast_databases/eys_(eyes_shut)/Drosophila_mauritiana_combined\n",
      "Results for Drosophila_teissieri vs all saved to: cross_species_blast_results/eys_(eyes_shut)/Drosophila_teissieri_vs_all.csv\n",
      "Running BLASTp: Drosophila_yakuba vs Drosophila_melanogaster using blast_databases/eys_(eyes_shut)/Drosophila_melanogaster_combined\n"
     ]
    },
    {
     "name": "stderr",
     "output_type": "stream",
     "text": [
      "/var/folders/mj/yrtz1pp53zs_hqrl2_mcw9m80000gn/T/ipykernel_11450/4042733987.py:94: FutureWarning: The behavior of DataFrame concatenation with empty or all-NA entries is deprecated. In a future version, this will no longer exclude empty or all-NA columns when determining the result dtypes. To retain the old behavior, exclude the relevant entries before the concat operation.\n",
      "  query_results_df = pd.concat([query_results_df, result_df], ignore_index=True)\n"
     ]
    },
    {
     "name": "stdout",
     "output_type": "stream",
     "text": [
      "Running BLASTp: Drosophila_yakuba vs Drosophila_teissieri using blast_databases/eys_(eyes_shut)/Drosophila_teissieri_combined\n",
      "Running BLASTp: Drosophila_yakuba vs Drosophila_ananassae using blast_databases/eys_(eyes_shut)/Drosophila_ananassae_combined\n",
      "Running BLASTp: Drosophila_yakuba vs Drosophila_erecta using blast_databases/eys_(eyes_shut)/Drosophila_erecta_combined\n",
      "Running BLASTp: Drosophila_yakuba vs Drosophila_simulans using blast_databases/eys_(eyes_shut)/Drosophila_simulans_combined\n",
      "Running BLASTp: Drosophila_yakuba vs Drosophila_mauritiana using blast_databases/eys_(eyes_shut)/Drosophila_mauritiana_combined\n",
      "Results for Drosophila_yakuba vs all saved to: cross_species_blast_results/eys_(eyes_shut)/Drosophila_yakuba_vs_all.csv\n",
      "Running BLASTp: Drosophila_ananassae vs Drosophila_melanogaster using blast_databases/eys_(eyes_shut)/Drosophila_melanogaster_combined\n"
     ]
    },
    {
     "name": "stderr",
     "output_type": "stream",
     "text": [
      "/var/folders/mj/yrtz1pp53zs_hqrl2_mcw9m80000gn/T/ipykernel_11450/4042733987.py:94: FutureWarning: The behavior of DataFrame concatenation with empty or all-NA entries is deprecated. In a future version, this will no longer exclude empty or all-NA columns when determining the result dtypes. To retain the old behavior, exclude the relevant entries before the concat operation.\n",
      "  query_results_df = pd.concat([query_results_df, result_df], ignore_index=True)\n"
     ]
    },
    {
     "name": "stdout",
     "output_type": "stream",
     "text": [
      "Running BLASTp: Drosophila_ananassae vs Drosophila_teissieri using blast_databases/eys_(eyes_shut)/Drosophila_teissieri_combined\n",
      "Running BLASTp: Drosophila_ananassae vs Drosophila_yakuba using blast_databases/eys_(eyes_shut)/Drosophila_yakuba_combined\n",
      "Running BLASTp: Drosophila_ananassae vs Drosophila_erecta using blast_databases/eys_(eyes_shut)/Drosophila_erecta_combined\n",
      "Running BLASTp: Drosophila_ananassae vs Drosophila_simulans using blast_databases/eys_(eyes_shut)/Drosophila_simulans_combined\n",
      "Running BLASTp: Drosophila_ananassae vs Drosophila_mauritiana using blast_databases/eys_(eyes_shut)/Drosophila_mauritiana_combined\n",
      "Results for Drosophila_ananassae vs all saved to: cross_species_blast_results/eys_(eyes_shut)/Drosophila_ananassae_vs_all.csv\n",
      "Running BLASTp: Drosophila_erecta vs Drosophila_melanogaster using blast_databases/eys_(eyes_shut)/Drosophila_melanogaster_combined\n"
     ]
    },
    {
     "name": "stderr",
     "output_type": "stream",
     "text": [
      "/var/folders/mj/yrtz1pp53zs_hqrl2_mcw9m80000gn/T/ipykernel_11450/4042733987.py:94: FutureWarning: The behavior of DataFrame concatenation with empty or all-NA entries is deprecated. In a future version, this will no longer exclude empty or all-NA columns when determining the result dtypes. To retain the old behavior, exclude the relevant entries before the concat operation.\n",
      "  query_results_df = pd.concat([query_results_df, result_df], ignore_index=True)\n"
     ]
    },
    {
     "name": "stdout",
     "output_type": "stream",
     "text": [
      "Running BLASTp: Drosophila_erecta vs Drosophila_teissieri using blast_databases/eys_(eyes_shut)/Drosophila_teissieri_combined\n",
      "Running BLASTp: Drosophila_erecta vs Drosophila_yakuba using blast_databases/eys_(eyes_shut)/Drosophila_yakuba_combined\n",
      "Running BLASTp: Drosophila_erecta vs Drosophila_ananassae using blast_databases/eys_(eyes_shut)/Drosophila_ananassae_combined\n",
      "Running BLASTp: Drosophila_erecta vs Drosophila_simulans using blast_databases/eys_(eyes_shut)/Drosophila_simulans_combined\n",
      "Running BLASTp: Drosophila_erecta vs Drosophila_mauritiana using blast_databases/eys_(eyes_shut)/Drosophila_mauritiana_combined\n",
      "Results for Drosophila_erecta vs all saved to: cross_species_blast_results/eys_(eyes_shut)/Drosophila_erecta_vs_all.csv\n",
      "Running BLASTp: Drosophila_simulans vs Drosophila_melanogaster using blast_databases/eys_(eyes_shut)/Drosophila_melanogaster_combined\n"
     ]
    },
    {
     "name": "stderr",
     "output_type": "stream",
     "text": [
      "/var/folders/mj/yrtz1pp53zs_hqrl2_mcw9m80000gn/T/ipykernel_11450/4042733987.py:94: FutureWarning: The behavior of DataFrame concatenation with empty or all-NA entries is deprecated. In a future version, this will no longer exclude empty or all-NA columns when determining the result dtypes. To retain the old behavior, exclude the relevant entries before the concat operation.\n",
      "  query_results_df = pd.concat([query_results_df, result_df], ignore_index=True)\n"
     ]
    },
    {
     "name": "stdout",
     "output_type": "stream",
     "text": [
      "Running BLASTp: Drosophila_simulans vs Drosophila_teissieri using blast_databases/eys_(eyes_shut)/Drosophila_teissieri_combined\n",
      "Running BLASTp: Drosophila_simulans vs Drosophila_yakuba using blast_databases/eys_(eyes_shut)/Drosophila_yakuba_combined\n",
      "Running BLASTp: Drosophila_simulans vs Drosophila_ananassae using blast_databases/eys_(eyes_shut)/Drosophila_ananassae_combined\n",
      "Running BLASTp: Drosophila_simulans vs Drosophila_erecta using blast_databases/eys_(eyes_shut)/Drosophila_erecta_combined\n",
      "Running BLASTp: Drosophila_simulans vs Drosophila_mauritiana using blast_databases/eys_(eyes_shut)/Drosophila_mauritiana_combined\n",
      "Results for Drosophila_simulans vs all saved to: cross_species_blast_results/eys_(eyes_shut)/Drosophila_simulans_vs_all.csv\n",
      "Running BLASTp: Drosophila_mauritiana vs Drosophila_melanogaster using blast_databases/eys_(eyes_shut)/Drosophila_melanogaster_combined\n"
     ]
    },
    {
     "name": "stderr",
     "output_type": "stream",
     "text": [
      "/var/folders/mj/yrtz1pp53zs_hqrl2_mcw9m80000gn/T/ipykernel_11450/4042733987.py:94: FutureWarning: The behavior of DataFrame concatenation with empty or all-NA entries is deprecated. In a future version, this will no longer exclude empty or all-NA columns when determining the result dtypes. To retain the old behavior, exclude the relevant entries before the concat operation.\n",
      "  query_results_df = pd.concat([query_results_df, result_df], ignore_index=True)\n"
     ]
    },
    {
     "name": "stdout",
     "output_type": "stream",
     "text": [
      "Running BLASTp: Drosophila_mauritiana vs Drosophila_teissieri using blast_databases/eys_(eyes_shut)/Drosophila_teissieri_combined\n",
      "Running BLASTp: Drosophila_mauritiana vs Drosophila_yakuba using blast_databases/eys_(eyes_shut)/Drosophila_yakuba_combined\n",
      "Running BLASTp: Drosophila_mauritiana vs Drosophila_ananassae using blast_databases/eys_(eyes_shut)/Drosophila_ananassae_combined\n",
      "Running BLASTp: Drosophila_mauritiana vs Drosophila_erecta using blast_databases/eys_(eyes_shut)/Drosophila_erecta_combined\n",
      "Running BLASTp: Drosophila_mauritiana vs Drosophila_simulans using blast_databases/eys_(eyes_shut)/Drosophila_simulans_combined\n",
      "Results for Drosophila_mauritiana vs all saved to: cross_species_blast_results/eys_(eyes_shut)/Drosophila_mauritiana_vs_all.csv\n",
      "Processing gene: Dhc93AB_(Dynein_heavy_chain_at_93AB)\n",
      "Running BLASTp: Drosophila_melanogaster vs Drosophila_teissieri using blast_databases/Dhc93AB_(Dynein_heavy_chain_at_93AB)/Drosophila_teissieri_combined\n"
     ]
    },
    {
     "name": "stderr",
     "output_type": "stream",
     "text": [
      "/var/folders/mj/yrtz1pp53zs_hqrl2_mcw9m80000gn/T/ipykernel_11450/4042733987.py:94: FutureWarning: The behavior of DataFrame concatenation with empty or all-NA entries is deprecated. In a future version, this will no longer exclude empty or all-NA columns when determining the result dtypes. To retain the old behavior, exclude the relevant entries before the concat operation.\n",
      "  query_results_df = pd.concat([query_results_df, result_df], ignore_index=True)\n"
     ]
    },
    {
     "name": "stdout",
     "output_type": "stream",
     "text": [
      "Running BLASTp: Drosophila_melanogaster vs Drosophila_yakuba using blast_databases/Dhc93AB_(Dynein_heavy_chain_at_93AB)/Drosophila_yakuba_combined\n",
      "Running BLASTp: Drosophila_melanogaster vs Drosophila_ananassae using blast_databases/Dhc93AB_(Dynein_heavy_chain_at_93AB)/Drosophila_ananassae_combined\n",
      "Running BLASTp: Drosophila_melanogaster vs Drosophila_erecta using blast_databases/Dhc93AB_(Dynein_heavy_chain_at_93AB)/Drosophila_erecta_combined\n",
      "Running BLASTp: Drosophila_melanogaster vs Drosophila_simulans using blast_databases/Dhc93AB_(Dynein_heavy_chain_at_93AB)/Drosophila_simulans_combined\n",
      "Running BLASTp: Drosophila_melanogaster vs Drosophila_mauritiana using blast_databases/Dhc93AB_(Dynein_heavy_chain_at_93AB)/Drosophila_mauritiana_combined\n",
      "Results for Drosophila_melanogaster vs all saved to: cross_species_blast_results/Dhc93AB_(Dynein_heavy_chain_at_93AB)/Drosophila_melanogaster_vs_all.csv\n",
      "Running BLASTp: Drosophila_teissieri vs Drosophila_melanogaster using blast_databases/Dhc93AB_(Dynein_heavy_chain_at_93AB)/Drosophila_melanogaster_combined\n",
      "Running BLASTp: Drosophila_teissieri vs Drosophila_yakuba using blast_databases/Dhc93AB_(Dynein_heavy_chain_at_93AB)/Drosophila_yakuba_combined\n"
     ]
    },
    {
     "name": "stderr",
     "output_type": "stream",
     "text": [
      "/var/folders/mj/yrtz1pp53zs_hqrl2_mcw9m80000gn/T/ipykernel_11450/4042733987.py:94: FutureWarning: The behavior of DataFrame concatenation with empty or all-NA entries is deprecated. In a future version, this will no longer exclude empty or all-NA columns when determining the result dtypes. To retain the old behavior, exclude the relevant entries before the concat operation.\n",
      "  query_results_df = pd.concat([query_results_df, result_df], ignore_index=True)\n"
     ]
    },
    {
     "name": "stdout",
     "output_type": "stream",
     "text": [
      "Running BLASTp: Drosophila_teissieri vs Drosophila_ananassae using blast_databases/Dhc93AB_(Dynein_heavy_chain_at_93AB)/Drosophila_ananassae_combined\n",
      "Running BLASTp: Drosophila_teissieri vs Drosophila_erecta using blast_databases/Dhc93AB_(Dynein_heavy_chain_at_93AB)/Drosophila_erecta_combined\n",
      "Running BLASTp: Drosophila_teissieri vs Drosophila_simulans using blast_databases/Dhc93AB_(Dynein_heavy_chain_at_93AB)/Drosophila_simulans_combined\n",
      "Running BLASTp: Drosophila_teissieri vs Drosophila_mauritiana using blast_databases/Dhc93AB_(Dynein_heavy_chain_at_93AB)/Drosophila_mauritiana_combined\n",
      "Results for Drosophila_teissieri vs all saved to: cross_species_blast_results/Dhc93AB_(Dynein_heavy_chain_at_93AB)/Drosophila_teissieri_vs_all.csv\n",
      "Running BLASTp: Drosophila_yakuba vs Drosophila_melanogaster using blast_databases/Dhc93AB_(Dynein_heavy_chain_at_93AB)/Drosophila_melanogaster_combined\n",
      "Running BLASTp: Drosophila_yakuba vs Drosophila_teissieri using blast_databases/Dhc93AB_(Dynein_heavy_chain_at_93AB)/Drosophila_teissieri_combined\n"
     ]
    },
    {
     "name": "stderr",
     "output_type": "stream",
     "text": [
      "/var/folders/mj/yrtz1pp53zs_hqrl2_mcw9m80000gn/T/ipykernel_11450/4042733987.py:94: FutureWarning: The behavior of DataFrame concatenation with empty or all-NA entries is deprecated. In a future version, this will no longer exclude empty or all-NA columns when determining the result dtypes. To retain the old behavior, exclude the relevant entries before the concat operation.\n",
      "  query_results_df = pd.concat([query_results_df, result_df], ignore_index=True)\n"
     ]
    },
    {
     "name": "stdout",
     "output_type": "stream",
     "text": [
      "Running BLASTp: Drosophila_yakuba vs Drosophila_ananassae using blast_databases/Dhc93AB_(Dynein_heavy_chain_at_93AB)/Drosophila_ananassae_combined\n",
      "Running BLASTp: Drosophila_yakuba vs Drosophila_erecta using blast_databases/Dhc93AB_(Dynein_heavy_chain_at_93AB)/Drosophila_erecta_combined\n",
      "Running BLASTp: Drosophila_yakuba vs Drosophila_simulans using blast_databases/Dhc93AB_(Dynein_heavy_chain_at_93AB)/Drosophila_simulans_combined\n",
      "Running BLASTp: Drosophila_yakuba vs Drosophila_mauritiana using blast_databases/Dhc93AB_(Dynein_heavy_chain_at_93AB)/Drosophila_mauritiana_combined\n",
      "Results for Drosophila_yakuba vs all saved to: cross_species_blast_results/Dhc93AB_(Dynein_heavy_chain_at_93AB)/Drosophila_yakuba_vs_all.csv\n",
      "Running BLASTp: Drosophila_ananassae vs Drosophila_melanogaster using blast_databases/Dhc93AB_(Dynein_heavy_chain_at_93AB)/Drosophila_melanogaster_combined\n",
      "Running BLASTp: Drosophila_ananassae vs Drosophila_teissieri using blast_databases/Dhc93AB_(Dynein_heavy_chain_at_93AB)/Drosophila_teissieri_combined\n"
     ]
    },
    {
     "name": "stderr",
     "output_type": "stream",
     "text": [
      "/var/folders/mj/yrtz1pp53zs_hqrl2_mcw9m80000gn/T/ipykernel_11450/4042733987.py:94: FutureWarning: The behavior of DataFrame concatenation with empty or all-NA entries is deprecated. In a future version, this will no longer exclude empty or all-NA columns when determining the result dtypes. To retain the old behavior, exclude the relevant entries before the concat operation.\n",
      "  query_results_df = pd.concat([query_results_df, result_df], ignore_index=True)\n"
     ]
    },
    {
     "name": "stdout",
     "output_type": "stream",
     "text": [
      "Running BLASTp: Drosophila_ananassae vs Drosophila_yakuba using blast_databases/Dhc93AB_(Dynein_heavy_chain_at_93AB)/Drosophila_yakuba_combined\n",
      "Running BLASTp: Drosophila_ananassae vs Drosophila_erecta using blast_databases/Dhc93AB_(Dynein_heavy_chain_at_93AB)/Drosophila_erecta_combined\n",
      "Running BLASTp: Drosophila_ananassae vs Drosophila_simulans using blast_databases/Dhc93AB_(Dynein_heavy_chain_at_93AB)/Drosophila_simulans_combined\n",
      "Running BLASTp: Drosophila_ananassae vs Drosophila_mauritiana using blast_databases/Dhc93AB_(Dynein_heavy_chain_at_93AB)/Drosophila_mauritiana_combined\n",
      "Results for Drosophila_ananassae vs all saved to: cross_species_blast_results/Dhc93AB_(Dynein_heavy_chain_at_93AB)/Drosophila_ananassae_vs_all.csv\n",
      "Running BLASTp: Drosophila_erecta vs Drosophila_melanogaster using blast_databases/Dhc93AB_(Dynein_heavy_chain_at_93AB)/Drosophila_melanogaster_combined\n",
      "Running BLASTp: Drosophila_erecta vs Drosophila_teissieri using blast_databases/Dhc93AB_(Dynein_heavy_chain_at_93AB)/Drosophila_teissieri_combined\n"
     ]
    },
    {
     "name": "stderr",
     "output_type": "stream",
     "text": [
      "/var/folders/mj/yrtz1pp53zs_hqrl2_mcw9m80000gn/T/ipykernel_11450/4042733987.py:94: FutureWarning: The behavior of DataFrame concatenation with empty or all-NA entries is deprecated. In a future version, this will no longer exclude empty or all-NA columns when determining the result dtypes. To retain the old behavior, exclude the relevant entries before the concat operation.\n",
      "  query_results_df = pd.concat([query_results_df, result_df], ignore_index=True)\n"
     ]
    },
    {
     "name": "stdout",
     "output_type": "stream",
     "text": [
      "Running BLASTp: Drosophila_erecta vs Drosophila_yakuba using blast_databases/Dhc93AB_(Dynein_heavy_chain_at_93AB)/Drosophila_yakuba_combined\n",
      "Running BLASTp: Drosophila_erecta vs Drosophila_ananassae using blast_databases/Dhc93AB_(Dynein_heavy_chain_at_93AB)/Drosophila_ananassae_combined\n",
      "Running BLASTp: Drosophila_erecta vs Drosophila_simulans using blast_databases/Dhc93AB_(Dynein_heavy_chain_at_93AB)/Drosophila_simulans_combined\n",
      "Running BLASTp: Drosophila_erecta vs Drosophila_mauritiana using blast_databases/Dhc93AB_(Dynein_heavy_chain_at_93AB)/Drosophila_mauritiana_combined\n",
      "Results for Drosophila_erecta vs all saved to: cross_species_blast_results/Dhc93AB_(Dynein_heavy_chain_at_93AB)/Drosophila_erecta_vs_all.csv\n",
      "Running BLASTp: Drosophila_simulans vs Drosophila_melanogaster using blast_databases/Dhc93AB_(Dynein_heavy_chain_at_93AB)/Drosophila_melanogaster_combined\n",
      "Running BLASTp: Drosophila_simulans vs Drosophila_teissieri using blast_databases/Dhc93AB_(Dynein_heavy_chain_at_93AB)/Drosophila_teissieri_combined\n"
     ]
    },
    {
     "name": "stderr",
     "output_type": "stream",
     "text": [
      "/var/folders/mj/yrtz1pp53zs_hqrl2_mcw9m80000gn/T/ipykernel_11450/4042733987.py:94: FutureWarning: The behavior of DataFrame concatenation with empty or all-NA entries is deprecated. In a future version, this will no longer exclude empty or all-NA columns when determining the result dtypes. To retain the old behavior, exclude the relevant entries before the concat operation.\n",
      "  query_results_df = pd.concat([query_results_df, result_df], ignore_index=True)\n"
     ]
    },
    {
     "name": "stdout",
     "output_type": "stream",
     "text": [
      "Running BLASTp: Drosophila_simulans vs Drosophila_yakuba using blast_databases/Dhc93AB_(Dynein_heavy_chain_at_93AB)/Drosophila_yakuba_combined\n",
      "Running BLASTp: Drosophila_simulans vs Drosophila_ananassae using blast_databases/Dhc93AB_(Dynein_heavy_chain_at_93AB)/Drosophila_ananassae_combined\n",
      "Running BLASTp: Drosophila_simulans vs Drosophila_erecta using blast_databases/Dhc93AB_(Dynein_heavy_chain_at_93AB)/Drosophila_erecta_combined\n",
      "Running BLASTp: Drosophila_simulans vs Drosophila_mauritiana using blast_databases/Dhc93AB_(Dynein_heavy_chain_at_93AB)/Drosophila_mauritiana_combined\n",
      "Results for Drosophila_simulans vs all saved to: cross_species_blast_results/Dhc93AB_(Dynein_heavy_chain_at_93AB)/Drosophila_simulans_vs_all.csv\n",
      "Running BLASTp: Drosophila_mauritiana vs Drosophila_melanogaster using blast_databases/Dhc93AB_(Dynein_heavy_chain_at_93AB)/Drosophila_melanogaster_combined\n",
      "Running BLASTp: Drosophila_mauritiana vs Drosophila_teissieri using blast_databases/Dhc93AB_(Dynein_heavy_chain_at_93AB)/Drosophila_teissieri_combined\n"
     ]
    },
    {
     "name": "stderr",
     "output_type": "stream",
     "text": [
      "/var/folders/mj/yrtz1pp53zs_hqrl2_mcw9m80000gn/T/ipykernel_11450/4042733987.py:94: FutureWarning: The behavior of DataFrame concatenation with empty or all-NA entries is deprecated. In a future version, this will no longer exclude empty or all-NA columns when determining the result dtypes. To retain the old behavior, exclude the relevant entries before the concat operation.\n",
      "  query_results_df = pd.concat([query_results_df, result_df], ignore_index=True)\n"
     ]
    },
    {
     "name": "stdout",
     "output_type": "stream",
     "text": [
      "Running BLASTp: Drosophila_mauritiana vs Drosophila_yakuba using blast_databases/Dhc93AB_(Dynein_heavy_chain_at_93AB)/Drosophila_yakuba_combined\n",
      "Running BLASTp: Drosophila_mauritiana vs Drosophila_ananassae using blast_databases/Dhc93AB_(Dynein_heavy_chain_at_93AB)/Drosophila_ananassae_combined\n",
      "Running BLASTp: Drosophila_mauritiana vs Drosophila_erecta using blast_databases/Dhc93AB_(Dynein_heavy_chain_at_93AB)/Drosophila_erecta_combined\n",
      "Running BLASTp: Drosophila_mauritiana vs Drosophila_simulans using blast_databases/Dhc93AB_(Dynein_heavy_chain_at_93AB)/Drosophila_simulans_combined\n",
      "Results for Drosophila_mauritiana vs all saved to: cross_species_blast_results/Dhc93AB_(Dynein_heavy_chain_at_93AB)/Drosophila_mauritiana_vs_all.csv\n",
      "Processing gene: gl_(glass)_\n",
      "Running BLASTp: Drosophila_melanogaster vs Drosophila_teissieri using blast_databases/gl_(glass)_/Drosophila_teissieri_combined\n"
     ]
    },
    {
     "name": "stderr",
     "output_type": "stream",
     "text": [
      "/var/folders/mj/yrtz1pp53zs_hqrl2_mcw9m80000gn/T/ipykernel_11450/4042733987.py:94: FutureWarning: The behavior of DataFrame concatenation with empty or all-NA entries is deprecated. In a future version, this will no longer exclude empty or all-NA columns when determining the result dtypes. To retain the old behavior, exclude the relevant entries before the concat operation.\n",
      "  query_results_df = pd.concat([query_results_df, result_df], ignore_index=True)\n"
     ]
    },
    {
     "name": "stdout",
     "output_type": "stream",
     "text": [
      "Running BLASTp: Drosophila_melanogaster vs Drosophila_yakuba using blast_databases/gl_(glass)_/Drosophila_yakuba_combined\n",
      "Running BLASTp: Drosophila_melanogaster vs Drosophila_ananassae using blast_databases/gl_(glass)_/Drosophila_ananassae_combined\n",
      "Running BLASTp: Drosophila_melanogaster vs Drosophila_erecta using blast_databases/gl_(glass)_/Drosophila_erecta_combined\n",
      "Running BLASTp: Drosophila_melanogaster vs Drosophila_simulans using blast_databases/gl_(glass)_/Drosophila_simulans_combined\n",
      "Running BLASTp: Drosophila_melanogaster vs Drosophila_mauritiana using blast_databases/gl_(glass)_/Drosophila_mauritiana_combined\n",
      "Results for Drosophila_melanogaster vs all saved to: cross_species_blast_results/gl_(glass)_/Drosophila_melanogaster_vs_all.csv\n",
      "Running BLASTp: Drosophila_teissieri vs Drosophila_melanogaster using blast_databases/gl_(glass)_/Drosophila_melanogaster_combined\n",
      "Running BLASTp: Drosophila_teissieri vs Drosophila_yakuba using blast_databases/gl_(glass)_/Drosophila_yakuba_combined\n"
     ]
    },
    {
     "name": "stderr",
     "output_type": "stream",
     "text": [
      "/var/folders/mj/yrtz1pp53zs_hqrl2_mcw9m80000gn/T/ipykernel_11450/4042733987.py:94: FutureWarning: The behavior of DataFrame concatenation with empty or all-NA entries is deprecated. In a future version, this will no longer exclude empty or all-NA columns when determining the result dtypes. To retain the old behavior, exclude the relevant entries before the concat operation.\n",
      "  query_results_df = pd.concat([query_results_df, result_df], ignore_index=True)\n"
     ]
    },
    {
     "name": "stdout",
     "output_type": "stream",
     "text": [
      "Running BLASTp: Drosophila_teissieri vs Drosophila_ananassae using blast_databases/gl_(glass)_/Drosophila_ananassae_combined\n",
      "Running BLASTp: Drosophila_teissieri vs Drosophila_erecta using blast_databases/gl_(glass)_/Drosophila_erecta_combined\n",
      "Running BLASTp: Drosophila_teissieri vs Drosophila_simulans using blast_databases/gl_(glass)_/Drosophila_simulans_combined\n",
      "Running BLASTp: Drosophila_teissieri vs Drosophila_mauritiana using blast_databases/gl_(glass)_/Drosophila_mauritiana_combined\n",
      "Results for Drosophila_teissieri vs all saved to: cross_species_blast_results/gl_(glass)_/Drosophila_teissieri_vs_all.csv\n",
      "Running BLASTp: Drosophila_yakuba vs Drosophila_melanogaster using blast_databases/gl_(glass)_/Drosophila_melanogaster_combined\n",
      "Running BLASTp: Drosophila_yakuba vs Drosophila_teissieri using blast_databases/gl_(glass)_/Drosophila_teissieri_combined\n"
     ]
    },
    {
     "name": "stderr",
     "output_type": "stream",
     "text": [
      "/var/folders/mj/yrtz1pp53zs_hqrl2_mcw9m80000gn/T/ipykernel_11450/4042733987.py:94: FutureWarning: The behavior of DataFrame concatenation with empty or all-NA entries is deprecated. In a future version, this will no longer exclude empty or all-NA columns when determining the result dtypes. To retain the old behavior, exclude the relevant entries before the concat operation.\n",
      "  query_results_df = pd.concat([query_results_df, result_df], ignore_index=True)\n"
     ]
    },
    {
     "name": "stdout",
     "output_type": "stream",
     "text": [
      "Running BLASTp: Drosophila_yakuba vs Drosophila_ananassae using blast_databases/gl_(glass)_/Drosophila_ananassae_combined\n",
      "Running BLASTp: Drosophila_yakuba vs Drosophila_erecta using blast_databases/gl_(glass)_/Drosophila_erecta_combined\n",
      "Running BLASTp: Drosophila_yakuba vs Drosophila_simulans using blast_databases/gl_(glass)_/Drosophila_simulans_combined\n",
      "Running BLASTp: Drosophila_yakuba vs Drosophila_mauritiana using blast_databases/gl_(glass)_/Drosophila_mauritiana_combined\n",
      "Results for Drosophila_yakuba vs all saved to: cross_species_blast_results/gl_(glass)_/Drosophila_yakuba_vs_all.csv\n",
      "Running BLASTp: Drosophila_ananassae vs Drosophila_melanogaster using blast_databases/gl_(glass)_/Drosophila_melanogaster_combined\n",
      "Running BLASTp: Drosophila_ananassae vs Drosophila_teissieri using blast_databases/gl_(glass)_/Drosophila_teissieri_combined\n"
     ]
    },
    {
     "name": "stderr",
     "output_type": "stream",
     "text": [
      "/var/folders/mj/yrtz1pp53zs_hqrl2_mcw9m80000gn/T/ipykernel_11450/4042733987.py:94: FutureWarning: The behavior of DataFrame concatenation with empty or all-NA entries is deprecated. In a future version, this will no longer exclude empty or all-NA columns when determining the result dtypes. To retain the old behavior, exclude the relevant entries before the concat operation.\n",
      "  query_results_df = pd.concat([query_results_df, result_df], ignore_index=True)\n"
     ]
    },
    {
     "name": "stdout",
     "output_type": "stream",
     "text": [
      "Running BLASTp: Drosophila_ananassae vs Drosophila_yakuba using blast_databases/gl_(glass)_/Drosophila_yakuba_combined\n",
      "Running BLASTp: Drosophila_ananassae vs Drosophila_erecta using blast_databases/gl_(glass)_/Drosophila_erecta_combined\n",
      "Running BLASTp: Drosophila_ananassae vs Drosophila_simulans using blast_databases/gl_(glass)_/Drosophila_simulans_combined\n",
      "Running BLASTp: Drosophila_ananassae vs Drosophila_mauritiana using blast_databases/gl_(glass)_/Drosophila_mauritiana_combined\n",
      "Results for Drosophila_ananassae vs all saved to: cross_species_blast_results/gl_(glass)_/Drosophila_ananassae_vs_all.csv\n",
      "Running BLASTp: Drosophila_erecta vs Drosophila_melanogaster using blast_databases/gl_(glass)_/Drosophila_melanogaster_combined\n",
      "Running BLASTp: Drosophila_erecta vs Drosophila_teissieri using blast_databases/gl_(glass)_/Drosophila_teissieri_combined\n"
     ]
    },
    {
     "name": "stderr",
     "output_type": "stream",
     "text": [
      "/var/folders/mj/yrtz1pp53zs_hqrl2_mcw9m80000gn/T/ipykernel_11450/4042733987.py:94: FutureWarning: The behavior of DataFrame concatenation with empty or all-NA entries is deprecated. In a future version, this will no longer exclude empty or all-NA columns when determining the result dtypes. To retain the old behavior, exclude the relevant entries before the concat operation.\n",
      "  query_results_df = pd.concat([query_results_df, result_df], ignore_index=True)\n"
     ]
    },
    {
     "name": "stdout",
     "output_type": "stream",
     "text": [
      "Running BLASTp: Drosophila_erecta vs Drosophila_yakuba using blast_databases/gl_(glass)_/Drosophila_yakuba_combined\n",
      "Running BLASTp: Drosophila_erecta vs Drosophila_ananassae using blast_databases/gl_(glass)_/Drosophila_ananassae_combined\n",
      "Running BLASTp: Drosophila_erecta vs Drosophila_simulans using blast_databases/gl_(glass)_/Drosophila_simulans_combined\n",
      "Running BLASTp: Drosophila_erecta vs Drosophila_mauritiana using blast_databases/gl_(glass)_/Drosophila_mauritiana_combined\n",
      "Results for Drosophila_erecta vs all saved to: cross_species_blast_results/gl_(glass)_/Drosophila_erecta_vs_all.csv\n",
      "Running BLASTp: Drosophila_simulans vs Drosophila_melanogaster using blast_databases/gl_(glass)_/Drosophila_melanogaster_combined\n",
      "Running BLASTp: Drosophila_simulans vs Drosophila_teissieri using blast_databases/gl_(glass)_/Drosophila_teissieri_combined\n"
     ]
    },
    {
     "name": "stderr",
     "output_type": "stream",
     "text": [
      "/var/folders/mj/yrtz1pp53zs_hqrl2_mcw9m80000gn/T/ipykernel_11450/4042733987.py:94: FutureWarning: The behavior of DataFrame concatenation with empty or all-NA entries is deprecated. In a future version, this will no longer exclude empty or all-NA columns when determining the result dtypes. To retain the old behavior, exclude the relevant entries before the concat operation.\n",
      "  query_results_df = pd.concat([query_results_df, result_df], ignore_index=True)\n"
     ]
    },
    {
     "name": "stdout",
     "output_type": "stream",
     "text": [
      "Running BLASTp: Drosophila_simulans vs Drosophila_yakuba using blast_databases/gl_(glass)_/Drosophila_yakuba_combined\n",
      "Running BLASTp: Drosophila_simulans vs Drosophila_ananassae using blast_databases/gl_(glass)_/Drosophila_ananassae_combined\n",
      "Running BLASTp: Drosophila_simulans vs Drosophila_erecta using blast_databases/gl_(glass)_/Drosophila_erecta_combined\n",
      "Running BLASTp: Drosophila_simulans vs Drosophila_mauritiana using blast_databases/gl_(glass)_/Drosophila_mauritiana_combined\n",
      "Results for Drosophila_simulans vs all saved to: cross_species_blast_results/gl_(glass)_/Drosophila_simulans_vs_all.csv\n",
      "Running BLASTp: Drosophila_mauritiana vs Drosophila_melanogaster using blast_databases/gl_(glass)_/Drosophila_melanogaster_combined\n",
      "Running BLASTp: Drosophila_mauritiana vs Drosophila_teissieri using blast_databases/gl_(glass)_/Drosophila_teissieri_combined\n"
     ]
    },
    {
     "name": "stderr",
     "output_type": "stream",
     "text": [
      "/var/folders/mj/yrtz1pp53zs_hqrl2_mcw9m80000gn/T/ipykernel_11450/4042733987.py:94: FutureWarning: The behavior of DataFrame concatenation with empty or all-NA entries is deprecated. In a future version, this will no longer exclude empty or all-NA columns when determining the result dtypes. To retain the old behavior, exclude the relevant entries before the concat operation.\n",
      "  query_results_df = pd.concat([query_results_df, result_df], ignore_index=True)\n"
     ]
    },
    {
     "name": "stdout",
     "output_type": "stream",
     "text": [
      "Running BLASTp: Drosophila_mauritiana vs Drosophila_yakuba using blast_databases/gl_(glass)_/Drosophila_yakuba_combined\n",
      "Running BLASTp: Drosophila_mauritiana vs Drosophila_ananassae using blast_databases/gl_(glass)_/Drosophila_ananassae_combined\n",
      "Running BLASTp: Drosophila_mauritiana vs Drosophila_erecta using blast_databases/gl_(glass)_/Drosophila_erecta_combined\n",
      "Running BLASTp: Drosophila_mauritiana vs Drosophila_simulans using blast_databases/gl_(glass)_/Drosophila_simulans_combined\n",
      "Results for Drosophila_mauritiana vs all saved to: cross_species_blast_results/gl_(glass)_/Drosophila_mauritiana_vs_all.csv\n",
      "Processing gene: rdgA_(retinal_degeneration_A)\n",
      "Running BLASTp: Drosophila_melanogaster vs Drosophila_teissieri using blast_databases/rdgA_(retinal_degeneration_A)/Drosophila_teissieri_combined\n"
     ]
    },
    {
     "name": "stderr",
     "output_type": "stream",
     "text": [
      "/var/folders/mj/yrtz1pp53zs_hqrl2_mcw9m80000gn/T/ipykernel_11450/4042733987.py:94: FutureWarning: The behavior of DataFrame concatenation with empty or all-NA entries is deprecated. In a future version, this will no longer exclude empty or all-NA columns when determining the result dtypes. To retain the old behavior, exclude the relevant entries before the concat operation.\n",
      "  query_results_df = pd.concat([query_results_df, result_df], ignore_index=True)\n"
     ]
    },
    {
     "name": "stdout",
     "output_type": "stream",
     "text": [
      "Running BLASTp: Drosophila_melanogaster vs Drosophila_yakuba using blast_databases/rdgA_(retinal_degeneration_A)/Drosophila_yakuba_combined\n",
      "Running BLASTp: Drosophila_melanogaster vs Drosophila_ananassae using blast_databases/rdgA_(retinal_degeneration_A)/Drosophila_ananassae_combined\n",
      "Running BLASTp: Drosophila_melanogaster vs Drosophila_erecta using blast_databases/rdgA_(retinal_degeneration_A)/Drosophila_erecta_combined\n",
      "Running BLASTp: Drosophila_melanogaster vs Drosophila_simulans using blast_databases/rdgA_(retinal_degeneration_A)/Drosophila_simulans_combined\n",
      "Running BLASTp: Drosophila_melanogaster vs Drosophila_mauritiana using blast_databases/rdgA_(retinal_degeneration_A)/Drosophila_mauritiana_combined\n",
      "Results for Drosophila_melanogaster vs all saved to: cross_species_blast_results/rdgA_(retinal_degeneration_A)/Drosophila_melanogaster_vs_all.csv\n",
      "Running BLASTp: Drosophila_teissieri vs Drosophila_melanogaster using blast_databases/rdgA_(retinal_degeneration_A)/Drosophila_melanogaster_combined\n"
     ]
    },
    {
     "name": "stderr",
     "output_type": "stream",
     "text": [
      "/var/folders/mj/yrtz1pp53zs_hqrl2_mcw9m80000gn/T/ipykernel_11450/4042733987.py:94: FutureWarning: The behavior of DataFrame concatenation with empty or all-NA entries is deprecated. In a future version, this will no longer exclude empty or all-NA columns when determining the result dtypes. To retain the old behavior, exclude the relevant entries before the concat operation.\n",
      "  query_results_df = pd.concat([query_results_df, result_df], ignore_index=True)\n"
     ]
    },
    {
     "name": "stdout",
     "output_type": "stream",
     "text": [
      "Running BLASTp: Drosophila_teissieri vs Drosophila_yakuba using blast_databases/rdgA_(retinal_degeneration_A)/Drosophila_yakuba_combined\n",
      "Running BLASTp: Drosophila_teissieri vs Drosophila_ananassae using blast_databases/rdgA_(retinal_degeneration_A)/Drosophila_ananassae_combined\n",
      "Running BLASTp: Drosophila_teissieri vs Drosophila_erecta using blast_databases/rdgA_(retinal_degeneration_A)/Drosophila_erecta_combined\n",
      "Running BLASTp: Drosophila_teissieri vs Drosophila_simulans using blast_databases/rdgA_(retinal_degeneration_A)/Drosophila_simulans_combined\n",
      "Running BLASTp: Drosophila_teissieri vs Drosophila_mauritiana using blast_databases/rdgA_(retinal_degeneration_A)/Drosophila_mauritiana_combined\n",
      "Results for Drosophila_teissieri vs all saved to: cross_species_blast_results/rdgA_(retinal_degeneration_A)/Drosophila_teissieri_vs_all.csv\n",
      "Running BLASTp: Drosophila_yakuba vs Drosophila_melanogaster using blast_databases/rdgA_(retinal_degeneration_A)/Drosophila_melanogaster_combined\n"
     ]
    },
    {
     "name": "stderr",
     "output_type": "stream",
     "text": [
      "/var/folders/mj/yrtz1pp53zs_hqrl2_mcw9m80000gn/T/ipykernel_11450/4042733987.py:94: FutureWarning: The behavior of DataFrame concatenation with empty or all-NA entries is deprecated. In a future version, this will no longer exclude empty or all-NA columns when determining the result dtypes. To retain the old behavior, exclude the relevant entries before the concat operation.\n",
      "  query_results_df = pd.concat([query_results_df, result_df], ignore_index=True)\n"
     ]
    },
    {
     "name": "stdout",
     "output_type": "stream",
     "text": [
      "Running BLASTp: Drosophila_yakuba vs Drosophila_teissieri using blast_databases/rdgA_(retinal_degeneration_A)/Drosophila_teissieri_combined\n",
      "Running BLASTp: Drosophila_yakuba vs Drosophila_ananassae using blast_databases/rdgA_(retinal_degeneration_A)/Drosophila_ananassae_combined\n",
      "Running BLASTp: Drosophila_yakuba vs Drosophila_erecta using blast_databases/rdgA_(retinal_degeneration_A)/Drosophila_erecta_combined\n",
      "Running BLASTp: Drosophila_yakuba vs Drosophila_simulans using blast_databases/rdgA_(retinal_degeneration_A)/Drosophila_simulans_combined\n",
      "Running BLASTp: Drosophila_yakuba vs Drosophila_mauritiana using blast_databases/rdgA_(retinal_degeneration_A)/Drosophila_mauritiana_combined\n",
      "Results for Drosophila_yakuba vs all saved to: cross_species_blast_results/rdgA_(retinal_degeneration_A)/Drosophila_yakuba_vs_all.csv\n",
      "Running BLASTp: Drosophila_ananassae vs Drosophila_melanogaster using blast_databases/rdgA_(retinal_degeneration_A)/Drosophila_melanogaster_combined\n"
     ]
    },
    {
     "name": "stderr",
     "output_type": "stream",
     "text": [
      "/var/folders/mj/yrtz1pp53zs_hqrl2_mcw9m80000gn/T/ipykernel_11450/4042733987.py:94: FutureWarning: The behavior of DataFrame concatenation with empty or all-NA entries is deprecated. In a future version, this will no longer exclude empty or all-NA columns when determining the result dtypes. To retain the old behavior, exclude the relevant entries before the concat operation.\n",
      "  query_results_df = pd.concat([query_results_df, result_df], ignore_index=True)\n"
     ]
    },
    {
     "name": "stdout",
     "output_type": "stream",
     "text": [
      "Running BLASTp: Drosophila_ananassae vs Drosophila_teissieri using blast_databases/rdgA_(retinal_degeneration_A)/Drosophila_teissieri_combined\n",
      "Running BLASTp: Drosophila_ananassae vs Drosophila_yakuba using blast_databases/rdgA_(retinal_degeneration_A)/Drosophila_yakuba_combined\n",
      "Running BLASTp: Drosophila_ananassae vs Drosophila_erecta using blast_databases/rdgA_(retinal_degeneration_A)/Drosophila_erecta_combined\n",
      "Running BLASTp: Drosophila_ananassae vs Drosophila_simulans using blast_databases/rdgA_(retinal_degeneration_A)/Drosophila_simulans_combined\n",
      "Running BLASTp: Drosophila_ananassae vs Drosophila_mauritiana using blast_databases/rdgA_(retinal_degeneration_A)/Drosophila_mauritiana_combined\n",
      "Results for Drosophila_ananassae vs all saved to: cross_species_blast_results/rdgA_(retinal_degeneration_A)/Drosophila_ananassae_vs_all.csv\n",
      "Running BLASTp: Drosophila_erecta vs Drosophila_melanogaster using blast_databases/rdgA_(retinal_degeneration_A)/Drosophila_melanogaster_combined\n"
     ]
    },
    {
     "name": "stderr",
     "output_type": "stream",
     "text": [
      "/var/folders/mj/yrtz1pp53zs_hqrl2_mcw9m80000gn/T/ipykernel_11450/4042733987.py:94: FutureWarning: The behavior of DataFrame concatenation with empty or all-NA entries is deprecated. In a future version, this will no longer exclude empty or all-NA columns when determining the result dtypes. To retain the old behavior, exclude the relevant entries before the concat operation.\n",
      "  query_results_df = pd.concat([query_results_df, result_df], ignore_index=True)\n"
     ]
    },
    {
     "name": "stdout",
     "output_type": "stream",
     "text": [
      "Running BLASTp: Drosophila_erecta vs Drosophila_teissieri using blast_databases/rdgA_(retinal_degeneration_A)/Drosophila_teissieri_combined\n",
      "Running BLASTp: Drosophila_erecta vs Drosophila_yakuba using blast_databases/rdgA_(retinal_degeneration_A)/Drosophila_yakuba_combined\n",
      "Running BLASTp: Drosophila_erecta vs Drosophila_ananassae using blast_databases/rdgA_(retinal_degeneration_A)/Drosophila_ananassae_combined\n",
      "Running BLASTp: Drosophila_erecta vs Drosophila_simulans using blast_databases/rdgA_(retinal_degeneration_A)/Drosophila_simulans_combined\n",
      "Running BLASTp: Drosophila_erecta vs Drosophila_mauritiana using blast_databases/rdgA_(retinal_degeneration_A)/Drosophila_mauritiana_combined\n",
      "Results for Drosophila_erecta vs all saved to: cross_species_blast_results/rdgA_(retinal_degeneration_A)/Drosophila_erecta_vs_all.csv\n",
      "Running BLASTp: Drosophila_simulans vs Drosophila_melanogaster using blast_databases/rdgA_(retinal_degeneration_A)/Drosophila_melanogaster_combined\n"
     ]
    },
    {
     "name": "stderr",
     "output_type": "stream",
     "text": [
      "/var/folders/mj/yrtz1pp53zs_hqrl2_mcw9m80000gn/T/ipykernel_11450/4042733987.py:94: FutureWarning: The behavior of DataFrame concatenation with empty or all-NA entries is deprecated. In a future version, this will no longer exclude empty or all-NA columns when determining the result dtypes. To retain the old behavior, exclude the relevant entries before the concat operation.\n",
      "  query_results_df = pd.concat([query_results_df, result_df], ignore_index=True)\n"
     ]
    },
    {
     "name": "stdout",
     "output_type": "stream",
     "text": [
      "Running BLASTp: Drosophila_simulans vs Drosophila_teissieri using blast_databases/rdgA_(retinal_degeneration_A)/Drosophila_teissieri_combined\n",
      "Running BLASTp: Drosophila_simulans vs Drosophila_yakuba using blast_databases/rdgA_(retinal_degeneration_A)/Drosophila_yakuba_combined\n",
      "Running BLASTp: Drosophila_simulans vs Drosophila_ananassae using blast_databases/rdgA_(retinal_degeneration_A)/Drosophila_ananassae_combined\n",
      "Running BLASTp: Drosophila_simulans vs Drosophila_erecta using blast_databases/rdgA_(retinal_degeneration_A)/Drosophila_erecta_combined\n",
      "Running BLASTp: Drosophila_simulans vs Drosophila_mauritiana using blast_databases/rdgA_(retinal_degeneration_A)/Drosophila_mauritiana_combined\n",
      "Results for Drosophila_simulans vs all saved to: cross_species_blast_results/rdgA_(retinal_degeneration_A)/Drosophila_simulans_vs_all.csv\n",
      "Running BLASTp: Drosophila_mauritiana vs Drosophila_melanogaster using blast_databases/rdgA_(retinal_degeneration_A)/Drosophila_melanogaster_combined\n"
     ]
    },
    {
     "name": "stderr",
     "output_type": "stream",
     "text": [
      "/var/folders/mj/yrtz1pp53zs_hqrl2_mcw9m80000gn/T/ipykernel_11450/4042733987.py:94: FutureWarning: The behavior of DataFrame concatenation with empty or all-NA entries is deprecated. In a future version, this will no longer exclude empty or all-NA columns when determining the result dtypes. To retain the old behavior, exclude the relevant entries before the concat operation.\n",
      "  query_results_df = pd.concat([query_results_df, result_df], ignore_index=True)\n"
     ]
    },
    {
     "name": "stdout",
     "output_type": "stream",
     "text": [
      "Running BLASTp: Drosophila_mauritiana vs Drosophila_teissieri using blast_databases/rdgA_(retinal_degeneration_A)/Drosophila_teissieri_combined\n",
      "Running BLASTp: Drosophila_mauritiana vs Drosophila_yakuba using blast_databases/rdgA_(retinal_degeneration_A)/Drosophila_yakuba_combined\n",
      "Running BLASTp: Drosophila_mauritiana vs Drosophila_ananassae using blast_databases/rdgA_(retinal_degeneration_A)/Drosophila_ananassae_combined\n",
      "Running BLASTp: Drosophila_mauritiana vs Drosophila_erecta using blast_databases/rdgA_(retinal_degeneration_A)/Drosophila_erecta_combined\n",
      "Running BLASTp: Drosophila_mauritiana vs Drosophila_simulans using blast_databases/rdgA_(retinal_degeneration_A)/Drosophila_simulans_combined\n",
      "Results for Drosophila_mauritiana vs all saved to: cross_species_blast_results/rdgA_(retinal_degeneration_A)/Drosophila_mauritiana_vs_all.csv\n",
      "Processing gene: Arr2_(Arrestin_2)\n",
      "Running BLASTp: Drosophila_melanogaster vs Drosophila_teissieri using blast_databases/Arr2_(Arrestin_2)/Drosophila_teissieri_combined\n",
      "Running BLASTp: Drosophila_melanogaster vs Drosophila_yakuba using blast_databases/Arr2_(Arrestin_2)/Drosophila_yakuba_combined\n"
     ]
    },
    {
     "name": "stderr",
     "output_type": "stream",
     "text": [
      "/var/folders/mj/yrtz1pp53zs_hqrl2_mcw9m80000gn/T/ipykernel_11450/4042733987.py:94: FutureWarning: The behavior of DataFrame concatenation with empty or all-NA entries is deprecated. In a future version, this will no longer exclude empty or all-NA columns when determining the result dtypes. To retain the old behavior, exclude the relevant entries before the concat operation.\n",
      "  query_results_df = pd.concat([query_results_df, result_df], ignore_index=True)\n"
     ]
    },
    {
     "name": "stdout",
     "output_type": "stream",
     "text": [
      "Running BLASTp: Drosophila_melanogaster vs Drosophila_ananassae using blast_databases/Arr2_(Arrestin_2)/Drosophila_ananassae_combined\n",
      "Running BLASTp: Drosophila_melanogaster vs Drosophila_erecta using blast_databases/Arr2_(Arrestin_2)/Drosophila_erecta_combined\n",
      "Running BLASTp: Drosophila_melanogaster vs Drosophila_simulans using blast_databases/Arr2_(Arrestin_2)/Drosophila_simulans_combined\n",
      "Running BLASTp: Drosophila_melanogaster vs Drosophila_mauritiana using blast_databases/Arr2_(Arrestin_2)/Drosophila_mauritiana_combined\n",
      "Results for Drosophila_melanogaster vs all saved to: cross_species_blast_results/Arr2_(Arrestin_2)/Drosophila_melanogaster_vs_all.csv\n",
      "Running BLASTp: Drosophila_teissieri vs Drosophila_melanogaster using blast_databases/Arr2_(Arrestin_2)/Drosophila_melanogaster_combined\n",
      "Running BLASTp: Drosophila_teissieri vs Drosophila_yakuba using blast_databases/Arr2_(Arrestin_2)/Drosophila_yakuba_combined\n"
     ]
    },
    {
     "name": "stderr",
     "output_type": "stream",
     "text": [
      "/var/folders/mj/yrtz1pp53zs_hqrl2_mcw9m80000gn/T/ipykernel_11450/4042733987.py:94: FutureWarning: The behavior of DataFrame concatenation with empty or all-NA entries is deprecated. In a future version, this will no longer exclude empty or all-NA columns when determining the result dtypes. To retain the old behavior, exclude the relevant entries before the concat operation.\n",
      "  query_results_df = pd.concat([query_results_df, result_df], ignore_index=True)\n"
     ]
    },
    {
     "name": "stdout",
     "output_type": "stream",
     "text": [
      "Running BLASTp: Drosophila_teissieri vs Drosophila_ananassae using blast_databases/Arr2_(Arrestin_2)/Drosophila_ananassae_combined\n",
      "Running BLASTp: Drosophila_teissieri vs Drosophila_erecta using blast_databases/Arr2_(Arrestin_2)/Drosophila_erecta_combined\n",
      "Running BLASTp: Drosophila_teissieri vs Drosophila_simulans using blast_databases/Arr2_(Arrestin_2)/Drosophila_simulans_combined\n",
      "Running BLASTp: Drosophila_teissieri vs Drosophila_mauritiana using blast_databases/Arr2_(Arrestin_2)/Drosophila_mauritiana_combined\n",
      "Results for Drosophila_teissieri vs all saved to: cross_species_blast_results/Arr2_(Arrestin_2)/Drosophila_teissieri_vs_all.csv\n",
      "Running BLASTp: Drosophila_yakuba vs Drosophila_melanogaster using blast_databases/Arr2_(Arrestin_2)/Drosophila_melanogaster_combined\n",
      "Running BLASTp: Drosophila_yakuba vs Drosophila_teissieri using blast_databases/Arr2_(Arrestin_2)/Drosophila_teissieri_combined\n"
     ]
    },
    {
     "name": "stderr",
     "output_type": "stream",
     "text": [
      "/var/folders/mj/yrtz1pp53zs_hqrl2_mcw9m80000gn/T/ipykernel_11450/4042733987.py:94: FutureWarning: The behavior of DataFrame concatenation with empty or all-NA entries is deprecated. In a future version, this will no longer exclude empty or all-NA columns when determining the result dtypes. To retain the old behavior, exclude the relevant entries before the concat operation.\n",
      "  query_results_df = pd.concat([query_results_df, result_df], ignore_index=True)\n"
     ]
    },
    {
     "name": "stdout",
     "output_type": "stream",
     "text": [
      "Running BLASTp: Drosophila_yakuba vs Drosophila_ananassae using blast_databases/Arr2_(Arrestin_2)/Drosophila_ananassae_combined\n",
      "Running BLASTp: Drosophila_yakuba vs Drosophila_erecta using blast_databases/Arr2_(Arrestin_2)/Drosophila_erecta_combined\n",
      "Running BLASTp: Drosophila_yakuba vs Drosophila_simulans using blast_databases/Arr2_(Arrestin_2)/Drosophila_simulans_combined\n",
      "Running BLASTp: Drosophila_yakuba vs Drosophila_mauritiana using blast_databases/Arr2_(Arrestin_2)/Drosophila_mauritiana_combined\n",
      "Results for Drosophila_yakuba vs all saved to: cross_species_blast_results/Arr2_(Arrestin_2)/Drosophila_yakuba_vs_all.csv\n",
      "Running BLASTp: Drosophila_ananassae vs Drosophila_melanogaster using blast_databases/Arr2_(Arrestin_2)/Drosophila_melanogaster_combined\n",
      "Running BLASTp: Drosophila_ananassae vs Drosophila_teissieri using blast_databases/Arr2_(Arrestin_2)/Drosophila_teissieri_combined\n"
     ]
    },
    {
     "name": "stderr",
     "output_type": "stream",
     "text": [
      "/var/folders/mj/yrtz1pp53zs_hqrl2_mcw9m80000gn/T/ipykernel_11450/4042733987.py:94: FutureWarning: The behavior of DataFrame concatenation with empty or all-NA entries is deprecated. In a future version, this will no longer exclude empty or all-NA columns when determining the result dtypes. To retain the old behavior, exclude the relevant entries before the concat operation.\n",
      "  query_results_df = pd.concat([query_results_df, result_df], ignore_index=True)\n"
     ]
    },
    {
     "name": "stdout",
     "output_type": "stream",
     "text": [
      "Running BLASTp: Drosophila_ananassae vs Drosophila_yakuba using blast_databases/Arr2_(Arrestin_2)/Drosophila_yakuba_combined\n",
      "Running BLASTp: Drosophila_ananassae vs Drosophila_erecta using blast_databases/Arr2_(Arrestin_2)/Drosophila_erecta_combined\n",
      "Running BLASTp: Drosophila_ananassae vs Drosophila_simulans using blast_databases/Arr2_(Arrestin_2)/Drosophila_simulans_combined\n",
      "Running BLASTp: Drosophila_ananassae vs Drosophila_mauritiana using blast_databases/Arr2_(Arrestin_2)/Drosophila_mauritiana_combined\n",
      "Results for Drosophila_ananassae vs all saved to: cross_species_blast_results/Arr2_(Arrestin_2)/Drosophila_ananassae_vs_all.csv\n",
      "Running BLASTp: Drosophila_erecta vs Drosophila_melanogaster using blast_databases/Arr2_(Arrestin_2)/Drosophila_melanogaster_combined\n",
      "Running BLASTp: Drosophila_erecta vs Drosophila_teissieri using blast_databases/Arr2_(Arrestin_2)/Drosophila_teissieri_combined\n"
     ]
    },
    {
     "name": "stderr",
     "output_type": "stream",
     "text": [
      "/var/folders/mj/yrtz1pp53zs_hqrl2_mcw9m80000gn/T/ipykernel_11450/4042733987.py:94: FutureWarning: The behavior of DataFrame concatenation with empty or all-NA entries is deprecated. In a future version, this will no longer exclude empty or all-NA columns when determining the result dtypes. To retain the old behavior, exclude the relevant entries before the concat operation.\n",
      "  query_results_df = pd.concat([query_results_df, result_df], ignore_index=True)\n"
     ]
    },
    {
     "name": "stdout",
     "output_type": "stream",
     "text": [
      "Running BLASTp: Drosophila_erecta vs Drosophila_yakuba using blast_databases/Arr2_(Arrestin_2)/Drosophila_yakuba_combined\n",
      "Running BLASTp: Drosophila_erecta vs Drosophila_ananassae using blast_databases/Arr2_(Arrestin_2)/Drosophila_ananassae_combined\n",
      "Running BLASTp: Drosophila_erecta vs Drosophila_simulans using blast_databases/Arr2_(Arrestin_2)/Drosophila_simulans_combined\n",
      "Running BLASTp: Drosophila_erecta vs Drosophila_mauritiana using blast_databases/Arr2_(Arrestin_2)/Drosophila_mauritiana_combined\n",
      "Results for Drosophila_erecta vs all saved to: cross_species_blast_results/Arr2_(Arrestin_2)/Drosophila_erecta_vs_all.csv\n",
      "Running BLASTp: Drosophila_simulans vs Drosophila_melanogaster using blast_databases/Arr2_(Arrestin_2)/Drosophila_melanogaster_combined\n",
      "Running BLASTp: Drosophila_simulans vs Drosophila_teissieri using blast_databases/Arr2_(Arrestin_2)/Drosophila_teissieri_combined\n"
     ]
    },
    {
     "name": "stderr",
     "output_type": "stream",
     "text": [
      "/var/folders/mj/yrtz1pp53zs_hqrl2_mcw9m80000gn/T/ipykernel_11450/4042733987.py:94: FutureWarning: The behavior of DataFrame concatenation with empty or all-NA entries is deprecated. In a future version, this will no longer exclude empty or all-NA columns when determining the result dtypes. To retain the old behavior, exclude the relevant entries before the concat operation.\n",
      "  query_results_df = pd.concat([query_results_df, result_df], ignore_index=True)\n"
     ]
    },
    {
     "name": "stdout",
     "output_type": "stream",
     "text": [
      "Running BLASTp: Drosophila_simulans vs Drosophila_yakuba using blast_databases/Arr2_(Arrestin_2)/Drosophila_yakuba_combined\n",
      "Running BLASTp: Drosophila_simulans vs Drosophila_ananassae using blast_databases/Arr2_(Arrestin_2)/Drosophila_ananassae_combined\n",
      "Running BLASTp: Drosophila_simulans vs Drosophila_erecta using blast_databases/Arr2_(Arrestin_2)/Drosophila_erecta_combined\n",
      "Running BLASTp: Drosophila_simulans vs Drosophila_mauritiana using blast_databases/Arr2_(Arrestin_2)/Drosophila_mauritiana_combined\n",
      "Results for Drosophila_simulans vs all saved to: cross_species_blast_results/Arr2_(Arrestin_2)/Drosophila_simulans_vs_all.csv\n",
      "Running BLASTp: Drosophila_mauritiana vs Drosophila_melanogaster using blast_databases/Arr2_(Arrestin_2)/Drosophila_melanogaster_combined\n",
      "Running BLASTp: Drosophila_mauritiana vs Drosophila_teissieri using blast_databases/Arr2_(Arrestin_2)/Drosophila_teissieri_combined\n"
     ]
    },
    {
     "name": "stderr",
     "output_type": "stream",
     "text": [
      "/var/folders/mj/yrtz1pp53zs_hqrl2_mcw9m80000gn/T/ipykernel_11450/4042733987.py:94: FutureWarning: The behavior of DataFrame concatenation with empty or all-NA entries is deprecated. In a future version, this will no longer exclude empty or all-NA columns when determining the result dtypes. To retain the old behavior, exclude the relevant entries before the concat operation.\n",
      "  query_results_df = pd.concat([query_results_df, result_df], ignore_index=True)\n"
     ]
    },
    {
     "name": "stdout",
     "output_type": "stream",
     "text": [
      "Running BLASTp: Drosophila_mauritiana vs Drosophila_yakuba using blast_databases/Arr2_(Arrestin_2)/Drosophila_yakuba_combined\n",
      "Running BLASTp: Drosophila_mauritiana vs Drosophila_ananassae using blast_databases/Arr2_(Arrestin_2)/Drosophila_ananassae_combined\n",
      "Running BLASTp: Drosophila_mauritiana vs Drosophila_erecta using blast_databases/Arr2_(Arrestin_2)/Drosophila_erecta_combined\n",
      "Running BLASTp: Drosophila_mauritiana vs Drosophila_simulans using blast_databases/Arr2_(Arrestin_2)/Drosophila_simulans_combined\n",
      "Results for Drosophila_mauritiana vs all saved to: cross_species_blast_results/Arr2_(Arrestin_2)/Drosophila_mauritiana_vs_all.csv\n",
      "Processing gene: Klp64D_(Kinesin-like_protein_at_64D)\n",
      "Running BLASTp: Drosophila_melanogaster vs Drosophila_teissieri using blast_databases/Klp64D_(Kinesin-like_protein_at_64D)/Drosophila_teissieri_combined\n",
      "Running BLASTp: Drosophila_melanogaster vs Drosophila_yakuba using blast_databases/Klp64D_(Kinesin-like_protein_at_64D)/Drosophila_yakuba_combined\n"
     ]
    },
    {
     "name": "stderr",
     "output_type": "stream",
     "text": [
      "/var/folders/mj/yrtz1pp53zs_hqrl2_mcw9m80000gn/T/ipykernel_11450/4042733987.py:94: FutureWarning: The behavior of DataFrame concatenation with empty or all-NA entries is deprecated. In a future version, this will no longer exclude empty or all-NA columns when determining the result dtypes. To retain the old behavior, exclude the relevant entries before the concat operation.\n",
      "  query_results_df = pd.concat([query_results_df, result_df], ignore_index=True)\n"
     ]
    },
    {
     "name": "stdout",
     "output_type": "stream",
     "text": [
      "Running BLASTp: Drosophila_melanogaster vs Drosophila_ananassae using blast_databases/Klp64D_(Kinesin-like_protein_at_64D)/Drosophila_ananassae_combined\n",
      "Running BLASTp: Drosophila_melanogaster vs Drosophila_erecta using blast_databases/Klp64D_(Kinesin-like_protein_at_64D)/Drosophila_erecta_combined\n",
      "Running BLASTp: Drosophila_melanogaster vs Drosophila_simulans using blast_databases/Klp64D_(Kinesin-like_protein_at_64D)/Drosophila_simulans_combined\n",
      "Running BLASTp: Drosophila_melanogaster vs Drosophila_mauritiana using blast_databases/Klp64D_(Kinesin-like_protein_at_64D)/Drosophila_mauritiana_combined\n",
      "Results for Drosophila_melanogaster vs all saved to: cross_species_blast_results/Klp64D_(Kinesin-like_protein_at_64D)/Drosophila_melanogaster_vs_all.csv\n",
      "Running BLASTp: Drosophila_teissieri vs Drosophila_melanogaster using blast_databases/Klp64D_(Kinesin-like_protein_at_64D)/Drosophila_melanogaster_combined\n",
      "Running BLASTp: Drosophila_teissieri vs Drosophila_yakuba using blast_databases/Klp64D_(Kinesin-like_protein_at_64D)/Drosophila_yakuba_combined\n"
     ]
    },
    {
     "name": "stderr",
     "output_type": "stream",
     "text": [
      "/var/folders/mj/yrtz1pp53zs_hqrl2_mcw9m80000gn/T/ipykernel_11450/4042733987.py:94: FutureWarning: The behavior of DataFrame concatenation with empty or all-NA entries is deprecated. In a future version, this will no longer exclude empty or all-NA columns when determining the result dtypes. To retain the old behavior, exclude the relevant entries before the concat operation.\n",
      "  query_results_df = pd.concat([query_results_df, result_df], ignore_index=True)\n"
     ]
    },
    {
     "name": "stdout",
     "output_type": "stream",
     "text": [
      "Running BLASTp: Drosophila_teissieri vs Drosophila_ananassae using blast_databases/Klp64D_(Kinesin-like_protein_at_64D)/Drosophila_ananassae_combined\n",
      "Running BLASTp: Drosophila_teissieri vs Drosophila_erecta using blast_databases/Klp64D_(Kinesin-like_protein_at_64D)/Drosophila_erecta_combined\n",
      "Running BLASTp: Drosophila_teissieri vs Drosophila_simulans using blast_databases/Klp64D_(Kinesin-like_protein_at_64D)/Drosophila_simulans_combined\n",
      "Running BLASTp: Drosophila_teissieri vs Drosophila_mauritiana using blast_databases/Klp64D_(Kinesin-like_protein_at_64D)/Drosophila_mauritiana_combined\n",
      "Results for Drosophila_teissieri vs all saved to: cross_species_blast_results/Klp64D_(Kinesin-like_protein_at_64D)/Drosophila_teissieri_vs_all.csv\n",
      "Running BLASTp: Drosophila_yakuba vs Drosophila_melanogaster using blast_databases/Klp64D_(Kinesin-like_protein_at_64D)/Drosophila_melanogaster_combined\n",
      "Running BLASTp: Drosophila_yakuba vs Drosophila_teissieri using blast_databases/Klp64D_(Kinesin-like_protein_at_64D)/Drosophila_teissieri_combined\n"
     ]
    },
    {
     "name": "stderr",
     "output_type": "stream",
     "text": [
      "/var/folders/mj/yrtz1pp53zs_hqrl2_mcw9m80000gn/T/ipykernel_11450/4042733987.py:94: FutureWarning: The behavior of DataFrame concatenation with empty or all-NA entries is deprecated. In a future version, this will no longer exclude empty or all-NA columns when determining the result dtypes. To retain the old behavior, exclude the relevant entries before the concat operation.\n",
      "  query_results_df = pd.concat([query_results_df, result_df], ignore_index=True)\n"
     ]
    },
    {
     "name": "stdout",
     "output_type": "stream",
     "text": [
      "Running BLASTp: Drosophila_yakuba vs Drosophila_ananassae using blast_databases/Klp64D_(Kinesin-like_protein_at_64D)/Drosophila_ananassae_combined\n",
      "Running BLASTp: Drosophila_yakuba vs Drosophila_erecta using blast_databases/Klp64D_(Kinesin-like_protein_at_64D)/Drosophila_erecta_combined\n",
      "Running BLASTp: Drosophila_yakuba vs Drosophila_simulans using blast_databases/Klp64D_(Kinesin-like_protein_at_64D)/Drosophila_simulans_combined\n",
      "Running BLASTp: Drosophila_yakuba vs Drosophila_mauritiana using blast_databases/Klp64D_(Kinesin-like_protein_at_64D)/Drosophila_mauritiana_combined\n",
      "Results for Drosophila_yakuba vs all saved to: cross_species_blast_results/Klp64D_(Kinesin-like_protein_at_64D)/Drosophila_yakuba_vs_all.csv\n",
      "Running BLASTp: Drosophila_ananassae vs Drosophila_melanogaster using blast_databases/Klp64D_(Kinesin-like_protein_at_64D)/Drosophila_melanogaster_combined\n",
      "Running BLASTp: Drosophila_ananassae vs Drosophila_teissieri using blast_databases/Klp64D_(Kinesin-like_protein_at_64D)/Drosophila_teissieri_combined\n"
     ]
    },
    {
     "name": "stderr",
     "output_type": "stream",
     "text": [
      "/var/folders/mj/yrtz1pp53zs_hqrl2_mcw9m80000gn/T/ipykernel_11450/4042733987.py:94: FutureWarning: The behavior of DataFrame concatenation with empty or all-NA entries is deprecated. In a future version, this will no longer exclude empty or all-NA columns when determining the result dtypes. To retain the old behavior, exclude the relevant entries before the concat operation.\n",
      "  query_results_df = pd.concat([query_results_df, result_df], ignore_index=True)\n"
     ]
    },
    {
     "name": "stdout",
     "output_type": "stream",
     "text": [
      "Running BLASTp: Drosophila_ananassae vs Drosophila_yakuba using blast_databases/Klp64D_(Kinesin-like_protein_at_64D)/Drosophila_yakuba_combined\n",
      "Running BLASTp: Drosophila_ananassae vs Drosophila_erecta using blast_databases/Klp64D_(Kinesin-like_protein_at_64D)/Drosophila_erecta_combined\n",
      "Running BLASTp: Drosophila_ananassae vs Drosophila_simulans using blast_databases/Klp64D_(Kinesin-like_protein_at_64D)/Drosophila_simulans_combined\n",
      "Running BLASTp: Drosophila_ananassae vs Drosophila_mauritiana using blast_databases/Klp64D_(Kinesin-like_protein_at_64D)/Drosophila_mauritiana_combined\n",
      "Results for Drosophila_ananassae vs all saved to: cross_species_blast_results/Klp64D_(Kinesin-like_protein_at_64D)/Drosophila_ananassae_vs_all.csv\n",
      "Running BLASTp: Drosophila_erecta vs Drosophila_melanogaster using blast_databases/Klp64D_(Kinesin-like_protein_at_64D)/Drosophila_melanogaster_combined\n",
      "Running BLASTp: Drosophila_erecta vs Drosophila_teissieri using blast_databases/Klp64D_(Kinesin-like_protein_at_64D)/Drosophila_teissieri_combined\n"
     ]
    },
    {
     "name": "stderr",
     "output_type": "stream",
     "text": [
      "/var/folders/mj/yrtz1pp53zs_hqrl2_mcw9m80000gn/T/ipykernel_11450/4042733987.py:94: FutureWarning: The behavior of DataFrame concatenation with empty or all-NA entries is deprecated. In a future version, this will no longer exclude empty or all-NA columns when determining the result dtypes. To retain the old behavior, exclude the relevant entries before the concat operation.\n",
      "  query_results_df = pd.concat([query_results_df, result_df], ignore_index=True)\n"
     ]
    },
    {
     "name": "stdout",
     "output_type": "stream",
     "text": [
      "Running BLASTp: Drosophila_erecta vs Drosophila_yakuba using blast_databases/Klp64D_(Kinesin-like_protein_at_64D)/Drosophila_yakuba_combined\n",
      "Running BLASTp: Drosophila_erecta vs Drosophila_ananassae using blast_databases/Klp64D_(Kinesin-like_protein_at_64D)/Drosophila_ananassae_combined\n",
      "Running BLASTp: Drosophila_erecta vs Drosophila_simulans using blast_databases/Klp64D_(Kinesin-like_protein_at_64D)/Drosophila_simulans_combined\n",
      "Running BLASTp: Drosophila_erecta vs Drosophila_mauritiana using blast_databases/Klp64D_(Kinesin-like_protein_at_64D)/Drosophila_mauritiana_combined\n",
      "Results for Drosophila_erecta vs all saved to: cross_species_blast_results/Klp64D_(Kinesin-like_protein_at_64D)/Drosophila_erecta_vs_all.csv\n",
      "Running BLASTp: Drosophila_simulans vs Drosophila_melanogaster using blast_databases/Klp64D_(Kinesin-like_protein_at_64D)/Drosophila_melanogaster_combined\n",
      "Running BLASTp: Drosophila_simulans vs Drosophila_teissieri using blast_databases/Klp64D_(Kinesin-like_protein_at_64D)/Drosophila_teissieri_combined\n"
     ]
    },
    {
     "name": "stderr",
     "output_type": "stream",
     "text": [
      "/var/folders/mj/yrtz1pp53zs_hqrl2_mcw9m80000gn/T/ipykernel_11450/4042733987.py:94: FutureWarning: The behavior of DataFrame concatenation with empty or all-NA entries is deprecated. In a future version, this will no longer exclude empty or all-NA columns when determining the result dtypes. To retain the old behavior, exclude the relevant entries before the concat operation.\n",
      "  query_results_df = pd.concat([query_results_df, result_df], ignore_index=True)\n"
     ]
    },
    {
     "name": "stdout",
     "output_type": "stream",
     "text": [
      "Running BLASTp: Drosophila_simulans vs Drosophila_yakuba using blast_databases/Klp64D_(Kinesin-like_protein_at_64D)/Drosophila_yakuba_combined\n",
      "Running BLASTp: Drosophila_simulans vs Drosophila_ananassae using blast_databases/Klp64D_(Kinesin-like_protein_at_64D)/Drosophila_ananassae_combined\n",
      "Running BLASTp: Drosophila_simulans vs Drosophila_erecta using blast_databases/Klp64D_(Kinesin-like_protein_at_64D)/Drosophila_erecta_combined\n",
      "Running BLASTp: Drosophila_simulans vs Drosophila_mauritiana using blast_databases/Klp64D_(Kinesin-like_protein_at_64D)/Drosophila_mauritiana_combined\n",
      "Results for Drosophila_simulans vs all saved to: cross_species_blast_results/Klp64D_(Kinesin-like_protein_at_64D)/Drosophila_simulans_vs_all.csv\n",
      "Running BLASTp: Drosophila_mauritiana vs Drosophila_melanogaster using blast_databases/Klp64D_(Kinesin-like_protein_at_64D)/Drosophila_melanogaster_combined\n",
      "Running BLASTp: Drosophila_mauritiana vs Drosophila_teissieri using blast_databases/Klp64D_(Kinesin-like_protein_at_64D)/Drosophila_teissieri_combined\n"
     ]
    },
    {
     "name": "stderr",
     "output_type": "stream",
     "text": [
      "/var/folders/mj/yrtz1pp53zs_hqrl2_mcw9m80000gn/T/ipykernel_11450/4042733987.py:94: FutureWarning: The behavior of DataFrame concatenation with empty or all-NA entries is deprecated. In a future version, this will no longer exclude empty or all-NA columns when determining the result dtypes. To retain the old behavior, exclude the relevant entries before the concat operation.\n",
      "  query_results_df = pd.concat([query_results_df, result_df], ignore_index=True)\n"
     ]
    },
    {
     "name": "stdout",
     "output_type": "stream",
     "text": [
      "Running BLASTp: Drosophila_mauritiana vs Drosophila_yakuba using blast_databases/Klp64D_(Kinesin-like_protein_at_64D)/Drosophila_yakuba_combined\n",
      "Running BLASTp: Drosophila_mauritiana vs Drosophila_ananassae using blast_databases/Klp64D_(Kinesin-like_protein_at_64D)/Drosophila_ananassae_combined\n",
      "Running BLASTp: Drosophila_mauritiana vs Drosophila_erecta using blast_databases/Klp64D_(Kinesin-like_protein_at_64D)/Drosophila_erecta_combined\n",
      "Running BLASTp: Drosophila_mauritiana vs Drosophila_simulans using blast_databases/Klp64D_(Kinesin-like_protein_at_64D)/Drosophila_simulans_combined\n",
      "Results for Drosophila_mauritiana vs all saved to: cross_species_blast_results/Klp64D_(Kinesin-like_protein_at_64D)/Drosophila_mauritiana_vs_all.csv\n",
      "Processing gene: btv_(beethoven)\n",
      "Running BLASTp: Drosophila_melanogaster vs Drosophila_teissieri using blast_databases/btv_(beethoven)/Drosophila_teissieri_combined\n",
      "Running BLASTp: Drosophila_melanogaster vs Drosophila_yakuba using blast_databases/btv_(beethoven)/Drosophila_yakuba_combined\n"
     ]
    },
    {
     "name": "stderr",
     "output_type": "stream",
     "text": [
      "/var/folders/mj/yrtz1pp53zs_hqrl2_mcw9m80000gn/T/ipykernel_11450/4042733987.py:94: FutureWarning: The behavior of DataFrame concatenation with empty or all-NA entries is deprecated. In a future version, this will no longer exclude empty or all-NA columns when determining the result dtypes. To retain the old behavior, exclude the relevant entries before the concat operation.\n",
      "  query_results_df = pd.concat([query_results_df, result_df], ignore_index=True)\n"
     ]
    },
    {
     "name": "stdout",
     "output_type": "stream",
     "text": [
      "Running BLASTp: Drosophila_melanogaster vs Drosophila_ananassae using blast_databases/btv_(beethoven)/Drosophila_ananassae_combined\n",
      "Running BLASTp: Drosophila_melanogaster vs Drosophila_erecta using blast_databases/btv_(beethoven)/Drosophila_erecta_combined\n",
      "Running BLASTp: Drosophila_melanogaster vs Drosophila_simulans using blast_databases/btv_(beethoven)/Drosophila_simulans_combined\n",
      "Running BLASTp: Drosophila_melanogaster vs Drosophila_mauritiana using blast_databases/btv_(beethoven)/Drosophila_mauritiana_combined\n",
      "Results for Drosophila_melanogaster vs all saved to: cross_species_blast_results/btv_(beethoven)/Drosophila_melanogaster_vs_all.csv\n",
      "Running BLASTp: Drosophila_teissieri vs Drosophila_melanogaster using blast_databases/btv_(beethoven)/Drosophila_melanogaster_combined\n",
      "Running BLASTp: Drosophila_teissieri vs Drosophila_yakuba using blast_databases/btv_(beethoven)/Drosophila_yakuba_combined\n"
     ]
    },
    {
     "name": "stderr",
     "output_type": "stream",
     "text": [
      "/var/folders/mj/yrtz1pp53zs_hqrl2_mcw9m80000gn/T/ipykernel_11450/4042733987.py:94: FutureWarning: The behavior of DataFrame concatenation with empty or all-NA entries is deprecated. In a future version, this will no longer exclude empty or all-NA columns when determining the result dtypes. To retain the old behavior, exclude the relevant entries before the concat operation.\n",
      "  query_results_df = pd.concat([query_results_df, result_df], ignore_index=True)\n"
     ]
    },
    {
     "name": "stdout",
     "output_type": "stream",
     "text": [
      "Running BLASTp: Drosophila_teissieri vs Drosophila_ananassae using blast_databases/btv_(beethoven)/Drosophila_ananassae_combined\n",
      "Running BLASTp: Drosophila_teissieri vs Drosophila_erecta using blast_databases/btv_(beethoven)/Drosophila_erecta_combined\n",
      "Running BLASTp: Drosophila_teissieri vs Drosophila_simulans using blast_databases/btv_(beethoven)/Drosophila_simulans_combined\n",
      "Running BLASTp: Drosophila_teissieri vs Drosophila_mauritiana using blast_databases/btv_(beethoven)/Drosophila_mauritiana_combined\n",
      "Results for Drosophila_teissieri vs all saved to: cross_species_blast_results/btv_(beethoven)/Drosophila_teissieri_vs_all.csv\n",
      "Running BLASTp: Drosophila_yakuba vs Drosophila_melanogaster using blast_databases/btv_(beethoven)/Drosophila_melanogaster_combined\n"
     ]
    },
    {
     "name": "stderr",
     "output_type": "stream",
     "text": [
      "/var/folders/mj/yrtz1pp53zs_hqrl2_mcw9m80000gn/T/ipykernel_11450/4042733987.py:94: FutureWarning: The behavior of DataFrame concatenation with empty or all-NA entries is deprecated. In a future version, this will no longer exclude empty or all-NA columns when determining the result dtypes. To retain the old behavior, exclude the relevant entries before the concat operation.\n",
      "  query_results_df = pd.concat([query_results_df, result_df], ignore_index=True)\n"
     ]
    },
    {
     "name": "stdout",
     "output_type": "stream",
     "text": [
      "Running BLASTp: Drosophila_yakuba vs Drosophila_teissieri using blast_databases/btv_(beethoven)/Drosophila_teissieri_combined\n",
      "Running BLASTp: Drosophila_yakuba vs Drosophila_ananassae using blast_databases/btv_(beethoven)/Drosophila_ananassae_combined\n",
      "Running BLASTp: Drosophila_yakuba vs Drosophila_erecta using blast_databases/btv_(beethoven)/Drosophila_erecta_combined\n",
      "Running BLASTp: Drosophila_yakuba vs Drosophila_simulans using blast_databases/btv_(beethoven)/Drosophila_simulans_combined\n",
      "Running BLASTp: Drosophila_yakuba vs Drosophila_mauritiana using blast_databases/btv_(beethoven)/Drosophila_mauritiana_combined\n",
      "Results for Drosophila_yakuba vs all saved to: cross_species_blast_results/btv_(beethoven)/Drosophila_yakuba_vs_all.csv\n",
      "Running BLASTp: Drosophila_ananassae vs Drosophila_melanogaster using blast_databases/btv_(beethoven)/Drosophila_melanogaster_combined\n",
      "Running BLASTp: Drosophila_ananassae vs Drosophila_teissieri using blast_databases/btv_(beethoven)/Drosophila_teissieri_combined\n"
     ]
    },
    {
     "name": "stderr",
     "output_type": "stream",
     "text": [
      "/var/folders/mj/yrtz1pp53zs_hqrl2_mcw9m80000gn/T/ipykernel_11450/4042733987.py:94: FutureWarning: The behavior of DataFrame concatenation with empty or all-NA entries is deprecated. In a future version, this will no longer exclude empty or all-NA columns when determining the result dtypes. To retain the old behavior, exclude the relevant entries before the concat operation.\n",
      "  query_results_df = pd.concat([query_results_df, result_df], ignore_index=True)\n"
     ]
    },
    {
     "name": "stdout",
     "output_type": "stream",
     "text": [
      "Running BLASTp: Drosophila_ananassae vs Drosophila_yakuba using blast_databases/btv_(beethoven)/Drosophila_yakuba_combined\n",
      "Running BLASTp: Drosophila_ananassae vs Drosophila_erecta using blast_databases/btv_(beethoven)/Drosophila_erecta_combined\n",
      "Running BLASTp: Drosophila_ananassae vs Drosophila_simulans using blast_databases/btv_(beethoven)/Drosophila_simulans_combined\n",
      "Running BLASTp: Drosophila_ananassae vs Drosophila_mauritiana using blast_databases/btv_(beethoven)/Drosophila_mauritiana_combined\n",
      "Results for Drosophila_ananassae vs all saved to: cross_species_blast_results/btv_(beethoven)/Drosophila_ananassae_vs_all.csv\n",
      "Running BLASTp: Drosophila_erecta vs Drosophila_melanogaster using blast_databases/btv_(beethoven)/Drosophila_melanogaster_combined\n",
      "Running BLASTp: Drosophila_erecta vs Drosophila_teissieri using blast_databases/btv_(beethoven)/Drosophila_teissieri_combined\n"
     ]
    },
    {
     "name": "stderr",
     "output_type": "stream",
     "text": [
      "/var/folders/mj/yrtz1pp53zs_hqrl2_mcw9m80000gn/T/ipykernel_11450/4042733987.py:94: FutureWarning: The behavior of DataFrame concatenation with empty or all-NA entries is deprecated. In a future version, this will no longer exclude empty or all-NA columns when determining the result dtypes. To retain the old behavior, exclude the relevant entries before the concat operation.\n",
      "  query_results_df = pd.concat([query_results_df, result_df], ignore_index=True)\n"
     ]
    },
    {
     "name": "stdout",
     "output_type": "stream",
     "text": [
      "Running BLASTp: Drosophila_erecta vs Drosophila_yakuba using blast_databases/btv_(beethoven)/Drosophila_yakuba_combined\n",
      "Running BLASTp: Drosophila_erecta vs Drosophila_ananassae using blast_databases/btv_(beethoven)/Drosophila_ananassae_combined\n",
      "Running BLASTp: Drosophila_erecta vs Drosophila_simulans using blast_databases/btv_(beethoven)/Drosophila_simulans_combined\n",
      "Running BLASTp: Drosophila_erecta vs Drosophila_mauritiana using blast_databases/btv_(beethoven)/Drosophila_mauritiana_combined\n",
      "Results for Drosophila_erecta vs all saved to: cross_species_blast_results/btv_(beethoven)/Drosophila_erecta_vs_all.csv\n",
      "Running BLASTp: Drosophila_simulans vs Drosophila_melanogaster using blast_databases/btv_(beethoven)/Drosophila_melanogaster_combined\n",
      "Running BLASTp: Drosophila_simulans vs Drosophila_teissieri using blast_databases/btv_(beethoven)/Drosophila_teissieri_combined\n"
     ]
    },
    {
     "name": "stderr",
     "output_type": "stream",
     "text": [
      "/var/folders/mj/yrtz1pp53zs_hqrl2_mcw9m80000gn/T/ipykernel_11450/4042733987.py:94: FutureWarning: The behavior of DataFrame concatenation with empty or all-NA entries is deprecated. In a future version, this will no longer exclude empty or all-NA columns when determining the result dtypes. To retain the old behavior, exclude the relevant entries before the concat operation.\n",
      "  query_results_df = pd.concat([query_results_df, result_df], ignore_index=True)\n"
     ]
    },
    {
     "name": "stdout",
     "output_type": "stream",
     "text": [
      "Running BLASTp: Drosophila_simulans vs Drosophila_yakuba using blast_databases/btv_(beethoven)/Drosophila_yakuba_combined\n",
      "Running BLASTp: Drosophila_simulans vs Drosophila_ananassae using blast_databases/btv_(beethoven)/Drosophila_ananassae_combined\n",
      "Running BLASTp: Drosophila_simulans vs Drosophila_erecta using blast_databases/btv_(beethoven)/Drosophila_erecta_combined\n",
      "Running BLASTp: Drosophila_simulans vs Drosophila_mauritiana using blast_databases/btv_(beethoven)/Drosophila_mauritiana_combined\n",
      "Results for Drosophila_simulans vs all saved to: cross_species_blast_results/btv_(beethoven)/Drosophila_simulans_vs_all.csv\n",
      "Running BLASTp: Drosophila_mauritiana vs Drosophila_melanogaster using blast_databases/btv_(beethoven)/Drosophila_melanogaster_combined\n",
      "Running BLASTp: Drosophila_mauritiana vs Drosophila_teissieri using blast_databases/btv_(beethoven)/Drosophila_teissieri_combined\n"
     ]
    },
    {
     "name": "stderr",
     "output_type": "stream",
     "text": [
      "/var/folders/mj/yrtz1pp53zs_hqrl2_mcw9m80000gn/T/ipykernel_11450/4042733987.py:94: FutureWarning: The behavior of DataFrame concatenation with empty or all-NA entries is deprecated. In a future version, this will no longer exclude empty or all-NA columns when determining the result dtypes. To retain the old behavior, exclude the relevant entries before the concat operation.\n",
      "  query_results_df = pd.concat([query_results_df, result_df], ignore_index=True)\n"
     ]
    },
    {
     "name": "stdout",
     "output_type": "stream",
     "text": [
      "Running BLASTp: Drosophila_mauritiana vs Drosophila_yakuba using blast_databases/btv_(beethoven)/Drosophila_yakuba_combined\n",
      "Running BLASTp: Drosophila_mauritiana vs Drosophila_ananassae using blast_databases/btv_(beethoven)/Drosophila_ananassae_combined\n",
      "Running BLASTp: Drosophila_mauritiana vs Drosophila_erecta using blast_databases/btv_(beethoven)/Drosophila_erecta_combined\n",
      "Running BLASTp: Drosophila_mauritiana vs Drosophila_simulans using blast_databases/btv_(beethoven)/Drosophila_simulans_combined\n",
      "Results for Drosophila_mauritiana vs all saved to: cross_species_blast_results/btv_(beethoven)/Drosophila_mauritiana_vs_all.csv\n",
      "Processing gene: trpl_(transient_receptor_potential-like)\n",
      "Running BLASTp: Drosophila_melanogaster vs Drosophila_teissieri using blast_databases/trpl_(transient_receptor_potential-like)/Drosophila_teissieri_combined\n",
      "Running BLASTp: Drosophila_melanogaster vs Drosophila_yakuba using blast_databases/trpl_(transient_receptor_potential-like)/Drosophila_yakuba_combined\n"
     ]
    },
    {
     "name": "stderr",
     "output_type": "stream",
     "text": [
      "/var/folders/mj/yrtz1pp53zs_hqrl2_mcw9m80000gn/T/ipykernel_11450/4042733987.py:94: FutureWarning: The behavior of DataFrame concatenation with empty or all-NA entries is deprecated. In a future version, this will no longer exclude empty or all-NA columns when determining the result dtypes. To retain the old behavior, exclude the relevant entries before the concat operation.\n",
      "  query_results_df = pd.concat([query_results_df, result_df], ignore_index=True)\n"
     ]
    },
    {
     "name": "stdout",
     "output_type": "stream",
     "text": [
      "Running BLASTp: Drosophila_melanogaster vs Drosophila_ananassae using blast_databases/trpl_(transient_receptor_potential-like)/Drosophila_ananassae_combined\n",
      "Running BLASTp: Drosophila_melanogaster vs Drosophila_erecta using blast_databases/trpl_(transient_receptor_potential-like)/Drosophila_erecta_combined\n",
      "Running BLASTp: Drosophila_melanogaster vs Drosophila_simulans using blast_databases/trpl_(transient_receptor_potential-like)/Drosophila_simulans_combined\n",
      "Running BLASTp: Drosophila_melanogaster vs Drosophila_mauritiana using blast_databases/trpl_(transient_receptor_potential-like)/Drosophila_mauritiana_combined\n",
      "Results for Drosophila_melanogaster vs all saved to: cross_species_blast_results/trpl_(transient_receptor_potential-like)/Drosophila_melanogaster_vs_all.csv\n",
      "Running BLASTp: Drosophila_teissieri vs Drosophila_melanogaster using blast_databases/trpl_(transient_receptor_potential-like)/Drosophila_melanogaster_combined\n",
      "Running BLASTp: Drosophila_teissieri vs Drosophila_yakuba using blast_databases/trpl_(transient_receptor_potential-like)/Drosophila_yakuba_combined\n"
     ]
    },
    {
     "name": "stderr",
     "output_type": "stream",
     "text": [
      "/var/folders/mj/yrtz1pp53zs_hqrl2_mcw9m80000gn/T/ipykernel_11450/4042733987.py:94: FutureWarning: The behavior of DataFrame concatenation with empty or all-NA entries is deprecated. In a future version, this will no longer exclude empty or all-NA columns when determining the result dtypes. To retain the old behavior, exclude the relevant entries before the concat operation.\n",
      "  query_results_df = pd.concat([query_results_df, result_df], ignore_index=True)\n"
     ]
    },
    {
     "name": "stdout",
     "output_type": "stream",
     "text": [
      "Running BLASTp: Drosophila_teissieri vs Drosophila_ananassae using blast_databases/trpl_(transient_receptor_potential-like)/Drosophila_ananassae_combined\n",
      "Running BLASTp: Drosophila_teissieri vs Drosophila_erecta using blast_databases/trpl_(transient_receptor_potential-like)/Drosophila_erecta_combined\n",
      "Running BLASTp: Drosophila_teissieri vs Drosophila_simulans using blast_databases/trpl_(transient_receptor_potential-like)/Drosophila_simulans_combined\n",
      "Running BLASTp: Drosophila_teissieri vs Drosophila_mauritiana using blast_databases/trpl_(transient_receptor_potential-like)/Drosophila_mauritiana_combined\n",
      "Results for Drosophila_teissieri vs all saved to: cross_species_blast_results/trpl_(transient_receptor_potential-like)/Drosophila_teissieri_vs_all.csv\n",
      "Running BLASTp: Drosophila_yakuba vs Drosophila_melanogaster using blast_databases/trpl_(transient_receptor_potential-like)/Drosophila_melanogaster_combined\n",
      "Running BLASTp: Drosophila_yakuba vs Drosophila_teissieri using blast_databases/trpl_(transient_receptor_potential-like)/Drosophila_teissieri_combined\n"
     ]
    },
    {
     "name": "stderr",
     "output_type": "stream",
     "text": [
      "/var/folders/mj/yrtz1pp53zs_hqrl2_mcw9m80000gn/T/ipykernel_11450/4042733987.py:94: FutureWarning: The behavior of DataFrame concatenation with empty or all-NA entries is deprecated. In a future version, this will no longer exclude empty or all-NA columns when determining the result dtypes. To retain the old behavior, exclude the relevant entries before the concat operation.\n",
      "  query_results_df = pd.concat([query_results_df, result_df], ignore_index=True)\n"
     ]
    },
    {
     "name": "stdout",
     "output_type": "stream",
     "text": [
      "Running BLASTp: Drosophila_yakuba vs Drosophila_ananassae using blast_databases/trpl_(transient_receptor_potential-like)/Drosophila_ananassae_combined\n",
      "Running BLASTp: Drosophila_yakuba vs Drosophila_erecta using blast_databases/trpl_(transient_receptor_potential-like)/Drosophila_erecta_combined\n",
      "Running BLASTp: Drosophila_yakuba vs Drosophila_simulans using blast_databases/trpl_(transient_receptor_potential-like)/Drosophila_simulans_combined\n",
      "Running BLASTp: Drosophila_yakuba vs Drosophila_mauritiana using blast_databases/trpl_(transient_receptor_potential-like)/Drosophila_mauritiana_combined\n",
      "Results for Drosophila_yakuba vs all saved to: cross_species_blast_results/trpl_(transient_receptor_potential-like)/Drosophila_yakuba_vs_all.csv\n",
      "Running BLASTp: Drosophila_ananassae vs Drosophila_melanogaster using blast_databases/trpl_(transient_receptor_potential-like)/Drosophila_melanogaster_combined\n",
      "Running BLASTp: Drosophila_ananassae vs Drosophila_teissieri using blast_databases/trpl_(transient_receptor_potential-like)/Drosophila_teissieri_combined\n"
     ]
    },
    {
     "name": "stderr",
     "output_type": "stream",
     "text": [
      "/var/folders/mj/yrtz1pp53zs_hqrl2_mcw9m80000gn/T/ipykernel_11450/4042733987.py:94: FutureWarning: The behavior of DataFrame concatenation with empty or all-NA entries is deprecated. In a future version, this will no longer exclude empty or all-NA columns when determining the result dtypes. To retain the old behavior, exclude the relevant entries before the concat operation.\n",
      "  query_results_df = pd.concat([query_results_df, result_df], ignore_index=True)\n"
     ]
    },
    {
     "name": "stdout",
     "output_type": "stream",
     "text": [
      "Running BLASTp: Drosophila_ananassae vs Drosophila_yakuba using blast_databases/trpl_(transient_receptor_potential-like)/Drosophila_yakuba_combined\n",
      "Running BLASTp: Drosophila_ananassae vs Drosophila_erecta using blast_databases/trpl_(transient_receptor_potential-like)/Drosophila_erecta_combined\n",
      "Running BLASTp: Drosophila_ananassae vs Drosophila_simulans using blast_databases/trpl_(transient_receptor_potential-like)/Drosophila_simulans_combined\n",
      "Running BLASTp: Drosophila_ananassae vs Drosophila_mauritiana using blast_databases/trpl_(transient_receptor_potential-like)/Drosophila_mauritiana_combined\n",
      "Results for Drosophila_ananassae vs all saved to: cross_species_blast_results/trpl_(transient_receptor_potential-like)/Drosophila_ananassae_vs_all.csv\n",
      "Running BLASTp: Drosophila_erecta vs Drosophila_melanogaster using blast_databases/trpl_(transient_receptor_potential-like)/Drosophila_melanogaster_combined\n",
      "Running BLASTp: Drosophila_erecta vs Drosophila_teissieri using blast_databases/trpl_(transient_receptor_potential-like)/Drosophila_teissieri_combined\n"
     ]
    },
    {
     "name": "stderr",
     "output_type": "stream",
     "text": [
      "/var/folders/mj/yrtz1pp53zs_hqrl2_mcw9m80000gn/T/ipykernel_11450/4042733987.py:94: FutureWarning: The behavior of DataFrame concatenation with empty or all-NA entries is deprecated. In a future version, this will no longer exclude empty or all-NA columns when determining the result dtypes. To retain the old behavior, exclude the relevant entries before the concat operation.\n",
      "  query_results_df = pd.concat([query_results_df, result_df], ignore_index=True)\n"
     ]
    },
    {
     "name": "stdout",
     "output_type": "stream",
     "text": [
      "Running BLASTp: Drosophila_erecta vs Drosophila_yakuba using blast_databases/trpl_(transient_receptor_potential-like)/Drosophila_yakuba_combined\n",
      "Running BLASTp: Drosophila_erecta vs Drosophila_ananassae using blast_databases/trpl_(transient_receptor_potential-like)/Drosophila_ananassae_combined\n",
      "Running BLASTp: Drosophila_erecta vs Drosophila_simulans using blast_databases/trpl_(transient_receptor_potential-like)/Drosophila_simulans_combined\n",
      "Running BLASTp: Drosophila_erecta vs Drosophila_mauritiana using blast_databases/trpl_(transient_receptor_potential-like)/Drosophila_mauritiana_combined\n",
      "Results for Drosophila_erecta vs all saved to: cross_species_blast_results/trpl_(transient_receptor_potential-like)/Drosophila_erecta_vs_all.csv\n",
      "Running BLASTp: Drosophila_simulans vs Drosophila_melanogaster using blast_databases/trpl_(transient_receptor_potential-like)/Drosophila_melanogaster_combined\n"
     ]
    },
    {
     "name": "stderr",
     "output_type": "stream",
     "text": [
      "/var/folders/mj/yrtz1pp53zs_hqrl2_mcw9m80000gn/T/ipykernel_11450/4042733987.py:94: FutureWarning: The behavior of DataFrame concatenation with empty or all-NA entries is deprecated. In a future version, this will no longer exclude empty or all-NA columns when determining the result dtypes. To retain the old behavior, exclude the relevant entries before the concat operation.\n",
      "  query_results_df = pd.concat([query_results_df, result_df], ignore_index=True)\n"
     ]
    },
    {
     "name": "stdout",
     "output_type": "stream",
     "text": [
      "Running BLASTp: Drosophila_simulans vs Drosophila_teissieri using blast_databases/trpl_(transient_receptor_potential-like)/Drosophila_teissieri_combined\n",
      "Running BLASTp: Drosophila_simulans vs Drosophila_yakuba using blast_databases/trpl_(transient_receptor_potential-like)/Drosophila_yakuba_combined\n",
      "Running BLASTp: Drosophila_simulans vs Drosophila_ananassae using blast_databases/trpl_(transient_receptor_potential-like)/Drosophila_ananassae_combined\n",
      "Running BLASTp: Drosophila_simulans vs Drosophila_erecta using blast_databases/trpl_(transient_receptor_potential-like)/Drosophila_erecta_combined\n",
      "Running BLASTp: Drosophila_simulans vs Drosophila_mauritiana using blast_databases/trpl_(transient_receptor_potential-like)/Drosophila_mauritiana_combined\n",
      "Results for Drosophila_simulans vs all saved to: cross_species_blast_results/trpl_(transient_receptor_potential-like)/Drosophila_simulans_vs_all.csv\n",
      "Running BLASTp: Drosophila_mauritiana vs Drosophila_melanogaster using blast_databases/trpl_(transient_receptor_potential-like)/Drosophila_melanogaster_combined\n"
     ]
    },
    {
     "name": "stderr",
     "output_type": "stream",
     "text": [
      "/var/folders/mj/yrtz1pp53zs_hqrl2_mcw9m80000gn/T/ipykernel_11450/4042733987.py:94: FutureWarning: The behavior of DataFrame concatenation with empty or all-NA entries is deprecated. In a future version, this will no longer exclude empty or all-NA columns when determining the result dtypes. To retain the old behavior, exclude the relevant entries before the concat operation.\n",
      "  query_results_df = pd.concat([query_results_df, result_df], ignore_index=True)\n"
     ]
    },
    {
     "name": "stdout",
     "output_type": "stream",
     "text": [
      "Running BLASTp: Drosophila_mauritiana vs Drosophila_teissieri using blast_databases/trpl_(transient_receptor_potential-like)/Drosophila_teissieri_combined\n",
      "Running BLASTp: Drosophila_mauritiana vs Drosophila_yakuba using blast_databases/trpl_(transient_receptor_potential-like)/Drosophila_yakuba_combined\n",
      "Running BLASTp: Drosophila_mauritiana vs Drosophila_ananassae using blast_databases/trpl_(transient_receptor_potential-like)/Drosophila_ananassae_combined\n",
      "Running BLASTp: Drosophila_mauritiana vs Drosophila_erecta using blast_databases/trpl_(transient_receptor_potential-like)/Drosophila_erecta_combined\n",
      "Running BLASTp: Drosophila_mauritiana vs Drosophila_simulans using blast_databases/trpl_(transient_receptor_potential-like)/Drosophila_simulans_combined\n",
      "Results for Drosophila_mauritiana vs all saved to: cross_species_blast_results/trpl_(transient_receptor_potential-like)/Drosophila_mauritiana_vs_all.csv\n",
      "Processing gene: Dhc1_(Dynein_heavy_chain_1)\n",
      "Running BLASTp: Drosophila_melanogaster vs Drosophila_teissieri using blast_databases/Dhc1_(Dynein_heavy_chain_1)/Drosophila_teissieri_combined\n"
     ]
    },
    {
     "name": "stderr",
     "output_type": "stream",
     "text": [
      "/var/folders/mj/yrtz1pp53zs_hqrl2_mcw9m80000gn/T/ipykernel_11450/4042733987.py:94: FutureWarning: The behavior of DataFrame concatenation with empty or all-NA entries is deprecated. In a future version, this will no longer exclude empty or all-NA columns when determining the result dtypes. To retain the old behavior, exclude the relevant entries before the concat operation.\n",
      "  query_results_df = pd.concat([query_results_df, result_df], ignore_index=True)\n"
     ]
    },
    {
     "name": "stdout",
     "output_type": "stream",
     "text": [
      "Running BLASTp: Drosophila_melanogaster vs Drosophila_yakuba using blast_databases/Dhc1_(Dynein_heavy_chain_1)/Drosophila_yakuba_combined\n",
      "Running BLASTp: Drosophila_melanogaster vs Drosophila_ananassae using blast_databases/Dhc1_(Dynein_heavy_chain_1)/Drosophila_ananassae_combined\n",
      "Running BLASTp: Drosophila_melanogaster vs Drosophila_erecta using blast_databases/Dhc1_(Dynein_heavy_chain_1)/Drosophila_erecta_combined\n",
      "Running BLASTp: Drosophila_melanogaster vs Drosophila_simulans using blast_databases/Dhc1_(Dynein_heavy_chain_1)/Drosophila_simulans_combined\n",
      "Running BLASTp: Drosophila_melanogaster vs Drosophila_mauritiana using blast_databases/Dhc1_(Dynein_heavy_chain_1)/Drosophila_mauritiana_combined\n",
      "Results for Drosophila_melanogaster vs all saved to: cross_species_blast_results/Dhc1_(Dynein_heavy_chain_1)/Drosophila_melanogaster_vs_all.csv\n",
      "Running BLASTp: Drosophila_teissieri vs Drosophila_melanogaster using blast_databases/Dhc1_(Dynein_heavy_chain_1)/Drosophila_melanogaster_combined\n"
     ]
    },
    {
     "name": "stderr",
     "output_type": "stream",
     "text": [
      "/var/folders/mj/yrtz1pp53zs_hqrl2_mcw9m80000gn/T/ipykernel_11450/4042733987.py:94: FutureWarning: The behavior of DataFrame concatenation with empty or all-NA entries is deprecated. In a future version, this will no longer exclude empty or all-NA columns when determining the result dtypes. To retain the old behavior, exclude the relevant entries before the concat operation.\n",
      "  query_results_df = pd.concat([query_results_df, result_df], ignore_index=True)\n"
     ]
    },
    {
     "name": "stdout",
     "output_type": "stream",
     "text": [
      "Running BLASTp: Drosophila_teissieri vs Drosophila_yakuba using blast_databases/Dhc1_(Dynein_heavy_chain_1)/Drosophila_yakuba_combined\n",
      "Running BLASTp: Drosophila_teissieri vs Drosophila_ananassae using blast_databases/Dhc1_(Dynein_heavy_chain_1)/Drosophila_ananassae_combined\n",
      "Running BLASTp: Drosophila_teissieri vs Drosophila_erecta using blast_databases/Dhc1_(Dynein_heavy_chain_1)/Drosophila_erecta_combined\n",
      "Running BLASTp: Drosophila_teissieri vs Drosophila_simulans using blast_databases/Dhc1_(Dynein_heavy_chain_1)/Drosophila_simulans_combined\n",
      "Running BLASTp: Drosophila_teissieri vs Drosophila_mauritiana using blast_databases/Dhc1_(Dynein_heavy_chain_1)/Drosophila_mauritiana_combined\n",
      "Results for Drosophila_teissieri vs all saved to: cross_species_blast_results/Dhc1_(Dynein_heavy_chain_1)/Drosophila_teissieri_vs_all.csv\n",
      "Running BLASTp: Drosophila_yakuba vs Drosophila_melanogaster using blast_databases/Dhc1_(Dynein_heavy_chain_1)/Drosophila_melanogaster_combined\n"
     ]
    },
    {
     "name": "stderr",
     "output_type": "stream",
     "text": [
      "/var/folders/mj/yrtz1pp53zs_hqrl2_mcw9m80000gn/T/ipykernel_11450/4042733987.py:94: FutureWarning: The behavior of DataFrame concatenation with empty or all-NA entries is deprecated. In a future version, this will no longer exclude empty or all-NA columns when determining the result dtypes. To retain the old behavior, exclude the relevant entries before the concat operation.\n",
      "  query_results_df = pd.concat([query_results_df, result_df], ignore_index=True)\n"
     ]
    },
    {
     "name": "stdout",
     "output_type": "stream",
     "text": [
      "Running BLASTp: Drosophila_yakuba vs Drosophila_teissieri using blast_databases/Dhc1_(Dynein_heavy_chain_1)/Drosophila_teissieri_combined\n",
      "Running BLASTp: Drosophila_yakuba vs Drosophila_ananassae using blast_databases/Dhc1_(Dynein_heavy_chain_1)/Drosophila_ananassae_combined\n",
      "Running BLASTp: Drosophila_yakuba vs Drosophila_erecta using blast_databases/Dhc1_(Dynein_heavy_chain_1)/Drosophila_erecta_combined\n",
      "Running BLASTp: Drosophila_yakuba vs Drosophila_simulans using blast_databases/Dhc1_(Dynein_heavy_chain_1)/Drosophila_simulans_combined\n",
      "Running BLASTp: Drosophila_yakuba vs Drosophila_mauritiana using blast_databases/Dhc1_(Dynein_heavy_chain_1)/Drosophila_mauritiana_combined\n",
      "Results for Drosophila_yakuba vs all saved to: cross_species_blast_results/Dhc1_(Dynein_heavy_chain_1)/Drosophila_yakuba_vs_all.csv\n",
      "Running BLASTp: Drosophila_ananassae vs Drosophila_melanogaster using blast_databases/Dhc1_(Dynein_heavy_chain_1)/Drosophila_melanogaster_combined\n"
     ]
    },
    {
     "name": "stderr",
     "output_type": "stream",
     "text": [
      "/var/folders/mj/yrtz1pp53zs_hqrl2_mcw9m80000gn/T/ipykernel_11450/4042733987.py:94: FutureWarning: The behavior of DataFrame concatenation with empty or all-NA entries is deprecated. In a future version, this will no longer exclude empty or all-NA columns when determining the result dtypes. To retain the old behavior, exclude the relevant entries before the concat operation.\n",
      "  query_results_df = pd.concat([query_results_df, result_df], ignore_index=True)\n"
     ]
    },
    {
     "name": "stdout",
     "output_type": "stream",
     "text": [
      "Running BLASTp: Drosophila_ananassae vs Drosophila_teissieri using blast_databases/Dhc1_(Dynein_heavy_chain_1)/Drosophila_teissieri_combined\n",
      "Running BLASTp: Drosophila_ananassae vs Drosophila_yakuba using blast_databases/Dhc1_(Dynein_heavy_chain_1)/Drosophila_yakuba_combined\n",
      "Running BLASTp: Drosophila_ananassae vs Drosophila_erecta using blast_databases/Dhc1_(Dynein_heavy_chain_1)/Drosophila_erecta_combined\n",
      "Running BLASTp: Drosophila_ananassae vs Drosophila_simulans using blast_databases/Dhc1_(Dynein_heavy_chain_1)/Drosophila_simulans_combined\n",
      "Running BLASTp: Drosophila_ananassae vs Drosophila_mauritiana using blast_databases/Dhc1_(Dynein_heavy_chain_1)/Drosophila_mauritiana_combined\n",
      "Results for Drosophila_ananassae vs all saved to: cross_species_blast_results/Dhc1_(Dynein_heavy_chain_1)/Drosophila_ananassae_vs_all.csv\n",
      "Running BLASTp: Drosophila_erecta vs Drosophila_melanogaster using blast_databases/Dhc1_(Dynein_heavy_chain_1)/Drosophila_melanogaster_combined\n"
     ]
    },
    {
     "name": "stderr",
     "output_type": "stream",
     "text": [
      "/var/folders/mj/yrtz1pp53zs_hqrl2_mcw9m80000gn/T/ipykernel_11450/4042733987.py:94: FutureWarning: The behavior of DataFrame concatenation with empty or all-NA entries is deprecated. In a future version, this will no longer exclude empty or all-NA columns when determining the result dtypes. To retain the old behavior, exclude the relevant entries before the concat operation.\n",
      "  query_results_df = pd.concat([query_results_df, result_df], ignore_index=True)\n"
     ]
    },
    {
     "name": "stdout",
     "output_type": "stream",
     "text": [
      "Running BLASTp: Drosophila_erecta vs Drosophila_teissieri using blast_databases/Dhc1_(Dynein_heavy_chain_1)/Drosophila_teissieri_combined\n",
      "Running BLASTp: Drosophila_erecta vs Drosophila_yakuba using blast_databases/Dhc1_(Dynein_heavy_chain_1)/Drosophila_yakuba_combined\n",
      "Running BLASTp: Drosophila_erecta vs Drosophila_ananassae using blast_databases/Dhc1_(Dynein_heavy_chain_1)/Drosophila_ananassae_combined\n",
      "Running BLASTp: Drosophila_erecta vs Drosophila_simulans using blast_databases/Dhc1_(Dynein_heavy_chain_1)/Drosophila_simulans_combined\n",
      "Running BLASTp: Drosophila_erecta vs Drosophila_mauritiana using blast_databases/Dhc1_(Dynein_heavy_chain_1)/Drosophila_mauritiana_combined\n",
      "Results for Drosophila_erecta vs all saved to: cross_species_blast_results/Dhc1_(Dynein_heavy_chain_1)/Drosophila_erecta_vs_all.csv\n",
      "Running BLASTp: Drosophila_simulans vs Drosophila_melanogaster using blast_databases/Dhc1_(Dynein_heavy_chain_1)/Drosophila_melanogaster_combined\n"
     ]
    },
    {
     "name": "stderr",
     "output_type": "stream",
     "text": [
      "/var/folders/mj/yrtz1pp53zs_hqrl2_mcw9m80000gn/T/ipykernel_11450/4042733987.py:94: FutureWarning: The behavior of DataFrame concatenation with empty or all-NA entries is deprecated. In a future version, this will no longer exclude empty or all-NA columns when determining the result dtypes. To retain the old behavior, exclude the relevant entries before the concat operation.\n",
      "  query_results_df = pd.concat([query_results_df, result_df], ignore_index=True)\n"
     ]
    },
    {
     "name": "stdout",
     "output_type": "stream",
     "text": [
      "Running BLASTp: Drosophila_simulans vs Drosophila_teissieri using blast_databases/Dhc1_(Dynein_heavy_chain_1)/Drosophila_teissieri_combined\n",
      "Running BLASTp: Drosophila_simulans vs Drosophila_yakuba using blast_databases/Dhc1_(Dynein_heavy_chain_1)/Drosophila_yakuba_combined\n",
      "Running BLASTp: Drosophila_simulans vs Drosophila_ananassae using blast_databases/Dhc1_(Dynein_heavy_chain_1)/Drosophila_ananassae_combined\n",
      "Running BLASTp: Drosophila_simulans vs Drosophila_erecta using blast_databases/Dhc1_(Dynein_heavy_chain_1)/Drosophila_erecta_combined\n",
      "Running BLASTp: Drosophila_simulans vs Drosophila_mauritiana using blast_databases/Dhc1_(Dynein_heavy_chain_1)/Drosophila_mauritiana_combined\n",
      "Results for Drosophila_simulans vs all saved to: cross_species_blast_results/Dhc1_(Dynein_heavy_chain_1)/Drosophila_simulans_vs_all.csv\n",
      "Running BLASTp: Drosophila_mauritiana vs Drosophila_melanogaster using blast_databases/Dhc1_(Dynein_heavy_chain_1)/Drosophila_melanogaster_combined\n"
     ]
    },
    {
     "name": "stderr",
     "output_type": "stream",
     "text": [
      "/var/folders/mj/yrtz1pp53zs_hqrl2_mcw9m80000gn/T/ipykernel_11450/4042733987.py:94: FutureWarning: The behavior of DataFrame concatenation with empty or all-NA entries is deprecated. In a future version, this will no longer exclude empty or all-NA columns when determining the result dtypes. To retain the old behavior, exclude the relevant entries before the concat operation.\n",
      "  query_results_df = pd.concat([query_results_df, result_df], ignore_index=True)\n"
     ]
    },
    {
     "name": "stdout",
     "output_type": "stream",
     "text": [
      "Running BLASTp: Drosophila_mauritiana vs Drosophila_teissieri using blast_databases/Dhc1_(Dynein_heavy_chain_1)/Drosophila_teissieri_combined\n",
      "Running BLASTp: Drosophila_mauritiana vs Drosophila_yakuba using blast_databases/Dhc1_(Dynein_heavy_chain_1)/Drosophila_yakuba_combined\n",
      "Running BLASTp: Drosophila_mauritiana vs Drosophila_ananassae using blast_databases/Dhc1_(Dynein_heavy_chain_1)/Drosophila_ananassae_combined\n",
      "Running BLASTp: Drosophila_mauritiana vs Drosophila_erecta using blast_databases/Dhc1_(Dynein_heavy_chain_1)/Drosophila_erecta_combined\n",
      "Running BLASTp: Drosophila_mauritiana vs Drosophila_simulans using blast_databases/Dhc1_(Dynein_heavy_chain_1)/Drosophila_simulans_combined\n",
      "Results for Drosophila_mauritiana vs all saved to: cross_species_blast_results/Dhc1_(Dynein_heavy_chain_1)/Drosophila_mauritiana_vs_all.csv\n",
      "Processing gene: sei_(seizure)\n",
      "Running BLASTp: Drosophila_melanogaster vs Drosophila_teissieri using blast_databases/sei_(seizure)/Drosophila_teissieri_combined\n"
     ]
    },
    {
     "name": "stderr",
     "output_type": "stream",
     "text": [
      "/var/folders/mj/yrtz1pp53zs_hqrl2_mcw9m80000gn/T/ipykernel_11450/4042733987.py:94: FutureWarning: The behavior of DataFrame concatenation with empty or all-NA entries is deprecated. In a future version, this will no longer exclude empty or all-NA columns when determining the result dtypes. To retain the old behavior, exclude the relevant entries before the concat operation.\n",
      "  query_results_df = pd.concat([query_results_df, result_df], ignore_index=True)\n"
     ]
    },
    {
     "name": "stdout",
     "output_type": "stream",
     "text": [
      "Running BLASTp: Drosophila_melanogaster vs Drosophila_yakuba using blast_databases/sei_(seizure)/Drosophila_yakuba_combined\n",
      "Running BLASTp: Drosophila_melanogaster vs Drosophila_ananassae using blast_databases/sei_(seizure)/Drosophila_ananassae_combined\n",
      "Running BLASTp: Drosophila_melanogaster vs Drosophila_erecta using blast_databases/sei_(seizure)/Drosophila_erecta_combined\n",
      "Running BLASTp: Drosophila_melanogaster vs Drosophila_simulans using blast_databases/sei_(seizure)/Drosophila_simulans_combined\n",
      "Running BLASTp: Drosophila_melanogaster vs Drosophila_mauritiana using blast_databases/sei_(seizure)/Drosophila_mauritiana_combined\n",
      "Results for Drosophila_melanogaster vs all saved to: cross_species_blast_results/sei_(seizure)/Drosophila_melanogaster_vs_all.csv\n",
      "Running BLASTp: Drosophila_teissieri vs Drosophila_melanogaster using blast_databases/sei_(seizure)/Drosophila_melanogaster_combined\n"
     ]
    },
    {
     "name": "stderr",
     "output_type": "stream",
     "text": [
      "/var/folders/mj/yrtz1pp53zs_hqrl2_mcw9m80000gn/T/ipykernel_11450/4042733987.py:94: FutureWarning: The behavior of DataFrame concatenation with empty or all-NA entries is deprecated. In a future version, this will no longer exclude empty or all-NA columns when determining the result dtypes. To retain the old behavior, exclude the relevant entries before the concat operation.\n",
      "  query_results_df = pd.concat([query_results_df, result_df], ignore_index=True)\n"
     ]
    },
    {
     "name": "stdout",
     "output_type": "stream",
     "text": [
      "Running BLASTp: Drosophila_teissieri vs Drosophila_yakuba using blast_databases/sei_(seizure)/Drosophila_yakuba_combined\n",
      "Running BLASTp: Drosophila_teissieri vs Drosophila_ananassae using blast_databases/sei_(seizure)/Drosophila_ananassae_combined\n",
      "Running BLASTp: Drosophila_teissieri vs Drosophila_erecta using blast_databases/sei_(seizure)/Drosophila_erecta_combined\n",
      "Running BLASTp: Drosophila_teissieri vs Drosophila_simulans using blast_databases/sei_(seizure)/Drosophila_simulans_combined\n",
      "Running BLASTp: Drosophila_teissieri vs Drosophila_mauritiana using blast_databases/sei_(seizure)/Drosophila_mauritiana_combined\n",
      "Results for Drosophila_teissieri vs all saved to: cross_species_blast_results/sei_(seizure)/Drosophila_teissieri_vs_all.csv\n",
      "Running BLASTp: Drosophila_yakuba vs Drosophila_melanogaster using blast_databases/sei_(seizure)/Drosophila_melanogaster_combined\n"
     ]
    },
    {
     "name": "stderr",
     "output_type": "stream",
     "text": [
      "/var/folders/mj/yrtz1pp53zs_hqrl2_mcw9m80000gn/T/ipykernel_11450/4042733987.py:94: FutureWarning: The behavior of DataFrame concatenation with empty or all-NA entries is deprecated. In a future version, this will no longer exclude empty or all-NA columns when determining the result dtypes. To retain the old behavior, exclude the relevant entries before the concat operation.\n",
      "  query_results_df = pd.concat([query_results_df, result_df], ignore_index=True)\n"
     ]
    },
    {
     "name": "stdout",
     "output_type": "stream",
     "text": [
      "Running BLASTp: Drosophila_yakuba vs Drosophila_teissieri using blast_databases/sei_(seizure)/Drosophila_teissieri_combined\n",
      "Running BLASTp: Drosophila_yakuba vs Drosophila_ananassae using blast_databases/sei_(seizure)/Drosophila_ananassae_combined\n",
      "Running BLASTp: Drosophila_yakuba vs Drosophila_erecta using blast_databases/sei_(seizure)/Drosophila_erecta_combined\n",
      "Running BLASTp: Drosophila_yakuba vs Drosophila_simulans using blast_databases/sei_(seizure)/Drosophila_simulans_combined\n",
      "Running BLASTp: Drosophila_yakuba vs Drosophila_mauritiana using blast_databases/sei_(seizure)/Drosophila_mauritiana_combined\n",
      "Results for Drosophila_yakuba vs all saved to: cross_species_blast_results/sei_(seizure)/Drosophila_yakuba_vs_all.csv\n",
      "Running BLASTp: Drosophila_ananassae vs Drosophila_melanogaster using blast_databases/sei_(seizure)/Drosophila_melanogaster_combined\n"
     ]
    },
    {
     "name": "stderr",
     "output_type": "stream",
     "text": [
      "/var/folders/mj/yrtz1pp53zs_hqrl2_mcw9m80000gn/T/ipykernel_11450/4042733987.py:94: FutureWarning: The behavior of DataFrame concatenation with empty or all-NA entries is deprecated. In a future version, this will no longer exclude empty or all-NA columns when determining the result dtypes. To retain the old behavior, exclude the relevant entries before the concat operation.\n",
      "  query_results_df = pd.concat([query_results_df, result_df], ignore_index=True)\n"
     ]
    },
    {
     "name": "stdout",
     "output_type": "stream",
     "text": [
      "Running BLASTp: Drosophila_ananassae vs Drosophila_teissieri using blast_databases/sei_(seizure)/Drosophila_teissieri_combined\n",
      "Running BLASTp: Drosophila_ananassae vs Drosophila_yakuba using blast_databases/sei_(seizure)/Drosophila_yakuba_combined\n",
      "Running BLASTp: Drosophila_ananassae vs Drosophila_erecta using blast_databases/sei_(seizure)/Drosophila_erecta_combined\n",
      "Running BLASTp: Drosophila_ananassae vs Drosophila_simulans using blast_databases/sei_(seizure)/Drosophila_simulans_combined\n",
      "Running BLASTp: Drosophila_ananassae vs Drosophila_mauritiana using blast_databases/sei_(seizure)/Drosophila_mauritiana_combined\n",
      "Results for Drosophila_ananassae vs all saved to: cross_species_blast_results/sei_(seizure)/Drosophila_ananassae_vs_all.csv\n",
      "Running BLASTp: Drosophila_erecta vs Drosophila_melanogaster using blast_databases/sei_(seizure)/Drosophila_melanogaster_combined\n"
     ]
    },
    {
     "name": "stderr",
     "output_type": "stream",
     "text": [
      "/var/folders/mj/yrtz1pp53zs_hqrl2_mcw9m80000gn/T/ipykernel_11450/4042733987.py:94: FutureWarning: The behavior of DataFrame concatenation with empty or all-NA entries is deprecated. In a future version, this will no longer exclude empty or all-NA columns when determining the result dtypes. To retain the old behavior, exclude the relevant entries before the concat operation.\n",
      "  query_results_df = pd.concat([query_results_df, result_df], ignore_index=True)\n"
     ]
    },
    {
     "name": "stdout",
     "output_type": "stream",
     "text": [
      "Running BLASTp: Drosophila_erecta vs Drosophila_teissieri using blast_databases/sei_(seizure)/Drosophila_teissieri_combined\n",
      "Running BLASTp: Drosophila_erecta vs Drosophila_yakuba using blast_databases/sei_(seizure)/Drosophila_yakuba_combined\n",
      "Running BLASTp: Drosophila_erecta vs Drosophila_ananassae using blast_databases/sei_(seizure)/Drosophila_ananassae_combined\n",
      "Running BLASTp: Drosophila_erecta vs Drosophila_simulans using blast_databases/sei_(seizure)/Drosophila_simulans_combined\n",
      "Running BLASTp: Drosophila_erecta vs Drosophila_mauritiana using blast_databases/sei_(seizure)/Drosophila_mauritiana_combined\n",
      "Results for Drosophila_erecta vs all saved to: cross_species_blast_results/sei_(seizure)/Drosophila_erecta_vs_all.csv\n",
      "Running BLASTp: Drosophila_simulans vs Drosophila_melanogaster using blast_databases/sei_(seizure)/Drosophila_melanogaster_combined\n"
     ]
    },
    {
     "name": "stderr",
     "output_type": "stream",
     "text": [
      "/var/folders/mj/yrtz1pp53zs_hqrl2_mcw9m80000gn/T/ipykernel_11450/4042733987.py:94: FutureWarning: The behavior of DataFrame concatenation with empty or all-NA entries is deprecated. In a future version, this will no longer exclude empty or all-NA columns when determining the result dtypes. To retain the old behavior, exclude the relevant entries before the concat operation.\n",
      "  query_results_df = pd.concat([query_results_df, result_df], ignore_index=True)\n"
     ]
    },
    {
     "name": "stdout",
     "output_type": "stream",
     "text": [
      "Running BLASTp: Drosophila_simulans vs Drosophila_teissieri using blast_databases/sei_(seizure)/Drosophila_teissieri_combined\n",
      "Running BLASTp: Drosophila_simulans vs Drosophila_yakuba using blast_databases/sei_(seizure)/Drosophila_yakuba_combined\n",
      "Running BLASTp: Drosophila_simulans vs Drosophila_ananassae using blast_databases/sei_(seizure)/Drosophila_ananassae_combined\n",
      "Running BLASTp: Drosophila_simulans vs Drosophila_erecta using blast_databases/sei_(seizure)/Drosophila_erecta_combined\n",
      "Running BLASTp: Drosophila_simulans vs Drosophila_mauritiana using blast_databases/sei_(seizure)/Drosophila_mauritiana_combined\n",
      "Results for Drosophila_simulans vs all saved to: cross_species_blast_results/sei_(seizure)/Drosophila_simulans_vs_all.csv\n",
      "Running BLASTp: Drosophila_mauritiana vs Drosophila_melanogaster using blast_databases/sei_(seizure)/Drosophila_melanogaster_combined\n"
     ]
    },
    {
     "name": "stderr",
     "output_type": "stream",
     "text": [
      "/var/folders/mj/yrtz1pp53zs_hqrl2_mcw9m80000gn/T/ipykernel_11450/4042733987.py:94: FutureWarning: The behavior of DataFrame concatenation with empty or all-NA entries is deprecated. In a future version, this will no longer exclude empty or all-NA columns when determining the result dtypes. To retain the old behavior, exclude the relevant entries before the concat operation.\n",
      "  query_results_df = pd.concat([query_results_df, result_df], ignore_index=True)\n"
     ]
    },
    {
     "name": "stdout",
     "output_type": "stream",
     "text": [
      "Running BLASTp: Drosophila_mauritiana vs Drosophila_teissieri using blast_databases/sei_(seizure)/Drosophila_teissieri_combined\n",
      "Running BLASTp: Drosophila_mauritiana vs Drosophila_yakuba using blast_databases/sei_(seizure)/Drosophila_yakuba_combined\n",
      "Running BLASTp: Drosophila_mauritiana vs Drosophila_ananassae using blast_databases/sei_(seizure)/Drosophila_ananassae_combined\n",
      "Running BLASTp: Drosophila_mauritiana vs Drosophila_erecta using blast_databases/sei_(seizure)/Drosophila_erecta_combined\n",
      "Running BLASTp: Drosophila_mauritiana vs Drosophila_simulans using blast_databases/sei_(seizure)/Drosophila_simulans_combined\n",
      "Results for Drosophila_mauritiana vs all saved to: cross_species_blast_results/sei_(seizure)/Drosophila_mauritiana_vs_all.csv\n",
      "Processing gene: scaf_(scarface)\n",
      "Running BLASTp: Drosophila_melanogaster vs Drosophila_teissieri using blast_databases/scaf_(scarface)/Drosophila_teissieri_combined\n"
     ]
    },
    {
     "name": "stderr",
     "output_type": "stream",
     "text": [
      "/var/folders/mj/yrtz1pp53zs_hqrl2_mcw9m80000gn/T/ipykernel_11450/4042733987.py:94: FutureWarning: The behavior of DataFrame concatenation with empty or all-NA entries is deprecated. In a future version, this will no longer exclude empty or all-NA columns when determining the result dtypes. To retain the old behavior, exclude the relevant entries before the concat operation.\n",
      "  query_results_df = pd.concat([query_results_df, result_df], ignore_index=True)\n"
     ]
    },
    {
     "name": "stdout",
     "output_type": "stream",
     "text": [
      "Running BLASTp: Drosophila_melanogaster vs Drosophila_yakuba using blast_databases/scaf_(scarface)/Drosophila_yakuba_combined\n",
      "Running BLASTp: Drosophila_melanogaster vs Drosophila_ananassae using blast_databases/scaf_(scarface)/Drosophila_ananassae_combined\n",
      "Running BLASTp: Drosophila_melanogaster vs Drosophila_erecta using blast_databases/scaf_(scarface)/Drosophila_erecta_combined\n",
      "Running BLASTp: Drosophila_melanogaster vs Drosophila_simulans using blast_databases/scaf_(scarface)/Drosophila_simulans_combined\n",
      "Running BLASTp: Drosophila_melanogaster vs Drosophila_mauritiana using blast_databases/scaf_(scarface)/Drosophila_mauritiana_combined\n",
      "Results for Drosophila_melanogaster vs all saved to: cross_species_blast_results/scaf_(scarface)/Drosophila_melanogaster_vs_all.csv\n",
      "Running BLASTp: Drosophila_teissieri vs Drosophila_melanogaster using blast_databases/scaf_(scarface)/Drosophila_melanogaster_combined\n"
     ]
    },
    {
     "name": "stderr",
     "output_type": "stream",
     "text": [
      "/var/folders/mj/yrtz1pp53zs_hqrl2_mcw9m80000gn/T/ipykernel_11450/4042733987.py:94: FutureWarning: The behavior of DataFrame concatenation with empty or all-NA entries is deprecated. In a future version, this will no longer exclude empty or all-NA columns when determining the result dtypes. To retain the old behavior, exclude the relevant entries before the concat operation.\n",
      "  query_results_df = pd.concat([query_results_df, result_df], ignore_index=True)\n"
     ]
    },
    {
     "name": "stdout",
     "output_type": "stream",
     "text": [
      "Running BLASTp: Drosophila_teissieri vs Drosophila_yakuba using blast_databases/scaf_(scarface)/Drosophila_yakuba_combined\n",
      "Running BLASTp: Drosophila_teissieri vs Drosophila_ananassae using blast_databases/scaf_(scarface)/Drosophila_ananassae_combined\n",
      "Running BLASTp: Drosophila_teissieri vs Drosophila_erecta using blast_databases/scaf_(scarface)/Drosophila_erecta_combined\n",
      "Running BLASTp: Drosophila_teissieri vs Drosophila_simulans using blast_databases/scaf_(scarface)/Drosophila_simulans_combined\n",
      "Running BLASTp: Drosophila_teissieri vs Drosophila_mauritiana using blast_databases/scaf_(scarface)/Drosophila_mauritiana_combined\n",
      "Results for Drosophila_teissieri vs all saved to: cross_species_blast_results/scaf_(scarface)/Drosophila_teissieri_vs_all.csv\n",
      "Running BLASTp: Drosophila_yakuba vs Drosophila_melanogaster using blast_databases/scaf_(scarface)/Drosophila_melanogaster_combined\n",
      "Running BLASTp: Drosophila_yakuba vs Drosophila_teissieri using blast_databases/scaf_(scarface)/Drosophila_teissieri_combined\n"
     ]
    },
    {
     "name": "stderr",
     "output_type": "stream",
     "text": [
      "/var/folders/mj/yrtz1pp53zs_hqrl2_mcw9m80000gn/T/ipykernel_11450/4042733987.py:94: FutureWarning: The behavior of DataFrame concatenation with empty or all-NA entries is deprecated. In a future version, this will no longer exclude empty or all-NA columns when determining the result dtypes. To retain the old behavior, exclude the relevant entries before the concat operation.\n",
      "  query_results_df = pd.concat([query_results_df, result_df], ignore_index=True)\n"
     ]
    },
    {
     "name": "stdout",
     "output_type": "stream",
     "text": [
      "Running BLASTp: Drosophila_yakuba vs Drosophila_ananassae using blast_databases/scaf_(scarface)/Drosophila_ananassae_combined\n",
      "Running BLASTp: Drosophila_yakuba vs Drosophila_erecta using blast_databases/scaf_(scarface)/Drosophila_erecta_combined\n",
      "Running BLASTp: Drosophila_yakuba vs Drosophila_simulans using blast_databases/scaf_(scarface)/Drosophila_simulans_combined\n",
      "Running BLASTp: Drosophila_yakuba vs Drosophila_mauritiana using blast_databases/scaf_(scarface)/Drosophila_mauritiana_combined\n",
      "Results for Drosophila_yakuba vs all saved to: cross_species_blast_results/scaf_(scarface)/Drosophila_yakuba_vs_all.csv\n",
      "Running BLASTp: Drosophila_ananassae vs Drosophila_melanogaster using blast_databases/scaf_(scarface)/Drosophila_melanogaster_combined\n",
      "Running BLASTp: Drosophila_ananassae vs Drosophila_teissieri using blast_databases/scaf_(scarface)/Drosophila_teissieri_combined\n"
     ]
    },
    {
     "name": "stderr",
     "output_type": "stream",
     "text": [
      "/var/folders/mj/yrtz1pp53zs_hqrl2_mcw9m80000gn/T/ipykernel_11450/4042733987.py:94: FutureWarning: The behavior of DataFrame concatenation with empty or all-NA entries is deprecated. In a future version, this will no longer exclude empty or all-NA columns when determining the result dtypes. To retain the old behavior, exclude the relevant entries before the concat operation.\n",
      "  query_results_df = pd.concat([query_results_df, result_df], ignore_index=True)\n"
     ]
    },
    {
     "name": "stdout",
     "output_type": "stream",
     "text": [
      "Running BLASTp: Drosophila_ananassae vs Drosophila_yakuba using blast_databases/scaf_(scarface)/Drosophila_yakuba_combined\n",
      "Running BLASTp: Drosophila_ananassae vs Drosophila_erecta using blast_databases/scaf_(scarface)/Drosophila_erecta_combined\n",
      "Running BLASTp: Drosophila_ananassae vs Drosophila_simulans using blast_databases/scaf_(scarface)/Drosophila_simulans_combined\n",
      "Running BLASTp: Drosophila_ananassae vs Drosophila_mauritiana using blast_databases/scaf_(scarface)/Drosophila_mauritiana_combined\n",
      "Results for Drosophila_ananassae vs all saved to: cross_species_blast_results/scaf_(scarface)/Drosophila_ananassae_vs_all.csv\n",
      "Running BLASTp: Drosophila_erecta vs Drosophila_melanogaster using blast_databases/scaf_(scarface)/Drosophila_melanogaster_combined\n",
      "Running BLASTp: Drosophila_erecta vs Drosophila_teissieri using blast_databases/scaf_(scarface)/Drosophila_teissieri_combined\n"
     ]
    },
    {
     "name": "stderr",
     "output_type": "stream",
     "text": [
      "/var/folders/mj/yrtz1pp53zs_hqrl2_mcw9m80000gn/T/ipykernel_11450/4042733987.py:94: FutureWarning: The behavior of DataFrame concatenation with empty or all-NA entries is deprecated. In a future version, this will no longer exclude empty or all-NA columns when determining the result dtypes. To retain the old behavior, exclude the relevant entries before the concat operation.\n",
      "  query_results_df = pd.concat([query_results_df, result_df], ignore_index=True)\n"
     ]
    },
    {
     "name": "stdout",
     "output_type": "stream",
     "text": [
      "Running BLASTp: Drosophila_erecta vs Drosophila_yakuba using blast_databases/scaf_(scarface)/Drosophila_yakuba_combined\n",
      "Running BLASTp: Drosophila_erecta vs Drosophila_ananassae using blast_databases/scaf_(scarface)/Drosophila_ananassae_combined\n",
      "Running BLASTp: Drosophila_erecta vs Drosophila_simulans using blast_databases/scaf_(scarface)/Drosophila_simulans_combined\n",
      "Running BLASTp: Drosophila_erecta vs Drosophila_mauritiana using blast_databases/scaf_(scarface)/Drosophila_mauritiana_combined\n",
      "Results for Drosophila_erecta vs all saved to: cross_species_blast_results/scaf_(scarface)/Drosophila_erecta_vs_all.csv\n",
      "Running BLASTp: Drosophila_simulans vs Drosophila_melanogaster using blast_databases/scaf_(scarface)/Drosophila_melanogaster_combined\n",
      "Running BLASTp: Drosophila_simulans vs Drosophila_teissieri using blast_databases/scaf_(scarface)/Drosophila_teissieri_combined\n"
     ]
    },
    {
     "name": "stderr",
     "output_type": "stream",
     "text": [
      "/var/folders/mj/yrtz1pp53zs_hqrl2_mcw9m80000gn/T/ipykernel_11450/4042733987.py:94: FutureWarning: The behavior of DataFrame concatenation with empty or all-NA entries is deprecated. In a future version, this will no longer exclude empty or all-NA columns when determining the result dtypes. To retain the old behavior, exclude the relevant entries before the concat operation.\n",
      "  query_results_df = pd.concat([query_results_df, result_df], ignore_index=True)\n"
     ]
    },
    {
     "name": "stdout",
     "output_type": "stream",
     "text": [
      "Running BLASTp: Drosophila_simulans vs Drosophila_yakuba using blast_databases/scaf_(scarface)/Drosophila_yakuba_combined\n",
      "Running BLASTp: Drosophila_simulans vs Drosophila_ananassae using blast_databases/scaf_(scarface)/Drosophila_ananassae_combined\n",
      "Running BLASTp: Drosophila_simulans vs Drosophila_erecta using blast_databases/scaf_(scarface)/Drosophila_erecta_combined\n",
      "Running BLASTp: Drosophila_simulans vs Drosophila_mauritiana using blast_databases/scaf_(scarface)/Drosophila_mauritiana_combined\n",
      "Results for Drosophila_simulans vs all saved to: cross_species_blast_results/scaf_(scarface)/Drosophila_simulans_vs_all.csv\n",
      "Running BLASTp: Drosophila_mauritiana vs Drosophila_melanogaster using blast_databases/scaf_(scarface)/Drosophila_melanogaster_combined\n",
      "Running BLASTp: Drosophila_mauritiana vs Drosophila_teissieri using blast_databases/scaf_(scarface)/Drosophila_teissieri_combined\n"
     ]
    },
    {
     "name": "stderr",
     "output_type": "stream",
     "text": [
      "/var/folders/mj/yrtz1pp53zs_hqrl2_mcw9m80000gn/T/ipykernel_11450/4042733987.py:94: FutureWarning: The behavior of DataFrame concatenation with empty or all-NA entries is deprecated. In a future version, this will no longer exclude empty or all-NA columns when determining the result dtypes. To retain the old behavior, exclude the relevant entries before the concat operation.\n",
      "  query_results_df = pd.concat([query_results_df, result_df], ignore_index=True)\n"
     ]
    },
    {
     "name": "stdout",
     "output_type": "stream",
     "text": [
      "Running BLASTp: Drosophila_mauritiana vs Drosophila_yakuba using blast_databases/scaf_(scarface)/Drosophila_yakuba_combined\n",
      "Running BLASTp: Drosophila_mauritiana vs Drosophila_ananassae using blast_databases/scaf_(scarface)/Drosophila_ananassae_combined\n",
      "Running BLASTp: Drosophila_mauritiana vs Drosophila_erecta using blast_databases/scaf_(scarface)/Drosophila_erecta_combined\n",
      "Running BLASTp: Drosophila_mauritiana vs Drosophila_simulans using blast_databases/scaf_(scarface)/Drosophila_simulans_combined\n",
      "Results for Drosophila_mauritiana vs all saved to: cross_species_blast_results/scaf_(scarface)/Drosophila_mauritiana_vs_all.csv\n",
      "All BLAST results saved to: cross_species_blast_results/master_blast_results.csv\n"
     ]
    }
   ],
   "source": [
    "import os\n",
    "import pandas as pd\n",
    "import subprocess\n",
    "from io import StringIO\n",
    "\n",
    "# Paths and parameters\n",
    "main_gene_folder = \"Protein_FASTA_Files\"        # Main folder containing gene subfolders\n",
    "db_folder = \"blast_databases\"                  # Root folder for BLAST databases\n",
    "evalue = 0.001                                  # E-value threshold for BLAST\n",
    "max_hits = 10                                   # Max hits to retain from BLAST results\n",
    "output_folder = \"cross_species_blast_results\"  # Folder to store all results\n",
    "master_csv_file = os.path.join(output_folder, \"master_blast_results.csv\")  # Master results file\n",
    "\n",
    "# Create output folder\n",
    "os.makedirs(output_folder, exist_ok=True)\n",
    "\n",
    "# Function to sanitize names\n",
    "def sanitize_name(name):\n",
    "    \"\"\"Remove special characters and spaces from a string.\"\"\"\n",
    "    return \"\".join(c for c in name if c.isalnum() or c == \"_\")\n",
    "\n",
    "# Function to clear the console (works for most environments)\n",
    "def clear_console():\n",
    "    os.system('cls' if os.name == 'nt' else 'clear')\n",
    "\n",
    "# Function to run BLAST for each species against all other species\n",
    "def run_cross_species_blast(main_gene_folder, db_folder, output_folder, evalue, max_hits):\n",
    "    master_df = pd.DataFrame(columns=[\n",
    "        \"Gene Name\", \"Query Species\", \"Target Species\", \"Query ID\", \"Subject ID\", \n",
    "        \"% Identity\", \"Alignment Length\", \"Mismatches\", \"Gap Opens\", \"Query Start\", \n",
    "        \"Query End\", \"Subject Start\", \"Subject End\", \"E-value\", \"Bit Score\"\n",
    "    ])\n",
    "    failed_blasts = []  # List to track failed BLAST commands\n",
    "    \n",
    "    # Loop through each gene folder\n",
    "    for gene_folder in os.listdir(main_gene_folder):\n",
    "        gene_path = os.path.join(main_gene_folder, gene_folder)\n",
    "        if os.path.isdir(gene_path):  # Check if it's a directory\n",
    "            print(f\"Processing gene: {gene_folder}\")\n",
    "            \n",
    "            # Create a subfolder for the current gene in the output folder\n",
    "            gene_output_folder = os.path.join(output_folder, gene_folder)\n",
    "            os.makedirs(gene_output_folder, exist_ok=True)\n",
    "            \n",
    "            # Iterate over species within the gene folder\n",
    "            species_files = [f for f in os.listdir(gene_path) if f.endswith(\"_combined.fasta\")]\n",
    "            for query_file in species_files:\n",
    "                query_species = query_file.split(\"_combined\")[0]\n",
    "                query_path = os.path.join(gene_path, query_file)\n",
    "                \n",
    "                # Prepare an output CSV for the current query species\n",
    "                query_output_csv = os.path.join(gene_output_folder, f\"{query_species}_vs_all.csv\")\n",
    "                query_results_df = pd.DataFrame(columns=[\n",
    "                    \"Query ID\", \"Subject ID\", \"% Identity\", \"Alignment Length\", \"Mismatches\", \n",
    "                    \"Gap Opens\", \"Query Start\", \"Query End\", \"Subject Start\", \"Subject End\", \n",
    "                    \"E-value\", \"Bit Score\", \"Target Species\"\n",
    "                ])\n",
    "                \n",
    "                # BLAST the query species against all other species\n",
    "                for target_file in species_files:\n",
    "                    target_species = target_file.split(\"_combined\")[0]\n",
    "                    if query_species != target_species:  # Avoid self-comparison\n",
    "                        # Construct the BLAST database name based on the new format\n",
    "                        target_db_folder = os.path.join(db_folder, gene_folder)\n",
    "                        target_db = os.path.join(target_db_folder, f\"{target_species}_combined\")\n",
    "                        \n",
    "                        # Check if the BLAST database exists before running\n",
    "                        if not os.path.exists(f\"{target_db}.phr\") or not os.path.exists(f\"{target_db}.pin\") or not os.path.exists(f\"{target_db}.psq\"):\n",
    "                            failed_blasts.append((query_species, target_species, \"Database not found\"))\n",
    "                            continue\n",
    "                        \n",
    "                        # Run BLASTp\n",
    "                        blast_cmd = [\n",
    "                            \"blastp\",\n",
    "                            \"-query\", query_path,\n",
    "                            \"-db\", target_db,\n",
    "                            \"-evalue\", str(evalue),\n",
    "                            \"-outfmt\", \"6\",\n",
    "                            \"-max_target_seqs\", str(max_hits)\n",
    "                        ]\n",
    "                        try:\n",
    "                            subprocess.run(blast_cmd, capture_output=True, text=True, check=True)\n",
    "                        except subprocess.CalledProcessError as e:\n",
    "                            failed_blasts.append((query_species, target_species, str(e)))\n",
    "                \n",
    "                # Append to master DataFrame\n",
    "                query_results_df[\"Gene Name\"] = gene_folder\n",
    "                query_results_df[\"Query Species\"] = query_species\n",
    "                master_df = pd.concat([master_df, query_results_df], ignore_index=True)\n",
    "    \n",
    "    # Save master CSV\n",
    "    master_df.to_csv(master_csv_file, index=False)\n",
    "    \n",
    "    # Clear console before printing failures\n",
    "    clear_console()\n",
    "    \n",
    "    # Print any failed BLAST commands\n",
    "    if failed_blasts:\n",
    "        print(\"Failed BLAST Commands:\")\n",
    "        for query_species, target_species, error in failed_blasts:\n",
    "            print(f\"Query Species: {query_species}, Target Species: {target_species}, Error: {error}\")\n",
    "    else:\n",
    "        print(\"All BLAST commands completed successfully!\")\n",
    "\n",
    "# Run the function\n",
    "run_cross_species_blast(main_gene_folder, db_folder, output_folder, evalue, max_hits)\n"
   ]
  }
 ],
 "metadata": {
  "kernelspec": {
   "display_name": "P_env",
   "language": "python",
   "name": "python3"
  },
  "language_info": {
   "codemirror_mode": {
    "name": "ipython",
    "version": 3
   },
   "file_extension": ".py",
   "mimetype": "text/x-python",
   "name": "python",
   "nbconvert_exporter": "python",
   "pygments_lexer": "ipython3",
   "version": "3.10.15"
  }
 },
 "nbformat": 4,
 "nbformat_minor": 2
}
