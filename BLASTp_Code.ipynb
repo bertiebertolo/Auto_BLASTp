{
 "cells": [
  {
   "cell_type": "markdown",
   "metadata": {},
   "source": [
    "Verifying all libraries"
   ]
  },
  {
   "cell_type": "code",
   "execution_count": 1,
   "metadata": {},
   "outputs": [
    {
     "name": "stdout",
     "output_type": "stream",
     "text": [
      "BLAST is installed and available.\n",
      "All required libraries are installed, and BLAST is available.\n"
     ]
    }
   ],
   "source": [
    "# Check if all required libraries are installed\n",
    "required_libraries = [\"os\", \"time\", \"pandas\", \"subprocess\", \"Bio\"]\n",
    "missing_libraries = []\n",
    "\n",
    "for lib in required_libraries:\n",
    "    try:\n",
    "        __import__(lib)\n",
    "    except ImportError:\n",
    "        missing_libraries.append(lib)\n",
    "\n",
    "if missing_libraries:\n",
    "    print(\"The following required libraries are missing:\")\n",
    "    for lib in missing_libraries:\n",
    "        print(f\" - {lib}\")\n",
    "    print(\"\\nPlease install them using pip. Example:\")\n",
    "    print(\"pip install pandas biopython\")\n",
    "    exit()  # Exit the script if libraries are missing\n",
    "\n",
    "# Proceed with imports\n",
    "import os\n",
    "import time\n",
    "import pandas as pd\n",
    "import subprocess\n",
    "from Bio.Blast import NCBIWWW\n",
    "from Bio import Entrez\n",
    "\n",
    "# Verify BLAST is installed\n",
    "try:\n",
    "    subprocess.run([\"blastp\", \"-version\"], capture_output=True, text=True, check=True)\n",
    "    print(\"BLAST is installed and available.\")\n",
    "except FileNotFoundError:\n",
    "    print(\"BLAST is not installed or not available in the PATH. Please install it before proceeding.\")\n",
    "    exit()\n",
    "    \n",
    "# Initial message if everything is fine\n",
    "print(\"All required libraries are installed, and BLAST is available.\")\n"
   ]
  },
  {
   "cell_type": "markdown",
   "metadata": {},
   "source": [
    "Check if Protein names are valid"
   ]
  },
  {
   "cell_type": "code",
   "execution_count": 2,
   "metadata": {},
   "outputs": [
    {
     "name": "stdout",
     "output_type": "stream",
     "text": [
      "Missing protein sequence for: {'Gene name': 'Test1234545', 'Gene ID': 'testtestest', 'Category': 'test test. Test', 'Species': 'Drosophila melanogaster'}\n"
     ]
    }
   ],
   "source": [
    "from Bio import Entrez\n",
    "import pandas as pd\n",
    "\n",
    "# Load Excel file and extract gene names and species\n",
    "df_path = \"Dros_gene_names_full.xlsx\"\n",
    "df = pd.read_excel(df_path, sheet_name='Gene_names_ids', header=0)\n",
    "\n",
    "# Drop rows with any NaN values\n",
    "df = df.dropna()\n",
    "\n",
    "# Set email for NCBI\n",
    "Entrez.email = \"albertothornton@outlook.com\"\n",
    "\n",
    "# Function to print details for genes with no protein sequences found\n",
    "def print_missing_protein_sequences(df):\n",
    "    for index, row in df.iterrows():\n",
    "        gene_ID = row['Gene ID']\n",
    "        species = row['Species']  # Assume 'Species' is the column name for species information\n",
    "\n",
    "        try:\n",
    "            # Search for the protein related to the gene in the specified species\n",
    "            query = f\"{gene_ID}[Gene] AND {species}[Organism]\"\n",
    "            search_handle = Entrez.esearch(db=\"protein\", term=query)\n",
    "            search_record = Entrez.read(search_handle)\n",
    "            search_handle.close()\n",
    "\n",
    "            # Print gene-species pairs where no protein sequences are found\n",
    "            if not search_record[\"IdList\"]:\n",
    "                # Print the full row details for missing protein sequences\n",
    "                print(f\"Missing protein sequence for: {row.to_dict()}\")\n",
    "        except Exception as e:\n",
    "            print(f\"Error processing {gene_ID} in {species}: {str(e)}\")\n",
    "\n",
    "# Run the function to print missing proteins\n",
    "print_missing_protein_sequences(df)\n"
   ]
  },
  {
   "cell_type": "markdown",
   "metadata": {},
   "source": [
    "Load and Download all genes from NCBI library "
   ]
  },
  {
   "cell_type": "code",
   "execution_count": 6,
   "metadata": {},
   "outputs": [
    {
     "name": "stdout",
     "output_type": "stream",
     "text": [
      "No protein sequences found for testtestest in Drosophila melanogaster\n",
      "\u001b[H\u001b[2J\n",
      "Summary: Proteins Not Found\n",
      "Gene ID: testtestest, Species: Drosophila melanogaster\n",
      "All genes processed successfully!\n"
     ]
    }
   ],
   "source": [
    "import os  # For directories\n",
    "from Bio import Entrez  # For accessing the NCBI database\n",
    "import pandas as pd  # For handling the Excel file\n",
    "import time  # To add delays between requests\n",
    "\n",
    "# Load Excel file and extract gene names, species, and IDs\n",
    "df_path = \"Dros_gene_names_full.xlsx\"  # Update with the correct file name if needed\n",
    "sheet_name = 'Dros_gene_names_full'  # Specify the sheet name\n",
    "\n",
    "df = pd.read_excel(df_path, sheet_name=0)\n",
    "\n",
    "# Drop rows with any missing values\n",
    "df = df.dropna()\n",
    "\n",
    "# Set email for NCBI\n",
    "Entrez.email = \"albertothornton@outlook.com\"  # Please enter your email\n",
    "\n",
    "# Define output directories\n",
    "output_dir_grouped = \"Protein_FASTA_Files_grouped\"  # Grouped by gene and species\n",
    "output_dir_indiv = \"Protein_FASTA_Files_indiv\"  # Same files as grouped but stored individually\n",
    "os.makedirs(output_dir_grouped, exist_ok=True)\n",
    "os.makedirs(output_dir_indiv, exist_ok=True)\n",
    "\n",
    "# Function to clear the console (works for most environments)\n",
    "def clear_console():\n",
    "    os.system('cls' if os.name == 'nt' else 'clear')\n",
    "\n",
    "# Function to download and save protein sequences\n",
    "def download_and_save_sequences(df):\n",
    "    not_found_proteins = []  # List to track protein sequences that were not found\n",
    "\n",
    "    for gene_name, group in df.groupby('Gene name'):  # Group by gene name\n",
    "        # Replace spaces and special characters in gene names\n",
    "        safe_gene_name = gene_name.replace(\" \", \"_\").replace(\"/\", \"_\")\n",
    "\n",
    "        # Create the grouped folder for each gene\n",
    "        gene_grouped_dir = os.path.join(output_dir_grouped)\n",
    "        os.makedirs(gene_grouped_dir, exist_ok=True)\n",
    "\n",
    "        for species, species_group in group.groupby('Species'):  # Group by species within the gene\n",
    "            # Replace spaces and special characters in species names\n",
    "            safe_species_name = species.replace(\" \", \"_\").replace(\"/\", \"_\")\n",
    "\n",
    "            # Path for the grouped FASTA file (Species_Gene_combined.fasta)\n",
    "            grouped_fasta_filename = f\"{safe_species_name}_{safe_gene_name}_combined.fasta\"\n",
    "            grouped_fasta_path = os.path.join(gene_grouped_dir, grouped_fasta_filename)\n",
    "\n",
    "            # Path for the individual FASTA file (same as grouped, but in a separate folder)\n",
    "            indiv_fasta_path = os.path.join(output_dir_indiv, grouped_fasta_filename)\n",
    "\n",
    "            try:\n",
    "                with open(grouped_fasta_path, \"w\") as grouped_fasta_file, open(indiv_fasta_path, \"w\") as indiv_fasta_file:\n",
    "                    for index, row in species_group.iterrows():\n",
    "                        gene_id = row['Gene ID']  # Replace with the column name for Gene ID\n",
    "\n",
    "                        # Retry mechanism for NCBI requests\n",
    "                        retries = 3\n",
    "                        for attempt in range(retries):\n",
    "                            try:\n",
    "                                # Search for the protein related to the gene in the specified species\n",
    "                                search_term = f\"{gene_id}[Gene] AND {species}[Organism]\"\n",
    "                                search_handle = Entrez.esearch(db=\"protein\", term=search_term)\n",
    "                                search_record = Entrez.read(search_handle)\n",
    "                                search_handle.close()\n",
    "\n",
    "                                # Check if any protein sequences were found\n",
    "                                if search_record[\"IdList\"]:\n",
    "                                    for sequence_id in search_record[\"IdList\"]:\n",
    "                                        fetch_handle = Entrez.efetch(db=\"protein\", id=sequence_id, rettype=\"fasta\", retmode=\"text\")\n",
    "                                        sequence_data = fetch_handle.read()\n",
    "                                        fetch_handle.close()\n",
    "\n",
    "                                        # Write sequence data to both grouped and individual files\n",
    "                                        grouped_fasta_file.write(sequence_data)\n",
    "                                        indiv_fasta_file.write(sequence_data)\n",
    "                                    break  # Exit retry loop if successful\n",
    "                                else:\n",
    "                                    # Log not-found cases\n",
    "                                    not_found_proteins.append((gene_id, species))\n",
    "                                    print(f\"No protein sequences found for {gene_id} in {species}\")\n",
    "                                    break\n",
    "                            except Exception as e:\n",
    "                                if attempt < retries - 1:\n",
    "                                    print(f\"Retrying ({attempt + 1}/{retries}) for {gene_id} in {species}...\")\n",
    "                                    time.sleep(5)  # Wait 5 seconds before retrying\n",
    "                                else:\n",
    "                                    print(f\"Failed after {retries} attempts for {gene_id} in {species}\")\n",
    "                                    raise e  # Raise the exception after all retries fail\n",
    "            except Exception as e:\n",
    "                print(f\"Error retrieving data for {species} in gene {gene_name}: {e}\")\n",
    "\n",
    "    # Clear console before printing the summary\n",
    "    clear_console()\n",
    "\n",
    "    # Print summary of not found proteins\n",
    "    print(\"\\nSummary: Proteins Not Found\")\n",
    "    if not_found_proteins:\n",
    "        for gene_id, species in not_found_proteins:\n",
    "            print(f\"Gene ID: {gene_id}, Species: {species}\")\n",
    "    else:\n",
    "        print(\"All proteins were successfully retrieved!\")\n",
    "\n",
    "    print(\"All genes processed successfully!\")\n",
    "\n",
    "# Run the function\n",
    "download_and_save_sequences(df)\n"
   ]
  },
  {
   "cell_type": "markdown",
   "metadata": {},
   "source": [
    "Create a BLAST database"
   ]
  },
  {
   "cell_type": "code",
   "execution_count": 7,
   "metadata": {},
   "outputs": [
    {
     "name": "stdout",
     "output_type": "stream",
     "text": [
      "\n",
      "\n",
      "Building a new DB, current time: 11/22/2024 13:34:04\n",
      "New DB name:   /Users/albertothornton/Desktop/Kamikouchi lab/Code/Blast Code and data/blast_databases/sosie/Drosophila_melanogaster_combined\n",
      "New DB title:  Protein_FASTA_Files_grouped/sosie/Drosophila_melanogaster_combined.fasta\n",
      "Sequence type: Protein\n",
      "Keep MBits: T\n",
      "Maximum file size: 1000000000B\n",
      "Adding sequences from FASTA; added 14 sequences in 0.00576401 seconds.\n",
      "\n",
      "\n",
 
      "\n",
      "\n",
      "Building a new DB, current time: 11/22/2024 13:34:28\n",
      "New DB name:   /Users/albertothornton/Desktop/Kamikouchi lab/Code/Blast Code and data/blast_databases/ato_(atonal)/Drosophila_teissieri_combined\n",
      "New DB title:  Protein_FASTA_Files_grouped/ato_(atonal)/Drosophila_teissieri_combined.fasta\n",
      "Sequence type: Protein\n",
      "Keep MBits: T\n",
      "Maximum file size: 1000000000B\n",
      "Adding sequences from FASTA; added 1 sequences in 0.000546932 seconds.\n"
     ]
    },
    {
     "name": "stderr",
     "output_type": "stream",
     "text": [
      "BLAST options error: File Protein_FASTA_Files_grouped/Test1234545/Drosophila_melanogaster_combined.fasta is empty\n"
     ]
    },
    {
     "name": "stdout",
     "output_type": "stream",
     "text": [
      "\n",
      "\n",
      "Building a new DB, current time: 11/22/2024 13:34:28\n",
      "New DB name:   /Users/albertothornton/Desktop/Kamikouchi lab/Code/Blast Code and data/blast_databases/ato_(atonal)/Drosophila_yakuba_combined\n",
      "New DB title:  Protein_FASTA_Files_grouped/ato_(atonal)/Drosophila_yakuba_combined.fasta\n",
      "Sequence type: Protein\n",
      "Keep MBits: T\n",
      "Maximum file size: 1000000000B\n",
      "Adding sequences from FASTA; added 1 sequences in 0.000476122 seconds.\n",
      "\n",
      "\n",
      "Building a new DB, current time: 11/22/2024 13:34:28\n",
      "New DB name:   /Users/albertothornton/Desktop/Kamikouchi lab/Code/Blast Code and data/blast_databases/ato_(atonal)/Drosophila_ananassae_combined\n",
      "New DB title:  Protein_FASTA_Files_grouped/ato_(atonal)/Drosophila_ananassae_combined.fasta\n",
      "Sequence type: Protein\n",
      "Keep MBits: T\n",
      "Maximum file size: 1000000000B\n",
      "Adding sequences from FASTA; added 1 sequences in 0.000373125 seconds.\n",
      "\n",
      "\n",
      "Building a new DB, current time: 11/22/2024 13:34:28\n",
      "New DB name:   /Users/albertothornton/Desktop/Kamikouchi lab/Code/Blast Code and data/blast_databases/ato_(atonal)/Drosophila_erecta_combined\n",
      "New DB title:  Protein_FASTA_Files_grouped/ato_(atonal)/Drosophila_erecta_combined.fasta\n",
      "Sequence type: Protein\n",
      "Keep MBits: T\n",
      "Maximum file size: 1000000000B\n",
      "Adding sequences from FASTA; added 1 sequences in 0.000392914 seconds.\n",
      "\n",
      "\n",
      "Building a new DB, current time: 11/22/2024 13:34:28\n",
      "New DB name:   /Users/albertothornton/Desktop/Kamikouchi lab/Code/Blast Code and data/blast_databases/ato_(atonal)/Drosophila_simulans_combined\n",
      "New DB title:  Protein_FASTA_Files_grouped/ato_(atonal)/Drosophila_simulans_combined.fasta\n",
      "Sequence type: Protein\n",
      "Keep MBits: T\n",
      "Maximum file size: 1000000000B\n",
      "Adding sequences from FASTA; added 1 sequences in 0.000531197 seconds.\n",
      "\n",
      "\n",
      "Building a new DB, current time: 11/22/2024 13:34:28\n",
      "New DB name:   /Users/albertothornton/Desktop/Kamikouchi lab/Code/Blast Code and data/blast_databases/ato_(atonal)/Drosophila_mauritiana_combined\n",
      "New DB title:  Protein_FASTA_Files_grouped/ato_(atonal)/Drosophila_mauritiana_combined.fasta\n",
      "Sequence type: Protein\n",
      "Keep MBits: T\n",
      "Maximum file size: 1000000000B\n",
      "Adding sequences from FASTA; added 1 sequences in 0.000386 seconds.\n",
      "\n",
      "\n",
      "Building a new DB, current time: 11/22/2024 13:34:28\n",
      "New DB name:   /Users/albertothornton/Desktop/Kamikouchi lab/Code/Blast Code and data/blast_databases/tous_(testes_of_unsual_size)/Drosophila_melanogaster_combined\n",
      "New DB title:  Protein_FASTA_Files_grouped/tous_(testes_of_unsual_size)/Drosophila_melanogaster_combined.fasta\n",
      "Sequence type: Protein\n",
      "Keep MBits: T\n",
      "Maximum file size: 1000000000B\n",
      "Adding sequences from FASTA; added 2 sequences in 0.00178599 seconds.\n",
      "\n",
      "\n",
      "Building a new DB, current time: 11/22/2024 13:34:29\n",
      "New DB name:   /Users/albertothornton/Desktop/Kamikouchi lab/Code/Blast Code and data/blast_databases/tous_(testes_of_unsual_size)/Drosophila_teissieri_combined\n",
      "New DB title:  Protein_FASTA_Files_grouped/tous_(testes_of_unsual_size)/Drosophila_teissieri_combined.fasta\n",
      "Sequence type: Protein\n",
      "Keep MBits: T\n",
      "Maximum file size: 1000000000B\n",
      "Adding sequences from FASTA; added 1 sequences in 0.000440836 seconds.\n",
      "\n",
      "\n",
      "Building a new DB, current time: 11/22/2024 13:34:29\n",
      "New DB name:   /Users/albertothornton/Desktop/Kamikouchi lab/Code/Blast Code and data/blast_databases/tous_(testes_of_unsual_size)/Drosophila_yakuba_combined\n",
      "New DB title:  Protein_FASTA_Files_grouped/tous_(testes_of_unsual_size)/Drosophila_yakuba_combined.fasta\n",
      "Sequence type: Protein\n",
      "Keep MBits: T\n",
      "Maximum file size: 1000000000B\n",
      "Adding sequences from FASTA; added 1 sequences in 0.00041604 seconds.\n",
      "\n",
      "\n",
      "Building a new DB, current time: 11/22/2024 13:34:29\n",
      "New DB name:   /Users/albertothornton/Desktop/Kamikouchi lab/Code/Blast Code and data/blast_databases/tous_(testes_of_unsual_size)/Drosophila_ananassae_combined\n",
      "New DB title:  Protein_FASTA_Files_grouped/tous_(testes_of_unsual_size)/Drosophila_ananassae_combined.fasta\n",
      "Sequence type: Protein\n",
      "Keep MBits: T\n",
      "Maximum file size: 1000000000B\n",
      "Adding sequences from FASTA; added 1 sequences in 0.000478983 seconds.\n",
      "\n",
      "\n",
      "Building a new DB, current time: 11/22/2024 13:34:29\n",
      "New DB name:   /Users/albertothornton/Desktop/Kamikouchi lab/Code/Blast Code and data/blast_databases/tous_(testes_of_unsual_size)/Drosophila_erecta_combined\n",
      "New DB title:  Protein_FASTA_Files_grouped/tous_(testes_of_unsual_size)/Drosophila_erecta_combined.fasta\n",
      "Sequence type: Protein\n",
      "Keep MBits: T\n",
      "Maximum file size: 1000000000B\n",
      "Adding sequences from FASTA; added 1 sequences in 0.000388145 seconds.\n",
      "\n",
      "\n",
      "Building a new DB, current time: 11/22/2024 13:34:29\n",
      "New DB name:   /Users/albertothornton/Desktop/Kamikouchi lab/Code/Blast Code and data/blast_databases/tous_(testes_of_unsual_size)/Drosophila_simulans_combined\n",
      "New DB title:  Protein_FASTA_Files_grouped/tous_(testes_of_unsual_size)/Drosophila_simulans_combined.fasta\n",
      "Sequence type: Protein\n",
      "Keep MBits: T\n",
      "Maximum file size: 1000000000B\n",
      "Adding sequences from FASTA; added 1 sequences in 0.000843048 seconds.\n",
      "\n",
      "\n",
      "Building a new DB, current time: 11/22/2024 13:34:29\n",
      "New DB name:   /Users/albertothornton/Desktop/Kamikouchi lab/Code/Blast Code and data/blast_databases/tous_(testes_of_unsual_size)/Drosophila_mauritiana_combined\n",
      "New DB title:  Protein_FASTA_Files_grouped/tous_(testes_of_unsual_size)/Drosophila_mauritiana_combined.fasta\n",
      "Sequence type: Protein\n",
      "Keep MBits: T\n",
      "Maximum file size: 1000000000B\n",
      "Adding sequences from FASTA; added 1 sequences in 0.000687838 seconds.\n",
      "\n",
      "\n",
      "Building a new DB, current time: 11/22/2024 13:34:29\n",
      "New DB name:   /Users/albertothornton/Desktop/Kamikouchi lab/Code/Blast Code and data/blast_databases/Dnai2_(dynein,_axonemal,_intermediate_chain_2)/Drosophila_melanogaster_combined\n",
      "New DB title:  Protein_FASTA_Files_grouped/Dnai2_(dynein,_axonemal,_intermediate_chain_2)/Drosophila_melanogaster_combined.fasta\n",
      "Sequence type: Protein\n",
      "Keep MBits: T\n",
      "Maximum file size: 1000000000B\n",
      "Adding sequences from FASTA; added 4 sequences in 0.000994921 seconds.\n",
      "\n",
      "\n",
      "Building a new DB, current time: 11/22/2024 13:34:29\n",
      "New DB name:   /Users/albertothornton/Desktop/Kamikouchi lab/Code/Blast Code and data/blast_databases/Dnai2_(dynein,_axonemal,_intermediate_chain_2)/Drosophila_teissieri_combined\n",
      "New DB title:  Protein_FASTA_Files_grouped/Dnai2_(dynein,_axonemal,_intermediate_chain_2)/Drosophila_teissieri_combined.fasta\n",
      "Sequence type: Protein\n",
      "Keep MBits: T\n",
      "Maximum file size: 1000000000B\n",
      "Adding sequences from FASTA; added 2 sequences in 0.000931025 seconds.\n",
      "\n",
      "\n",
      "Building a new DB, current time: 11/22/2024 13:34:29\n",
      "New DB name:   /Users/albertothornton/Desktop/Kamikouchi lab/Code/Blast Code and data/blast_databases/Dnai2_(dynein,_axonemal,_intermediate_chain_2)/Drosophila_yakuba_combined\n",
      "New DB title:  Protein_FASTA_Files_grouped/Dnai2_(dynein,_axonemal,_intermediate_chain_2)/Drosophila_yakuba_combined.fasta\n",
      "Sequence type: Protein\n",
      "Keep MBits: T\n",
      "Maximum file size: 1000000000B\n",
      "Adding sequences from FASTA; added 2 sequences in 0.00127697 seconds.\n",
      "\n",
      "\n",
      "Building a new DB, current time: 11/22/2024 13:34:30\n",
      "New DB name:   /Users/albertothornton/Desktop/Kamikouchi lab/Code/Blast Code and data/blast_databases/Dnai2_(dynein,_axonemal,_intermediate_chain_2)/Drosophila_ananassae_combined\n",
      "New DB title:  Protein_FASTA_Files_grouped/Dnai2_(dynein,_axonemal,_intermediate_chain_2)/Drosophila_ananassae_combined.fasta\n",
      "Sequence type: Protein\n",
      "Keep MBits: T\n",
      "Maximum file size: 1000000000B\n",
      "Adding sequences from FASTA; added 2 sequences in 0.000907898 seconds.\n",
      "\n",
      "\n",
      "Building a new DB, current time: 11/22/2024 13:34:30\n",
      "New DB name:   /Users/albertothornton/Desktop/Kamikouchi lab/Code/Blast Code and data/blast_databases/Dnai2_(dynein,_axonemal,_intermediate_chain_2)/Drosophila_erecta_combined\n",
      "New DB title:  Protein_FASTA_Files_grouped/Dnai2_(dynein,_axonemal,_intermediate_chain_2)/Drosophila_erecta_combined.fasta\n",
      "Sequence type: Protein\n",
      "Keep MBits: T\n",
      "Maximum file size: 1000000000B\n",
      "Adding sequences from FASTA; added 2 sequences in 0.00089407 seconds.\n",
      "\n",
      "\n",
      "Building a new DB, current time: 11/22/2024 13:34:30\n",
      "New DB name:   /Users/albertothornton/Desktop/Kamikouchi lab/Code/Blast Code and data/blast_databases/Dnai2_(dynein,_axonemal,_intermediate_chain_2)/Drosophila_simulans_combined\n",
      "New DB title:  Protein_FASTA_Files_grouped/Dnai2_(dynein,_axonemal,_intermediate_chain_2)/Drosophila_simulans_combined.fasta\n",
      "Sequence type: Protein\n",
      "Keep MBits: T\n",
      "Maximum file size: 1000000000B\n",
      "Adding sequences from FASTA; added 2 sequences in 0.00137591 seconds.\n",
      "\n",
      "\n",
      "Building a new DB, current time: 11/22/2024 13:34:30\n",
      "New DB name:   /Users/albertothornton/Desktop/Kamikouchi lab/Code/Blast Code and data/blast_databases/Dnai2_(dynein,_axonemal,_intermediate_chain_2)/Drosophila_mauritiana_combined\n",
      "New DB title:  Protein_FASTA_Files_grouped/Dnai2_(dynein,_axonemal,_intermediate_chain_2)/Drosophila_mauritiana_combined.fasta\n",
      "Sequence type: Protein\n",
      "Keep MBits: T\n",
      "Maximum file size: 1000000000B\n",
      "Adding sequences from FASTA; added 2 sequences in 0.000914097 seconds.\n",
      "\n",
      "\n",
      "Building a new DB, current time: 11/22/2024 13:34:30\n",
      "New DB name:   /Users/albertothornton/Desktop/Kamikouchi lab/Code/Blast Code and data/blast_databases/eys_(eyes_shut)/Drosophila_melanogaster_combined\n",
      "New DB title:  Protein_FASTA_Files_grouped/eys_(eyes_shut)/Drosophila_melanogaster_combined.fasta\n",
      "Sequence type: Protein\n",
      "Keep MBits: T\n",
      "Maximum file size: 1000000000B\n",
      "Adding sequences from FASTA; added 6 sequences in 0.00215411 seconds.\n",
      "\n",
      "\n",
      "Building a new DB, current time: 11/22/2024 13:34:30\n",
      "New DB name:   /Users/albertothornton/Desktop/Kamikouchi lab/Code/Blast Code and data/blast_databases/eys_(eyes_shut)/Drosophila_teissieri_combined\n",
      "New DB title:  Protein_FASTA_Files_grouped/eys_(eyes_shut)/Drosophila_teissieri_combined.fasta\n",
      "Sequence type: Protein\n",
      "Keep MBits: T\n",
      "Maximum file size: 1000000000B\n",
      "Adding sequences from FASTA; added 1 sequences in 0.000612974 seconds.\n",
      "\n",
      "\n",
      "Building a new DB, current time: 11/22/2024 13:34:30\n",
      "New DB name:   /Users/albertothornton/Desktop/Kamikouchi lab/Code/Blast Code and data/blast_databases/eys_(eyes_shut)/Drosophila_yakuba_combined\n",
      "New DB title:  Protein_FASTA_Files_grouped/eys_(eyes_shut)/Drosophila_yakuba_combined.fasta\n",
      "Sequence type: Protein\n",
      "Keep MBits: T\n",
      "Maximum file size: 1000000000B\n",
      "Adding sequences from FASTA; added 1 sequences in 0.000411987 seconds.\n",
      "\n",
      "\n",
      "Building a new DB, current time: 11/22/2024 13:34:30\n",
      "New DB name:   /Users/albertothornton/Desktop/Kamikouchi lab/Code/Blast Code and data/blast_databases/eys_(eyes_shut)/Drosophila_ananassae_combined\n",
      "New DB title:  Protein_FASTA_Files_grouped/eys_(eyes_shut)/Drosophila_ananassae_combined.fasta\n",
      "Sequence type: Protein\n",
      "Keep MBits: T\n",
      "Maximum file size: 1000000000B\n",
      "Adding sequences from FASTA; added 1 sequences in 0.000524998 seconds.\n",
      "\n",
      "\n",
      "Building a new DB, current time: 11/22/2024 13:34:30\n",
      "New DB name:   /Users/albertothornton/Desktop/Kamikouchi lab/Code/Blast Code and data/blast_databases/eys_(eyes_shut)/Drosophila_erecta_combined\n",
      "New DB title:  Protein_FASTA_Files_grouped/eys_(eyes_shut)/Drosophila_erecta_combined.fasta\n",
      "Sequence type: Protein\n",
      "Keep MBits: T\n",
      "Maximum file size: 1000000000B\n",
      "Adding sequences from FASTA; added 1 sequences in 0.000545025 seconds.\n",
      "\n",
      "\n",
      "Building a new DB, current time: 11/22/2024 13:34:31\n",
      "New DB name:   /Users/albertothornton/Desktop/Kamikouchi lab/Code/Blast Code and data/blast_databases/eys_(eyes_shut)/Drosophila_simulans_combined\n",
      "New DB title:  Protein_FASTA_Files_grouped/eys_(eyes_shut)/Drosophila_simulans_combined.fasta\n",
      "Sequence type: Protein\n",
      "Keep MBits: T\n",
      "Maximum file size: 1000000000B\n",
      "Adding sequences from FASTA; added 1 sequences in 0.000405073 seconds.\n",
      "\n",
      "\n",
      "Building a new DB, current time: 11/22/2024 13:34:31\n",
      "New DB name:   /Users/albertothornton/Desktop/Kamikouchi lab/Code/Blast Code and data/blast_databases/eys_(eyes_shut)/Drosophila_mauritiana_combined\n",
      "New DB title:  Protein_FASTA_Files_grouped/eys_(eyes_shut)/Drosophila_mauritiana_combined.fasta\n",
      "Sequence type: Protein\n",
      "Keep MBits: T\n",
      "Maximum file size: 1000000000B\n",
      "Adding sequences from FASTA; added 1 sequences in 0.000416994 seconds.\n",
      "\n",
      "\n",
      "Building a new DB, current time: 11/22/2024 13:34:31\n",
      "New DB name:   /Users/albertothornton/Desktop/Kamikouchi lab/Code/Blast Code and data/blast_databases/Dhc93AB_(Dynein_heavy_chain_at_93AB)/Drosophila_melanogaster_combined\n",
      "New DB title:  Protein_FASTA_Files_grouped/Dhc93AB_(Dynein_heavy_chain_at_93AB)/Drosophila_melanogaster_combined.fasta\n",
      "Sequence type: Protein\n",
      "Keep MBits: T\n",
      "Maximum file size: 1000000000B\n",
      "Adding sequences from FASTA; added 4 sequences in 0.00206089 seconds.\n",
      "\n",
      "\n",
      "Building a new DB, current time: 11/22/2024 13:34:31\n",
      "New DB name:   /Users/albertothornton/Desktop/Kamikouchi lab/Code/Blast Code and data/blast_databases/Dhc93AB_(Dynein_heavy_chain_at_93AB)/Drosophila_teissieri_combined\n",
      "New DB title:  Protein_FASTA_Files_grouped/Dhc93AB_(Dynein_heavy_chain_at_93AB)/Drosophila_teissieri_combined.fasta\n",
      "Sequence type: Protein\n",
      "Keep MBits: T\n",
      "Maximum file size: 1000000000B\n",
      "Adding sequences from FASTA; added 2 sequences in 0.00111508 seconds.\n",
      "\n",
      "\n",
      "Building a new DB, current time: 11/22/2024 13:34:31\n",
      "New DB name:   /Users/albertothornton/Desktop/Kamikouchi lab/Code/Blast Code and data/blast_databases/Dhc93AB_(Dynein_heavy_chain_at_93AB)/Drosophila_yakuba_combined\n",
      "New DB title:  Protein_FASTA_Files_grouped/Dhc93AB_(Dynein_heavy_chain_at_93AB)/Drosophila_yakuba_combined.fasta\n",
      "Sequence type: Protein\n",
      "Keep MBits: T\n",
      "Maximum file size: 1000000000B\n",
      "Adding sequences from FASTA; added 2 sequences in 0.00109601 seconds.\n",
      "\n",
      "\n",
      "Building a new DB, current time: 11/22/2024 13:34:31\n",
      "New DB name:   /Users/albertothornton/Desktop/Kamikouchi lab/Code/Blast Code and data/blast_databases/Dhc93AB_(Dynein_heavy_chain_at_93AB)/Drosophila_ananassae_combined\n",
      "New DB title:  Protein_FASTA_Files_grouped/Dhc93AB_(Dynein_heavy_chain_at_93AB)/Drosophila_ananassae_combined.fasta\n",
      "Sequence type: Protein\n",
      "Keep MBits: T\n",
      "Maximum file size: 1000000000B\n",
      "Adding sequences from FASTA; added 1 sequences in 0.000575066 seconds.\n",
      "\n",
      "\n",
      "Building a new DB, current time: 11/22/2024 13:34:31\n",
      "New DB name:   /Users/albertothornton/Desktop/Kamikouchi lab/Code/Blast Code and data/blast_databases/Dhc93AB_(Dynein_heavy_chain_at_93AB)/Drosophila_erecta_combined\n",
      "New DB title:  Protein_FASTA_Files_grouped/Dhc93AB_(Dynein_heavy_chain_at_93AB)/Drosophila_erecta_combined.fasta\n",
      "Sequence type: Protein\n",
      "Keep MBits: T\n",
      "Maximum file size: 1000000000B\n",
      "Adding sequences from FASTA; added 2 sequences in 0.00111818 seconds.\n",
      "\n",
      "\n",
      "Building a new DB, current time: 11/22/2024 13:34:31\n",
      "New DB name:   /Users/albertothornton/Desktop/Kamikouchi lab/Code/Blast Code and data/blast_databases/Dhc93AB_(Dynein_heavy_chain_at_93AB)/Drosophila_simulans_combined\n",
      "New DB title:  Protein_FASTA_Files_grouped/Dhc93AB_(Dynein_heavy_chain_at_93AB)/Drosophila_simulans_combined.fasta\n",
      "Sequence type: Protein\n",
      "Keep MBits: T\n",
      "Maximum file size: 1000000000B\n",
      "Adding sequences from FASTA; added 2 sequences in 0.00112391 seconds.\n",
      "\n",
      "\n",
      "Building a new DB, current time: 11/22/2024 13:34:31\n",
      "New DB name:   /Users/albertothornton/Desktop/Kamikouchi lab/Code/Blast Code and data/blast_databases/Dhc93AB_(Dynein_heavy_chain_at_93AB)/Drosophila_mauritiana_combined\n",
      "New DB title:  Protein_FASTA_Files_grouped/Dhc93AB_(Dynein_heavy_chain_at_93AB)/Drosophila_mauritiana_combined.fasta\n",
      "Sequence type: Protein\n",
      "Keep MBits: T\n",
      "Maximum file size: 1000000000B\n",
      "Adding sequences from FASTA; added 2 sequences in 0.00112104 seconds.\n",
      "\n",
      "\n",
      "Building a new DB, current time: 11/22/2024 13:34:31\n",
      "New DB name:   /Users/albertothornton/Desktop/Kamikouchi lab/Code/Blast Code and data/blast_databases/gl_(glass)_/Drosophila_melanogaster_combined\n",
      "New DB title:  Protein_FASTA_Files_grouped/gl_(glass)_/Drosophila_melanogaster_combined.fasta\n",
      "Sequence type: Protein\n",
      "Keep MBits: T\n",
      "Maximum file size: 1000000000B\n",
      "Adding sequences from FASTA; added 20 sequences in 0.00190711 seconds.\n",
      "\n",
      "\n",
      "Building a new DB, current time: 11/22/2024 13:34:32\n",
      "New DB name:   /Users/albertothornton/Desktop/Kamikouchi lab/Code/Blast Code and data/blast_databases/gl_(glass)_/Drosophila_teissieri_combined\n",
      "New DB title:  Protein_FASTA_Files_grouped/gl_(glass)_/Drosophila_teissieri_combined.fasta\n",
      "Sequence type: Protein\n",
      "Keep MBits: T\n",
      "Maximum file size: 1000000000B\n",
      "Adding sequences from FASTA; added 1 sequences in 0.00039196 seconds.\n",
      "\n",
      "\n",
      "Building a new DB, current time: 11/22/2024 13:34:32\n",
      "New DB name:   /Users/albertothornton/Desktop/Kamikouchi lab/Code/Blast Code and data/blast_databases/gl_(glass)_/Drosophila_yakuba_combined\n",
      "New DB title:  Protein_FASTA_Files_grouped/gl_(glass)_/Drosophila_yakuba_combined.fasta\n",
      "Sequence type: Protein\n",
      "Keep MBits: T\n",
      "Maximum file size: 1000000000B\n",
      "Adding sequences from FASTA; added 2 sequences in 0.000910997 seconds.\n",
      "\n",
      "\n",
      "Building a new DB, current time: 11/22/2024 13:34:32\n",
      "New DB name:   /Users/albertothornton/Desktop/Kamikouchi lab/Code/Blast Code and data/blast_databases/gl_(glass)_/Drosophila_ananassae_combined\n",
      "New DB title:  Protein_FASTA_Files_grouped/gl_(glass)_/Drosophila_ananassae_combined.fasta\n",
      "Sequence type: Protein\n",
      "Keep MBits: T\n",
      "Maximum file size: 1000000000B\n",
      "Adding sequences from FASTA; added 1 sequences in 0.000503063 seconds.\n",
      "\n",
      "\n",
      "Building a new DB, current time: 11/22/2024 13:34:32\n",
      "New DB name:   /Users/albertothornton/Desktop/Kamikouchi lab/Code/Blast Code and data/blast_databases/gl_(glass)_/Drosophila_erecta_combined\n",
      "New DB title:  Protein_FASTA_Files_grouped/gl_(glass)_/Drosophila_erecta_combined.fasta\n",
      "Sequence type: Protein\n",
      "Keep MBits: T\n",
      "Maximum file size: 1000000000B\n",
      "Adding sequences from FASTA; added 1 sequences in 0.000401974 seconds.\n",
      "\n",
      "\n",
      "Building a new DB, current time: 11/22/2024 13:34:32\n",
      "New DB name:   /Users/albertothornton/Desktop/Kamikouchi lab/Code/Blast Code and data/blast_databases/gl_(glass)_/Drosophila_simulans_combined\n",
      "New DB title:  Protein_FASTA_Files_grouped/gl_(glass)_/Drosophila_simulans_combined.fasta\n",
      "Sequence type: Protein\n",
      "Keep MBits: T\n",
      "Maximum file size: 1000000000B\n",
      "Adding sequences from FASTA; added 1 sequences in 0.000379086 seconds.\n",
      "\n",
      "\n",
      "Building a new DB, current time: 11/22/2024 13:34:32\n",
      "New DB name:   /Users/albertothornton/Desktop/Kamikouchi lab/Code/Blast Code and data/blast_databases/gl_(glass)_/Drosophila_mauritiana_combined\n",
      "New DB title:  Protein_FASTA_Files_grouped/gl_(glass)_/Drosophila_mauritiana_combined.fasta\n",
      "Sequence type: Protein\n",
      "Keep MBits: T\n",
      "Maximum file size: 1000000000B\n",
      "Adding sequences from FASTA; added 1 sequences in 0.000422001 seconds.\n",
      "\n",
      "\n",
      "Building a new DB, current time: 11/22/2024 13:34:32\n",
      "New DB name:   /Users/albertothornton/Desktop/Kamikouchi lab/Code/Blast Code and data/blast_databases/rdgA_(retinal_degeneration_A)/Drosophila_melanogaster_combined\n",
      "New DB title:  Protein_FASTA_Files_grouped/rdgA_(retinal_degeneration_A)/Drosophila_melanogaster_combined.fasta\n",
      "Sequence type: Protein\n",
      "Keep MBits: T\n",
      "Maximum file size: 1000000000B\n",
      "Adding sequences from FASTA; added 20 sequences in 0.00613308 seconds.\n",
      "\n",
      "\n",
      "Building a new DB, current time: 11/22/2024 13:34:32\n",
      "New DB name:   /Users/albertothornton/Desktop/Kamikouchi lab/Code/Blast Code and data/blast_databases/rdgA_(retinal_degeneration_A)/Drosophila_teissieri_combined\n",
      "New DB title:  Protein_FASTA_Files_grouped/rdgA_(retinal_degeneration_A)/Drosophila_teissieri_combined.fasta\n",
      "Sequence type: Protein\n",
      "Keep MBits: T\n",
      "Maximum file size: 1000000000B\n",
      "Adding sequences from FASTA; added 13 sequences in 0.00158405 seconds.\n",
      "\n",
      "\n",
      "Building a new DB, current time: 11/22/2024 13:34:32\n",
      "New DB name:   /Users/albertothornton/Desktop/Kamikouchi lab/Code/Blast Code and data/blast_databases/rdgA_(retinal_degeneration_A)/Drosophila_yakuba_combined\n",
      "New DB title:  Protein_FASTA_Files_grouped/rdgA_(retinal_degeneration_A)/Drosophila_yakuba_combined.fasta\n",
      "Sequence type: Protein\n",
      "Keep MBits: T\n",
      "Maximum file size: 1000000000B\n",
      "Adding sequences from FASTA; added 14 sequences in 0.00163102 seconds.\n",
      "\n",
      "\n",
      "Building a new DB, current time: 11/22/2024 13:34:32\n",
      "New DB name:   /Users/albertothornton/Desktop/Kamikouchi lab/Code/Blast Code and data/blast_databases/rdgA_(retinal_degeneration_A)/Drosophila_ananassae_combined\n",
      "New DB title:  Protein_FASTA_Files_grouped/rdgA_(retinal_degeneration_A)/Drosophila_ananassae_combined.fasta\n",
      "Sequence type: Protein\n",
      "Keep MBits: T\n",
      "Maximum file size: 1000000000B\n",
      "Adding sequences from FASTA; added 19 sequences in 0.00191689 seconds.\n",
      "\n",
      "\n",
      "Building a new DB, current time: 11/22/2024 13:34:33\n",
      "New DB name:   /Users/albertothornton/Desktop/Kamikouchi lab/Code/Blast Code and data/blast_databases/rdgA_(retinal_degeneration_A)/Drosophila_erecta_combined\n",
      "New DB title:  Protein_FASTA_Files_grouped/rdgA_(retinal_degeneration_A)/Drosophila_erecta_combined.fasta\n",
      "Sequence type: Protein\n",
      "Keep MBits: T\n",
      "Maximum file size: 1000000000B\n",
      "Adding sequences from FASTA; added 18 sequences in 0.00190902 seconds.\n",
      "\n",
      "\n",
      "Building a new DB, current time: 11/22/2024 13:34:33\n",
      "New DB name:   /Users/albertothornton/Desktop/Kamikouchi lab/Code/Blast Code and data/blast_databases/rdgA_(retinal_degeneration_A)/Drosophila_simulans_combined\n",
      "New DB title:  Protein_FASTA_Files_grouped/rdgA_(retinal_degeneration_A)/Drosophila_simulans_combined.fasta\n",
      "Sequence type: Protein\n",
      "Keep MBits: T\n",
      "Maximum file size: 1000000000B\n",
      "Adding sequences from FASTA; added 18 sequences in 0.00185895 seconds.\n",
      "\n",
      "\n",
      "Building a new DB, current time: 11/22/2024 13:34:33\n",
      "New DB name:   /Users/albertothornton/Desktop/Kamikouchi lab/Code/Blast Code and data/blast_databases/rdgA_(retinal_degeneration_A)/Drosophila_mauritiana_combined\n",
      "New DB title:  Protein_FASTA_Files_grouped/rdgA_(retinal_degeneration_A)/Drosophila_mauritiana_combined.fasta\n",
      "Sequence type: Protein\n",
      "Keep MBits: T\n",
      "Maximum file size: 1000000000B\n",
      "Adding sequences from FASTA; added 20 sequences in 0.00196004 seconds.\n",
      "\n",
      "\n",
      "Building a new DB, current time: 11/22/2024 13:34:33\n",
      "New DB name:   /Users/albertothornton/Desktop/Kamikouchi lab/Code/Blast Code and data/blast_databases/Arr2_(Arrestin_2)/Drosophila_melanogaster_combined\n",
      "New DB title:  Protein_FASTA_Files_grouped/Arr2_(Arrestin_2)/Drosophila_melanogaster_combined.fasta\n",
      "Sequence type: Protein\n",
      "Keep MBits: T\n",
      "Maximum file size: 1000000000B\n",
      "Adding sequences from FASTA; added 5 sequences in 0.00141001 seconds.\n",
      "\n",
      "\n",
      "Building a new DB, current time: 11/22/2024 13:34:33\n",
      "New DB name:   /Users/albertothornton/Desktop/Kamikouchi lab/Code/Blast Code and data/blast_databases/Arr2_(Arrestin_2)/Drosophila_teissieri_combined\n",
      "New DB title:  Protein_FASTA_Files_grouped/Arr2_(Arrestin_2)/Drosophila_teissieri_combined.fasta\n",
      "Sequence type: Protein\n",
      "Keep MBits: T\n",
      "Maximum file size: 1000000000B\n",
      "Adding sequences from FASTA; added 1 sequences in 0.000442028 seconds.\n",
      "\n",
      "\n",
      "Building a new DB, current time: 11/22/2024 13:34:33\n",
      "New DB name:   /Users/albertothornton/Desktop/Kamikouchi lab/Code/Blast Code and data/blast_databases/Arr2_(Arrestin_2)/Drosophila_yakuba_combined\n",
      "New DB title:  Protein_FASTA_Files_grouped/Arr2_(Arrestin_2)/Drosophila_yakuba_combined.fasta\n",
      "Sequence type: Protein\n",
      "Keep MBits: T\n",
      "Maximum file size: 1000000000B\n",
      "Adding sequences from FASTA; added 1 sequences in 0.000379086 seconds.\n",
      "\n",
      "\n",
      "Building a new DB, current time: 11/22/2024 13:34:33\n",
      "New DB name:   /Users/albertothornton/Desktop/Kamikouchi lab/Code/Blast Code and data/blast_databases/Arr2_(Arrestin_2)/Drosophila_ananassae_combined\n",
      "New DB title:  Protein_FASTA_Files_grouped/Arr2_(Arrestin_2)/Drosophila_ananassae_combined.fasta\n",
      "Sequence type: Protein\n",
      "Keep MBits: T\n",
      "Maximum file size: 1000000000B\n",
      "Adding sequences from FASTA; added 1 sequences in 0.000383854 seconds.\n",
      "\n",
      "\n",
      "Building a new DB, current time: 11/22/2024 13:34:33\n",
      "New DB name:   /Users/albertothornton/Desktop/Kamikouchi lab/Code/Blast Code and data/blast_databases/Arr2_(Arrestin_2)/Drosophila_erecta_combined\n",
      "New DB title:  Protein_FASTA_Files_grouped/Arr2_(Arrestin_2)/Drosophila_erecta_combined.fasta\n",
      "Sequence type: Protein\n",
      "Keep MBits: T\n",
      "Maximum file size: 1000000000B\n",
      "Adding sequences from FASTA; added 1 sequences in 0.000418901 seconds.\n",
      "\n",
      "\n",
      "Building a new DB, current time: 11/22/2024 13:34:33\n",
      "New DB name:   /Users/albertothornton/Desktop/Kamikouchi lab/Code/Blast Code and data/blast_databases/Arr2_(Arrestin_2)/Drosophila_simulans_combined\n",
      "New DB title:  Protein_FASTA_Files_grouped/Arr2_(Arrestin_2)/Drosophila_simulans_combined.fasta\n",
      "Sequence type: Protein\n",
      "Keep MBits: T\n",
      "Maximum file size: 1000000000B\n",
      "Adding sequences from FASTA; added 1 sequences in 0.000392914 seconds.\n",
      "\n",
      "\n",
      "Building a new DB, current time: 11/22/2024 13:34:33\n",
      "New DB name:   /Users/albertothornton/Desktop/Kamikouchi lab/Code/Blast Code and data/blast_databases/Arr2_(Arrestin_2)/Drosophila_mauritiana_combined\n",
      "New DB title:  Protein_FASTA_Files_grouped/Arr2_(Arrestin_2)/Drosophila_mauritiana_combined.fasta\n",
      "Sequence type: Protein\n",
      "Keep MBits: T\n",
      "Maximum file size: 1000000000B\n",
      "Adding sequences from FASTA; added 1 sequences in 0.000513077 seconds.\n",
      "\n",
      "\n",
      "Building a new DB, current time: 11/22/2024 13:34:33\n",
      "New DB name:   /Users/albertothornton/Desktop/Kamikouchi lab/Code/Blast Code and data/blast_databases/Klp64D_(Kinesin-like_protein_at_64D)/Drosophila_melanogaster_combined\n",
      "New DB title:  Protein_FASTA_Files_grouped/Klp64D_(Kinesin-like_protein_at_64D)/Drosophila_melanogaster_combined.fasta\n",
      "Sequence type: Protein\n",
      "Keep MBits: T\n",
      "Maximum file size: 1000000000B\n",
      "Adding sequences from FASTA; added 2 sequences in 0.00123405 seconds.\n",
      "\n",
      "\n",
      "Building a new DB, current time: 11/22/2024 13:34:34\n",
      "New DB name:   /Users/albertothornton/Desktop/Kamikouchi lab/Code/Blast Code and data/blast_databases/Klp64D_(Kinesin-like_protein_at_64D)/Drosophila_teissieri_combined\n",
      "New DB title:  Protein_FASTA_Files_grouped/Klp64D_(Kinesin-like_protein_at_64D)/Drosophila_teissieri_combined.fasta\n",
      "Sequence type: Protein\n",
      "Keep MBits: T\n",
      "Maximum file size: 1000000000B\n",
      "Adding sequences from FASTA; added 1 sequences in 0.000381947 seconds.\n",
      "\n",
      "\n",
      "Building a new DB, current time: 11/22/2024 13:34:34\n",
      "New DB name:   /Users/albertothornton/Desktop/Kamikouchi lab/Code/Blast Code and data/blast_databases/Klp64D_(Kinesin-like_protein_at_64D)/Drosophila_yakuba_combined\n",
      "New DB title:  Protein_FASTA_Files_grouped/Klp64D_(Kinesin-like_protein_at_64D)/Drosophila_yakuba_combined.fasta\n",
      "Sequence type: Protein\n",
      "Keep MBits: T\n",
      "Maximum file size: 1000000000B\n",
      "Adding sequences from FASTA; added 1 sequences in 0.000393867 seconds.\n",
      "\n",
      "\n",
      "Building a new DB, current time: 11/22/2024 13:34:34\n",
      "New DB name:   /Users/albertothornton/Desktop/Kamikouchi lab/Code/Blast Code and data/blast_databases/Klp64D_(Kinesin-like_protein_at_64D)/Drosophila_ananassae_combined\n",
      "New DB title:  Protein_FASTA_Files_grouped/Klp64D_(Kinesin-like_protein_at_64D)/Drosophila_ananassae_combined.fasta\n",
      "Sequence type: Protein\n",
      "Keep MBits: T\n",
      "Maximum file size: 1000000000B\n",
      "Adding sequences from FASTA; added 1 sequences in 0.000409126 seconds.\n",
      "\n",
      "\n",
      "Building a new DB, current time: 11/22/2024 13:34:34\n",
      "New DB name:   /Users/albertothornton/Desktop/Kamikouchi lab/Code/Blast Code and data/blast_databases/Klp64D_(Kinesin-like_protein_at_64D)/Drosophila_erecta_combined\n",
      "New DB title:  Protein_FASTA_Files_grouped/Klp64D_(Kinesin-like_protein_at_64D)/Drosophila_erecta_combined.fasta\n",
      "Sequence type: Protein\n",
      "Keep MBits: T\n",
      "Maximum file size: 1000000000B\n",
      "Adding sequences from FASTA; added 1 sequences in 0.000448227 seconds.\n",
      "\n",
      "\n",
      "Building a new DB, current time: 11/22/2024 13:34:34\n",
      "New DB name:   /Users/albertothornton/Desktop/Kamikouchi lab/Code/Blast Code and data/blast_databases/Klp64D_(Kinesin-like_protein_at_64D)/Drosophila_simulans_combined\n",
      "New DB title:  Protein_FASTA_Files_grouped/Klp64D_(Kinesin-like_protein_at_64D)/Drosophila_simulans_combined.fasta\n",
      "Sequence type: Protein\n",
      "Keep MBits: T\n",
      "Maximum file size: 1000000000B\n",
      "Adding sequences from FASTA; added 1 sequences in 0.000386953 seconds.\n",
      "\n",
      "\n",
      "Building a new DB, current time: 11/22/2024 13:34:34\n",
      "New DB name:   /Users/albertothornton/Desktop/Kamikouchi lab/Code/Blast Code and data/blast_databases/Klp64D_(Kinesin-like_protein_at_64D)/Drosophila_mauritiana_combined\n",
      "New DB title:  Protein_FASTA_Files_grouped/Klp64D_(Kinesin-like_protein_at_64D)/Drosophila_mauritiana_combined.fasta\n",
      "Sequence type: Protein\n",
      "Keep MBits: T\n",
      "Maximum file size: 1000000000B\n",
      "Adding sequences from FASTA; added 1 sequences in 0.000519037 seconds.\n",
      "\n",
      "\n",
      "Building a new DB, current time: 11/22/2024 13:34:34\n",
      "New DB name:   /Users/albertothornton/Desktop/Kamikouchi lab/Code/Blast Code and data/blast_databases/btv_(beethoven)/Drosophila_melanogaster_combined\n",
      "New DB title:  Protein_FASTA_Files_grouped/btv_(beethoven)/Drosophila_melanogaster_combined.fasta\n",
      "Sequence type: Protein\n",
      "Keep MBits: T\n",
      "Maximum file size: 1000000000B\n",
      "Adding sequences from FASTA; added 2 sequences in 0.00200319 seconds.\n",
      "\n",
      "\n",
      "Building a new DB, current time: 11/22/2024 13:34:34\n",
      "New DB name:   /Users/albertothornton/Desktop/Kamikouchi lab/Code/Blast Code and data/blast_databases/btv_(beethoven)/Drosophila_teissieri_combined\n",
      "New DB title:  Protein_FASTA_Files_grouped/btv_(beethoven)/Drosophila_teissieri_combined.fasta\n",
      "Sequence type: Protein\n",
      "Keep MBits: T\n",
      "Maximum file size: 1000000000B\n",
      "Adding sequences from FASTA; added 1 sequences in 0.000449896 seconds.\n",
      "\n",
      "\n",
      "Building a new DB, current time: 11/22/2024 13:34:34\n",
      "New DB name:   /Users/albertothornton/Desktop/Kamikouchi lab/Code/Blast Code and data/blast_databases/btv_(beethoven)/Drosophila_yakuba_combined\n",
      "New DB title:  Protein_FASTA_Files_grouped/btv_(beethoven)/Drosophila_yakuba_combined.fasta\n",
      "Sequence type: Protein\n",
      "Keep MBits: T\n",
      "Maximum file size: 1000000000B\n",
      "Adding sequences from FASTA; added 1 sequences in 0.000459909 seconds.\n",
      "\n",
      "\n",
      "Building a new DB, current time: 11/22/2024 13:34:34\n",
      "New DB name:   /Users/albertothornton/Desktop/Kamikouchi lab/Code/Blast Code and data/blast_databases/btv_(beethoven)/Drosophila_ananassae_combined\n",
      "New DB title:  Protein_FASTA_Files_grouped/btv_(beethoven)/Drosophila_ananassae_combined.fasta\n",
      "Sequence type: Protein\n",
      "Keep MBits: T\n",
      "Maximum file size: 1000000000B\n",
      "Adding sequences from FASTA; added 1 sequences in 0.000444889 seconds.\n",
      "\n",
      "\n",
      "Building a new DB, current time: 11/22/2024 13:34:35\n",
      "New DB name:   /Users/albertothornton/Desktop/Kamikouchi lab/Code/Blast Code and data/blast_databases/btv_(beethoven)/Drosophila_erecta_combined\n",
      "New DB title:  Protein_FASTA_Files_grouped/btv_(beethoven)/Drosophila_erecta_combined.fasta\n",
      "Sequence type: Protein\n",
      "Keep MBits: T\n",
      "Maximum file size: 1000000000B\n",
      "Adding sequences from FASTA; added 1 sequences in 0.000486851 seconds.\n",
      "\n",
      "\n",
      "Building a new DB, current time: 11/22/2024 13:34:35\n",
      "New DB name:   /Users/albertothornton/Desktop/Kamikouchi lab/Code/Blast Code and data/blast_databases/btv_(beethoven)/Drosophila_simulans_combined\n",
      "New DB title:  Protein_FASTA_Files_grouped/btv_(beethoven)/Drosophila_simulans_combined.fasta\n",
      "Sequence type: Protein\n",
      "Keep MBits: T\n",
      "Maximum file size: 1000000000B\n",
      "Adding sequences from FASTA; added 1 sequences in 0.000452042 seconds.\n",
      "\n",
      "\n",
      "Building a new DB, current time: 11/22/2024 13:34:35\n",
      "New DB name:   /Users/albertothornton/Desktop/Kamikouchi lab/Code/Blast Code and data/blast_databases/btv_(beethoven)/Drosophila_mauritiana_combined\n",
      "New DB title:  Protein_FASTA_Files_grouped/btv_(beethoven)/Drosophila_mauritiana_combined.fasta\n",
      "Sequence type: Protein\n",
      "Keep MBits: T\n",
      "Maximum file size: 1000000000B\n",
      "Adding sequences from FASTA; added 1 sequences in 0.000452042 seconds.\n",
      "\n",
      "\n",
      "Building a new DB, current time: 11/22/2024 13:34:35\n",
      "New DB name:   /Users/albertothornton/Desktop/Kamikouchi lab/Code/Blast Code and data/blast_databases/trpl_(transient_receptor_potential-like)/Drosophila_melanogaster_combined\n",
      "New DB title:  Protein_FASTA_Files_grouped/trpl_(transient_receptor_potential-like)/Drosophila_melanogaster_combined.fasta\n",
      "Sequence type: Protein\n",
      "Keep MBits: T\n",
      "Maximum file size: 1000000000B\n",
      "Adding sequences from FASTA; added 20 sequences in 0.0024519 seconds.\n",
      "\n",
      "\n",
      "Building a new DB, current time: 11/22/2024 13:34:35\n",
      "New DB name:   /Users/albertothornton/Desktop/Kamikouchi lab/Code/Blast Code and data/blast_databases/trpl_(transient_receptor_potential-like)/Drosophila_teissieri_combined\n",
      "New DB title:  Protein_FASTA_Files_grouped/trpl_(transient_receptor_potential-like)/Drosophila_teissieri_combined.fasta\n",
      "Sequence type: Protein\n",
      "Keep MBits: T\n",
      "Maximum file size: 1000000000B\n",
      "Adding sequences from FASTA; added 1 sequences in 0.000522852 seconds.\n",
      "\n",
      "\n",
      "Building a new DB, current time: 11/22/2024 13:34:35\n",
      "New DB name:   /Users/albertothornton/Desktop/Kamikouchi lab/Code/Blast Code and data/blast_databases/trpl_(transient_receptor_potential-like)/Drosophila_yakuba_combined\n",
      "New DB title:  Protein_FASTA_Files_grouped/trpl_(transient_receptor_potential-like)/Drosophila_yakuba_combined.fasta\n",
      "Sequence type: Protein\n",
      "Keep MBits: T\n",
      "Maximum file size: 1000000000B\n",
      "Adding sequences from FASTA; added 4 sequences in 0.0011189 seconds.\n",
      "\n",
      "\n",
      "Building a new DB, current time: 11/22/2024 13:34:35\n",
      "New DB name:   /Users/albertothornton/Desktop/Kamikouchi lab/Code/Blast Code and data/blast_databases/trpl_(transient_receptor_potential-like)/Drosophila_ananassae_combined\n",
      "New DB title:  Protein_FASTA_Files_grouped/trpl_(transient_receptor_potential-like)/Drosophila_ananassae_combined.fasta\n",
      "Sequence type: Protein\n",
      "Keep MBits: T\n",
      "Maximum file size: 1000000000B\n",
      "Adding sequences from FASTA; added 3 sequences in 0.00159478 seconds.\n",
      "\n",
      "\n",
      "Building a new DB, current time: 11/22/2024 13:34:35\n",
      "New DB name:   /Users/albertothornton/Desktop/Kamikouchi lab/Code/Blast Code and data/blast_databases/trpl_(transient_receptor_potential-like)/Drosophila_erecta_combined\n",
      "New DB title:  Protein_FASTA_Files_grouped/trpl_(transient_receptor_potential-like)/Drosophila_erecta_combined.fasta\n",
      "Sequence type: Protein\n",
      "Keep MBits: T\n",
      "Maximum file size: 1000000000B\n",
      "Adding sequences from FASTA; added 3 sequences in 0.00100803 seconds.\n",
      "\n",
      "\n",
      "Building a new DB, current time: 11/22/2024 13:34:35\n",
      "New DB name:   /Users/albertothornton/Desktop/Kamikouchi lab/Code/Blast Code and data/blast_databases/trpl_(transient_receptor_potential-like)/Drosophila_simulans_combined\n",
      "New DB title:  Protein_FASTA_Files_grouped/trpl_(transient_receptor_potential-like)/Drosophila_simulans_combined.fasta\n",
      "Sequence type: Protein\n",
      "Keep MBits: T\n",
      "Maximum file size: 1000000000B\n",
      "Adding sequences from FASTA; added 6 sequences in 0.00118709 seconds.\n",
      "\n",
      "\n",
      "Building a new DB, current time: 11/22/2024 13:34:36\n",
      "New DB name:   /Users/albertothornton/Desktop/Kamikouchi lab/Code/Blast Code and data/blast_databases/trpl_(transient_receptor_potential-like)/Drosophila_mauritiana_combined\n",
      "New DB title:  Protein_FASTA_Files_grouped/trpl_(transient_receptor_potential-like)/Drosophila_mauritiana_combined.fasta\n",
      "Sequence type: Protein\n",
      "Keep MBits: T\n",
      "Maximum file size: 1000000000B\n",
      "Adding sequences from FASTA; added 4 sequences in 0.001055 seconds.\n",
      "\n",
      "\n",
      "Building a new DB, current time: 11/22/2024 13:34:36\n",
      "New DB name:   /Users/albertothornton/Desktop/Kamikouchi lab/Code/Blast Code and data/blast_databases/Dhc1_(Dynein_heavy_chain_1)/Drosophila_melanogaster_combined\n",
      "New DB title:  Protein_FASTA_Files_grouped/Dhc1_(Dynein_heavy_chain_1)/Drosophila_melanogaster_combined.fasta\n",
      "Sequence type: Protein\n",
      "Keep MBits: T\n",
      "Maximum file size: 1000000000B\n",
      "Adding sequences from FASTA; added 20 sequences in 0.00396085 seconds.\n",
      "\n",
      "\n",
      "Building a new DB, current time: 11/22/2024 13:34:36\n",
      "New DB name:   /Users/albertothornton/Desktop/Kamikouchi lab/Code/Blast Code and data/blast_databases/Dhc1_(Dynein_heavy_chain_1)/Drosophila_teissieri_combined\n",
      "New DB title:  Protein_FASTA_Files_grouped/Dhc1_(Dynein_heavy_chain_1)/Drosophila_teissieri_combined.fasta\n",
      "Sequence type: Protein\n",
      "Keep MBits: T\n",
      "Maximum file size: 1000000000B\n",
      "Adding sequences from FASTA; added 2 sequences in 0.00110793 seconds.\n",
      "\n",
      "\n",
      "Building a new DB, current time: 11/22/2024 13:34:36\n",
      "New DB name:   /Users/albertothornton/Desktop/Kamikouchi lab/Code/Blast Code and data/blast_databases/Dhc1_(Dynein_heavy_chain_1)/Drosophila_yakuba_combined\n",
      "New DB title:  Protein_FASTA_Files_grouped/Dhc1_(Dynein_heavy_chain_1)/Drosophila_yakuba_combined.fasta\n",
      "Sequence type: Protein\n",
      "Keep MBits: T\n",
      "Maximum file size: 1000000000B\n",
      "Adding sequences from FASTA; added 2 sequences in 0.00200987 seconds.\n",
      "\n",
      "\n",
      "Building a new DB, current time: 11/22/2024 13:34:36\n",
      "New DB name:   /Users/albertothornton/Desktop/Kamikouchi lab/Code/Blast Code and data/blast_databases/Dhc1_(Dynein_heavy_chain_1)/Drosophila_ananassae_combined\n",
      "New DB title:  Protein_FASTA_Files_grouped/Dhc1_(Dynein_heavy_chain_1)/Drosophila_ananassae_combined.fasta\n",
      "Sequence type: Protein\n",
      "Keep MBits: T\n",
      "Maximum file size: 1000000000B\n",
      "Adding sequences from FASTA; added 2 sequences in 0.00112486 seconds.\n",
      "\n",
      "\n",
      "Building a new DB, current time: 11/22/2024 13:34:36\n",
      "New DB name:   /Users/albertothornton/Desktop/Kamikouchi lab/Code/Blast Code and data/blast_databases/Dhc1_(Dynein_heavy_chain_1)/Drosophila_erecta_combined\n",
      "New DB title:  Protein_FASTA_Files_grouped/Dhc1_(Dynein_heavy_chain_1)/Drosophila_erecta_combined.fasta\n",
      "Sequence type: Protein\n",
      "Keep MBits: T\n",
      "Maximum file size: 1000000000B\n",
      "Adding sequences from FASTA; added 3 sequences in 0.00163698 seconds.\n",
      "\n",
      "\n",
      "Building a new DB, current time: 11/22/2024 13:34:36\n",
      "New DB name:   /Users/albertothornton/Desktop/Kamikouchi lab/Code/Blast Code and data/blast_databases/Dhc1_(Dynein_heavy_chain_1)/Drosophila_simulans_combined\n",
      "New DB title:  Protein_FASTA_Files_grouped/Dhc1_(Dynein_heavy_chain_1)/Drosophila_simulans_combined.fasta\n",
      "Sequence type: Protein\n",
      "Keep MBits: T\n",
      "Maximum file size: 1000000000B\n",
      "Adding sequences from FASTA; added 2 sequences in 0.00111294 seconds.\n",
      "\n",
      "\n",
      "Building a new DB, current time: 11/22/2024 13:34:36\n",
      "New DB name:   /Users/albertothornton/Desktop/Kamikouchi lab/Code/Blast Code and data/blast_databases/Dhc1_(Dynein_heavy_chain_1)/Drosophila_mauritiana_combined\n",
      "New DB title:  Protein_FASTA_Files_grouped/Dhc1_(Dynein_heavy_chain_1)/Drosophila_mauritiana_combined.fasta\n",
      "Sequence type: Protein\n",
      "Keep MBits: T\n",
      "Maximum file size: 1000000000B\n",
      "Adding sequences from FASTA; added 2 sequences in 0.0016489 seconds.\n",
      "\n",
      "\n",
      "Building a new DB, current time: 11/22/2024 13:34:36\n",
      "New DB name:   /Users/albertothornton/Desktop/Kamikouchi lab/Code/Blast Code and data/blast_databases/sei_(seizure)/Drosophila_melanogaster_combined\n",
      "New DB title:  Protein_FASTA_Files_grouped/sei_(seizure)/Drosophila_melanogaster_combined.fasta\n",
      "Sequence type: Protein\n",
      "Keep MBits: T\n",
      "Maximum file size: 1000000000B\n",
      "Adding sequences from FASTA; added 7 sequences in 0.00222802 seconds.\n",
      "\n",
      "\n",
      "Building a new DB, current time: 11/22/2024 13:34:37\n",
      "New DB name:   /Users/albertothornton/Desktop/Kamikouchi lab/Code/Blast Code and data/blast_databases/sei_(seizure)/Drosophila_teissieri_combined\n",
      "New DB title:  Protein_FASTA_Files_grouped/sei_(seizure)/Drosophila_teissieri_combined.fasta\n",
      "Sequence type: Protein\n",
      "Keep MBits: T\n",
      "Maximum file size: 1000000000B\n",
      "Adding sequences from FASTA; added 1 sequences in 0.000391006 seconds.\n",
      "\n",
      "\n",
      "Building a new DB, current time: 11/22/2024 13:34:37\n",
      "New DB name:   /Users/albertothornton/Desktop/Kamikouchi lab/Code/Blast Code and data/blast_databases/sei_(seizure)/Drosophila_yakuba_combined\n",
      "New DB title:  Protein_FASTA_Files_grouped/sei_(seizure)/Drosophila_yakuba_combined.fasta\n",
      "Sequence type: Protein\n",
      "Keep MBits: T\n",
      "Maximum file size: 1000000000B\n",
      "Adding sequences from FASTA; added 1 sequences in 0.000464916 seconds.\n",
      "\n",
      "\n",
      "Building a new DB, current time: 11/22/2024 13:34:37\n",
      "New DB name:   /Users/albertothornton/Desktop/Kamikouchi lab/Code/Blast Code and data/blast_databases/sei_(seizure)/Drosophila_ananassae_combined\n",
      "New DB title:  Protein_FASTA_Files_grouped/sei_(seizure)/Drosophila_ananassae_combined.fasta\n",
      "Sequence type: Protein\n",
      "Keep MBits: T\n",
      "Maximum file size: 1000000000B\n",
      "Adding sequences from FASTA; added 4 sequences in 0.00119114 seconds.\n",
      "\n",
      "\n",
      "Building a new DB, current time: 11/22/2024 13:34:37\n",
      "New DB name:   /Users/albertothornton/Desktop/Kamikouchi lab/Code/Blast Code and data/blast_databases/sei_(seizure)/Drosophila_erecta_combined\n",
      "New DB title:  Protein_FASTA_Files_grouped/sei_(seizure)/Drosophila_erecta_combined.fasta\n",
      "Sequence type: Protein\n",
      "Keep MBits: T\n",
      "Maximum file size: 1000000000B\n",
      "Adding sequences from FASTA; added 1 sequences in 0.000386 seconds.\n",
      "\n",
      "\n",
      "Building a new DB, current time: 11/22/2024 13:34:37\n",
      "New DB name:   /Users/albertothornton/Desktop/Kamikouchi lab/Code/Blast Code and data/blast_databases/sei_(seizure)/Drosophila_simulans_combined\n",
      "New DB title:  Protein_FASTA_Files_grouped/sei_(seizure)/Drosophila_simulans_combined.fasta\n",
      "Sequence type: Protein\n",
      "Keep MBits: T\n",
      "Maximum file size: 1000000000B\n",
      "Adding sequences from FASTA; added 2 sequences in 0.00101209 seconds.\n",
      "\n",
      "\n",
      "Building a new DB, current time: 11/22/2024 13:34:37\n",
      "New DB name:   /Users/albertothornton/Desktop/Kamikouchi lab/Code/Blast Code and data/blast_databases/sei_(seizure)/Drosophila_mauritiana_combined\n",
      "New DB title:  Protein_FASTA_Files_grouped/sei_(seizure)/Drosophila_mauritiana_combined.fasta\n",
      "Sequence type: Protein\n",
      "Keep MBits: T\n",
      "Maximum file size: 1000000000B\n",
      "Adding sequences from FASTA; added 1 sequences in 0.000387907 seconds.\n",
      "\n",
      "\n",
      "Building a new DB, current time: 11/22/2024 13:34:37\n",
      "New DB name:   /Users/albertothornton/Desktop/Kamikouchi lab/Code/Blast Code and data/blast_databases/scaf_(scarface)/Drosophila_melanogaster_combined\n",
      "New DB title:  Protein_FASTA_Files_grouped/scaf_(scarface)/Drosophila_melanogaster_combined.fasta\n",
      "Sequence type: Protein\n",
      "Keep MBits: T\n",
      "Maximum file size: 1000000000B\n",
      "Adding sequences from FASTA; added 5 sequences in 0.00109196 seconds.\n",
      "\n",
      "\n",
      "Building a new DB, current time: 11/22/2024 13:34:37\n",
      "New DB name:   /Users/albertothornton/Desktop/Kamikouchi lab/Code/Blast Code and data/blast_databases/scaf_(scarface)/Drosophila_teissieri_combined\n",
      "New DB title:  Protein_FASTA_Files_grouped/scaf_(scarface)/Drosophila_teissieri_combined.fasta\n",
      "Sequence type: Protein\n",
      "Keep MBits: T\n",
      "Maximum file size: 1000000000B\n",
      "Adding sequences from FASTA; added 1 sequences in 0.000391006 seconds.\n",
      "\n",
      "\n",
      "Building a new DB, current time: 11/22/2024 13:34:37\n",
      "New DB name:   /Users/albertothornton/Desktop/Kamikouchi lab/Code/Blast Code and data/blast_databases/scaf_(scarface)/Drosophila_yakuba_combined\n",
      "New DB title:  Protein_FASTA_Files_grouped/scaf_(scarface)/Drosophila_yakuba_combined.fasta\n",
      "Sequence type: Protein\n",
      "Keep MBits: T\n",
      "Maximum file size: 1000000000B\n",
      "Adding sequences from FASTA; added 3 sequences in 0.000972033 seconds.\n",
      "\n",
      "\n",
      "Building a new DB, current time: 11/22/2024 13:34:37\n",
      "New DB name:   /Users/albertothornton/Desktop/Kamikouchi lab/Code/Blast Code and data/blast_databases/scaf_(scarface)/Drosophila_ananassae_combined\n",
      "New DB title:  Protein_FASTA_Files_grouped/scaf_(scarface)/Drosophila_ananassae_combined.fasta\n",
      "Sequence type: Protein\n",
      "Keep MBits: T\n",
      "Maximum file size: 1000000000B\n",
      "Adding sequences from FASTA; added 1 sequences in 0.000398159 seconds.\n",
      "\n",
      "\n",
      "Building a new DB, current time: 11/22/2024 13:34:37\n",
      "New DB name:   /Users/albertothornton/Desktop/Kamikouchi lab/Code/Blast Code and data/blast_databases/scaf_(scarface)/Drosophila_erecta_combined\n",
      "New DB title:  Protein_FASTA_Files_grouped/scaf_(scarface)/Drosophila_erecta_combined.fasta\n",
      "Sequence type: Protein\n",
      "Keep MBits: T\n",
      "Maximum file size: 1000000000B\n",
      "Adding sequences from FASTA; added 1 sequences in 0.000506878 seconds.\n",
      "\n",
      "\n",
      "Building a new DB, current time: 11/22/2024 13:34:38\n",
      "New DB name:   /Users/albertothornton/Desktop/Kamikouchi lab/Code/Blast Code and data/blast_databases/scaf_(scarface)/Drosophila_simulans_combined\n",
      "New DB title:  Protein_FASTA_Files_grouped/scaf_(scarface)/Drosophila_simulans_combined.fasta\n",
      "Sequence type: Protein\n",
      "Keep MBits: T\n",
      "Maximum file size: 1000000000B\n",
      "Adding sequences from FASTA; added 1 sequences in 0.000473976 seconds.\n",
      "\n",
      "\n",
      "Building a new DB, current time: 11/22/2024 13:34:38\n",
      "New DB name:   /Users/albertothornton/Desktop/Kamikouchi lab/Code/Blast Code and data/blast_databases/scaf_(scarface)/Drosophila_mauritiana_combined\n",
      "New DB title:  Protein_FASTA_Files_grouped/scaf_(scarface)/Drosophila_mauritiana_combined.fasta\n",
      "Sequence type: Protein\n",
      "Keep MBits: T\n",
      "Maximum file size: 1000000000B\n",
      "Adding sequences from FASTA; added 1 sequences in 0.000406981 seconds.\n",
      "\u001b[H\u001b[2J\n",
      "Failed Database Creations:\n",
      "File: Drosophila_melanogaster_combined.fasta, Error: Command '['makeblastdb', '-in', 'Protein_FASTA_Files_grouped/Test1234545/Drosophila_melanogaster_combined.fasta', '-dbtype', 'prot', '-out', 'blast_databases/Test1234545/Drosophila_melanogaster_combined']' returned non-zero exit status 1.\n"
     ]
    }
   ],
   "source": [
    "import os  # For directory management\n",
    "import subprocess  # For running external commands\n",
    "\n",
    "# Define the base folder\n",
    "base_dir = \"Protein_FASTA_Files_grouped\"  # Folder containing gene subfolders\n",
    "db_dir = \"blast_databases\"  # Root folder to store BLAST databases\n",
    "\n",
    "# Create the root database folder if it doesn't exist\n",
    "os.makedirs(db_dir, exist_ok=True)\n",
    "\n",
    "# Function to clean and validate FASTA files\n",
    "def clean_fasta(input_file):\n",
    "    \"\"\"Cleans and validates a FASTA file by simplifying the header and removing invalid characters.\"\"\"\n",
    "    with open(input_file, \"r\") as infile:\n",
    "        lines = infile.readlines()\n",
    "\n",
    "    with open(input_file, \"w\") as outfile:  # Overwrite the original file\n",
    "        for line in lines:\n",
    "            if line.startswith(\">\"):\n",
    "                # Retain only the sequence ID from the header\n",
    "                sequence_id = line.split()[0]  # Keep everything before the first space\n",
    "                outfile.write(sequence_id + \"\\n\")  # Write the cleaned header\n",
    "            else:\n",
    "                # Remove spaces and write the cleaned sequence\n",
    "                outfile.write(line.strip() + \"\\n\")\n",
    "\n",
    "# Function to clear the console (works for most environments)\n",
    "def clear_console():\n",
    "    os.system('cls' if os.name == 'nt' else 'clear')\n",
    "\n",
    "# List to track failed database creations\n",
    "failed_dbs = []\n",
    "\n",
    "# Loop through the gene folders to create BLAST databases\n",
    "for gene_folder in os.listdir(base_dir):\n",
    "    gene_path = os.path.join(base_dir, gene_folder)  # Path to each gene folder\n",
    "    if os.path.isdir(gene_path):  # Only process folders\n",
    "        # Create a separate subfolder in `blast_databases` for each gene\n",
    "        gene_db_folder = os.path.join(db_dir, gene_folder)\n",
    "        os.makedirs(gene_db_folder, exist_ok=True)\n",
    "\n",
    "        # Process each FASTA file within the gene folder\n",
    "        for fasta_file in os.listdir(gene_path):\n",
    "            if fasta_file.endswith(\".fasta\"):\n",
    "                fasta_path = os.path.join(gene_path, fasta_file)  # Path to the FASTA file\n",
    "\n",
    "                # Clean the FASTA file (overwrite the original file)\n",
    "                clean_fasta(fasta_path)\n",
    "\n",
    "                # Create a BLAST database in the gene-specific folder\n",
    "                db_name = os.path.join(gene_db_folder, os.path.splitext(fasta_file)[0])\n",
    "                try:\n",
    "                    subprocess.run(\n",
    "                        [\"makeblastdb\", \"-in\", fasta_path, \"-dbtype\", \"prot\", \"-out\", db_name],\n",
    "                        check=True,\n",
    "                    )\n",
    "                except subprocess.CalledProcessError as e:\n",
    "                    failed_dbs.append((fasta_file, str(e)))\n",
    "\n",
    "# Clear console before displaying results\n",
    "clear_console()\n",
    "\n",
    "# Final message with failed databases\n",
    "if failed_dbs:\n",
    "    print(\"\\nFailed Database Creations:\")\n",
    "    for fasta_file, error in failed_dbs:\n",
    "        print(f\"File: {fasta_file}, Error: {error}\")\n",
    "else:\n",
    "    print(\"All gene folders processed successfully without errors!\")\n"
   ]
  },
  {
   "cell_type": "markdown",
   "metadata": {},
   "source": [
    "Be able to choose the species to use as a query using input"
   ]
  },
  {
   "cell_type": "code",
   "execution_count": 8,
   "metadata": {},
   "outputs": [
    {
     "name": "stdout",
     "output_type": "stream",
     "text": [
      "Processing gene: sosie\n"
     ]
    },
    {
     "name": "stderr",
     "output_type": "stream",
     "text": [
      "/var/folders/mj/yrtz1pp53zs_hqrl2_mcw9m80000gn/T/ipykernel_32714/3119517783.py:102: FutureWarning: The behavior of DataFrame concatenation with empty or all-NA entries is deprecated. In a future version, this will no longer exclude empty or all-NA columns when determining the result dtypes. To retain the old behavior, exclude the relevant entries before the concat operation.\n",
      "  self_results_df = pd.concat([self_results_df, blast_results], ignore_index=True)\n",
      "/var/folders/mj/yrtz1pp53zs_hqrl2_mcw9m80000gn/T/ipykernel_32714/3119517783.py:105: FutureWarning: The behavior of DataFrame concatenation with empty or all-NA entries is deprecated. In a future version, this will no longer exclude empty or all-NA columns when determining the result dtypes. To retain the old behavior, exclude the relevant entries before the concat operation.\n",
      "  all_vs_results_df = pd.concat([all_vs_results_df, blast_results], ignore_index=True)\n"
     ]
    },
    {
     "name": "stdout",
     "output_type": "stream",
     "text": [
      "Processing gene: nompB_(no_mechanoreceptor_potential_B)\n"
     ]
    },
    {
     "name": "stderr",
     "output_type": "stream",
     "text": [
      "/var/folders/mj/yrtz1pp53zs_hqrl2_mcw9m80000gn/T/ipykernel_32714/3119517783.py:102: FutureWarning: The behavior of DataFrame concatenation with empty or all-NA entries is deprecated. In a future version, this will no longer exclude empty or all-NA columns when determining the result dtypes. To retain the old behavior, exclude the relevant entries before the concat operation.\n",
      "  self_results_df = pd.concat([self_results_df, blast_results], ignore_index=True)\n",
      "/var/folders/mj/yrtz1pp53zs_hqrl2_mcw9m80000gn/T/ipykernel_32714/3119517783.py:105: FutureWarning: The behavior of DataFrame concatenation with empty or all-NA entries is deprecated. In a future version, this will no longer exclude empty or all-NA columns when determining the result dtypes. To retain the old behavior, exclude the relevant entries before the concat operation.\n",
      "  all_vs_results_df = pd.concat([all_vs_results_df, blast_results], ignore_index=True)\n"
     ]
    },
    {
     "name": "stdout",
     "output_type": "stream",
     "text": [
      "Processing gene: bw_(brown)\n"
     ]
    },
    {
     "name": "stderr",
     "output_type": "stream",
     "text": [
      "/var/folders/mj/yrtz1pp53zs_hqrl2_mcw9m80000gn/T/ipykernel_32714/3119517783.py:102: FutureWarning: The behavior of DataFrame concatenation with empty or all-NA entries is deprecated. In a future version, this will no longer exclude empty or all-NA columns when determining the result dtypes. To retain the old behavior, exclude the relevant entries before the concat operation.\n",
      "  self_results_df = pd.concat([self_results_df, blast_results], ignore_index=True)\n",
      "/var/folders/mj/yrtz1pp53zs_hqrl2_mcw9m80000gn/T/ipykernel_32714/3119517783.py:105: FutureWarning: The behavior of DataFrame concatenation with empty or all-NA entries is deprecated. In a future version, this will no longer exclude empty or all-NA columns when determining the result dtypes. To retain the old behavior, exclude the relevant entries before the concat operation.\n",
      "  all_vs_results_df = pd.concat([all_vs_results_df, blast_results], ignore_index=True)\n"
     ]
    },
    {
     "name": "stdout",
     "output_type": "stream",
     "text": [
      "Processing gene: Rh6_(Rhodopsin_6)\n"
     ]
    },
    {
     "name": "stderr",
     "output_type": "stream",
     "text": [
      "/var/folders/mj/yrtz1pp53zs_hqrl2_mcw9m80000gn/T/ipykernel_32714/3119517783.py:102: FutureWarning: The behavior of DataFrame concatenation with empty or all-NA entries is deprecated. In a future version, this will no longer exclude empty or all-NA columns when determining the result dtypes. To retain the old behavior, exclude the relevant entries before the concat operation.\n",
      "  self_results_df = pd.concat([self_results_df, blast_results], ignore_index=True)\n",
      "/var/folders/mj/yrtz1pp53zs_hqrl2_mcw9m80000gn/T/ipykernel_32714/3119517783.py:105: FutureWarning: The behavior of DataFrame concatenation with empty or all-NA entries is deprecated. In a future version, this will no longer exclude empty or all-NA columns when determining the result dtypes. To retain the old behavior, exclude the relevant entries before the concat operation.\n",
      "  all_vs_results_df = pd.concat([all_vs_results_df, blast_results], ignore_index=True)\n"
     ]
    },
    {
     "name": "stdout",
     "output_type": "stream",
     "text": [
      "Processing gene: Ir75a_(Ionotropic_receptor_75a)\n"
     ]
    },
    {
     "name": "stderr",
     "output_type": "stream",
     "text": [
      "/var/folders/mj/yrtz1pp53zs_hqrl2_mcw9m80000gn/T/ipykernel_32714/3119517783.py:102: FutureWarning: The behavior of DataFrame concatenation with empty or all-NA entries is deprecated. In a future version, this will no longer exclude empty or all-NA columns when determining the result dtypes. To retain the old behavior, exclude the relevant entries before the concat operation.\n",
      "  self_results_df = pd.concat([self_results_df, blast_results], ignore_index=True)\n",
      "/var/folders/mj/yrtz1pp53zs_hqrl2_mcw9m80000gn/T/ipykernel_32714/3119517783.py:105: FutureWarning: The behavior of DataFrame concatenation with empty or all-NA entries is deprecated. In a future version, this will no longer exclude empty or all-NA columns when determining the result dtypes. To retain the old behavior, exclude the relevant entries before the concat operation.\n",
      "  all_vs_results_df = pd.concat([all_vs_results_df, blast_results], ignore_index=True)\n"
     ]
    },
    {
     "name": "stdout",
     "output_type": "stream",
     "text": [
      "Processing gene: stops_(slow_termination_of_phototransduction)\n"
     ]
    },
    {
     "name": "stderr",
     "output_type": "stream",
     "text": [
      "/var/folders/mj/yrtz1pp53zs_hqrl2_mcw9m80000gn/T/ipykernel_32714/3119517783.py:102: FutureWarning: The behavior of DataFrame concatenation with empty or all-NA entries is deprecated. In a future version, this will no longer exclude empty or all-NA columns when determining the result dtypes. To retain the old behavior, exclude the relevant entries before the concat operation.\n",
      "  self_results_df = pd.concat([self_results_df, blast_results], ignore_index=True)\n",
      "/var/folders/mj/yrtz1pp53zs_hqrl2_mcw9m80000gn/T/ipykernel_32714/3119517783.py:105: FutureWarning: The behavior of DataFrame concatenation with empty or all-NA entries is deprecated. In a future version, this will no longer exclude empty or all-NA columns when determining the result dtypes. To retain the old behavior, exclude the relevant entries before the concat operation.\n",
      "  all_vs_results_df = pd.concat([all_vs_results_df, blast_results], ignore_index=True)\n"
     ]
    },
    {
     "name": "stdout",
     "output_type": "stream",
     "text": [
      "Processing gene: tko_(technical_knockout)\n"
     ]
    },
    {
     "name": "stderr",
     "output_type": "stream",
     "text": [
      "/var/folders/mj/yrtz1pp53zs_hqrl2_mcw9m80000gn/T/ipykernel_32714/3119517783.py:102: FutureWarning: The behavior of DataFrame concatenation with empty or all-NA entries is deprecated. In a future version, this will no longer exclude empty or all-NA columns when determining the result dtypes. To retain the old behavior, exclude the relevant entries before the concat operation.\n",
      "  self_results_df = pd.concat([self_results_df, blast_results], ignore_index=True)\n",
      "/var/folders/mj/yrtz1pp53zs_hqrl2_mcw9m80000gn/T/ipykernel_32714/3119517783.py:105: FutureWarning: The behavior of DataFrame concatenation with empty or all-NA entries is deprecated. In a future version, this will no longer exclude empty or all-NA columns when determining the result dtypes. To retain the old behavior, exclude the relevant entries before the concat operation.\n",
      "  all_vs_results_df = pd.concat([all_vs_results_df, blast_results], ignore_index=True)\n"
     ]
    },
    {
     "name": "stdout",
     "output_type": "stream",
     "text": [
      "Processing gene: dia_(diaphanous)\n"
     ]
    },
    {
     "name": "stderr",
     "output_type": "stream",
     "text": [
      "/var/folders/mj/yrtz1pp53zs_hqrl2_mcw9m80000gn/T/ipykernel_32714/3119517783.py:102: FutureWarning: The behavior of DataFrame concatenation with empty or all-NA entries is deprecated. In a future version, this will no longer exclude empty or all-NA columns when determining the result dtypes. To retain the old behavior, exclude the relevant entries before the concat operation.\n",
      "  self_results_df = pd.concat([self_results_df, blast_results], ignore_index=True)\n",
      "/var/folders/mj/yrtz1pp53zs_hqrl2_mcw9m80000gn/T/ipykernel_32714/3119517783.py:105: FutureWarning: The behavior of DataFrame concatenation with empty or all-NA entries is deprecated. In a future version, this will no longer exclude empty or all-NA columns when determining the result dtypes. To retain the old behavior, exclude the relevant entries before the concat operation.\n",
      "  all_vs_results_df = pd.concat([all_vs_results_df, blast_results], ignore_index=True)\n"
     ]
    },
    {
     "name": "stdout",
     "output_type": "stream",
     "text": [
      "Processing gene: Rh5_(Rhodopsin_5)\n"
     ]
    },
    {
     "name": "stderr",
     "output_type": "stream",
     "text": [
      "/var/folders/mj/yrtz1pp53zs_hqrl2_mcw9m80000gn/T/ipykernel_32714/3119517783.py:102: FutureWarning: The behavior of DataFrame concatenation with empty or all-NA entries is deprecated. In a future version, this will no longer exclude empty or all-NA columns when determining the result dtypes. To retain the old behavior, exclude the relevant entries before the concat operation.\n",
      "  self_results_df = pd.concat([self_results_df, blast_results], ignore_index=True)\n",
      "/var/folders/mj/yrtz1pp53zs_hqrl2_mcw9m80000gn/T/ipykernel_32714/3119517783.py:105: FutureWarning: The behavior of DataFrame concatenation with empty or all-NA entries is deprecated. In a future version, this will no longer exclude empty or all-NA columns when determining the result dtypes. To retain the old behavior, exclude the relevant entries before the concat operation.\n",
      "  all_vs_results_df = pd.concat([all_vs_results_df, blast_results], ignore_index=True)\n"
     ]
    },
    {
     "name": "stdout",
     "output_type": "stream",
     "text": [
      "Processing gene: nompC_(no_mechanoreceptor_potential_C)\n"
     ]
    },
    {
     "name": "stderr",
     "output_type": "stream",
     "text": [
      "/var/folders/mj/yrtz1pp53zs_hqrl2_mcw9m80000gn/T/ipykernel_32714/3119517783.py:102: FutureWarning: The behavior of DataFrame concatenation with empty or all-NA entries is deprecated. In a future version, this will no longer exclude empty or all-NA columns when determining the result dtypes. To retain the old behavior, exclude the relevant entries before the concat operation.\n",
      "  self_results_df = pd.concat([self_results_df, blast_results], ignore_index=True)\n",
      "/var/folders/mj/yrtz1pp53zs_hqrl2_mcw9m80000gn/T/ipykernel_32714/3119517783.py:105: FutureWarning: The behavior of DataFrame concatenation with empty or all-NA entries is deprecated. In a future version, this will no longer exclude empty or all-NA columns when determining the result dtypes. To retain the old behavior, exclude the relevant entries before the concat operation.\n",
      "  all_vs_results_df = pd.concat([all_vs_results_df, blast_results], ignore_index=True)\n"
     ]
    },
    {
     "name": "stdout",
     "output_type": "stream",
     "text": [
      "Processing gene: Tmhs_(Tetraspan_membrane_protein_in_hair_cell_stereocilia)\n"
     ]
    },
    {
     "name": "stderr",
     "output_type": "stream",
     "text": [
      "/var/folders/mj/yrtz1pp53zs_hqrl2_mcw9m80000gn/T/ipykernel_32714/3119517783.py:102: FutureWarning: The behavior of DataFrame concatenation with empty or all-NA entries is deprecated. In a future version, this will no longer exclude empty or all-NA columns when determining the result dtypes. To retain the old behavior, exclude the relevant entries before the concat operation.\n",
      "  self_results_df = pd.concat([self_results_df, blast_results], ignore_index=True)\n",
      "/var/folders/mj/yrtz1pp53zs_hqrl2_mcw9m80000gn/T/ipykernel_32714/3119517783.py:105: FutureWarning: The behavior of DataFrame concatenation with empty or all-NA entries is deprecated. In a future version, this will no longer exclude empty or all-NA columns when determining the result dtypes. To retain the old behavior, exclude the relevant entries before the concat operation.\n",
      "  all_vs_results_df = pd.concat([all_vs_results_df, blast_results], ignore_index=True)\n"
     ]
    },
    {
     "name": "stdout",
     "output_type": "stream",
     "text": [
      "Processing gene: DCX-EMAP_(Doublecortin-domain-containing_echinoderm-microtubule-associated_protein)\n"
     ]
    },
    {
     "name": "stderr",
     "output_type": "stream",
     "text": [
      "/var/folders/mj/yrtz1pp53zs_hqrl2_mcw9m80000gn/T/ipykernel_32714/3119517783.py:102: FutureWarning: The behavior of DataFrame concatenation with empty or all-NA entries is deprecated. In a future version, this will no longer exclude empty or all-NA columns when determining the result dtypes. To retain the old behavior, exclude the relevant entries before the concat operation.\n",
      "  self_results_df = pd.concat([self_results_df, blast_results], ignore_index=True)\n",
      "/var/folders/mj/yrtz1pp53zs_hqrl2_mcw9m80000gn/T/ipykernel_32714/3119517783.py:105: FutureWarning: The behavior of DataFrame concatenation with empty or all-NA entries is deprecated. In a future version, this will no longer exclude empty or all-NA columns when determining the result dtypes. To retain the old behavior, exclude the relevant entries before the concat operation.\n",
      "  all_vs_results_df = pd.concat([all_vs_results_df, blast_results], ignore_index=True)\n"
     ]
    },
    {
     "name": "stdout",
     "output_type": "stream",
     "text": [
      "Processing gene: CG8086\n"
     ]
    },
    {
     "name": "stderr",
     "output_type": "stream",
     "text": [
      "/var/folders/mj/yrtz1pp53zs_hqrl2_mcw9m80000gn/T/ipykernel_32714/3119517783.py:102: FutureWarning: The behavior of DataFrame concatenation with empty or all-NA entries is deprecated. In a future version, this will no longer exclude empty or all-NA columns when determining the result dtypes. To retain the old behavior, exclude the relevant entries before the concat operation.\n",
      "  self_results_df = pd.concat([self_results_df, blast_results], ignore_index=True)\n",
      "/var/folders/mj/yrtz1pp53zs_hqrl2_mcw9m80000gn/T/ipykernel_32714/3119517783.py:105: FutureWarning: The behavior of DataFrame concatenation with empty or all-NA entries is deprecated. In a future version, this will no longer exclude empty or all-NA columns when determining the result dtypes. To retain the old behavior, exclude the relevant entries before the concat operation.\n",
      "  all_vs_results_df = pd.concat([all_vs_results_df, blast_results], ignore_index=True)\n"
     ]
    },
    {
     "name": "stdout",
     "output_type": "stream",
     "text": [
      "Processing gene: iav_(inactive)\n"
     ]
    },
    {
     "name": "stderr",
     "output_type": "stream",
     "text": [
      "/var/folders/mj/yrtz1pp53zs_hqrl2_mcw9m80000gn/T/ipykernel_32714/3119517783.py:102: FutureWarning: The behavior of DataFrame concatenation with empty or all-NA entries is deprecated. In a future version, this will no longer exclude empty or all-NA columns when determining the result dtypes. To retain the old behavior, exclude the relevant entries before the concat operation.\n",
      "  self_results_df = pd.concat([self_results_df, blast_results], ignore_index=True)\n",
      "/var/folders/mj/yrtz1pp53zs_hqrl2_mcw9m80000gn/T/ipykernel_32714/3119517783.py:105: FutureWarning: The behavior of DataFrame concatenation with empty or all-NA entries is deprecated. In a future version, this will no longer exclude empty or all-NA columns when determining the result dtypes. To retain the old behavior, exclude the relevant entries before the concat operation.\n",
      "  all_vs_results_df = pd.concat([all_vs_results_df, blast_results], ignore_index=True)\n"
     ]
    },
    {
     "name": "stdout",
     "output_type": "stream",
     "text": [
      "Processing gene: f_(forked)\n"
     ]
    },
    {
     "name": "stderr",
     "output_type": "stream",
     "text": [
      "/var/folders/mj/yrtz1pp53zs_hqrl2_mcw9m80000gn/T/ipykernel_32714/3119517783.py:102: FutureWarning: The behavior of DataFrame concatenation with empty or all-NA entries is deprecated. In a future version, this will no longer exclude empty or all-NA columns when determining the result dtypes. To retain the old behavior, exclude the relevant entries before the concat operation.\n",
      "  self_results_df = pd.concat([self_results_df, blast_results], ignore_index=True)\n",
      "/var/folders/mj/yrtz1pp53zs_hqrl2_mcw9m80000gn/T/ipykernel_32714/3119517783.py:105: FutureWarning: The behavior of DataFrame concatenation with empty or all-NA entries is deprecated. In a future version, this will no longer exclude empty or all-NA columns when determining the result dtypes. To retain the old behavior, exclude the relevant entries before the concat operation.\n",
      "  all_vs_results_df = pd.concat([all_vs_results_df, blast_results], ignore_index=True)\n"
     ]
    },
    {
     "name": "stdout",
     "output_type": "stream",
     "text": [
      "Processing gene: Ank2_(Ankyrin_2)\n"
     ]
    },
    {
     "name": "stderr",
     "output_type": "stream",
     "text": [
      "/var/folders/mj/yrtz1pp53zs_hqrl2_mcw9m80000gn/T/ipykernel_32714/3119517783.py:102: FutureWarning: The behavior of DataFrame concatenation with empty or all-NA entries is deprecated. In a future version, this will no longer exclude empty or all-NA columns when determining the result dtypes. To retain the old behavior, exclude the relevant entries before the concat operation.\n",
      "  self_results_df = pd.concat([self_results_df, blast_results], ignore_index=True)\n",
      "/var/folders/mj/yrtz1pp53zs_hqrl2_mcw9m80000gn/T/ipykernel_32714/3119517783.py:105: FutureWarning: The behavior of DataFrame concatenation with empty or all-NA entries is deprecated. In a future version, this will no longer exclude empty or all-NA columns when determining the result dtypes. To retain the old behavior, exclude the relevant entries before the concat operation.\n",
      "  all_vs_results_df = pd.concat([all_vs_results_df, blast_results], ignore_index=True)\n"
     ]
    },
    {
     "name": "stdout",
     "output_type": "stream",
     "text": [
      "Processing gene: ck_(crinkled)_\n"
     ]
    },
    {
     "name": "stderr",
     "output_type": "stream",
     "text": [
      "/var/folders/mj/yrtz1pp53zs_hqrl2_mcw9m80000gn/T/ipykernel_32714/3119517783.py:102: FutureWarning: The behavior of DataFrame concatenation with empty or all-NA entries is deprecated. In a future version, this will no longer exclude empty or all-NA columns when determining the result dtypes. To retain the old behavior, exclude the relevant entries before the concat operation.\n",
      "  self_results_df = pd.concat([self_results_df, blast_results], ignore_index=True)\n",
      "/var/folders/mj/yrtz1pp53zs_hqrl2_mcw9m80000gn/T/ipykernel_32714/3119517783.py:105: FutureWarning: The behavior of DataFrame concatenation with empty or all-NA entries is deprecated. In a future version, this will no longer exclude empty or all-NA columns when determining the result dtypes. To retain the old behavior, exclude the relevant entries before the concat operation.\n",
      "  all_vs_results_df = pd.concat([all_vs_results_df, blast_results], ignore_index=True)\n"
     ]
    },
    {
     "name": "stdout",
     "output_type": "stream",
     "text": [
      "Processing gene: Cam_(Calmodulin)\n"
     ]
    },
    {
     "name": "stderr",
     "output_type": "stream",
     "text": [
      "/var/folders/mj/yrtz1pp53zs_hqrl2_mcw9m80000gn/T/ipykernel_32714/3119517783.py:102: FutureWarning: The behavior of DataFrame concatenation with empty or all-NA entries is deprecated. In a future version, this will no longer exclude empty or all-NA columns when determining the result dtypes. To retain the old behavior, exclude the relevant entries before the concat operation.\n",
      "  self_results_df = pd.concat([self_results_df, blast_results], ignore_index=True)\n",
      "/var/folders/mj/yrtz1pp53zs_hqrl2_mcw9m80000gn/T/ipykernel_32714/3119517783.py:105: FutureWarning: The behavior of DataFrame concatenation with empty or all-NA entries is deprecated. In a future version, this will no longer exclude empty or all-NA columns when determining the result dtypes. To retain the old behavior, exclude the relevant entries before the concat operation.\n",
      "  all_vs_results_df = pd.concat([all_vs_results_df, blast_results], ignore_index=True)\n"
     ]
    },
    {
     "name": "stdout",
     "output_type": "stream",
     "text": [
      "Processing gene: trp_(transient_receptor_potential)\n"
     ]
    },
    {
     "name": "stderr",
     "output_type": "stream",
     "text": [
      "/var/folders/mj/yrtz1pp53zs_hqrl2_mcw9m80000gn/T/ipykernel_32714/3119517783.py:102: FutureWarning: The behavior of DataFrame concatenation with empty or all-NA entries is deprecated. In a future version, this will no longer exclude empty or all-NA columns when determining the result dtypes. To retain the old behavior, exclude the relevant entries before the concat operation.\n",
      "  self_results_df = pd.concat([self_results_df, blast_results], ignore_index=True)\n",
      "/var/folders/mj/yrtz1pp53zs_hqrl2_mcw9m80000gn/T/ipykernel_32714/3119517783.py:105: FutureWarning: The behavior of DataFrame concatenation with empty or all-NA entries is deprecated. In a future version, this will no longer exclude empty or all-NA columns when determining the result dtypes. To retain the old behavior, exclude the relevant entries before the concat operation.\n",
      "  all_vs_results_df = pd.concat([all_vs_results_df, blast_results], ignore_index=True)\n"
     ]
    },
    {
     "name": "stdout",
     "output_type": "stream",
     "text": [
      "Processing gene: nompA_(no_mechanoreceptor_potential_A)\n"
     ]
    },
    {
     "name": "stderr",
     "output_type": "stream",
     "text": [
      "/var/folders/mj/yrtz1pp53zs_hqrl2_mcw9m80000gn/T/ipykernel_32714/3119517783.py:102: FutureWarning: The behavior of DataFrame concatenation with empty or all-NA entries is deprecated. In a future version, this will no longer exclude empty or all-NA columns when determining the result dtypes. To retain the old behavior, exclude the relevant entries before the concat operation.\n",
      "  self_results_df = pd.concat([self_results_df, blast_results], ignore_index=True)\n",
      "/var/folders/mj/yrtz1pp53zs_hqrl2_mcw9m80000gn/T/ipykernel_32714/3119517783.py:105: FutureWarning: The behavior of DataFrame concatenation with empty or all-NA entries is deprecated. In a future version, this will no longer exclude empty or all-NA columns when determining the result dtypes. To retain the old behavior, exclude the relevant entries before the concat operation.\n",
      "  all_vs_results_df = pd.concat([all_vs_results_df, blast_results], ignore_index=True)\n"
     ]
    },
    {
     "name": "stdout",
     "output_type": "stream",
     "text": [
      "Processing gene: tilB_(touch_insensitive_larva_B)\n"
     ]
    },
    {
     "name": "stderr",
     "output_type": "stream",
     "text": [
      "/var/folders/mj/yrtz1pp53zs_hqrl2_mcw9m80000gn/T/ipykernel_32714/3119517783.py:102: FutureWarning: The behavior of DataFrame concatenation with empty or all-NA entries is deprecated. In a future version, this will no longer exclude empty or all-NA columns when determining the result dtypes. To retain the old behavior, exclude the relevant entries before the concat operation.\n",
      "  self_results_df = pd.concat([self_results_df, blast_results], ignore_index=True)\n",
      "/var/folders/mj/yrtz1pp53zs_hqrl2_mcw9m80000gn/T/ipykernel_32714/3119517783.py:105: FutureWarning: The behavior of DataFrame concatenation with empty or all-NA entries is deprecated. In a future version, this will no longer exclude empty or all-NA columns when determining the result dtypes. To retain the old behavior, exclude the relevant entries before the concat operation.\n",
      "  all_vs_results_df = pd.concat([all_vs_results_df, blast_results], ignore_index=True)\n"
     ]
    },
    {
     "name": "stdout",
     "output_type": "stream",
     "text": [
      "Processing gene: plp_(pericentrin-like_protein)\n"
     ]
    },
    {
     "name": "stderr",
     "output_type": "stream",
     "text": [
      "/var/folders/mj/yrtz1pp53zs_hqrl2_mcw9m80000gn/T/ipykernel_32714/3119517783.py:102: FutureWarning: The behavior of DataFrame concatenation with empty or all-NA entries is deprecated. In a future version, this will no longer exclude empty or all-NA columns when determining the result dtypes. To retain the old behavior, exclude the relevant entries before the concat operation.\n",
      "  self_results_df = pd.concat([self_results_df, blast_results], ignore_index=True)\n",
      "/var/folders/mj/yrtz1pp53zs_hqrl2_mcw9m80000gn/T/ipykernel_32714/3119517783.py:105: FutureWarning: The behavior of DataFrame concatenation with empty or all-NA entries is deprecated. In a future version, this will no longer exclude empty or all-NA columns when determining the result dtypes. To retain the old behavior, exclude the relevant entries before the concat operation.\n",
      "  all_vs_results_df = pd.concat([all_vs_results_df, blast_results], ignore_index=True)\n"
     ]
    },
    {
     "name": "stdout",
     "output_type": "stream",
     "text": [
      "Processing gene: wtrw_(water_witch)\n"
     ]
    },
    {
     "name": "stderr",
     "output_type": "stream",
     "text": [
      "/var/folders/mj/yrtz1pp53zs_hqrl2_mcw9m80000gn/T/ipykernel_32714/3119517783.py:102: FutureWarning: The behavior of DataFrame concatenation with empty or all-NA entries is deprecated. In a future version, this will no longer exclude empty or all-NA columns when determining the result dtypes. To retain the old behavior, exclude the relevant entries before the concat operation.\n",
      "  self_results_df = pd.concat([self_results_df, blast_results], ignore_index=True)\n",
      "/var/folders/mj/yrtz1pp53zs_hqrl2_mcw9m80000gn/T/ipykernel_32714/3119517783.py:105: FutureWarning: The behavior of DataFrame concatenation with empty or all-NA entries is deprecated. In a future version, this will no longer exclude empty or all-NA columns when determining the result dtypes. To retain the old behavior, exclude the relevant entries before the concat operation.\n",
      "  all_vs_results_df = pd.concat([all_vs_results_df, blast_results], ignore_index=True)\n"
     ]
    },
    {
     "name": "stdout",
     "output_type": "stream",
     "text": [
      "Processing gene: Eb1\n"
     ]
    },
    {
     "name": "stderr",
     "output_type": "stream",
     "text": [
      "/var/folders/mj/yrtz1pp53zs_hqrl2_mcw9m80000gn/T/ipykernel_32714/3119517783.py:102: FutureWarning: The behavior of DataFrame concatenation with empty or all-NA entries is deprecated. In a future version, this will no longer exclude empty or all-NA columns when determining the result dtypes. To retain the old behavior, exclude the relevant entries before the concat operation.\n",
      "  self_results_df = pd.concat([self_results_df, blast_results], ignore_index=True)\n",
      "/var/folders/mj/yrtz1pp53zs_hqrl2_mcw9m80000gn/T/ipykernel_32714/3119517783.py:105: FutureWarning: The behavior of DataFrame concatenation with empty or all-NA entries is deprecated. In a future version, this will no longer exclude empty or all-NA columns when determining the result dtypes. To retain the old behavior, exclude the relevant entries before the concat operation.\n",
      "  all_vs_results_df = pd.concat([all_vs_results_df, blast_results], ignore_index=True)\n"
     ]
    },
    {
     "name": "stdout",
     "output_type": "stream",
     "text": [
      "Processing gene: rempA_(reduced_mechanoreceptor_potential_A)\n"
     ]
    },
    {
     "name": "stderr",
     "output_type": "stream",
     "text": [
      "/var/folders/mj/yrtz1pp53zs_hqrl2_mcw9m80000gn/T/ipykernel_32714/3119517783.py:102: FutureWarning: The behavior of DataFrame concatenation with empty or all-NA entries is deprecated. In a future version, this will no longer exclude empty or all-NA columns when determining the result dtypes. To retain the old behavior, exclude the relevant entries before the concat operation.\n",
      "  self_results_df = pd.concat([self_results_df, blast_results], ignore_index=True)\n",
      "/var/folders/mj/yrtz1pp53zs_hqrl2_mcw9m80000gn/T/ipykernel_32714/3119517783.py:105: FutureWarning: The behavior of DataFrame concatenation with empty or all-NA entries is deprecated. In a future version, this will no longer exclude empty or all-NA columns when determining the result dtypes. To retain the old behavior, exclude the relevant entries before the concat operation.\n",
      "  all_vs_results_df = pd.concat([all_vs_results_df, blast_results], ignore_index=True)\n"
     ]
    },
    {
     "name": "stdout",
     "output_type": "stream",
     "text": [
      "Processing gene: Zmynd10_(Zinc_finger_MYND-type_containing_10)\n"
     ]
    },
    {
     "name": "stderr",
     "output_type": "stream",
     "text": [
      "/var/folders/mj/yrtz1pp53zs_hqrl2_mcw9m80000gn/T/ipykernel_32714/3119517783.py:102: FutureWarning: The behavior of DataFrame concatenation with empty or all-NA entries is deprecated. In a future version, this will no longer exclude empty or all-NA columns when determining the result dtypes. To retain the old behavior, exclude the relevant entries before the concat operation.\n",
      "  self_results_df = pd.concat([self_results_df, blast_results], ignore_index=True)\n",
      "/var/folders/mj/yrtz1pp53zs_hqrl2_mcw9m80000gn/T/ipykernel_32714/3119517783.py:105: FutureWarning: The behavior of DataFrame concatenation with empty or all-NA entries is deprecated. In a future version, this will no longer exclude empty or all-NA columns when determining the result dtypes. To retain the old behavior, exclude the relevant entries before the concat operation.\n",
      "  all_vs_results_df = pd.concat([all_vs_results_df, blast_results], ignore_index=True)\n"
     ]
    },
    {
     "name": "stdout",
     "output_type": "stream",
     "text": [
      "Processing gene: Kap3_(Kinesin_associated_protein_3)\n"
     ]
    },
    {
     "name": "stderr",
     "output_type": "stream",
     "text": [
      "/var/folders/mj/yrtz1pp53zs_hqrl2_mcw9m80000gn/T/ipykernel_32714/3119517783.py:102: FutureWarning: The behavior of DataFrame concatenation with empty or all-NA entries is deprecated. In a future version, this will no longer exclude empty or all-NA columns when determining the result dtypes. To retain the old behavior, exclude the relevant entries before the concat operation.\n",
      "  self_results_df = pd.concat([self_results_df, blast_results], ignore_index=True)\n",
      "/var/folders/mj/yrtz1pp53zs_hqrl2_mcw9m80000gn/T/ipykernel_32714/3119517783.py:105: FutureWarning: The behavior of DataFrame concatenation with empty or all-NA entries is deprecated. In a future version, this will no longer exclude empty or all-NA columns when determining the result dtypes. To retain the old behavior, exclude the relevant entries before the concat operation.\n",
      "  all_vs_results_df = pd.concat([all_vs_results_df, blast_results], ignore_index=True)\n"
     ]
    },
    {
     "name": "stdout",
     "output_type": "stream",
     "text": [
      "Processing gene: ct_(cut)\n"
     ]
    },
    {
     "name": "stderr",
     "output_type": "stream",
     "text": [
      "/var/folders/mj/yrtz1pp53zs_hqrl2_mcw9m80000gn/T/ipykernel_32714/3119517783.py:102: FutureWarning: The behavior of DataFrame concatenation with empty or all-NA entries is deprecated. In a future version, this will no longer exclude empty or all-NA columns when determining the result dtypes. To retain the old behavior, exclude the relevant entries before the concat operation.\n",
      "  self_results_df = pd.concat([self_results_df, blast_results], ignore_index=True)\n",
      "/var/folders/mj/yrtz1pp53zs_hqrl2_mcw9m80000gn/T/ipykernel_32714/3119517783.py:105: FutureWarning: The behavior of DataFrame concatenation with empty or all-NA entries is deprecated. In a future version, this will no longer exclude empty or all-NA columns when determining the result dtypes. To retain the old behavior, exclude the relevant entries before the concat operation.\n",
      "  all_vs_results_df = pd.concat([all_vs_results_df, blast_results], ignore_index=True)\n"
     ]
    },
    {
     "name": "stdout",
     "output_type": "stream",
     "text": [
      "Processing gene: Rfx\n"
     ]
    },
    {
     "name": "stderr",
     "output_type": "stream",
     "text": [
      "/var/folders/mj/yrtz1pp53zs_hqrl2_mcw9m80000gn/T/ipykernel_32714/3119517783.py:102: FutureWarning: The behavior of DataFrame concatenation with empty or all-NA entries is deprecated. In a future version, this will no longer exclude empty or all-NA columns when determining the result dtypes. To retain the old behavior, exclude the relevant entries before the concat operation.\n",
      "  self_results_df = pd.concat([self_results_df, blast_results], ignore_index=True)\n",
      "/var/folders/mj/yrtz1pp53zs_hqrl2_mcw9m80000gn/T/ipykernel_32714/3119517783.py:105: FutureWarning: The behavior of DataFrame concatenation with empty or all-NA entries is deprecated. In a future version, this will no longer exclude empty or all-NA columns when determining the result dtypes. To retain the old behavior, exclude the relevant entries before the concat operation.\n",
      "  all_vs_results_df = pd.concat([all_vs_results_df, blast_results], ignore_index=True)\n"
     ]
    },
    {
     "name": "stdout",
     "output_type": "stream",
     "text": [
      "Processing gene: CG14921\n"
     ]
    },
    {
     "name": "stderr",
     "output_type": "stream",
     "text": [
      "/var/folders/mj/yrtz1pp53zs_hqrl2_mcw9m80000gn/T/ipykernel_32714/3119517783.py:102: FutureWarning: The behavior of DataFrame concatenation with empty or all-NA entries is deprecated. In a future version, this will no longer exclude empty or all-NA columns when determining the result dtypes. To retain the old behavior, exclude the relevant entries before the concat operation.\n",
      "  self_results_df = pd.concat([self_results_df, blast_results], ignore_index=True)\n",
      "/var/folders/mj/yrtz1pp53zs_hqrl2_mcw9m80000gn/T/ipykernel_32714/3119517783.py:105: FutureWarning: The behavior of DataFrame concatenation with empty or all-NA entries is deprecated. In a future version, this will no longer exclude empty or all-NA columns when determining the result dtypes. To retain the old behavior, exclude the relevant entries before the concat operation.\n",
      "  all_vs_results_df = pd.concat([all_vs_results_df, blast_results], ignore_index=True)\n"
     ]
    },
    {
     "name": "stdout",
     "output_type": "stream",
     "text": [
      "Processing gene: CG9313\n"
     ]
    },
    {
     "name": "stderr",
     "output_type": "stream",
     "text": [
      "/var/folders/mj/yrtz1pp53zs_hqrl2_mcw9m80000gn/T/ipykernel_32714/3119517783.py:102: FutureWarning: The behavior of DataFrame concatenation with empty or all-NA entries is deprecated. In a future version, this will no longer exclude empty or all-NA columns when determining the result dtypes. To retain the old behavior, exclude the relevant entries before the concat operation.\n",
      "  self_results_df = pd.concat([self_results_df, blast_results], ignore_index=True)\n",
      "/var/folders/mj/yrtz1pp53zs_hqrl2_mcw9m80000gn/T/ipykernel_32714/3119517783.py:105: FutureWarning: The behavior of DataFrame concatenation with empty or all-NA entries is deprecated. In a future version, this will no longer exclude empty or all-NA columns when determining the result dtypes. To retain the old behavior, exclude the relevant entries before the concat operation.\n",
      "  all_vs_results_df = pd.concat([all_vs_results_df, blast_results], ignore_index=True)\n"
     ]
    },
    {
     "name": "stdout",
     "output_type": "stream",
     "text": [
      "Processing gene: Dhc36C_(Dynein_heavy_chain_at_36C)\n"
     ]
    },
    {
     "name": "stderr",
     "output_type": "stream",
     "text": [
      "/var/folders/mj/yrtz1pp53zs_hqrl2_mcw9m80000gn/T/ipykernel_32714/3119517783.py:102: FutureWarning: The behavior of DataFrame concatenation with empty or all-NA entries is deprecated. In a future version, this will no longer exclude empty or all-NA columns when determining the result dtypes. To retain the old behavior, exclude the relevant entries before the concat operation.\n",
      "  self_results_df = pd.concat([self_results_df, blast_results], ignore_index=True)\n",
      "/var/folders/mj/yrtz1pp53zs_hqrl2_mcw9m80000gn/T/ipykernel_32714/3119517783.py:105: FutureWarning: The behavior of DataFrame concatenation with empty or all-NA entries is deprecated. In a future version, this will no longer exclude empty or all-NA columns when determining the result dtypes. To retain the old behavior, exclude the relevant entries before the concat operation.\n",
      "  all_vs_results_df = pd.concat([all_vs_results_df, blast_results], ignore_index=True)\n"
     ]
    },
    {
     "name": "stdout",
     "output_type": "stream",
     "text": [
      "Processing gene: Bmcp\n"
     ]
    },
    {
     "name": "stderr",
     "output_type": "stream",
     "text": [
      "/var/folders/mj/yrtz1pp53zs_hqrl2_mcw9m80000gn/T/ipykernel_32714/3119517783.py:102: FutureWarning: The behavior of DataFrame concatenation with empty or all-NA entries is deprecated. In a future version, this will no longer exclude empty or all-NA columns when determining the result dtypes. To retain the old behavior, exclude the relevant entries before the concat operation.\n",
      "  self_results_df = pd.concat([self_results_df, blast_results], ignore_index=True)\n",
      "/var/folders/mj/yrtz1pp53zs_hqrl2_mcw9m80000gn/T/ipykernel_32714/3119517783.py:105: FutureWarning: The behavior of DataFrame concatenation with empty or all-NA entries is deprecated. In a future version, this will no longer exclude empty or all-NA columns when determining the result dtypes. To retain the old behavior, exclude the relevant entries before the concat operation.\n",
      "  all_vs_results_df = pd.concat([all_vs_results_df, blast_results], ignore_index=True)\n"
     ]
    },
    {
     "name": "stdout",
     "output_type": "stream",
     "text": [
      "Processing gene: Test1234545\n",
      "Processing gene: ato_(atonal)\n"
     ]
    },
    {
     "name": "stderr",
     "output_type": "stream",
     "text": [
      "/var/folders/mj/yrtz1pp53zs_hqrl2_mcw9m80000gn/T/ipykernel_32714/3119517783.py:102: FutureWarning: The behavior of DataFrame concatenation with empty or all-NA entries is deprecated. In a future version, this will no longer exclude empty or all-NA columns when determining the result dtypes. To retain the old behavior, exclude the relevant entries before the concat operation.\n",
      "  self_results_df = pd.concat([self_results_df, blast_results], ignore_index=True)\n",
      "/var/folders/mj/yrtz1pp53zs_hqrl2_mcw9m80000gn/T/ipykernel_32714/3119517783.py:105: FutureWarning: The behavior of DataFrame concatenation with empty or all-NA entries is deprecated. In a future version, this will no longer exclude empty or all-NA columns when determining the result dtypes. To retain the old behavior, exclude the relevant entries before the concat operation.\n",
      "  all_vs_results_df = pd.concat([all_vs_results_df, blast_results], ignore_index=True)\n"
     ]
    },
    {
     "name": "stdout",
     "output_type": "stream",
     "text": [
      "Processing gene: tous_(testes_of_unsual_size)\n"
     ]
    },
    {
     "name": "stderr",
     "output_type": "stream",
     "text": [
      "/var/folders/mj/yrtz1pp53zs_hqrl2_mcw9m80000gn/T/ipykernel_32714/3119517783.py:102: FutureWarning: The behavior of DataFrame concatenation with empty or all-NA entries is deprecated. In a future version, this will no longer exclude empty or all-NA columns when determining the result dtypes. To retain the old behavior, exclude the relevant entries before the concat operation.\n",
      "  self_results_df = pd.concat([self_results_df, blast_results], ignore_index=True)\n",
      "/var/folders/mj/yrtz1pp53zs_hqrl2_mcw9m80000gn/T/ipykernel_32714/3119517783.py:105: FutureWarning: The behavior of DataFrame concatenation with empty or all-NA entries is deprecated. In a future version, this will no longer exclude empty or all-NA columns when determining the result dtypes. To retain the old behavior, exclude the relevant entries before the concat operation.\n",
      "  all_vs_results_df = pd.concat([all_vs_results_df, blast_results], ignore_index=True)\n"
     ]
    },
    {
     "name": "stdout",
     "output_type": "stream",
     "text": [
      "Processing gene: Dnai2_(dynein,_axonemal,_intermediate_chain_2)\n"
     ]
    },
    {
     "name": "stderr",
     "output_type": "stream",
     "text": [
      "/var/folders/mj/yrtz1pp53zs_hqrl2_mcw9m80000gn/T/ipykernel_32714/3119517783.py:102: FutureWarning: The behavior of DataFrame concatenation with empty or all-NA entries is deprecated. In a future version, this will no longer exclude empty or all-NA columns when determining the result dtypes. To retain the old behavior, exclude the relevant entries before the concat operation.\n",
      "  self_results_df = pd.concat([self_results_df, blast_results], ignore_index=True)\n",
      "/var/folders/mj/yrtz1pp53zs_hqrl2_mcw9m80000gn/T/ipykernel_32714/3119517783.py:105: FutureWarning: The behavior of DataFrame concatenation with empty or all-NA entries is deprecated. In a future version, this will no longer exclude empty or all-NA columns when determining the result dtypes. To retain the old behavior, exclude the relevant entries before the concat operation.\n",
      "  all_vs_results_df = pd.concat([all_vs_results_df, blast_results], ignore_index=True)\n"
     ]
    },
    {
     "name": "stdout",
     "output_type": "stream",
     "text": [
      "Processing gene: eys_(eyes_shut)\n"
     ]
    },
    {
     "name": "stderr",
     "output_type": "stream",
     "text": [
      "/var/folders/mj/yrtz1pp53zs_hqrl2_mcw9m80000gn/T/ipykernel_32714/3119517783.py:102: FutureWarning: The behavior of DataFrame concatenation with empty or all-NA entries is deprecated. In a future version, this will no longer exclude empty or all-NA columns when determining the result dtypes. To retain the old behavior, exclude the relevant entries before the concat operation.\n",
      "  self_results_df = pd.concat([self_results_df, blast_results], ignore_index=True)\n",
      "/var/folders/mj/yrtz1pp53zs_hqrl2_mcw9m80000gn/T/ipykernel_32714/3119517783.py:105: FutureWarning: The behavior of DataFrame concatenation with empty or all-NA entries is deprecated. In a future version, this will no longer exclude empty or all-NA columns when determining the result dtypes. To retain the old behavior, exclude the relevant entries before the concat operation.\n",
      "  all_vs_results_df = pd.concat([all_vs_results_df, blast_results], ignore_index=True)\n"
     ]
    },
    {
     "name": "stdout",
     "output_type": "stream",
     "text": [
      "Processing gene: Dhc93AB_(Dynein_heavy_chain_at_93AB)\n"
     ]
    },
    {
     "name": "stderr",
     "output_type": "stream",
     "text": [
      "/var/folders/mj/yrtz1pp53zs_hqrl2_mcw9m80000gn/T/ipykernel_32714/3119517783.py:102: FutureWarning: The behavior of DataFrame concatenation with empty or all-NA entries is deprecated. In a future version, this will no longer exclude empty or all-NA columns when determining the result dtypes. To retain the old behavior, exclude the relevant entries before the concat operation.\n",
      "  self_results_df = pd.concat([self_results_df, blast_results], ignore_index=True)\n",
      "/var/folders/mj/yrtz1pp53zs_hqrl2_mcw9m80000gn/T/ipykernel_32714/3119517783.py:105: FutureWarning: The behavior of DataFrame concatenation with empty or all-NA entries is deprecated. In a future version, this will no longer exclude empty or all-NA columns when determining the result dtypes. To retain the old behavior, exclude the relevant entries before the concat operation.\n",
      "  all_vs_results_df = pd.concat([all_vs_results_df, blast_results], ignore_index=True)\n"
     ]
    },
    {
     "name": "stdout",
     "output_type": "stream",
     "text": [
      "Processing gene: gl_(glass)_\n"
     ]
    },
    {
     "name": "stderr",
     "output_type": "stream",
     "text": [
      "/var/folders/mj/yrtz1pp53zs_hqrl2_mcw9m80000gn/T/ipykernel_32714/3119517783.py:102: FutureWarning: The behavior of DataFrame concatenation with empty or all-NA entries is deprecated. In a future version, this will no longer exclude empty or all-NA columns when determining the result dtypes. To retain the old behavior, exclude the relevant entries before the concat operation.\n",
      "  self_results_df = pd.concat([self_results_df, blast_results], ignore_index=True)\n",
      "/var/folders/mj/yrtz1pp53zs_hqrl2_mcw9m80000gn/T/ipykernel_32714/3119517783.py:105: FutureWarning: The behavior of DataFrame concatenation with empty or all-NA entries is deprecated. In a future version, this will no longer exclude empty or all-NA columns when determining the result dtypes. To retain the old behavior, exclude the relevant entries before the concat operation.\n",
      "  all_vs_results_df = pd.concat([all_vs_results_df, blast_results], ignore_index=True)\n"
     ]
    },
    {
     "name": "stdout",
     "output_type": "stream",
     "text": [
      "Processing gene: rdgA_(retinal_degeneration_A)\n"
     ]
    },
    {
     "name": "stderr",
     "output_type": "stream",
     "text": [
      "/var/folders/mj/yrtz1pp53zs_hqrl2_mcw9m80000gn/T/ipykernel_32714/3119517783.py:102: FutureWarning: The behavior of DataFrame concatenation with empty or all-NA entries is deprecated. In a future version, this will no longer exclude empty or all-NA columns when determining the result dtypes. To retain the old behavior, exclude the relevant entries before the concat operation.\n",
      "  self_results_df = pd.concat([self_results_df, blast_results], ignore_index=True)\n",
      "/var/folders/mj/yrtz1pp53zs_hqrl2_mcw9m80000gn/T/ipykernel_32714/3119517783.py:105: FutureWarning: The behavior of DataFrame concatenation with empty or all-NA entries is deprecated. In a future version, this will no longer exclude empty or all-NA columns when determining the result dtypes. To retain the old behavior, exclude the relevant entries before the concat operation.\n",
      "  all_vs_results_df = pd.concat([all_vs_results_df, blast_results], ignore_index=True)\n"
     ]
    },
    {
     "name": "stdout",
     "output_type": "stream",
     "text": [
      "Processing gene: Arr2_(Arrestin_2)\n"
     ]
    },
    {
     "name": "stderr",
     "output_type": "stream",
     "text": [
      "/var/folders/mj/yrtz1pp53zs_hqrl2_mcw9m80000gn/T/ipykernel_32714/3119517783.py:102: FutureWarning: The behavior of DataFrame concatenation with empty or all-NA entries is deprecated. In a future version, this will no longer exclude empty or all-NA columns when determining the result dtypes. To retain the old behavior, exclude the relevant entries before the concat operation.\n",
      "  self_results_df = pd.concat([self_results_df, blast_results], ignore_index=True)\n",
      "/var/folders/mj/yrtz1pp53zs_hqrl2_mcw9m80000gn/T/ipykernel_32714/3119517783.py:105: FutureWarning: The behavior of DataFrame concatenation with empty or all-NA entries is deprecated. In a future version, this will no longer exclude empty or all-NA columns when determining the result dtypes. To retain the old behavior, exclude the relevant entries before the concat operation.\n",
      "  all_vs_results_df = pd.concat([all_vs_results_df, blast_results], ignore_index=True)\n"
     ]
    },
    {
     "name": "stdout",
     "output_type": "stream",
     "text": [
      "Processing gene: Klp64D_(Kinesin-like_protein_at_64D)\n"
     ]
    },
    {
     "name": "stderr",
     "output_type": "stream",
     "text": [
      "/var/folders/mj/yrtz1pp53zs_hqrl2_mcw9m80000gn/T/ipykernel_32714/3119517783.py:102: FutureWarning: The behavior of DataFrame concatenation with empty or all-NA entries is deprecated. In a future version, this will no longer exclude empty or all-NA columns when determining the result dtypes. To retain the old behavior, exclude the relevant entries before the concat operation.\n",
      "  self_results_df = pd.concat([self_results_df, blast_results], ignore_index=True)\n",
      "/var/folders/mj/yrtz1pp53zs_hqrl2_mcw9m80000gn/T/ipykernel_32714/3119517783.py:105: FutureWarning: The behavior of DataFrame concatenation with empty or all-NA entries is deprecated. In a future version, this will no longer exclude empty or all-NA columns when determining the result dtypes. To retain the old behavior, exclude the relevant entries before the concat operation.\n",
      "  all_vs_results_df = pd.concat([all_vs_results_df, blast_results], ignore_index=True)\n"
     ]
    },
    {
     "name": "stdout",
     "output_type": "stream",
     "text": [
      "Processing gene: btv_(beethoven)\n"
     ]
    },
    {
     "name": "stderr",
     "output_type": "stream",
     "text": [
      "/var/folders/mj/yrtz1pp53zs_hqrl2_mcw9m80000gn/T/ipykernel_32714/3119517783.py:102: FutureWarning: The behavior of DataFrame concatenation with empty or all-NA entries is deprecated. In a future version, this will no longer exclude empty or all-NA columns when determining the result dtypes. To retain the old behavior, exclude the relevant entries before the concat operation.\n",
      "  self_results_df = pd.concat([self_results_df, blast_results], ignore_index=True)\n",
      "/var/folders/mj/yrtz1pp53zs_hqrl2_mcw9m80000gn/T/ipykernel_32714/3119517783.py:105: FutureWarning: The behavior of DataFrame concatenation with empty or all-NA entries is deprecated. In a future version, this will no longer exclude empty or all-NA columns when determining the result dtypes. To retain the old behavior, exclude the relevant entries before the concat operation.\n",
      "  all_vs_results_df = pd.concat([all_vs_results_df, blast_results], ignore_index=True)\n"
     ]
    },
    {
     "name": "stdout",
     "output_type": "stream",
     "text": [
      "Processing gene: trpl_(transient_receptor_potential-like)\n"
     ]
    },
    {
     "name": "stderr",
     "output_type": "stream",
     "text": [
      "/var/folders/mj/yrtz1pp53zs_hqrl2_mcw9m80000gn/T/ipykernel_32714/3119517783.py:102: FutureWarning: The behavior of DataFrame concatenation with empty or all-NA entries is deprecated. In a future version, this will no longer exclude empty or all-NA columns when determining the result dtypes. To retain the old behavior, exclude the relevant entries before the concat operation.\n",
      "  self_results_df = pd.concat([self_results_df, blast_results], ignore_index=True)\n",
      "/var/folders/mj/yrtz1pp53zs_hqrl2_mcw9m80000gn/T/ipykernel_32714/3119517783.py:105: FutureWarning: The behavior of DataFrame concatenation with empty or all-NA entries is deprecated. In a future version, this will no longer exclude empty or all-NA columns when determining the result dtypes. To retain the old behavior, exclude the relevant entries before the concat operation.\n",
      "  all_vs_results_df = pd.concat([all_vs_results_df, blast_results], ignore_index=True)\n"
     ]
    },
    {
     "name": "stdout",
     "output_type": "stream",
     "text": [
      "Processing gene: Dhc1_(Dynein_heavy_chain_1)\n"
     ]
    },
    {
     "name": "stderr",
     "output_type": "stream",
     "text": [
      "/var/folders/mj/yrtz1pp53zs_hqrl2_mcw9m80000gn/T/ipykernel_32714/3119517783.py:102: FutureWarning: The behavior of DataFrame concatenation with empty or all-NA entries is deprecated. In a future version, this will no longer exclude empty or all-NA columns when determining the result dtypes. To retain the old behavior, exclude the relevant entries before the concat operation.\n",
      "  self_results_df = pd.concat([self_results_df, blast_results], ignore_index=True)\n",
      "/var/folders/mj/yrtz1pp53zs_hqrl2_mcw9m80000gn/T/ipykernel_32714/3119517783.py:105: FutureWarning: The behavior of DataFrame concatenation with empty or all-NA entries is deprecated. In a future version, this will no longer exclude empty or all-NA columns when determining the result dtypes. To retain the old behavior, exclude the relevant entries before the concat operation.\n",
      "  all_vs_results_df = pd.concat([all_vs_results_df, blast_results], ignore_index=True)\n"
     ]
    },
    {
     "name": "stdout",
     "output_type": "stream",
     "text": [
      "Processing gene: sei_(seizure)\n"
     ]
    },
    {
     "name": "stderr",
     "output_type": "stream",
     "text": [
      "/var/folders/mj/yrtz1pp53zs_hqrl2_mcw9m80000gn/T/ipykernel_32714/3119517783.py:102: FutureWarning: The behavior of DataFrame concatenation with empty or all-NA entries is deprecated. In a future version, this will no longer exclude empty or all-NA columns when determining the result dtypes. To retain the old behavior, exclude the relevant entries before the concat operation.\n",
      "  self_results_df = pd.concat([self_results_df, blast_results], ignore_index=True)\n",
      "/var/folders/mj/yrtz1pp53zs_hqrl2_mcw9m80000gn/T/ipykernel_32714/3119517783.py:105: FutureWarning: The behavior of DataFrame concatenation with empty or all-NA entries is deprecated. In a future version, this will no longer exclude empty or all-NA columns when determining the result dtypes. To retain the old behavior, exclude the relevant entries before the concat operation.\n",
      "  all_vs_results_df = pd.concat([all_vs_results_df, blast_results], ignore_index=True)\n"
     ]
    },
    {
     "name": "stdout",
     "output_type": "stream",
     "text": [
      "Processing gene: scaf_(scarface)\n"
     ]
    },
    {
     "name": "stderr",
     "output_type": "stream",
     "text": [
      "/var/folders/mj/yrtz1pp53zs_hqrl2_mcw9m80000gn/T/ipykernel_32714/3119517783.py:102: FutureWarning: The behavior of DataFrame concatenation with empty or all-NA entries is deprecated. In a future version, this will no longer exclude empty or all-NA columns when determining the result dtypes. To retain the old behavior, exclude the relevant entries before the concat operation.\n",
      "  self_results_df = pd.concat([self_results_df, blast_results], ignore_index=True)\n",
      "/var/folders/mj/yrtz1pp53zs_hqrl2_mcw9m80000gn/T/ipykernel_32714/3119517783.py:105: FutureWarning: The behavior of DataFrame concatenation with empty or all-NA entries is deprecated. In a future version, this will no longer exclude empty or all-NA columns when determining the result dtypes. To retain the old behavior, exclude the relevant entries before the concat operation.\n",
      "  all_vs_results_df = pd.concat([all_vs_results_df, blast_results], ignore_index=True)\n"
     ]
    },
    {
     "name": "stdout",
     "output_type": "stream",
     "text": [
      "\u001b[H\u001b[2JFailed BLAST Commands:\n",
      "Input Species: Drosophila_melanogaster, Target Species: Drosophila_melanogaster, Error: Database not found\n"
     ]
    }
   ],
   "source": [
    "import os\n",
    "import pandas as pd\n",
    "import subprocess\n",
    "from io import StringIO\n",
    "\n",
    "# Paths and parameters\n",
    "main_gene_folder = \"Protein_FASTA_Files_grouped\"        # Main folder containing gene subfolders\n",
    "db_folder = \"blast_databases\"                  # Root folder for BLAST databases\n",
    "evalue = 0.001                                 # E-value threshold for BLAST\n",
    "max_hits = 9999                                # Max hits to retain from BLAST results (we want all)\n",
    "\n",
    "# Function to sanitize names\n",
    "def sanitize_name(name):\n",
    "    \"\"\"Remove special characters and spaces from a string.\"\"\"\n",
    "    return \"\".join(c for c in name if c.isalnum() or c == \"_\")\n",
    "\n",
    "# Function to clear the console (works for most environments)\n",
    "def clear_console():\n",
    "    os.system('cls' if os.name == 'nt' else 'clear')\n",
    "\n",
    "# Function to run BLAST with separated self-comparison and all-vs-others\n",
    "def run_cross_species_blast(main_gene_folder, db_folder, evalue, max_hits):\n",
    "    failed_blasts = []  # List to track failed BLAST commands\n",
    "    \n",
    "    # Prompt the user to enter the input species manually\n",
    "    input_species = input(\"Enter the species to use as input for BLAST comparisons, pleas use _ as spaces e.g Drosophila_melanogaster: \").strip()\n",
    "    \n",
    "    # Create the root output folder named based on the selected species\n",
    "    output_root_folder = f\"blast_results_{sanitize_name(input_species)}_vs_all\"\n",
    "    os.makedirs(output_root_folder, exist_ok=True)\n",
    "\n",
    "    # Loop through each gene folder\n",
    "    for gene_folder in os.listdir(main_gene_folder):\n",
    "        gene_path = os.path.join(main_gene_folder, gene_folder)\n",
    "        if os.path.isdir(gene_path):  # Check if it's a directory\n",
    "            print(f\"Processing gene: {gene_folder}\")\n",
    "            \n",
    "            # Iterate over species within the gene folder\n",
    "            species_files = [f for f in os.listdir(gene_path) if f.endswith(\"_combined.fasta\")]\n",
    "            \n",
    "            if f\"{input_species}_combined.fasta\" not in species_files:\n",
    "                print(f\"Species '{input_species}' not found in gene folder '{gene_folder}'. Skipping...\")\n",
    "                continue\n",
    "            \n",
    "            # Create a dedicated output folder for the current gene\n",
    "            gene_output_folder = os.path.join(output_root_folder, gene_folder)\n",
    "            os.makedirs(gene_output_folder, exist_ok=True)\n",
    "            \n",
    "            input_species_file = f\"{input_species}_combined.fasta\"\n",
    "            query_path = os.path.join(gene_path, input_species_file)\n",
    "\n",
    "            # Prepare CSV files for self-comparison and species-vs-others\n",
    "            self_comparison_csv = os.path.join(gene_output_folder, f\"{input_species}_self_comparison.csv\")\n",
    "            all_vs_csv = os.path.join(gene_output_folder, f\"{input_species}_vs_all.csv\")\n",
    "            self_results_df = pd.DataFrame(columns=[\n",
    "                \"Query ID\", \"Subject ID\", \"% Identity\", \"Alignment Length\", \"Mismatches\", \n",
    "                \"Gap Opens\", \"Query Start\", \"Query End\", \"Subject Start\", \"Subject End\", \n",
    "                \"E-value\", \"Bit Score\"\n",
    "            ])\n",
    "            all_vs_results_df = pd.DataFrame(columns=[\n",
    "                \"Query ID\", \"Subject ID\", \"% Identity\", \"Alignment Length\", \"Mismatches\", \n",
    "                \"Gap Opens\", \"Query Start\", \"Query End\", \"Subject Start\", \"Subject End\", \n",
    "                \"E-value\", \"Bit Score\", \"Target Species\"\n",
    "            ])\n",
    "            \n",
    "            # BLAST the input species against all others\n",
    "            for target_file in species_files:\n",
    "                target_species = target_file.split(\"_combined\")[0]\n",
    "                \n",
    "                # Construct the BLAST database name\n",
    "                target_db_folder = os.path.join(db_folder, gene_folder)\n",
    "                target_db = os.path.join(target_db_folder, f\"{target_species}_combined\")\n",
    "                \n",
    "                # Check if the BLAST database exists before running\n",
    "                if not os.path.exists(f\"{target_db}.phr\") or not os.path.exists(f\"{target_db}.pin\") or not os.path.exists(f\"{target_db}.psq\"):\n",
    "                    failed_blasts.append((input_species, target_species, \"Database not found\"))\n",
    "                    continue\n",
    "                \n",
    "                # Run BLASTp\n",
    "                blast_cmd = [\n",
    "                    \"blastp\",\n",
    "                    \"-query\", query_path,\n",
    "                    \"-db\", target_db,\n",
    "                    \"-evalue\", str(evalue),\n",
    "                    \"-outfmt\", \"6\",\n",
    "                    \"-max_target_seqs\", str(max_hits)\n",
    "                ]\n",
    "                try:\n",
    "                    result = subprocess.run(blast_cmd, capture_output=True, text=True, check=True)\n",
    "                    # Process BLAST results\n",
    "                    if result.stdout:\n",
    "                        blast_results = pd.read_csv(\n",
    "                            StringIO(result.stdout), \n",
    "                            sep=\"\\t\", \n",
    "                            names=[\n",
    "                                \"Query ID\", \"Subject ID\", \"% Identity\", \"Alignment Length\", \"Mismatches\", \n",
    "                                \"Gap Opens\", \"Query Start\", \"Query End\", \"Subject Start\", \"Subject End\", \n",
    "                                \"E-value\", \"Bit Score\"\n",
    "                            ]\n",
    "                        )\n",
    "                        if input_species == target_species:  # Self-comparison\n",
    "                            self_results_df = pd.concat([self_results_df, blast_results], ignore_index=True)\n",
    "                        else:  # Other species\n",
    "                            blast_results[\"Target Species\"] = target_species\n",
    "                            all_vs_results_df = pd.concat([all_vs_results_df, blast_results], ignore_index=True)\n",
    "                except subprocess.CalledProcessError as e:\n",
    "                    failed_blasts.append((input_species, target_species, str(e)))\n",
    "            \n",
    "            # Save results to CSV files\n",
    "            self_results_df.to_csv(self_comparison_csv, index=False)\n",
    "            all_vs_results_df.to_csv(all_vs_csv, index=False)\n",
    "    \n",
    "    # Clear console before printing failures\n",
    "    clear_console()\n",
    "    \n",
    "    # Print any failed BLAST commands\n",
    "    if failed_blasts:\n",
    "        print(\"Failed BLAST Commands:\")\n",
    "        for input_species, target_species, error in failed_blasts:\n",
    "            print(f\"Input Species: {input_species}, Target Species: {target_species}, Error: {error}\")\n",
    "    else:\n",
    "        print(\"All BLAST commands completed successfully!\")\n",
    "\n",
    "# Run the function\n",
    "run_cross_species_blast(main_gene_folder, db_folder, evalue, max_hits)\n"
   ]
  },
  {
   "cell_type": "markdown",
   "metadata": {},
   "source": [
    "Loop for all genes so it is all vs all"
   ]
  },
  {
   "cell_type": "code",
   "execution_count": null,
   "metadata": {},
   "outputs": [
    {
     "name": "stdout",
     "output_type": "stream",
     "text": [
      "Processing gene: sosie\n",
      "Processing gene: nompB_(no_mechanoreceptor_potential_B)\n",
      "Processing gene: bw_(brown)\n",
      "Processing gene: Rh6_(Rhodopsin_6)\n",
      "Processing gene: Ir75a_(Ionotropic_receptor_75a)\n",
      "Processing gene: stops_(slow_termination_of_phototransduction)\n",
      "Processing gene: tko_(technical_knockout)\n",
      "Processing gene: dia_(diaphanous)\n",
      "Processing gene: Rh5_(Rhodopsin_5)\n",
      "Processing gene: nompC_(no_mechanoreceptor_potential_C)\n",
      "Processing gene: Tmhs_(Tetraspan_membrane_protein_in_hair_cell_stereocilia)\n",
      "Processing gene: DCX-EMAP_(Doublecortin-domain-containing_echinoderm-microtubule-associated_protein)\n",
      "Processing gene: CG8086\n",
      "Processing gene: iav_(inactive)\n",
      "Processing gene: f_(forked)\n",
      "Processing gene: Ank2_(Ankyrin_2)\n",
      "Processing gene: ck_(crinkled)_\n",
      "Processing gene: Cam_(Calmodulin)\n",
      "Processing gene: trp_(transient_receptor_potential)\n",
      "Processing gene: nompA_(no_mechanoreceptor_potential_A)\n",
      "Processing gene: tilB_(touch_insensitive_larva_B)\n",
      "Processing gene: plp_(pericentrin-like_protein)\n",
      "Processing gene: wtrw_(water_witch)\n",
      "Processing gene: Eb1\n",
      "Processing gene: rempA_(reduced_mechanoreceptor_potential_A)\n",
      "Processing gene: Zmynd10_(Zinc_finger_MYND-type_containing_10)\n",
      "Processing gene: Kap3_(Kinesin_associated_protein_3)\n",
      "Processing gene: ct_(cut)\n",
      "Processing gene: Rfx\n",
      "Processing gene: CG14921\n",
      "Processing gene: CG9313\n",
      "Processing gene: Dhc36C_(Dynein_heavy_chain_at_36C)\n",
      "Processing gene: Bmcp\n",
      "Processing gene: Test1234545\n",
      "Processing gene: ato_(atonal)\n",
      "Processing gene: tous_(testes_of_unsual_size)\n",
      "Processing gene: Dnai2_(dynein,_axonemal,_intermediate_chain_2)\n",
      "Processing gene: eys_(eyes_shut)\n",
      "Processing gene: Dhc93AB_(Dynein_heavy_chain_at_93AB)\n",
      "Processing gene: gl_(glass)_\n",
      "Processing gene: rdgA_(retinal_degeneration_A)\n",
      "Processing gene: Arr2_(Arrestin_2)\n",
      "Processing gene: Klp64D_(Kinesin-like_protein_at_64D)\n",
      "Processing gene: btv_(beethoven)\n",
      "Processing gene: trpl_(transient_receptor_potential-like)\n",
      "Processing gene: Dhc1_(Dynein_heavy_chain_1)\n",
      "Processing gene: sei_(seizure)\n",
      "Processing gene: scaf_(scarface)\n",
      "\u001b[H\u001b[2JAll BLAST commands completed successfully!\n"
     ]
    }
   ],
   "source": [
    "import os\n",
    "import pandas as pd\n",
    "import subprocess\n",
    "from io import StringIO\n",
    "\n",
    "# Paths and parameters\n",
    "main_gene_folder = \"Protein_FASTA_Files\"        # Main folder containing gene subfolders\n",
    "db_folder = \"blast_databases\"                  # Root folder for BLAST databases\n",
    "evalue = 0.001                                  # E-value threshold for BLAST\n",
    "max_hits = 9999                                 # Max hits to retain from BLAST results(in our case qwe wanted all)\n",
    "output_folder = \"cross_species_blast_results\"  # Folder to store all results\n",
    "master_csv_file = os.path.join(output_folder, \"master_blast_results.csv\")  # Master results file\n",
    "\n",
    "# Create output folder\n",
    "os.makedirs(output_folder, exist_ok=True)\n",
    "\n",
    "# Function to sanitize names\n",
    "def sanitize_name(name):\n",
    "    \"\"\"Remove special characters and spaces from a string.\"\"\"\n",
    "    return \"\".join(c for c in name if c.isalnum() or c == \"_\")\n",
    "\n",
    "# Function to clear the console (works for most environments)\n",
    "def clear_console():\n",
    "    os.system('cls' if os.name == 'nt' else 'clear')\n",
    "\n",
    "# Function to run BLAST for each species against all other species\n",
    "def run_cross_species_blast(main_gene_folder, db_folder, output_folder, evalue, max_hits):\n",
    "    master_df = pd.DataFrame(columns=[\n",
    "        \"Gene Name\", \"Query Species\", \"Target Species\", \"Query ID\", \"Subject ID\", \n",
    "        \"% Identity\", \"Alignment Length\", \"Mismatches\", \"Gap Opens\", \"Query Start\", \n",
    "        \"Query End\", \"Subject Start\", \"Subject End\", \"E-value\", \"Bit Score\"\n",
    "    ])\n",
    "    failed_blasts = []  # List to track failed BLAST commands\n",
    "    \n",
    "    # Loop through each gene folder\n",
    "    for gene_folder in os.listdir(main_gene_folder):\n",
    "        gene_path = os.path.join(main_gene_folder, gene_folder)\n",
    "        if os.path.isdir(gene_path):  # Check if it's a directory\n",
    "            print(f\"Processing gene: {gene_folder}\")\n",
    "            \n",
    "            # Create a subfolder for the current gene in the output folder\n",
    "            gene_output_folder = os.path.join(output_folder, gene_folder)\n",
    "            os.makedirs(gene_output_folder, exist_ok=True)\n",
    "            \n",
    "            # Iterate over species within the gene folder\n",
    "            species_files = [f for f in os.listdir(gene_path) if f.endswith(\"_combined.fasta\")]\n",
    "            for query_file in species_files:\n",
    "                query_species = query_file.split(\"_combined\")[0]\n",
    "                query_path = os.path.join(gene_path, query_file)\n",
    "                \n",
    "                # Prepare an output CSV for the current query species\n",
    "                query_output_csv = os.path.join(gene_output_folder, f\"{query_species}_vs_all.csv\")\n",
    "                query_results_df = pd.DataFrame(columns=[\n",
    "                    \"Query ID\", \"Subject ID\", \"% Identity\", \"Alignment Length\", \"Mismatches\", \n",
    "                    \"Gap Opens\", \"Query Start\", \"Query End\", \"Subject Start\", \"Subject End\", \n",
    "                    \"E-value\", \"Bit Score\", \"Target Species\"\n",
    "                ])\n",
    "                \n",
    "                # BLAST the query species against all other species\n",
    "                for target_file in species_files:\n",
    "                    target_species = target_file.split(\"_combined\")[0]\n",
    "                    if query_species != target_species:  # Avoid self-comparison\n",
    "                        # Construct the BLAST database name based on the new format\n",
    "                        target_db_folder = os.path.join(db_folder, gene_folder)\n",
    "                        target_db = os.path.join(target_db_folder, f\"{target_species}_combined\")\n",
    "                        \n",
    "                        # Check if the BLAST database exists before running\n",
    "                        if not os.path.exists(f\"{target_db}.phr\") or not os.path.exists(f\"{target_db}.pin\") or not os.path.exists(f\"{target_db}.psq\"):\n",
    "                            failed_blasts.append((query_species, target_species, \"Database not found\"))\n",
    "                            continue\n",
    "                        \n",
    "                        # Run BLASTp\n",
    "                        blast_cmd = [\n",
    "                            \"blastp\",\n",
    "                            \"-query\", query_path,\n",
    "                            \"-db\", target_db,\n",
    "                            \"-evalue\", str(evalue),\n",
    "                            \"-outfmt\", \"6\",\n",
    "                            \"-max_target_seqs\", str(max_hits)\n",
    "                        ]\n",
    "                        try:\n",
    "                            subprocess.run(blast_cmd, capture_output=True, text=True, check=True)\n",
    "                        except subprocess.CalledProcessError as e:\n",
    "                            failed_blasts.append((query_species, target_species, str(e)))\n",
    "                \n",
    "                # Append to master DataFrame\n",
    "                query_results_df[\"Gene Name\"] = gene_folder\n",
    "                query_results_df[\"Query Species\"] = query_species\n",
    "                master_df = pd.concat([master_df, query_results_df], ignore_index=True)\n",
    "    \n",
    "    # Save master CSV\n",
    "    master_df.to_csv(master_csv_file, index=False)\n",
    "    \n",
    "    # Clear console before printing failures\n",
    "    clear_console()\n",
    "    \n",
    "    # Print any failed BLAST commands\n",
    "    if failed_blasts:\n",
    "        print(\"Failed BLAST Commands:\")\n",
    "        for query_species, target_species, error in failed_blasts:\n",
    "            print(f\"Query Species: {query_species}, Target Species: {target_species}, Error: {error}\")\n",
    "    else:\n",
    "        print(\"All BLAST commands completed successfully!\")\n",
    "\n",
    "# Run the function\n",
    "run_cross_species_blast(main_gene_folder, db_folder, output_folder, evalue, max_hits)\n"
   ]
  }
 ],
 "metadata": {
  "kernelspec": {
   "display_name": "P_env",
   "language": "python",
   "name": "python3"
  },
  "language_info": {
   "codemirror_mode": {
    "name": "ipython",
    "version": 3
   },
   "file_extension": ".py",
   "mimetype": "text/x-python",
   "name": "python",
   "nbconvert_exporter": "python",
   "pygments_lexer": "ipython3",
   "version": "3.10.15"
  }
 },
 "nbformat": 4,
 "nbformat_minor": 2
}
